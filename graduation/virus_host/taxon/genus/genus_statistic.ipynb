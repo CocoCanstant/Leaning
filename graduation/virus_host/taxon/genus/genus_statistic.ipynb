{
 "cells": [
  {
   "cell_type": "code",
   "execution_count": 1,
   "metadata": {},
   "outputs": [],
   "source": [
    "import pandas as pd\n",
    "\n",
    "passed_data = []\n",
    "data_procession = []\n",
    "with open('/home/ouconstand/data/Virus_Host/Virion.csv','r', encoding='ISO-8859-1') as f:\n",
    "    for line in f.read().splitlines():\n",
    "        data = line.split('\\t')\n",
    "        if len(data) < 34:\n",
    "            passed_data.append(data)\n",
    "        else:\n",
    "            if data[7] == '' or data[2] == '' or data[3] == '': # delete non_family or non_virustaxid information data\n",
    "                pass\n",
    "            else:\n",
    "                data_procession.append(data)\n",
    "\n",
    "data = pd.DataFrame(data_procession[1:-1],columns=data_procession[0])"
   ]
  },
  {
   "cell_type": "code",
   "execution_count": 2,
   "metadata": {},
   "outputs": [
    {
     "data": {
      "text/plain": [
       "(474422, 34)"
      ]
     },
     "execution_count": 2,
     "metadata": {},
     "output_type": "execute_result"
    }
   ],
   "source": [
    "data.shape"
   ]
  },
  {
   "cell_type": "code",
   "execution_count": 5,
   "metadata": {},
   "outputs": [],
   "source": [
    "coro = data[data['VirusFamily'] == 'coronaviridae']"
   ]
  },
  {
   "cell_type": "code",
   "execution_count": 6,
   "metadata": {},
   "outputs": [
    {
     "data": {
      "text/plain": [
       "(39699, 34)"
      ]
     },
     "execution_count": 6,
     "metadata": {},
     "output_type": "execute_result"
    }
   ],
   "source": [
    "coro.shape"
   ]
  },
  {
   "cell_type": "code",
   "execution_count": 15,
   "metadata": {},
   "outputs": [
    {
     "data": {
      "text/plain": [
       "262"
      ]
     },
     "execution_count": 15,
     "metadata": {},
     "output_type": "execute_result"
    }
   ],
   "source": [
    "len(set(coro['HostGenus']))"
   ]
  },
  {
   "cell_type": "code",
   "execution_count": 16,
   "metadata": {},
   "outputs": [
    {
     "data": {
      "text/plain": [
       "87"
      ]
     },
     "execution_count": 16,
     "metadata": {},
     "output_type": "execute_result"
    }
   ],
   "source": [
    "len(set(coro['HostFamily']))"
   ]
  },
  {
   "cell_type": "code",
   "execution_count": 17,
   "metadata": {},
   "outputs": [
    {
     "data": {
      "text/plain": [
       "26"
      ]
     },
     "execution_count": 17,
     "metadata": {},
     "output_type": "execute_result"
    }
   ],
   "source": [
    "len(set(coro['HostOrder']))"
   ]
  },
  {
   "cell_type": "code",
   "execution_count": 18,
   "metadata": {},
   "outputs": [
    {
     "data": {
      "text/plain": [
       "4"
      ]
     },
     "execution_count": 18,
     "metadata": {},
     "output_type": "execute_result"
    }
   ],
   "source": [
    "len(set(coro['HostClass']))"
   ]
  },
  {
   "cell_type": "code",
   "execution_count": 54,
   "metadata": {},
   "outputs": [
    {
     "data": {
      "text/plain": [
       "1013"
      ]
     },
     "execution_count": 54,
     "metadata": {},
     "output_type": "execute_result"
    }
   ],
   "source": [
    "len(set(coro['VirusTaxID']))"
   ]
  },
  {
   "cell_type": "code",
   "execution_count": 50,
   "metadata": {},
   "outputs": [],
   "source": [
    "final_data = pd.DataFrame(columns=['HostGenus', 'Length_acce', 'Accession'])\n",
    "\n",
    "n = 0\n",
    "for hclass, vacce in coro.groupby(['HostGenus'])['NCBIAccession']:\n",
    "    vacce = [acce for acce in list(vacce) if acce != '']\n",
    "    final_data.loc[n] = [hclass, len(vacce), vacce]\n",
    "    n += 1"
   ]
  },
  {
   "cell_type": "code",
   "execution_count": 49,
   "metadata": {},
   "outputs": [
    {
     "data": {
      "text/html": [
       "<div>\n",
       "<style scoped>\n",
       "    .dataframe tbody tr th:only-of-type {\n",
       "        vertical-align: middle;\n",
       "    }\n",
       "\n",
       "    .dataframe tbody tr th {\n",
       "        vertical-align: top;\n",
       "    }\n",
       "\n",
       "    .dataframe thead th {\n",
       "        text-align: right;\n",
       "    }\n",
       "</style>\n",
       "<table border=\"1\" class=\"dataframe\">\n",
       "  <thead>\n",
       "    <tr style=\"text-align: right;\">\n",
       "      <th></th>\n",
       "      <th>HostClass</th>\n",
       "      <th>Length_acce</th>\n",
       "      <th>Accession</th>\n",
       "    </tr>\n",
       "  </thead>\n",
       "  <tbody>\n",
       "    <tr>\n",
       "      <th>0</th>\n",
       "      <td>acerodon</td>\n",
       "      <td>1</td>\n",
       "      <td>[MT064734]</td>\n",
       "    </tr>\n",
       "    <tr>\n",
       "      <th>1</th>\n",
       "      <td>acinonyx</td>\n",
       "      <td>0</td>\n",
       "      <td>[]</td>\n",
       "    </tr>\n",
       "    <tr>\n",
       "      <th>2</th>\n",
       "      <td>aethomys</td>\n",
       "      <td>1</td>\n",
       "      <td>[MK569462.1]</td>\n",
       "    </tr>\n",
       "    <tr>\n",
       "      <th>3</th>\n",
       "      <td>afronycteris</td>\n",
       "      <td>2</td>\n",
       "      <td>[MG310231.1, MG252875.1]</td>\n",
       "    </tr>\n",
       "    <tr>\n",
       "      <th>4</th>\n",
       "      <td>agamia</td>\n",
       "      <td>1</td>\n",
       "      <td>[GU323504.1]</td>\n",
       "    </tr>\n",
       "    <tr>\n",
       "      <th>...</th>\n",
       "      <td>...</td>\n",
       "      <td>...</td>\n",
       "      <td>...</td>\n",
       "    </tr>\n",
       "    <tr>\n",
       "      <th>257</th>\n",
       "      <td>ursus</td>\n",
       "      <td>0</td>\n",
       "      <td>[]</td>\n",
       "    </tr>\n",
       "    <tr>\n",
       "      <th>258</th>\n",
       "      <td>vespertilio</td>\n",
       "      <td>9</td>\n",
       "      <td>[MT818221.1, MN312754.1, MN312755.1, MN312756....</td>\n",
       "    </tr>\n",
       "    <tr>\n",
       "      <th>259</th>\n",
       "      <td>vicugna</td>\n",
       "      <td>11</td>\n",
       "      <td>[KP893231.1, KP893232.1, KP893233.1, KP893234....</td>\n",
       "    </tr>\n",
       "    <tr>\n",
       "      <th>260</th>\n",
       "      <td>vulpes</td>\n",
       "      <td>0</td>\n",
       "      <td>[]</td>\n",
       "    </tr>\n",
       "    <tr>\n",
       "      <th>261</th>\n",
       "      <td>zalophus</td>\n",
       "      <td>0</td>\n",
       "      <td>[]</td>\n",
       "    </tr>\n",
       "  </tbody>\n",
       "</table>\n",
       "<p>262 rows × 3 columns</p>\n",
       "</div>"
      ],
      "text/plain": [
       "        HostClass  Length_acce  \\\n",
       "0        acerodon            1   \n",
       "1        acinonyx            0   \n",
       "2        aethomys            1   \n",
       "3    afronycteris            2   \n",
       "4          agamia            1   \n",
       "..            ...          ...   \n",
       "257         ursus            0   \n",
       "258   vespertilio            9   \n",
       "259       vicugna           11   \n",
       "260        vulpes            0   \n",
       "261      zalophus            0   \n",
       "\n",
       "                                             Accession  \n",
       "0                                           [MT064734]  \n",
       "1                                                   []  \n",
       "2                                         [MK569462.1]  \n",
       "3                             [MG310231.1, MG252875.1]  \n",
       "4                                         [GU323504.1]  \n",
       "..                                                 ...  \n",
       "257                                                 []  \n",
       "258  [MT818221.1, MN312754.1, MN312755.1, MN312756....  \n",
       "259  [KP893231.1, KP893232.1, KP893233.1, KP893234....  \n",
       "260                                                 []  \n",
       "261                                                 []  \n",
       "\n",
       "[262 rows x 3 columns]"
      ]
     },
     "execution_count": 49,
     "metadata": {},
     "output_type": "execute_result"
    }
   ],
   "source": [
    "final_data"
   ]
  },
  {
   "cell_type": "code",
   "execution_count": null,
   "metadata": {},
   "outputs": [],
   "source": []
  }
 ],
 "metadata": {
  "kernelspec": {
   "display_name": "base",
   "language": "python",
   "name": "python3"
  },
  "language_info": {
   "codemirror_mode": {
    "name": "ipython",
    "version": 3
   },
   "file_extension": ".py",
   "mimetype": "text/x-python",
   "name": "python",
   "nbconvert_exporter": "python",
   "pygments_lexer": "ipython3",
   "version": "3.8.8"
  },
  "orig_nbformat": 4,
  "vscode": {
   "interpreter": {
    "hash": "eace1a3d2d18dcb98353cfeb529f20792ec64dcc10ba0bdd358326e3f660811b"
   }
  }
 },
 "nbformat": 4,
 "nbformat_minor": 2
}
