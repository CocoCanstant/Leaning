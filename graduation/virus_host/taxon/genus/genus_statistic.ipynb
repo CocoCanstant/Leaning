{
 "cells": [
  {
   "cell_type": "code",
   "execution_count": 8,
   "metadata": {},
   "outputs": [],
   "source": [
    "import pandas as pd\n",
    "\n",
    "passed_data = []\n",
    "data_procession = []\n",
    "with open('/home/ouconstand/data/Virus_Host/Virion.csv','r', encoding='ISO-8859-1') as f:\n",
    "    for line in f.read().splitlines():\n",
    "        data = line.split('\\t')\n",
    "        if len(data) < 34:\n",
    "            passed_data.append(data)\n",
    "        else:\n",
    "            if data[7] == '' or data[2] == '' or data[3] == '' or data[33] == '': # delete non_family or non_virustaxid information data\n",
    "                pass\n",
    "            else:\n",
    "                data_procession.append(data)\n",
    "\n",
    "data = pd.DataFrame(data_procession[1:-1],columns=data_procession[0])"
   ]
  },
  {
   "cell_type": "code",
   "execution_count": 9,
   "metadata": {},
   "outputs": [
    {
     "data": {
      "text/plain": [
       "(420174, 34)"
      ]
     },
     "execution_count": 9,
     "metadata": {},
     "output_type": "execute_result"
    }
   ],
   "source": [
    "data.shape"
   ]
  },
  {
   "cell_type": "code",
   "execution_count": 10,
   "metadata": {},
   "outputs": [],
   "source": [
    "coro = data[data['VirusFamily'] == 'coronaviridae']"
   ]
  },
  {
   "cell_type": "code",
   "execution_count": 11,
   "metadata": {},
   "outputs": [
    {
     "data": {
      "text/plain": [
       "(35611, 34)"
      ]
     },
     "execution_count": 11,
     "metadata": {},
     "output_type": "execute_result"
    }
   ],
   "source": [
    "coro.shape"
   ]
  },
  {
   "cell_type": "code",
   "execution_count": 12,
   "metadata": {},
   "outputs": [
    {
     "data": {
      "text/plain": [
       "204"
      ]
     },
     "execution_count": 12,
     "metadata": {},
     "output_type": "execute_result"
    }
   ],
   "source": [
    "len(set(coro['HostGenus']))"
   ]
  },
  {
   "cell_type": "code",
   "execution_count": 13,
   "metadata": {},
   "outputs": [
    {
     "data": {
      "text/plain": [
       "73"
      ]
     },
     "execution_count": 13,
     "metadata": {},
     "output_type": "execute_result"
    }
   ],
   "source": [
    "len(set(coro['HostFamily']))"
   ]
  },
  {
   "cell_type": "code",
   "execution_count": 14,
   "metadata": {},
   "outputs": [
    {
     "data": {
      "text/plain": [
       "24"
      ]
     },
     "execution_count": 14,
     "metadata": {},
     "output_type": "execute_result"
    }
   ],
   "source": [
    "len(set(coro['HostOrder']))"
   ]
  },
  {
   "cell_type": "code",
   "execution_count": 15,
   "metadata": {},
   "outputs": [
    {
     "data": {
      "text/plain": [
       "4"
      ]
     },
     "execution_count": 15,
     "metadata": {},
     "output_type": "execute_result"
    }
   ],
   "source": [
    "len(set(coro['HostClass']))"
   ]
  },
  {
   "cell_type": "code",
   "execution_count": 16,
   "metadata": {},
   "outputs": [
    {
     "data": {
      "text/plain": [
       "953"
      ]
     },
     "execution_count": 16,
     "metadata": {},
     "output_type": "execute_result"
    }
   ],
   "source": [
    "len(set(coro['VirusTaxID']))"
   ]
  },
  {
   "cell_type": "code",
   "execution_count": 17,
   "metadata": {},
   "outputs": [],
   "source": [
    "final_data = pd.DataFrame(columns=['HostGenus', 'Length_acce', 'Accession'])\n",
    "\n",
    "n = 0\n",
    "for hclass, vacce in coro.groupby(['HostGenus'])['NCBIAccession']:\n",
    "    vacce = [acce.strip(' ') for acce in ','.join(list(vacce)).split(',') if acce != '']\n",
    "    final_data.loc[n] = [hclass, len(vacce),vacce]\n",
    "    n += 1"
   ]
  },
  {
   "cell_type": "code",
   "execution_count": 18,
   "metadata": {},
   "outputs": [
    {
     "data": {
      "text/html": [
       "<div>\n",
       "<style scoped>\n",
       "    .dataframe tbody tr th:only-of-type {\n",
       "        vertical-align: middle;\n",
       "    }\n",
       "\n",
       "    .dataframe tbody tr th {\n",
       "        vertical-align: top;\n",
       "    }\n",
       "\n",
       "    .dataframe thead th {\n",
       "        text-align: right;\n",
       "    }\n",
       "</style>\n",
       "<table border=\"1\" class=\"dataframe\">\n",
       "  <thead>\n",
       "    <tr style=\"text-align: right;\">\n",
       "      <th></th>\n",
       "      <th>HostGenus</th>\n",
       "      <th>Length_acce</th>\n",
       "      <th>Accession</th>\n",
       "    </tr>\n",
       "  </thead>\n",
       "  <tbody>\n",
       "    <tr>\n",
       "      <th>0</th>\n",
       "      <td>acerodon</td>\n",
       "      <td>1</td>\n",
       "      <td>[MT064734]</td>\n",
       "    </tr>\n",
       "    <tr>\n",
       "      <th>1</th>\n",
       "      <td>aethomys</td>\n",
       "      <td>1</td>\n",
       "      <td>[MK569462.1]</td>\n",
       "    </tr>\n",
       "    <tr>\n",
       "      <th>2</th>\n",
       "      <td>afronycteris</td>\n",
       "      <td>2</td>\n",
       "      <td>[MG310231.1, MG252875.1]</td>\n",
       "    </tr>\n",
       "    <tr>\n",
       "      <th>3</th>\n",
       "      <td>agamia</td>\n",
       "      <td>1</td>\n",
       "      <td>[GU323504.1]</td>\n",
       "    </tr>\n",
       "    <tr>\n",
       "      <th>4</th>\n",
       "      <td>ailuropoda</td>\n",
       "      <td>6</td>\n",
       "      <td>[38098849, 38098851, 38098853, AY436635.1, AY4...</td>\n",
       "    </tr>\n",
       "    <tr>\n",
       "      <th>...</th>\n",
       "      <td>...</td>\n",
       "      <td>...</td>\n",
       "      <td>...</td>\n",
       "    </tr>\n",
       "    <tr>\n",
       "      <th>199</th>\n",
       "      <td>turdus</td>\n",
       "      <td>4</td>\n",
       "      <td>[211907050, 212681378, NC_011549.1, FJ376621.1]</td>\n",
       "    </tr>\n",
       "    <tr>\n",
       "      <th>200</th>\n",
       "      <td>tursiops</td>\n",
       "      <td>4</td>\n",
       "      <td>[MN690608.1, MN690609.1, MN690610.1, MN690611.1]</td>\n",
       "    </tr>\n",
       "    <tr>\n",
       "      <th>201</th>\n",
       "      <td>tylonycteris</td>\n",
       "      <td>132</td>\n",
       "      <td>[KY783855.1, KY783856.1, KY783857.1, KY783858....</td>\n",
       "    </tr>\n",
       "    <tr>\n",
       "      <th>202</th>\n",
       "      <td>vespertilio</td>\n",
       "      <td>55</td>\n",
       "      <td>[MT818221.1, MN312754.1, MN312755.1, MN312756....</td>\n",
       "    </tr>\n",
       "    <tr>\n",
       "      <th>203</th>\n",
       "      <td>vicugna</td>\n",
       "      <td>30</td>\n",
       "      <td>[KP893231.1, KP893232.1, KP893233.1, KP893234....</td>\n",
       "    </tr>\n",
       "  </tbody>\n",
       "</table>\n",
       "<p>204 rows × 3 columns</p>\n",
       "</div>"
      ],
      "text/plain": [
       "        HostGenus  Length_acce  \\\n",
       "0        acerodon            1   \n",
       "1        aethomys            1   \n",
       "2    afronycteris            2   \n",
       "3          agamia            1   \n",
       "4      ailuropoda            6   \n",
       "..            ...          ...   \n",
       "199        turdus            4   \n",
       "200      tursiops            4   \n",
       "201  tylonycteris          132   \n",
       "202   vespertilio           55   \n",
       "203       vicugna           30   \n",
       "\n",
       "                                             Accession  \n",
       "0                                           [MT064734]  \n",
       "1                                         [MK569462.1]  \n",
       "2                             [MG310231.1, MG252875.1]  \n",
       "3                                         [GU323504.1]  \n",
       "4    [38098849, 38098851, 38098853, AY436635.1, AY4...  \n",
       "..                                                 ...  \n",
       "199    [211907050, 212681378, NC_011549.1, FJ376621.1]  \n",
       "200   [MN690608.1, MN690609.1, MN690610.1, MN690611.1]  \n",
       "201  [KY783855.1, KY783856.1, KY783857.1, KY783858....  \n",
       "202  [MT818221.1, MN312754.1, MN312755.1, MN312756....  \n",
       "203  [KP893231.1, KP893232.1, KP893233.1, KP893234....  \n",
       "\n",
       "[204 rows x 3 columns]"
      ]
     },
     "execution_count": 18,
     "metadata": {},
     "output_type": "execute_result"
    }
   ],
   "source": [
    "final_data"
   ]
  },
  {
   "cell_type": "code",
   "execution_count": 7,
   "metadata": {},
   "outputs": [],
   "source": [
    "final_data[['HostGenus','Length_acce']].to_csv('/mnt/c/Users/ouyangkang/Desktop/host_genus_statistic.csv', index=None)"
   ]
  },
  {
   "cell_type": "code",
   "execution_count": null,
   "metadata": {},
   "outputs": [],
   "source": []
  }
 ],
 "metadata": {
  "kernelspec": {
   "display_name": "base",
   "language": "python",
   "name": "python3"
  },
  "language_info": {
   "codemirror_mode": {
    "name": "ipython",
    "version": 3
   },
   "file_extension": ".py",
   "mimetype": "text/x-python",
   "name": "python",
   "nbconvert_exporter": "python",
   "pygments_lexer": "ipython3",
   "version": "3.8.8"
  },
  "orig_nbformat": 4,
  "vscode": {
   "interpreter": {
    "hash": "eace1a3d2d18dcb98353cfeb529f20792ec64dcc10ba0bdd358326e3f660811b"
   }
  }
 },
 "nbformat": 4,
 "nbformat_minor": 2
}
