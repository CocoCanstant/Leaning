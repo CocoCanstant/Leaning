{
 "cells": [
  {
   "cell_type": "code",
   "execution_count": null,
   "metadata": {},
   "outputs": [],
   "source": [
    "final_data = pd.DataFrame(columns=['HostClass', 'Length_acce', 'Accession'])\n",
    "\n",
    "n = 0\n",
    "for hclass, vacce in coro.groupby(['HostClass'])['NCBIAccession']:\n",
    "    vacce = [acce for acce in list(vacce) if acce != '']\n",
    "    final_data.loc[n] = [hclass, len(vacce), vacce]\n",
    "    n += 1"
   ]
  }
 ],
 "metadata": {
  "kernelspec": {
   "display_name": "Python 3",
   "language": "python",
   "name": "python3"
  },
  "language_info": {
   "name": "python",
   "version": "3.8.2"
  },
  "orig_nbformat": 4,
  "vscode": {
   "interpreter": {
    "hash": "916dbcbb3f70747c44a77c7bcd40155683ae19c65e1c03b4aa3499c5328201f1"
   }
  }
 },
 "nbformat": 4,
 "nbformat_minor": 2
}
