{
 "cells": [
  {
   "cell_type": "code",
   "execution_count": 1,
   "metadata": {},
   "outputs": [],
   "source": [
    "import pandas as pd\n",
    "\n",
    "passed_data = []\n",
    "data_procession = []\n",
    "with open('/home/ouconstand/data/Virus_Host/Virion.csv','r', encoding='ISO-8859-1') as f:\n",
    "    for line in f.read().splitlines():\n",
    "        data = line.split('\\t')\n",
    "        if len(data) < 34:\n",
    "            passed_data.append(data)\n",
    "        else:\n",
    "            if data[7] == '' or data[2] == '' or data[3] == '': # delete non_family or non_virustaxid information data\n",
    "                pass\n",
    "            else:\n",
    "                data_procession.append(data)\n",
    "\n",
    "data = pd.DataFrame(data_procession[1:-1],columns=data_procession[0])"
   ]
  },
  {
   "cell_type": "code",
   "execution_count": 2,
   "metadata": {},
   "outputs": [],
   "source": [
    "coro = data[data['VirusFamily'] == 'coronaviridae']"
   ]
  },
  {
   "cell_type": "code",
   "execution_count": 5,
   "metadata": {},
   "outputs": [],
   "source": [
    "final_data = pd.DataFrame(columns=['HostFamily', 'Length_acce', 'Accession'])\n",
    "\n",
    "n = 0\n",
    "for hclass, vacce in coro.groupby(['HostFamily'])['NCBIAccession']:\n",
    "    vacce = [acce.strip(' ') for acce in ','.join(list(vacce)).split(',') if acce != '']\n",
    "    final_data.loc[n] = [hclass, len(vacce),vacce]\n",
    "    n += 1"
   ]
  },
  {
   "cell_type": "code",
   "execution_count": 6,
   "metadata": {},
   "outputs": [
    {
     "data": {
      "text/html": [
       "<div>\n",
       "<style scoped>\n",
       "    .dataframe tbody tr th:only-of-type {\n",
       "        vertical-align: middle;\n",
       "    }\n",
       "\n",
       "    .dataframe tbody tr th {\n",
       "        vertical-align: top;\n",
       "    }\n",
       "\n",
       "    .dataframe thead th {\n",
       "        text-align: right;\n",
       "    }\n",
       "</style>\n",
       "<table border=\"1\" class=\"dataframe\">\n",
       "  <thead>\n",
       "    <tr style=\"text-align: right;\">\n",
       "      <th></th>\n",
       "      <th>HostFamily</th>\n",
       "      <th>Length_acce</th>\n",
       "      <th>Accession</th>\n",
       "    </tr>\n",
       "  </thead>\n",
       "  <tbody>\n",
       "    <tr>\n",
       "      <th>0</th>\n",
       "      <td>accipitridae</td>\n",
       "      <td>1</td>\n",
       "      <td>[283510354]</td>\n",
       "    </tr>\n",
       "    <tr>\n",
       "      <th>1</th>\n",
       "      <td>anatidae</td>\n",
       "      <td>574</td>\n",
       "      <td>[AY702975.1, MF034362.1, MF034376.1, MF034359....</td>\n",
       "    </tr>\n",
       "    <tr>\n",
       "      <th>2</th>\n",
       "      <td>ardeidae</td>\n",
       "      <td>42</td>\n",
       "      <td>[GU323504.1, 353444952, 353445000, 353445018, ...</td>\n",
       "    </tr>\n",
       "    <tr>\n",
       "      <th>3</th>\n",
       "      <td>bovidae</td>\n",
       "      <td>944</td>\n",
       "      <td>[HM573321.1, HM573326.1, MH741304.1, MH741305....</td>\n",
       "    </tr>\n",
       "    <tr>\n",
       "      <th>4</th>\n",
       "      <td>camelidae</td>\n",
       "      <td>773</td>\n",
       "      <td>[KT368891.1, MF593476.1, KX897163.1, KT368895....</td>\n",
       "    </tr>\n",
       "    <tr>\n",
       "      <th>...</th>\n",
       "      <td>...</td>\n",
       "      <td>...</td>\n",
       "      <td>...</td>\n",
       "    </tr>\n",
       "    <tr>\n",
       "      <th>82</th>\n",
       "      <td>turdidae</td>\n",
       "      <td>4</td>\n",
       "      <td>[211907050, 212681378, NC_011549.1, FJ376621.1]</td>\n",
       "    </tr>\n",
       "    <tr>\n",
       "      <th>83</th>\n",
       "      <td>tyrannidae</td>\n",
       "      <td>4</td>\n",
       "      <td>[KP256844.1, KP256845.1, KP256846.1, KP965431.1]</td>\n",
       "    </tr>\n",
       "    <tr>\n",
       "      <th>84</th>\n",
       "      <td>ursidae</td>\n",
       "      <td>6</td>\n",
       "      <td>[38098849, 38098851, 38098853, AY436635.1, AY4...</td>\n",
       "    </tr>\n",
       "    <tr>\n",
       "      <th>85</th>\n",
       "      <td>vespertilionidae</td>\n",
       "      <td>1858</td>\n",
       "      <td>[HQ184060.1, LC334391.1, MN312569.1, MN312570....</td>\n",
       "    </tr>\n",
       "    <tr>\n",
       "      <th>86</th>\n",
       "      <td>viverridae</td>\n",
       "      <td>20</td>\n",
       "      <td>[42556132, AY515512.1, AY613948.1, AY613949.1,...</td>\n",
       "    </tr>\n",
       "  </tbody>\n",
       "</table>\n",
       "<p>87 rows × 3 columns</p>\n",
       "</div>"
      ],
      "text/plain": [
       "          HostFamily  Length_acce  \\\n",
       "0       accipitridae            1   \n",
       "1           anatidae          574   \n",
       "2           ardeidae           42   \n",
       "3            bovidae          944   \n",
       "4          camelidae          773   \n",
       "..               ...          ...   \n",
       "82          turdidae            4   \n",
       "83        tyrannidae            4   \n",
       "84           ursidae            6   \n",
       "85  vespertilionidae         1858   \n",
       "86        viverridae           20   \n",
       "\n",
       "                                            Accession  \n",
       "0                                         [283510354]  \n",
       "1   [AY702975.1, MF034362.1, MF034376.1, MF034359....  \n",
       "2   [GU323504.1, 353444952, 353445000, 353445018, ...  \n",
       "3   [HM573321.1, HM573326.1, MH741304.1, MH741305....  \n",
       "4   [KT368891.1, MF593476.1, KX897163.1, KT368895....  \n",
       "..                                                ...  \n",
       "82    [211907050, 212681378, NC_011549.1, FJ376621.1]  \n",
       "83   [KP256844.1, KP256845.1, KP256846.1, KP965431.1]  \n",
       "84  [38098849, 38098851, 38098853, AY436635.1, AY4...  \n",
       "85  [HQ184060.1, LC334391.1, MN312569.1, MN312570....  \n",
       "86  [42556132, AY515512.1, AY613948.1, AY613949.1,...  \n",
       "\n",
       "[87 rows x 3 columns]"
      ]
     },
     "execution_count": 6,
     "metadata": {},
     "output_type": "execute_result"
    }
   ],
   "source": [
    "final_data"
   ]
  },
  {
   "cell_type": "code",
   "execution_count": 7,
   "metadata": {},
   "outputs": [],
   "source": [
    "final_data[['HostFamily','Length_acce']].to_csv('/mnt/c/Users/ouyangkang/Desktop/host_family_statistic.csv',index=None)"
   ]
  },
  {
   "cell_type": "code",
   "execution_count": null,
   "metadata": {},
   "outputs": [],
   "source": []
  }
 ],
 "metadata": {
  "kernelspec": {
   "display_name": "base",
   "language": "python",
   "name": "python3"
  },
  "language_info": {
   "codemirror_mode": {
    "name": "ipython",
    "version": 3
   },
   "file_extension": ".py",
   "mimetype": "text/x-python",
   "name": "python",
   "nbconvert_exporter": "python",
   "pygments_lexer": "ipython3",
   "version": "3.8.8"
  },
  "orig_nbformat": 4,
  "vscode": {
   "interpreter": {
    "hash": "eace1a3d2d18dcb98353cfeb529f20792ec64dcc10ba0bdd358326e3f660811b"
   }
  }
 },
 "nbformat": 4,
 "nbformat_minor": 2
}
