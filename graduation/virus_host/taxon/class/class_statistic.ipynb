{
 "cells": [
  {
   "cell_type": "code",
   "execution_count": 1,
   "metadata": {},
   "outputs": [],
   "source": [
    "import pandas as pd\n",
    "\n",
    "passed_data = []\n",
    "data_procession = []\n",
    "with open('/home/ouconstand/data/Virus_Host/Virion.csv','r', encoding='ISO-8859-1') as f:\n",
    "    for line in f.read().splitlines():\n",
    "        data = line.split('\\t')\n",
    "        if len(data) < 34:\n",
    "            passed_data.append(data)\n",
    "        else:\n",
    "            if data[7] == '' or data[2] == '' or data[3] == '': # delete non_family or non_virustaxid information data\n",
    "                pass\n",
    "            else:\n",
    "                data_procession.append(data)\n",
    "\n",
    "data = pd.DataFrame(data_procession[1:-1],columns=data_procession[0])"
   ]
  },
  {
   "cell_type": "code",
   "execution_count": 2,
   "metadata": {},
   "outputs": [],
   "source": [
    "coro = data[data['VirusFamily'] == 'coronaviridae']"
   ]
  },
  {
   "cell_type": "code",
   "execution_count": 3,
   "metadata": {},
   "outputs": [
    {
     "data": {
      "text/plain": [
       "(39699, 34)"
      ]
     },
     "execution_count": 3,
     "metadata": {},
     "output_type": "execute_result"
    }
   ],
   "source": [
    "coro.shape"
   ]
  },
  {
   "cell_type": "code",
   "execution_count": 9,
   "metadata": {},
   "outputs": [
    {
     "name": "stdout",
     "output_type": "stream",
     "text": [
      "[['b'], ['a', 'c']]\n"
     ]
    }
   ],
   "source": [
    "train = ['b','a,c']\n",
    "\n",
    "print([i.split(',') for i in train])"
   ]
  },
  {
   "cell_type": "code",
   "execution_count": 4,
   "metadata": {},
   "outputs": [],
   "source": [
    "final_data = pd.DataFrame(columns=['HostClass', 'Length_acce', 'Accession'])\n",
    "\n",
    "n = 0\n",
    "for hclass, vacce in coro.groupby(['HostClass'])['NCBIAccession']:\n",
    "    vacce = [acce for acce in ','.join(list(vacce)).split(',') if acce != '']\n",
    "    final_data.loc[n] = [hclass, len(vacce),vacce]\n",
    "    n += 1"
   ]
  },
  {
   "cell_type": "code",
   "execution_count": 18,
   "metadata": {},
   "outputs": [
    {
     "data": {
      "text/plain": [
       "<generator object <genexpr> at 0x7f042582c970>"
      ]
     },
     "execution_count": 18,
     "metadata": {},
     "output_type": "execute_result"
    }
   ],
   "source": [
    "vacce"
   ]
  },
  {
   "cell_type": "code",
   "execution_count": 24,
   "metadata": {},
   "outputs": [],
   "source": [
    "final_data.to_csv('./acce_hostclass.csv',index=None)"
   ]
  },
  {
   "cell_type": "code",
   "execution_count": 26,
   "metadata": {},
   "outputs": [],
   "source": [
    "final_data[['HostClass','Length_acce']].to_csv('/mnt/c/Users/ouyangkang/Desktop/hostclass_acce.csv',index=None)"
   ]
  },
  {
   "cell_type": "code",
   "execution_count": 5,
   "metadata": {},
   "outputs": [
    {
     "data": {
      "text/html": [
       "<div>\n",
       "<style scoped>\n",
       "    .dataframe tbody tr th:only-of-type {\n",
       "        vertical-align: middle;\n",
       "    }\n",
       "\n",
       "    .dataframe tbody tr th {\n",
       "        vertical-align: top;\n",
       "    }\n",
       "\n",
       "    .dataframe thead th {\n",
       "        text-align: right;\n",
       "    }\n",
       "</style>\n",
       "<table border=\"1\" class=\"dataframe\">\n",
       "  <thead>\n",
       "    <tr style=\"text-align: right;\">\n",
       "      <th></th>\n",
       "      <th>HostClass</th>\n",
       "      <th>Length_acce</th>\n",
       "      <th>Accession</th>\n",
       "    </tr>\n",
       "  </thead>\n",
       "  <tbody>\n",
       "    <tr>\n",
       "      <th>0</th>\n",
       "      <td>actinopteri</td>\n",
       "      <td>1</td>\n",
       "      <td>[MW645029.1]</td>\n",
       "    </tr>\n",
       "    <tr>\n",
       "      <th>1</th>\n",
       "      <td>aves</td>\n",
       "      <td>9100</td>\n",
       "      <td>[AY702975.1, MF034362.1,  MF034376.1, MF034359...</td>\n",
       "    </tr>\n",
       "    <tr>\n",
       "      <th>2</th>\n",
       "      <td>lepidosauria</td>\n",
       "      <td>1</td>\n",
       "      <td>[MG600026.1]</td>\n",
       "    </tr>\n",
       "    <tr>\n",
       "      <th>3</th>\n",
       "      <td>mammalia</td>\n",
       "      <td>1018323</td>\n",
       "      <td>[KF843853.1, HQ184060.1, LC334391.1, KM514667....</td>\n",
       "    </tr>\n",
       "  </tbody>\n",
       "</table>\n",
       "</div>"
      ],
      "text/plain": [
       "      HostClass  Length_acce  \\\n",
       "0   actinopteri            1   \n",
       "1          aves         9100   \n",
       "2  lepidosauria            1   \n",
       "3      mammalia      1018323   \n",
       "\n",
       "                                           Accession  \n",
       "0                                       [MW645029.1]  \n",
       "1  [AY702975.1, MF034362.1,  MF034376.1, MF034359...  \n",
       "2                                       [MG600026.1]  \n",
       "3  [KF843853.1, HQ184060.1, LC334391.1, KM514667....  "
      ]
     },
     "execution_count": 5,
     "metadata": {},
     "output_type": "execute_result"
    }
   ],
   "source": [
    "final_data"
   ]
  },
  {
   "cell_type": "code",
   "execution_count": null,
   "metadata": {},
   "outputs": [],
   "source": []
  }
 ],
 "metadata": {
  "kernelspec": {
   "display_name": "base",
   "language": "python",
   "name": "python3"
  },
  "language_info": {
   "codemirror_mode": {
    "name": "ipython",
    "version": 3
   },
   "file_extension": ".py",
   "mimetype": "text/x-python",
   "name": "python",
   "nbconvert_exporter": "python",
   "pygments_lexer": "ipython3",
   "version": "3.8.8"
  },
  "orig_nbformat": 4,
  "vscode": {
   "interpreter": {
    "hash": "eace1a3d2d18dcb98353cfeb529f20792ec64dcc10ba0bdd358326e3f660811b"
   }
  }
 },
 "nbformat": 4,
 "nbformat_minor": 2
}
