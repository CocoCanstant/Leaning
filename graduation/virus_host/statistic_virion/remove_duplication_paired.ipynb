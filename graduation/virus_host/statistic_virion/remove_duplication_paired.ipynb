{
 "cells": [
  {
   "cell_type": "markdown",
   "metadata": {},
   "source": [
    "# 1 data screening\n",
    "    condition:\n",
    "        1. remove same virus and host pair"
   ]
  },
  {
   "cell_type": "code",
   "execution_count": null,
   "metadata": {},
   "outputs": [],
   "source": [
    "import pandas as pd\n",
    "\n",
    "data = "
   ]
  }
 ],
 "metadata": {
  "kernelspec": {
   "display_name": "Python 3.9.13 ('base': conda)",
   "language": "python",
   "name": "python3"
  },
  "language_info": {
   "name": "python",
   "version": "3.9.13"
  },
  "orig_nbformat": 4,
  "vscode": {
   "interpreter": {
    "hash": "0ea70ea8ed32773227522c11308a94a20d8dd1c87a3cf0567e9fb750ce0c0eb5"
   }
  }
 },
 "nbformat": 4,
 "nbformat_minor": 2
}
