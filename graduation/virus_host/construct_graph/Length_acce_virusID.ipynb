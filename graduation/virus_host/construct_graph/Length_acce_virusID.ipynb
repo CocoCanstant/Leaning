{
 "cells": [
  {
   "cell_type": "code",
   "execution_count": 26,
   "metadata": {},
   "outputs": [],
   "source": [
    "import pandas as pd\n",
    "# read data\n",
    "length_acce = pd.read_table('/home/ouconstand/Learning/graduation/virus_host/construct_graph/Virion_accession_length.txt', sep='\\t')\n",
    "acce_id = pd.read_csv('/home/ouconstand/Learning/graduation/virus_host/construct_graph/final_acce_virusID.csv')\n",
    "\n",
    "length_acce.columns = ['Accession','Length']\n",
    "# move duplication\n",
    "length_acce.drop_duplicates(['Accession','Length'],inplace=True)"
   ]
  },
  {
   "cell_type": "code",
   "execution_count": 28,
   "metadata": {},
   "outputs": [],
   "source": [
    "old_data = set(length_acce['Accession'])\n",
    "new_data = set(acce_id['Accession'])"
   ]
  },
  {
   "cell_type": "code",
   "execution_count": null,
   "metadata": {},
   "outputs": [],
   "source": [
    "different_data = list((old_data | new_data)-old_data)\n",
    "different_data"
   ]
  },
  {
   "cell_type": "code",
   "execution_count": 39,
   "metadata": {},
   "outputs": [],
   "source": [
    "accession1 = pd.read_table('sequence.seq', header=None, names=['Version'])\n",
    "accession1['Accession'] = accession1['Version'].apply(lambda x:x.split('.')[0])"
   ]
  },
  {
   "cell_type": "code",
   "execution_count": 41,
   "metadata": {},
   "outputs": [],
   "source": [
    "accession1.to_csv('non_version_acce.csv', index=None)"
   ]
  },
  {
   "cell_type": "code",
   "execution_count": null,
   "metadata": {},
   "outputs": [],
   "source": []
  }
 ],
 "metadata": {
  "kernelspec": {
   "display_name": "base",
   "language": "python",
   "name": "python3"
  },
  "language_info": {
   "codemirror_mode": {
    "name": "ipython",
    "version": 3
   },
   "file_extension": ".py",
   "mimetype": "text/x-python",
   "name": "python",
   "nbconvert_exporter": "python",
   "pygments_lexer": "ipython3",
   "version": "3.8.8"
  },
  "orig_nbformat": 4,
  "vscode": {
   "interpreter": {
    "hash": "eace1a3d2d18dcb98353cfeb529f20792ec64dcc10ba0bdd358326e3f660811b"
   }
  }
 },
 "nbformat": 4,
 "nbformat_minor": 2
}
