{
 "cells": [
  {
   "cell_type": "code",
   "execution_count": 11,
   "metadata": {},
   "outputs": [],
   "source": [
    "import pandas as pd\n",
    "# read data\n",
    "length_acce = pd.read_table('/home/ouconstand/Learning/graduation/virus_host/construct_graph/Virion_accession_length.txt', sep='\\t')\n",
    "acce_id = pd.read_csv('/home/ouconstand/Learning/graduation/virus_host/construct_graph/final_acce_virusID.csv')\n",
    "\n",
    "length_acce.columns = ['Accession','Length']\n",
    "# move duplication\n",
    "length_acce.drop_duplicates(['Accession','Length'],inplace=True)"
   ]
  },
  {
   "cell_type": "code",
   "execution_count": 31,
   "metadata": {},
   "outputs": [
    {
     "name": "stdout",
     "output_type": "stream",
     "text": [
      "1023868\n",
      "1025047\n"
     ]
    }
   ],
   "source": [
    "old_data = set(length_acce['Accession'])\n",
    "new_data = set(acce_id['Accession'])\n",
    "print(len(old_data))\n",
    "print(len(new_data))"
   ]
  },
  {
   "cell_type": "code",
   "execution_count": 33,
   "metadata": {},
   "outputs": [
    {
     "data": {
      "text/plain": [
       "1290"
      ]
     },
     "execution_count": 33,
     "metadata": {},
     "output_type": "execute_result"
    }
   ],
   "source": [
    "different_data = list((old_data | new_data)-old_data)\n",
    "len(different_data)"
   ]
  },
  {
   "cell_type": "code",
   "execution_count": 102,
   "metadata": {},
   "outputs": [],
   "source": [
    "import pandas as pd\n",
    "import requests\n",
    "import re\n",
    "from bs4 import BeautifulSoup\n",
    "\n",
    "# the function is designed to get fasta format information\n",
    "api_key = '59cbd6ff6b3ce5d506f0eeb69e4e09362409'\n",
    "def get_url_info(segment):\n",
    "\n",
    "    # Using requests function get the id from term\n",
    "    term_url = 'https://eutils.ncbi.nlm.nih.gov/entrez/eutils/esearch.fcgi?db=nucleotide&api_key={}&term='.format(api_key) + \",\".join(segment)\n",
    "    term_info = BeautifulSoup(requests.get(term_url, timeout=(10,30)).text, 'html.parser')\n",
    "\n",
    "    # get id\n",
    "    pattern = re.compile(r'<id>(.*)</id>')\n",
    "    accession_id = re.findall(pattern, str(term_info))\n",
    "    \n",
    "    # get sequencing information from id\n",
    "    fasta_url = 'https://eutils.ncbi.nlm.nih.gov/entrez/eutils/efetch.fcgi?db=nucleotide&rettype=fasta&id={}&api_key={}'.format(','.join(accession_id), api_key)\n",
    "    fasta_info = requests.get(fasta_url, timeout=(10,30)).text\n",
    "    return fasta_info\n",
    "\n",
    "# this function is designed to write files\n",
    "def write_file(fasta_info,name_num):\n",
    "    with open(\"/home/ouconstand/data/Virus_Host/sequence_{}.fasta\".format(name_num), 'w') as f:\n",
    "        f.write(fasta_info)"
   ]
  },
  {
   "cell_type": "code",
   "execution_count": 103,
   "metadata": {},
   "outputs": [],
   "source": [
    "import math\n",
    "for num in range(math.ceil(len(different_data) / 20)):\n",
    "    write_file(get_url_info(different_data[num*20:(num+1)*20]), num)"
   ]
  },
  {
   "cell_type": "code",
   "execution_count": null,
   "metadata": {},
   "outputs": [],
   "source": []
  }
 ],
 "metadata": {
  "kernelspec": {
   "display_name": "base",
   "language": "python",
   "name": "python3"
  },
  "language_info": {
   "codemirror_mode": {
    "name": "ipython",
    "version": 3
   },
   "file_extension": ".py",
   "mimetype": "text/x-python",
   "name": "python",
   "nbconvert_exporter": "python",
   "pygments_lexer": "ipython3",
   "version": "3.8.8"
  },
  "orig_nbformat": 4,
  "vscode": {
   "interpreter": {
    "hash": "eace1a3d2d18dcb98353cfeb529f20792ec64dcc10ba0bdd358326e3f660811b"
   }
  }
 },
 "nbformat": 4,
 "nbformat_minor": 2
}
