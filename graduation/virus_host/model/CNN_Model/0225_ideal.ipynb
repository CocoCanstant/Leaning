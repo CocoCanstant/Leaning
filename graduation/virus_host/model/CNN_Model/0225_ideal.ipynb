{
 "cells": [
  {
   "cell_type": "code",
   "execution_count": 1,
   "metadata": {},
   "outputs": [],
   "source": [
    "import numpy as np\n",
    "import os \n",
    "\n",
    "k_list = [\"A\", \"C\", \"G\", \"T\"]\n",
    "nucl_list = [\"A\", \"C\", \"G\", \"T\"]\n",
    "\n",
    "\n",
    "for i in range(2):\n",
    "    tmp = []\n",
    "    for item in nucl_list:\n",
    "        for nucl in k_list:\n",
    "            tmp.append(nucl+item)\n",
    "    k_list = tmp"
   ]
  },
  {
   "cell_type": "code",
   "execution_count": null,
   "metadata": {},
   "outputs": [],
   "source": [
    "k_list"
   ]
  },
  {
   "cell_type": "code",
   "execution_count": 3,
   "metadata": {},
   "outputs": [],
   "source": [
    "int_to_vocab = {ii: word for ii, word in enumerate(k_list)}"
   ]
  },
  {
   "cell_type": "code",
   "execution_count": null,
   "metadata": {},
   "outputs": [],
   "source": [
    "int_to_vocab"
   ]
  },
  {
   "cell_type": "code",
   "execution_count": null,
   "metadata": {},
   "outputs": [],
   "source": [
    "import pandas as pd\n",
    "import sys\n",
    "\n",
    "file_1 = sys.argv[1]\n",
    "file_2 = sys.argv[2]\n",
    "file_3 = sys.argv[3]\n",
    "file_4 = sys.argv[4]\n",
    "\n",
    "df_1 = pd.read_csv(file_1)\n",
    "df_2 = pd.read_csv(file_2)\n",
    "df_3 = pd.read_csv(file_3)\n",
    "\n",
    "df_1 = df_1[['VirusTaxID', 'HostTaxID', 'Representation']]\n",
    "df_2 = df_2[['VirusTaxID', 'HostTaxID', 'Representation']]\n",
    "df_3 = df_3[['VirusTaxID', 'HostTaxID', 'Representation']]\n",
    "\n",
    "final_data = pd.concat([df_1, df_2, df_3])\n",
    "final_data.drop_duplicates(['VirusTaxID', 'HostTaxID', 'Representation'], inplace=True)\n",
    "final_data.to_csv(file_4, index=None)"
   ]
  },
  {
   "cell_type": "code",
   "execution_count": null,
   "metadata": {},
   "outputs": [],
   "source": [
    "import pandas as pd\n",
    "import sys\n",
    "\n",
    "file_1 = sys.argv[1]\n",
    "file_2 = sys.argv[2]\n",
    "output = sys.argv[3]\n",
    "\n",
    "df_1 = pd.read_csv(file_1)\n",
    "df_2 = pd.read_csv(file_2)\n",
    "\n",
    "taxon = pd.merge(df_1, df_2, on='HostTaxID')\n",
    "taxon.to_csv(output, index=None)"
   ]
  }
 ],
 "metadata": {
  "kernelspec": {
   "display_name": "base",
   "language": "python",
   "name": "python3"
  },
  "language_info": {
   "codemirror_mode": {
    "name": "ipython",
    "version": 3
   },
   "file_extension": ".py",
   "mimetype": "text/x-python",
   "name": "python",
   "nbconvert_exporter": "python",
   "pygments_lexer": "ipython3",
   "version": "3.8.8"
  },
  "orig_nbformat": 4,
  "vscode": {
   "interpreter": {
    "hash": "eace1a3d2d18dcb98353cfeb529f20792ec64dcc10ba0bdd358326e3f660811b"
   }
  }
 },
 "nbformat": 4,
 "nbformat_minor": 2
}
