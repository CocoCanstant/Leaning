{
 "cells": [
  {
   "cell_type": "code",
   "execution_count": 8,
   "metadata": {},
   "outputs": [],
   "source": [
    "import numpy as np\n",
    "def one_hot(sequence):\n",
    "    nucl_list = ['A', 'T', 'C', 'G']\n",
    "    nucl_dic = dict((int, nucl) for nucl, int in enumerate(nucl_list))\n",
    "    _seq_data = [nucl_dic[base] for base in sequence]\n",
    "    result = np.zeros((len(sequence), 4))\n",
    "    for _, base in enumerate(_seq_data):\n",
    "        result[_, base] = 1\n",
    "    return(result)"
   ]
  },
  {
   "cell_type": "code",
   "execution_count": 9,
   "metadata": {},
   "outputs": [
    {
     "data": {
      "text/plain": [
       "array([[1., 0., 0., 0.],\n",
       "       [0., 1., 0., 0.],\n",
       "       [0., 0., 1., 0.],\n",
       "       [0., 0., 0., 1.]])"
      ]
     },
     "execution_count": 9,
     "metadata": {},
     "output_type": "execute_result"
    }
   ],
   "source": [
    "one_hot(\"ATCG\")"
   ]
  },
  {
   "cell_type": "code",
   "execution_count": 10,
   "metadata": {},
   "outputs": [],
   "source": [
    "from Bio import SeqIO\n",
    "from Bio.SeqRecord import SeqRecord\n",
    "import numpy as np\n",
    "\n",
    "# convert sequence to matrix\n",
    "def one_hot(sequence):\n",
    "    nucl_list = ['A', 'T', 'C', 'G']\n",
    "    nucl_dic = dict((int, nucl) for nucl, int in enumerate(nucl_list))\n",
    "    _seq_data = [nucl_dic[base] for base in sequence]\n",
    "    result = np.zeros((len(sequence), 4))\n",
    "    for _, base in enumerate(_seq_data):\n",
    "        result[_, base] = 1\n",
    "    return(result)\n",
    "\n",
    "# cut off sequence to 2k segment\n",
    "def seq2onehot(sequence_file):\n",
    "\n",
    "    for seq_record in SeqIO.parse(sequence_file, 'fasta'):\n",
    "        # virus 2k DNA sequence segments\n",
    "        new_record = []\n",
    "        # get sequence data\n",
    "        seq = seq_record.seq\n",
    "        # remove N\n",
    "        seq = str(seq).replace('N', '')\n",
    "        \n",
    "        for i in range(0, len(seq), 500):\n",
    "            if (i + 2000) > len(seq):\n",
    "                new_seq = seq[-2000:]\n",
    "                record = SeqRecord(new_seq, id=seq_record.id)\n",
    "                new_record.append(record)\n",
    "                break\n",
    "            new_seq = seq[i:i+2000]\n",
    "            record = SeqRecord(new_seq, id=seq_record.id)\n",
    "            new_record.append(record)\n",
    "           \n",
    "        seq_data = np.array([one_hot(segment) for segment in new_record])\n",
    "        return seq_data\n",
    "        "
   ]
  },
  {
   "cell_type": "code",
   "execution_count": null,
   "metadata": {},
   "outputs": [],
   "source": []
  },
  {
   "cell_type": "code",
   "execution_count": 31,
   "metadata": {},
   "outputs": [],
   "source": [
    "import torch\n",
    "import torch.nn as nn\n",
    "import torch.nn.functional as F\n",
    "class MyModel(nn.Module):\n",
    "    def __init__(self, hidden_dim, num_classes):\n",
    "        super(MyModel, self).__init__()\n",
    "        self.conv1 = nn.Conv1d(4, hidden_dim, kernel_size=3, stride=1, padding=1)\n",
    "        self.conv2 = nn.Conv1d(hidden_dim, hidden_dim, kernel_size=3, stride=1, padding=1)\n",
    "        self.conv3 = nn.Conv1d(hidden_dim, hidden_dim, kernel_size=3, stride=1, padding=1)\n",
    "        self.adaptive_pool = nn.AdaptiveMaxPool1d(1)\n",
    "        self.fc = nn.Linear(hidden_dim, num_classes)\n",
    "    def forward(self, x):\n",
    "        # three convolutional layers\n",
    "        x = F.relu(self.conv1(x))\n",
    "        x = F.relu(self.conv2(x))\n",
    "        x = F.relu(self.conv3(x))\n",
    "        # (batch_size, hidden_dim, 1)\n",
    "        x = self.adaptive_pool(x)\n",
    "        # 将每个子序列的维度转换为(batch_size, hidden_dim)\n",
    "        x = x.view(x.size(0), -1)\n",
    "        # concatenate subsequence\n",
    "        x = torch.cat(x, dim=0)\n",
    "        # \n",
    "        x = self.fc(x)\n",
    "        x = F.softmax(x, dim=1)\n",
    "        return x"
   ]
  },
  {
   "cell_type": "code",
   "execution_count": 33,
   "metadata": {},
   "outputs": [],
   "source": [
    "CNN = MyModel(256, 4)\n",
    "CNN"
   ]
  },
  {
   "cell_type": "code",
   "execution_count": 11,
   "metadata": {},
   "outputs": [],
   "source": [
    "data_path = '/home/ouconstand/data/Virus_Host/seq_data/sequence_0.fasta'"
   ]
  },
  {
   "cell_type": "code",
   "execution_count": 47,
   "metadata": {},
   "outputs": [
    {
     "data": {
      "text/plain": [
       "['x', 'x', 'x', 'x']"
      ]
     },
     "execution_count": 47,
     "metadata": {},
     "output_type": "execute_result"
    }
   ],
   "source": []
  },
  {
   "cell_type": "code",
   "execution_count": 12,
   "metadata": {},
   "outputs": [],
   "source": [
    "train = seq2onehot(data_path)"
   ]
  },
  {
   "cell_type": "code",
   "execution_count": 13,
   "metadata": {},
   "outputs": [
    {
     "data": {
      "text/plain": [
       "(56, 2000, 4)"
      ]
     },
     "execution_count": 13,
     "metadata": {},
     "output_type": "execute_result"
    }
   ],
   "source": [
    "train.shape"
   ]
  },
  {
   "cell_type": "code",
   "execution_count": 46,
   "metadata": {},
   "outputs": [
    {
     "data": {
      "text/plain": [
       "1"
      ]
     },
     "execution_count": 46,
     "metadata": {},
     "output_type": "execute_result"
    }
   ],
   "source": [
    "len(train)"
   ]
  },
  {
   "cell_type": "code",
   "execution_count": 14,
   "metadata": {},
   "outputs": [
    {
     "data": {
      "text/plain": [
       "array([[1., 0., 0., 0.],\n",
       "       [0., 0., 1., 0.],\n",
       "       [0., 1., 0., 0.],\n",
       "       ...,\n",
       "       [0., 0., 0., 1.],\n",
       "       [0., 0., 1., 0.],\n",
       "       [0., 1., 0., 0.]])"
      ]
     },
     "execution_count": 14,
     "metadata": {},
     "output_type": "execute_result"
    }
   ],
   "source": [
    "train[0]"
   ]
  },
  {
   "cell_type": "code",
   "execution_count": 30,
   "metadata": {},
   "outputs": [
    {
     "name": "stdout",
     "output_type": "stream",
     "text": [
      "(1000, 4)\n"
     ]
    }
   ],
   "source": [
    "x = 'ATCG'*250\n",
    "print(one_hot(x).shape)"
   ]
  },
  {
   "cell_type": "code",
   "execution_count": 25,
   "metadata": {},
   "outputs": [],
   "source": [
    "import torch\n",
    "embedding = torch.nn.Embedding(2000, 4)"
   ]
  },
  {
   "cell_type": "code",
   "execution_count": 23,
   "metadata": {},
   "outputs": [],
   "source": [
    "nucl_list = ['A', 'T', 'C', 'G']\n",
    "nucl_dic = dict((int, nucl) for nucl, int in enumerate(nucl_list))\n",
    "x = [nucl_dic[i] for i in x]"
   ]
  },
  {
   "cell_type": "code",
   "execution_count": 26,
   "metadata": {},
   "outputs": [],
   "source": [
    "x = torch.tensor(x)"
   ]
  },
  {
   "cell_type": "code",
   "execution_count": 27,
   "metadata": {},
   "outputs": [],
   "source": [
    "embedding_seq = embedding(x)"
   ]
  },
  {
   "cell_type": "code",
   "execution_count": 28,
   "metadata": {},
   "outputs": [
    {
     "data": {
      "text/plain": [
       "tensor([[ 0.1532, -0.5192, -1.5923, -1.6631],\n",
       "        [-1.8701, -0.2104, -1.2200, -2.4347],\n",
       "        [-1.6501,  0.2935,  0.1855,  0.8239],\n",
       "        ...,\n",
       "        [-1.8701, -0.2104, -1.2200, -2.4347],\n",
       "        [-1.6501,  0.2935,  0.1855,  0.8239],\n",
       "        [ 0.1877,  1.0988,  0.6499, -0.0389]], grad_fn=<EmbeddingBackward0>)"
      ]
     },
     "execution_count": 28,
     "metadata": {},
     "output_type": "execute_result"
    }
   ],
   "source": [
    "embedding_seq"
   ]
  },
  {
   "cell_type": "code",
   "execution_count": null,
   "metadata": {},
   "outputs": [],
   "source": []
  }
 ],
 "metadata": {
  "kernelspec": {
   "display_name": "base",
   "language": "python",
   "name": "python3"
  },
  "language_info": {
   "codemirror_mode": {
    "name": "ipython",
    "version": 3
   },
   "file_extension": ".py",
   "mimetype": "text/x-python",
   "name": "python",
   "nbconvert_exporter": "python",
   "pygments_lexer": "ipython3",
   "version": "3.8.16"
  },
  "orig_nbformat": 4,
  "vscode": {
   "interpreter": {
    "hash": "eace1a3d2d18dcb98353cfeb529f20792ec64dcc10ba0bdd358326e3f660811b"
   }
  }
 },
 "nbformat": 4,
 "nbformat_minor": 2
}
