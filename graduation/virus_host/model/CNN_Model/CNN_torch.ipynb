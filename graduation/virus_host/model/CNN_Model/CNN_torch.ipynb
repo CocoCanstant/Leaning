{
 "cells": [
  {
   "attachments": {},
   "cell_type": "markdown",
   "metadata": {},
   "source": [
    "the mothod of label converting is optimised # finish"
   ]
  },
  {
   "cell_type": "code",
   "execution_count": 187,
   "metadata": {},
   "outputs": [],
   "source": [
    "import numpy as np\n",
    "import pandas as pd\n",
    "import torch\n",
    "import os\n",
    "\n",
    "# convert sequence to matrix\n",
    "def one_hot(sequence):\n",
    "    nucl_list = ['A', 'T', 'C', 'G']\n",
    "    nucl_dic = dict((int, nucl) for nucl, int in enumerate(nucl_list))\n",
    "    _seq_data = [nucl_dic[base] for base in sequence]\n",
    "    result = np.zeros((len(sequence), 4))\n",
    "    for _, base in enumerate(_seq_data):\n",
    "        result[_, base] = 1\n",
    "    return(result)\n",
    "\n",
    "# convert label to tensor\n",
    "def label2tensor(labels):\n",
    "    # open host info file\n",
    "    host_info = pd.read_csv('/home/ouconstand/data/Virus_Host/non_homo_host_info.csv')\n",
    "    host_dict = host_info[['Representation', 'HostClass']].drop_duplicates().set_index('Representation').to_dict(orient='dict')['HostClass']\n",
    "    \n",
    "    # convert accession to class taxon\n",
    "    labels = [host_dict[label] for label in labels]\n",
    "    \n",
    "    labels_dict = dict((key, value) for value, key in enumerate(list(set(labels))))\n",
    "    labels = [labels_dict[i] for i in labels]\n",
    "    result = np.zeros((len(labels), len(set(labels))))\n",
    "    \n",
    "    for _, base in enumerate(labels):\n",
    "        result[_, base] = 1\n",
    "    # convert result to tensor\n",
    "    result = torch.tensor(result).to(torch.float32)\n",
    "    \n",
    "    return result\n",
    "\n",
    "# cut off sequence to 2k segment\n",
    "def seq2onehot(sequence_dir):\n",
    "    \n",
    "    seq_label = [] # the list is including seq corresponding accession\n",
    "    seq_data = [] # a sequence is converted to a list of 2k sub-seq\n",
    "    \n",
    "    for file in os.listdir(sequence_dir):\n",
    "        \n",
    "        id = file\n",
    "        with open(sequence_dir + file, 'r') as f:\n",
    "            seq = f.read()\n",
    "            \n",
    "        new_record = []\n",
    "            \n",
    "        for i in range(0, len(seq), 500):\n",
    "            if (i + 2000) > len(seq):\n",
    "                new_seq = seq[-2000:]\n",
    "                new_record.append(new_seq)\n",
    "                break\n",
    "            new_seq = seq[i:i+2000]\n",
    "            new_record.append(new_seq)\n",
    "        \n",
    "        seq_data.append(torch.tensor(np.array([one_hot(segment) for segment in new_record], dtype=np.float32)))\n",
    "\n",
    "        seq_label.append(id)\n",
    "\n",
    "    seq_label = label2tensor(seq_label)\n",
    "        \n",
    "    return seq_label, seq_data"
   ]
  },
  {
   "cell_type": "code",
   "execution_count": 209,
   "metadata": {},
   "outputs": [],
   "source": [
    "data_path = '/home/ouconstand/data/Virus_Host/0309_seqdata/'"
   ]
  },
  {
   "cell_type": "code",
   "execution_count": 216,
   "metadata": {},
   "outputs": [],
   "source": [
    "labels, train_data = seq2onehot(data_path)"
   ]
  },
  {
   "cell_type": "code",
   "execution_count": 190,
   "metadata": {},
   "outputs": [
    {
     "data": {
      "text/plain": [
       "torch.Size([56, 2000, 4])"
      ]
     },
     "execution_count": 190,
     "metadata": {},
     "output_type": "execute_result"
    }
   ],
   "source": [
    "train_data[0].shape"
   ]
  },
  {
   "cell_type": "code",
   "execution_count": 191,
   "metadata": {},
   "outputs": [
    {
     "name": "stdout",
     "output_type": "stream",
     "text": [
      "torch.Size([2])\n",
      "torch.Size([2])\n",
      "torch.Size([2])\n",
      "torch.Size([2])\n"
     ]
    }
   ],
   "source": [
    "for i in range(4):\n",
    "    print(labels[i].shape)"
   ]
  },
  {
   "cell_type": "code",
   "execution_count": 192,
   "metadata": {},
   "outputs": [
    {
     "name": "stdout",
     "output_type": "stream",
     "text": [
      "torch.Size([56, 2000, 4])\n",
      "torch.Size([56, 2000, 4])\n",
      "torch.Size([54, 2000, 4])\n",
      "torch.Size([50, 2000, 4])\n"
     ]
    }
   ],
   "source": [
    "for i in range(4):\n",
    "    print(train_data[i].shape)"
   ]
  },
  {
   "cell_type": "code",
   "execution_count": 281,
   "metadata": {},
   "outputs": [],
   "source": [
    "import torch\n",
    "import torch.nn as nn\n",
    "import torch.nn.functional as F\n",
    "\n",
    "class MyModel(nn.Module):\n",
    "    def __init__(self):\n",
    "        super(MyModel, self).__init__()\n",
    "        # three convolutional layers and a maxpool layer\n",
    "        self.convs_layers = nn.ModuleList(\n",
    "            nn.Conv1d(in_channels=4, out_channels=256, kernel_size=3),\n",
    "            nn.Conv1d(in_channels=256, out_channels=256, kernel_size=5),\n",
    "            nn.Conv1d(in_channels=256, out_channels=256, kernel_size=7),\n",
    "        )\n",
    "        # it is not necessary to build a softmax layer because of the loss function including a softmax layer\n",
    "        self.pool = nn.MaxPool1d(kernel_size=2)\n",
    "        self.fc = nn.Linear(256, 512)\n",
    "        self.relu = nn.ReLU()\n",
    "        self.dropout = nn.Dropout(0.5)\n",
    "        \n",
    "        \n",
    "    def forward(self, x):\n",
    "        x = x.permute(0,2,1)\n",
    "        x = [F.relu(conv(x).sequeeze(3)) for conv in self.convs_layers]\n",
    "        x = []\n",
    "        # x = torch.cat(x, 1)\n",
    "        # x = x.squeeze()\n",
    "        # x = self.fc(x)\n",
    "        # x = self.relu(x)\n",
    "        \n",
    "        return x"
   ]
  },
  {
   "cell_type": "code",
   "execution_count": 282,
   "metadata": {},
   "outputs": [
    {
     "name": "stdout",
     "output_type": "stream",
     "text": [
      "MyModel(\n",
      "  (convs_pool_layers): Sequential(\n",
      "    (0): Conv1d(4, 256, kernel_size=(3,), stride=(1,))\n",
      "    (1): Conv1d(256, 256, kernel_size=(5,), stride=(1,))\n",
      "    (2): Conv1d(256, 256, kernel_size=(7,), stride=(1,))\n",
      "    (3): MaxPool1d(kernel_size=2, stride=2, padding=0, dilation=1, ceil_mode=False)\n",
      "  )\n",
      "  (fc): Linear(in_features=256, out_features=512, bias=True)\n",
      "  (relu): ReLU()\n",
      "  (dropout): Dropout(p=0.5, inplace=False)\n",
      ")\n"
     ]
    }
   ],
   "source": [
    "# input (batch_size, seq_length, feature_num)\n",
    "model = MyModel()\n",
    "print(model)"
   ]
  },
  {
   "cell_type": "code",
   "execution_count": 283,
   "metadata": {},
   "outputs": [],
   "source": [
    "loss_fn = nn.CrossEntropyLoss()\n",
    "optimizer = torch.optim.SGD(model.parameters(), lr=0.001)"
   ]
  },
  {
   "cell_type": "code",
   "execution_count": 284,
   "metadata": {},
   "outputs": [
    {
     "ename": "AttributeError",
     "evalue": "'list' object has no attribute 'shape'",
     "output_type": "error",
     "traceback": [
      "\u001b[0;31m---------------------------------------------------------------------------\u001b[0m",
      "\u001b[0;31mAttributeError\u001b[0m                            Traceback (most recent call last)",
      "Cell \u001b[0;32mIn[284], line 2\u001b[0m\n\u001b[1;32m      1\u001b[0m \u001b[39mfor\u001b[39;00m i \u001b[39min\u001b[39;00m \u001b[39mrange\u001b[39m(\u001b[39mlen\u001b[39m(train_data)):\n\u001b[0;32m----> 2\u001b[0m     \u001b[39mprint\u001b[39m(model(train_data[i])\u001b[39m.\u001b[39;49mshape)\n\u001b[1;32m      3\u001b[0m     \u001b[39mbreak\u001b[39;00m\n",
      "\u001b[0;31mAttributeError\u001b[0m: 'list' object has no attribute 'shape'"
     ]
    }
   ],
   "source": [
    "for i in range(len(train_data)):\n",
    "    print(model(train_data[i]).shape)\n",
    "    break"
   ]
  },
  {
   "cell_type": "code",
   "execution_count": 302,
   "metadata": {},
   "outputs": [],
   "source": [
    "x = model(train_data[0])\n"
   ]
  },
  {
   "cell_type": "code",
   "execution_count": 308,
   "metadata": {},
   "outputs": [
    {
     "data": {
      "text/plain": [
       "256"
      ]
     },
     "execution_count": 308,
     "metadata": {},
     "output_type": "execute_result"
    }
   ],
   "source": [
    "x[0].shape[0]"
   ]
  },
  {
   "cell_type": "code",
   "execution_count": 227,
   "metadata": {},
   "outputs": [],
   "source": [
    "batch_size = 64 # the count of sample is 64\n",
    "\n",
    "def train_model(data, label, model, loss_fn, optimizer):\n",
    "    size = len(data)\n",
    "    model.train()\n",
    "    \n",
    "    # compute prediction error\n",
    "    pred = model(data)\n",
    "    loss = loss_fn(pred, label)\n",
    "\n",
    "    # back propafation\n",
    "    optimizer.zero_grad()\n",
    "    loss.backward()\n",
    "    optimizer.step()\n",
    "\n",
    "    if batch_size % 64 == 0:\n",
    "        loss, current = loss.item(), (batch_size+1) *len(data)\n",
    "        print(f'loss:{loss:>7f} [{current:>5d}/{size:>5d}]')\n"
   ]
  },
  {
   "cell_type": "code",
   "execution_count": 228,
   "metadata": {},
   "outputs": [
    {
     "name": "stdout",
     "output_type": "stream",
     "text": [
      "Epoch1\n",
      "-------------------------------\n"
     ]
    },
    {
     "ename": "ValueError",
     "evalue": "Expected input batch_size (55664) to match target batch_size (499).",
     "output_type": "error",
     "traceback": [
      "\u001b[0;31m---------------------------------------------------------------------------\u001b[0m",
      "\u001b[0;31mValueError\u001b[0m                                Traceback (most recent call last)",
      "Cell \u001b[0;32mIn[228], line 5\u001b[0m\n\u001b[1;32m      3\u001b[0m \u001b[39mprint\u001b[39m(\u001b[39mf\u001b[39m\u001b[39m'\u001b[39m\u001b[39mEpoch\u001b[39m\u001b[39m{\u001b[39;00mt\u001b[39m+\u001b[39m\u001b[39m1\u001b[39m\u001b[39m}\u001b[39;00m\u001b[39m\\n\u001b[39;00m\u001b[39m-------------------------------\u001b[39m\u001b[39m'\u001b[39m)\n\u001b[1;32m      4\u001b[0m \u001b[39mfor\u001b[39;00m i \u001b[39min\u001b[39;00m \u001b[39mrange\u001b[39m(t\u001b[39m*\u001b[39m\u001b[39m64\u001b[39m\u001b[39m+\u001b[39m\u001b[39m64\u001b[39m):\n\u001b[0;32m----> 5\u001b[0m     train_model(train_data[i], labels, model, loss_fn, optimizer)\n",
      "Cell \u001b[0;32mIn[227], line 9\u001b[0m, in \u001b[0;36mtrain_model\u001b[0;34m(data, label, model, loss_fn, optimizer)\u001b[0m\n\u001b[1;32m      7\u001b[0m \u001b[39m# compute prediction error\u001b[39;00m\n\u001b[1;32m      8\u001b[0m pred \u001b[39m=\u001b[39m model(data)\n\u001b[0;32m----> 9\u001b[0m loss \u001b[39m=\u001b[39m loss_fn(pred, label)\n\u001b[1;32m     11\u001b[0m \u001b[39m# back propafation\u001b[39;00m\n\u001b[1;32m     12\u001b[0m optimizer\u001b[39m.\u001b[39mzero_grad()\n",
      "File \u001b[0;32m~/software/anaconda3/lib/python3.8/site-packages/torch/nn/modules/module.py:1194\u001b[0m, in \u001b[0;36mModule._call_impl\u001b[0;34m(self, *input, **kwargs)\u001b[0m\n\u001b[1;32m   1190\u001b[0m \u001b[39m# If we don't have any hooks, we want to skip the rest of the logic in\u001b[39;00m\n\u001b[1;32m   1191\u001b[0m \u001b[39m# this function, and just call forward.\u001b[39;00m\n\u001b[1;32m   1192\u001b[0m \u001b[39mif\u001b[39;00m \u001b[39mnot\u001b[39;00m (\u001b[39mself\u001b[39m\u001b[39m.\u001b[39m_backward_hooks \u001b[39mor\u001b[39;00m \u001b[39mself\u001b[39m\u001b[39m.\u001b[39m_forward_hooks \u001b[39mor\u001b[39;00m \u001b[39mself\u001b[39m\u001b[39m.\u001b[39m_forward_pre_hooks \u001b[39mor\u001b[39;00m _global_backward_hooks\n\u001b[1;32m   1193\u001b[0m         \u001b[39mor\u001b[39;00m _global_forward_hooks \u001b[39mor\u001b[39;00m _global_forward_pre_hooks):\n\u001b[0;32m-> 1194\u001b[0m     \u001b[39mreturn\u001b[39;00m forward_call(\u001b[39m*\u001b[39;49m\u001b[39minput\u001b[39;49m, \u001b[39m*\u001b[39;49m\u001b[39m*\u001b[39;49mkwargs)\n\u001b[1;32m   1195\u001b[0m \u001b[39m# Do not call functions when jit is used\u001b[39;00m\n\u001b[1;32m   1196\u001b[0m full_backward_hooks, non_full_backward_hooks \u001b[39m=\u001b[39m [], []\n",
      "File \u001b[0;32m~/software/anaconda3/lib/python3.8/site-packages/torch/nn/modules/loss.py:1174\u001b[0m, in \u001b[0;36mCrossEntropyLoss.forward\u001b[0;34m(self, input, target)\u001b[0m\n\u001b[1;32m   1173\u001b[0m \u001b[39mdef\u001b[39;00m \u001b[39mforward\u001b[39m(\u001b[39mself\u001b[39m, \u001b[39minput\u001b[39m: Tensor, target: Tensor) \u001b[39m-\u001b[39m\u001b[39m>\u001b[39m Tensor:\n\u001b[0;32m-> 1174\u001b[0m     \u001b[39mreturn\u001b[39;00m F\u001b[39m.\u001b[39;49mcross_entropy(\u001b[39minput\u001b[39;49m, target, weight\u001b[39m=\u001b[39;49m\u001b[39mself\u001b[39;49m\u001b[39m.\u001b[39;49mweight,\n\u001b[1;32m   1175\u001b[0m                            ignore_index\u001b[39m=\u001b[39;49m\u001b[39mself\u001b[39;49m\u001b[39m.\u001b[39;49mignore_index, reduction\u001b[39m=\u001b[39;49m\u001b[39mself\u001b[39;49m\u001b[39m.\u001b[39;49mreduction,\n\u001b[1;32m   1176\u001b[0m                            label_smoothing\u001b[39m=\u001b[39;49m\u001b[39mself\u001b[39;49m\u001b[39m.\u001b[39;49mlabel_smoothing)\n",
      "File \u001b[0;32m~/software/anaconda3/lib/python3.8/site-packages/torch/nn/functional.py:3026\u001b[0m, in \u001b[0;36mcross_entropy\u001b[0;34m(input, target, weight, size_average, ignore_index, reduce, reduction, label_smoothing)\u001b[0m\n\u001b[1;32m   3024\u001b[0m \u001b[39mif\u001b[39;00m size_average \u001b[39mis\u001b[39;00m \u001b[39mnot\u001b[39;00m \u001b[39mNone\u001b[39;00m \u001b[39mor\u001b[39;00m reduce \u001b[39mis\u001b[39;00m \u001b[39mnot\u001b[39;00m \u001b[39mNone\u001b[39;00m:\n\u001b[1;32m   3025\u001b[0m     reduction \u001b[39m=\u001b[39m _Reduction\u001b[39m.\u001b[39mlegacy_get_string(size_average, reduce)\n\u001b[0;32m-> 3026\u001b[0m \u001b[39mreturn\u001b[39;00m torch\u001b[39m.\u001b[39;49m_C\u001b[39m.\u001b[39;49m_nn\u001b[39m.\u001b[39;49mcross_entropy_loss(\u001b[39minput\u001b[39;49m, target, weight, _Reduction\u001b[39m.\u001b[39;49mget_enum(reduction), ignore_index, label_smoothing)\n",
      "\u001b[0;31mValueError\u001b[0m: Expected input batch_size (55664) to match target batch_size (499)."
     ]
    }
   ],
   "source": [
    "epochs = 6\n",
    "for t in range(epochs):\n",
    "    print(f'Epoch{t+1}\\n-------------------------------')\n",
    "    for i in range(t*64+64):\n",
    "        train_model(train_data[i], labels, model, loss_fn, optimizer)"
   ]
  },
  {
   "cell_type": "code",
   "execution_count": null,
   "metadata": {},
   "outputs": [],
   "source": []
  }
 ],
 "metadata": {
  "kernelspec": {
   "display_name": "base",
   "language": "python",
   "name": "python3"
  },
  "language_info": {
   "codemirror_mode": {
    "name": "ipython",
    "version": 3
   },
   "file_extension": ".py",
   "mimetype": "text/x-python",
   "name": "python",
   "nbconvert_exporter": "python",
   "pygments_lexer": "ipython3",
   "version": "3.8.16"
  },
  "orig_nbformat": 4,
  "vscode": {
   "interpreter": {
    "hash": "eace1a3d2d18dcb98353cfeb529f20792ec64dcc10ba0bdd358326e3f660811b"
   }
  }
 },
 "nbformat": 4,
 "nbformat_minor": 2
}
