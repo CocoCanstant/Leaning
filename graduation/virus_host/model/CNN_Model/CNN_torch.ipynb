{
 "cells": [
  {
   "attachments": {},
   "cell_type": "markdown",
   "metadata": {},
   "source": [
    "the mothod of label converting is optimised"
   ]
  },
  {
   "cell_type": "code",
   "execution_count": 194,
   "metadata": {},
   "outputs": [],
   "source": [
    "from Bio import SeqIO\n",
    "from Bio.SeqRecord import SeqRecord\n",
    "import numpy as np\n",
    "import torch\n",
    "\n",
    "# convert sequence to matrix\n",
    "def one_hot(sequence):\n",
    "    nucl_list = ['A', 'T', 'C', 'G']\n",
    "    nucl_dic = dict((int, nucl) for nucl, int in enumerate(nucl_list))\n",
    "    _seq_data = [nucl_dic[base] for base in sequence]\n",
    "    result = np.zeros((len(sequence), 4))\n",
    "    for _, base in enumerate(_seq_data):\n",
    "        result[_, base] = 1\n",
    "    return(result)\n",
    "\n",
    "# convert label to tensor\n",
    "def label2tensor(labels):\n",
    "    labels_dict = dict((key, value) for value, key in enumerate(labels))\n",
    "    labels = [labels_dict[i] for i in labels]\n",
    "    result = np.zeros((len(labels), 4))\n",
    "    \n",
    "    for _, base in enumerate(labels):\n",
    "        result[_, base] = 1\n",
    "    # convert result to tensor\n",
    "    result = torch.tensor(result).to(torch.float32)\n",
    "    \n",
    "    return result\n",
    "\n",
    "# cut off sequence to 2k segment\n",
    "def seq2onehot(sequence_file):\n",
    "    \n",
    "    seq_label = [] # the list is including seq corresponding accession\n",
    "    seq_data = [] # a sequence is converted to a list of 2k sub-seq\n",
    "    \n",
    "    for seq_record in SeqIO.parse(sequence_file, 'fasta'):\n",
    "        # virus 2k DNA sequence segments\n",
    "        new_record = []\n",
    "        # get sequence data\n",
    "        seq = seq_record.seq\n",
    "        # remove N\n",
    "        seq = str(seq).replace('N', '')\n",
    "        \n",
    "        for i in range(0, len(seq), 500):\n",
    "            if (i + 2000) > len(seq):\n",
    "                new_seq = seq[-2000:]\n",
    "                record = SeqRecord(new_seq, id=seq_record.id)\n",
    "                new_record.append(record)\n",
    "                break\n",
    "            new_seq = seq[i:i+2000]\n",
    "            record = SeqRecord(new_seq, id=seq_record.id)\n",
    "            new_record.append(record)\n",
    " \n",
    "        seq_data.append(torch.tensor(np.array([one_hot(segment) for segment in new_record], dtype=np.float32)))\n",
    "\n",
    "        seq_label.append(seq_record.id)\n",
    "    \n",
    "    seq_label = label2tensor(seq_label)\n",
    "        \n",
    "    return seq_label, seq_data"
   ]
  },
  {
   "cell_type": "code",
   "execution_count": 95,
   "metadata": {},
   "outputs": [],
   "source": [
    "data_path = '/home/ouconstand/data/Virus_Host/seq_data/seq_train.fasta'"
   ]
  },
  {
   "cell_type": "code",
   "execution_count": 195,
   "metadata": {},
   "outputs": [],
   "source": [
    "labels, train_data = seq2onehot(data_path)"
   ]
  },
  {
   "cell_type": "code",
   "execution_count": 196,
   "metadata": {},
   "outputs": [
    {
     "name": "stdout",
     "output_type": "stream",
     "text": [
      "torch.Size([4])\n",
      "torch.Size([4])\n",
      "torch.Size([4])\n",
      "torch.Size([4])\n"
     ]
    }
   ],
   "source": [
    "for i in range(4):\n",
    "    print(labels[i].shape)"
   ]
  },
  {
   "cell_type": "code",
   "execution_count": 197,
   "metadata": {},
   "outputs": [
    {
     "name": "stdout",
     "output_type": "stream",
     "text": [
      "torch.Size([56, 2000, 4])\n",
      "torch.Size([56, 2000, 4])\n",
      "torch.Size([58, 2000, 4])\n",
      "torch.Size([52, 2000, 4])\n"
     ]
    }
   ],
   "source": [
    "for i in range(4):\n",
    "    print(train_data[i].shape)"
   ]
  },
  {
   "cell_type": "code",
   "execution_count": 209,
   "metadata": {},
   "outputs": [],
   "source": [
    "import torch\n",
    "import torch.nn as nn\n",
    "import torch.nn.functional as F\n",
    "\n",
    "class MyModel(nn.Module):\n",
    "    def __init__(self):\n",
    "        super(MyModel, self).__init__()\n",
    "        # three convolutional layers and a maxpool layer\n",
    "        self.convs_pool_layers = nn.Sequential(\n",
    "            nn.Conv1d(in_channels=4, out_channels=32, kernel_size=3),\n",
    "            nn.Conv1d(in_channels=32, out_channels=64, kernel_size=5),\n",
    "            nn.Conv1d(in_channels=64, out_channels=128, kernel_size=7),\n",
    "            nn.MaxPool1d(kernel_size=2)\n",
    "        )\n",
    "        # it is not necessary to build a softmax layer because of the loss function including a softmax layer\n",
    "        self.fc = nn.Linear(128, 256)\n",
    "        self.relu = nn.ReLU()\n",
    "        \n",
    "        \n",
    "    def forward(self, x):\n",
    "        x = x.permute(0,2,1)\n",
    "        x = [self.convs_pool_layers(i) for i in x]\n",
    "        x = torch.cat(x, 1)\n",
    "        x = self.relu(x)\n",
    "        \n",
    "        return x"
   ]
  },
  {
   "cell_type": "code",
   "execution_count": 210,
   "metadata": {},
   "outputs": [
    {
     "name": "stdout",
     "output_type": "stream",
     "text": [
      "MyModel(\n",
      "  (convs_pool_layers): Sequential(\n",
      "    (0): Conv1d(4, 32, kernel_size=(3,), stride=(1,))\n",
      "    (1): Conv1d(32, 64, kernel_size=(5,), stride=(1,))\n",
      "    (2): Conv1d(64, 128, kernel_size=(7,), stride=(1,))\n",
      "    (3): MaxPool1d(kernel_size=2, stride=2, padding=0, dilation=1, ceil_mode=False)\n",
      "  )\n",
      "  (fc): Linear(in_features=128, out_features=256, bias=True)\n",
      "  (relu): ReLU()\n",
      ")\n"
     ]
    }
   ],
   "source": [
    "# input (batch_size, seq_length, feature_num)\n",
    "model = MyModel()\n",
    "print(model)"
   ]
  },
  {
   "cell_type": "code",
   "execution_count": 211,
   "metadata": {},
   "outputs": [],
   "source": [
    "loss_fn = nn.CrossEntropyLoss()\n",
    "optimizer = torch.optim.SGD(model.parameters(), lr=0.001)"
   ]
  },
  {
   "cell_type": "code",
   "execution_count": 214,
   "metadata": {},
   "outputs": [
    {
     "data": {
      "text/plain": [
       "torch.Size([128, 55664])"
      ]
     },
     "execution_count": 214,
     "metadata": {},
     "output_type": "execute_result"
    }
   ],
   "source": [
    "\n",
    "# zero the parameter gradient\n",
    "optimizer.zero_grad() # ?\n",
    "\n",
    "# forward + backward + optimize\n",
    "output = model(train_data[0])\n",
    "loss = criterion(output, labels)\n",
    "loss.backward()\n",
    "optimizer.step()\n"
   ]
  },
  {
   "cell_type": "code",
   "execution_count": 215,
   "metadata": {},
   "outputs": [
    {
     "data": {
      "text/plain": [
       "tensor([[0.0000, 0.1779, 0.3427,  ..., 0.1087, 0.0263, 0.1584],\n",
       "        [0.0729, 0.0000, 0.1222,  ..., 0.0890, 0.0000, 0.0135],\n",
       "        [0.0471, 0.0000, 0.0000,  ..., 0.0000, 0.0000, 0.0000],\n",
       "        ...,\n",
       "        [0.2689, 0.1754, 0.0867,  ..., 0.1421, 0.0692, 0.0349],\n",
       "        [0.1692, 0.2337, 0.1117,  ..., 0.0000, 0.0983, 0.1940],\n",
       "        [0.1444, 0.0000, 0.0351,  ..., 0.0000, 0.0488, 0.0000]],\n",
       "       grad_fn=<ReluBackward0>)"
      ]
     },
     "execution_count": 215,
     "metadata": {},
     "output_type": "execute_result"
    }
   ],
   "source": [
    "output"
   ]
  },
  {
   "cell_type": "code",
   "execution_count": null,
   "metadata": {},
   "outputs": [],
   "source": []
  }
 ],
 "metadata": {
  "kernelspec": {
   "display_name": "base",
   "language": "python",
   "name": "python3"
  },
  "language_info": {
   "codemirror_mode": {
    "name": "ipython",
    "version": 3
   },
   "file_extension": ".py",
   "mimetype": "text/x-python",
   "name": "python",
   "nbconvert_exporter": "python",
   "pygments_lexer": "ipython3",
   "version": "3.8.16"
  },
  "orig_nbformat": 4,
  "vscode": {
   "interpreter": {
    "hash": "eace1a3d2d18dcb98353cfeb529f20792ec64dcc10ba0bdd358326e3f660811b"
   }
  }
 },
 "nbformat": 4,
 "nbformat_minor": 2
}
