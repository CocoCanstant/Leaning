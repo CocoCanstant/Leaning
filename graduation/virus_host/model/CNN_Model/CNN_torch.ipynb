{
 "cells": [
  {
   "cell_type": "code",
   "execution_count": 25,
   "metadata": {},
   "outputs": [],
   "source": [
    "import numpy as np\n",
    "def one_hot(sequence):\n",
    "    nucl_list = ['A', 'T', 'C', 'G']\n",
    "    nucl_dic = dict((int, nucl) for nucl, int in enumerate(nucl_list))\n",
    "    _seq_data = [nucl_dic[base] for base in sequence]\n",
    "    result = np.zeros((len(sequence), 4))\n",
    "    for _, base in enumerate(_seq_data):\n",
    "        result[_, base] = 1\n",
    "    return(result)"
   ]
  },
  {
   "cell_type": "code",
   "execution_count": 26,
   "metadata": {},
   "outputs": [
    {
     "data": {
      "text/plain": [
       "array([[1., 0., 0., 0.],\n",
       "       [0., 1., 0., 0.],\n",
       "       [0., 0., 1., 0.],\n",
       "       [0., 0., 0., 1.]])"
      ]
     },
     "execution_count": 26,
     "metadata": {},
     "output_type": "execute_result"
    }
   ],
   "source": [
    "one_hot(\"ATCG\")"
   ]
  },
  {
   "cell_type": "code",
   "execution_count": 59,
   "metadata": {},
   "outputs": [],
   "source": [
    "from Bio import SeqIO\n",
    "from Bio.SeqRecord import SeqRecord\n",
    "import numpy as np\n",
    "\n",
    "# convert sequence to matrix\n",
    "def one_hot(sequence):\n",
    "    nucl_list = ['A', 'T', 'C', 'G']\n",
    "    nucl_dic = dict((int, nucl) for nucl, int in enumerate(nucl_list))\n",
    "    _seq_data = [nucl_dic[base] for base in sequence]\n",
    "    result = np.zeros((len(sequence), 4))\n",
    "    for _, base in enumerate(_seq_data):\n",
    "        result[_, base] = 1\n",
    "    return(result)\n",
    "\n",
    "# cut off sequence to 2k segment\n",
    "def seq2onehot(sequence_file):\n",
    "\n",
    "    for seq_record in SeqIO.parse(sequence_file, 'fasta'):\n",
    "        # virus 2k DNA sequence segments\n",
    "        new_record = []\n",
    "        # get sequence data\n",
    "        seq = seq_record.seq\n",
    "        # remove N\n",
    "        seq = str(seq).replace('N', '')\n",
    "        \n",
    "        for i in range(0, len(seq), 500):\n",
    "            if (i + 2000) > len(seq):\n",
    "                new_seq = seq[-2000:]\n",
    "                record = SeqRecord(new_seq, id=seq_record.id)\n",
    "                new_record.append(record)\n",
    "                break\n",
    "            new_seq = seq[i:i+2000]\n",
    "            record = SeqRecord(new_seq, id=seq_record.id)\n",
    "            new_record.append(record)\n",
    "           \n",
    "        seq_data = np.array([one_hot(segment) for segment in new_record])\n",
    "        return seq_data\n",
    "        "
   ]
  },
  {
   "cell_type": "code",
   "execution_count": null,
   "metadata": {},
   "outputs": [],
   "source": []
  },
  {
   "cell_type": "code",
   "execution_count": null,
   "metadata": {},
   "outputs": [],
   "source": [
    "import torch\n",
    "import torch.nn as nn\n",
    "import torch.nn.functional as F\n",
    "# define CNN model\n",
    "class CNNModel(nn.Module):\n",
    "    def __init__(self):\n",
    "        super(CNNModel, self).__init__() # 继承父类nn.Module\n",
    "        self.conv1 = nn.Conv1d(in_channels=4, out_channels=32, kernel_size=3, padding=1)\n",
    "        self.conv2 = nn.Conv1d(in_channels=32, out_channels=64, kernel_size=3, padding=1)\n",
    "        self.pool = nn.MaxPool1d(kernel_size=2, stride=2)\n",
    "    def forward(self, x):\n",
    "        x = F.relu(self.conv1(x))\n",
    "        x = self.pool(x)\n",
    "        x = F.relu(self.conv2(x))\n",
    "        x = self.pool(x)\n",
    "        return x"
   ]
  },
  {
   "cell_type": "code",
   "execution_count": 1,
   "metadata": {},
   "outputs": [],
   "source": [
    "data_path = '/home/ouconstand/data/Virus_Host/seq_data/sequence_0.fasta'"
   ]
  },
  {
   "cell_type": "code",
   "execution_count": 47,
   "metadata": {},
   "outputs": [
    {
     "data": {
      "text/plain": [
       "['x', 'x', 'x', 'x']"
      ]
     },
     "execution_count": 47,
     "metadata": {},
     "output_type": "execute_result"
    }
   ],
   "source": []
  },
  {
   "cell_type": "code",
   "execution_count": 60,
   "metadata": {},
   "outputs": [],
   "source": [
    "train = seq2onehot(data_path)"
   ]
  },
  {
   "cell_type": "code",
   "execution_count": 63,
   "metadata": {},
   "outputs": [
    {
     "data": {
      "text/plain": [
       "(56, 2000, 4)"
      ]
     },
     "execution_count": 63,
     "metadata": {},
     "output_type": "execute_result"
    }
   ],
   "source": [
    "train.shape"
   ]
  },
  {
   "cell_type": "code",
   "execution_count": 46,
   "metadata": {},
   "outputs": [
    {
     "data": {
      "text/plain": [
       "1"
      ]
     },
     "execution_count": 46,
     "metadata": {},
     "output_type": "execute_result"
    }
   ],
   "source": [
    "len(train)"
   ]
  },
  {
   "cell_type": "code",
   "execution_count": null,
   "metadata": {},
   "outputs": [],
   "source": []
  }
 ],
 "metadata": {
  "kernelspec": {
   "display_name": "base",
   "language": "python",
   "name": "python3"
  },
  "language_info": {
   "codemirror_mode": {
    "name": "ipython",
    "version": 3
   },
   "file_extension": ".py",
   "mimetype": "text/x-python",
   "name": "python",
   "nbconvert_exporter": "python",
   "pygments_lexer": "ipython3",
   "version": "3.8.16"
  },
  "orig_nbformat": 4,
  "vscode": {
   "interpreter": {
    "hash": "eace1a3d2d18dcb98353cfeb529f20792ec64dcc10ba0bdd358326e3f660811b"
   }
  }
 },
 "nbformat": 4,
 "nbformat_minor": 2
}
