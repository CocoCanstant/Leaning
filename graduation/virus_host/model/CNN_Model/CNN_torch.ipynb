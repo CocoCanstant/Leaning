{
 "cells": [
  {
   "attachments": {},
   "cell_type": "markdown",
   "metadata": {},
   "source": [
    "the mothod of label converting is optimised # finish"
   ]
  },
  {
   "cell_type": "code",
   "execution_count": 1,
   "metadata": {},
   "outputs": [],
   "source": [
    "import numpy as np\n",
    "import pandas as pd\n",
    "import torch\n",
    "import os\n",
    "\n",
    "# convert sequence to matrix\n",
    "def one_hot(sequence):\n",
    "    nucl_list = ['A', 'T', 'C', 'G']\n",
    "    nucl_dic = dict((int, nucl) for nucl, int in enumerate(nucl_list))\n",
    "    _seq_data = [nucl_dic[base] for base in sequence]\n",
    "    result = np.zeros((len(sequence), 4))\n",
    "    for _, base in enumerate(_seq_data):\n",
    "        result[_, base] = 1\n",
    "    return(result)\n",
    "\n",
    "# convert label to tensor\n",
    "def label2tensor(labels):\n",
    "    # open host info file\n",
    "    host_info = pd.read_csv('/home/ouconstand/data/Virus_Host/non_homo_host_info.csv')\n",
    "    host_dict = host_info[['Representation', 'HostClass']].drop_duplicates().set_index('Representation').to_dict(orient='dict')['HostClass']\n",
    "    \n",
    "    # convert accession to class taxon\n",
    "    labels = [host_dict[label] for label in labels]\n",
    "    \n",
    "    labels_dict = dict((key, value) for value, key in enumerate(list(set(labels))))\n",
    "    labels = [labels_dict[i] for i in labels]\n",
    "    result = np.zeros((len(labels), len(set(labels))))\n",
    "    \n",
    "    for _, base in enumerate(labels):\n",
    "        result[_, base] = 1\n",
    "    # convert result to tensor\n",
    "    result = torch.tensor(result).to(torch.float32)\n",
    "    \n",
    "    return result\n",
    "\n",
    "# cut off sequence to 2k segment\n",
    "def seq2onehot(sequence_dir, num):\n",
    "    \n",
    "    seq_label = [] # the list is including seq corresponding accession\n",
    "    seq_data = [] # a sequence is converted to a list of 2k sub-seq\n",
    "    n = 0\n",
    "    for file in os.listdir(sequence_dir):\n",
    "        \n",
    "        n += 1\n",
    "        \n",
    "        id = file\n",
    "        with open(sequence_dir + file, 'r') as f:\n",
    "            seq = f.read()\n",
    "            \n",
    "        new_record = []\n",
    "            \n",
    "        for i in range(0, len(seq), 500):\n",
    "            if (i + 2000) > len(seq):\n",
    "                new_seq = seq[-2000:]\n",
    "                new_record.append(new_seq)\n",
    "                break\n",
    "            new_seq = seq[i:i+2000]\n",
    "            new_record.append(new_seq)\n",
    "        \n",
    "        seq_data.append(torch.tensor(np.array([one_hot(segment) for segment in new_record], dtype=np.float32)))\n",
    "\n",
    "        seq_label.append(id)\n",
    "        \n",
    "        if n == num:\n",
    "            break\n",
    "\n",
    "    seq_label = label2tensor(seq_label)\n",
    "        \n",
    "    return seq_label, seq_data"
   ]
  },
  {
   "cell_type": "code",
   "execution_count": 2,
   "metadata": {},
   "outputs": [],
   "source": [
    "data_path = '/home/ouconstand/data/Virus_Host/0309_seqdata/'"
   ]
  },
  {
   "cell_type": "code",
   "execution_count": 3,
   "metadata": {},
   "outputs": [],
   "source": [
    "labels, train_data = seq2onehot(data_path, 499)"
   ]
  },
  {
   "cell_type": "code",
   "execution_count": 4,
   "metadata": {},
   "outputs": [],
   "source": [
    "import torch\n",
    "import torch.nn as nn\n",
    "\n",
    "class MyModel(nn.Module):\n",
    "    def __init__(self):\n",
    "        super(MyModel, self).__init__()\n",
    "        # three convolutional layers and a maxpool layer\n",
    "        self.convs_layers = nn.Sequential(\n",
    "            nn.Conv1d(in_channels=4, out_channels=256, kernel_size=5),\n",
    "            nn.ReLU(),\n",
    "            nn.Conv1d(in_channels=256, out_channels=256, kernel_size=7),\n",
    "            nn.ReLU(),\n",
    "            nn.Conv1d(in_channels=256, out_channels=256, kernel_size=9),\n",
    "            nn.ReLU(),\n",
    "            nn.MaxPool1d(2)\n",
    "        )\n",
    "        # it is not necessary to build a softmax layer because of the loss function including a softmax layer\n",
    "        # self.pool = nn.MaxPool1d(3)\n",
    "        self.fc_1 = nn.Linear(991, 512)\n",
    "        self.fc_2 = nn.Linear(512, 2)\n",
    "        self.relu = nn.ReLU()\n",
    "        self.dropout = nn.Dropout(0.5)\n",
    " \n",
    "        \n",
    "        \n",
    "    def forward(self, x):\n",
    "        \n",
    "        x = x.permute(0,2,1)\n",
    "        \n",
    "        x = [self.convs_layers(i) for i in x]\n",
    "        count_sub = len(x)\n",
    "        x = torch.cat(x, 1)\n",
    "        \n",
    "        x = x.view(256, int(1982/2), count_sub) # 转化变量成最后一维，然后用mean，sqeeze将其降至0维。被除数应该与maxpool层的size相同\n",
    "        \n",
    "        x = torch.mean(x, dim=2)\n",
    "        \n",
    "        x = self.fc_1(x)\n",
    "        x = self.dropout(x)\n",
    "        x = self.fc_2(x)\n",
    "        x = self.relu(x)\n",
    "        x = torch.sum(x, dim=0)\n",
    "        # x = torch.mean(x, 1)\n",
    "        \n",
    "        # x = torch.transpose(x, 0, 1) # transpose dim\n",
    "        # x = self.fc(x)\n",
    "        # x = torch.transpose(x, 0, 1)\n",
    "        \n",
    "        # x = self.relu(x)\n",
    "\n",
    "        return x\n",
    "    \n",
    "    # def show(self):\n",
    "        # return self.fc \n",
    "        "
   ]
  },
  {
   "cell_type": "code",
   "execution_count": 5,
   "metadata": {},
   "outputs": [
    {
     "name": "stdout",
     "output_type": "stream",
     "text": [
      "MyModel(\n",
      "  (convs_layers): Sequential(\n",
      "    (0): Conv1d(4, 256, kernel_size=(5,), stride=(1,))\n",
      "    (1): ReLU()\n",
      "    (2): Conv1d(256, 256, kernel_size=(7,), stride=(1,))\n",
      "    (3): ReLU()\n",
      "    (4): Conv1d(256, 256, kernel_size=(9,), stride=(1,))\n",
      "    (5): ReLU()\n",
      "    (6): MaxPool1d(kernel_size=2, stride=2, padding=0, dilation=1, ceil_mode=False)\n",
      "  )\n",
      "  (fc_1): Linear(in_features=991, out_features=512, bias=True)\n",
      "  (fc_2): Linear(in_features=512, out_features=2, bias=True)\n",
      "  (relu): ReLU()\n",
      "  (dropout): Dropout(p=0.5, inplace=False)\n",
      ")\n"
     ]
    }
   ],
   "source": [
    "# input (batch_size, seq_length, feature_num)\n",
    "model = MyModel()\n",
    "print(model)"
   ]
  },
  {
   "cell_type": "code",
   "execution_count": 6,
   "metadata": {},
   "outputs": [],
   "source": [
    "loss_fn = nn.CrossEntropyLoss()\n",
    "optimizer = torch.optim.SGD(model.parameters(), lr=0.001)"
   ]
  },
  {
   "cell_type": "code",
   "execution_count": 75,
   "metadata": {},
   "outputs": [],
   "source": [
    "batch_size = 64 # the count of sample is 64\n",
    "\n",
    "def train_model(data, label, model, loss_fn, optimizer):\n",
    "    size = len(data)\n",
    "    model.train()\n",
    "    \n",
    "    # compute prediction error\n",
    "    pred = model(data)\n",
    "    loss = loss_fn(pred, label)\n",
    "\n",
    "    # back propafation\n",
    "    optimizer.zero_grad()\n",
    "    loss.backward()\n",
    "    optimizer.step()\n",
    "\n",
    "    if batch_size % 64 == 0:\n",
    "        loss, current = loss.item(), (batch_size+1) * size\n",
    "        print(f'loss:{loss:>7f} [{current:>5d}/{size:>5d}]')\n"
   ]
  },
  {
   "cell_type": "code",
   "execution_count": 7,
   "metadata": {},
   "outputs": [],
   "source": [
    "selecting = [i for i in range(499)]\n",
    "selecting_train = np.random.choice(selecting, 400, replace=False)\n",
    "train_number = [i for i in selecting_train]\n",
    "test_number = list(set(selecting) - set(selecting_train))"
   ]
  },
  {
   "cell_type": "code",
   "execution_count": 8,
   "metadata": {},
   "outputs": [],
   "source": [
    "first_train_data = [train_data[i] for i in train_number]\n",
    "first_test_label = [labels[i] for i in train_number]\n",
    "\n",
    "test_data = [train_data[i] for i in test_number]\n",
    "test_label = [labels[i] for i in test_number]"
   ]
  },
  {
   "cell_type": "code",
   "execution_count": 10,
   "metadata": {},
   "outputs": [
    {
     "name": "stdout",
     "output_type": "stream",
     "text": [
      "epoch 1, loss: 0.6931471824645996\n",
      "epoch 2, loss: 0.6931471824645996\n",
      "epoch 3, loss: 0.6931471824645996\n",
      "epoch 4, loss: 0.6931471824645996\n"
     ]
    }
   ],
   "source": [
    "n = 0\n",
    "epoch = 0\n",
    "batch_size = 100\n",
    "model.train()\n",
    "for input, target in zip(first_train_data, first_test_label):\n",
    "    optimizer.zero_grad()\n",
    "    output = model(input)\n",
    "    loss = loss_fn(output, target)\n",
    "    loss.backward()\n",
    "    optimizer.step()\n",
    "    n += 1\n",
    "    if n % batch_size == 0:\n",
    "        epoch += 1\n",
    "        print('epoch {}, loss: {}'.format(epoch, loss.item()))"
   ]
  },
  {
   "cell_type": "code",
   "execution_count": 11,
   "metadata": {},
   "outputs": [],
   "source": [
    "torch.cuda.empty_cache()"
   ]
  },
  {
   "cell_type": "code",
   "execution_count": null,
   "metadata": {},
   "outputs": [],
   "source": [
    "for epoch in range(10):\n",
    "    for inputs, targets in dataloader:\n",
    "        optimizer.zero_grad()\n",
    "        outputs = model(inputs)\n",
    "        loss = criterion(outputs, targets)\n",
    "        loss.backward()\n",
    "        optimizer.step()\n",
    "    print('Epoch %!d(MISSING), Loss: %!f(MISSING)' %!((MISSING)epoch, loss.item()))"
   ]
  },
  {
   "cell_type": "code",
   "execution_count": 18,
   "metadata": {},
   "outputs": [],
   "source": [
    "import torch\n",
    "import torch.nn  as nn\n",
    "import torch.nn.functional as F\n",
    "\n",
    "class Seq_CNN(nn.Module):\n",
    "    def __init__(self) -> None:\n",
    "        super(Seq_CNN, self).__init__()\n",
    "        \n",
    "        self.conv_layers = nn.Conv2d(1, 256, (3, 4))\n",
    "        self.conv_second = nn.Conv2d(1, 256, (5, 4))\n",
    "        self.conv_thirde = nn.Conv2d(1, 256, (7, 4))\n",
    "\n",
    "    def forward(self, x):\n",
    "        x = x.unsqueeze(1)\n",
    "        x = F.relu(self.conv_layers(x))\n",
    "    \n",
    "        print(x.shape)\n",
    "        x = x.squeeze(3)\n",
    "        x = x.unsqueeze(1)\n",
    "        x = self.conv_second(x)\n",
    "\n",
    "\n",
    "        return x"
   ]
  },
  {
   "cell_type": "code",
   "execution_count": 19,
   "metadata": {},
   "outputs": [
    {
     "name": "stdout",
     "output_type": "stream",
     "text": [
      "Seq_CNN(\n",
      "  (conv_layers): Conv2d(1, 256, kernel_size=(3, 4), stride=(1, 1))\n",
      "  (conv_second): Conv2d(1, 256, kernel_size=(5, 4), stride=(1, 1))\n",
      "  (conv_thirde): Conv2d(1, 256, kernel_size=(7, 4), stride=(1, 1))\n",
      ")\n"
     ]
    }
   ],
   "source": [
    "train_model = Seq_CNN()\n",
    "print(train_model)"
   ]
  },
  {
   "cell_type": "code",
   "execution_count": 20,
   "metadata": {},
   "outputs": [
    {
     "name": "stdout",
     "output_type": "stream",
     "text": [
      "torch.Size([56, 256, 1998, 1])\n"
     ]
    },
    {
     "ename": "RuntimeError",
     "evalue": "[enforce fail at alloc_cpu.cpp:75] err == 0. DefaultCPUAllocator: can't allocate memory: you tried to allocate 28829122560 bytes. Error code 12 (Cannot allocate memory)",
     "output_type": "error",
     "traceback": [
      "\u001b[0;31m---------------------------------------------------------------------------\u001b[0m",
      "\u001b[0;31mRuntimeError\u001b[0m                              Traceback (most recent call last)",
      "Cell \u001b[0;32mIn[20], line 1\u001b[0m\n\u001b[0;32m----> 1\u001b[0m x \u001b[39m=\u001b[39m train_model(train_data[\u001b[39m0\u001b[39;49m])\n\u001b[1;32m      2\u001b[0m \u001b[39mprint\u001b[39m(x\u001b[39m.\u001b[39mshape)\n",
      "File \u001b[0;32m~/software/anaconda3/lib/python3.8/site-packages/torch/nn/modules/module.py:1194\u001b[0m, in \u001b[0;36mModule._call_impl\u001b[0;34m(self, *input, **kwargs)\u001b[0m\n\u001b[1;32m   1190\u001b[0m \u001b[39m# If we don't have any hooks, we want to skip the rest of the logic in\u001b[39;00m\n\u001b[1;32m   1191\u001b[0m \u001b[39m# this function, and just call forward.\u001b[39;00m\n\u001b[1;32m   1192\u001b[0m \u001b[39mif\u001b[39;00m \u001b[39mnot\u001b[39;00m (\u001b[39mself\u001b[39m\u001b[39m.\u001b[39m_backward_hooks \u001b[39mor\u001b[39;00m \u001b[39mself\u001b[39m\u001b[39m.\u001b[39m_forward_hooks \u001b[39mor\u001b[39;00m \u001b[39mself\u001b[39m\u001b[39m.\u001b[39m_forward_pre_hooks \u001b[39mor\u001b[39;00m _global_backward_hooks\n\u001b[1;32m   1193\u001b[0m         \u001b[39mor\u001b[39;00m _global_forward_hooks \u001b[39mor\u001b[39;00m _global_forward_pre_hooks):\n\u001b[0;32m-> 1194\u001b[0m     \u001b[39mreturn\u001b[39;00m forward_call(\u001b[39m*\u001b[39;49m\u001b[39minput\u001b[39;49m, \u001b[39m*\u001b[39;49m\u001b[39m*\u001b[39;49mkwargs)\n\u001b[1;32m   1195\u001b[0m \u001b[39m# Do not call functions when jit is used\u001b[39;00m\n\u001b[1;32m   1196\u001b[0m full_backward_hooks, non_full_backward_hooks \u001b[39m=\u001b[39m [], []\n",
      "Cell \u001b[0;32mIn[18], line 20\u001b[0m, in \u001b[0;36mSeq_CNN.forward\u001b[0;34m(self, x)\u001b[0m\n\u001b[1;32m     18\u001b[0m x \u001b[39m=\u001b[39m x\u001b[39m.\u001b[39msqueeze(\u001b[39m3\u001b[39m)\n\u001b[1;32m     19\u001b[0m x \u001b[39m=\u001b[39m x\u001b[39m.\u001b[39munsqueeze(\u001b[39m1\u001b[39m)\n\u001b[0;32m---> 20\u001b[0m x \u001b[39m=\u001b[39m \u001b[39mself\u001b[39;49m\u001b[39m.\u001b[39;49mconv_second(x)\n\u001b[1;32m     23\u001b[0m \u001b[39mreturn\u001b[39;00m x\n",
      "File \u001b[0;32m~/software/anaconda3/lib/python3.8/site-packages/torch/nn/modules/module.py:1194\u001b[0m, in \u001b[0;36mModule._call_impl\u001b[0;34m(self, *input, **kwargs)\u001b[0m\n\u001b[1;32m   1190\u001b[0m \u001b[39m# If we don't have any hooks, we want to skip the rest of the logic in\u001b[39;00m\n\u001b[1;32m   1191\u001b[0m \u001b[39m# this function, and just call forward.\u001b[39;00m\n\u001b[1;32m   1192\u001b[0m \u001b[39mif\u001b[39;00m \u001b[39mnot\u001b[39;00m (\u001b[39mself\u001b[39m\u001b[39m.\u001b[39m_backward_hooks \u001b[39mor\u001b[39;00m \u001b[39mself\u001b[39m\u001b[39m.\u001b[39m_forward_hooks \u001b[39mor\u001b[39;00m \u001b[39mself\u001b[39m\u001b[39m.\u001b[39m_forward_pre_hooks \u001b[39mor\u001b[39;00m _global_backward_hooks\n\u001b[1;32m   1193\u001b[0m         \u001b[39mor\u001b[39;00m _global_forward_hooks \u001b[39mor\u001b[39;00m _global_forward_pre_hooks):\n\u001b[0;32m-> 1194\u001b[0m     \u001b[39mreturn\u001b[39;00m forward_call(\u001b[39m*\u001b[39;49m\u001b[39minput\u001b[39;49m, \u001b[39m*\u001b[39;49m\u001b[39m*\u001b[39;49mkwargs)\n\u001b[1;32m   1195\u001b[0m \u001b[39m# Do not call functions when jit is used\u001b[39;00m\n\u001b[1;32m   1196\u001b[0m full_backward_hooks, non_full_backward_hooks \u001b[39m=\u001b[39m [], []\n",
      "File \u001b[0;32m~/software/anaconda3/lib/python3.8/site-packages/torch/nn/modules/conv.py:463\u001b[0m, in \u001b[0;36mConv2d.forward\u001b[0;34m(self, input)\u001b[0m\n\u001b[1;32m    462\u001b[0m \u001b[39mdef\u001b[39;00m \u001b[39mforward\u001b[39m(\u001b[39mself\u001b[39m, \u001b[39minput\u001b[39m: Tensor) \u001b[39m-\u001b[39m\u001b[39m>\u001b[39m Tensor:\n\u001b[0;32m--> 463\u001b[0m     \u001b[39mreturn\u001b[39;00m \u001b[39mself\u001b[39;49m\u001b[39m.\u001b[39;49m_conv_forward(\u001b[39minput\u001b[39;49m, \u001b[39mself\u001b[39;49m\u001b[39m.\u001b[39;49mweight, \u001b[39mself\u001b[39;49m\u001b[39m.\u001b[39;49mbias)\n",
      "File \u001b[0;32m~/software/anaconda3/lib/python3.8/site-packages/torch/nn/modules/conv.py:459\u001b[0m, in \u001b[0;36mConv2d._conv_forward\u001b[0;34m(self, input, weight, bias)\u001b[0m\n\u001b[1;32m    455\u001b[0m \u001b[39mif\u001b[39;00m \u001b[39mself\u001b[39m\u001b[39m.\u001b[39mpadding_mode \u001b[39m!=\u001b[39m \u001b[39m'\u001b[39m\u001b[39mzeros\u001b[39m\u001b[39m'\u001b[39m:\n\u001b[1;32m    456\u001b[0m     \u001b[39mreturn\u001b[39;00m F\u001b[39m.\u001b[39mconv2d(F\u001b[39m.\u001b[39mpad(\u001b[39minput\u001b[39m, \u001b[39mself\u001b[39m\u001b[39m.\u001b[39m_reversed_padding_repeated_twice, mode\u001b[39m=\u001b[39m\u001b[39mself\u001b[39m\u001b[39m.\u001b[39mpadding_mode),\n\u001b[1;32m    457\u001b[0m                     weight, bias, \u001b[39mself\u001b[39m\u001b[39m.\u001b[39mstride,\n\u001b[1;32m    458\u001b[0m                     _pair(\u001b[39m0\u001b[39m), \u001b[39mself\u001b[39m\u001b[39m.\u001b[39mdilation, \u001b[39mself\u001b[39m\u001b[39m.\u001b[39mgroups)\n\u001b[0;32m--> 459\u001b[0m \u001b[39mreturn\u001b[39;00m F\u001b[39m.\u001b[39;49mconv2d(\u001b[39minput\u001b[39;49m, weight, bias, \u001b[39mself\u001b[39;49m\u001b[39m.\u001b[39;49mstride,\n\u001b[1;32m    460\u001b[0m                 \u001b[39mself\u001b[39;49m\u001b[39m.\u001b[39;49mpadding, \u001b[39mself\u001b[39;49m\u001b[39m.\u001b[39;49mdilation, \u001b[39mself\u001b[39;49m\u001b[39m.\u001b[39;49mgroups)\n",
      "\u001b[0;31mRuntimeError\u001b[0m: [enforce fail at alloc_cpu.cpp:75] err == 0. DefaultCPUAllocator: can't allocate memory: you tried to allocate 28829122560 bytes. Error code 12 (Cannot allocate memory)"
     ]
    }
   ],
   "source": [
    "x = train_model(train_data[0])\n",
    "print(x.shape)"
   ]
  },
  {
   "cell_type": "code",
   "execution_count": 65,
   "metadata": {},
   "outputs": [
    {
     "data": {
      "text/plain": [
       "torch.Size([56, 256, 1998])"
      ]
     },
     "execution_count": 65,
     "metadata": {},
     "output_type": "execute_result"
    }
   ],
   "source": [
    "x.squeeze(3).shape"
   ]
  },
  {
   "cell_type": "code",
   "execution_count": 21,
   "metadata": {},
   "outputs": [],
   "source": [
    "torch.cuda.empty_cache()"
   ]
  },
  {
   "cell_type": "code",
   "execution_count": null,
   "metadata": {},
   "outputs": [],
   "source": []
  }
 ],
 "metadata": {
  "kernelspec": {
   "display_name": "base",
   "language": "python",
   "name": "python3"
  },
  "language_info": {
   "codemirror_mode": {
    "name": "ipython",
    "version": 3
   },
   "file_extension": ".py",
   "mimetype": "text/x-python",
   "name": "python",
   "nbconvert_exporter": "python",
   "pygments_lexer": "ipython3",
   "version": "3.8.16"
  },
  "orig_nbformat": 4,
  "vscode": {
   "interpreter": {
    "hash": "eace1a3d2d18dcb98353cfeb529f20792ec64dcc10ba0bdd358326e3f660811b"
   }
  }
 },
 "nbformat": 4,
 "nbformat_minor": 2
}
