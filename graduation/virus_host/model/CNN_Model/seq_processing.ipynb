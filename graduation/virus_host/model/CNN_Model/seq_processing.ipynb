{
 "cells": [
  {
   "cell_type": "code",
   "execution_count": 3,
   "metadata": {},
   "outputs": [],
   "source": [
    "data_path = '/home/ouconstand/data/Virus_Host/0307_rmdup_seq.fasta'"
   ]
  },
  {
   "cell_type": "code",
   "execution_count": 7,
   "metadata": {},
   "outputs": [],
   "source": [
    "from Bio import SeqIO\n",
    "from Bio.SeqRecord import SeqRecord\n",
    "import numpy as np\n",
    "\n",
    "\n",
    "for seq_record in SeqIO.parse(data_path, 'fasta'):\n",
    "    id = seq_record.id\n",
    "    seq = seq_record.seq\n",
    "    \n",
    "    nucl_list = ['A', 'T', 'C', 'G']\n",
    "    \n",
    "    seq = str(seq).replace('N', nucl_list[np.random.randint(0,4)])\n",
    "        # replace K, Y, W\n",
    "    seq = seq.replace('W', nucl_list[np.random.randint(0,2)])\n",
    "    seq = seq.replace('S', nucl_list[np.random.randint(2,4)])\n",
    "    seq = seq.replace('M', ['A', 'C'][np.random.randint(0,2)])\n",
    "    seq = seq.replace('K', ['G', 'T'][np.random.randint(0,2)])\n",
    "    seq = seq.replace('R', ['A', 'G'][np.random.randint(0,2)])\n",
    "    seq = seq.replace('Y', ['C', 'T'][np.random.randint(0,2)])\n",
    "    seq = seq.replace('B', nucl_list[np.random.randint(1,4)])\n",
    "    seq = seq.replace('D', ['A', 'G', 'T'][np.random.randint(0,3)])\n",
    "    seq = seq.replace('H', ['A', 'T', 'C'][np.random.randint(0,3)])\n",
    "    seq = seq.replace('V', ['A', 'G', 'C'][np.random.randint(0,3)])\n",
    "    \n",
    "    with open(f'/home/ouconstand/data/Virus_Host/0309_seqdata/{id}', 'w') as f:\n",
    "        f.write(seq)"
   ]
  },
  {
   "cell_type": "code",
   "execution_count": null,
   "metadata": {},
   "outputs": [],
   "source": []
  }
 ],
 "metadata": {
  "kernelspec": {
   "display_name": "base",
   "language": "python",
   "name": "python3"
  },
  "language_info": {
   "codemirror_mode": {
    "name": "ipython",
    "version": 3
   },
   "file_extension": ".py",
   "mimetype": "text/x-python",
   "name": "python",
   "nbconvert_exporter": "python",
   "pygments_lexer": "ipython3",
   "version": "3.8.16"
  },
  "orig_nbformat": 4
 },
 "nbformat": 4,
 "nbformat_minor": 2
}
