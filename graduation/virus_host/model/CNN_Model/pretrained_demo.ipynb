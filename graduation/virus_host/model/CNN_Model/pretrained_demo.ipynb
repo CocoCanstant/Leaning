{
 "cells": [
  {
   "cell_type": "code",
   "execution_count": 2,
   "metadata": {},
   "outputs": [],
   "source": [
    "from Bio import SeqIO\n",
    "from Bio.SeqRecord import SeqRecord"
   ]
  },
  {
   "cell_type": "code",
   "execution_count": 3,
   "metadata": {},
   "outputs": [],
   "source": [
    "new_record = []\n",
    "for seq_record in SeqIO.parse('/home/ouconstand/data/Virus_Host/seq_data/sequence_0.fasta','fasta'):\n",
    "    seq = seq_record.seq\n",
    "    if len(seq) > 2000:\n",
    "        for i in range(0, len(seq), 500):\n",
    "            if i + 2000 > len(seq):\n",
    "                new_seq = seq[-2000:]\n",
    "                rec = SeqRecord(new_seq, id=seq_record.id, description=seq_record.description, name=seq_record.name)\n",
    "                new_record.append(rec)\n",
    "                break\n",
    "\n",
    "            new_seq = seq[i:i+2000]\n",
    "            rec = SeqRecord(new_seq,id=seq_record.id,description=seq_record.description,name=seq_record.name)\n",
    "            new_record.append(rec)\n",
    "\n",
    "        else:\n",
    "            print('sequence length is less than 2000')\n",
    "            print(seq_record.description)"
   ]
  },
  {
   "cell_type": "code",
   "execution_count": 5,
   "metadata": {},
   "outputs": [],
   "source": [
    "data = [i.seq for i in new_record]\n",
    "labels = [i.id for i in new_record]"
   ]
  },
  {
   "cell_type": "code",
   "execution_count": 6,
   "metadata": {},
   "outputs": [
    {
     "data": {
      "text/plain": [
       "{'KT368856.1', 'KT368895.1', 'MT726043.1', 'MZ519413.1'}"
      ]
     },
     "execution_count": 6,
     "metadata": {},
     "output_type": "execute_result"
    }
   ],
   "source": [
    "set(labels)"
   ]
  },
  {
   "cell_type": "code",
   "execution_count": 7,
   "metadata": {},
   "outputs": [],
   "source": [
    "import numpy as np\n",
    "\n",
    "def nucl_to_onehot(sequence, dimension=5):\n",
    "    __nucl_list = ['A', 'T', 'C', 'G', 'N']\n",
    "    __nucl_to_int = dict((nucl, int) for int, nucl in enumerate(__nucl_list))\n",
    "    __integer_encoded = [__nucl_to_int[base] for base in sequence]\n",
    "\n",
    "    result = np.zeros((len(sequence), dimension))\n",
    "    for i, base in enumerate(__integer_encoded):\n",
    "        result[i, base] = 1\n",
    "    return result\n"
   ]
  },
  {
   "cell_type": "code",
   "execution_count": 8,
   "metadata": {},
   "outputs": [],
   "source": [
    "labels_to_int = dict((int, label) for label, int in enumerate(set(labels)))\n",
    "process_data = [nucl_to_onehot(i) for i in data]\n",
    "process_labels = [labels_to_int[label] for label in labels]"
   ]
  },
  {
   "cell_type": "code",
   "execution_count": 46,
   "metadata": {},
   "outputs": [
    {
     "data": {
      "text/plain": [
       "{'MT726043.1': 0, 'KT368895.1': 1, 'KT368856.1': 2, 'MZ519413.1': 3}"
      ]
     },
     "execution_count": 46,
     "metadata": {},
     "output_type": "execute_result"
    }
   ],
   "source": [
    "from keras import models\n",
    "from keras import layers"
   ]
  },
  {
   "cell_type": "code",
   "execution_count": null,
   "metadata": {},
   "outputs": [],
   "source": []
  }
 ],
 "metadata": {
  "kernelspec": {
   "display_name": "base",
   "language": "python",
   "name": "python3"
  },
  "language_info": {
   "codemirror_mode": {
    "name": "ipython",
    "version": 3
   },
   "file_extension": ".py",
   "mimetype": "text/x-python",
   "name": "python",
   "nbconvert_exporter": "python",
   "pygments_lexer": "ipython3",
   "version": "3.8.8"
  },
  "orig_nbformat": 4,
  "vscode": {
   "interpreter": {
    "hash": "eace1a3d2d18dcb98353cfeb529f20792ec64dcc10ba0bdd358326e3f660811b"
   }
  }
 },
 "nbformat": 4,
 "nbformat_minor": 2
}
