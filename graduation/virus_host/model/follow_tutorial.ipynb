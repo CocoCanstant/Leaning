{
 "cells": [
  {
   "cell_type": "code",
   "execution_count": 1,
   "metadata": {},
   "outputs": [],
   "source": [
    "import torch\n",
    "torch.manual_seed(2)\n",
    "a = torch.rand(3,3)"
   ]
  },
  {
   "cell_type": "code",
   "execution_count": 2,
   "metadata": {},
   "outputs": [
    {
     "data": {
      "text/plain": [
       "tensor([[0.6147, 0.3810, 0.6371],\n",
       "        [0.4745, 0.7136, 0.6190],\n",
       "        [0.4425, 0.0958, 0.6142]])"
      ]
     },
     "execution_count": 2,
     "metadata": {},
     "output_type": "execute_result"
    }
   ],
   "source": [
    "a"
   ]
  },
  {
   "cell_type": "code",
   "execution_count": 3,
   "metadata": {},
   "outputs": [
    {
     "data": {
      "text/plain": [
       "tensor([[1., 0., 1.],\n",
       "        [0., 1., 1.],\n",
       "        [0., 0., 1.]])"
      ]
     },
     "execution_count": 3,
     "metadata": {},
     "output_type": "execute_result"
    }
   ],
   "source": [
    "# adjacent matrix\n",
    "a[a>0.5] = 1\n",
    "a[a<0.5] = 0\n",
    "a"
   ]
  },
  {
   "cell_type": "code",
   "execution_count": 24,
   "metadata": {},
   "outputs": [
    {
     "data": {
      "text/plain": [
       "tensor([2., 2., 1.])"
      ]
     },
     "execution_count": 24,
     "metadata": {},
     "output_type": "execute_result"
    }
   ],
   "source": [
    "a.sum(dim=-1)"
   ]
  },
  {
   "cell_type": "code",
   "execution_count": 4,
   "metadata": {},
   "outputs": [
    {
     "data": {
      "text/plain": [
       "tensor([[2., 0., 0.],\n",
       "        [0., 2., 0.],\n",
       "        [0., 0., 1.]])"
      ]
     },
     "execution_count": 4,
     "metadata": {},
     "output_type": "execute_result"
    }
   ],
   "source": [
    "# degree matrix\n",
    "def Degree_matrix(a):\n",
    "    return torch.diag(a.sum(dim=1))\n",
    "d = Degree_matrix(a)\n",
    "d"
   ]
  },
  {
   "cell_type": "code",
   "execution_count": 26,
   "metadata": {},
   "outputs": [
    {
     "data": {
      "text/plain": [
       "tensor([[ 1.,  0., -1.],\n",
       "        [ 0.,  1., -1.],\n",
       "        [ 0.,  0.,  0.]])"
      ]
     },
     "execution_count": 26,
     "metadata": {},
     "output_type": "execute_result"
    }
   ],
   "source": [
    "# laplacian matrix\n",
    "# L = Degree matrix - Adjacent matrix\n",
    "def laplacian(a):\n",
    "    return Degree_matrix(a)-a\n",
    "l = laplacian(a)\n",
    "l"
   ]
  },
  {
   "cell_type": "code",
   "execution_count": 27,
   "metadata": {},
   "outputs": [],
   "source": [
    "#\n",
    "def calc_degree_matrix_norm(a):\n",
    "    return torch.diag(torch.pow(a.sum(dim=-1),-0.5))"
   ]
  },
  {
   "cell_type": "code",
   "execution_count": 28,
   "metadata": {},
   "outputs": [
    {
     "data": {
      "text/plain": [
       "tensor([[0.7071, 0.0000, 0.0000],\n",
       "        [0.0000, 0.7071, 0.0000],\n",
       "        [0.0000, 0.0000, 1.0000]])"
      ]
     },
     "execution_count": 28,
     "metadata": {},
     "output_type": "execute_result"
    }
   ],
   "source": [
    "calc_degree_matrix_norm(a)"
   ]
  },
  {
   "cell_type": "code",
   "execution_count": 39,
   "metadata": {},
   "outputs": [],
   "source": [
    "# L_norm = I - (D^-0.5 * A * D^-0.5)\n",
    "def create_graph_lapl_norm(a):\n",
    " size = a.shape[-1]\n",
    " D_norm = calc_degree_matrix_norm(a)\n",
    " L_norm = torch.ones(size) - (D_norm @ a @ D_norm )\n",
    " return L_norm"
   ]
  },
  {
   "cell_type": "code",
   "execution_count": 40,
   "metadata": {},
   "outputs": [
    {
     "data": {
      "text/plain": [
       "tensor([[0.5000, 1.0000, 0.2929],\n",
       "        [1.0000, 0.5000, 0.2929],\n",
       "        [1.0000, 1.0000, 0.0000]])"
      ]
     },
     "execution_count": 40,
     "metadata": {},
     "output_type": "execute_result"
    }
   ],
   "source": [
    "create_graph_lapl_norm(a)"
   ]
  },
  {
   "cell_type": "code",
   "execution_count": 5,
   "metadata": {},
   "outputs": [
    {
     "name": "stdout",
     "output_type": "stream",
     "text": [
      "Tom grade is 8\n",
      "Jerry grade is 7\n"
     ]
    }
   ],
   "source": [
    "class Student_Grade: \n",
    "    def __init__(self, name, grade):  \n",
    "        self.name = name\n",
    "        self.grade = grade\n",
    "\n",
    "    def print_grade(self):\n",
    "        print(\"%s grade is %s\" % (self.name,self.grade))\n",
    "\n",
    "s1 = Student_Grade(\"Tom\", 8)  # 创建对象s1，实例化直接传入参数\n",
    "s2 = Student_Grade(\"Jerry\", 7)  # 创建对象s2\n",
    "\n",
    "s1.print_grade()\n",
    "s2.print_grade()\n",
    "\n"
   ]
  },
  {
   "cell_type": "code",
   "execution_count": null,
   "metadata": {},
   "outputs": [],
   "source": [
    "import numpy as np\n",
    "import torch\n",
    "from torch import nn\n",
    "import torch.nn.functional as F\n",
    "\n",
    "def device_as(x,y):\n",
    "  return x.to(y.device)\n",
    "\n",
    "# tensor operations now support batched inputs\n",
    "def calc_degree_matrix_norm(a):\n",
    "  return torch.diag_embed(torch.pow(a.sum(dim=-1),-0.5))\n",
    "\n",
    "def create_graph_lapl_norm(a):\n",
    "  size = a.shape[-1]\n",
    "  a +=  device_as(torch.eye(size),a)\n",
    "  D_norm = calc_degree_matrix_norm(a)\n",
    "  L_norm = torch.bmm( torch.bmm(D_norm, a) , D_norm )\n",
    "  return L_norm\n",
    "\n",
    "class GCN_AISUMMER(nn.Module):\n",
    "    \"\"\"\n",
    "    A simple GCN layer, similar to https://arxiv.org/abs/1609.02907\n",
    "    \"\"\"\n",
    "    def __init__(self, in_features, out_features, bias=True):\n",
    "    super().__init__()\n",
    "    self.linear = nn.Linear(in_features, out_features, bias=bias)\n",
    "\n",
    "    def forward(self, X, A):\n",
    "        \"\"\"\n",
    "        A: adjecency matrix\n",
    "        X: graph signal\n",
    "        \"\"\"\n",
    "        L = create_graph_lapl_norm(A)\n",
    "        x = self.linear(X)\n",
    "        return torch.bmm(L, x)"
   ]
  }
 ],
 "metadata": {
  "kernelspec": {
   "display_name": "base",
   "language": "python",
   "name": "python3"
  },
  "language_info": {
   "codemirror_mode": {
    "name": "ipython",
    "version": 3
   },
   "file_extension": ".py",
   "mimetype": "text/x-python",
   "name": "python",
   "nbconvert_exporter": "python",
   "pygments_lexer": "ipython3",
   "version": "3.8.8 (default, Apr 13 2021, 19:58:26) \n[GCC 7.3.0]"
  },
  "orig_nbformat": 4,
  "vscode": {
   "interpreter": {
    "hash": "eace1a3d2d18dcb98353cfeb529f20792ec64dcc10ba0bdd358326e3f660811b"
   }
  }
 },
 "nbformat": 4,
 "nbformat_minor": 2
}
