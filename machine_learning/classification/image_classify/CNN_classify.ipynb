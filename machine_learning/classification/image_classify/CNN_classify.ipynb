{
 "cells": [
  {
   "cell_type": "code",
   "execution_count": 1,
   "metadata": {},
   "outputs": [
    {
     "name": "stderr",
     "output_type": "stream",
     "text": [
      "2023-03-02 16:31:20.807895: I tensorflow/core/platform/cpu_feature_guard.cc:193] This TensorFlow binary is optimized with oneAPI Deep Neural Network Library (oneDNN) to use the following CPU instructions in performance-critical operations:  SSE4.1 SSE4.2 AVX AVX2 AVX512F AVX512_VNNI FMA\n",
      "To enable them in other operations, rebuild TensorFlow with the appropriate compiler flags.\n"
     ]
    },
    {
     "name": "stdout",
     "output_type": "stream",
     "text": [
      "2.10.0\n"
     ]
    }
   ],
   "source": [
    "import tensorflow as tf\n",
    "import numpy as np\n",
    "import matplotlib.pyplot as plt\n",
    "print(tf.__version__)"
   ]
  },
  {
   "cell_type": "code",
   "execution_count": 2,
   "metadata": {},
   "outputs": [],
   "source": [
    "# load data\n",
    "fashion_mnist = tf.keras.datasets.fashion_mnist\n",
    "(train_image, train_labels), (test_image, test_labels) = fashion_mnist.load_data()"
   ]
  },
  {
   "cell_type": "code",
   "execution_count": 4,
   "metadata": {},
   "outputs": [
    {
     "name": "stdout",
     "output_type": "stream",
     "text": [
      "[[  0   0   0   0   0   0   0   0   0   0   0   0   0   0   0   0   0   0\n",
      "    0   0   0   0   0   0   0   0   0   0]\n",
      " [  0   0   0   0   0   0   0   0   0   0   0   0   0   0   0   0   0   0\n",
      "    0   0   0   0   0   0   0   0   0   0]\n",
      " [  0   0   0   0   0   0   0   0   0   0   0   0   0   1   1   0   0   0\n",
      "    0   0   0   0 164  50   0   7   0   0]\n",
      " [  0   0   0   0   0   0   0   0   1   0   0   1   0   0   1   1   0   0\n",
      "    5   0  45 217 255 176   0   6   0   0]\n",
      " [  0   0   0   0   0   0   0   0   0   1   1   0   3   3   5   9   0   2\n",
      "    0  62 236 231 215  27   0   1   0   0]\n",
      " [  0   0   0   0   0   0   0   0   0   0   0   0   0   0   0   0   0   0\n",
      "   29 244 231 234  74   0   1   0   0   0]\n",
      " [  0   0   0   0   0   0   0   0   0   2   0   0   0  23  41  59 111 134\n",
      "  138 226 202 217  22   0   1   0   0   0]\n",
      " [  0   0   0   0   0   0   0   0   0   5   0  35 179 195 182 225 198 241\n",
      "  177 199 205 210  26   0   1   0   0   3]\n",
      " [  0   0   0   0   0   0   0   0   0   0   0   0  19   0   0   0   0   0\n",
      "  235 243 198 119   0   3   1   3   4   0]\n",
      " [  0   0   0   0   0   0   0   0   0   0   0   0   0   2   5   0   0   0\n",
      "  170 252 181 182   0   0   0   0   0  19]\n",
      " [  0   0   0   0   0   0   0   0   0   0   0   0   1   1   0   0   4   0\n",
      "   76 255 183 219   9   0   0  42 191 164]\n",
      " [  0   0   0   0   0   0   0   0   0   0   0   0   0   0   0   0   2   0\n",
      "    0 237 198 204  75  47 221 221 238  25]\n",
      " [  0   0   0   0   0   0   0   0   0   0   0   1   0   0   1   2   1   0\n",
      "    0 209 212 229 255 254 232 227 174   0]\n",
      " [  0   0   0   0   0   0   0   0   0   0   0   0   0   0   1   0   0   0\n",
      "    0   0 210 255  87 101 230 238 105   0]\n",
      " [  0   0   0   0   0   0   0   0   0   0   0   0   0   1   0   4   1   0\n",
      "    1 250 236   0   0   0 224 233  20   0]\n",
      " [  0   0   0   0   0   1   3   4   4   2   0   0   0   1   0   2   0   0\n",
      "  204 185   0   0   0   6 227 202   0   0]\n",
      " [  0   1   0   1   0   0   0   0   0   0   0   0   0   1   0   0   0 173\n",
      "  159   0   0   2   0  10 237 153   0   0]\n",
      " [  0   0   1   0   0   0   0  40 138  21   0   0   2   0   8   0 132 195\n",
      "    0   0   0   0   0   8 240 118   0   1]\n",
      " [  5   6   4   0 132 232 208 208 241 217   0   0   0   1   0  29 217  35\n",
      "    0   9   0   2   0  25 238  58   0   2]\n",
      " [  0   0   0   0 181 255 231 233 219 238  77   0   0   0   0 196 145   0\n",
      "    0   0   0   2   0  49 228   0   0   2]\n",
      " [ 62  92   8   0 207 255 216 198 189 208 221   0   0   0 177 239  19   0\n",
      "    0   0   0   2   0  64 218   0   0   3]\n",
      " [ 96 249 223 211 237 243 211 228 255 252 255 138  38 175 242 173   0   0\n",
      "    0   0   0   2   0  89 204   0   0   2]\n",
      " [  0 197 240 240 237 219 222 244 235 243 244 255 255 234 233  45   0   2\n",
      "    0   0   0   2   0 105 188   0   0   0]\n",
      " [  0 165 253 224 229 242 244 232 239 242 243 237 230 230 207   0   0   1\n",
      "    0   0   0   9   0 120 165   0   8   0]\n",
      " [  0  45 255 252 253 241 229 223 230 235 240 239 233 245  65   0   2   0\n",
      "    0   0   0  10   0 128 143   0  10   0]\n",
      " [  0   0   0  72 202 255 255 255 255 255 255 255 255 194   0   0   2   0\n",
      "    0   0   0   8   0 186 160   0   9   0]\n",
      " [  0   0   0   0   0   0  38  89 135 162 180 179 152   0   0   1   0   0\n",
      "    0   0   0   1   0  68  29   0   3   0]\n",
      " [  0   0   0   0   0   0   0   0   0   0   0   0   0   0   0   0   0   0\n",
      "    0   0   0   0   0   0   0   0   0   0]]\n",
      "<class 'numpy.ndarray'>\n"
     ]
    },
    {
     "data": {
      "image/png": "[encoded data removed]",
      "text/plain": [
       "<Figure size 432x288 with 2 Axes>"
      ]
     },
     "metadata": {
      "needs_background": "light"
     },
     "output_type": "display_data"
    }
   ],
   "source": [
    "print(train_image[9])\n",
    "image = train_image[9]\n",
    "print(type(image))\n",
    "\n",
    "plt.figure()\n",
    "plt.imshow(image)\n",
    "plt.colorbar()\n",
    "plt.grid(False)\n",
    "plt.show()"
   ]
  },
  {
   "cell_type": "code",
   "execution_count": 14,
   "metadata": {},
   "outputs": [
    {
     "data": {
      "text/plain": [
       "array([9, 0, 0, ..., 3, 0, 5], dtype=uint8)"
      ]
     },
     "execution_count": 14,
     "metadata": {},
     "output_type": "execute_result"
    }
   ],
   "source": [
    "train_labels"
   ]
  },
  {
   "cell_type": "code",
   "execution_count": 15,
   "metadata": {},
   "outputs": [
    {
     "name": "stdout",
     "output_type": "stream",
     "text": [
      "(60000, 28, 28)\n",
      "(60000,)\n"
     ]
    }
   ],
   "source": [
    "print(train_image.shape)\n",
    "print(train_labels.shape)"
   ]
  },
  {
   "cell_type": "code",
   "execution_count": 17,
   "metadata": {},
   "outputs": [],
   "source": [
    "train_image = train_image / 255.0\n",
    "test_image = test_image / 255.0"
   ]
  },
  {
   "cell_type": "code",
   "execution_count": 18,
   "metadata": {},
   "outputs": [
    {
     "name": "stdout",
     "output_type": "stream",
     "text": [
      "[[0.         0.         0.         0.         0.         0.\n",
      "  0.         0.         0.         0.         0.         0.\n",
      "  0.         0.         0.         0.         0.         0.\n",
      "  0.         0.         0.         0.         0.         0.\n",
      "  0.         0.         0.         0.        ]\n",
      " [0.         0.         0.         0.         0.         0.\n",
      "  0.         0.         0.         0.         0.         0.\n",
      "  0.         0.         0.         0.         0.         0.\n",
      "  0.         0.         0.         0.         0.         0.\n",
      "  0.         0.         0.         0.        ]\n",
      " [0.         0.         0.         0.         0.         0.\n",
      "  0.         0.         0.         0.         0.         0.\n",
      "  0.         0.00392157 0.00392157 0.         0.         0.\n",
      "  0.         0.         0.         0.         0.64313725 0.19607843\n",
      "  0.         0.02745098 0.         0.        ]\n",
      " [0.         0.         0.         0.         0.         0.\n",
      "  0.         0.         0.00392157 0.         0.         0.00392157\n",
      "  0.         0.         0.00392157 0.00392157 0.         0.\n",
      "  0.01960784 0.         0.17647059 0.85098039 1.         0.69019608\n",
      "  0.         0.02352941 0.         0.        ]\n",
      " [0.         0.         0.         0.         0.         0.\n",
      "  0.         0.         0.         0.00392157 0.00392157 0.\n",
      "  0.01176471 0.01176471 0.01960784 0.03529412 0.         0.00784314\n",
      "  0.         0.24313725 0.9254902  0.90588235 0.84313725 0.10588235\n",
      "  0.         0.00392157 0.         0.        ]\n",
      " [0.         0.         0.         0.         0.         0.\n",
      "  0.         0.         0.         0.         0.         0.\n",
      "  0.         0.         0.         0.         0.         0.\n",
      "  0.11372549 0.95686275 0.90588235 0.91764706 0.29019608 0.\n",
      "  0.00392157 0.         0.         0.        ]\n",
      " [0.         0.         0.         0.         0.         0.\n",
      "  0.         0.         0.         0.00784314 0.         0.\n",
      "  0.         0.09019608 0.16078431 0.23137255 0.43529412 0.5254902\n",
      "  0.54117647 0.88627451 0.79215686 0.85098039 0.08627451 0.\n",
      "  0.00392157 0.         0.         0.        ]\n",
      " [0.         0.         0.         0.         0.         0.\n",
      "  0.         0.         0.         0.01960784 0.         0.1372549\n",
      "  0.70196078 0.76470588 0.71372549 0.88235294 0.77647059 0.94509804\n",
      "  0.69411765 0.78039216 0.80392157 0.82352941 0.10196078 0.\n",
      "  0.00392157 0.         0.         0.01176471]\n",
      " [0.         0.         0.         0.         0.         0.\n",
      "  0.         0.         0.         0.         0.         0.\n",
      "  0.0745098  0.         0.         0.         0.         0.\n",
      "  0.92156863 0.95294118 0.77647059 0.46666667 0.         0.01176471\n",
      "  0.00392157 0.01176471 0.01568627 0.        ]\n",
      " [0.         0.         0.         0.         0.         0.\n",
      "  0.         0.         0.         0.         0.         0.\n",
      "  0.         0.00784314 0.01960784 0.         0.         0.\n",
      "  0.66666667 0.98823529 0.70980392 0.71372549 0.         0.\n",
      "  0.         0.         0.         0.0745098 ]\n",
      " [0.         0.         0.         0.         0.         0.\n",
      "  0.         0.         0.         0.         0.         0.\n",
      "  0.00392157 0.00392157 0.         0.         0.01568627 0.\n",
      "  0.29803922 1.         0.71764706 0.85882353 0.03529412 0.\n",
      "  0.         0.16470588 0.74901961 0.64313725]\n",
      " [0.         0.         0.         0.         0.         0.\n",
      "  0.         0.         0.         0.         0.         0.\n",
      "  0.         0.         0.         0.         0.00784314 0.\n",
      "  0.         0.92941176 0.77647059 0.8        0.29411765 0.18431373\n",
      "  0.86666667 0.86666667 0.93333333 0.09803922]\n",
      " [0.         0.         0.         0.         0.         0.\n",
      "  0.         0.         0.         0.         0.         0.00392157\n",
      "  0.         0.         0.00392157 0.00784314 0.00392157 0.\n",
      "  0.         0.81960784 0.83137255 0.89803922 1.         0.99607843\n",
      "  0.90980392 0.89019608 0.68235294 0.        ]\n",
      " [0.         0.         0.         0.         0.         0.\n",
      "  0.         0.         0.         0.         0.         0.\n",
      "  0.         0.         0.00392157 0.         0.         0.\n",
      "  0.         0.         0.82352941 1.         0.34117647 0.39607843\n",
      "  0.90196078 0.93333333 0.41176471 0.        ]\n",
      " [0.         0.         0.         0.         0.         0.\n",
      "  0.         0.         0.         0.         0.         0.\n",
      "  0.         0.00392157 0.         0.01568627 0.00392157 0.\n",
      "  0.00392157 0.98039216 0.9254902  0.         0.         0.\n",
      "  0.87843137 0.91372549 0.07843137 0.        ]\n",
      " [0.         0.         0.         0.         0.         0.00392157\n",
      "  0.01176471 0.01568627 0.01568627 0.00784314 0.         0.\n",
      "  0.         0.00392157 0.         0.00784314 0.         0.\n",
      "  0.8        0.7254902  0.         0.         0.         0.02352941\n",
      "  0.89019608 0.79215686 0.         0.        ]\n",
      " [0.         0.00392157 0.         0.00392157 0.         0.\n",
      "  0.         0.         0.         0.         0.         0.\n",
      "  0.         0.00392157 0.         0.         0.         0.67843137\n",
      "  0.62352941 0.         0.         0.00784314 0.         0.03921569\n",
      "  0.92941176 0.6        0.         0.        ]\n",
      " [0.         0.         0.00392157 0.         0.         0.\n",
      "  0.         0.15686275 0.54117647 0.08235294 0.         0.\n",
      "  0.00784314 0.         0.03137255 0.         0.51764706 0.76470588\n",
      "  0.         0.         0.         0.         0.         0.03137255\n",
      "  0.94117647 0.4627451  0.         0.00392157]\n",
      " [0.01960784 0.02352941 0.01568627 0.         0.51764706 0.90980392\n",
      "  0.81568627 0.81568627 0.94509804 0.85098039 0.         0.\n",
      "  0.         0.00392157 0.         0.11372549 0.85098039 0.1372549\n",
      "  0.         0.03529412 0.         0.00784314 0.         0.09803922\n",
      "  0.93333333 0.22745098 0.         0.00784314]\n",
      " [0.         0.         0.         0.         0.70980392 1.\n",
      "  0.90588235 0.91372549 0.85882353 0.93333333 0.30196078 0.\n",
      "  0.         0.         0.         0.76862745 0.56862745 0.\n",
      "  0.         0.         0.         0.00784314 0.         0.19215686\n",
      "  0.89411765 0.         0.         0.00784314]\n",
      " [0.24313725 0.36078431 0.03137255 0.         0.81176471 1.\n",
      "  0.84705882 0.77647059 0.74117647 0.81568627 0.86666667 0.\n",
      "  0.         0.         0.69411765 0.9372549  0.0745098  0.\n",
      "  0.         0.         0.         0.00784314 0.         0.25098039\n",
      "  0.85490196 0.         0.         0.01176471]\n",
      " [0.37647059 0.97647059 0.8745098  0.82745098 0.92941176 0.95294118\n",
      "  0.82745098 0.89411765 1.         0.98823529 1.         0.54117647\n",
      "  0.14901961 0.68627451 0.94901961 0.67843137 0.         0.\n",
      "  0.         0.         0.         0.00784314 0.         0.34901961\n",
      "  0.8        0.         0.         0.00784314]\n",
      " [0.         0.77254902 0.94117647 0.94117647 0.92941176 0.85882353\n",
      "  0.87058824 0.95686275 0.92156863 0.95294118 0.95686275 1.\n",
      "  1.         0.91764706 0.91372549 0.17647059 0.         0.00784314\n",
      "  0.         0.         0.         0.00784314 0.         0.41176471\n",
      "  0.7372549  0.         0.         0.        ]\n",
      " [0.         0.64705882 0.99215686 0.87843137 0.89803922 0.94901961\n",
      "  0.95686275 0.90980392 0.9372549  0.94901961 0.95294118 0.92941176\n",
      "  0.90196078 0.90196078 0.81176471 0.         0.         0.00392157\n",
      "  0.         0.         0.         0.03529412 0.         0.47058824\n",
      "  0.64705882 0.         0.03137255 0.        ]\n",
      " [0.         0.17647059 1.         0.98823529 0.99215686 0.94509804\n",
      "  0.89803922 0.8745098  0.90196078 0.92156863 0.94117647 0.9372549\n",
      "  0.91372549 0.96078431 0.25490196 0.         0.00784314 0.\n",
      "  0.         0.         0.         0.03921569 0.         0.50196078\n",
      "  0.56078431 0.         0.03921569 0.        ]\n",
      " [0.         0.         0.         0.28235294 0.79215686 1.\n",
      "  1.         1.         1.         1.         1.         1.\n",
      "  1.         0.76078431 0.         0.         0.00784314 0.\n",
      "  0.         0.         0.         0.03137255 0.         0.72941176\n",
      "  0.62745098 0.         0.03529412 0.        ]\n",
      " [0.         0.         0.         0.         0.         0.\n",
      "  0.14901961 0.34901961 0.52941176 0.63529412 0.70588235 0.70196078\n",
      "  0.59607843 0.         0.         0.00392157 0.         0.\n",
      "  0.         0.         0.         0.00392157 0.         0.26666667\n",
      "  0.11372549 0.         0.01176471 0.        ]\n",
      " [0.         0.         0.         0.         0.         0.\n",
      "  0.         0.         0.         0.         0.         0.\n",
      "  0.         0.         0.         0.         0.         0.\n",
      "  0.         0.         0.         0.         0.         0.\n",
      "  0.         0.         0.         0.        ]]\n"
     ]
    },
    {
     "data": {
      "image/png": "[encoded data removed]",
      "text/plain": [
       "<Figure size 432x288 with 2 Axes>"
      ]
     },
     "metadata": {
      "needs_background": "light"
     },
     "output_type": "display_data"
    }
   ],
   "source": [
    "print(train_image[9])\n",
    "image = train_image[9]\n",
    "\n",
    "plt.figure()\n",
    "plt.imshow(image)\n",
    "plt.colorbar()\n",
    "plt.grid(False)\n",
    "plt.show()"
   ]
  },
  {
   "cell_type": "code",
   "execution_count": 26,
   "metadata": {},
   "outputs": [],
   "source": [
    "model = tf.keras.Sequential([\n",
    "    tf.keras.layers.Flatten(input_shape=(28, 28)),\n",
    "    tf.keras.layers.Dense(128, activation='relu'),\n",
    "    tf.keras.layers.Dense(10)\n",
    "])"
   ]
  },
  {
   "cell_type": "code",
   "execution_count": 28,
   "metadata": {},
   "outputs": [],
   "source": [
    "model.compile(optimizer='adam',\n",
    "              loss=tf.keras.losses.SparseCategoricalCrossentropy(from_logits=True),\n",
    "              metrics=['accuracy'])"
   ]
  },
  {
   "cell_type": "code",
   "execution_count": 30,
   "metadata": {},
   "outputs": [
    {
     "name": "stdout",
     "output_type": "stream",
     "text": [
      "Epoch 1/10\n",
      "469/469 [==============================] - 2s 4ms/step - loss: 0.3060 - accuracy: 0.8886\n",
      "Epoch 2/10\n",
      "469/469 [==============================] - 3s 6ms/step - loss: 0.2934 - accuracy: 0.8925\n",
      "Epoch 3/10\n",
      "469/469 [==============================] - 3s 6ms/step - loss: 0.2819 - accuracy: 0.8971\n",
      "Epoch 4/10\n",
      "469/469 [==============================] - 2s 4ms/step - loss: 0.2689 - accuracy: 0.9026\n",
      "Epoch 5/10\n",
      "469/469 [==============================] - 2s 4ms/step - loss: 0.2638 - accuracy: 0.9031\n",
      "Epoch 6/10\n",
      "469/469 [==============================] - 2s 3ms/step - loss: 0.2560 - accuracy: 0.9063\n",
      "Epoch 7/10\n",
      "469/469 [==============================] - 2s 3ms/step - loss: 0.2476 - accuracy: 0.9096\n",
      "Epoch 8/10\n",
      "469/469 [==============================] - 2s 4ms/step - loss: 0.2384 - accuracy: 0.9133\n",
      "Epoch 9/10\n",
      "469/469 [==============================] - 2s 5ms/step - loss: 0.2325 - accuracy: 0.9145\n",
      "Epoch 10/10\n",
      "469/469 [==============================] - 2s 5ms/step - loss: 0.2263 - accuracy: 0.9170\n"
     ]
    },
    {
     "data": {
      "text/plain": [
       "<tensorflow.python.keras.callbacks.History at 0x7f1164706190>"
      ]
     },
     "execution_count": 30,
     "metadata": {},
     "output_type": "execute_result"
    }
   ],
   "source": [
    "model.fit(train_image,train_labels,epochs=10,batch_size=128)"
   ]
  },
  {
   "cell_type": "code",
   "execution_count": 31,
   "metadata": {},
   "outputs": [
    {
     "name": "stdout",
     "output_type": "stream",
     "text": [
      "313/313 - 1s - loss: 0.3235 - accuracy: 0.8894\n",
      "\n",
      "Test accuracy: 0.8894000053405762\n"
     ]
    }
   ],
   "source": [
    "test_loss, test_acc = model.evaluate(test_image,  test_labels, verbose=2)\n",
    "\n",
    "print('\\nTest accuracy:', test_acc)"
   ]
  },
  {
   "cell_type": "code",
   "execution_count": null,
   "metadata": {},
   "outputs": [],
   "source": []
  }
 ],
 "metadata": {
  "kernelspec": {
   "display_name": "base",
   "language": "python",
   "name": "python3"
  },
  "language_info": {
   "codemirror_mode": {
    "name": "ipython",
    "version": 3
   },
   "file_extension": ".py",
   "mimetype": "text/x-python",
   "name": "python",
   "nbconvert_exporter": "python",
   "pygments_lexer": "ipython3",
   "version": "3.8.16"
  },
  "orig_nbformat": 4,
  "vscode": {
   "interpreter": {
    "hash": "eace1a3d2d18dcb98353cfeb529f20792ec64dcc10ba0bdd358326e3f660811b"
   }
  }
 },
 "nbformat": 4,
 "nbformat_minor": 2
}
