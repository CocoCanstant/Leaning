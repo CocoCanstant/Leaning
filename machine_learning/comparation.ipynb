{
 "cells": [
  {
   "cell_type": "code",
   "execution_count": 27,
   "metadata": {},
   "outputs": [],
   "source": [
    "import pandas as pd\n",
    "import numpy as np\n",
    "import matplotlib.pyplot as plt\n",
    "import cv2\n",
    "import os"
   ]
  },
  {
   "cell_type": "code",
   "execution_count": 10,
   "metadata": {},
   "outputs": [],
   "source": [
    "train = pd.read_csv('/mnt/c/Users/ouyangkang/Desktop/train_LbELtWX/train.csv')\n",
    "test = pd.read_csv('/mnt/c/Users/ouyangkang/Desktop/test_ScVgIM0/test.csv')\n",
    "\n",
    "sample_submission = pd.read_csv('/mnt/c/Users/ouyangkang/Desktop/sample_submission_I5njJSF.csv')"
   ]
  },
  {
   "cell_type": "code",
   "execution_count": 5,
   "metadata": {},
   "outputs": [
    {
     "data": {
      "text/plain": [
       "(60000, 2)"
      ]
     },
     "execution_count": 5,
     "metadata": {},
     "output_type": "execute_result"
    }
   ],
   "source": [
    "train.shape"
   ]
  },
  {
   "cell_type": "code",
   "execution_count": 6,
   "metadata": {},
   "outputs": [
    {
     "data": {
      "text/plain": [
       "(10000, 1)"
      ]
     },
     "execution_count": 6,
     "metadata": {},
     "output_type": "execute_result"
    }
   ],
   "source": [
    "test.shape"
   ]
  },
  {
   "cell_type": "code",
   "execution_count": 11,
   "metadata": {},
   "outputs": [
    {
     "data": {
      "text/html": [
       "<div>\n",
       "<style scoped>\n",
       "    .dataframe tbody tr th:only-of-type {\n",
       "        vertical-align: middle;\n",
       "    }\n",
       "\n",
       "    .dataframe tbody tr th {\n",
       "        vertical-align: top;\n",
       "    }\n",
       "\n",
       "    .dataframe thead th {\n",
       "        text-align: right;\n",
       "    }\n",
       "</style>\n",
       "<table border=\"1\" class=\"dataframe\">\n",
       "  <thead>\n",
       "    <tr style=\"text-align: right;\">\n",
       "      <th></th>\n",
       "      <th>id</th>\n",
       "      <th>label</th>\n",
       "    </tr>\n",
       "  </thead>\n",
       "  <tbody>\n",
       "    <tr>\n",
       "      <th>0</th>\n",
       "      <td>60001</td>\n",
       "      <td>0</td>\n",
       "    </tr>\n",
       "    <tr>\n",
       "      <th>1</th>\n",
       "      <td>60002</td>\n",
       "      <td>0</td>\n",
       "    </tr>\n",
       "    <tr>\n",
       "      <th>2</th>\n",
       "      <td>60003</td>\n",
       "      <td>0</td>\n",
       "    </tr>\n",
       "    <tr>\n",
       "      <th>3</th>\n",
       "      <td>60004</td>\n",
       "      <td>0</td>\n",
       "    </tr>\n",
       "    <tr>\n",
       "      <th>4</th>\n",
       "      <td>60005</td>\n",
       "      <td>0</td>\n",
       "    </tr>\n",
       "  </tbody>\n",
       "</table>\n",
       "</div>"
      ],
      "text/plain": [
       "      id  label\n",
       "0  60001      0\n",
       "1  60002      0\n",
       "2  60003      0\n",
       "3  60004      0\n",
       "4  60005      0"
      ]
     },
     "execution_count": 11,
     "metadata": {},
     "output_type": "execute_result"
    }
   ],
   "source": [
    "sample_submission.head()"
   ]
  },
  {
   "cell_type": "code",
   "execution_count": 20,
   "metadata": {},
   "outputs": [
    {
     "data": {
      "text/plain": [
       "<matplotlib.image.AxesImage at 0x7f04309d5550>"
      ]
     },
     "execution_count": 20,
     "metadata": {},
     "output_type": "execute_result"
    },
    {
     "data": {
      "image/png": "[encoded data removed]",
      "text/plain": [
       "<Figure size 500x500 with 1 Axes>"
      ]
     },
     "metadata": {},
     "output_type": "display_data"
    }
   ],
   "source": [
    "work_path = '/mnt/c/Users/ouyangkang/Desktop/'\n",
    "seed = 1288\n",
    "rng = np.random.RandomState(seed)\n",
    "\n",
    "image_name = rng.choice(train['id'])\n",
    "file_path = work_path + 'train_LbELtWX/train/' + str(image_name) + '.png'\n",
    "\n",
    "img = cv2.imread(file_path, 0)\n",
    "img = img.astype('float32')\n",
    "\n",
    "plt.figure(figsize=(5, 5))\n",
    "plt.imshow(img, cmap='gray')"
   ]
  },
  {
   "cell_type": "code",
   "execution_count": 23,
   "metadata": {},
   "outputs": [
    {
     "data": {
      "text/plain": [
       "(28, 28)"
      ]
     },
     "execution_count": 23,
     "metadata": {},
     "output_type": "execute_result"
    }
   ],
   "source": [
    "img.shape"
   ]
  },
  {
   "cell_type": "code",
   "execution_count": 25,
   "metadata": {},
   "outputs": [],
   "source": [
    "data_path = '/mnt/c/Users/ouyangkang/Desktop/train_LbELtWX/train/'"
   ]
  },
  {
   "cell_type": "code",
   "execution_count": 36,
   "metadata": {},
   "outputs": [],
   "source": [
    "train_x = [cv2.imread(data_path + sample, 0) for sample in os.listdir(data_path)]"
   ]
  },
  {
   "cell_type": "code",
   "execution_count": 38,
   "metadata": {},
   "outputs": [],
   "source": [
    "train_x = np.asarray(train_x)"
   ]
  },
  {
   "cell_type": "code",
   "execution_count": 39,
   "metadata": {},
   "outputs": [
    {
     "data": {
      "text/plain": [
       "(60000, 28, 28)"
      ]
     },
     "execution_count": 39,
     "metadata": {},
     "output_type": "execute_result"
    }
   ],
   "source": [
    "train_x.shape"
   ]
  },
  {
   "cell_type": "code",
   "execution_count": null,
   "metadata": {},
   "outputs": [],
   "source": [
    "for sample in os.listdir(data_path):\n",
    "    print(sample)"
   ]
  },
  {
   "cell_type": "code",
   "execution_count": 33,
   "metadata": {},
   "outputs": [
    {
     "data": {
      "text/plain": [
       "array([[  0,   0,   0,   1,   0,   0,   0,   0,  24, 116,   0,   0,   0,\n",
       "          0,   0,   0,   0,   0,  97,  35,   0,   0,   0,   0,   0,   0,\n",
       "          0,   0],\n",
       "       [  0,   0,   0,   0,   3,   0,  24, 238, 147, 242, 248, 179, 140,\n",
       "         64,  60, 121, 188, 237, 235, 200, 183,  11,   0,   1,   0,   0,\n",
       "          0,   0],\n",
       "       [  0,   0,   0,   0,   0,  59, 200, 143, 153, 166, 238, 253, 243,\n",
       "        172, 169, 234, 248, 230, 145, 130, 177, 208,  77,   0,   0,   0,\n",
       "          0,   0],\n",
       "       [  0,   0,   0,   0,  24, 224,  79,  25, 167, 104, 169, 209, 235,\n",
       "        255, 255, 232, 214, 151, 163, 153,  71,  72, 253,  50,   0,   0,\n",
       "          0,   0],\n",
       "       [  0,   0,   0,   0, 153, 163,  51, 127, 101, 154, 131, 113, 125,\n",
       "        221, 221, 151,  80, 108,  87,  81, 133,  43, 130, 135,  11,   0,\n",
       "          0,   0],\n",
       "       [  0,   0,   0,  71, 161, 142,  38, 137, 104, 125, 158, 166,  88,\n",
       "         67, 104, 117, 142, 156, 121, 127, 133, 113, 140,  79, 131,   0,\n",
       "          0,   0],\n",
       "       [  0,   0,   0,  69, 182, 143, 101, 113, 101, 127, 163,  71, 146,\n",
       "        116,  96, 137, 125, 151, 130,  93, 166, 138, 105, 103,  19,   0,\n",
       "          0,   0],\n",
       "       [  0,   0,   0,   0, 142, 124, 153,  75, 116,  79, 119, 109, 129,\n",
       "        158, 135,  80,  72, 125, 135,  48, 198, 135, 147,  50,   0,   0,\n",
       "          0,   0],\n",
       "       [  0,   0,   0,   0,   8, 127, 138,  91, 117,  72, 100,  65,  67,\n",
       "         67,  65,  85,  96, 101,  95, 105, 137, 171, 104,   4,   0,   0,\n",
       "          0,   0],\n",
       "       [  0,   0,   0,   0,   0,  19, 198, 111,  60,  81,  71,  96, 108,\n",
       "         36,  65, 101,  72, 116,  87, 112, 224, 195,   0,   0,   1,   0,\n",
       "          0,   0],\n",
       "       [  0,   0,   0,   0,   0,   0,   4, 100,  80,  50, 113,  83,  50,\n",
       "        177,  72, 112,  54, 117,  85,  30, 192,  35,   0,   3,   0,   0,\n",
       "          0,   0],\n",
       "       [  0,   0,   0,   0,   0,   3,   0,   0,  77, 104, 109,  54,  89,\n",
       "         77,  95,  95,  54,  40,  43,  54,   0,   0,   1,   0,   0,   0,\n",
       "          0,   0],\n",
       "       [  0,   0,   0,   0,   0,   1,   0,   0,  65,  67, 133,  96,  93,\n",
       "         64, 111,  91, 108, 103,  85,  29,   9,   1,   0,   0,   0,   0,\n",
       "          0,   0],\n",
       "       [  0,   0,   0,   0,   0,   0,   0,   1,  80,  64, 140,  72,  50,\n",
       "         62, 100, 103, 101,  72, 156,  75,   8,   0,   0,   0,   0,   0,\n",
       "          0,   0],\n",
       "       [  0,   0,   0,   0,   0,   0,   0,   0,  56, 121, 101, 104,  87,\n",
       "         81,  67,  96,  79,  48,  79, 100,   0,   0,   0,   0,   0,   0,\n",
       "          0,   0],\n",
       "       [  0,   0,   0,   0,   0,   0,   0,   0,  83, 124, 100,  79,  81,\n",
       "        121,  67,  83,  88,  89,  87,  97,  30,   0,   1,   1,   0,   0,\n",
       "          0,   0],\n",
       "       [  0,   0,   0,   0,   0,   1,   0,  17, 127,  89,  51,  36, 104,\n",
       "        121,  89,  81, 108,  79,  81, 109,  91,   0,   6,   1,   0,   0,\n",
       "          0,   0],\n",
       "       [  0,   0,   0,   0,   0,   1,   0,  16, 112,  75,  36,  88,  80,\n",
       "         91,  97,  51,  79,  52,  85,  81, 124,   0,   3,   0,   0,   0,\n",
       "          0,   0],\n",
       "       [  0,   0,   0,   0,   0,   0,   0,  14,  58,  52,  83,  88,  75,\n",
       "        142, 101, 101,  62,  77, 103,  58, 116,   0,   0,   1,   0,   0,\n",
       "          0,   0],\n",
       "       [  0,   0,   0,   0,   0,   0,   0,  81, 112,  72, 108,  88,  85,\n",
       "        100,  93,  95,  62,  48,  89,  75, 124,   1,   0,   1,   0,   0,\n",
       "          0,   0],\n",
       "       [  0,   0,   0,   0,   0,   0,   0, 109, 121,  51,  89,  59,  62,\n",
       "         93, 108,  56,  65,  27,  35,  80, 101,  29,   0,   3,   0,   0,\n",
       "          0,   0],\n",
       "       [  0,   0,   0,   0,   0,   0,   0,  65,  72,  59,  54,  62,  83,\n",
       "         95,  95,  75,  43,  30,  24,  88, 104,  44,   0,   3,   0,   0,\n",
       "          0,   0],\n",
       "       [  0,   0,   0,   0,   0,   0,   3,  72,  80,  38,  40,  44,  40,\n",
       "         71,  52,  58,  48,  46,  48,  48,  88,  52,   0,   1,   0,   0,\n",
       "          0,   0],\n",
       "       [  0,   0,   0,   0,   1,   0,   4,  51,  19,  12,   4,   1,   1,\n",
       "          0,   0,   0,   0,   0,   0,   6,   1,   0,   0,   0,   0,   0,\n",
       "          0,   0],\n",
       "       [  0,   0,   0,   0,   3,   0,  25,  64,  60,  59,  51,  91,  71,\n",
       "         93,  58,  46,  79,  51,  36,  52,  96,  22,   0,   1,   0,   0,\n",
       "          0,   0],\n",
       "       [  0,   0,   0,   0,   4,   0,  75, 151,  71, 104,  30, 116, 117,\n",
       "        124, 154, 100,  97, 129, 112,  89, 138,  67,   0,   4,   0,   0,\n",
       "          0,   0],\n",
       "       [  0,   0,   0,   0,   3,   0,  65,  85,  69, 109,  56,  79,  89,\n",
       "        101, 130,  91,  69,  97, 117, 108, 121,  46,   0,   3,   0,   0,\n",
       "          0,   0],\n",
       "       [  0,   0,   0,   0,   3,   0,  54, 100,  58,  95,  58,  71,  73,\n",
       "         87,  97,  91,  96,  83,  85, 104, 138,  51,   0,   3,   0,   0,\n",
       "          0,   0]], dtype=uint8)"
      ]
     },
     "execution_count": 33,
     "metadata": {},
     "output_type": "execute_result"
    }
   ],
   "source": [
    "cv2.imread(data_path + sample, 0)"
   ]
  },
  {
   "cell_type": "code",
   "execution_count": null,
   "metadata": {},
   "outputs": [],
   "source": []
  }
 ],
 "metadata": {
  "kernelspec": {
   "display_name": "base",
   "language": "python",
   "name": "python3"
  },
  "language_info": {
   "codemirror_mode": {
    "name": "ipython",
    "version": 3
   },
   "file_extension": ".py",
   "mimetype": "text/x-python",
   "name": "python",
   "nbconvert_exporter": "python",
   "pygments_lexer": "ipython3",
   "version": "3.8.16"
  },
  "orig_nbformat": 4,
  "vscode": {
   "interpreter": {
    "hash": "eace1a3d2d18dcb98353cfeb529f20792ec64dcc10ba0bdd358326e3f660811b"
   }
  }
 },
 "nbformat": 4,
 "nbformat_minor": 2
}
