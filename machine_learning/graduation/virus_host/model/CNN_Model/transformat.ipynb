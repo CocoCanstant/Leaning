{
 "cells": [
  {
   "cell_type": "code",
   "execution_count": 1,
   "metadata": {},
   "outputs": [
    {
     "name": "stdout",
     "output_type": "stream",
     "text": [
      "sequence length is less than 2000MT221943.1\n",
      "sequence length is less than 2000MG000871.1\n",
      "sequence length is less than 2000KX286039.1\n",
      "sequence length is less than 2000MT222095.1\n",
      "sequence length is less than 2000KJ690965.1\n",
      "sequence length is less than 2000MG591491.1\n",
      "sequence length is less than 2000MT221904.1\n",
      "sequence length is less than 2000KX425844.1\n",
      "sequence length is less than 2000MT221761.1\n",
      "sequence length is less than 2000MT221744.1\n",
      "sequence length is less than 2000MT221762.1\n",
      "sequence length is less than 2000MF769465.1\n",
      "sequence length is less than 2000MT221870.1\n",
      "sequence length is less than 2000MF769474.1\n",
      "sequence length is less than 2000MG963196.1\n",
      "sequence length is less than 2000MG762664.1\n"
     ]
    }
   ],
   "source": [
    "from Bio import SeqIO\n",
    "from Bio.SeqRecord import SeqRecord\n",
    "\n",
    "new_record = []\n",
    "for seq_record in SeqIO.parse('/home/ouconstand/data/Virus_Host/seq_data/sequence_0.fasta','fasta'):\n",
    "    seq = seq_record.seq\n",
    "    if len(seq) > 2000:\n",
    "        for i in range(0, len(seq), 500):\n",
    "            if i + 2000 > len(seq):\n",
    "                new_seq = seq[-2000:]\n",
    "                rec = SeqRecord(new_seq, id=seq_record.id, description=seq_record.description, name=seq_record.name)\n",
    "                new_record.append(rec)\n",
    "                break\n",
    "\n",
    "            new_seq = seq[i:i+2000]\n",
    "            rec = SeqRecord(new_seq,id=seq_record.id,description=seq_record.description,name=seq_record.name)\n",
    "            new_record.append(rec)\n",
    "\n",
    "    else:\n",
    "        print(seq_record.name + 'sequence length is less than 2000')"
   ]
  },
  {
   "cell_type": "code",
   "execution_count": null,
   "metadata": {},
   "outputs": [],
   "source": []
  }
 ],
 "metadata": {
  "kernelspec": {
   "display_name": "base",
   "language": "python",
   "name": "python3"
  },
  "language_info": {
   "codemirror_mode": {
    "name": "ipython",
    "version": 3
   },
   "file_extension": ".py",
   "mimetype": "text/x-python",
   "name": "python",
   "nbconvert_exporter": "python",
   "pygments_lexer": "ipython3",
   "version": "3.8.8"
  },
  "orig_nbformat": 4,
  "vscode": {
   "interpreter": {
    "hash": "eace1a3d2d18dcb98353cfeb529f20792ec64dcc10ba0bdd358326e3f660811b"
   }
  }
 },
 "nbformat": 4,
 "nbformat_minor": 2
}
