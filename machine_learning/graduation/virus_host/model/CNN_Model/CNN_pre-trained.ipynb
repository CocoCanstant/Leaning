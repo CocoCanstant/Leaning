{
 "cells": [
  {
   "cell_type": "code",
   "execution_count": 1,
   "metadata": {},
   "outputs": [
    {
     "name": "stdout",
     "output_type": "stream",
     "text": [
      "sequence length is less than 2000 MT221943.1\n",
      "sequence length is less than 2000 MG000871.1\n",
      "sequence length is less than 2000 KX286039.1\n",
      "sequence length is less than 2000 MT222095.1\n",
      "sequence length is less than 2000 KJ690965.1\n",
      "sequence length is less than 2000 MG591491.1\n",
      "sequence length is less than 2000 MT221904.1\n",
      "sequence length is less than 2000 KX425844.1\n",
      "sequence length is less than 2000 MT221761.1\n",
      "sequence length is less than 2000 MT221744.1\n",
      "sequence length is less than 2000 MT221762.1\n",
      "sequence length is less than 2000 MF769465.1\n",
      "sequence length is less than 2000 MT221870.1\n",
      "sequence length is less than 2000 MF769474.1\n",
      "sequence length is less than 2000 MG963196.1\n",
      "sequence length is less than 2000 MG762664.1\n"
     ]
    }
   ],
   "source": [
    "from Bio import SeqIO\n",
    "from Bio.SeqRecord import SeqRecord\n",
    "\n",
    "new_record = []\n",
    "for seq_record in SeqIO.parse('/home/ouconstand/data/Virus_Host/seq_data/sequence_0.fasta','fasta'):\n",
    "    seq = seq_record.seq\n",
    "    if len(seq) > 2000:\n",
    "        for i in range(0, len(seq), 500):\n",
    "            if i + 2000 > len(seq):\n",
    "                new_seq = seq[-2000:]\n",
    "                rec = SeqRecord(new_seq, id=seq_record.id, description=seq_record.description, name=seq_record.name)\n",
    "                new_record.append(rec)\n",
    "                break\n",
    "\n",
    "            new_seq = seq[i:i+2000]\n",
    "            rec = SeqRecord(new_seq,id=seq_record.id,description=seq_record.description,name=seq_record.name)\n",
    "            new_record.append(rec)\n",
    "\n",
    "    else:\n",
    "        print('sequence length is less than 2000 ' + seq_record.name)"
   ]
  },
  {
   "cell_type": "code",
   "execution_count": 2,
   "metadata": {},
   "outputs": [],
   "source": [
    "import numpy as np\n",
    "\n",
    "nucl_dict = dict([(value, key) for key, value in enumerate(['A', 'T', 'C', 'G'])])\n",
    "\n",
    "def nucl_to_int(sequences, dim=4):\n",
    "    results = np.zeros((len(sequences),dim))\n",
    "    sequences = [nucl_dict.get(seq) for seq in sequences]\n",
    "    for i, sequence in enumerate(sequences):\n",
    "        results[i, sequence] = 1\n",
    "    return results"
   ]
  },
  {
   "cell_type": "code",
   "execution_count": 3,
   "metadata": {},
   "outputs": [],
   "source": [
    "train_data = np.asarray([nucl_to_int(seq.seq) for seq in new_record])\n",
    "# train_data = train_data.reshape(223, 2000*4)"
   ]
  },
  {
   "cell_type": "code",
   "execution_count": 4,
   "metadata": {},
   "outputs": [
    {
     "name": "stderr",
     "output_type": "stream",
     "text": [
      "/home/ouconstand/software/anaconda3/lib/python3.8/site-packages/scipy/__init__.py:146: UserWarning: A NumPy version >=1.16.5 and <1.23.0 is required for this version of SciPy (detected version 1.23.4\n",
      "  warnings.warn(f\"A NumPy version >={np_minversion} and <{np_maxversion}\"\n"
     ]
    }
   ],
   "source": [
    "from keras.utils.np_utils import to_categorical\n",
    "\n",
    "labels_dict = dict([(value, key) for key, value in enumerate(['KT368856.1', 'KT368895.1', 'MT726043.1', 'MZ519413.1'])])\n",
    "labels_list = [labels_dict.get(seq.id) for seq in new_record]\n",
    "train_labels = to_categorical(labels_list)"
   ]
  },
  {
   "cell_type": "code",
   "execution_count": 9,
   "metadata": {},
   "outputs": [],
   "source": [
    "from keras import models\n",
    "from keras import layers\n",
    "\n",
    "model = models.Sequential()\n",
    "\n",
    "model.add(layers.Conv1D(filters=64, kernel_size=4, padding='same', activation='relu', input_shape=(2000, 4)))\n",
    "model.add(layers.Conv1D(filters=64, kernel_size=4, padding='same', activation='relu'))\n",
    "model.add(layers.MaxPool1D(pool_size=2))\n",
    "\n",
    "model.add(layers.Conv1D(filters=128, kernel_size=4, padding='same', activation='relu'))\n",
    "model.add(layers.Conv1D(filters=128, kernel_size=4, padding='same', activation='relu'))\n",
    "model.add(layers.MaxPool1D(pool_size=2))\n",
    "\n",
    "model.add(layers.Conv1D(filters=128, kernel_size=4, padding='same', activation='relu'))\n",
    "model.add(layers.Conv1D(filters=128, kernel_size=4, padding='same', activation='relu'))\n",
    "model.add(layers.MaxPool1D(pool_size=2))\n",
    "\n",
    "model.add(layers.Flatten())\n",
    "model.add(layers.Dense(512, activation='relu'))\n",
    "model.add(layers.Dense(4, activation='softmax'))"
   ]
  },
  {
   "cell_type": "code",
   "execution_count": 10,
   "metadata": {},
   "outputs": [
    {
     "name": "stdout",
     "output_type": "stream",
     "text": [
      "Model: \"sequential_4\"\n",
      "_________________________________________________________________\n",
      "Layer (type)                 Output Shape              Param #   \n",
      "=================================================================\n",
      "conv1d_3 (Conv1D)            (None, 2000, 64)          1088      \n",
      "_________________________________________________________________\n",
      "conv1d_4 (Conv1D)            (None, 2000, 64)          16448     \n",
      "_________________________________________________________________\n",
      "max_pooling1d_1 (MaxPooling1 (None, 1000, 64)          0         \n",
      "_________________________________________________________________\n",
      "conv1d_5 (Conv1D)            (None, 1000, 128)         32896     \n",
      "_________________________________________________________________\n",
      "conv1d_6 (Conv1D)            (None, 1000, 128)         65664     \n",
      "_________________________________________________________________\n",
      "max_pooling1d_2 (MaxPooling1 (None, 500, 128)          0         \n",
      "_________________________________________________________________\n",
      "conv1d_7 (Conv1D)            (None, 500, 128)          65664     \n",
      "_________________________________________________________________\n",
      "conv1d_8 (Conv1D)            (None, 500, 128)          65664     \n",
      "_________________________________________________________________\n",
      "max_pooling1d_3 (MaxPooling1 (None, 250, 128)          0         \n",
      "_________________________________________________________________\n",
      "flatten (Flatten)            (None, 32000)             0         \n",
      "_________________________________________________________________\n",
      "dense (Dense)                (None, 512)               16384512  \n",
      "_________________________________________________________________\n",
      "dense_1 (Dense)              (None, 4)                 2052      \n",
      "=================================================================\n",
      "Total params: 16,633,988\n",
      "Trainable params: 16,633,988\n",
      "Non-trainable params: 0\n",
      "_________________________________________________________________\n"
     ]
    }
   ],
   "source": [
    "model.summary()"
   ]
  },
  {
   "cell_type": "code",
   "execution_count": 11,
   "metadata": {},
   "outputs": [],
   "source": [
    "model.compile(optimizer='rmsprop',\n",
    "              loss='categorical_crossentropy',\n",
    "              metrics=['accuracy'])"
   ]
  },
  {
   "cell_type": "code",
   "execution_count": 30,
   "metadata": {},
   "outputs": [
    {
     "name": "stdout",
     "output_type": "stream",
     "text": [
      "Epoch 1/20\n",
      "7/7 [==============================] - 5s 671ms/step - loss: 0.7612 - accuracy: 0.7399\n",
      "Epoch 2/20\n",
      "7/7 [==============================] - 4s 601ms/step - loss: 0.6002 - accuracy: 0.7265\n",
      "Epoch 3/20\n",
      "7/7 [==============================] - 4s 603ms/step - loss: 0.1408 - accuracy: 0.9686\n",
      "Epoch 4/20\n",
      "7/7 [==============================] - 4s 605ms/step - loss: 0.0211 - accuracy: 0.9955\n",
      "Epoch 5/20\n",
      "7/7 [==============================] - 5s 646ms/step - loss: 0.0024 - accuracy: 1.0000\n",
      "Epoch 6/20\n",
      "7/7 [==============================] - 4s 616ms/step - loss: 6.1052e-04 - accuracy: 1.0000\n",
      "Epoch 7/20\n",
      "7/7 [==============================] - 4s 612ms/step - loss: 3.2153e-04 - accuracy: 1.0000\n",
      "Epoch 8/20\n",
      "7/7 [==============================] - 4s 616ms/step - loss: 1.7873e-04 - accuracy: 1.0000\n",
      "Epoch 9/20\n",
      "7/7 [==============================] - 5s 719ms/step - loss: 8.9764e-05 - accuracy: 1.0000\n",
      "Epoch 10/20\n",
      "7/7 [==============================] - 4s 605ms/step - loss: 4.7502e-05 - accuracy: 1.0000\n",
      "Epoch 11/20\n",
      "7/7 [==============================] - 4s 635ms/step - loss: 2.5988e-05 - accuracy: 1.0000\n",
      "Epoch 12/20\n",
      "7/7 [==============================] - 4s 614ms/step - loss: 1.5278e-05 - accuracy: 1.0000\n",
      "Epoch 13/20\n",
      "7/7 [==============================] - 4s 628ms/step - loss: 8.5450e-06 - accuracy: 1.0000\n",
      "Epoch 14/20\n",
      "7/7 [==============================] - 5s 689ms/step - loss: 5.7893e-06 - accuracy: 1.0000\n",
      "Epoch 15/20\n",
      "7/7 [==============================] - 6s 975ms/step - loss: 3.3945e-06 - accuracy: 1.0000\n",
      "Epoch 16/20\n",
      "7/7 [==============================] - 6s 891ms/step - loss: 2.3227e-06 - accuracy: 1.0000\n",
      "Epoch 17/20\n",
      "7/7 [==============================] - 5s 726ms/step - loss: 1.5043e-06 - accuracy: 1.0000\n",
      "Epoch 18/20\n",
      "7/7 [==============================] - 5s 698ms/step - loss: 1.0157e-06 - accuracy: 1.0000\n",
      "Epoch 19/20\n",
      "7/7 [==============================] - 5s 711ms/step - loss: 7.1686e-07 - accuracy: 1.0000\n",
      "Epoch 20/20\n",
      "7/7 [==============================] - 5s 732ms/step - loss: 4.7791e-07 - accuracy: 1.0000\n"
     ]
    }
   ],
   "source": [
    "history = model.fit(train_data, train_labels, epochs=20)"
   ]
  },
  {
   "cell_type": "code",
   "execution_count": 32,
   "metadata": {},
   "outputs": [
    {
     "data": {
      "text/plain": [
       "3"
      ]
     },
     "execution_count": 32,
     "metadata": {},
     "output_type": "execute_result"
    }
   ],
   "source": [
    "np.argmax(model.predict(train_data[0:1]))"
   ]
  },
  {
   "cell_type": "code",
   "execution_count": 18,
   "metadata": {},
   "outputs": [
    {
     "data": {
      "text/plain": [
       "array([[1., 0., 0., 0.],\n",
       "       [0., 0., 1., 0.],\n",
       "       [0., 1., 0., 0.],\n",
       "       ...,\n",
       "       [0., 0., 0., 1.],\n",
       "       [0., 0., 1., 0.],\n",
       "       [0., 1., 0., 0.]])"
      ]
     },
     "execution_count": 18,
     "metadata": {},
     "output_type": "execute_result"
    }
   ],
   "source": [
    "train_data[0]"
   ]
  },
  {
   "cell_type": "code",
   "execution_count": 35,
   "metadata": {},
   "outputs": [
    {
     "data": {
      "text/plain": [
       "dict_keys(['loss', 'accuracy'])"
      ]
     },
     "execution_count": 35,
     "metadata": {},
     "output_type": "execute_result"
    }
   ],
   "source": [
    "history_dict = history.history\n",
    "history_dict.keys()"
   ]
  },
  {
   "cell_type": "code",
   "execution_count": 39,
   "metadata": {},
   "outputs": [
    {
     "data": {
      "image/png": "[encoded data removed]",
      "text/plain": [
       "<Figure size 432x288 with 1 Axes>"
      ]
     },
     "metadata": {
      "needs_background": "light"
     },
     "output_type": "display_data"
    }
   ],
   "source": [
    "import matplotlib.pyplot as plt\n",
    "\n",
    "loss_value = history_dict['loss']\n",
    "accuracy_value = history_dict['accuracy']\n",
    "\n",
    "epochs = range(1, len(loss_value) + 1)\n",
    "\n",
    "plt.plot(epochs, loss_value, 'bo', label='loss')\n",
    "plt.plot(epochs, accuracy_value, 'b', label='accuracy')\n",
    "plt.xlabel('epochs')\n",
    "plt.legend()\n",
    "plt.show()"
   ]
  },
  {
   "cell_type": "code",
   "execution_count": 38,
   "metadata": {},
   "outputs": [
    {
     "data": {
      "text/plain": [
       "[0.7399103045463562,\n",
       " 0.726457417011261,\n",
       " 0.9686098694801331,\n",
       " 0.9955157041549683,\n",
       " 1.0,\n",
       " 1.0,\n",
       " 1.0,\n",
       " 1.0,\n",
       " 1.0,\n",
       " 1.0,\n",
       " 1.0,\n",
       " 1.0,\n",
       " 1.0,\n",
       " 1.0,\n",
       " 1.0,\n",
       " 1.0,\n",
       " 1.0,\n",
       " 1.0,\n",
       " 1.0,\n",
       " 1.0]"
      ]
     },
     "execution_count": 38,
     "metadata": {},
     "output_type": "execute_result"
    }
   ],
   "source": [
    "accuracy_value"
   ]
  },
  {
   "cell_type": "code",
   "execution_count": null,
   "metadata": {},
   "outputs": [],
   "source": []
  }
 ],
 "metadata": {
  "kernelspec": {
   "display_name": "base",
   "language": "python",
   "name": "python3"
  },
  "language_info": {
   "codemirror_mode": {
    "name": "ipython",
    "version": 3
   },
   "file_extension": ".py",
   "mimetype": "text/x-python",
   "name": "python",
   "nbconvert_exporter": "python",
   "pygments_lexer": "ipython3",
   "version": "3.8.16"
  },
  "orig_nbformat": 4,
  "vscode": {
   "interpreter": {
    "hash": "eace1a3d2d18dcb98353cfeb529f20792ec64dcc10ba0bdd358326e3f660811b"
   }
  }
 },
 "nbformat": 4,
 "nbformat_minor": 2
}
