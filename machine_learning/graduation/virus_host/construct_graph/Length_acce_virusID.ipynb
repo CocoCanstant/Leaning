{
 "cells": [
  {
   "cell_type": "code",
   "execution_count": 1,
   "metadata": {},
   "outputs": [],
   "source": [
    "import pandas as pd\n",
    "# read data\n",
    "length_acce = pd.read_table('/home/ouconstand/Learning/graduation/virus_host/construct_graph/Virion_accession_length.txt', sep='\\t')\n",
    "acce_id = pd.read_csv('/home/ouconstand/Learning/graduation/virus_host/construct_graph/final_acce_virusID.csv')\n",
    "\n",
    "length_acce.columns = ['Accession','Length']\n",
    "# move duplication\n",
    "length_acce.drop_duplicates(['Accession','Length'],inplace=True)"
   ]
  },
  {
   "cell_type": "code",
   "execution_count": 2,
   "metadata": {},
   "outputs": [
    {
     "name": "stdout",
     "output_type": "stream",
     "text": [
      "1023868\n",
      "1025047\n"
     ]
    }
   ],
   "source": [
    "old_data = set(length_acce['Accession'])\n",
    "new_data = set(acce_id['Accession'])\n",
    "print(len(old_data))\n",
    "print(len(new_data))"
   ]
  },
  {
   "cell_type": "code",
   "execution_count": 3,
   "metadata": {},
   "outputs": [
    {
     "data": {
      "text/plain": [
       "1290"
      ]
     },
     "execution_count": 3,
     "metadata": {},
     "output_type": "execute_result"
    }
   ],
   "source": [
    "different_data = list((old_data | new_data)-old_data)\n",
    "len(different_data)"
   ]
  },
  {
   "cell_type": "code",
   "execution_count": 23,
   "metadata": {},
   "outputs": [],
   "source": [
    "# download discrepant data\n",
    "\n",
    "import pandas as pd\n",
    "import requests\n",
    "import re\n",
    "from bs4 import BeautifulSoup\n",
    "\n",
    "# the function is designed to get fasta format information\n",
    "api_key = '59cbd6ff6b3ce5d506f0eeb69e4e09362409'\n",
    "def get_url_info(segment):\n",
    "\n",
    "    # Using requests function get the id from term\n",
    "    term_url = 'https://eutils.ncbi.nlm.nih.gov/entrez/eutils/esearch.fcgi?db=nucleotide&api_key={}&term='.format(api_key) + \",\".join(segment)\n",
    "    term_info = BeautifulSoup(requests.get(term_url, timeout=(10,30)).text, 'html.parser')\n",
    "\n",
    "    # get id\n",
    "    pattern = re.compile(r'<id>(.*)</id>')\n",
    "    accession_id = re.findall(pattern, str(term_info))\n",
    "    \n",
    "    # get sequencing information from id\n",
    "    fasta_url = 'https://eutils.ncbi.nlm.nih.gov/entrez/eutils/efetch.fcgi?db=nucleotide&rettype=fasta&id={}&api_key={}'.format(','.join(accession_id), api_key)\n",
    "    fasta_info = requests.get(fasta_url, timeout=(10,30)).text\n",
    "    return fasta_info\n",
    "\n",
    "# this function is designed to write files\n",
    "def write_file(fasta_info,name_num):\n",
    "    with open(\"/home/ouconstand/data/Virus_Host/sequence_{}.fasta\".format(name_num), 'w') as f:\n",
    "        f.write(fasta_info)"
   ]
  },
  {
   "cell_type": "code",
   "execution_count": 4,
   "metadata": {},
   "outputs": [
    {
     "data": {
      "text/plain": [
       "(1026559, 2)"
      ]
     },
     "execution_count": 4,
     "metadata": {},
     "output_type": "execute_result"
    }
   ],
   "source": [
    "whole_data = pd.read_table('/home/ouconstand/Learning/graduation/virus_host/construct_graph/merge_added_raw_seq_len.txt', sep='\\t')\n",
    "whole_data.columns = ['Accession', 'Length']\n",
    "whole_data.shape"
   ]
  },
  {
   "cell_type": "code",
   "execution_count": 5,
   "metadata": {},
   "outputs": [
    {
     "data": {
      "text/plain": [
       "0"
      ]
     },
     "execution_count": 5,
     "metadata": {},
     "output_type": "execute_result"
    }
   ],
   "source": [
    "fuck_add = list((set(whole_data['Accession']) | new_data) - set(whole_data['Accession']))\n",
    "len(fuck_add)"
   ]
  },
  {
   "cell_type": "code",
   "execution_count": 26,
   "metadata": {},
   "outputs": [],
   "source": [
    "for i in range(2):\n",
    "    write_file(get_url_info(fuck_add[i*20:(i+1)*20]),i)"
   ]
  },
  {
   "cell_type": "code",
   "execution_count": 12,
   "metadata": {},
   "outputs": [
    {
     "name": "stdout",
     "output_type": "stream",
     "text": [
      "(1026459, 3)\n",
      "(1025056, 3)\n"
     ]
    }
   ],
   "source": [
    "acce_id_len = pd.merge(acce_id, whole_data, on='Accession', how='inner')\n",
    "print(acce_id_len.shape)\n",
    "acce_id_len.drop_duplicates(subset=['Accession','VirusID','Length'],inplace=True)\n",
    "print(acce_id_len.shape)\n",
    "acce_id_len.dropna(inplace=True)"
   ]
  },
  {
   "cell_type": "code",
   "execution_count": 7,
   "metadata": {},
   "outputs": [
    {
     "data": {
      "text/plain": [
       "953"
      ]
     },
     "execution_count": 7,
     "metadata": {},
     "output_type": "execute_result"
    }
   ],
   "source": [
    "len(set(acce_id_len['VirusID']))"
   ]
  },
  {
   "cell_type": "code",
   "execution_count": 10,
   "metadata": {},
   "outputs": [],
   "source": [
    "acce_id_len.to_csv('/home/ouconstand/Learning/graduation/virus_host/construct_graph/acce_id_len.csv', index=None)"
   ]
  },
  {
   "cell_type": "code",
   "execution_count": 20,
   "metadata": {},
   "outputs": [
    {
     "data": {
      "text/html": [
       "<div>\n",
       "<style scoped>\n",
       "    .dataframe tbody tr th:only-of-type {\n",
       "        vertical-align: middle;\n",
       "    }\n",
       "\n",
       "    .dataframe tbody tr th {\n",
       "        vertical-align: top;\n",
       "    }\n",
       "\n",
       "    .dataframe thead th {\n",
       "        text-align: right;\n",
       "    }\n",
       "</style>\n",
       "<table border=\"1\" class=\"dataframe\">\n",
       "  <thead>\n",
       "    <tr style=\"text-align: right;\">\n",
       "      <th></th>\n",
       "      <th>VirusID</th>\n",
       "      <th>Length</th>\n",
       "    </tr>\n",
       "  </thead>\n",
       "  <tbody>\n",
       "    <tr>\n",
       "      <th>0</th>\n",
       "      <td>11137</td>\n",
       "      <td>28754</td>\n",
       "    </tr>\n",
       "    <tr>\n",
       "      <th>1</th>\n",
       "      <td>28295</td>\n",
       "      <td>28124</td>\n",
       "    </tr>\n",
       "    <tr>\n",
       "      <th>2</th>\n",
       "      <td>229103</td>\n",
       "      <td>88</td>\n",
       "    </tr>\n",
       "    <tr>\n",
       "      <th>3</th>\n",
       "      <td>277944</td>\n",
       "      <td>27832</td>\n",
       "    </tr>\n",
       "    <tr>\n",
       "      <th>4</th>\n",
       "      <td>290028</td>\n",
       "      <td>29983</td>\n",
       "    </tr>\n",
       "    <tr>\n",
       "      <th>...</th>\n",
       "      <td>...</td>\n",
       "      <td>...</td>\n",
       "    </tr>\n",
       "    <tr>\n",
       "      <th>948</th>\n",
       "      <td>2856927</td>\n",
       "      <td>387</td>\n",
       "    </tr>\n",
       "    <tr>\n",
       "      <th>949</th>\n",
       "      <td>2856928</td>\n",
       "      <td>387</td>\n",
       "    </tr>\n",
       "    <tr>\n",
       "      <th>950</th>\n",
       "      <td>2856929</td>\n",
       "      <td>387</td>\n",
       "    </tr>\n",
       "    <tr>\n",
       "      <th>951</th>\n",
       "      <td>2856930</td>\n",
       "      <td>387</td>\n",
       "    </tr>\n",
       "    <tr>\n",
       "      <th>952</th>\n",
       "      <td>2856931</td>\n",
       "      <td>387</td>\n",
       "    </tr>\n",
       "  </tbody>\n",
       "</table>\n",
       "<p>953 rows × 2 columns</p>\n",
       "</div>"
      ],
      "text/plain": [
       "     VirusID  Length\n",
       "0      11137   28754\n",
       "1      28295   28124\n",
       "2     229103      88\n",
       "3     277944   27832\n",
       "4     290028   29983\n",
       "..       ...     ...\n",
       "948  2856927     387\n",
       "949  2856928     387\n",
       "950  2856929     387\n",
       "951  2856930     387\n",
       "952  2856931     387\n",
       "\n",
       "[953 rows x 2 columns]"
      ]
     },
     "execution_count": 20,
     "metadata": {},
     "output_type": "execute_result"
    }
   ],
   "source": [
    "max_len_ID = acce_id_len.groupby(\"VirusID\").Length.agg([\"max\"])\n",
    "max_len_ID = max_len_ID.reset_index()\n",
    "max_len_ID.columns = ['VirusID', 'Length']\n",
    "max_len_ID"
   ]
  },
  {
   "cell_type": "code",
   "execution_count": 24,
   "metadata": {},
   "outputs": [],
   "source": [
    "only_maxlen_id_acce = pd.merge(max_len_ID, acce_id_len, on=['VirusID','Length'], how='inner')\n",
    "only_maxlen_id_acce\n",
    "only_maxlen_id_acce.drop_duplicates(subset=['VirusID', 'Length'], inplace=True)"
   ]
  },
  {
   "cell_type": "code",
   "execution_count": 28,
   "metadata": {},
   "outputs": [],
   "source": [
    "only_maxlen_id_acce.to_csv('maxlen_acce_id.csv', index=None)"
   ]
  },
  {
   "cell_type": "code",
   "execution_count": 29,
   "metadata": {},
   "outputs": [
    {
     "data": {
      "text/html": [
       "<div>\n",
       "<style scoped>\n",
       "    .dataframe tbody tr th:only-of-type {\n",
       "        vertical-align: middle;\n",
       "    }\n",
       "\n",
       "    .dataframe tbody tr th {\n",
       "        vertical-align: top;\n",
       "    }\n",
       "\n",
       "    .dataframe thead th {\n",
       "        text-align: right;\n",
       "    }\n",
       "</style>\n",
       "<table border=\"1\" class=\"dataframe\">\n",
       "  <thead>\n",
       "    <tr style=\"text-align: right;\">\n",
       "      <th></th>\n",
       "      <th>VirusID</th>\n",
       "      <th>Length</th>\n",
       "      <th>Accession</th>\n",
       "    </tr>\n",
       "  </thead>\n",
       "  <tbody>\n",
       "    <tr>\n",
       "      <th>0</th>\n",
       "      <td>11137</td>\n",
       "      <td>28754</td>\n",
       "      <td>KT253271.1</td>\n",
       "    </tr>\n",
       "    <tr>\n",
       "      <th>1</th>\n",
       "      <td>28295</td>\n",
       "      <td>28124</td>\n",
       "      <td>KX981440.1</td>\n",
       "    </tr>\n",
       "    <tr>\n",
       "      <th>7</th>\n",
       "      <td>277944</td>\n",
       "      <td>27832</td>\n",
       "      <td>MG428704.1</td>\n",
       "    </tr>\n",
       "    <tr>\n",
       "      <th>8</th>\n",
       "      <td>290028</td>\n",
       "      <td>29983</td>\n",
       "      <td>KF686343.1</td>\n",
       "    </tr>\n",
       "    <tr>\n",
       "      <th>37</th>\n",
       "      <td>572290</td>\n",
       "      <td>26396</td>\n",
       "      <td>NC_011549.1</td>\n",
       "    </tr>\n",
       "    <tr>\n",
       "      <th>...</th>\n",
       "      <td>...</td>\n",
       "      <td>...</td>\n",
       "      <td>...</td>\n",
       "    </tr>\n",
       "    <tr>\n",
       "      <th>1211</th>\n",
       "      <td>2814912</td>\n",
       "      <td>26289</td>\n",
       "      <td>MW345815.1</td>\n",
       "    </tr>\n",
       "    <tr>\n",
       "      <th>1212</th>\n",
       "      <td>2814913</td>\n",
       "      <td>26208</td>\n",
       "      <td>MW345816.1</td>\n",
       "    </tr>\n",
       "    <tr>\n",
       "      <th>1213</th>\n",
       "      <td>2814914</td>\n",
       "      <td>26240</td>\n",
       "      <td>MW349841.1</td>\n",
       "    </tr>\n",
       "    <tr>\n",
       "      <th>1216</th>\n",
       "      <td>2836123</td>\n",
       "      <td>28878</td>\n",
       "      <td>MZ190137.1</td>\n",
       "    </tr>\n",
       "    <tr>\n",
       "      <th>1217</th>\n",
       "      <td>2836124</td>\n",
       "      <td>29220</td>\n",
       "      <td>MZ190138.1</td>\n",
       "    </tr>\n",
       "  </tbody>\n",
       "</table>\n",
       "<p>116 rows × 3 columns</p>\n",
       "</div>"
      ],
      "text/plain": [
       "      VirusID  Length    Accession\n",
       "0       11137   28754   KT253271.1\n",
       "1       28295   28124   KX981440.1\n",
       "7      277944   27832   MG428704.1\n",
       "8      290028   29983   KF686343.1\n",
       "37     572290   26396  NC_011549.1\n",
       "...       ...     ...          ...\n",
       "1211  2814912   26289   MW345815.1\n",
       "1212  2814913   26208   MW345816.1\n",
       "1213  2814914   26240   MW349841.1\n",
       "1216  2836123   28878   MZ190137.1\n",
       "1217  2836124   29220   MZ190138.1\n",
       "\n",
       "[116 rows x 3 columns]"
      ]
     },
     "execution_count": 29,
     "metadata": {},
     "output_type": "execute_result"
    }
   ],
   "source": [
    "only_maxlen_id_acce[only_maxlen_id_acce['Length'] > 20000]"
   ]
  },
  {
   "cell_type": "code",
   "execution_count": null,
   "metadata": {},
   "outputs": [],
   "source": [
    "! cat maxlen_acce_id.csv | awk 'NR!=1 {print}' | awk -F ',' '$2<20000 {print $3}' > less_than_20000_acce.txt"
   ]
  }
 ],
 "metadata": {
  "kernelspec": {
   "display_name": "base",
   "language": "python",
   "name": "python3"
  },
  "language_info": {
   "codemirror_mode": {
    "name": "ipython",
    "version": 3
   },
   "file_extension": ".py",
   "mimetype": "text/x-python",
   "name": "python",
   "nbconvert_exporter": "python",
   "pygments_lexer": "ipython3",
   "version": "3.8.8 (default, Apr 13 2021, 19:58:26) \n[GCC 7.3.0]"
  },
  "orig_nbformat": 4,
  "vscode": {
   "interpreter": {
    "hash": "eace1a3d2d18dcb98353cfeb529f20792ec64dcc10ba0bdd358326e3f660811b"
   }
  }
 },
 "nbformat": 4,
 "nbformat_minor": 2
}
