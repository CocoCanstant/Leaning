{
 "cells": [
  {
   "cell_type": "code",
   "execution_count": 1,
   "metadata": {},
   "outputs": [],
   "source": [
    "import pandas as pd\n",
    "\n",
    "passed_data = []\n",
    "data_procession = []\n",
    "with open('/home/ouconstand/data/Virus_Host/Virion.csv','r', encoding='ISO-8859-1') as f:\n",
    "    for line in f.read().splitlines():\n",
    "        data = line.split('\\t')\n",
    "        if len(data) < 34:\n",
    "            passed_data.append(data)\n",
    "        else:\n",
    "            if data[7] == '' or data[2] == '' or data[3] == '' or data[33] == '': # delete non_family or non_virustaxid information data\n",
    "                pass\n",
    "            else:\n",
    "                data_procession.append(data)\n",
    "\n",
    "data = pd.DataFrame(data_procession[1:-1],columns=data_procession[0])"
   ]
  },
  {
   "cell_type": "code",
   "execution_count": 3,
   "metadata": {},
   "outputs": [
    {
     "data": {
      "text/plain": [
       "(420174, 34)"
      ]
     },
     "execution_count": 3,
     "metadata": {},
     "output_type": "execute_result"
    }
   ],
   "source": [
    "data.shape"
   ]
  },
  {
   "cell_type": "code",
   "execution_count": 4,
   "metadata": {},
   "outputs": [],
   "source": [
    "coro = data[data['VirusFamily'] == 'coronaviridae']"
   ]
  },
  {
   "cell_type": "code",
   "execution_count": 5,
   "metadata": {},
   "outputs": [
    {
     "data": {
      "text/plain": [
       "(35611, 34)"
      ]
     },
     "execution_count": 5,
     "metadata": {},
     "output_type": "execute_result"
    }
   ],
   "source": [
    "coro.shape"
   ]
  },
  {
   "cell_type": "code",
   "execution_count": 6,
   "metadata": {},
   "outputs": [
    {
     "data": {
      "text/html": [
       "<div>\n",
       "<style scoped>\n",
       "    .dataframe tbody tr th:only-of-type {\n",
       "        vertical-align: middle;\n",
       "    }\n",
       "\n",
       "    .dataframe tbody tr th {\n",
       "        vertical-align: top;\n",
       "    }\n",
       "\n",
       "    .dataframe thead th {\n",
       "        text-align: right;\n",
       "    }\n",
       "</style>\n",
       "<table border=\"1\" class=\"dataframe\">\n",
       "  <thead>\n",
       "    <tr style=\"text-align: right;\">\n",
       "      <th></th>\n",
       "      <th>HostTaxID</th>\n",
       "      <th>VirusTaxID</th>\n",
       "    </tr>\n",
       "  </thead>\n",
       "  <tbody>\n",
       "    <tr>\n",
       "      <th>27</th>\n",
       "      <td>258862</td>\n",
       "      <td>1532174</td>\n",
       "    </tr>\n",
       "    <tr>\n",
       "      <th>28</th>\n",
       "      <td>27671</td>\n",
       "      <td>1076425</td>\n",
       "    </tr>\n",
       "    <tr>\n",
       "      <th>29</th>\n",
       "      <td>27671</td>\n",
       "      <td>1906673</td>\n",
       "    </tr>\n",
       "    <tr>\n",
       "      <th>30</th>\n",
       "      <td>9437</td>\n",
       "      <td>1582306</td>\n",
       "    </tr>\n",
       "    <tr>\n",
       "      <th>63</th>\n",
       "      <td>53274</td>\n",
       "      <td>694014</td>\n",
       "    </tr>\n",
       "    <tr>\n",
       "      <th>...</th>\n",
       "      <td>...</td>\n",
       "      <td>...</td>\n",
       "    </tr>\n",
       "    <tr>\n",
       "      <th>418994</th>\n",
       "      <td>30538</td>\n",
       "      <td>1770168</td>\n",
       "    </tr>\n",
       "    <tr>\n",
       "      <th>418998</th>\n",
       "      <td>30538</td>\n",
       "      <td>669204</td>\n",
       "    </tr>\n",
       "    <tr>\n",
       "      <th>418999</th>\n",
       "      <td>30538</td>\n",
       "      <td>694014</td>\n",
       "    </tr>\n",
       "    <tr>\n",
       "      <th>419002</th>\n",
       "      <td>30538</td>\n",
       "      <td>694003</td>\n",
       "    </tr>\n",
       "    <tr>\n",
       "      <th>419011</th>\n",
       "      <td>30538</td>\n",
       "      <td>11137</td>\n",
       "    </tr>\n",
       "  </tbody>\n",
       "</table>\n",
       "<p>1544 rows × 2 columns</p>\n",
       "</div>"
      ],
      "text/plain": [
       "       HostTaxID VirusTaxID\n",
       "27        258862    1532174\n",
       "28         27671    1076425\n",
       "29         27671    1906673\n",
       "30          9437    1582306\n",
       "63         53274     694014\n",
       "...          ...        ...\n",
       "418994     30538    1770168\n",
       "418998     30538     669204\n",
       "418999     30538     694014\n",
       "419002     30538     694003\n",
       "419011     30538      11137\n",
       "\n",
       "[1544 rows x 2 columns]"
      ]
     },
     "execution_count": 6,
     "metadata": {},
     "output_type": "execute_result"
    }
   ],
   "source": [
    "vh_pairs = coro[['HostTaxID', 'VirusTaxID']]\n",
    "vh_pairs.drop_duplicates(subset=['HostTaxID', 'VirusTaxID'])"
   ]
  },
  {
   "cell_type": "code",
   "execution_count": 8,
   "metadata": {},
   "outputs": [
    {
     "name": "stdout",
     "output_type": "stream",
     "text": [
      "the count of coronavirus species is : 953\n"
     ]
    }
   ],
   "source": [
    "print('the count of coronavirus species is : ' + str(len(set(coro['VirusTaxID']))))"
   ]
  },
  {
   "cell_type": "code",
   "execution_count": null,
   "metadata": {},
   "outputs": [],
   "source": []
  }
 ],
 "metadata": {
  "kernelspec": {
   "display_name": "base",
   "language": "python",
   "name": "python3"
  },
  "language_info": {
   "codemirror_mode": {
    "name": "ipython",
    "version": 3
   },
   "file_extension": ".py",
   "mimetype": "text/x-python",
   "name": "python",
   "nbconvert_exporter": "python",
   "pygments_lexer": "ipython3",
   "version": "3.8.8"
  },
  "orig_nbformat": 4,
  "vscode": {
   "interpreter": {
    "hash": "eace1a3d2d18dcb98353cfeb529f20792ec64dcc10ba0bdd358326e3f660811b"
   }
  }
 },
 "nbformat": 4,
 "nbformat_minor": 2
}
