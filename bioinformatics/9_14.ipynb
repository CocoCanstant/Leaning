{
 "cells": [
  {
   "cell_type": "markdown",
   "metadata": {},
   "source": [
    "get id and accession"
   ]
  },
  {
   "cell_type": "code",
   "execution_count": 23,
   "metadata": {},
   "outputs": [
    {
     "name": "stdout",
     "output_type": "stream",
     "text": [
      "1386\n",
      "1017365\n"
     ]
    }
   ],
   "source": [
    "import re\n",
    "\n",
    "with open('virion_coronaviridae_accession.csv', 'r') as f:\n",
    "    lines = f.readlines()\n",
    "    f.close()\n",
    "\n",
    "accession = []\n",
    "id = []\n",
    "\n",
    "pattern_id = re.compile(r'^\\d+')\n",
    "pattern_acce = re.compile(r'^\\w+\\d+')\n",
    "for line in lines:\n",
    "    id += re.findall(pattern_id, line)\n",
    "    accession += re.findall(pattern_acce, line)\n",
    "    line = line.strip('\\n').split(',')\n",
    "    if len(line) > 2:\n",
    "        accession += line\n",
    "\n"
   ]
  },
  {
   "cell_type": "code",
   "execution_count": 26,
   "metadata": {},
   "outputs": [
    {
     "data": {
      "text/plain": [
       "['310769577', '310769587', '211907050', '212681378', '372468322', '124294673']"
      ]
     },
     "execution_count": 26,
     "metadata": {},
     "output_type": "execute_result"
    }
   ],
   "source": [
    "id[1380:1400]"
   ]
  },
  {
   "cell_type": "code",
   "execution_count": null,
   "metadata": {},
   "outputs": [],
   "source": [
    "6e2f58038b074d964bb8b87f43623af7b508"
   ]
  },
  {
   "cell_type": "code",
   "execution_count": null,
   "metadata": {},
   "outputs": [],
   "source": [
    "import pandas as pd\n",
    "from bs4 import BeautifulSoup\n",
    "import requests\n",
    "import re\n",
    "\n",
    "\n",
    "# the function is designed to get fasta format information\n",
    "def get_url_info_id(segment):\n",
    "\n",
    "    # Using requests function get the id from term\n",
    "    term_url = 'https://eutils.ncbi.nlm.nih.gov/entrez/eutils/esearch.fcgi?db=nucleotide&api_key=6e2f58038b074d964bb8b87f43623af7b508&term=' + \",\".join(segment)\n",
    "    term_info = requests.get(term_url).text\n",
    "    soup = BeautifulSoup(term_info, 'html.parser')\n",
    "\n",
    "    # get id\n",
    "    accession_id = [k.text for k in soup.find_all('id')]\n",
    "\n",
    "\n",
    "def get_fasta_info(id):\n",
    "    # get sequencing information from id\n",
    "    fasta_url = 'https://eutils.ncbi.nlm.nih.gov/entrez/eutils/efetch.fcgi?db=nucleotide&rettype=fasta&id={}&api_key=6e2f58038b074d964bb8b87f43623af7b508'.format(','.join(id))\n",
    "    fasta_info = requests.get(fasta_url).text\n",
    "    return fasta_info\n",
    "\n",
    "\n",
    "# this function is designed to write files\n",
    "def write_file(fasta_info,name_num):\n",
    "    with open(\"/home/bio_kang/data/virus_data/sequence_{}.fasta\".format(name_num), 'w') as f:\n",
    "        f.write(fasta_info)\n",
    "\n",
    "\n"
   ]
  },
  {
   "cell_type": "code",
   "execution_count": null,
   "metadata": {},
   "outputs": [],
   "source": []
  }
 ],
 "metadata": {
  "kernelspec": {
   "display_name": "Python 3.8.8 ('base': conda)",
   "language": "python",
   "name": "python3"
  },
  "language_info": {
   "codemirror_mode": {
    "name": "ipython",
    "version": 3
   },
   "file_extension": ".py",
   "mimetype": "text/x-python",
   "name": "python",
   "nbconvert_exporter": "python",
   "pygments_lexer": "ipython3",
   "version": "3.8.8"
  },
  "orig_nbformat": 4,
  "vscode": {
   "interpreter": {
    "hash": "e4c0b1c8e35d9f80793da27c1f09cec2906743a08f4271636815a29bc833a021"
   }
  }
 },
 "nbformat": 4,
 "nbformat_minor": 2
}
