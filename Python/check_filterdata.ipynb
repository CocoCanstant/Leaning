{
 "cells": [
  {
   "cell_type": "code",
   "execution_count": null,
   "metadata": {},
   "outputs": [],
   "source": [
    "#!/ldfssz1/ST_INFECTION/P20Z10200N0206_pathogendb/yangkaixin1/software/miniconda/envs/vs2/bin/python\n",
    "\n",
    "import os\n",
    "import re\n",
    "import pandas as pd\n",
    "\n",
    "raw_Data = pd.read_csv('/jdfssz1/ST_HEALTH/P20Z10200N0206/ouyangkang/fuck_task/WIV_Rawdata_list1_to_OYK.csv')\n",
    "\n",
    "dir_list = list(raw_Data['Path'])\n",
    "\n",
    "\n",
    "for dir in dir_list:\n",
    "    files = os.listdir(dir)\n",
    "\n",
    "    pattern_ID = re.compile(r'Temp/(.*)/')\n",
    "    pattern_Time = re.compile(r'/(\\d{6})_SEQ')\n",
    "\n",
    "    raw_reads_1 += [dir + '/' +  file for file in files if '_1.fq.gz' in file]\n",
    "    raw_reads_2 += [dir + '/' + file for file in files if '_2.fq.gz' in file]\n",
    "\n",
    "    sample_ID.append(re.findall(pattern_ID, dir)[0] + '_1_20' + re.findall(pattern_Time, dir)[0][:2] + '-' + re.findall(pattern_Time, dir)[0][2:4] + '-' +re.findall(pattern_Time, dir)[0][4:6])\n",
    "\n",
    "data = pd.DataFrame([sample_ID, raw_reads_1, raw_reads_2]).T\n",
    "data.columns = ['Sample_ID', 'Reads_1', 'Reads_2']\n",
    "data.to_csv('/jdfssz1/ST_HEALTH/P20Z10200N0206/ouyangkang/fuck_task/processed_data.txt', sep='\\t', index=None, header=None)"
   ]
  }
 ],
 "metadata": {
  "kernelspec": {
   "display_name": "base",
   "language": "python",
   "name": "python3"
  },
  "language_info": {
   "name": "python",
   "version": "3.8.8 (default, Apr 13 2021, 19:58:26) \n[GCC 7.3.0]"
  },
  "orig_nbformat": 4,
  "vscode": {
   "interpreter": {
    "hash": "eace1a3d2d18dcb98353cfeb529f20792ec64dcc10ba0bdd358326e3f660811b"
   }
  }
 },
 "nbformat": 4,
 "nbformat_minor": 2
}
