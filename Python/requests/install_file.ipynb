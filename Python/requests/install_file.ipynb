{
 "cells": [
  {
   "cell_type": "code",
   "execution_count": 45,
   "metadata": {},
   "outputs": [],
   "source": [
    "import pandas as pd\n",
    "import requests\n",
    "from bs4 import BeautifulSoup"
   ]
  },
  {
   "cell_type": "code",
   "execution_count": 32,
   "metadata": {},
   "outputs": [],
   "source": [
    "data = pd.read_table('taxid10239.nbr', comment='#', header=None, names=[\"Representative\",\"Neighbor\",\"Host\",\"Selected lineage\",\"Taxonomy name\",\"Segment name\"])"
   ]
  },
  {
   "cell_type": "code",
   "execution_count": 33,
   "metadata": {},
   "outputs": [
    {
     "data": {
      "text/html": [
       "<div>\n",
       "<style scoped>\n",
       "    .dataframe tbody tr th:only-of-type {\n",
       "        vertical-align: middle;\n",
       "    }\n",
       "\n",
       "    .dataframe tbody tr th {\n",
       "        vertical-align: top;\n",
       "    }\n",
       "\n",
       "    .dataframe thead th {\n",
       "        text-align: right;\n",
       "    }\n",
       "</style>\n",
       "<table border=\"1\" class=\"dataframe\">\n",
       "  <thead>\n",
       "    <tr style=\"text-align: right;\">\n",
       "      <th></th>\n",
       "      <th>Representative</th>\n",
       "      <th>Neighbor</th>\n",
       "      <th>Host</th>\n",
       "      <th>Selected lineage</th>\n",
       "      <th>Taxonomy name</th>\n",
       "      <th>Segment name</th>\n",
       "    </tr>\n",
       "  </thead>\n",
       "  <tbody>\n",
       "    <tr>\n",
       "      <th>0</th>\n",
       "      <td>NC_003663</td>\n",
       "      <td>HQ420896</td>\n",
       "      <td>human,vertebrates</td>\n",
       "      <td>Poxviridae,Orthopoxvirus,Cowpox virus</td>\n",
       "      <td>Cowpox virus</td>\n",
       "      <td>segment</td>\n",
       "    </tr>\n",
       "    <tr>\n",
       "      <th>1</th>\n",
       "      <td>NC_003663</td>\n",
       "      <td>KY463519</td>\n",
       "      <td>human,vertebrates</td>\n",
       "      <td>Poxviridae,Orthopoxvirus,Cowpox virus</td>\n",
       "      <td>Cowpox virus</td>\n",
       "      <td>segment</td>\n",
       "    </tr>\n",
       "    <tr>\n",
       "      <th>2</th>\n",
       "      <td>NC_003663</td>\n",
       "      <td>HQ420897</td>\n",
       "      <td>human,vertebrates</td>\n",
       "      <td>Poxviridae,Orthopoxvirus,Cowpox virus</td>\n",
       "      <td>Cowpox virus</td>\n",
       "      <td>segment</td>\n",
       "    </tr>\n",
       "    <tr>\n",
       "      <th>3</th>\n",
       "      <td>NC_003663</td>\n",
       "      <td>MK035759</td>\n",
       "      <td>human,vertebrates</td>\n",
       "      <td>Poxviridae,Orthopoxvirus,Cowpox virus</td>\n",
       "      <td>Cowpox virus</td>\n",
       "      <td>segment</td>\n",
       "    </tr>\n",
       "    <tr>\n",
       "      <th>4</th>\n",
       "      <td>NC_003663</td>\n",
       "      <td>KY569019</td>\n",
       "      <td>human,vertebrates</td>\n",
       "      <td>Poxviridae,Orthopoxvirus,Cowpox virus</td>\n",
       "      <td>Cowpox virus</td>\n",
       "      <td>segment</td>\n",
       "    </tr>\n",
       "    <tr>\n",
       "      <th>...</th>\n",
       "      <td>...</td>\n",
       "      <td>...</td>\n",
       "      <td>...</td>\n",
       "      <td>...</td>\n",
       "      <td>...</td>\n",
       "      <td>...</td>\n",
       "    </tr>\n",
       "    <tr>\n",
       "      <th>260988</th>\n",
       "      <td>NC_054656</td>\n",
       "      <td>MH248947</td>\n",
       "      <td>bacteria</td>\n",
       "      <td>Yosifvirus,Yosifvirus yosif</td>\n",
       "      <td>Streptomyces phage Yosif</td>\n",
       "      <td>segment</td>\n",
       "    </tr>\n",
       "    <tr>\n",
       "      <th>260989</th>\n",
       "      <td>NC_053008</td>\n",
       "      <td>LC553736</td>\n",
       "      <td>bacteria</td>\n",
       "      <td>Casjensviridae,Zhonglingvirus,Zhonglingvirus S...</td>\n",
       "      <td>Salmonella phage SAP012</td>\n",
       "      <td>segment</td>\n",
       "    </tr>\n",
       "    <tr>\n",
       "      <th>260990</th>\n",
       "      <td>NC_053249</td>\n",
       "      <td>MK937611</td>\n",
       "      <td>bacteria</td>\n",
       "      <td>Zitchvirus,Zitchvirus verity</td>\n",
       "      <td>Gordonia phage Verity</td>\n",
       "      <td>segment</td>\n",
       "    </tr>\n",
       "    <tr>\n",
       "      <th>260991</th>\n",
       "      <td>NC_053248</td>\n",
       "      <td>MK937607</td>\n",
       "      <td>bacteria</td>\n",
       "      <td>Zitchvirus,Zitchvirus zipp</td>\n",
       "      <td>Gordonia phage Zipp</td>\n",
       "      <td>segment</td>\n",
       "    </tr>\n",
       "    <tr>\n",
       "      <th>260992</th>\n",
       "      <td>NC_053247</td>\n",
       "      <td>MT498036</td>\n",
       "      <td>bacteria</td>\n",
       "      <td>Zitchvirus,Zitchvirus zitch</td>\n",
       "      <td>Gordonia Phage Zitch</td>\n",
       "      <td>segment</td>\n",
       "    </tr>\n",
       "  </tbody>\n",
       "</table>\n",
       "<p>260993 rows × 6 columns</p>\n",
       "</div>"
      ],
      "text/plain": [
       "       Representative  Neighbor               Host  \\\n",
       "0           NC_003663  HQ420896  human,vertebrates   \n",
       "1           NC_003663  KY463519  human,vertebrates   \n",
       "2           NC_003663  HQ420897  human,vertebrates   \n",
       "3           NC_003663  MK035759  human,vertebrates   \n",
       "4           NC_003663  KY569019  human,vertebrates   \n",
       "...               ...       ...                ...   \n",
       "260988      NC_054656  MH248947           bacteria   \n",
       "260989      NC_053008  LC553736           bacteria   \n",
       "260990      NC_053249  MK937611           bacteria   \n",
       "260991      NC_053248  MK937607           bacteria   \n",
       "260992      NC_053247  MT498036           bacteria   \n",
       "\n",
       "                                         Selected lineage  \\\n",
       "0                   Poxviridae,Orthopoxvirus,Cowpox virus   \n",
       "1                   Poxviridae,Orthopoxvirus,Cowpox virus   \n",
       "2                   Poxviridae,Orthopoxvirus,Cowpox virus   \n",
       "3                   Poxviridae,Orthopoxvirus,Cowpox virus   \n",
       "4                   Poxviridae,Orthopoxvirus,Cowpox virus   \n",
       "...                                                   ...   \n",
       "260988                        Yosifvirus,Yosifvirus yosif   \n",
       "260989  Casjensviridae,Zhonglingvirus,Zhonglingvirus S...   \n",
       "260990                       Zitchvirus,Zitchvirus verity   \n",
       "260991                         Zitchvirus,Zitchvirus zipp   \n",
       "260992                        Zitchvirus,Zitchvirus zitch   \n",
       "\n",
       "                   Taxonomy name Segment name  \n",
       "0                   Cowpox virus    segment    \n",
       "1                   Cowpox virus    segment    \n",
       "2                   Cowpox virus    segment    \n",
       "3                   Cowpox virus    segment    \n",
       "4                   Cowpox virus    segment    \n",
       "...                          ...          ...  \n",
       "260988  Streptomyces phage Yosif    segment    \n",
       "260989   Salmonella phage SAP012    segment    \n",
       "260990     Gordonia phage Verity    segment    \n",
       "260991       Gordonia phage Zipp    segment    \n",
       "260992      Gordonia Phage Zitch    segment    \n",
       "\n",
       "[260993 rows x 6 columns]"
      ]
     },
     "execution_count": 33,
     "metadata": {},
     "output_type": "execute_result"
    }
   ],
   "source": [
    "data"
   ]
  },
  {
   "cell_type": "code",
   "execution_count": 37,
   "metadata": {},
   "outputs": [
    {
     "data": {
      "text/plain": [
       "260993"
      ]
     },
     "execution_count": 37,
     "metadata": {},
     "output_type": "execute_result"
    }
   ],
   "source": [
    "accession = list(data['Neighbor'])\n",
    "len(accession)"
   ]
  },
  {
   "cell_type": "code",
   "execution_count": 38,
   "metadata": {},
   "outputs": [
    {
     "name": "stdout",
     "output_type": "stream",
     "text": [
      "['HQ420896', 'KY463519', 'HQ420897', 'MK035759', 'KY569019', 'KY549145', 'MK035754', 'HQ407377', 'KY569020', 'LT993231']\n"
     ]
    }
   ],
   "source": [
    "train = accession[:10]\n",
    "print(train)"
   ]
  },
  {
   "cell_type": "code",
   "execution_count": 48,
   "metadata": {},
   "outputs": [],
   "source": [
    "url = 'https://eutils.ncbi.nlm.nih.gov/entrez/eutils/esearch.fcgi?db=nucleotide&api_key=0ecd1d1bd6252f4f90413bcabc163f58c009&term=KY549147'\n",
    "info = requests.get(url).text"
   ]
  },
  {
   "cell_type": "code",
   "execution_count": 50,
   "metadata": {},
   "outputs": [
    {
     "name": "stdout",
     "output_type": "stream",
     "text": [
      "<?xml version=\"1.0\" encoding=\"UTF-8\" ?>\n",
      "<!DOCTYPE eSearchResult PUBLIC \"-//NLM//DTD esearch 20060628//EN\" \"https://eutils.ncbi.nlm.nih.gov/eutils/dtd/20060628/esearch.dtd\">\n",
      "\n",
      "<esearchresult><count>1</count><retmax>1</retmax><retstart>0</retstart><idlist>\n",
      "<id>1193117600</id>\n",
      "</idlist><translationset></translationset><querytranslation></querytranslation></esearchresult>\n",
      "\n"
     ]
    }
   ],
   "source": [
    "soup = BeautifulSoup(info, 'html.parser')\n",
    "print(soup)"
   ]
  },
  {
   "cell_type": "code",
   "execution_count": 52,
   "metadata": {},
   "outputs": [
    {
     "data": {
      "text/plain": [
       "'1193117600'"
      ]
     },
     "execution_count": 52,
     "metadata": {},
     "output_type": "execute_result"
    }
   ],
   "source": [
    "soup.id.string"
   ]
  },
  {
   "cell_type": "code",
   "execution_count": null,
   "metadata": {},
   "outputs": [],
   "source": [
    "url = 'https://eutils.ncbi.nlm.nih.gov/entrez/eutils/efetch.fcgi?db=nucleotide&rettype=fasta&id=1193117600&api_key=0ecd1d1bd6252f4f90413bcabc163f58c009'\n",
    "fasta_info = requests.get(url).text\n",
    "term = 'KY549147'\n",
    "with open(\"/home/bio_kang/Learning/Python/requests/data/{}.fasta\".format(term), 'w') as f:\n",
    "    f.write(fasta_info)"
   ]
  },
  {
   "cell_type": "code",
   "execution_count": 66,
   "metadata": {},
   "outputs": [],
   "source": [
    "for term in train:\n",
    "    term_url = 'https://eutils.ncbi.nlm.nih.gov/entrez/eutils/esearch.fcgi?db=nucleotide&api_key=0ecd1d1bd6252f4f90413bcabc163f58c009&term=' + term\n",
    "    term_info = requests.get(term_url).text\n",
    "    term_soup = BeautifulSoup(term_info, 'html.parser')\n",
    "    fasta_url = 'https://eutils.ncbi.nlm.nih.gov/entrez/eutils/efetch.fcgi?db=nucleotide&rettype=fasta&id={}&api_key=0ecd1d1bd6252f4f90413bcabc163f58c009'.format(term_soup.id.string)\n",
    "    fasta_info = requests.get(fasta_url).text\n",
    "    with open(\"/home/bio_kang/Learning/Python/requests/data/{}.fasta\".format(term), 'w') as f:\n",
    "        f.write(fasta_info)"
   ]
  },
  {
   "cell_type": "code",
   "execution_count": 67,
   "metadata": {},
   "outputs": [
    {
     "name": "stdout",
     "output_type": "stream",
     "text": [
      "['HQ420896', 'KY463519', 'HQ420897', 'MK035759', 'KY569019', 'KY549145', 'MK035754', 'HQ407377', 'KY569020', 'LT993231']\n"
     ]
    }
   ],
   "source": [
    "print(train)"
   ]
  },
  {
   "cell_type": "code",
   "execution_count": null,
   "metadata": {},
   "outputs": [],
   "source": [
    "term_url = 'https://eutils.ncbi.nlm.nih.gov/entrez/eutils/esearch.fcgi?db=nucleotide&api_key=0ecd1d1bd6252f4f90413bcabc163f58c009&term=' + \",\".join(train)\n",
    "info = requests.get(term_url).text\n",
    "soup = BeautifulSoup(info, 'html.parser')\n",
    "for children in soup.idlist.children:\n",
    "    print(children)"
   ]
  },
  {
   "cell_type": "code",
   "execution_count": 100,
   "metadata": {},
   "outputs": [],
   "source": [
    "train = ['HQ420896', 'KY463519', 'HQ420897', 'MK035759', 'KY569019', 'KY549145', 'MK035754', 'HQ407377', 'KY569020', 'LT993231']\n",
    "term_url = 'https://eutils.ncbi.nlm.nih.gov/entrez/eutils/esearch.fcgi?db=nucleotide&api_key=0ecd1d1bd6252f4f90413bcabc163f58c009&term=' + \",\".join(train)\n",
    "info = requests.get(term_url).text\n",
    "soup = BeautifulSoup(info, 'html.parser')\n",
    "\n",
    "x = []\n",
    "for i in soup.find_all('id'):\n",
    "    x.append(i.text)"
   ]
  },
  {
   "cell_type": "code",
   "execution_count": 105,
   "metadata": {},
   "outputs": [],
   "source": [
    "fasta_url = 'https://eutils.ncbi.nlm.nih.gov/entrez/eutils/efetch.fcgi?db=nucleotide&rettype=fasta&id={}&api_key=0ecd1d1bd6252f4f90413bcabc163f58c009'.format(','.join(x))\n",
    "fasta_info = requests.get(fasta_url).text\n",
    "with open(\"/home/bio_kang/Learning/Python/requests/train.fasta\", 'w') as f:\n",
    "    f.write(fasta_info)"
   ]
  },
  {
   "cell_type": "code",
   "execution_count": 106,
   "metadata": {},
   "outputs": [
    {
     "name": "stdout",
     "output_type": "stream",
     "text": [
      "https://eutils.ncbi.nlm.nih.gov/entrez/eutils/efetch.fcgi?db=nucleotide&rettype=fasta&id=325558381,1169132791,325558595,1551911778,1243284019,1193117288,1551910835,325514012,1243284243,1375958567&api_key=0ecd1d1bd6252f4f90413bcabc163f58c009\n"
     ]
    }
   ],
   "source": [
    "print(fasta_url)"
   ]
  },
  {
   "cell_type": "code",
   "execution_count": 115,
   "metadata": {},
   "outputs": [],
   "source": [
    "again = accession[:20]\n",
    "term_url = 'https://eutils.ncbi.nlm.nih.gov/entrez/eutils/esearch.fcgi?db=nucleotide&api_key=0ecd1d1bd6252f4f90413bcabc163f58c009&term=' + \",\".join(again)\n",
    "info = requests.get(term_url).text\n",
    "soup = BeautifulSoup(info, 'html.parser')\n",
    "\n",
    "x = []\n",
    "for i in soup.find_all('id'):\n",
    "    x.append(i.text)\n",
    "\n",
    "fasta_url = 'https://eutils.ncbi.nlm.nih.gov/entrez/eutils/efetch.fcgi?db=nucleotide&rettype=fasta&id={}&api_key=0ecd1d1bd6252f4f90413bcabc163f58c009'.format(','.join(x))\n",
    "fasta_info = requests.get(fasta_url).text\n",
    "with open(\"/home/bio_kang/Learning/Python/requests/train.fasta\", 'w') as f:\n",
    "    f.write(fasta_info)"
   ]
  },
  {
   "cell_type": "markdown",
   "metadata": {},
   "source": [
    "function format"
   ]
  },
  {
   "cell_type": "code",
   "execution_count": null,
   "metadata": {},
   "outputs": [],
   "source": [
    "# Complete code\n",
    "\n",
    "import pandas as pd\n",
    "from bs4 import BeautifulSoup\n",
    "import requests\n",
    "import re\n",
    "\n",
    "\n",
    "# the function is designed to get fasta format information\n",
    "def get_url_info(segment):\n",
    "\n",
    "    # Using requests function get the id from term\n",
    "    term_url = 'https://eutils.ncbi.nlm.nih.gov/entrez/eutils/esearch.fcgi?db=nucleotide&api_key=f7aed0f55f83d46ff0249e3e1830661bef08&term=' + \",\".join(segment)\n",
    "    term_info = requests.get(term_url).text\n",
    "    soup = BeautifulSoup(term_info, 'html.parser')\n",
    "\n",
    "    # get id\n",
    "    accession_id = [k.text for k in soup.find_all('id')]\n",
    "\n",
    "    # get sequencing information from id\n",
    "    fasta_url = 'https://eutils.ncbi.nlm.nih.gov/entrez/eutils/efetch.fcgi?db=nucleotide&rettype=fasta&id={}&api_key=f7aed0f55f83d46ff0249e3e1830661bef08'.format(','.join(accession_id))\n",
    "    fasta_info = requests.get(fasta_url).text\n",
    "    return fasta_info\n",
    "\n",
    "\n",
    "# this function is designed to write files\n",
    "def write_file(fasta_info,name_num):\n",
    "    with open(\"/home/bio_kang/Learning/Python/requests/data/sequence_{}.fasta\".format(name_num), 'w') as f:\n",
    "        f.write(fasta_info)\n",
    "\n",
    "\n",
    "# read information from taxid10239.nbr file\n",
    "data = pd.read_table('taxid10239.nbr', comment='#', header=None, names=[\"Representative\",\"Neighbor\",\"Host\",\"Selected lineage\",\"Taxonomy name\",\"Segment name\"])\n",
    "\n",
    "# extract 'Neighbor' information\n",
    "accession = list(data['Neighbor']) \n",
    "\n",
    "undownloaded_term = []\n",
    "\n",
    "for i in range(1,13051):\n",
    "    segment = accession[(i-1)*20:i*20]\n",
    "    try:\n",
    "        fasta_info = get_url_info(segment)\n",
    "        write_file(fasta_info, i)\n",
    "    except:\n",
    "        pattern = re.compile(r'[A-Z]{1,2}\\d{5,6}')\n",
    "        undownloaded_term = undownloaded_term + re.findall(pattern, fasta_info)"
   ]
  },
  {
   "cell_type": "code",
   "execution_count": 43,
   "metadata": {},
   "outputs": [],
   "source": [
    "# regular expression\n",
    "import re\n",
    "\n",
    "train_seg = accession[20:40]\n",
    "train_info = get_url_info(train_seg)\n"
   ]
  },
  {
   "cell_type": "code",
   "execution_count": 52,
   "metadata": {},
   "outputs": [],
   "source": [
    "pattern = re.compile(r'[A-Z]{1,2}\\d{5,6}')\n",
    "train_list = re.findall( pattern, train_info)\n"
   ]
  },
  {
   "cell_type": "code",
   "execution_count": 53,
   "metadata": {},
   "outputs": [],
   "source": [
    "list = re.findall(pattern, get_url_info(accession[0:20]))\n"
   ]
  },
  {
   "cell_type": "code",
   "execution_count": 55,
   "metadata": {},
   "outputs": [
    {
     "name": "stdout",
     "output_type": "stream",
     "text": [
      "['LT896732', 'HQ420898', 'LT896730', 'LT896725', 'KY369926', 'KC813498', 'MK035756', 'MK035750', 'HQ420895', 'KC813505', 'LT993228', 'KY549151', 'LT896719', 'LT896723', 'LT896721', 'LT896726', 'KY569018', 'KC813510', 'KC813491', 'KY549144', ['HQ420896', 'KY463519', 'HQ420897', 'MK035759', 'KY569019', 'KY549145', 'MK035754', 'HQ407377', 'KY569020', 'LT993231', 'KC813493', 'MK035751', 'KY549147', 'LT883663', 'HQ420894', 'HQ420900', 'KC813502', 'LN864566', 'KC813503', 'LT896724'], 'HQ420896', 'KY463519', 'HQ420897', 'MK035759', 'KY569019', 'KY549145', 'MK035754', 'HQ407377', 'KY569020', 'LT993231', 'KC813493', 'MK035751', 'KY549147', 'LT883663', 'HQ420894', 'HQ420900', 'KC813502', 'LN864566', 'KC813503', 'LT896724']\n"
     ]
    }
   ],
   "source": [
    "print(train_list + list)"
   ]
  },
  {
   "cell_type": "code",
   "execution_count": null,
   "metadata": {},
   "outputs": [],
   "source": []
  },
  {
   "cell_type": "code",
   "execution_count": null,
   "metadata": {},
   "outputs": [],
   "source": [
    "# Complete code\n",
    "\n",
    "import pandas as pd\n",
    "from bs4 import BeautifulSoup\n",
    "import requests\n",
    "\n",
    "data = pd.read_table('/home/bio_kang/Learning/Python/requests/taxid10239.nbr', comment='#', header=None, names=[\"Representative\",\"Neighbor\",\"Host\",\"Selected lineage\",\"Taxonomy name\",\"Segment name\"]) # get information\n",
    "\n",
    "accession = list(data['Neighbor']) # extract 'Neighbor' information\n",
    "\n",
    "# Becauce the RetMax is 20, I slices their length with 20 and the last length is 13\n",
    "for i in range(13050):\n",
    "    segment = accession[i*20:(i+1)*20]\n",
    "\n",
    "    # Using requests function get the id of term\n",
    "    term_url = 'https://eutils.ncbi.nlm.nih.gov/entrez/eutils/esearch.fcgi?db=nucleotide&api_key=f7aed0f55f83d46ff0249e3e1830661bef08&term=' + \",\".join(segment)\n",
    "    term_info = requests.get(term_url).text\n",
    "    soup = BeautifulSoup(term_info, 'html.parser')\n",
    "\n",
    "    accession_id = [k.text for k in soup.find_all('id')] # get id\n",
    "\n",
    "    # get sequencing information from id\n",
    "    fasta_url = 'https://eutils.ncbi.nlm.nih.gov/entrez/eutils/efetch.fcgi?db=nucleotide&rettype=fasta&id={}&api_key=f7aed0f55f83d46ff0249e3e1830661bef08'.format(','.join(accession_id))\n",
    "    fasta_info = requests.get(fasta_url).text\n",
    "\n",
    "    # get fasta file\n",
    "    with open(\"/home/bio_kang/Learning/Python/requests/data/sequence_{}.fasta\".format(i), 'w') as f:\n",
    "        f.write(fasta_info)\n"
   ]
  },
  {
   "cell_type": "code",
   "execution_count": null,
   "metadata": {},
   "outputs": [],
   "source": []
  }
 ],
 "metadata": {
  "kernelspec": {
   "display_name": "Python 3.8.8 ('base': conda)",
   "language": "python",
   "name": "python3"
  },
  "language_info": {
   "codemirror_mode": {
    "name": "ipython",
    "version": 3
   },
   "file_extension": ".py",
   "mimetype": "text/x-python",
   "name": "python",
   "nbconvert_exporter": "python",
   "pygments_lexer": "ipython3",
   "version": "3.8.8"
  },
  "orig_nbformat": 4,
  "vscode": {
   "interpreter": {
    "hash": "e4c0b1c8e35d9f80793da27c1f09cec2906743a08f4271636815a29bc833a021"
   }
  }
 },
 "nbformat": 4,
 "nbformat_minor": 2
}
