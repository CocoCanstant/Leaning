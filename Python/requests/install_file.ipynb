{
 "cells": [
  {
   "cell_type": "code",
   "execution_count": 1,
   "metadata": {},
   "outputs": [],
   "source": [
    "import pandas as pd"
   ]
  },
  {
   "cell_type": "code",
   "execution_count": 2,
   "metadata": {},
   "outputs": [
    {
     "name": "stderr",
     "output_type": "stream",
     "text": [
      "/home/bio_kang/software/anaconda3/lib/python3.8/site-packages/IPython/core/interactiveshell.py:3165: DtypeWarning: Columns (6) have mixed types.Specify dtype option on import or set low_memory=False.\n",
      "  has_raised = await self.run_ast_nodes(code_ast.body, cell_name,\n"
     ]
    }
   ],
   "source": [
    "data = pd.read_table('taxid10239.nbr')"
   ]
  },
  {
   "cell_type": "code",
   "execution_count": 3,
   "metadata": {},
   "outputs": [
    {
     "name": "stdout",
     "output_type": "stream",
     "text": [
      "                                                                                                                                       ## Neighbors data for complete genomes: Viruses (taxid 10239)\n",
      "## Columns: Representative Neighbor          Host                                               Selected lineage         Taxonomy name                                       Segment name           \n",
      "NC_003663   HQ420896       human,vertebrates Poxviridae,Orthopoxvirus,Cowpox virus              Cowpox virus             segment                                                      NaN           \n",
      "            KY463519       human,vertebrates Poxviridae,Orthopoxvirus,Cowpox virus              Cowpox virus             segment                                                      NaN           \n",
      "            HQ420897       human,vertebrates Poxviridae,Orthopoxvirus,Cowpox virus              Cowpox virus             segment                                                      NaN           \n",
      "            MK035759       human,vertebrates Poxviridae,Orthopoxvirus,Cowpox virus              Cowpox virus             segment                                                      NaN           \n",
      "...                                                                                                                                                                                   ...           \n",
      "NC_054656   MH248947       bacteria          Yosifvirus,Yosifvirus yosif                        Streptomyces phage Yosif segment                                                      NaN           \n",
      "NC_053008   LC553736       bacteria          Casjensviridae,Zhonglingvirus,Zhonglingvirus SA... Salmonella phage SAP012  segment                                                      NaN           \n",
      "NC_053249   MK937611       bacteria          Zitchvirus,Zitchvirus verity                       Gordonia phage Verity    segment                                                      NaN           \n",
      "NC_053248   MK937607       bacteria          Zitchvirus,Zitchvirus zipp                         Gordonia phage Zipp      segment                                                      NaN           \n",
      "NC_053247   MT498036       bacteria          Zitchvirus,Zitchvirus zitch                        Gordonia Phage Zitch     segment                                                      NaN           \n",
      "\n",
      "[260994 rows x 1 columns]\n"
     ]
    }
   ],
   "source": [
    "print(data)"
   ]
  },
  {
   "cell_type": "code",
   "execution_count": null,
   "metadata": {},
   "outputs": [],
   "source": []
  }
 ],
 "metadata": {
  "kernelspec": {
   "display_name": "Python 3.8.8 ('base': conda)",
   "language": "python",
   "name": "python3"
  },
  "language_info": {
   "codemirror_mode": {
    "name": "ipython",
    "version": 3
   },
   "file_extension": ".py",
   "mimetype": "text/x-python",
   "name": "python",
   "nbconvert_exporter": "python",
   "pygments_lexer": "ipython3",
   "version": "3.8.8"
  },
  "orig_nbformat": 4,
  "vscode": {
   "interpreter": {
    "hash": "e4c0b1c8e35d9f80793da27c1f09cec2906743a08f4271636815a29bc833a021"
   }
  }
 },
 "nbformat": 4,
 "nbformat_minor": 2
}
