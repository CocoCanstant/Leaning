{
 "cells": [
  {
   "cell_type": "code",
   "execution_count": 4,
   "metadata": {},
   "outputs": [
    {
     "data": {
      "text/plain": [
       "200"
      ]
     },
     "execution_count": 4,
     "metadata": {},
     "output_type": "execute_result"
    }
   ],
   "source": [
    "import requests\n",
    "path = '/home/bio_kang/data/aurora.jpg'\n",
    "url = 'https://img.zcool.cn/community/01a8a85d024b9ba801213ec2caf526.jpg@1280w_1l_2o_100sh.jpg'\n",
    "r = requests.get(url)\n",
    "r.status_code"
   ]
  },
  {
   "cell_type": "code",
   "execution_count": 7,
   "metadata": {},
   "outputs": [],
   "source": [
    "with open(path, 'wb') as f:\n",
    "    f.write(r.content)\n",
    "f.close()"
   ]
  },
  {
   "cell_type": "code",
   "execution_count": 19,
   "metadata": {},
   "outputs": [
    {
     "name": "stdout",
     "output_type": "stream",
     "text": [
      "<html>\n",
      " <head>\n",
      "  <title>\n",
      "   This is a python demo page\n",
      "  </title>\n",
      " </head>\n",
      " <body>\n",
      "  <p class=\"title\">\n",
      "   <b>\n",
      "    The demo python introduces several python courses.\n",
      "   </b>\n",
      "  </p>\n",
      "  <p class=\"course\">\n",
      "   Python is a wonderful general-purpose programming language. You can learn Python from novice to professional by tracking the following courses:\n",
      "   <a class=\"py1\" href=\"http://www.icourse163.org/course/BIT-268001\" id=\"link1\">\n",
      "    Basic Python\n",
      "   </a>\n",
      "   and\n",
      "   <a class=\"py2\" href=\"http://www.icourse163.org/course/BIT-1001870001\" id=\"link2\">\n",
      "    Advanced Python\n",
      "   </a>\n",
      "   .\n",
      "  </p>\n",
      " </body>\n",
      "</html>\n"
     ]
    }
   ],
   "source": [
    "from bs4 import BeautifulSoup\n",
    "\n",
    "url = 'http://python123.io/ws/demo.html'\n",
    "\n",
    "r = requests.get(url)\n",
    "demo = r.text\n",
    "\n",
    "soup = BeautifulSoup(demo, 'html.parser')\n",
    "print(soup.prettify())"
   ]
  },
  {
   "cell_type": "code",
   "execution_count": 20,
   "metadata": {},
   "outputs": [
    {
     "name": "stdout",
     "output_type": "stream",
     "text": [
      "<title>This is a python demo page</title>\n"
     ]
    }
   ],
   "source": [
    "url = 'http://python123.io/ws/demo.html'\n",
    "\n",
    "r = requests.get(url)\n",
    "demo = r.text\n",
    "\n",
    "soup = BeautifulSoup(demo, 'html.parser')\n",
    "print(soup.title)"
   ]
  },
  {
   "cell_type": "code",
   "execution_count": 22,
   "metadata": {},
   "outputs": [
    {
     "name": "stdout",
     "output_type": "stream",
     "text": [
      "<a class=\"py1\" href=\"http://www.icourse163.org/course/BIT-268001\" id=\"link1\">Basic Python</a>\n"
     ]
    }
   ],
   "source": [
    "tag = soup.a\n",
    "print(tag)"
   ]
  },
  {
   "cell_type": "code",
   "execution_count": 23,
   "metadata": {},
   "outputs": [
    {
     "name": "stdout",
     "output_type": "stream",
     "text": [
      "a\n"
     ]
    }
   ],
   "source": [
    "soup = BeautifulSoup(demo, 'html.parser')\n",
    "print(soup.a.name)"
   ]
  },
  {
   "cell_type": "code",
   "execution_count": 24,
   "metadata": {},
   "outputs": [
    {
     "data": {
      "text/plain": [
       "'p'"
      ]
     },
     "execution_count": 24,
     "metadata": {},
     "output_type": "execute_result"
    }
   ],
   "source": [
    "soup.a.parent.name"
   ]
  },
  {
   "cell_type": "code",
   "execution_count": 25,
   "metadata": {},
   "outputs": [
    {
     "data": {
      "text/plain": [
       "'body'"
      ]
     },
     "execution_count": 25,
     "metadata": {},
     "output_type": "execute_result"
    }
   ],
   "source": [
    "soup.a.parent.parent.name"
   ]
  },
  {
   "cell_type": "code",
   "execution_count": 29,
   "metadata": {},
   "outputs": [
    {
     "data": {
      "text/plain": [
       "{'href': 'http://www.icourse163.org/course/BIT-268001',\n",
       " 'class': ['py1'],\n",
       " 'id': 'link1'}"
      ]
     },
     "execution_count": 29,
     "metadata": {},
     "output_type": "execute_result"
    }
   ],
   "source": [
    "tag = soup.a\n",
    "tag.attrs"
   ]
  },
  {
   "cell_type": "code",
   "execution_count": 28,
   "metadata": {},
   "outputs": [
    {
     "data": {
      "text/plain": [
       "'http://www.icourse163.org/course/BIT-268001'"
      ]
     },
     "execution_count": 28,
     "metadata": {},
     "output_type": "execute_result"
    }
   ],
   "source": [
    "tag.attrs['href']"
   ]
  },
  {
   "cell_type": "code",
   "execution_count": 30,
   "metadata": {},
   "outputs": [
    {
     "data": {
      "text/plain": [
       "bs4.element.Tag"
      ]
     },
     "execution_count": 30,
     "metadata": {},
     "output_type": "execute_result"
    }
   ],
   "source": [
    "type(tag)"
   ]
  },
  {
   "cell_type": "code",
   "execution_count": 34,
   "metadata": {},
   "outputs": [
    {
     "data": {
      "text/plain": [
       "'Basic Python'"
      ]
     },
     "execution_count": 34,
     "metadata": {},
     "output_type": "execute_result"
    }
   ],
   "source": [
    "soup.a\n",
    "soup.a.string"
   ]
  },
  {
   "cell_type": "code",
   "execution_count": 35,
   "metadata": {},
   "outputs": [
    {
     "data": {
      "text/plain": [
       "<p class=\"title\"><b>The demo python introduces several python courses.</b></p>"
      ]
     },
     "execution_count": 35,
     "metadata": {},
     "output_type": "execute_result"
    }
   ],
   "source": [
    "soup.p"
   ]
  },
  {
   "cell_type": "code",
   "execution_count": 36,
   "metadata": {},
   "outputs": [
    {
     "data": {
      "text/plain": [
       "'The demo python introduces several python courses.'"
      ]
     },
     "execution_count": 36,
     "metadata": {},
     "output_type": "execute_result"
    }
   ],
   "source": [
    "soup.p.string"
   ]
  },
  {
   "cell_type": "code",
   "execution_count": 37,
   "metadata": {},
   "outputs": [
    {
     "data": {
      "text/plain": [
       "bs4.element.NavigableString"
      ]
     },
     "execution_count": 37,
     "metadata": {},
     "output_type": "execute_result"
    }
   ],
   "source": [
    "type(soup.p.string)"
   ]
  },
  {
   "cell_type": "code",
   "execution_count": 38,
   "metadata": {},
   "outputs": [],
   "source": [
    "new_soup = BeautifulSoup('<b><!--This is a comment--></b><p>This is not a comment</p>', 'html.parser')"
   ]
  },
  {
   "cell_type": "code",
   "execution_count": 39,
   "metadata": {},
   "outputs": [
    {
     "data": {
      "text/plain": [
       "'This is a comment'"
      ]
     },
     "execution_count": 39,
     "metadata": {},
     "output_type": "execute_result"
    }
   ],
   "source": [
    "new_soup.b.string"
   ]
  },
  {
   "cell_type": "code",
   "execution_count": 40,
   "metadata": {},
   "outputs": [
    {
     "data": {
      "text/plain": [
       "'This is not a comment'"
      ]
     },
     "execution_count": 40,
     "metadata": {},
     "output_type": "execute_result"
    }
   ],
   "source": [
    "new_soup.p.string"
   ]
  },
  {
   "cell_type": "code",
   "execution_count": 41,
   "metadata": {},
   "outputs": [
    {
     "data": {
      "text/plain": [
       "'<html><head><title>This is a python demo page</title></head>\\r\\n<body>\\r\\n<p class=\"title\"><b>The demo python introduces several python courses.</b></p>\\r\\n<p class=\"course\">Python is a wonderful general-purpose programming language. You can learn Python from novice to professional by tracking the following courses:\\r\\n<a href=\"http://www.icourse163.org/course/BIT-268001\" class=\"py1\" id=\"link1\">Basic Python</a> and <a href=\"http://www.icourse163.org/course/BIT-1001870001\" class=\"py2\" id=\"link2\">Advanced Python</a>.</p>\\r\\n</body></html>'"
      ]
     },
     "execution_count": 41,
     "metadata": {},
     "output_type": "execute_result"
    }
   ],
   "source": [
    "demo"
   ]
  },
  {
   "cell_type": "code",
   "execution_count": 42,
   "metadata": {},
   "outputs": [
    {
     "data": {
      "text/plain": [
       "<head><title>This is a python demo page</title></head>"
      ]
     },
     "execution_count": 42,
     "metadata": {},
     "output_type": "execute_result"
    }
   ],
   "source": [
    "soup = BeautifulSoup(demo, 'html.parser')\n",
    "soup.head"
   ]
  },
  {
   "cell_type": "code",
   "execution_count": 43,
   "metadata": {},
   "outputs": [
    {
     "data": {
      "text/plain": [
       "[<title>This is a python demo page</title>]"
      ]
     },
     "execution_count": 43,
     "metadata": {},
     "output_type": "execute_result"
    }
   ],
   "source": [
    "soup.head.contents"
   ]
  },
  {
   "cell_type": "code",
   "execution_count": 44,
   "metadata": {},
   "outputs": [
    {
     "data": {
      "text/plain": [
       "[<title>This is a python demo page</title>]"
      ]
     },
     "execution_count": 44,
     "metadata": {},
     "output_type": "execute_result"
    }
   ],
   "source": [
    "soup.head.contents"
   ]
  },
  {
   "cell_type": "code",
   "execution_count": 45,
   "metadata": {},
   "outputs": [
    {
     "data": {
      "text/plain": [
       "['\\n',\n",
       " <p class=\"title\"><b>The demo python introduces several python courses.</b></p>,\n",
       " '\\n',\n",
       " <p class=\"course\">Python is a wonderful general-purpose programming language. You can learn Python from novice to professional by tracking the following courses:\n",
       " <a class=\"py1\" href=\"http://www.icourse163.org/course/BIT-268001\" id=\"link1\">Basic Python</a> and <a class=\"py2\" href=\"http://www.icourse163.org/course/BIT-1001870001\" id=\"link2\">Advanced Python</a>.</p>,\n",
       " '\\n']"
      ]
     },
     "execution_count": 45,
     "metadata": {},
     "output_type": "execute_result"
    }
   ],
   "source": [
    "soup.body.contents"
   ]
  },
  {
   "cell_type": "code",
   "execution_count": 46,
   "metadata": {},
   "outputs": [
    {
     "data": {
      "text/plain": [
       "5"
      ]
     },
     "execution_count": 46,
     "metadata": {},
     "output_type": "execute_result"
    }
   ],
   "source": [
    "len(soup.body.contents)"
   ]
  },
  {
   "cell_type": "code",
   "execution_count": 47,
   "metadata": {},
   "outputs": [
    {
     "data": {
      "text/plain": [
       "<p class=\"title\"><b>The demo python introduces several python courses.</b></p>"
      ]
     },
     "execution_count": 47,
     "metadata": {},
     "output_type": "execute_result"
    }
   ],
   "source": [
    "soup.body.contents[1]"
   ]
  },
  {
   "cell_type": "code",
   "execution_count": 49,
   "metadata": {},
   "outputs": [
    {
     "name": "stdout",
     "output_type": "stream",
     "text": [
      "\n",
      "\n",
      "<p class=\"title\"><b>The demo python introduces several python courses.</b></p>\n",
      "<b>The demo python introduces several python courses.</b>\n",
      "The demo python introduces several python courses.\n",
      "\n",
      "\n",
      "<p class=\"course\">Python is a wonderful general-purpose programming language. You can learn Python from novice to professional by tracking the following courses:\n",
      "<a class=\"py1\" href=\"http://www.icourse163.org/course/BIT-268001\" id=\"link1\">Basic Python</a> and <a class=\"py2\" href=\"http://www.icourse163.org/course/BIT-1001870001\" id=\"link2\">Advanced Python</a>.</p>\n",
      "Python is a wonderful general-purpose programming language. You can learn Python from novice to professional by tracking the following courses:\n",
      "\n",
      "<a class=\"py1\" href=\"http://www.icourse163.org/course/BIT-268001\" id=\"link1\">Basic Python</a>\n",
      "Basic Python\n",
      " and \n",
      "<a class=\"py2\" href=\"http://www.icourse163.org/course/BIT-1001870001\" id=\"link2\">Advanced Python</a>\n",
      "Advanced Python\n",
      ".\n",
      "\n",
      "\n"
     ]
    }
   ],
   "source": [
    "\n",
    "for child in soup.body.descendants:\n",
    "    print(child)"
   ]
  },
  {
   "cell_type": "code",
   "execution_count": 50,
   "metadata": {},
   "outputs": [
    {
     "data": {
      "text/plain": [
       "<head><title>This is a python demo page</title></head>"
      ]
     },
     "execution_count": 50,
     "metadata": {},
     "output_type": "execute_result"
    }
   ],
   "source": [
    "soup.title.parent"
   ]
  },
  {
   "cell_type": "code",
   "execution_count": 51,
   "metadata": {},
   "outputs": [
    {
     "data": {
      "text/plain": [
       "<html><head><title>This is a python demo page</title></head>\n",
       "<body>\n",
       "<p class=\"title\"><b>The demo python introduces several python courses.</b></p>\n",
       "<p class=\"course\">Python is a wonderful general-purpose programming language. You can learn Python from novice to professional by tracking the following courses:\n",
       "<a class=\"py1\" href=\"http://www.icourse163.org/course/BIT-268001\" id=\"link1\">Basic Python</a> and <a class=\"py2\" href=\"http://www.icourse163.org/course/BIT-1001870001\" id=\"link2\">Advanced Python</a>.</p>\n",
       "</body></html>"
      ]
     },
     "execution_count": 51,
     "metadata": {},
     "output_type": "execute_result"
    }
   ],
   "source": [
    "soup.html.parent"
   ]
  },
  {
   "cell_type": "code",
   "execution_count": 52,
   "metadata": {},
   "outputs": [],
   "source": [
    "soup.parent"
   ]
  },
  {
   "cell_type": "code",
   "execution_count": 53,
   "metadata": {},
   "outputs": [
    {
     "name": "stdout",
     "output_type": "stream",
     "text": [
      "p\n",
      "body\n",
      "html\n",
      "[document]\n"
     ]
    }
   ],
   "source": [
    "for parent in soup.a.parents:\n",
    "    if parent is None:\n",
    "        print(parent)\n",
    "    else:\n",
    "        print(parent.name)"
   ]
  },
  {
   "cell_type": "code",
   "execution_count": 55,
   "metadata": {},
   "outputs": [
    {
     "name": "stdout",
     "output_type": "stream",
     "text": [
      "<generator object PageElement.parents at 0x7f26769e3270>\n"
     ]
    }
   ],
   "source": [
    "a = soup.a.parents\n",
    "print(a)"
   ]
  },
  {
   "cell_type": "code",
   "execution_count": 56,
   "metadata": {},
   "outputs": [
    {
     "data": {
      "text/plain": [
       "' and '"
      ]
     },
     "execution_count": 56,
     "metadata": {},
     "output_type": "execute_result"
    }
   ],
   "source": [
    "soup = BeautifulSoup(demo, 'html.parser')\n",
    "soup.a.next_sibling"
   ]
  },
  {
   "cell_type": "code",
   "execution_count": 57,
   "metadata": {},
   "outputs": [
    {
     "data": {
      "text/plain": [
       "<a class=\"py2\" href=\"http://www.icourse163.org/course/BIT-1001870001\" id=\"link2\">Advanced Python</a>"
      ]
     },
     "execution_count": 57,
     "metadata": {},
     "output_type": "execute_result"
    }
   ],
   "source": [
    "soup.a.next_sibling.next_sibling"
   ]
  },
  {
   "cell_type": "code",
   "execution_count": 58,
   "metadata": {},
   "outputs": [
    {
     "data": {
      "text/plain": [
       "'Python is a wonderful general-purpose programming language. You can learn Python from novice to professional by tracking the following courses:\\r\\n'"
      ]
     },
     "execution_count": 58,
     "metadata": {},
     "output_type": "execute_result"
    }
   ],
   "source": [
    "soup.a.previous_sibling"
   ]
  },
  {
   "cell_type": "code",
   "execution_count": 59,
   "metadata": {},
   "outputs": [],
   "source": [
    "soup.a.previous_sibling.previous_sibling"
   ]
  },
  {
   "cell_type": "code",
   "execution_count": 60,
   "metadata": {},
   "outputs": [
    {
     "data": {
      "text/plain": [
       "<p class=\"course\">Python is a wonderful general-purpose programming language. You can learn Python from novice to professional by tracking the following courses:\n",
       "<a class=\"py1\" href=\"http://www.icourse163.org/course/BIT-268001\" id=\"link1\">Basic Python</a> and <a class=\"py2\" href=\"http://www.icourse163.org/course/BIT-1001870001\" id=\"link2\">Advanced Python</a>.</p>"
      ]
     },
     "execution_count": 60,
     "metadata": {},
     "output_type": "execute_result"
    }
   ],
   "source": [
    "soup.a.parent"
   ]
  },
  {
   "cell_type": "code",
   "execution_count": 61,
   "metadata": {},
   "outputs": [
    {
     "data": {
      "text/plain": [
       "'<html>\\n <head>\\n  <title>\\n   This is a python demo page\\n  </title>\\n </head>\\n <body>\\n  <p class=\"title\">\\n   <b>\\n    The demo python introduces several python courses.\\n   </b>\\n  </p>\\n  <p class=\"course\">\\n   Python is a wonderful general-purpose programming language. You can learn Python from novice to professional by tracking the following courses:\\n   <a class=\"py1\" href=\"http://www.icourse163.org/course/BIT-268001\" id=\"link1\">\\n    Basic Python\\n   </a>\\n   and\\n   <a class=\"py2\" href=\"http://www.icourse163.org/course/BIT-1001870001\" id=\"link2\">\\n    Advanced Python\\n   </a>\\n   .\\n  </p>\\n </body>\\n</html>'"
      ]
     },
     "execution_count": 61,
     "metadata": {},
     "output_type": "execute_result"
    }
   ],
   "source": [
    "soup = BeautifulSoup(demo, 'html.parser')\n",
    "soup.prettify()"
   ]
  },
  {
   "cell_type": "code",
   "execution_count": 62,
   "metadata": {},
   "outputs": [
    {
     "name": "stdout",
     "output_type": "stream",
     "text": [
      "<html>\n",
      " <head>\n",
      "  <title>\n",
      "   This is a python demo page\n",
      "  </title>\n",
      " </head>\n",
      " <body>\n",
      "  <p class=\"title\">\n",
      "   <b>\n",
      "    The demo python introduces several python courses.\n",
      "   </b>\n",
      "  </p>\n",
      "  <p class=\"course\">\n",
      "   Python is a wonderful general-purpose programming language. You can learn Python from novice to professional by tracking the following courses:\n",
      "   <a class=\"py1\" href=\"http://www.icourse163.org/course/BIT-268001\" id=\"link1\">\n",
      "    Basic Python\n",
      "   </a>\n",
      "   and\n",
      "   <a class=\"py2\" href=\"http://www.icourse163.org/course/BIT-1001870001\" id=\"link2\">\n",
      "    Advanced Python\n",
      "   </a>\n",
      "   .\n",
      "  </p>\n",
      " </body>\n",
      "</html>\n"
     ]
    }
   ],
   "source": [
    "print(soup.prettify())"
   ]
  },
  {
   "cell_type": "code",
   "execution_count": 63,
   "metadata": {},
   "outputs": [
    {
     "name": "stdout",
     "output_type": "stream",
     "text": [
      "<a class=\"py1\" href=\"http://www.icourse163.org/course/BIT-268001\" id=\"link1\">\n",
      " Basic Python\n",
      "</a>\n",
      "\n"
     ]
    }
   ],
   "source": [
    "print(soup.a.prettify())"
   ]
  },
  {
   "cell_type": "code",
   "execution_count": 65,
   "metadata": {},
   "outputs": [
    {
     "name": "stdout",
     "output_type": "stream",
     "text": [
      "<p class=\"title\">\n",
      " <b>\n",
      "  The demo python introduces several python courses.\n",
      " </b>\n",
      "</p>\n",
      "\n"
     ]
    }
   ],
   "source": [
    "print(soup.p.prettify())"
   ]
  },
  {
   "cell_type": "code",
   "execution_count": 67,
   "metadata": {},
   "outputs": [
    {
     "name": "stdout",
     "output_type": "stream",
     "text": [
      "http://www.icourse163.org/course/BIT-268001\n",
      "http://www.icourse163.org/course/BIT-1001870001\n"
     ]
    }
   ],
   "source": [
    "for link in soup.find_all('a'):\n",
    "    print(link.get('href'))"
   ]
  },
  {
   "cell_type": "code",
   "execution_count": 68,
   "metadata": {},
   "outputs": [
    {
     "data": {
      "text/plain": [
       "[<a class=\"py1\" href=\"http://www.icourse163.org/course/BIT-268001\" id=\"link1\">Basic Python</a>,\n",
       " <a class=\"py2\" href=\"http://www.icourse163.org/course/BIT-1001870001\" id=\"link2\">Advanced Python</a>]"
      ]
     },
     "execution_count": 68,
     "metadata": {},
     "output_type": "execute_result"
    }
   ],
   "source": [
    "soup.find_all('a')"
   ]
  },
  {
   "cell_type": "code",
   "execution_count": 69,
   "metadata": {},
   "outputs": [
    {
     "data": {
      "text/plain": [
       "[<b>The demo python introduces several python courses.</b>,\n",
       " <a class=\"py1\" href=\"http://www.icourse163.org/course/BIT-268001\" id=\"link1\">Basic Python</a>,\n",
       " <a class=\"py2\" href=\"http://www.icourse163.org/course/BIT-1001870001\" id=\"link2\">Advanced Python</a>]"
      ]
     },
     "execution_count": 69,
     "metadata": {},
     "output_type": "execute_result"
    }
   ],
   "source": [
    "soup.find_all(['a', 'b'])"
   ]
  },
  {
   "cell_type": "code",
   "execution_count": 70,
   "metadata": {},
   "outputs": [
    {
     "name": "stdout",
     "output_type": "stream",
     "text": [
      "html\n",
      "head\n",
      "title\n",
      "body\n",
      "p\n",
      "b\n",
      "p\n",
      "a\n",
      "a\n"
     ]
    }
   ],
   "source": [
    "for tag in soup.find_all(True):\n",
    "    print(tag.name)"
   ]
  },
  {
   "cell_type": "code",
   "execution_count": 72,
   "metadata": {},
   "outputs": [
    {
     "name": "stdout",
     "output_type": "stream",
     "text": [
      "body\n",
      "b\n"
     ]
    }
   ],
   "source": [
    "import re\n",
    "for tag in soup.find_all(re.compile('b')):\n",
    "    print(tag.name)"
   ]
  },
  {
   "cell_type": "code",
   "execution_count": 73,
   "metadata": {},
   "outputs": [
    {
     "data": {
      "text/plain": [
       "[<p class=\"course\">Python is a wonderful general-purpose programming language. You can learn Python from novice to professional by tracking the following courses:\n",
       " <a class=\"py1\" href=\"http://www.icourse163.org/course/BIT-268001\" id=\"link1\">Basic Python</a> and <a class=\"py2\" href=\"http://www.icourse163.org/course/BIT-1001870001\" id=\"link2\">Advanced Python</a>.</p>]"
      ]
     },
     "execution_count": 73,
     "metadata": {},
     "output_type": "execute_result"
    }
   ],
   "source": [
    "soup.find_all('p', 'course')"
   ]
  },
  {
   "cell_type": "code",
   "execution_count": 74,
   "metadata": {},
   "outputs": [
    {
     "data": {
      "text/plain": [
       "[<a class=\"py1\" href=\"http://www.icourse163.org/course/BIT-268001\" id=\"link1\">Basic Python</a>]"
      ]
     },
     "execution_count": 74,
     "metadata": {},
     "output_type": "execute_result"
    }
   ],
   "source": [
    "soup.find_all(id='link1')"
   ]
  },
  {
   "cell_type": "code",
   "execution_count": 75,
   "metadata": {},
   "outputs": [
    {
     "data": {
      "text/plain": [
       "[]"
      ]
     },
     "execution_count": 75,
     "metadata": {},
     "output_type": "execute_result"
    }
   ],
   "source": [
    "soup.find_all(id='link')"
   ]
  },
  {
   "cell_type": "code",
   "execution_count": 76,
   "metadata": {},
   "outputs": [
    {
     "data": {
      "text/plain": [
       "[<a class=\"py1\" href=\"http://www.icourse163.org/course/BIT-268001\" id=\"link1\">Basic Python</a>,\n",
       " <a class=\"py2\" href=\"http://www.icourse163.org/course/BIT-1001870001\" id=\"link2\">Advanced Python</a>]"
      ]
     },
     "execution_count": 76,
     "metadata": {},
     "output_type": "execute_result"
    }
   ],
   "source": [
    "soup.find_all(id=re.compile('link'))"
   ]
  },
  {
   "cell_type": "code",
   "execution_count": 77,
   "metadata": {},
   "outputs": [
    {
     "data": {
      "text/plain": [
       "[<a class=\"py1\" href=\"http://www.icourse163.org/course/BIT-268001\" id=\"link1\">Basic Python</a>,\n",
       " <a class=\"py2\" href=\"http://www.icourse163.org/course/BIT-1001870001\" id=\"link2\">Advanced Python</a>]"
      ]
     },
     "execution_count": 77,
     "metadata": {},
     "output_type": "execute_result"
    }
   ],
   "source": [
    "soup.find_all('a')"
   ]
  },
  {
   "cell_type": "code",
   "execution_count": 79,
   "metadata": {},
   "outputs": [
    {
     "data": {
      "text/plain": [
       "[]"
      ]
     },
     "execution_count": 79,
     "metadata": {},
     "output_type": "execute_result"
    }
   ],
   "source": [
    "soup.find_all('a', recursive=False)"
   ]
  },
  {
   "cell_type": "code",
   "execution_count": 80,
   "metadata": {},
   "outputs": [
    {
     "data": {
      "text/plain": [
       "<html><head><title>This is a python demo page</title></head>\n",
       "<body>\n",
       "<p class=\"title\"><b>The demo python introduces several python courses.</b></p>\n",
       "<p class=\"course\">Python is a wonderful general-purpose programming language. You can learn Python from novice to professional by tracking the following courses:\n",
       "<a class=\"py1\" href=\"http://www.icourse163.org/course/BIT-268001\" id=\"link1\">Basic Python</a> and <a class=\"py2\" href=\"http://www.icourse163.org/course/BIT-1001870001\" id=\"link2\">Advanced Python</a>.</p>\n",
       "</body></html>"
      ]
     },
     "execution_count": 80,
     "metadata": {},
     "output_type": "execute_result"
    }
   ],
   "source": [
    "soup"
   ]
  },
  {
   "cell_type": "code",
   "execution_count": 82,
   "metadata": {},
   "outputs": [
    {
     "data": {
      "text/plain": [
       "['Basic Python']"
      ]
     },
     "execution_count": 82,
     "metadata": {},
     "output_type": "execute_result"
    }
   ],
   "source": [
    "soup.find_all(string='Basic Python')"
   ]
  },
  {
   "cell_type": "code",
   "execution_count": 83,
   "metadata": {},
   "outputs": [
    {
     "data": {
      "text/plain": [
       "['This is a python demo page',\n",
       " 'The demo python introduces several python courses.']"
      ]
     },
     "execution_count": 83,
     "metadata": {},
     "output_type": "execute_result"
    }
   ],
   "source": [
    "soup.find_all(string=re.compile('python'))"
   ]
  },
  {
   "cell_type": "code",
   "execution_count": 84,
   "metadata": {},
   "outputs": [
    {
     "data": {
      "text/plain": [
       "[<a class=\"py1\" href=\"http://www.icourse163.org/course/BIT-268001\" id=\"link1\">Basic Python</a>,\n",
       " <a class=\"py2\" href=\"http://www.icourse163.org/course/BIT-1001870001\" id=\"link2\">Advanced Python</a>]"
      ]
     },
     "execution_count": 84,
     "metadata": {},
     "output_type": "execute_result"
    }
   ],
   "source": [
    "soup('a')"
   ]
  },
  {
   "cell_type": "code",
   "execution_count": 85,
   "metadata": {},
   "outputs": [
    {
     "data": {
      "text/plain": [
       "[<a class=\"py1\" href=\"http://www.icourse163.org/course/BIT-268001\" id=\"link1\">Basic Python</a>,\n",
       " <a class=\"py2\" href=\"http://www.icourse163.org/course/BIT-1001870001\" id=\"link2\">Advanced Python</a>]"
      ]
     },
     "execution_count": 85,
     "metadata": {},
     "output_type": "execute_result"
    }
   ],
   "source": [
    "soup.find_all('a')"
   ]
  },
  {
   "cell_type": "code",
   "execution_count": 87,
   "metadata": {},
   "outputs": [],
   "source": []
  },
  {
   "cell_type": "code",
   "execution_count": 109,
   "metadata": {},
   "outputs": [
    {
     "data": {
      "text/plain": [
       "200"
      ]
     },
     "execution_count": 109,
     "metadata": {},
     "output_type": "execute_result"
    }
   ],
   "source": [
    "url = 'https://www.ncbi.nlm.nih.gov/'\n",
    "r = requests.get(url, timeout=30)\n",
    "r.status_code"
   ]
  },
  {
   "cell_type": "code",
   "execution_count": 113,
   "metadata": {},
   "outputs": [
    {
     "data": {
      "text/plain": [
       "<!DOCTYPE html>\n",
       "\n",
       "<html lang=\"en\">\n",
       "<head>\n",
       "<meta content=\"text/html; charset=utf-8\" http-equiv=\"Content-Type\"/>\n",
       "<script type=\"text/javascript\">\n",
       "        if (document.location.href.match(/\\/(home)\\/?$/)) {\n",
       "            document.location.href = document.location.href.replace(/\\/(home)\\/?$/, '/');\n",
       "        }\n",
       "    </script>\n",
       "<script src=\"/core/jig/1.15.6/js/jig.min.js\" type=\"text/javascript\"></script>\n",
       "<link href=\"/favicon.ico\" rel=\"shortcut icon\"/>\n",
       "<title>National Center for Biotechnology Information</title>\n",
       "<meta content=\"minHeight: 70\" name=\"ncbiexpander\"/>\n",
       "<meta content=\"guide\" name=\"ncbi_app\"/>\n",
       "<meta content=\"HomePage\" name=\"ncbi_pdid\"/>\n",
       "<!-- HP-1016 -->\n",
       "<meta content=\"https://www.ncbi.nlm.nih.gov/corehtml/logo256.gif\" property=\"og:image\"/>\n",
       "<meta content=\"/corehtml/logo256.gif\" property=\"og:image:secure_url\"/>\n",
       "<!-- Homepage handles legacy redirects, except ncbi_phid (hp-1055) -->\n",
       "<script type=\"text/javascript\">\n",
       "        if (/^\\?(?!.*ncbi_phid).+/.exec(window.location.search)) {\n",
       "            window.location = \"/guide/sitemap/\" + window.location.search + window.location.hash\n",
       "        }\n",
       "    </script>\n",
       "<link href=\"home/components/normalize-css/normalize.css\" rel=\"stylesheet\" type=\"text/css\"/>\n",
       "<link href=\"home/components/ncbi-standards/standard_base.css\" rel=\"stylesheet\" type=\"text/css\"/>\n",
       "<link href=\"home/new_grid.css\" rel=\"stylesheet\" type=\"text/css\"/>\n",
       "<link href=\"home/homepage.css\" rel=\"stylesheet\" type=\"text/css\"/>\n",
       "<link href=\"home/legacy/page.css\" rel=\"stylesheet\" type=\"text/css\"/>\n",
       "<script async=\"async\" src=\"//script.crazyegg.com/pages/scripts/0027/2050.js\" type=\"text/javascript\"> </script>\n",
       "</head>\n",
       "<body>\n",
       "<div class=\"grid\">\n",
       "<div class=\"col twelve_col nomargin shadow\">\n",
       "<div class=\"wrap\">\n",
       "<div class=\"page\">\n",
       "<div data-section=\"header\">\n",
       "<div id=\"universal_header\" xml:base=\"http://127.0.0.1/sites/static/header_footer/\" xmlns=\"http://www.w3.org/1999/xhtml\">\n",
       "<section class=\"usa-banner\">\n",
       "<div class=\"usa-accordion\">\n",
       "<header class=\"usa-banner-header\">\n",
       "<div class=\"usa-grid usa-banner-inner\">\n",
       "<img alt=\"U.S. flag\" src=\"https://www.ncbi.nlm.nih.gov/coreutils/uswds/img/favicons/favicon-57.png\"/>\n",
       "<p>An official website of the United States government</p>\n",
       "<button aria-controls=\"gov-banner-top\" aria-expanded=\"false\" class=\"non-usa-accordion-button usa-banner-button\" type=\"button\">\n",
       "<span class=\"usa-banner-button-text\">Here's how you know</span>\n",
       "</button>\n",
       "</div>\n",
       "</header>\n",
       "<div aria-hidden=\"true\" class=\"usa-banner-content usa-grid usa-accordion-content\" id=\"gov-banner-top\">\n",
       "<div class=\"usa-banner-guidance-gov usa-width-one-half\">\n",
       "<img alt=\"Dot gov\" class=\"usa-banner-icon usa-media_block-img\" src=\"https://www.ncbi.nlm.nih.gov/coreutils/uswds/img/icon-dot-gov.svg\"/>\n",
       "<div class=\"usa-media_block-body\">\n",
       "<p>\n",
       "<strong>The .gov means it's official.</strong>\n",
       "<br/>\n",
       "\t\t\t\t\t\t\tFederal government websites often end in .gov or .mil. Before\n",
       "\t\t\t\t\t\t\tsharing sensitive information, make sure you're on a federal\n",
       "\t\t\t\t\t\t\tgovernment site.\n",
       "\t\t\t\t\t\t</p>\n",
       "</div>\n",
       "</div>\n",
       "<div class=\"usa-banner-guidance-ssl usa-width-one-half\">\n",
       "<img alt=\"Https\" class=\"usa-banner-icon usa-media_block-img\" src=\"https://www.ncbi.nlm.nih.gov/coreutils/uswds/img/icon-https.svg\"/>\n",
       "<div class=\"usa-media_block-body\">\n",
       "<p>\n",
       "<strong>The site is secure.</strong>\n",
       "<br/>\n",
       "\t\t\t\t\t\t\tThe <strong>https://</strong> ensures that you are connecting to the\n",
       "\t\t\t\t\t\t\tofficial website and that any information you provide is encrypted\n",
       "\t\t\t\t\t\t\tand transmitted securely.\n",
       "\t\t\t\t\t\t</p>\n",
       "</div>\n",
       "</div>\n",
       "</div>\n",
       "</div>\n",
       "</section>\n",
       "<div class=\"usa-overlay\"></div>\n",
       "<header class=\"ncbi-header\" data-section=\"Header\" role=\"banner\">\n",
       "<div class=\"usa-grid\">\n",
       "<div class=\"usa-width-one-whole\">\n",
       "<div class=\"ncbi-header__logo\">\n",
       "<a aria-label=\"NCBI Logo\" class=\"logo\" data-ga-action=\"click_image\" data-ga-label=\"NIH NLM Logo\" href=\"/\">\n",
       "<img alt=\"NIH NLM Logo\" src=\"https://www.ncbi.nlm.nih.gov/coreutils/nwds/img/logos/AgencyLogo.svg\"/>\n",
       "</a>\n",
       "</div>\n",
       "<div class=\"ncbi-header__account\">\n",
       "<a class=\"usa-button header-button\" data-ga-action=\"open_menu\" data-ga-label=\"account_menu\" href=\"https://account.ncbi.nlm.nih.gov\" id=\"account_login\" style=\"display:none\">Log in</a>\n",
       "<button aria-controls=\"account_popup\" class=\"header-button\" id=\"account_info\" style=\"display:none\" type=\"button\">\n",
       "<span aria-hidden=\"true\" class=\"fa fa-user\">\n",
       "<svg height=\"20px\" viewbox=\"0 0 24 24\" width=\"20px\" xmlns=\"http://www.w3.org/2000/svg\">\n",
       "<g style=\"fill: #fff\">\n",
       "<ellipse cx=\"12\" cy=\"8\" rx=\"5\" ry=\"6\"></ellipse>\n",
       "<path d=\"M21.8,19.1c-0.9-1.8-2.6-3.3-4.8-4.2c-0.6-0.2-1.3-0.2-1.8,0.1c-1,0.6-2,0.9-3.2,0.9s-2.2-0.3-3.2-0.9    C8.3,14.8,7.6,14.7,7,15c-2.2,0.9-3.9,2.4-4.8,4.2C1.5,20.5,2.6,22,4.1,22h15.8C21.4,22,22.5,20.5,21.8,19.1z\"></path>\n",
       "</g>\n",
       "</svg>\n",
       "</span>\n",
       "<span aria-hidden=\"true\" class=\"username desktop-only\" id=\"uname_short\"></span>\n",
       "<span class=\"sr-only\">Show account info</span>\n",
       "</button>\n",
       "</div>\n",
       "<div class=\"ncbi-popup-anchor\">\n",
       "<div aria-hidden=\"true\" class=\"ncbi-popup account-popup\" id=\"account_popup\">\n",
       "<div class=\"ncbi-popup-head\">\n",
       "<button class=\"ncbi-close-button\" data-ga-action=\"close_menu\" data-ga-label=\"account_menu\" type=\"button\">\n",
       "<span class=\"fa fa-times\">\n",
       "<svg height=\"24px\" viewbox=\"0 0 48 48\" width=\"24px\" xmlns=\"http://www.w3.org/2000/svg\">\n",
       "<path d=\"M38 12.83l-2.83-2.83-11.17 11.17-11.17-11.17-2.83 2.83 11.17 11.17-11.17 11.17 2.83 2.83 11.17-11.17 11.17 11.17 2.83-2.83-11.17-11.17z\"></path>\n",
       "</svg>\n",
       "</span>\n",
       "<span class=\"usa-sr-only\">Close</span></button>\n",
       "<h4>Account</h4>\n",
       "</div>\n",
       "<div class=\"account-user-info\">\n",
       "\t\t\t\t\t\t\tLogged in as:<br/>\n",
       "<b><span class=\"username\" id=\"uname_long\">username</span></b>\n",
       "</div>\n",
       "<div class=\"account-links\">\n",
       "<ul class=\"usa-unstyled-list\">\n",
       "<li><a class=\"set-base-url\" data-ga-action=\"click_menu_item\" data-ga-label=\"account_myncbi\" href=\"/myncbi/\" id=\"account_myncbi\">Dashboard</a></li>\n",
       "<li><a class=\"set-base-url\" data-ga-action=\"click_menu_item\" data-ga-label=\"account_pubs\" href=\"/myncbi/collections/bibliography/\" id=\"account_pubs\">Publications</a></li>\n",
       "<li><a class=\"set-base-url\" data-ga-action=\"click_menu_item\" data-ga-label=\"account_settings\" href=\"/account/settings/\" id=\"account_settings\">Account settings</a></li>\n",
       "<li><a class=\"set-base-url\" data-ga-action=\"click_menu_item\" data-ga-label=\"account_logout\" href=\"/account/signout/\" id=\"account_logout\">Log out</a></li>\n",
       "</ul>\n",
       "</div>\n",
       "</div>\n",
       "</div>\n",
       "</div>\n",
       "</div>\n",
       "</header>\n",
       "<div aria-label=\"access keys\" role=\"navigation\">\n",
       "<a accesskey=\"0\" class=\"usa-sr-only\" href=\"https://www.ncbi.nlm.nih.gov/guide/browsers/#ncbi_accesskeys\" id=\"nws_header_accesskey_0\" tabindex=\"-1\">Access keys</a>\n",
       "<a accesskey=\"1\" class=\"usa-sr-only\" href=\"https://www.ncbi.nlm.nih.gov\" id=\"nws_header_accesskey_1\" tabindex=\"-1\">NCBI Homepage</a>\n",
       "<a accesskey=\"2\" class=\"set-base-url usa-sr-only\" href=\"/myncbi/\" id=\"nws_header_accesskey_2\" tabindex=\"-1\">MyNCBI Homepage</a>\n",
       "<a accesskey=\"3\" class=\"usa-sr-only\" href=\"#maincontent\" id=\"nws_header_accesskey_3\" tabindex=\"-1\">Main Content</a>\n",
       "<a accesskey=\"4\" class=\"usa-sr-only\" href=\"#\" id=\"nws_header_accesskey_4\" tabindex=\"-1\">Main Navigation</a>\n",
       "</div>\n",
       "<section data-section=\"Alerts\">\n",
       "<div class=\"ncbi-alerts-placeholder\"></div>\n",
       "</section>\n",
       "</div>\n",
       "<div class=\"header\">\n",
       "<div class=\"res_logo\">\n",
       "<h1 class=\"img_logo\">\n",
       "<a href=\"/\" title=\"NCBI\">NCBI</a>\n",
       "</h1>\n",
       "<h2 class=\"res_tagline\">National Center for Biotechnology\n",
       "                                Information</h2>\n",
       "</div>\n",
       "<div class=\"search\">\n",
       "<form action=\"/gquery/\" autocomplete=\"off\" id=\"searchform\" method=\"get\">\n",
       "<div class=\"search_form\">\n",
       "<label class=\"offscreen_noflow\" for=\"database\">Search\n",
       "                                        database</label>\n",
       "<select id=\"database\"><option value=\"gquery\">All Databases</option><option data-ac_dict=\"assembly\" value=\"assembly\">Assembly</option><option value=\"biocollections\">Biocollections</option><option value=\"bioproject\">BioProject</option><option value=\"biosample\">BioSample</option><option value=\"books\">Books</option><option value=\"clinvar\">ClinVar</option><option value=\"cdd\">Conserved Domains</option><option value=\"gap\">dbGaP</option><option value=\"dbvar\">dbVar</option><option data-ac_dict=\"gene\" value=\"gene\">Gene</option><option data-ac_dict=\"genome\" value=\"genome\">Genome</option><option value=\"gds\">GEO DataSets</option><option value=\"geoprofiles\">GEO Profiles</option><option value=\"gtr\">GTR</option><option value=\"homologene\">HomoloGene</option><option value=\"ipg\">Identical Protein Groups</option><option value=\"medgen\">MedGen</option><option value=\"mesh\">MeSH</option><option value=\"nlmcatalog\">NLM Catalog</option><option data-ac_dict=\"nuccore\" value=\"nuccore\">Nucleotide</option><option value=\"omim\">OMIM</option><option value=\"pmc\">PMC</option><option value=\"popset\">PopSet</option><option data-ac_dict=\"protein\" value=\"protein\">Protein</option><option value=\"proteinclusters\">Protein Clusters</option><option value=\"protfam\">Protein Family Models</option><option value=\"pcassay\">PubChem BioAssay</option><option value=\"pccompound\">PubChem Compound</option><option value=\"pcsubstance\">PubChem Substance</option><option value=\"pubmed\">PubMed</option><option value=\"snp\">SNP</option><option value=\"sra\">SRA</option><option value=\"structure\">Structure</option><option value=\"taxonomy\">Taxonomy</option><option value=\"toolkit\">ToolKit</option><option value=\"toolkitall\">ToolKitAll</option><option value=\"toolkitbookgh\">ToolKitBookgh</option></select>\n",
       "<div class=\"nowrap\">\n",
       "<label accesskey=\"/\" class=\"offscreen_noflow\" for=\"term\">Search\n",
       "                                            term</label>\n",
       "<div class=\"nowrap\">\n",
       "<input aria-autocomplete=\"list\" aria-haspopup=\"true\" autocomplete=\"off\" class=\"jig-ncbiclearbutton jig-ncbiautocomplete\" data-jigconfig=\"isEnabled:false,disableUrl:'NcbiSearchBarAutoComplCtrl'\" data-sbconfig=\"ds:'no',pjs:'no',afs:'yes'\" id=\"term\" name=\"term\" role=\"textbox\" title=\"Search All Databases\" type=\"text\" value=\"\"/>\n",
       "</div>\n",
       "<button class=\"button_search nowrap\" cmd=\"go\" id=\"search\" type=\"submit\">Search\n",
       "                                        </button>\n",
       "</div>\n",
       "</div>\n",
       "</form>\n",
       "</div>\n",
       "</div>\n",
       "</div>\n",
       "<div class=\"container\">\n",
       "<div class=\"content col twelve_col last\" id=\"maincontent\">\n",
       "<div class=\"col1\">\n",
       "<div class=\"col1inner\">\n",
       "<div class=\"home_page\" data-section=\"main\">\n",
       "<div class=\"col twelve_col last\">\n",
       "<h1>Welcome to NCBI</h1>\n",
       "<p>The National Center for Biotechnology Information\n",
       "                                            advances science and health by providing access to\n",
       "                                            biomedical and genomic information.</p>\n",
       "<ul class=\"about_links\">\n",
       "<li><a href=\"home/about/\">About the NCBI</a> |</li>\n",
       "<li><a href=\"home/about/mission/\">Mission</a> |</li>\n",
       "<li><a href=\"home/about/structure/\">Organization</a> |\n",
       "                                            </li>\n",
       "<li><a href=\"https://ncbiinsights.ncbi.nlm.nih.gov/\">NCBI News &amp; Blog</a>\n",
       "</li>\n",
       "</ul>\n",
       "</div>\n",
       "<section class=\"action_bar black_text\" data-section=\"action\">\n",
       "<a href=\"https://submit.ncbi.nlm.nih.gov/\" id=\"home_submit\">\n",
       "<div class=\"col four_col submit\">\n",
       "<h2>Submit</h2>\n",
       "<p>Deposit data or manuscripts into NCBI\n",
       "                                                    databases</p>\n",
       "<img alt=\"\" aria-hidden=\"true\" class=\"gray-light\" src=\"home/images/icons/submit.svg\"/>\n",
       "<span class=\"icon-fallback-text\">Submit Icon</span>\n",
       "</div>\n",
       "</a>\n",
       "<a href=\"home/download/\" id=\"home_download\">\n",
       "<div class=\"col four_col download\">\n",
       "<h2>Download</h2>\n",
       "<p>Transfer NCBI data to your computer</p>\n",
       "<img alt=\"\" aria-hidden=\"true\" class=\"gray-light\" src=\"home/images/icons/download.svg\"/>\n",
       "<span class=\"icon-fallback-text\">Download Icon</span>\n",
       "</div>\n",
       "</a>\n",
       "<a href=\"home/learn/\" id=\"home_learn\">\n",
       "<div class=\"col four_col learn\">\n",
       "<h2>Learn</h2>\n",
       "<p>Find help documents, attend a class or watch a\n",
       "                                                    tutorial</p>\n",
       "<img alt=\"\" aria-hidden=\"true\" class=\"gray-light\" src=\"home/images/icons/learn.svg\"/>\n",
       "<span class=\"icon-fallback-text\">Books Icon</span>\n",
       "</div>\n",
       "</a>\n",
       "<a href=\"home/develop/\" id=\"home_develop\">\n",
       "<div class=\"col four_col develop\">\n",
       "<h2>Develop</h2>\n",
       "<p>Use NCBI APIs and code libraries to build\n",
       "                                                    applications</p>\n",
       "<img alt=\"\" aria-hidden=\"true\" class=\"gray-light\" src=\"home/images/icons/develop.svg\"/>\n",
       "<span class=\"icon-fallback-text\">Develop Icon</span>\n",
       "</div>\n",
       "</a>\n",
       "<a href=\"home/analyze/\" id=\"home_analyze\">\n",
       "<div class=\"col four_col analyze\">\n",
       "<h2>Analyze</h2>\n",
       "<p>Identify an NCBI tool for your data analysis\n",
       "                                                    task</p>\n",
       "<img alt=\"\" aria-hidden=\"true\" class=\"gray-light\" src=\"home/images/icons/analyze.svg\"/>\n",
       "<span class=\"icon-fallback-text\">Graph Icon</span>\n",
       "</div>\n",
       "</a>\n",
       "<a href=\"/research/\" id=\"home_research\">\n",
       "<div class=\"col four_col research\">\n",
       "<h2>Research</h2>\n",
       "<p>Explore NCBI research and collaborative\n",
       "                                                    projects</p>\n",
       "<img alt=\"\" aria-hidden=\"true\" class=\"gray-light\" src=\"home/images/icons/research.svg\"/>\n",
       "<span class=\"icon-fallback-text\">Microscope Icon</span>\n",
       "</div>\n",
       "</a>\n",
       "</section>\n",
       "<div class=\"col twelve_col last covid_banner\">\n",
       "<strong class=\"h1 inline_block\">COVID-19 Information</strong>\n",
       "<div class=\"list-items\">\n",
       "<a href=\"https://cdc.gov/coronavirus\">Public health information (CDC)</a> |\n",
       "                                            <a href=\"https://covid19.nih.gov/\">Research information (NIH)</a> |\n",
       "                                            <a href=\"https://www.ncbi.nlm.nih.gov/sars-cov-2/\">SARS-CoV-2 data (NCBI)</a> |\n",
       "                                            <a href=\"https://combatcovid.hhs.gov/\">Prevention and treatment information (HHS)</a> |\n",
       "                                            <a href=\"https://salud.nih.gov/covid-19/\">EspaÃ±ol</a>\n",
       "</div>\n",
       "</div>\n",
       "</div>\n",
       "</div>\n",
       "</div>\n",
       "<div class=\"col2\" data-section=\"categories\">\n",
       "<div class=\"gd-lcl-nav-howto\" id=\"gd-lcl-nav\" role=\"navigation\">\n",
       "<ul>\n",
       "<li class=\"current\">\n",
       "<a class=\"homelink\" href=\"/\">NCBI Home</a>\n",
       "</li>\n",
       "<li class=\"before-divide\">\n",
       "<a class=\"homelink\" href=\"/guide/sitemap/\">Resource List\n",
       "                                            (A-Z)</a>\n",
       "</li>\n",
       "<li class=\"nav-divide\"></li>\n",
       "<li>\n",
       "<a href=\"/guide/all/\">All Resources</a>\n",
       "</li>\n",
       "<li>\n",
       "<a href=\"/guide/chemicals-bioassays/\">Chemicals &amp;\n",
       "                                            Bioassays</a>\n",
       "</li>\n",
       "<li>\n",
       "<a href=\"/guide/data-software/\">Data &amp; Software</a>\n",
       "</li>\n",
       "<li>\n",
       "<a href=\"/guide/dna-rna/\">DNA &amp; RNA</a>\n",
       "</li>\n",
       "<li>\n",
       "<a href=\"/guide/domains-structures/\">Domains &amp;\n",
       "                                            Structures</a>\n",
       "</li>\n",
       "<li>\n",
       "<a href=\"/guide/genes-expression/\">Genes &amp;\n",
       "                                            Expression</a>\n",
       "</li>\n",
       "<li>\n",
       "<a href=\"/guide/genetics-medicine/\">Genetics &amp;\n",
       "                                            Medicine</a>\n",
       "</li>\n",
       "<li>\n",
       "<a href=\"/guide/genomes-maps/\">Genomes &amp; Maps</a>\n",
       "</li>\n",
       "<li>\n",
       "<a href=\"/guide/homology/\">Homology</a>\n",
       "</li>\n",
       "<li>\n",
       "<a href=\"/guide/literature/\">Literature</a>\n",
       "</li>\n",
       "<li>\n",
       "<a href=\"/guide/proteins/\">Proteins</a>\n",
       "</li>\n",
       "<li>\n",
       "<a href=\"/guide/sequence-analysis/\">Sequence Analysis</a>\n",
       "</li>\n",
       "<li>\n",
       "<a href=\"/guide/taxonomy/\">Taxonomy</a>\n",
       "</li>\n",
       "<li>\n",
       "<a href=\"/guide/training-tutorials/\">Training &amp;\n",
       "                                            Tutorials</a>\n",
       "</li>\n",
       "<li>\n",
       "<a href=\"/guide/variation/\">Variation</a>\n",
       "</li>\n",
       "</ul>\n",
       "</div>\n",
       "</div>\n",
       "<div class=\"col3\" data-section=\"discovery\">\n",
       "<div>\n",
       "<div class=\"portlet brieflink\" data-section=\"resources\">\n",
       "<div class=\"portlet_head\">\n",
       "<div class=\"portlet_title\">\n",
       "<h3>Popular Resources</h3>\n",
       "</div>\n",
       "</div>\n",
       "<div class=\"portlet_content\">\n",
       "<ul>\n",
       "<li>\n",
       "<a href=\"/pubmed/\">PubMed</a>\n",
       "</li>\n",
       "<li>\n",
       "<a href=\"/books/\">Bookshelf</a>\n",
       "</li>\n",
       "<li>\n",
       "<a href=\"/pmc/\">PubMed Central</a>\n",
       "</li>\n",
       "<li>\n",
       "<a href=\"https://blast.ncbi.nlm.nih.gov/\">BLAST</a>\n",
       "</li>\n",
       "<li>\n",
       "<a href=\"/nucleotide/\">Nucleotide</a>\n",
       "</li>\n",
       "<li>\n",
       "<a href=\"/genome/\">Genome</a>\n",
       "</li>\n",
       "<li>\n",
       "<a href=\"/snp/\">SNP</a>\n",
       "</li>\n",
       "<li>\n",
       "<a href=\"/gene/\">Gene</a>\n",
       "</li>\n",
       "<li>\n",
       "<a href=\"/protein/\">Protein</a>\n",
       "</li>\n",
       "<li>\n",
       "<a href=\"https://pubchem.ncbi.nlm.nih.gov/\">PubChem</a>\n",
       "</li>\n",
       "</ul>\n",
       "</div>\n",
       "</div>\n",
       "<div data-section=\"announcements\">\n",
       "<div id=\"news\"></div>\n",
       "<style>\n",
       "#news ul {\n",
       "margin-left:0;\n",
       "padding-left:0;\n",
       "}\n",
       "</style>\n",
       "<script type=\"text/javascript\">\n",
       "(function($) {\n",
       "   $(function() {\n",
       "   $(\"#news\").load(\"/projects/gwc/news/portlet.html\", function() {\n",
       "      $.ui.jig.scan(this);\n",
       "    });\n",
       "  });\n",
       "})(jQuery);\n",
       "</script>\n",
       "</div>\n",
       "</div>\n",
       "</div>\n",
       "<script type=\"text/javascript\">\n",
       "                            jQuery(document).ready(function ($) {\n",
       "                                // Manage database changes\n",
       "                                function update_db() {\n",
       "                                    var db = $(\"#database\")\n",
       "                                    db.closest(\"form\").attr(\"action\", \"/\" + db.val() + \"/\");\n",
       "                                }\n",
       "\n",
       "                                $(\"#database\").change(update_db);\n",
       "                                $(\"#term\").blur(update_db).keypress(update_db);\n",
       "                                $(\"#search\").click(update_db).keypress(update_db);\n",
       "                            });\n",
       "                        </script>\n",
       "</div>\n",
       "</div>\n",
       "<div data-section=\"footer\">\n",
       "<div class=\"footer\" id=\"footer\" xml:base=\"http://127.0.0.1/sites/static/header_footer/\" xmlns=\"http://www.w3.org/1999/xhtml\">\n",
       "<section class=\"icon-section\">\n",
       "<div class=\"icon-section_header\" id=\"icon-section-header\">Follow NCBI</div>\n",
       "<div class=\"grid-container container\">\n",
       "<div class=\"icon-section_container\">\n",
       "<a aria-label=\"Twitter\" class=\"footer-icon\" href=\"https://twitter.com/ncbi\" id=\"footer_twitter\"><svg data-name=\"Layer 1\" viewbox=\"0 0 300 300\" xmlns=\"http://www.w3.org/2000/svg\">\n",
       "<defs>\n",
       "<style>\n",
       "\t\t\t\t\t\t\t.cls-11 {\n",
       "\t\t\t\t\t\t\tfill: #737373;\n",
       "\t\t\t\t\t\t\t}\n",
       "\t\t\t\t\t\t</style>\n",
       "</defs>\n",
       "<title>Twitter</title>\n",
       "<path class=\"cls-11\" d=\"M250.11,105.48c-7,3.14-13,3.25-19.27.14,8.12-4.86,8.49-8.27,11.43-17.46a78.8,78.8,0,0,1-25,9.55,39.35,39.35,0,0,0-67,35.85,111.6,111.6,0,0,1-81-41.08A39.37,39.37,0,0,0,81.47,145a39.08,39.08,0,0,1-17.8-4.92c0,.17,0,.33,0,.5a39.32,39.32,0,0,0,31.53,38.54,39.26,39.26,0,0,1-17.75.68,39.37,39.37,0,0,0,36.72,27.3A79.07,79.07,0,0,1,56,223.34,111.31,111.31,0,0,0,116.22,241c72.3,0,111.83-59.9,111.83-111.84,0-1.71,0-3.4-.1-5.09C235.62,118.54,244.84,113.37,250.11,105.48Z\">\n",
       "</path>\n",
       "</svg></a>\n",
       "<a aria-label=\"Facebook\" class=\"footer-icon\" href=\"https://www.facebook.com/ncbi.nlm\" id=\"footer_facebook\"><svg data-name=\"Layer 1\" viewbox=\"0 0 300 300\" xmlns=\"http://www.w3.org/2000/svg\">\n",
       "<title>Facebook</title>\n",
       "<path class=\"cls-11\" d=\"M210.5,115.12H171.74V97.82c0-8.14,5.39-10,9.19-10h27.14V52l-39.32-.12c-35.66,0-42.42,26.68-42.42,43.77v19.48H99.09v36.32h27.24v109h45.41v-109h35Z\">\n",
       "</path>\n",
       "</svg></a>\n",
       "<a aria-label=\"LinkedIn\" class=\"footer-icon\" href=\"https://www.linkedin.com/company/ncbinlm\" id=\"footer_linkedin\"><svg data-name=\"Layer 1\" viewbox=\"0 0 300 300\" xmlns=\"http://www.w3.org/2000/svg\">\n",
       "<title>LinkedIn</title>\n",
       "<path class=\"cls-11\" d=\"M101.64,243.37H57.79v-114h43.85Zm-22-131.54h-.26c-13.25,0-21.82-10.36-21.82-21.76,0-11.65,8.84-21.15,22.33-21.15S101.7,78.72,102,90.38C102,101.77,93.4,111.83,79.63,111.83Zm100.93,52.61A17.54,17.54,0,0,0,163,182v61.39H119.18s.51-105.23,0-114H163v13a54.33,54.33,0,0,1,34.54-12.66c26,0,44.39,18.8,44.39,55.29v58.35H198.1V182A17.54,17.54,0,0,0,180.56,164.44Z\">\n",
       "</path>\n",
       "</svg></a>\n",
       "<a aria-label=\"GitHub\" class=\"footer-icon\" href=\"https://github.com/ncbi\" id=\"footer_github\"><svg data-name=\"Layer 1\" viewbox=\"0 0 300 300\" xmlns=\"http://www.w3.org/2000/svg\">\n",
       "<defs>\n",
       "<style>\n",
       "\t\t\t\t\t\t\t.cls-11,\n",
       "\t\t\t\t\t\t\t.cls-12 {\n",
       "\t\t\t\t\t\t\tfill: #737373;\n",
       "\t\t\t\t\t\t\t}\n",
       "\t\t\t\t\t\t\t\n",
       "\t\t\t\t\t\t\t.cls-11 {\n",
       "\t\t\t\t\t\t\tfill-rule: evenodd;\n",
       "\t\t\t\t\t\t\t}\n",
       "\t\t\t\t\t\t</style>\n",
       "</defs>\n",
       "<title>GitHub</title>\n",
       "<path class=\"cls-11\" d=\"M151.36,47.28a105.76,105.76,0,0,0-33.43,206.1c5.28,1,7.22-2.3,7.22-5.09,0-2.52-.09-10.85-.14-19.69-29.42,6.4-35.63-12.48-35.63-12.48-4.81-12.22-11.74-15.47-11.74-15.47-9.59-6.56.73-6.43.73-6.43,10.61.75,16.21,10.9,16.21,10.9,9.43,16.17,24.73,11.49,30.77,8.79,1-6.83,3.69-11.5,6.71-14.14C108.57,197.1,83.88,188,83.88,147.51a40.92,40.92,0,0,1,10.9-28.39c-1.1-2.66-4.72-13.42,1-28,0,0,8.88-2.84,29.09,10.84a100.26,100.26,0,0,1,53,0C198,88.3,206.9,91.14,206.9,91.14c5.76,14.56,2.14,25.32,1,28a40.87,40.87,0,0,1,10.89,28.39c0,40.62-24.74,49.56-48.29,52.18,3.79,3.28,7.17,9.71,7.17,19.58,0,14.15-.12,25.54-.12,29,0,2.82,1.9,6.11,7.26,5.07A105.76,105.76,0,0,0,151.36,47.28Z\">\n",
       "</path>\n",
       "<path class=\"cls-12\" d=\"M85.66,199.12c-.23.52-1.06.68-1.81.32s-1.2-1.06-.95-1.59,1.06-.69,1.82-.33,1.21,1.07.94,1.6Zm-1.3-1\">\n",
       "</path>\n",
       "<path class=\"cls-12\" d=\"M90,203.89c-.51.47-1.49.25-2.16-.49a1.61,1.61,0,0,1-.31-2.19c.52-.47,1.47-.25,2.17.49s.82,1.72.3,2.19Zm-1-1.08\">\n",
       "</path>\n",
       "<path class=\"cls-12\" d=\"M94.12,210c-.65.46-1.71,0-2.37-.91s-.64-2.07,0-2.52,1.7,0,2.36.89.65,2.08,0,2.54Zm0,0\"></path>\n",
       "<path class=\"cls-12\" d=\"M99.83,215.87c-.58.64-1.82.47-2.72-.41s-1.18-2.06-.6-2.7,1.83-.46,2.74.41,1.2,2.07.58,2.7Zm0,0\">\n",
       "</path>\n",
       "<path class=\"cls-12\" d=\"M107.71,219.29c-.26.82-1.45,1.2-2.64.85s-2-1.34-1.74-2.17,1.44-1.23,2.65-.85,2,1.32,1.73,2.17Zm0,0\">\n",
       "</path>\n",
       "<path class=\"cls-12\" d=\"M116.36,219.92c0,.87-1,1.59-2.24,1.61s-2.29-.68-2.3-1.54,1-1.59,2.26-1.61,2.28.67,2.28,1.54Zm0,0\">\n",
       "</path>\n",
       "<path class=\"cls-12\" d=\"M124.42,218.55c.15.85-.73,1.72-2,1.95s-2.37-.3-2.52-1.14.73-1.75,2-2,2.37.29,2.53,1.16Zm0,0\"></path>\n",
       "</svg></a>\n",
       "<a aria-label=\"Blog\" class=\"footer-icon\" href=\"https://ncbiinsights.ncbi.nlm.nih.gov/\" id=\"footer_blog\">\n",
       "<svg data-name=\"Layer 1\" id=\"Layer_1\" viewbox=\"0 0 40 40\" xmlns=\"http://www.w3.org/2000/svg\">\n",
       "<defs><style>.cls-1{fill:#737373;}</style></defs>\n",
       "<title>NCBI Insights Blog</title>\n",
       "<path class=\"cls-1\" d=\"M14,30a4,4,0,1,1-4-4,4,4,0,0,1,4,4Zm11,3A19,19,0,0,0,7.05,15a1,1,0,0,0-1,1v3a1,1,0,0,0,.93,1A14,14,0,0,1,20,33.07,1,1,0,0,0,21,34h3a1,1,0,0,0,1-1Zm9,0A28,28,0,0,0,7,6,1,1,0,0,0,6,7v3a1,1,0,0,0,1,1A23,23,0,0,1,29,33a1,1,0,0,0,1,1h3A1,1,0,0,0,34,33Z\"></path>\n",
       "</svg>\n",
       "</a>\n",
       "</div>\n",
       "</div>\n",
       "</section>\n",
       "<section class=\"container-fluid bg-primary\">\n",
       "<div class=\"container pt-5\">\n",
       "<div class=\"row mt-3\">\n",
       "<div class=\"col-lg-3 col-12\">\n",
       "<p><a class=\"text-white\" href=\"https://www.nlm.nih.gov/socialmedia/index.html\">Connect with NLM</a></p>\n",
       "<ul class=\"list-inline social_media\">\n",
       "<li class=\"list-inline-item\"><a aria-label=\"Twitter\" href=\"https://twitter.com/NLM_NIH\" rel=\"noopener noreferrer\" target=\"_blank\"><svg style=\"enable-background:new 0 0 249 249;\" version=\"1.1\" viewbox=\"0 0 249 249\" x=\"0px\" xml:space=\"preserve\" xmlns=\"http://www.w3.org/2000/svg\" xmlns:xlink=\"http://www.w3.org/1999/xlink\" y=\"0px\">\n",
       "<style type=\"text/css\">\n",
       "                        .st20 {\n",
       "                          fill: #FFFFFF;\n",
       "                        }\n",
       "\n",
       "                        .st30 {\n",
       "                          fill: none;\n",
       "                          stroke: #FFFFFF;\n",
       "                          stroke-width: 8;\n",
       "                          stroke-miterlimit: 10;\n",
       "                        }\n",
       "                      </style>\n",
       "<title>Twitter</title>\n",
       "<g>\n",
       "<g>\n",
       "<g>\n",
       "<path class=\"st20\" d=\"M192.9,88.1c-5,2.2-9.2,2.3-13.6,0.1c5.7-3.4,6-5.8,8.1-12.3c-5.4,3.2-11.4,5.5-17.6,6.7                                                 c-10.5-11.2-28.1-11.7-39.2-1.2c-7.2,6.8-10.2,16.9-8,26.5c-22.3-1.1-43.1-11.7-57.2-29C58,91.6,61.8,107.9,74,116                                                 c-4.4-0.1-8.7-1.3-12.6-3.4c0,0.1,0,0.2,0,0.4c0,13.2,9.3,24.6,22.3,27.2c-4.1,1.1-8.4,1.3-12.5,0.5c3.6,11.3,14,19,25.9,19.3                                                 c-11.6,9.1-26.4,13.2-41.1,11.5c12.7,8.1,27.4,12.5,42.5,12.5c51,0,78.9-42.2,78.9-78.9c0-1.2,0-2.4-0.1-3.6                                                 C182.7,97.4,189.2,93.7,192.9,88.1z\"></path>\n",
       "</g>\n",
       "</g>\n",
       "<circle class=\"st30\" cx=\"124.4\" cy=\"128.8\" r=\"108.2\"></circle>\n",
       "</g>\n",
       "</svg></a></li>\n",
       "<li class=\"list-inline-item\"><a aria-label=\"Facebook\" href=\"https://www.facebook.com/nationallibraryofmedicine\" rel=\"noopener noreferrer\" target=\"_blank\">\n",
       "<svg style=\"enable-background:new 0 0 249 249;\" version=\"1.1\" viewbox=\"0 0 249 249\" x=\"0px\" xml:space=\"preserve\" xmlns=\"http://www.w3.org/2000/svg\" xmlns:xlink=\"http://www.w3.org/1999/xlink\" y=\"0px\">\n",
       "<style type=\"text/css\">\n",
       "                        .st10 {\n",
       "                          fill: #FFFFFF;\n",
       "                        }\n",
       "\n",
       "                        .st110 {\n",
       "                          fill: none;\n",
       "                          stroke: #FFFFFF;\n",
       "                          stroke-width: 8;\n",
       "                          stroke-miterlimit: 10;\n",
       "                        }\n",
       "                      </style>\n",
       "<title>Facebook</title>\n",
       "<g>\n",
       "<g>\n",
       "<path class=\"st10\" d=\"M159,99.1h-24V88.4c0-5,3.3-6.2,5.7-6.2h16.8V60l-24.4-0.1c-22.1,0-26.2,16.5-26.2,27.1v12.1H90v22.5h16.9                                                       v67.5H135v-67.5h21.7L159,99.1z\"></path>\n",
       "</g>\n",
       "</g>\n",
       "<circle class=\"st110\" cx=\"123.6\" cy=\"123.2\" r=\"108.2\"></circle>\n",
       "</svg>\n",
       "</a></li>\n",
       "<li class=\"list-inline-item\"><a aria-label=\"Youtube\" href=\"https://www.youtube.com/user/NLMNIH\" rel=\"noopener noreferrer\" target=\"_blank\"><svg style=\"enable-background:new 0 0 249 249;\" version=\"1.1\" viewbox=\"0 0 249 249\" x=\"0px\" xml:space=\"preserve\" xmlns=\"http://www.w3.org/2000/svg\" xmlns:xlink=\"http://www.w3.org/1999/xlink\" y=\"0px\">\n",
       "<title>Youtube</title>\n",
       "<style type=\"text/css\">\n",
       "                        .st4 {\n",
       "                          fill: none;\n",
       "                          stroke: #FFFFFF;\n",
       "                          stroke-width: 8;\n",
       "                          stroke-miterlimit: 10;\n",
       "                        }\n",
       "\n",
       "                        .st5 {\n",
       "                          fill: #FFFFFF;\n",
       "                        }\n",
       "                      </style>\n",
       "<circle class=\"st4\" cx=\"124.2\" cy=\"123.4\" r=\"108.2\"></circle>\n",
       "<g transform=\"translate(0,-952.36218)\">\n",
       "<path class=\"st5\" d=\"M88.4,1037.4c-10.4,0-18.7,8.3-18.7,18.7v40.1c0,10.4,8.3,18.7,18.7,18.7h72.1c10.4,0,18.7-8.3,18.7-18.7                                             v-40.1c0-10.4-8.3-18.7-18.7-18.7H88.4z M115.2,1058.8l29.4,17.4l-29.4,17.4V1058.8z\"></path>\n",
       "</g>\n",
       "</svg></a></li>\n",
       "</ul>\n",
       "</div>\n",
       "<div class=\"col-lg-3 col-12\">\n",
       "<p class=\"address_footer text-white\">National Library of Medicine<br/>\n",
       "<a class=\"text-white\" href=\"https://www.google.com/maps/place/8600+Rockville+Pike,+Bethesda,+MD+20894/@38.9959508,-77.101021,17z/data=!3m1!4b1!4m5!3m4!1s0x89b7c95e25765ddb:0x19156f88b27635b8!8m2!3d38.9959508!4d-77.0988323\" rel=\"noopener noreferrer\" target=\"_blank\">8600 Rockville Pike<br/>\n",
       "\t\t\t\t\t\t\tBethesda, MD 20894</a></p>\n",
       "</div>\n",
       "<div class=\"col-lg-3 col-12 centered-lg\">\n",
       "<p><a class=\"text-white\" href=\"https://www.nlm.nih.gov/web_policies.html\">Web Policies</a><br/>\n",
       "<a class=\"text-white\" href=\"https://www.nih.gov/institutes-nih/nih-office-director/office-communications-public-liaison/freedom-information-act-office\">FOIA</a><br/>\n",
       "<a class=\"text-white\" href=\"https://www.hhs.gov/vulnerability-disclosure-policy/index.html\" id=\"vdp\">HHS Vulnerability Disclosure</a></p>\n",
       "</div>\n",
       "<div class=\"col-lg-3 col-12 centered-lg\">\n",
       "<p><a class=\"supportLink text-white\" href=\"https://support.nlm.nih.gov/\">Help</a><br/>\n",
       "<a class=\"text-white\" href=\"https://www.nlm.nih.gov/accessibility.html\">Accessibility</a><br/>\n",
       "<a class=\"text-white\" href=\"https://www.nlm.nih.gov/careers/careers.html\">Careers</a></p>\n",
       "</div>\n",
       "</div>\n",
       "<div class=\"row\">\n",
       "<div class=\"col-lg-12 centered-lg\">\n",
       "<nav class=\"bottom-links\">\n",
       "<ul class=\"mt-3\">\n",
       "<li>\n",
       "<a class=\"text-white\" href=\"//www.nlm.nih.gov/\">NLM</a>\n",
       "</li>\n",
       "<li>\n",
       "<a class=\"text-white\" href=\"https://www.nih.gov/\">NIH</a>\n",
       "</li>\n",
       "<li>\n",
       "<a class=\"text-white\" href=\"https://www.hhs.gov/\">HHS</a>\n",
       "</li>\n",
       "<li>\n",
       "<a class=\"text-white\" href=\"https://www.usa.gov/\">USA.gov</a>\n",
       "</li>\n",
       "</ul>\n",
       "</nav>\n",
       "</div>\n",
       "</div>\n",
       "</div>\n",
       "</section>\n",
       "<script src=\"/portal/portal3rc.fcgi/rlib/js/InstrumentOmnitureBaseJS/InstrumentNCBIConfigJS/InstrumentNCBIBaseJS/InstrumentPageStarterJS.js?v=1\" type=\"text/javascript\"> </script>\n",
       "<script src=\"/portal/portal3rc.fcgi/static/js/hfjs2.js\" type=\"text/javascript\"> </script>\n",
       "</div>\n",
       "</div>\n",
       "</div>\n",
       "</div>\n",
       "</div>\n",
       "</div>\n",
       "<style type=\"text/css\">body {\n",
       "    min-width: 960px !important;\n",
       "}</style>\n",
       "</body>\n",
       "</html>"
      ]
     },
     "execution_count": 113,
     "metadata": {},
     "output_type": "execute_result"
    }
   ],
   "source": [
    "r.encoding = r.apparent_encoding\n",
    "soup = BeautifulSoup(r.text, 'html.parser')\n",
    "soup"
   ]
  },
  {
   "cell_type": "code",
   "execution_count": 117,
   "metadata": {},
   "outputs": [
    {
     "data": {
      "text/plain": [
       "'[1-9]//d'"
      ]
     },
     "execution_count": 117,
     "metadata": {},
     "output_type": "execute_result"
    }
   ],
   "source": [
    "'[1-9]//d'"
   ]
  },
  {
   "cell_type": "code",
   "execution_count": null,
   "metadata": {},
   "outputs": [],
   "source": [
    "re.search(pattern=, string=, flags=)"
   ]
  },
  {
   "cell_type": "code",
   "execution_count": 119,
   "metadata": {},
   "outputs": [
    {
     "name": "stdout",
     "output_type": "stream",
     "text": [
      "<re.Match object; span=(4, 10), match='100081'>\n"
     ]
    }
   ],
   "source": [
    "match = re.search(r'[1-9]\\d{5}', 'BIT 100081')\n",
    "if match:\n",
    "    print(match)"
   ]
  },
  {
   "cell_type": "code",
   "execution_count": 122,
   "metadata": {},
   "outputs": [],
   "source": [
    "match = re.match(r'[1-9]\\d{5}', 'BIT 100081')\n",
    "if match:\n",
    "    print(match)"
   ]
  },
  {
   "cell_type": "code",
   "execution_count": 124,
   "metadata": {},
   "outputs": [
    {
     "name": "stdout",
     "output_type": "stream",
     "text": [
      "100081\n"
     ]
    }
   ],
   "source": [
    "match = re.match(r'[1-9]\\d{5}', \"100081 BIT\")\n",
    "if match:\n",
    "    print(match.group(0))"
   ]
  },
  {
   "cell_type": "code",
   "execution_count": 125,
   "metadata": {},
   "outputs": [
    {
     "data": {
      "text/plain": [
       "['100081', '100084']"
      ]
     },
     "execution_count": 125,
     "metadata": {},
     "output_type": "execute_result"
    }
   ],
   "source": [
    "re.findall(r'[1-9]\\d{5}', 'BIT100081 TSU100084')"
   ]
  },
  {
   "cell_type": "code",
   "execution_count": 126,
   "metadata": {},
   "outputs": [
    {
     "data": {
      "text/plain": [
       "['BIT', ' TSU', '']"
      ]
     },
     "execution_count": 126,
     "metadata": {},
     "output_type": "execute_result"
    }
   ],
   "source": [
    "re.split(r'[1-9]\\d{5}', 'BIT100081 TSU100084')"
   ]
  },
  {
   "cell_type": "code",
   "execution_count": 127,
   "metadata": {},
   "outputs": [
    {
     "data": {
      "text/plain": [
       "['BIT', ' TSU', '']"
      ]
     },
     "execution_count": 127,
     "metadata": {},
     "output_type": "execute_result"
    }
   ],
   "source": [
    "re.split(r'[1-9]\\d{5}', 'BIT100081 TSU100084', maxsplit=2)"
   ]
  },
  {
   "cell_type": "code",
   "execution_count": 129,
   "metadata": {},
   "outputs": [
    {
     "name": "stdout",
     "output_type": "stream",
     "text": [
      "100081\n",
      "100084\n"
     ]
    }
   ],
   "source": [
    "for i in re.finditer(r'[1-9]\\d{5}', 'BIT100081 TSU100084'):\n",
    "    if i:\n",
    "        print(i.group(0))"
   ]
  },
  {
   "cell_type": "code",
   "execution_count": 130,
   "metadata": {},
   "outputs": [
    {
     "data": {
      "text/plain": [
       "'BIThello TSUhello'"
      ]
     },
     "execution_count": 130,
     "metadata": {},
     "output_type": "execute_result"
    }
   ],
   "source": [
    "re.sub(r'[1-9]\\d{5}', 'hello', 'BIT100081 TSU100084')"
   ]
  },
  {
   "cell_type": "code",
   "execution_count": null,
   "metadata": {},
   "outputs": [],
   "source": []
  }
 ],
 "metadata": {
  "kernelspec": {
   "display_name": "Python 3.8.8 ('base': conda)",
   "language": "python",
   "name": "python3"
  },
  "language_info": {
   "codemirror_mode": {
    "name": "ipython",
    "version": 3
   },
   "file_extension": ".py",
   "mimetype": "text/x-python",
   "name": "python",
   "nbconvert_exporter": "python",
   "pygments_lexer": "ipython3",
   "version": "3.8.8"
  },
  "orig_nbformat": 4,
  "vscode": {
   "interpreter": {
    "hash": "e4c0b1c8e35d9f80793da27c1f09cec2906743a08f4271636815a29bc833a021"
   }
  }
 },
 "nbformat": 4,
 "nbformat_minor": 2
}
