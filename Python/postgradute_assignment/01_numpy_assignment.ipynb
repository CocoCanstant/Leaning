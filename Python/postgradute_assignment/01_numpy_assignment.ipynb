{
 "cells": [
  {
   "cell_type": "markdown",
   "metadata": {},
   "source": [
    "1. 依照课件3中的内容给出测算三角波（triangle_wave（））y1、y2、y3、y4四种方式的计算速度与结果比较的代码，并对其运算显示结果。"
   ]
  },
  {
   "cell_type": "code",
   "execution_count": 1,
   "metadata": {},
   "outputs": [
    {
     "name": "stdout",
     "output_type": "stream",
     "text": [
      "y1 expands 0.0005368550000000027 seconds\n",
      "y2 expands 0.0005988270000010232 seconds\n",
      "y3 expands 0.00023639900000205216 seconds\n",
      "y4 expands 0.00028071799999906943 seconds\n",
      "True\n",
      "True\n",
      "True\n"
     ]
    }
   ],
   "source": [
    "import numpy as np\n",
    "import time\n",
    "\n",
    "# define triangle_wave function\n",
    "def triangle_wave(x, c_tri, c_peak, h_peak):\n",
    "    x = x - int(x) # get fractional part becauce the cycle of triangle wave is 1\n",
    "    if x >= c_tri:\n",
    "        y = 0.0 # y means the value of y axis\n",
    "    elif x < c_peak:\n",
    "        y = x * h_peak / c_peak\n",
    "    else:\n",
    "        y = (x-c_tri) * (h_peak / (c_peak-c_tri))\n",
    "    return y\n",
    "\n",
    "x = np.linspace(0, 2, 1000)\n",
    "# time point 1\n",
    "start_1 = time.perf_counter()\n",
    "y_1 = np.array([triangle_wave(i, 0.6, 0.4, 1.0) for i in x])\n",
    "# time point 2\n",
    "end_1 = time.perf_counter()\n",
    "print(f\"y1 expands {end_1-start_1} seconds\")\n",
    "\n",
    "\n",
    "triangle_ufunc_1 = np.frompyfunc(triangle_wave, 4, 1)\n",
    "# time point 3\n",
    "start_2 = time.perf_counter()\n",
    "y_2 = triangle_ufunc_1(x, 0.6, 0.4, 1.0)\n",
    "# time point 4\n",
    "end_2 = time.perf_counter()\n",
    "print(f\"y2 expands {end_2-start_2} seconds\")\n",
    "\n",
    "\n",
    "triangle_ufunc_2 = np.frompyfunc(lambda x: triangle_wave(x, 0.6, 0.4, 1), 1, 1)\n",
    "# time point 5\n",
    "start_3 = time.perf_counter()\n",
    "y_3 = triangle_ufunc_2(x)\n",
    "# time point 6\n",
    "end_3 = time.perf_counter()\n",
    "print(f\"y3 expands {end_3-start_3} seconds\")\n",
    "\n",
    "\n",
    "triangle_ufunc_3 = np.vectorize(triangle_wave, otypes=[np.float64])\n",
    "# time point 7\n",
    "start_4 = time.perf_counter()\n",
    "y_4 = triangle_ufunc_3(x, 0.6, 0.4, 1.0)\n",
    "end_4 = time.perf_counter()\n",
    "print(f\"y4 expands {end_4-start_4} seconds\")\n",
    "\n",
    "print(np.all(y_1 == y_2))\n",
    "print(np.all(y_2 == y_3))\n",
    "print(np.all(y_3 == y_4))"
   ]
  },
  {
   "cell_type": "markdown",
   "metadata": {},
   "source": [
    "2. arr11 = 5-np.arange(1,13).reshape(4,3), 计算所有元素及每一列的和；  \n",
    "对每一个元素、每一列求累积和；  \n",
    "计算每一行的累计积；  \n",
    "计算所有元素的最小值；  \n",
    "计算每一列的最大值；  \n",
    "计算所有元素、每一行的均值；  \n",
    "计算所有元素、每一列的中位数；  \n",
    "计算所有元素的方差，每一行的标准差。  "
   ]
  },
  {
   "cell_type": "code",
   "execution_count": 2,
   "metadata": {},
   "outputs": [
    {
     "name": "stdout",
     "output_type": "stream",
     "text": [
      "the sum of each column is [ -2  -6 -10]\n",
      "the cumulative sum of each element is [  4   7   9  10  10   9   7   4   0  -5 -11 -18]\n",
      "the cumulative sum of each column is: \n",
      " [[  4   3   2]\n",
      " [  5   3   1]\n",
      " [  3   0  -3]\n",
      " [ -2  -6 -10]]\n",
      "the cumulative product of each row is: \n",
      "[[   4   12   24]\n",
      " [   1    0    0]\n",
      " [  -2    6  -24]\n",
      " [  -5   30 -210]]\n",
      "the min value of all elements is -7\n",
      "the max value of each column is [4 3 2]\n",
      "the mean value of all elements is -1.5\n",
      "the mean value of each row is [ 3.  0. -3. -6.]\n",
      "the median of all elements is -1.5\n",
      "the median of each column is [-0.5 -1.5 -2.5]\n",
      "the variance of all elements is 11.916666666666666\n",
      "the standard deviation of each row is [0.81649658 0.81649658 0.81649658 0.81649658]\n"
     ]
    }
   ],
   "source": [
    "import numpy as np\n",
    "\n",
    "# create data\n",
    "arr_1 = 5 - np.arange(1, 13).reshape(4, 3)\n",
    "\n",
    "# calculate sum of each column\n",
    "print(f\"the sum of each column is {np.sum(arr_1, axis=0)}\")\n",
    "# calculate the cumulative sum of each element\n",
    "print(f\"the cumulative sum of each element is {np.cumsum(arr_1)}\")\n",
    "# calculate the cumulative sum of each column\n",
    "print(f\"the cumulative sum of each column is: \\n {np.cumsum(arr_1, axis=0)}\")\n",
    "# calculate the cumulative product of each row\n",
    "print(f\"the cumulative product of each row is: \\n{np.cumprod(arr_1, axis=1)}\")\n",
    "# calculate min of all elements\n",
    "print(f\"the min value of all elements is {np.min(arr_1)}\")\n",
    "# calculate the max of each column\n",
    "print(f\"the max value of each column is {np.max(arr_1, axis=0)}\")\n",
    "# calculate the average of all elements\n",
    "print(f\"the mean value of all elements is {np.mean(arr_1)}\")\n",
    "# calculate the average of each row\n",
    "print(f\"the mean value of each row is {np.mean(arr_1, axis=1)}\")\n",
    "# calculate the median of all elements\n",
    "print(f\"the median of all elements is {np.median(arr_1)}\")\n",
    "# calcualte the median of each column\n",
    "print(f\"the median of each column is {np.median(arr_1, axis=0)}\")\n",
    "# calculate the variance of all elements\n",
    "print(f\"the variance of all elements is {np.var(arr_1)}\")\n",
    "# calculate the standard deviation of each row\n",
    "print(f\"the standard deviation of each row is {np.std(arr_1, axis=1)}\")"
   ]
  },
  {
   "cell_type": "markdown",
   "metadata": {},
   "source": [
    "3. 在数组[1, 2, 3, 4, 5]中每相邻两个数字中间插入两个0"
   ]
  },
  {
   "cell_type": "code",
   "execution_count": 3,
   "metadata": {},
   "outputs": [
    {
     "name": "stdout",
     "output_type": "stream",
     "text": [
      "[0 0 1 0 0 2 0 0 3 0 0 4 0 0 5]\n"
     ]
    }
   ],
   "source": [
    "arr_2 = np.array([1, 2, 3, 4, 5])\n",
    "\n",
    "for i in range(len(arr_2)):\n",
    "    arr_2 = np.insert(arr_2, np.where(arr_2 == i+1)[0][0], [0, 0])\n",
    "\n",
    "print(arr_2)\n"
   ]
  },
  {
   "cell_type": "markdown",
   "metadata": {},
   "source": [
    "4. 归一化，将矩阵规格化到0～1，即最小的变成0，最大的变成1，最小与最大之间的等比缩放。试对Z = np.random.random((5,5))进行归一化。"
   ]
  },
  {
   "cell_type": "code",
   "execution_count": 4,
   "metadata": {},
   "outputs": [
    {
     "name": "stdout",
     "output_type": "stream",
     "text": [
      "[[0.33911304 0.87412518 1.         0.15854379 0.38122249]\n",
      " [0.2668365  0.70647226 0.04477112 0.         0.87791292]\n",
      " [0.11355699 0.54382964 0.35584635 0.66999999 0.94904989]\n",
      " [0.78396858 0.63934665 0.66972279 0.12357888 0.27952779]\n",
      " [0.73018948 0.27691111 0.67533854 0.37772504 0.89328116]]\n"
     ]
    }
   ],
   "source": [
    "np.random.seed(1026)\n",
    "z = np.random.random((5, 5))\n",
    "\n",
    "def normalization(x):\n",
    "    min_x = np.min(x)\n",
    "    max_x = np.max(x)\n",
    "    result = (x-min_x) / (max_x-min_x)\n",
    "\n",
    "    return result\n",
    "\n",
    "print(normalization(z))"
   ]
  },
  {
   "cell_type": "markdown",
   "metadata": {},
   "source": [
    "5. 找出数组中与给定值最接近的数（通用方法）。（例：任一数组Z=array([[0,1,2,3],[4,5,6,7]])，给任一定值z=5.1，如何找出Z中的5）"
   ]
  },
  {
   "cell_type": "code",
   "execution_count": 5,
   "metadata": {},
   "outputs": [
    {
     "name": "stdout",
     "output_type": "stream",
     "text": [
      "the nearest number of z is 5\n"
     ]
    }
   ],
   "source": [
    "arr_3 = np.array([[0, 1, 2, 3],\n",
    "              [4, 5, 6, 7]])\n",
    "\n",
    "z = 5.1\n",
    "\n",
    "print(f\"the nearest number of z is {arr_3[np.where(np.abs(z-arr_3) == np.min(np.abs(z-arr_3)))][0]}\")"
   ]
  },
  {
   "cell_type": "markdown",
   "metadata": {},
   "source": [
    "6. 解方程：3x + 6y -5z = 12；x-3y+2z = -2；5x -y +4z = 10。"
   ]
  },
  {
   "cell_type": "code",
   "execution_count": 10,
   "metadata": {},
   "outputs": [
    {
     "name": "stdout",
     "output_type": "stream",
     "text": [
      "the x, y, z is [-0.125  -0.4375  2.5625] respectively\n"
     ]
    }
   ],
   "source": [
    "unknown_variable = np.array([[3, 1, 5], [6, -3, -1], [-5, 2, 4]])\n",
    "c = np.array([12, -2, 10])\n",
    "\n",
    "print(f\"the x, y, z is {np.linalg.solve(unknown_variable, c)} respectively\")"
   ]
  },
  {
   "cell_type": "markdown",
   "metadata": {},
   "source": [
    "7. 参见课件4第46页，对g(y)在100个切比雪夫节点之上分別使用Polynomial（Polynomial.fit）和Chebyshev（Chebyshev.fit）进行插值，在[-1,1]区间上取1000个等距点对误差进行比较。g(x)= sin(z**2) + sin(z)**2, 其中z=(x - 1) * 5。"
   ]
  },
  {
   "cell_type": "code",
   "execution_count": 33,
   "metadata": {},
   "outputs": [
    {
     "name": "stdout",
     "output_type": "stream",
     "text": [
      "1.6565258506353713\n",
      "1.6565258506353713\n"
     ]
    }
   ],
   "source": [
    "from numpy.polynomial import Polynomial, Chebyshev\n",
    "\n",
    "def z(x):\n",
    "    return 5*(x-1)\n",
    "\n",
    "def g(x):\n",
    "    return np.sin(x**2) + (np.sin(x)**2)\n",
    "\n",
    "xd = np.linspace(-1, 1, 1000)\n",
    "x_fit = Chebyshev.basis(100).roots()\n",
    "\n",
    "function_1 = Polynomial.fit(x_fit, g(z(x_fit)), 2)\n",
    "function_2 = Chebyshev.fit(x_fit, g(z(x_fit)), 2)\n",
    "\n",
    "print(abs(function_1(xd) - g(z(xd))).max())\n",
    "print(abs(function_2(xd) - g(z(xd))).max())"
   ]
  },
  {
   "cell_type": "markdown",
   "metadata": {},
   "source": [
    "8. 试用bincount()函数替代histogram()函数完成统计男青少年年龄和身高的例子的计算（数据见height.csv）"
   ]
  },
  {
   "cell_type": "code",
   "execution_count": null,
   "metadata": {},
   "outputs": [],
   "source": []
  },
  {
   "cell_type": "markdown",
   "metadata": {},
   "source": [
    "9. 使用二项分布进行赌博计算.  同时抛5枚硬币，如果正面朝上少于3枚，则输掉8元，否则就赢8元。如果手中有1000元作为赌资，请问赌博10000次后可能会是什么情况呢？(参见课件)"
   ]
  },
  {
   "cell_type": "code",
   "execution_count": 45,
   "metadata": {},
   "outputs": [],
   "source": [
    "current_money = np.zeros(10001)\n",
    "current_money[0] = 1000\n",
    "\n",
    "game_condition = np.random.binomial(5, 0.5, 10000)\n",
    "\n",
    "for i in range(len(game_condition)):\n",
    "    if game_condition[i] < 3 and current_money[i] > 0:\n",
    "        current_money[i+1] = current_money[i] -8\n",
    "    elif game_condition[i] >= 3 and current_money[i] > 0:\n",
    "        current_money[i+1] = current_money[i] + 8\n",
    "    else:\n",
    "        raise AssertionError(f\"Without enough money {current_money[i+1]}\")\n",
    "    "
   ]
  },
  {
   "cell_type": "code",
   "execution_count": 49,
   "metadata": {},
   "outputs": [
    {
     "data": {
      "text/plain": [
       "array([[<Axes: title={'center': '0'}>]], dtype=object)"
      ]
     },
     "execution_count": 49,
     "metadata": {},
     "output_type": "execute_result"
    },
    {
     "data": {
      "image/png": "[encoded data removed]",
      "text/plain": [
       "<Figure size 640x480 with 1 Axes>"
      ]
     },
     "metadata": {},
     "output_type": "display_data"
    }
   ],
   "source": [
    "import pandas as pd\n",
    "pd.DataFrame(game_condition).hist()"
   ]
  },
  {
   "cell_type": "code",
   "execution_count": null,
   "metadata": {},
   "outputs": [],
   "source": []
  }
 ],
 "metadata": {
  "kernelspec": {
   "display_name": "ML",
   "language": "python",
   "name": "python3"
  },
  "language_info": {
   "codemirror_mode": {
    "name": "ipython",
    "version": 3
   },
   "file_extension": ".py",
   "mimetype": "text/x-python",
   "name": "python",
   "nbconvert_exporter": "python",
   "pygments_lexer": "ipython3",
   "version": "3.9.16"
  }
 },
 "nbformat": 4,
 "nbformat_minor": 2
}
