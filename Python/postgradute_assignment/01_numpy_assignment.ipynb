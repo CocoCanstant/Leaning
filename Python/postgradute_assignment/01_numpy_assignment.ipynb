{
 "cells": [
  {
   "cell_type": "code",
   "execution_count": 1,
   "metadata": {},
   "outputs": [],
   "source": [
    "import numpy as np\n",
    "\n",
    "# create data\n",
    "arr_1 = 5 - np.arange(1, 13).reshape(4, 3)\n",
    "\n",
    "# calculate sum of each column\n",
    "\n",
    "# calculate sum of each row\n",
    "\n",
    "# calculate min of all elements\n",
    "\n",
    "# calculate the max of each column\n",
    "\n",
    "# calculate the average of all elements\n",
    "\n",
    "# calculate the average of each row\n",
    "\n",
    "# calculate the median of all elements\n",
    "\n",
    "# calcualte the median of each column\n",
    "\n",
    "# "
   ]
  },
  {
   "cell_type": "code",
   "execution_count": null,
   "metadata": {},
   "outputs": [],
   "source": []
  }
 ],
 "metadata": {
  "kernelspec": {
   "display_name": "ML",
   "language": "python",
   "name": "python3"
  },
  "language_info": {
   "codemirror_mode": {
    "name": "ipython",
    "version": 3
   },
   "file_extension": ".py",
   "mimetype": "text/x-python",
   "name": "python",
   "nbconvert_exporter": "python",
   "pygments_lexer": "ipython3",
   "version": "3.9.16"
  }
 },
 "nbformat": 4,
 "nbformat_minor": 2
}
