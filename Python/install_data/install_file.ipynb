{
 "cells": [
  {
   "cell_type": "code",
   "execution_count": 1,
   "metadata": {},
   "outputs": [],
   "source": [
    "import pandas as pd\n",
    "import requests\n",
    "from bs4 import BeautifulSoup"
   ]
  },
  {
   "cell_type": "code",
   "execution_count": 2,
   "metadata": {},
   "outputs": [],
   "source": [
    "data = pd.read_table('taxid10239.nbr', comment='#', header=None, names=[\"Representative\",\"Neighbor\",\"Host\",\"Selected lineage\",\"Taxonomy name\",\"Segment name\"])"
   ]
  },
  {
   "cell_type": "code",
   "execution_count": null,
   "metadata": {},
   "outputs": [],
   "source": [
    "data"
   ]
  },
  {
   "cell_type": "code",
   "execution_count": 49,
   "metadata": {},
   "outputs": [
    {
     "name": "stdout",
     "output_type": "stream",
     "text": [
      "248779\n",
      "248778\n"
     ]
    }
   ],
   "source": [
    "accession = list(set(data['Neighbor']))\n",
    "print(len(accession))\n",
    "\n",
    "accession.pop(235127)\n",
    "print(len(accession))\n"
   ]
  },
  {
   "cell_type": "code",
   "execution_count": 64,
   "metadata": {},
   "outputs": [],
   "source": [
    "def check(segment):\n",
    "    with open('/home/bio_kang/data/virus/download.txt','r') as f: # overlop write\n",
    "        downloads = f.read().strip('\\n').split('\\n')\n",
    "        if set(downloads) > set(segment):\n",
    "            return \"False\"\n",
    "        else:\n",
    "            with open('/home/bio_kang/data/virus/download.txt', 'r+') as k:\n",
    "                url_add = k.read().strip('\\n').split('\\n')\n",
    "                url_add = list(set(downloads))\n",
    "                url_add = url_add + segment\n",
    "            with open('/home/bio_kang/data/virus/download.txt', 'w') as j:\n",
    "                j.write(\"\\n\".join(url_add))\n",
    "            return \"True\" "
   ]
  },
  {
   "cell_type": "markdown",
   "metadata": {},
   "source": [
    "function format"
   ]
  },
  {
   "cell_type": "code",
   "execution_count": null,
   "metadata": {},
   "outputs": [],
   "source": [
    "# Complete code\n",
    "\n",
    "import pandas as pd\n",
    "from bs4 import BeautifulSoup\n",
    "import requests\n",
    "import re\n",
    "\n",
    "\n",
    "# the function is designed to get fasta format information\n",
    "def get_url_info(segment):\n",
    "\n",
    "    # Using requests function get the id from term\n",
    "    term_url = 'https://eutils.ncbi.nlm.nih.gov/entrez/eutils/esearch.fcgi?db=nucleotide&api_key=f7aed0f55f83d46ff0249e3e1830661bef08&term=' + \",\".join(segment)\n",
    "    term_info = requests.get(term_url).text\n",
    "    soup = BeautifulSoup(term_info, 'html.parser')\n",
    "\n",
    "    # get id\n",
    "    accession_id = [k.text for k in soup.find_all('id')]\n",
    "\n",
    "    # get sequencing information from id\n",
    "    fasta_url = 'https://eutils.ncbi.nlm.nih.gov/entrez/eutils/efetch.fcgi?db=nucleotide&rettype=fasta&id={}&api_key=f7aed0f55f83d46ff0249e3e1830661bef08'.format(','.join(accession_id))\n",
    "    fasta_info = requests.get(fasta_url).text\n",
    "    return fasta_info\n",
    "\n",
    "# this function is design to check downloading \n",
    "def check(segment):\n",
    "    with open('/home/bio_kang/data/virus/download.txt','r') as f: # overlop write\n",
    "        downloads = f.read().strip('\\n').split('\\n')\n",
    "        if set(downloads) > set(segment):\n",
    "            return \"False\"\n",
    "        else:\n",
    "            with open('/home/bio_kang/data/virus/download.txt', 'r+') as k:\n",
    "                url_add = k.read().strip('\\n').split('\\n')\n",
    "                url_add = list(set(downloads))\n",
    "                url_add = url_add + segment\n",
    "            with open('/home/bio_kang/data/virus/download.txt', 'w') as j:\n",
    "                j.write(\"\\n\".join(url_add))\n",
    "            return \"True\" \n",
    "\n",
    "\n",
    "# this function is designed to write files\n",
    "def write_file(fasta_info,name_num):\n",
    "    with open(\"/home/bio_kang/data/virus/sequence_{}.fasta\".format(name_num), 'w') as f:\n",
    "        f.write(fasta_info)\n",
    "\n",
    "\n",
    "# read information from taxid10239.nbr file\n",
    "data = pd.read_table('taxid10239.nbr', comment='#', header=None, names=[\"Representative\",\"Neighbor\",\"Host\",\"Selected lineage\",\"Taxonomy name\",\"Segment name\"])\n",
    "\n",
    "# extract 'Neighbor' information\n",
    "accession = list(set(data['Neighbor']))\n",
    "\n",
    "\n",
    "\n",
    "for i in range(1,12440):\n",
    "    segment = accession[(i-1)*20:i*20]\n",
    "    try:\n",
    "        if check(segment) == 'True':\n",
    "            fasta_info = get_url_info(segment)\n",
    "            write_file(fasta_info, i)\n",
    "        else:\n",
    "            continue\n",
    "    except:\n",
    "        continue"
   ]
  },
  {
   "cell_type": "code",
   "execution_count": 67,
   "metadata": {},
   "outputs": [
    {
     "data": {
      "text/plain": [
       "248778"
      ]
     },
     "execution_count": 67,
     "metadata": {},
     "output_type": "execute_result"
    }
   ],
   "source": [
    "len(accession)"
   ]
  },
  {
   "cell_type": "code",
   "execution_count": null,
   "metadata": {},
   "outputs": [],
   "source": [
    "# Complete code\n",
    "\n",
    "import pandas as pd\n",
    "from bs4 import BeautifulSoup\n",
    "import requests\n",
    "\n",
    "data = pd.read_table('/home/bio_kang/Learning/Python/requests/taxid10239.nbr', comment='#', header=None, names=[\"Representative\",\"Neighbor\",\"Host\",\"Selected lineage\",\"Taxonomy name\",\"Segment name\"]) # get information\n",
    "\n",
    "accession = list(data['Neighbor']) # extract 'Neighbor' information\n",
    "\n",
    "# Becauce the RetMax is 20, I slices their length with 20 and the last length is 13\n",
    "for i in range(13050):\n",
    "    segment = accession[i*20:(i+1)*20]\n",
    "\n",
    "    # Using requests function get the id of term\n",
    "    term_url = 'https://eutils.ncbi.nlm.nih.gov/entrez/eutils/esearch.fcgi?db=nucleotide&api_key=f7aed0f55f83d46ff0249e3e1830661bef08&term=' + \",\".join(segment)\n",
    "    term_info = requests.get(term_url).text\n",
    "    soup = BeautifulSoup(term_info, 'html.parser')\n",
    "\n",
    "    accession_id = [k.text for k in soup.find_all('id')] # get id\n",
    "\n",
    "    # get sequencing information from id\n",
    "    fasta_url = 'https://eutils.ncbi.nlm.nih.gov/entrez/eutils/efetch.fcgi?db=nucleotide&rettype=fasta&id={}&api_key=f7aed0f55f83d46ff0249e3e1830661bef08'.format(','.join(accession_id))\n",
    "    fasta_info = requests.get(fasta_url).text\n",
    "\n",
    "    # get fasta file\n",
    "    with open(\"/home/bio_kang/Learning/Python/requests/data/sequence_{}.fasta\".format(i), 'w') as f:\n",
    "        f.write(fasta_info)\n"
   ]
  },
  {
   "cell_type": "markdown",
   "metadata": {},
   "source": [
    "check processes"
   ]
  },
  {
   "cell_type": "code",
   "execution_count": null,
   "metadata": {},
   "outputs": [],
   "source": [
    "renew = []\n",
    "with open('/home/bio_kang/data/virus_data/complement_data/omitted') as f:\n",
    "    omitted_info_set = f.read().split('\\n')\n",
    "    omitted_info_set.pop(-1)\n",
    "for omitted_info in omitted_info_set:\n",
    "    pattern = re.compile(r'\\d+')\n",
    "    renew = renew + re.findall(pattern,omitted_info)\n",
    "\n",
    "omitted = []\n",
    "for num in renew:\n",
    "    omitted = omitted + accession[(int(num)-1)*20:int(num)*20]\n",
    "\n",
    "omitted.pop(25) # delete NCBI_GENOMES\n",
    "\n",
    "for num in range(20):\n",
    "    term_url = 'https://eutils.ncbi.nlm.nih.gov/entrez/eutils/esearch.fcgi?db=nucleotide&api_key=bb9bbede507a3504dc8923c13b4e94080c08&term=' + ','.join(omitted[num*20: (num+1)*20])\n",
    "    term_info = requests.get(term_url).text\n",
    "    soup = BeautifulSoup(term_info, 'html.parser')\n",
    "\n",
    "    accession_id = [k.text for k in soup.find_all('id')]\n",
    "\n",
    "    fasta_url = 'https://eutils.ncbi.nlm.nih.gov/entrez/eutils/efetch.fcgi?db=nucleotide&rettype=fasta&id={}&api_key=bb9bbede507a3504dc8923c13b4e94080c08'.format(','.join(accession_id))\n",
    "    fasta_info = requests.get(fasta_url).text\n",
    "\n",
    "    with open('/home/bio_kang/data/virus_data/complement_data/complement_{}.fasta'.format(num), 'w') as f:\n",
    "        f.write(fasta_info)"
   ]
  },
  {
   "cell_type": "code",
   "execution_count": null,
   "metadata": {},
   "outputs": [],
   "source": []
  },
  {
   "cell_type": "markdown",
   "metadata": {},
   "source": []
  },
  {
   "cell_type": "code",
   "execution_count": 81,
   "metadata": {},
   "outputs": [
    {
     "name": "stdout",
     "output_type": "stream",
     "text": [
      "[<id>146230032</id>]\n"
     ]
    }
   ],
   "source": [
    "seg = 'EF537008'\n",
    "term_url = 'https://eutils.ncbi.nlm.nih.gov/entrez/eutils/esearch.fcgi?db=nucleotide&api_key=bb9bbede507a3504dc8923c13b4e94080c08&term=' + seg\n",
    "term_info = requests.get(term_url).text\n",
    "soup = BeautifulSoup(term_info, 'html.parser')\n",
    "id = soup.find_all('id')\n",
    "print(id)"
   ]
  },
  {
   "cell_type": "code",
   "execution_count": 47,
   "metadata": {},
   "outputs": [
    {
     "name": "stdout",
     "output_type": "stream",
     "text": [
      "<re.Match object; span=(31, 50), match='sequence_3307.fasta'>\n"
     ]
    }
   ],
   "source": [
    "import re\n",
    "pattern = re.compile(r'[a-z]{8}_\\d+.\\w{5}')\n",
    "ls = re.search(pattern,'/home/bio_kang/data/virus_data/sequence_3307.fasta')\n",
    "print(ls)"
   ]
  },
  {
   "cell_type": "code",
   "execution_count": 70,
   "metadata": {},
   "outputs": [],
   "source": [
    "term_url = 'https://eutils.ncbi.nlm.nih.gov/entrez/eutils/esearch.fcgi?db=nucleotide&api_key=bb9bbede507a3504dc8923c13b4e94080c08&term=' + \"NCBI_GENOMES\"\n",
    "term_info = requests.get(term_url).text\n",
    "pattern = re.compile(r'\\d{10}')\n",
    "id = re.findall(pattern, term_info)\n",
    "fasta_url = 'https://eutils.ncbi.nlm.nih.gov/entrez/eutils/efetch.fcgi?db=nucleotide&rettype=fasta&id={}&api_key=bb9bbede507a3504dc8923c13b4e94080c08'.format(','.join(id))\n",
    "fasta_info = requests.get(fasta_url).text\n",
    "with open('/home/bio_kang/data/virus_data/complement_data/NCBI_GENOMES', 'w') as f:\n",
    "    f.write(fasta_info)"
   ]
  },
  {
   "cell_type": "code",
   "execution_count": 5,
   "metadata": {},
   "outputs": [
    {
     "name": "stdout",
     "output_type": "stream",
     "text": [
      "['10884', '11093', '11185', '11445', '11561', '11562', '12163', '12252', '12456', '12475', '12569', '12572', '12607', '12833', '12850', '12913', '12974', '12996', '13001', '13004', '3210', '3307', '5224', '5851']\n"
     ]
    }
   ],
   "source": [
    "with open('/home/bio_kang/data/virus_data/complement_data/omitted_num', 'r') as f:\n",
    "    omitted_info = f.read().strip('\\n').split('\\n')\n",
    "    print(omitted_info)"
   ]
  },
  {
   "cell_type": "code",
   "execution_count": 40,
   "metadata": {},
   "outputs": [
    {
     "name": "stdout",
     "output_type": "stream",
     "text": [
      "set()\n",
      "{'EF065516', 'MF618252', 'HM211098', 'MT337384', 'MF618253', 'HM211101', 'AF207902', 'FJ647221', 'KF268336', 'FJ884687', 'EF065515', 'KP887098', 'MG762674', 'EF065513', 'HM211100', 'FJ647218', 'JF792617', 'NCBI_GENOMES', 'FJ647225', 'EF065514'}\n",
      "set()\n",
      "set()\n",
      "set()\n",
      "set()\n",
      "set()\n",
      "set()\n",
      "set()\n",
      "set()\n",
      "set()\n",
      "set()\n",
      "set()\n",
      "set()\n",
      "set()\n",
      "set()\n",
      "set()\n",
      "set()\n",
      "set()\n",
      "set()\n",
      "{'KF550407', 'MF795136', 'MN059372', 'MN059348', 'MN059368', 'MN059370', 'MN059347', 'KR819505', 'MN059386', 'MN059369', 'MN059343', 'MN059366', 'MN059357', 'MN059338', 'MN059350', 'MT731500', 'MN059355', 'MN059351', 'MN059362', 'MN059384'}\n",
      "{'KM607358', 'KM607428', 'KM607395', 'KX979912', 'KM607324', 'KM607438', 'MT433357', 'KM607296', 'KM607318', 'KM607343', 'KM607411', 'KM607295', 'KM607310', 'KM607394', 'KM607435', 'KM607386', 'L41577', 'KU759876', 'KY434064', 'KM607317'}\n",
      "{'KR705240', 'KT920921', 'KP188803', 'KJ753540', 'FJ206205', 'MG181937', 'EF554099', 'MG181750', 'JX040426', 'MF161622', 'KT919244', 'KM434193', 'KJ627144', 'KJ482261', 'KC579909', 'KT988191', 'KP753196', 'KJ627030', 'MF161811', 'JF796707'}\n",
      "{'KJ870859', 'KX356112', 'KU048642', 'FR822306', 'KU243691', 'HE646657', 'JX273714', 'MK852645', 'LC172363', 'DQ377585', 'KT365154', 'GQ996904', 'AY274303', 'KU291322', 'EF694224', 'EU033981', 'DQ515961', 'KR262052', 'LN612510', 'KC579613'}\n"
     ]
    }
   ],
   "source": [
    "import re\n",
    "for num in omitted_info:\n",
    "    with open('/home/bio_kang/data/virus_data/sequence_{}.fasta'.format(num), 'r') as f:\n",
    "        down_info = f.read()\n",
    "    pattern = re.compile(r'>(\\w{1,2}\\d+)')\n",
    "    down_term = re.findall(pattern, down_info)\n",
    "    num = int(num)\n",
    "    print(set(accession[(num-1)*20: num*20]) - set(down_term))\n"
   ]
  },
  {
   "cell_type": "code",
   "execution_count": null,
   "metadata": {},
   "outputs": [],
   "source": [
    "accession[11093*20: 11094*20]"
   ]
  },
  {
   "cell_type": "code",
   "execution_count": 16,
   "metadata": {},
   "outputs": [
    {
     "name": "stdout",
     "output_type": "stream",
     "text": [
      "https://eutils.ncbi.nlm.nih.gov/entrez/eutils/esearch.fcgi?db=nucleotide&term=HM211099,MH002339,EF065505,EF065508,MH002337,EF065506,EF065507,DQ648794,MW218395,MH002338,KJ473822,MH002340,EF065509,EF065510,MH002342,KJ473820,EF065512,EF065511,MH002341,AY545914\n"
     ]
    }
   ],
   "source": [
    "url = 'https://eutils.ncbi.nlm.nih.gov/entrez/eutils/esearch.fcgi?db=nucleotide&term={}'.format(','.join(accession[11093*20:11094*20]))\n",
    "print(url)"
   ]
  },
  {
   "cell_type": "code",
   "execution_count": 27,
   "metadata": {},
   "outputs": [
    {
     "name": "stdout",
     "output_type": "stream",
     "text": [
      "['EF537008', 'AB300379', 'LC432343', 'LC573905', 'LC573907', 'LC573906', 'KF861773', 'KF861768', 'KF861767', 'KF861769', 'KJ830761', 'MW848534', 'KJ830760', 'EF589670', 'KJ544560', 'MN059098', 'AJ316085', 'AB304848', 'KJ544560', 'MN059098']\n",
      "[]\n"
     ]
    }
   ],
   "source": [
    "train = accession[10883*20:10884*20]\n",
    "print(train)\n",
    "down_train = ['EF537008', 'AB300379', 'LC432343', 'LC573905', 'LC573907', 'LC573906', 'KF861773', 'KF861768', 'KF861767', 'KF861769', 'KJ830761', 'MW848534', 'KJ830760', 'EF589670', 'KJ544560', 'MN059098', 'AJ316085', 'AB304848']\n",
    "\n",
    "\n",
    "\n"
   ]
  },
  {
   "cell_type": "code",
   "execution_count": null,
   "metadata": {},
   "outputs": [],
   "source": []
  }
 ],
 "metadata": {
  "kernelspec": {
   "display_name": "base",
   "language": "python",
   "name": "python3"
  },
  "language_info": {
   "codemirror_mode": {
    "name": "ipython",
    "version": 3
   },
   "file_extension": ".py",
   "mimetype": "text/x-python",
   "name": "python",
   "nbconvert_exporter": "python",
   "pygments_lexer": "ipython3",
   "version": "3.8.8"
  },
  "orig_nbformat": 4,
  "vscode": {
   "interpreter": {
    "hash": "eace1a3d2d18dcb98353cfeb529f20792ec64dcc10ba0bdd358326e3f660811b"
   }
  }
 },
 "nbformat": 4,
 "nbformat_minor": 2
}
