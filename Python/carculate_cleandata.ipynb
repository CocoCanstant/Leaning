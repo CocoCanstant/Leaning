{
 "cells": [
  {
   "cell_type": "code",
   "execution_count": 1,
   "metadata": {},
   "outputs": [],
   "source": [
    "import pandas as pd\n",
    "data = pd.read_table('/home/ouconstand/0_99_processing.txt',sep=' ')"
   ]
  },
  {
   "cell_type": "code",
   "execution_count": 2,
   "metadata": {},
   "outputs": [],
   "source": [
    "data.columns = ['Name', 'Length']"
   ]
  },
  {
   "cell_type": "code",
   "execution_count": 3,
   "metadata": {},
   "outputs": [],
   "source": [
    "def calculate_clean(data):\n",
    "    total = 0\n",
    "    for i in data:\n",
    "        total += i\n",
    "    return(total/1000000000)"
   ]
  },
  {
   "cell_type": "code",
   "execution_count": 4,
   "metadata": {},
   "outputs": [],
   "source": [
    "train = data.groupby('Name').aggregate(calculate_clean)"
   ]
  },
  {
   "cell_type": "code",
   "execution_count": 5,
   "metadata": {},
   "outputs": [
    {
     "data": {
      "text/html": [
       "<div>\n",
       "<style scoped>\n",
       "    .dataframe tbody tr th:only-of-type {\n",
       "        vertical-align: middle;\n",
       "    }\n",
       "\n",
       "    .dataframe tbody tr th {\n",
       "        vertical-align: top;\n",
       "    }\n",
       "\n",
       "    .dataframe thead th {\n",
       "        text-align: right;\n",
       "    }\n",
       "</style>\n",
       "<table border=\"1\" class=\"dataframe\">\n",
       "  <thead>\n",
       "    <tr style=\"text-align: right;\">\n",
       "      <th></th>\n",
       "      <th>Length</th>\n",
       "    </tr>\n",
       "    <tr>\n",
       "      <th>Name</th>\n",
       "      <th></th>\n",
       "    </tr>\n",
       "  </thead>\n",
       "  <tbody>\n",
       "    <tr>\n",
       "      <th>A100R_1_2022-12-15</th>\n",
       "      <td>0.462913</td>\n",
       "    </tr>\n",
       "    <tr>\n",
       "      <th>A100R_1_2023-01-03</th>\n",
       "      <td>0.340460</td>\n",
       "    </tr>\n",
       "    <tr>\n",
       "      <th>A101R_1_2022-12-15</th>\n",
       "      <td>3.591393</td>\n",
       "    </tr>\n",
       "    <tr>\n",
       "      <th>A101R_1_2023-01-03</th>\n",
       "      <td>2.097212</td>\n",
       "    </tr>\n",
       "    <tr>\n",
       "      <th>A102R_1_2022-12-15</th>\n",
       "      <td>2.924178</td>\n",
       "    </tr>\n",
       "    <tr>\n",
       "      <th>...</th>\n",
       "      <td>...</td>\n",
       "    </tr>\n",
       "    <tr>\n",
       "      <th>A97R_1_2022-12-15</th>\n",
       "      <td>4.031296</td>\n",
       "    </tr>\n",
       "    <tr>\n",
       "      <th>A97R_1_2023-01-03</th>\n",
       "      <td>1.312177</td>\n",
       "    </tr>\n",
       "    <tr>\n",
       "      <th>A98R_1_2022-12-15</th>\n",
       "      <td>2.903894</td>\n",
       "    </tr>\n",
       "    <tr>\n",
       "      <th>A98R_1_2023-01-03</th>\n",
       "      <td>1.529736</td>\n",
       "    </tr>\n",
       "    <tr>\n",
       "      <th>A99R_1_2022-12-15</th>\n",
       "      <td>2.828147</td>\n",
       "    </tr>\n",
       "  </tbody>\n",
       "</table>\n",
       "<p>99 rows × 1 columns</p>\n",
       "</div>"
      ],
      "text/plain": [
       "                      Length\n",
       "Name                        \n",
       "A100R_1_2022-12-15  0.462913\n",
       "A100R_1_2023-01-03  0.340460\n",
       "A101R_1_2022-12-15  3.591393\n",
       "A101R_1_2023-01-03  2.097212\n",
       "A102R_1_2022-12-15  2.924178\n",
       "...                      ...\n",
       "A97R_1_2022-12-15   4.031296\n",
       "A97R_1_2023-01-03   1.312177\n",
       "A98R_1_2022-12-15   2.903894\n",
       "A98R_1_2023-01-03   1.529736\n",
       "A99R_1_2022-12-15   2.828147\n",
       "\n",
       "[99 rows x 1 columns]"
      ]
     },
     "execution_count": 5,
     "metadata": {},
     "output_type": "execute_result"
    }
   ],
   "source": [
    "train"
   ]
  },
  {
   "cell_type": "code",
   "execution_count": null,
   "metadata": {},
   "outputs": [],
   "source": []
  }
 ],
 "metadata": {
  "kernelspec": {
   "display_name": "base",
   "language": "python",
   "name": "python3"
  },
  "language_info": {
   "codemirror_mode": {
    "name": "ipython",
    "version": 3
   },
   "file_extension": ".py",
   "mimetype": "text/x-python",
   "name": "python",
   "nbconvert_exporter": "python",
   "pygments_lexer": "ipython3",
   "version": "3.8.8 (default, Apr 13 2021, 19:58:26) \n[GCC 7.3.0]"
  },
  "orig_nbformat": 4,
  "vscode": {
   "interpreter": {
    "hash": "eace1a3d2d18dcb98353cfeb529f20792ec64dcc10ba0bdd358326e3f660811b"
   }
  }
 },
 "nbformat": 4,
 "nbformat_minor": 2
}
