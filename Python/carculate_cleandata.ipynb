{
 "cells": [
  {
   "cell_type": "code",
   "execution_count": 48,
   "metadata": {},
   "outputs": [],
   "source": [
    "import pandas as pd\n",
    "data = pd.read_table('/home/ouconstand/process_clean_data.txt',sep=' ')"
   ]
  },
  {
   "cell_type": "code",
   "execution_count": 49,
   "metadata": {},
   "outputs": [],
   "source": [
    "data.columns = ['Path', 'Clean_Size(GB)']"
   ]
  },
  {
   "cell_type": "code",
   "execution_count": 50,
   "metadata": {},
   "outputs": [],
   "source": [
    "def calculate_clean(data):\n",
    "    total = 0\n",
    "    for i in data:\n",
    "        total += i\n",
    "    return(round(total/1000000000, 2))"
   ]
  },
  {
   "cell_type": "code",
   "execution_count": 51,
   "metadata": {},
   "outputs": [],
   "source": [
    "train = data.groupby('Path').aggregate(calculate_clean)"
   ]
  },
  {
   "cell_type": "code",
   "execution_count": 52,
   "metadata": {},
   "outputs": [
    {
     "data": {
      "text/html": [
       "<div>\n",
       "<style scoped>\n",
       "    .dataframe tbody tr th:only-of-type {\n",
       "        vertical-align: middle;\n",
       "    }\n",
       "\n",
       "    .dataframe tbody tr th {\n",
       "        vertical-align: top;\n",
       "    }\n",
       "\n",
       "    .dataframe thead th {\n",
       "        text-align: right;\n",
       "    }\n",
       "</style>\n",
       "<table border=\"1\" class=\"dataframe\">\n",
       "  <thead>\n",
       "    <tr style=\"text-align: right;\">\n",
       "      <th></th>\n",
       "      <th>Path</th>\n",
       "      <th>Clean_Size(GB)</th>\n",
       "    </tr>\n",
       "  </thead>\n",
       "  <tbody>\n",
       "    <tr>\n",
       "      <th>0</th>\n",
       "      <td>/jdfssz1/ST_HEALTH/P20Z10200N0206/ouyangkang/f...</td>\n",
       "      <td>0.46</td>\n",
       "    </tr>\n",
       "    <tr>\n",
       "      <th>1</th>\n",
       "      <td>/jdfssz1/ST_HEALTH/P20Z10200N0206/ouyangkang/f...</td>\n",
       "      <td>0.34</td>\n",
       "    </tr>\n",
       "    <tr>\n",
       "      <th>2</th>\n",
       "      <td>/jdfssz1/ST_HEALTH/P20Z10200N0206/ouyangkang/f...</td>\n",
       "      <td>3.59</td>\n",
       "    </tr>\n",
       "    <tr>\n",
       "      <th>3</th>\n",
       "      <td>/jdfssz1/ST_HEALTH/P20Z10200N0206/ouyangkang/f...</td>\n",
       "      <td>2.10</td>\n",
       "    </tr>\n",
       "    <tr>\n",
       "      <th>4</th>\n",
       "      <td>/jdfssz1/ST_HEALTH/P20Z10200N0206/ouyangkang/f...</td>\n",
       "      <td>2.92</td>\n",
       "    </tr>\n",
       "    <tr>\n",
       "      <th>...</th>\n",
       "      <td>...</td>\n",
       "      <td>...</td>\n",
       "    </tr>\n",
       "    <tr>\n",
       "      <th>967</th>\n",
       "      <td>/jdfssz1/ST_HEALTH/P20Z10200N0206/ouyangkang/f...</td>\n",
       "      <td>19.39</td>\n",
       "    </tr>\n",
       "    <tr>\n",
       "      <th>968</th>\n",
       "      <td>/jdfssz1/ST_HEALTH/P20Z10200N0206/ouyangkang/f...</td>\n",
       "      <td>30.73</td>\n",
       "    </tr>\n",
       "    <tr>\n",
       "      <th>969</th>\n",
       "      <td>/jdfssz1/ST_HEALTH/P20Z10200N0206/ouyangkang/f...</td>\n",
       "      <td>27.41</td>\n",
       "    </tr>\n",
       "    <tr>\n",
       "      <th>970</th>\n",
       "      <td>/jdfssz1/ST_HEALTH/P20Z10200N0206/ouyangkang/f...</td>\n",
       "      <td>9.81</td>\n",
       "    </tr>\n",
       "    <tr>\n",
       "      <th>971</th>\n",
       "      <td>/jdfssz1/ST_HEALTH/P20Z10200N0206/ouyangkang/f...</td>\n",
       "      <td>0.35</td>\n",
       "    </tr>\n",
       "  </tbody>\n",
       "</table>\n",
       "<p>972 rows × 2 columns</p>\n",
       "</div>"
      ],
      "text/plain": [
       "                                                  Path  Clean_Size(GB)\n",
       "0    /jdfssz1/ST_HEALTH/P20Z10200N0206/ouyangkang/f...            0.46\n",
       "1    /jdfssz1/ST_HEALTH/P20Z10200N0206/ouyangkang/f...            0.34\n",
       "2    /jdfssz1/ST_HEALTH/P20Z10200N0206/ouyangkang/f...            3.59\n",
       "3    /jdfssz1/ST_HEALTH/P20Z10200N0206/ouyangkang/f...            2.10\n",
       "4    /jdfssz1/ST_HEALTH/P20Z10200N0206/ouyangkang/f...            2.92\n",
       "..                                                 ...             ...\n",
       "967  /jdfssz1/ST_HEALTH/P20Z10200N0206/ouyangkang/f...           19.39\n",
       "968  /jdfssz1/ST_HEALTH/P20Z10200N0206/ouyangkang/f...           30.73\n",
       "969  /jdfssz1/ST_HEALTH/P20Z10200N0206/ouyangkang/f...           27.41\n",
       "970  /jdfssz1/ST_HEALTH/P20Z10200N0206/ouyangkang/f...            9.81\n",
       "971  /jdfssz1/ST_HEALTH/P20Z10200N0206/ouyangkang/f...            0.35\n",
       "\n",
       "[972 rows x 2 columns]"
      ]
     },
     "execution_count": 52,
     "metadata": {},
     "output_type": "execute_result"
    }
   ],
   "source": [
    "train = train.reset_index()\n",
    "train"
   ]
  },
  {
   "cell_type": "code",
   "execution_count": 53,
   "metadata": {},
   "outputs": [],
   "source": [
    "train['Dir_name'] = [i.split('/')[-1] for i in train['Path']]"
   ]
  },
  {
   "cell_type": "code",
   "execution_count": 88,
   "metadata": {},
   "outputs": [],
   "source": [
    "average_read = pd.read_table('/home/ouconstand/clean_r1_r2.txt', header=None)\n",
    "average_read.columns = ['All']"
   ]
  },
  {
   "cell_type": "code",
   "execution_count": 89,
   "metadata": {},
   "outputs": [],
   "source": [
    "train['Read_2'] = [i.split()[-1] for i in average_read['All'] if 'r2' in i]"
   ]
  },
  {
   "cell_type": "code",
   "execution_count": 90,
   "metadata": {},
   "outputs": [],
   "source": [
    "train['Read_1'] = [i.split()[-1] for i in average_read['All'] if 'r1' in i]"
   ]
  },
  {
   "cell_type": "code",
   "execution_count": 54,
   "metadata": {},
   "outputs": [],
   "source": [
    "train.to_csv('/home/ouconstand/Path_cleandata_size.csv',index=None)"
   ]
  },
  {
   "cell_type": "code",
   "execution_count": 91,
   "metadata": {},
   "outputs": [],
   "source": [
    "raw_data = pd.read_csv('/mnt/c/Users/ouyangkang/Desktop/WIV_Rawdata_list1_to_OYK.csv')"
   ]
  },
  {
   "cell_type": "code",
   "execution_count": 92,
   "metadata": {},
   "outputs": [],
   "source": [
    "raw_data['Dir_name'] = [i.split('/')[-2]+\"_1_20\"+i.split('/')[-1][0:2]+\"-\"+i.split('/')[-1][2:4]+\"-\"+i.split('/')[-1][4:6] for i in raw_data['Path']]\n",
    "raw_data = raw_data.drop('Path',axis=1)"
   ]
  },
  {
   "cell_type": "code",
   "execution_count": 93,
   "metadata": {},
   "outputs": [],
   "source": [
    "new_data = pd.merge(raw_data, train, how='inner', on=\"Dir_name\")"
   ]
  },
  {
   "cell_type": "code",
   "execution_count": 94,
   "metadata": {},
   "outputs": [],
   "source": [
    "new_data['Ratio'] = [round(i/k,2) for k,i in zip(new_data['Base_num(GB)'],new_data['Clean_Size(GB)'])]"
   ]
  },
  {
   "cell_type": "code",
   "execution_count": 96,
   "metadata": {},
   "outputs": [],
   "source": [
    "new_data.to_csv('/mnt/c/Users/ouyangkang/Desktop/Current_statistic_cleandata.csv',index=None)"
   ]
  },
  {
   "cell_type": "code",
   "execution_count": null,
   "metadata": {},
   "outputs": [],
   "source": []
  }
 ],
 "metadata": {
  "kernelspec": {
   "display_name": "base",
   "language": "python",
   "name": "python3"
  },
  "language_info": {
   "codemirror_mode": {
    "name": "ipython",
    "version": 3
   },
   "file_extension": ".py",
   "mimetype": "text/x-python",
   "name": "python",
   "nbconvert_exporter": "python",
   "pygments_lexer": "ipython3",
   "version": "3.8.8"
  },
  "orig_nbformat": 4,
  "vscode": {
   "interpreter": {
    "hash": "eace1a3d2d18dcb98353cfeb529f20792ec64dcc10ba0bdd358326e3f660811b"
   }
  }
 },
 "nbformat": 4,
 "nbformat_minor": 2
}
