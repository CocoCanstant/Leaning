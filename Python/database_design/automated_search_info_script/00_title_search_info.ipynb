{
 "cells": [
  {
   "cell_type": "code",
   "execution_count": 77,
   "metadata": {},
   "outputs": [],
   "source": [
    "# import necessary packages\n",
    "import requests\n",
    "from bs4 import BeautifulSoup\n",
    "import re"
   ]
  },
  {
   "cell_type": "code",
   "execution_count": 24,
   "metadata": {},
   "outputs": [],
   "source": [
    "# related infomation\n",
    "API_KEY = \"59cbd6ff6b3ce5d506f0eeb69e4e09362409\"\n",
    "query = \"Two subsets of stem-like CD8+ memory T cell progenitors with distinct fate commitments in humans\"\n",
    "database = \"pubmed\"\n",
    "# use e-search for matching UIDs\n",
    "search_url = f\"https://eutils.ncbi.nlm.nih.gov/entrez/eutils/esearch.fcgi?db=pubmed&api_key={API_KEY}&term={query}\""
   ]
  },
  {
   "cell_type": "code",
   "execution_count": 25,
   "metadata": {},
   "outputs": [
    {
     "data": {
      "text/plain": [
       "'https://eutils.ncbi.nlm.nih.gov/entrez/eutils/esearch.fcgi?db=pubmed&api_key=59cbd6ff6b3ce5d506f0eeb69e4e09362409&term=Two subsets of stem-like CD8+ memory T cell progenitors with distinct fate commitments in humans'"
      ]
     },
     "execution_count": 25,
     "metadata": {},
     "output_type": "execute_result"
    }
   ],
   "source": [
    "search_url"
   ]
  },
  {
   "cell_type": "code",
   "execution_count": 30,
   "metadata": {},
   "outputs": [
    {
     "data": {
      "text/plain": [
       "'33046887'"
      ]
     },
     "execution_count": 30,
     "metadata": {},
     "output_type": "execute_result"
    }
   ],
   "source": [
    "BeautifulSoup(requests.get(search_url).text, 'html.parser').find_all('id')[0].text"
   ]
  },
  {
   "cell_type": "code",
   "execution_count": 74,
   "metadata": {},
   "outputs": [],
   "source": [
    "search_id = 33046887\n",
    "fetch_url = f\"https://eutils.ncbi.nlm.nih.gov/entrez/eutils/efetch.fcgi?db=pubmed&id={search_id}&api_key={API_KEY}&rettype=medline&retmode=text\"\n",
    "detailed_info = BeautifulSoup(requests.get(fetch_url).text, 'html.parser')"
   ]
  },
  {
   "cell_type": "code",
   "execution_count": 75,
   "metadata": {},
   "outputs": [
    {
     "data": {
      "text/plain": [
       "\n",
       "PMID- 33046887\n",
       "OWN - NLM\n",
       "STAT- MEDLINE\n",
       "DCOM- 20210215\n",
       "LR  - 20220129\n",
       "IS  - 1529-2916 (Electronic)\n",
       "IS  - 1529-2908 (Print)\n",
       "IS  - 1529-2908 (Linking)\n",
       "VI  - 21\n",
       "IP  - 12\n",
       "DP  - 2020 Dec\n",
       "TI  - Two subsets of stem-like CD8(+) memory T cell progenitors with distinct fate \n",
       "      commitments in humans.\n",
       "PG  - 1552-1562\n",
       "LID - 10.1038/s41590-020-0791-5 [doi]\n",
       "AB  - T cell memory relies on the generation of antigen-specific progenitors with \n",
       "      stem-like properties. However, the identity of these progenitors has remained \n",
       "      unclear, precluding a full understanding of the differentiation trajectories that \n",
       "      underpin the heterogeneity of antigen-experienced T cells. We used a systematic \n",
       "      approach guided by single-cell RNA-sequencing data to map the organizational \n",
       "      structure of the human CD8(+) memory T cell pool under physiological conditions. \n",
       "      We identified two previously unrecognized subsets of clonally, epigenetically, \n",
       "      functionally, phenotypically and transcriptionally distinct stem-like CD8(+) \n",
       "      memory T cells. Progenitors lacking the inhibitory receptors programmed death-1 \n",
       "      (PD-1) and T cell immunoreceptor with Ig and ITIM domains (TIGIT) were committed \n",
       "      to a functional lineage, whereas progenitors expressing PD-1 and TIGIT were \n",
       "      committed to a dysfunctional, exhausted-like lineage. Collectively, these data \n",
       "      reveal the existence of parallel differentiation programs in the human CD8(+) \n",
       "      memory T cell pool, with potentially broad implications for the development of \n",
       "      immunotherapies and vaccines.\n",
       "FAU - Galletti, Giovanni\n",
       "AU  - Galletti G\n",
       "AUID- ORCID: 0000-0001-6613-2354\n",
       "AD  - Laboratory of Translational Immunology, Humanitas Clinical and Research Center - \n",
       "      IRCCS, Rozzano, Milan, Italy.\n",
       "FAU - De Simone, Gabriele\n",
       "AU  - De Simone G\n",
       "AD  - Laboratory of Translational Immunology, Humanitas Clinical and Research Center - \n",
       "      IRCCS, Rozzano, Milan, Italy.\n",
       "FAU - Mazza, Emilia M C\n",
       "AU  - Mazza EMC\n",
       "AD  - Laboratory of Translational Immunology, Humanitas Clinical and Research Center - \n",
       "      IRCCS, Rozzano, Milan, Italy.\n",
       "FAU - Puccio, Simone\n",
       "AU  - Puccio S\n",
       "AD  - Laboratory of Translational Immunology, Humanitas Clinical and Research Center - \n",
       "      IRCCS, Rozzano, Milan, Italy.\n",
       "FAU - Mezzanotte, Claudia\n",
       "AU  - Mezzanotte C\n",
       "AD  - Innovative Immunotherapies Unit, Division of Immunology, Transplantation, and \n",
       "      Infectious Diseases, IRCCS San Raffaele Scientific Institute, Milan, Italy.\n",
       "FAU - Bi, Timothy M\n",
       "AU  - Bi TM\n",
       "AD  - Vaccine and Infectious Disease Division, Fred Hutchinson Cancer Research Center, \n",
       "      Seattle, WA, USA.\n",
       "FAU - Davydov, Alexey N\n",
       "AU  - Davydov AN\n",
       "AD  - Central European Institute of Technology, Brno, Czech Republic.\n",
       "FAU - Metsger, Maria\n",
       "AU  - Metsger M\n",
       "AUID- ORCID: 0000-0001-9722-0533\n",
       "AD  - Central European Institute of Technology, Brno, Czech Republic.\n",
       "FAU - Scamardella, Eloise\n",
       "AU  - Scamardella E\n",
       "AD  - Laboratory of Translational Immunology, Humanitas Clinical and Research Center - \n",
       "      IRCCS, Rozzano, Milan, Italy.\n",
       "FAU - Alvisi, Giorgia\n",
       "AU  - Alvisi G\n",
       "AD  - Laboratory of Translational Immunology, Humanitas Clinical and Research Center - \n",
       "      IRCCS, Rozzano, Milan, Italy.\n",
       "FAU - De Paoli, Federica\n",
       "AU  - De Paoli F\n",
       "AD  - Laboratory of Translational Immunology, Humanitas Clinical and Research Center - \n",
       "      IRCCS, Rozzano, Milan, Italy.\n",
       "FAU - Zanon, Veronica\n",
       "AU  - Zanon V\n",
       "AD  - Laboratory of Translational Immunology, Humanitas Clinical and Research Center - \n",
       "      IRCCS, Rozzano, Milan, Italy.\n",
       "FAU - Scarpa, Alice\n",
       "AU  - Scarpa A\n",
       "AD  - Laboratory of Translational Immunology, Humanitas Clinical and Research Center - \n",
       "      IRCCS, Rozzano, Milan, Italy.\n",
       "FAU - Camisa, Barbara\n",
       "AU  - Camisa B\n",
       "AD  - Innovative Immunotherapies Unit, Division of Immunology, Transplantation, and \n",
       "      Infectious Diseases, IRCCS San Raffaele Scientific Institute, Milan, Italy.\n",
       "FAU - Colombo, Federico S\n",
       "AU  - Colombo FS\n",
       "AUID- ORCID: 0000-0003-4480-3481\n",
       "AD  - Humanitas Flow Cytometry Core, Humanitas Clinical and Research Center - IRCCS, \n",
       "      Rozzano, Milan, Italy.\n",
       "FAU - Anselmo, Achille\n",
       "AU  - Anselmo A\n",
       "AD  - Humanitas Flow Cytometry Core, Humanitas Clinical and Research Center - IRCCS, \n",
       "      Rozzano, Milan, Italy.\n",
       "FAU - Peano, Clelia\n",
       "AU  - Peano C\n",
       "AUID- ORCID: 0000-0001-7055-3629\n",
       "AD  - Institute of Genetic and Biomedical Research, UoS Milan, National Research \n",
       "      Council, Rozzano, Milan, Italy.\n",
       "AD  - Genomic Unit, Humanitas Clinical and Research Center - IRCCS, Rozzano, Milan, \n",
       "      Italy.\n",
       "FAU - Polletti, Sara\n",
       "AU  - Polletti S\n",
       "AD  - Department of Biomedical Sciences, Humanitas University, Pieve Emanuele, Milan, \n",
       "      Italy.\n",
       "FAU - Mavilio, Domenico\n",
       "AU  - Mavilio D\n",
       "AUID- ORCID: 0000-0001-6147-0952\n",
       "AD  - Unit of Clinical and Experimental Immunology, Humanitas Clinical and Research \n",
       "      Center - IRCCS, Rozzano, Milan, Italy.\n",
       "AD  - Department of Medical Biotechnologies and Translational Medicine, University of \n",
       "      Milan, Milan, Italy.\n",
       "FAU - Gattinoni, Luca\n",
       "AU  - Gattinoni L\n",
       "AUID- ORCID: 0000-0003-2239-3282\n",
       "AD  - Center for Cancer Research, National Cancer Institute, Bethesda, MD, USA.\n",
       "AD  - Regensburg Center for Interventional Immunology, Regensburg, Germany.\n",
       "AD  - University of Regensburg, Regensburg, Germany.\n",
       "FAU - Boi, Shannon K\n",
       "AU  - Boi SK\n",
       "AD  - St. Jude Children's Research Hospital, Memphis, TN, USA.\n",
       "FAU - Youngblood, Benjamin A\n",
       "AU  - Youngblood BA\n",
       "AUID- ORCID: 0000-0002-1261-9957\n",
       "AD  - St. Jude Children's Research Hospital, Memphis, TN, USA.\n",
       "FAU - Jones, Rhiannon E\n",
       "AU  - Jones RE\n",
       "AD  - Division of Cancer and Genetics, Cardiff University School of Medicine, Cardiff, \n",
       "      UK.\n",
       "FAU - Baird, Duncan M\n",
       "AU  - Baird DM\n",
       "AD  - Division of Cancer and Genetics, Cardiff University School of Medicine, Cardiff, \n",
       "      UK.\n",
       "FAU - Gostick, Emma\n",
       "AU  - Gostick E\n",
       "AD  - Division of Infection and Immunity, Cardiff University School of Medicine, \n",
       "      Cardiff, UK.\n",
       "FAU - Llewellyn-Lacey, Sian\n",
       "AU  - Llewellyn-Lacey S\n",
       "AD  - Division of Infection and Immunity, Cardiff University School of Medicine, \n",
       "      Cardiff, UK.\n",
       "FAU - Ladell, Kristin\n",
       "AU  - Ladell K\n",
       "AUID- ORCID: 0000-0002-9856-2938\n",
       "AD  - Division of Infection and Immunity, Cardiff University School of Medicine, \n",
       "      Cardiff, UK.\n",
       "FAU - Price, David A\n",
       "AU  - Price DA\n",
       "AUID- ORCID: 0000-0001-9416-2737\n",
       "AD  - Division of Infection and Immunity, Cardiff University School of Medicine, \n",
       "      Cardiff, UK.\n",
       "AD  - Systems Immunity Research Institute, Cardiff University School of Medicine, \n",
       "      Cardiff, UK.\n",
       "FAU - Chudakov, Dmitriy M\n",
       "AU  - Chudakov DM\n",
       "AUID- ORCID: 0000-0003-0430-790X\n",
       "AD  - Shemyakin and Ovchinnikov Institute of Bioorganic Chemistry, Moscow, Russia.\n",
       "AD  - Pirogov Russian National Research Medical University, Moscow, Russia.\n",
       "AD  - Center of Life Sciences, Skolkovo Institute of Science and Technology, Moscow, \n",
       "      Russia.\n",
       "FAU - Newell, Evan W\n",
       "AU  - Newell EW\n",
       "AUID- ORCID: 0000-0002-2889-243X\n",
       "AD  - Vaccine and Infectious Disease Division, Fred Hutchinson Cancer Research Center, \n",
       "      Seattle, WA, USA.\n",
       "FAU - Casucci, Monica\n",
       "AU  - Casucci M\n",
       "AD  - Innovative Immunotherapies Unit, Division of Immunology, Transplantation, and \n",
       "      Infectious Diseases, IRCCS San Raffaele Scientific Institute, Milan, Italy.\n",
       "FAU - Lugli, Enrico\n",
       "AU  - Lugli E\n",
       "AUID- ORCID: 0000-0002-1964-7678\n",
       "AD  - Laboratory of Translational Immunology, Humanitas Clinical and Research Center - \n",
       "      IRCCS, Rozzano, Milan, Italy. enrico.lugli@humanitasresearch.it.\n",
       "AD  - Humanitas Flow Cytometry Core, Humanitas Clinical and Research Center - IRCCS, \n",
       "      Rozzano, Milan, Italy. enrico.lugli@humanitasresearch.it.\n",
       "LA  - eng\n",
       "GR  - 100326/WT_/Wellcome Trust/United Kingdom\n",
       "GR  - 640511/ERC_/European Research Council/International\n",
       "GR  - C17199/A18246/A29202/CRUK_/Cancer Research UK/United Kingdom\n",
       "GR  - WT_/Wellcome Trust/United Kingdom\n",
       "GR  - 100326/Z/12/Z/WT_/Wellcome Trust/United Kingdom\n",
       "PT  - Journal Article\n",
       "PT  - Research Support, Non-U.S. Gov't\n",
       "DEP - 20201012\n",
       "PL  - United States\n",
       "TA  - Nat Immunol\n",
       "JT  - Nature immunology\n",
       "JID - 100941354\n",
       "RN  - 0 (Biomarkers)\n",
       "SB  - IM\n",
       "CIN - Nat Immunol. 2020 Dec;21(12):1484-1485. PMID: 33116302\n",
       "MH  - Animals\n",
       "MH  - Biomarkers\n",
       "MH  - CD8-Positive T-Lymphocytes/*immunology/*metabolism\n",
       "MH  - Cell Differentiation/immunology\n",
       "MH  - Computational Biology/methods\n",
       "MH  - Gene Expression Profiling\n",
       "MH  - High-Throughput Nucleotide Sequencing\n",
       "MH  - Humans\n",
       "MH  - *Immunologic Memory\n",
       "MH  - Immunophenotyping\n",
       "MH  - Lymphoid Progenitor Cells/cytology/immunology/*metabolism\n",
       "MH  - Mice\n",
       "MH  - T-Lymphocyte Subsets/*immunology/*metabolism\n",
       "MH  - Telomere Homeostasis\n",
       "PMC - PMC7610790\n",
       "MID - EMS117985\n",
       "COIS- Competing Interests The Laboratory of Translational Immunology receives reagents \n",
       "      in kind as part of a collaborative research agreement with BD Biosciences \n",
       "      (Italy). L.G. and E.L. are inventors on a patent describing methods for the \n",
       "      generation and isolation of T(SCM) cells. L.G. has consulting agreements with \n",
       "      Lyell Immunopharma and Advaxis Immunotherapies. E.W.N. is a cofounder and advisor \n",
       "      for ImmunoScape Pte. Ltd. The other authors have no conflicts of interest to \n",
       "      disclose.\n",
       "EDAT- 2020/10/14 06:00\n",
       "MHDA- 2021/02/16 06:00\n",
       "CRDT- 2020/10/13 05:38\n",
       "PHST- 2020/04/21 00:00 [received]\n",
       "PHST- 2020/08/14 00:00 [accepted]\n",
       "PHST- 2020/10/14 06:00 [pubmed]\n",
       "PHST- 2021/02/16 06:00 [medline]\n",
       "PHST- 2020/10/13 05:38 [entrez]\n",
       "AID - 10.1038/s41590-020-0791-5 [pii]\n",
       "AID - 10.1038/s41590-020-0791-5 [doi]\n",
       "PST - ppublish\n",
       "SO  - Nat Immunol. 2020 Dec;21(12):1552-1562. doi: 10.1038/s41590-020-0791-5. Epub 2020 \n",
       "      Oct 12."
      ]
     },
     "execution_count": 75,
     "metadata": {},
     "output_type": "execute_result"
    }
   ],
   "source": [
    "detailed_info"
   ]
  },
  {
   "cell_type": "code",
   "execution_count": 183,
   "metadata": {},
   "outputs": [
    {
     "data": {
      "text/plain": [
       "'Laboratory of Translational Immunology, Humanitas Clinical and Research Center - IRCCS'"
      ]
     },
     "execution_count": 183,
     "metadata": {},
     "output_type": "execute_result"
    }
   ],
   "source": [
    "str(detailed_info).split('AD')[1].split('FAU')[0].strip('\\n').strip('- .').replace('\\n      ', '').rsplit(',', 3)[0]"
   ]
  },
  {
   "cell_type": "code",
   "execution_count": 131,
   "metadata": {},
   "outputs": [
    {
     "data": {
      "text/plain": [
       "\"\\nPMID- 33046887\\nOWN - NLM\\nSTAT- MEDLINE\\nDCOM- 20210215\\nLR  - 20220129\\nIS  - 1529-2916 (Electronic)\\nIS  - 1529-2908 (Print)\\nIS  - 1529-2908 (Linking)\\nVI  - 21\\nIP  - 12\\nDP  - 2020 Dec\\nTI  - Two subsets of stem-like CD8(+) memory T cell progenitors with distinct fate \\n      commitments in humans.\\nPG  - 1552-1562\\nLID - 10.1038/s41590-020-0791-5 [doi]\\nAB  - T cell memory relies on the generation of antigen-specific progenitors with \\n      stem-like properties. However, the identity of these progenitors has remained \\n      unclear, precluding a full understanding of the differentiation trajectories that \\n      underpin the heterogeneity of antigen-experienced T cells. We used a systematic \\n      approach guided by single-cell RNA-sequencing data to map the organizational \\n      structure of the human CD8(+) memory T cell pool under physiological conditions. \\n      We identified two previously unrecognized subsets of clonally, epigenetically, \\n      functionally, phenotypically and transcriptionally distinct stem-like CD8(+) \\n      memory T cells. Progenitors lacking the inhibitory receptors programmed death-1 \\n      (PD-1) and T cell immunoreceptor with Ig and ITIM domains (TIGIT) were committed \\n      to a functional lineage, whereas progenitors expressing PD-1 and TIGIT were \\n      committed to a dysfunctional, exhausted-like lineage. Collectively, these data \\n      reveal the existence of parallel differentiation programs in the human CD8(+) \\n      memory T cell pool, with potentially broad implications for the development of \\n      immunotherapies and vaccines.\\nFAU - Galletti, Giovanni\\nAU  - Galletti G\\nAUID- ORCID: 0000-0001-6613-2354\\nAD  - Laboratory of Translational Immunology, Humanitas Clinical and Research Center - \\n      IRCCS, Rozzano, Milan, Italy.\\nFAU - De Simone, Gabriele\\nAU  - De Simone G\\nAD  - Laboratory of Translational Immunology, Humanitas Clinical and Research Center - \\n      IRCCS, Rozzano, Milan, Italy.\\nFAU - Mazza, Emilia M C\\nAU  - Mazza EMC\\nAD  - Laboratory of Translational Immunology, Humanitas Clinical and Research Center - \\n      IRCCS, Rozzano, Milan, Italy.\\nFAU - Puccio, Simone\\nAU  - Puccio S\\nAD  - Laboratory of Translational Immunology, Humanitas Clinical and Research Center - \\n      IRCCS, Rozzano, Milan, Italy.\\nFAU - Mezzanotte, Claudia\\nAU  - Mezzanotte C\\nAD  - Innovative Immunotherapies Unit, Division of Immunology, Transplantation, and \\n      Infectious Diseases, IRCCS San Raffaele Scientific Institute, Milan, Italy.\\nFAU - Bi, Timothy M\\nAU  - Bi TM\\nAD  - Vaccine and Infectious Disease Division, Fred Hutchinson Cancer Research Center, \\n      Seattle, WA, USA.\\nFAU - Davydov, Alexey N\\nAU  - Davydov AN\\nAD  - Central European Institute of Technology, Brno, Czech Republic.\\nFAU - Metsger, Maria\\nAU  - Metsger M\\nAUID- ORCID: 0000-0001-9722-0533\\nAD  - Central European Institute of Technology, Brno, Czech Republic.\\nFAU - Scamardella, Eloise\\nAU  - Scamardella E\\nAD  - Laboratory of Translational Immunology, Humanitas Clinical and Research Center - \\n      IRCCS, Rozzano, Milan, Italy.\\nFAU - Alvisi, Giorgia\\nAU  - Alvisi G\\nAD  - Laboratory of Translational Immunology, Humanitas Clinical and Research Center - \\n      IRCCS, Rozzano, Milan, Italy.\\nFAU - De Paoli, Federica\\nAU  - De Paoli F\\nAD  - Laboratory of Translational Immunology, Humanitas Clinical and Research Center - \\n      IRCCS, Rozzano, Milan, Italy.\\nFAU - Zanon, Veronica\\nAU  - Zanon V\\nAD  - Laboratory of Translational Immunology, Humanitas Clinical and Research Center - \\n      IRCCS, Rozzano, Milan, Italy.\\nFAU - Scarpa, Alice\\nAU  - Scarpa A\\nAD  - Laboratory of Translational Immunology, Humanitas Clinical and Research Center - \\n      IRCCS, Rozzano, Milan, Italy.\\nFAU - Camisa, Barbara\\nAU  - Camisa B\\nAD  - Innovative Immunotherapies Unit, Division of Immunology, Transplantation, and \\n      Infectious Diseases, IRCCS San Raffaele Scientific Institute, Milan, Italy.\\nFAU - Colombo, Federico S\\nAU  - Colombo FS\\nAUID- ORCID: 0000-0003-4480-3481\\nAD  - Humanitas Flow Cytometry Core, Humanitas Clinical and Research Center - IRCCS, \\n      Rozzano, Milan, Italy.\\nFAU - Anselmo, Achille\\nAU  - Anselmo A\\nAD  - Humanitas Flow Cytometry Core, Humanitas Clinical and Research Center - IRCCS, \\n      Rozzano, Milan, Italy.\\nFAU - Peano, Clelia\\nAU  - Peano C\\nAUID- ORCID: 0000-0001-7055-3629\\nAD  - Institute of Genetic and Biomedical Research, UoS Milan, National Research \\n      Council, Rozzano, Milan, Italy.\\nAD  - Genomic Unit, Humanitas Clinical and Research Center - IRCCS, Rozzano, Milan, \\n      Italy.\\nFAU - Polletti, Sara\\nAU  - Polletti S\\nAD  - Department of Biomedical Sciences, Humanitas University, Pieve Emanuele, Milan, \\n      Italy.\\nFAU - Mavilio, Domenico\\nAU  - Mavilio D\\nAUID- ORCID: 0000-0001-6147-0952\\nAD  - Unit of Clinical and Experimental Immunology, Humanitas Clinical and Research \\n      Center - IRCCS, Rozzano, Milan, Italy.\\nAD  - Department of Medical Biotechnologies and Translational Medicine, University of \\n      Milan, Milan, Italy.\\nFAU - Gattinoni, Luca\\nAU  - Gattinoni L\\nAUID- ORCID: 0000-0003-2239-3282\\nAD  - Center for Cancer Research, National Cancer Institute, Bethesda, MD, USA.\\nAD  - Regensburg Center for Interventional Immunology, Regensburg, Germany.\\nAD  - University of Regensburg, Regensburg, Germany.\\nFAU - Boi, Shannon K\\nAU  - Boi SK\\nAD  - St. Jude Children's Research Hospital, Memphis, TN, USA.\\nFAU - Youngblood, Benjamin A\\nAU  - Youngblood BA\\nAUID- ORCID: 0000-0002-1261-9957\\nAD  - St. Jude Children's Research Hospital, Memphis, TN, USA.\\nFAU - Jones, Rhiannon E\\nAU  - Jones RE\\nAD  - Division of Cancer and Genetics, Cardiff University School of Medicine, Cardiff, \\n      UK.\\nFAU - Baird, Duncan M\\nAU  - Baird DM\\nAD  - Division of Cancer and Genetics, Cardiff University School of Medicine, Cardiff, \\n      UK.\\nFAU - Gostick, Emma\\nAU  - Gostick E\\nAD  - Division of Infection and Immunity, Cardiff University School of Medicine, \\n      Cardiff, UK.\\nFAU - Llewellyn-Lacey, Sian\\nAU  - Llewellyn-Lacey S\\nAD  - Division of Infection and Immunity, Cardiff University School of Medicine, \\n      Cardiff, UK.\\nFAU - Ladell, Kristin\\nAU  - Ladell K\\nAUID- ORCID: 0000-0002-9856-2938\\nAD  - Division of Infection and Immunity, Cardiff University School of Medicine, \\n      Cardiff, UK.\\nFAU - Price, David A\\nAU  - Price DA\\nAUID- ORCID: 0000-0001-9416-2737\\nAD  - Division of Infection and Immunity, Cardiff University School of Medicine, \\n      Cardiff, UK.\\nAD  - Systems Immunity Research Institute, Cardiff University School of Medicine, \\n      Cardiff, UK.\\nFAU - Chudakov, Dmitriy M\\nAU  - Chudakov DM\\nAUID- ORCID: 0000-0003-0430-790X\\nAD  - Shemyakin and Ovchinnikov Institute of Bioorganic Chemistry, Moscow, Russia.\\nAD  - Pirogov Russian National Research Medical University, Moscow, Russia.\\nAD  - Center of Life Sciences, Skolkovo Institute of Science and Technology, Moscow, \\n      Russia.\\nFAU - Newell, Evan W\\nAU  - Newell EW\\nAUID- ORCID: 0000-0002-2889-243X\\nAD  - Vaccine and Infectious Disease Division, Fred Hutchinson Cancer Research Center, \\n      Seattle, WA, USA.\\nFAU - Casucci, Monica\\nAU  - Casucci M\\nAD  - Innovative Immunotherapies Unit, Division of Immunology, Transplantation, and \\n      Infectious Diseases, IRCCS San Raffaele Scientific Institute, Milan, Italy.\\nFAU - Lugli, Enrico\\nAU  - Lugli E\\nAUID- ORCID: 0000-0002-1964-7678\\nAD  - Laboratory of Translational Immunology, Humanitas Clinical and Research Center - \\n      IRCCS, Rozzano, Milan, Italy. enrico.lugli@humanitasresearch.it.\\nAD  - Humanitas Flow Cytometry Core, Humanitas Clinical and Research Center - IRCCS, \\n      Rozzano, Milan, Italy. enrico.lugli@humanitasresearch.it.\\nLA  - eng\\nGR  - 100326/WT_/Wellcome Trust/United Kingdom\\nGR  - 640511/ERC_/European Research Council/International\\nGR  - C17199/A18246/A29202/CRUK_/Cancer Research UK/United Kingdom\\nGR  - WT_/Wellcome Trust/United Kingdom\\nGR  - 100326/Z/12/Z/WT_/Wellcome Trust/United Kingdom\\nPT  - Journal Article\\nPT  - Research Support, Non-U.S. Gov't\\nDEP - 20201012\\nPL  - United States\\nTA  - Nat Immunol\\nJT  - Nature immunology\\nJID - 100941354\\nRN  - 0 (Biomarkers)\\nSB  - IM\\nCIN - Nat Immunol. 2020 Dec;21(12):1484-1485. PMID: 33116302\\nMH  - Animals\\nMH  - Biomarkers\\nMH  - CD8-Positive T-Lymphocytes/*immunology/*metabolism\\nMH  - Cell Differentiation/immunology\\nMH  - Computational Biology/methods\\nMH  - Gene Expression Profiling\\nMH  - High-Throughput Nucleotide Sequencing\\nMH  - Humans\\nMH  - *Immunologic Memory\\nMH  - Immunophenotyping\\nMH  - Lymphoid Progenitor Cells/cytology/immunology/*metabolism\\nMH  - Mice\\nMH  - T-Lymphocyte Subsets/*immunology/*metabolism\\nMH  - Telomere Homeostasis\\nPMC - PMC7610790\\nMID - EMS117985\\nCOIS- Competing Interests The Laboratory of Translational Immunology receives reagents \\n      in kind as part of a collaborative research agreement with BD Biosciences \\n      (Italy). L.G. and E.L. are inventors on a patent describing methods for the \\n      generation and isolation of T(SCM) cells. L.G. has consulting agreements with \\n      Lyell Immunopharma and Advaxis Immunotherapies. E.W.N. is a cofounder and advisor \\n      for ImmunoScape Pte. Ltd. The other authors have no conflicts of interest to \\n      disclose.\\nEDAT- 2020/10/14 06:00\\nMHDA- 2021/02/16 06:00\\nCRDT- 2020/10/13 05:38\\nPHST- 2020/04/21 00:00 [received]\\nPHST- 2020/08/14 00:00 [accepted]\\nPHST- 2020/10/14 06:00 [pubmed]\\nPHST- 2021/02/16 06:00 [medline]\\nPHST- 2020/10/13 05:38 [entrez]\\nAID - 10.1038/s41590-020-0791-5 [pii]\\nAID - 10.1038/s41590-020-0791-5 [doi]\\nPST - ppublish\\nSO  - Nat Immunol. 2020 Dec;21(12):1552-1562. doi: 10.1038/s41590-020-0791-5. Epub 2020 \\n      Oct 12.\\n\""
      ]
     },
     "execution_count": 131,
     "metadata": {},
     "output_type": "execute_result"
    }
   ],
   "source": []
  },
  {
   "cell_type": "code",
   "execution_count": null,
   "metadata": {},
   "outputs": [],
   "source": []
  }
 ],
 "metadata": {
  "kernelspec": {
   "display_name": "scRNA",
   "language": "python",
   "name": "python3"
  },
  "language_info": {
   "codemirror_mode": {
    "name": "ipython",
    "version": 3
   },
   "file_extension": ".py",
   "mimetype": "text/x-python",
   "name": "python",
   "nbconvert_exporter": "python",
   "pygments_lexer": "ipython3",
   "version": "3.9.16"
  }
 },
 "nbformat": 4,
 "nbformat_minor": 2
}
