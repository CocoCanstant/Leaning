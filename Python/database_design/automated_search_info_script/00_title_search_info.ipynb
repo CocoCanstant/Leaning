{
 "cells": [
  {
   "cell_type": "code",
   "execution_count": 1,
   "metadata": {},
   "outputs": [],
   "source": [
    "# import necessary packages\n",
    "import requests\n",
    "from bs4 import BeautifulSoup\n",
    "import re"
   ]
  },
  {
   "cell_type": "code",
   "execution_count": 2,
   "metadata": {},
   "outputs": [],
   "source": [
    "# related infomation\n",
    "API_KEY = \"59cbd6ff6b3ce5d506f0eeb69e4e09362409\"\n",
    "query = \"Characterizing cellular and molecular variabilities of peripheral immune cells in healthy inactivated SARS-CoV-2 vaccine recipients by single-cell RNA sequencing\"\n",
    "database = \"pubmed\"\n",
    "# use e-search for matching UIDs\n",
    "search_url = f\"https://eutils.ncbi.nlm.nih.gov/entrez/eutils/esearch.fcgi?db=pubmed&api_key={API_KEY}&term={query}\""
   ]
  },
  {
   "cell_type": "code",
   "execution_count": 3,
   "metadata": {},
   "outputs": [
    {
     "data": {
      "text/plain": [
       "'https://eutils.ncbi.nlm.nih.gov/entrez/eutils/esearch.fcgi?db=pubmed&api_key=59cbd6ff6b3ce5d506f0eeb69e4e09362409&term=Characterizing cellular and molecular variabilities of peripheral immune cells in healthy inactivated SARS-CoV-2 vaccine recipients by single-cell RNA sequencing'"
      ]
     },
     "execution_count": 3,
     "metadata": {},
     "output_type": "execute_result"
    }
   ],
   "source": [
    "search_url"
   ]
  },
  {
   "cell_type": "code",
   "execution_count": 4,
   "metadata": {},
   "outputs": [
    {
     "name": "stderr",
     "output_type": "stream",
     "text": [
      "/home/ouyangkang/software/anaconda3/envs/ML/lib/python3.9/site-packages/bs4/builder/__init__.py:545: XMLParsedAsHTMLWarning: It looks like you're parsing an XML document using an HTML parser. If this really is an HTML document (maybe it's XHTML?), you can ignore or filter this warning. If it's XML, you should know that using an XML parser will be more reliable. To parse this document as XML, make sure you have the lxml package installed, and pass the keyword argument `features=\"xml\"` into the BeautifulSoup constructor.\n",
      "  warnings.warn(\n"
     ]
    },
    {
     "data": {
      "text/plain": [
       "'36987861'"
      ]
     },
     "execution_count": 4,
     "metadata": {},
     "output_type": "execute_result"
    }
   ],
   "source": [
    "BeautifulSoup(requests.get(search_url).text, 'html.parser').find_all('id')[0].text"
   ]
  },
  {
   "cell_type": "code",
   "execution_count": 5,
   "metadata": {},
   "outputs": [],
   "source": [
    "search_id = 36987861\n",
    "fetch_url = f\"https://eutils.ncbi.nlm.nih.gov/entrez/eutils/efetch.fcgi?db=pubmed&id={search_id}&api_key={API_KEY}&rettype=medline&retmode=text\"\n",
    "detailed_info = BeautifulSoup(requests.get(fetch_url).text, 'html.parser')"
   ]
  },
  {
   "cell_type": "code",
   "execution_count": 6,
   "metadata": {},
   "outputs": [
    {
     "data": {
      "text/plain": [
       "\n",
       "PMID- 36987861\n",
       "OWN - NLM\n",
       "STAT- MEDLINE\n",
       "DCOM- 20230510\n",
       "LR  - 20230513\n",
       "IS  - 2222-1751 (Electronic)\n",
       "IS  - 2222-1751 (Linking)\n",
       "VI  - 12\n",
       "IP  - 1\n",
       "DP  - 2023 Dec\n",
       "TI  - Characterizing the cellular and molecular variabilities of peripheral immune \n",
       "      cells in healthy recipients of BBIBP-CorV inactivated SARS-CoV-2 vaccine by \n",
       "      single-cell RNA sequencing.\n",
       "PG  - e2187245\n",
       "LID - 10.1080/22221751.2023.2187245 [doi]\n",
       "LID - e2187245\n",
       "AB  - Over 3 billion doses of inactivated vaccines for severe acute respiratory \n",
       "      syndrome coronavirus 2 (SARS-CoV-2) have been administered globally. However, our \n",
       "      understanding of the immune cell functional transcription and T cell receptor \n",
       "      (TCR)/B cell receptor (BCR) repertoire dynamics following inactivated SARS-CoV-2 \n",
       "      vaccination remains poorly understood. Here, we performed single-cell RNA and \n",
       "      TCR/BCR sequencing on peripheral blood mononuclear cells at four time points \n",
       "      after immunization with the inactivated SARS-CoV-2 vaccine BBIBP-CorV. Our \n",
       "      analysis revealed an enrichment of monocytes, central memory CD4(+) T cells, type \n",
       "      2 helper T cells and memory B cells following vaccination. Single-cell TCR-seq \n",
       "      and RNA-seq comminating analysis identified a clonal expansion of CD4(+) T cells \n",
       "      (but not CD8(+) T cells) following a booster vaccination that corresponded to a \n",
       "      decrease in the TCR diversity of central memory CD4(+) T cells and type 2 helper \n",
       "      T cells. Importantly, these TCR repertoire changes and CD4(+) T cell \n",
       "      differentiation were correlated with the biased VJ gene usage of BCR and the \n",
       "      antibody-producing function of B cells post-vaccination. Finally, we compared the \n",
       "      functional transcription and repertoire dynamics in immune cells elicited by \n",
       "      vaccination and SARS-CoV-2 infection to explore the immune responses under \n",
       "      different stimuli. Our data provide novel molecular and cellular evidence for the \n",
       "      CD4(+) T cell-dependent antibody response induced by inactivated vaccine \n",
       "      BBIBP-CorV. This information is urgently needed to develop new prevention and \n",
       "      control strategies for SARS-CoV-2 infection. (ClinicalTrials.gov Identifier: \n",
       "      NCT04871932).\n",
       "FAU - Tong, Renyang\n",
       "AU  - Tong R\n",
       "AD  - Division of Cardiology, Shanghai Immune Therapy Institute, Renji Hospital, School \n",
       "      of Medicine, Shanghai Jiao Tong University, Shanghai, People's Republic of China.\n",
       "FAU - Luo, Lingjie\n",
       "AU  - Luo L\n",
       "AD  - Shanghai Institute of Immunology, Department of Immunology and Microbiology, \n",
       "      State Key Laboratory of Oncogenes and Related Genes, School of Medicine, Shanghai \n",
       "      Jiao Tong University, Shanghai, People's Republic of China.\n",
       "FAU - Zhao, Yichao\n",
       "AU  - Zhao Y\n",
       "AD  - Division of Cardiology, Shanghai Immune Therapy Institute, Renji Hospital, School \n",
       "      of Medicine, Shanghai Jiao Tong University, Shanghai, People's Republic of China.\n",
       "FAU - Sun, Mingze\n",
       "AU  - Sun M\n",
       "AD  - Division of Cardiology, Shanghai Immune Therapy Institute, Renji Hospital, School \n",
       "      of Medicine, Shanghai Jiao Tong University, Shanghai, People's Republic of China.\n",
       "FAU - Li, Ronghong\n",
       "AU  - Li R\n",
       "AD  - Division of Cardiology, Shanghai Immune Therapy Institute, Renji Hospital, School \n",
       "      of Medicine, Shanghai Jiao Tong University, Shanghai, People's Republic of China.\n",
       "FAU - Zhong, Jianmei\n",
       "AU  - Zhong J\n",
       "AD  - Division of Cardiology, Shanghai Immune Therapy Institute, Renji Hospital, School \n",
       "      of Medicine, Shanghai Jiao Tong University, Shanghai, People's Republic of China.\n",
       "FAU - Chen, Yifan\n",
       "AU  - Chen Y\n",
       "AD  - Division of Cardiology, Shanghai Immune Therapy Institute, Renji Hospital, School \n",
       "      of Medicine, Shanghai Jiao Tong University, Shanghai, People's Republic of China.\n",
       "FAU - Hu, Liuhua\n",
       "AU  - Hu L\n",
       "AD  - Division of Cardiology, Shanghai Immune Therapy Institute, Renji Hospital, School \n",
       "      of Medicine, Shanghai Jiao Tong University, Shanghai, People's Republic of China.\n",
       "FAU - Li, Zheng\n",
       "AU  - Li Z\n",
       "AD  - Division of Cardiology, Shanghai Immune Therapy Institute, Renji Hospital, School \n",
       "      of Medicine, Shanghai Jiao Tong University, Shanghai, People's Republic of China.\n",
       "FAU - Shi, Jianfeng\n",
       "AU  - Shi J\n",
       "AD  - Division of Cardiology, Shanghai Immune Therapy Institute, Renji Hospital, School \n",
       "      of Medicine, Shanghai Jiao Tong University, Shanghai, People's Republic of China.\n",
       "FAU - Lyu, Yuyan\n",
       "AU  - Lyu Y\n",
       "AD  - Division of Cardiology, Shanghai Immune Therapy Institute, Renji Hospital, School \n",
       "      of Medicine, Shanghai Jiao Tong University, Shanghai, People's Republic of China.\n",
       "FAU - Hu, Li\n",
       "AU  - Hu L\n",
       "AD  - Division of Cardiology, Shanghai Immune Therapy Institute, Renji Hospital, School \n",
       "      of Medicine, Shanghai Jiao Tong University, Shanghai, People's Republic of China.\n",
       "FAU - Guo, Xiao\n",
       "AU  - Guo X\n",
       "AD  - Division of Cardiology, Shanghai Immune Therapy Institute, Renji Hospital, School \n",
       "      of Medicine, Shanghai Jiao Tong University, Shanghai, People's Republic of China.\n",
       "FAU - Liu, Qi\n",
       "AU  - Liu Q\n",
       "AD  - Division of Cardiology, Shanghai Immune Therapy Institute, Renji Hospital, School \n",
       "      of Medicine, Shanghai Jiao Tong University, Shanghai, People's Republic of China.\n",
       "FAU - Shuang, Tian\n",
       "AU  - Shuang T\n",
       "AD  - Division of Cardiology, Shanghai Immune Therapy Institute, Renji Hospital, School \n",
       "      of Medicine, Shanghai Jiao Tong University, Shanghai, People's Republic of China.\n",
       "FAU - Zhang, Chenjie\n",
       "AU  - Zhang C\n",
       "AD  - Division of Cardiology, Shanghai Immune Therapy Institute, Renji Hospital, School \n",
       "      of Medicine, Shanghai Jiao Tong University, Shanghai, People's Republic of China.\n",
       "FAU - Yuan, Ancai\n",
       "AU  - Yuan A\n",
       "AD  - Division of Cardiology, Shanghai Immune Therapy Institute, Renji Hospital, School \n",
       "      of Medicine, Shanghai Jiao Tong University, Shanghai, People's Republic of China.\n",
       "FAU - Sun, Lingyue\n",
       "AU  - Sun L\n",
       "AD  - Division of Cardiology, Shanghai Immune Therapy Institute, Renji Hospital, School \n",
       "      of Medicine, Shanghai Jiao Tong University, Shanghai, People's Republic of China.\n",
       "FAU - Zhang, Zheng\n",
       "AU  - Zhang Z\n",
       "AD  - Institute for Hepatology, National Clinical Research Center for Infectious \n",
       "      Disease, Shenzhen Third People's Hospital; The Second Affiliated Hospital, School \n",
       "      of Medicine, Southern University of Science and Technology, Shenzhen, People's \n",
       "      Republic of China.\n",
       "FAU - Qian, Kun\n",
       "AU  - Qian K\n",
       "AD  - Division of Cardiology, Shanghai Immune Therapy Institute, Renji Hospital, School \n",
       "      of Medicine, Shanghai Jiao Tong University, Shanghai, People's Republic of China.\n",
       "AD  - School of Biomedical Engineering, and Med-X Research Institute, Shanghai Jiao \n",
       "      Tong University, Shanghai, People's Republic of China.\n",
       "FAU - Chen, Lei\n",
       "AU  - Chen L\n",
       "AD  - Division of Cardiology, Shanghai Immune Therapy Institute, Renji Hospital, School \n",
       "      of Medicine, Shanghai Jiao Tong University, Shanghai, People's Republic of China.\n",
       "FAU - Lin, Wei\n",
       "AU  - Lin W\n",
       "AD  - Division of Cardiology, Shanghai Immune Therapy Institute, Renji Hospital, School \n",
       "      of Medicine, Shanghai Jiao Tong University, Shanghai, People's Republic of China.\n",
       "FAU - Chen, Alex F\n",
       "AU  - Chen AF\n",
       "AD  - Institute for Developmental and Regenerative Cardiovascular Medicine, Xinhua \n",
       "      Hospital, Shanghai Jiao Tong University School of Medicine, Shanghai, People's \n",
       "      Republic of China.\n",
       "FAU - Wang, Feng\n",
       "AU  - Wang F\n",
       "AD  - Shanghai Institute of Immunology, Department of Immunology and Microbiology, \n",
       "      State Key Laboratory of Oncogenes and Related Genes, School of Medicine, Shanghai \n",
       "      Jiao Tong University, Shanghai, People's Republic of China.\n",
       "FAU - Pu, Jun\n",
       "AU  - Pu J\n",
       "AD  - Division of Cardiology, Shanghai Immune Therapy Institute, Renji Hospital, School \n",
       "      of Medicine, Shanghai Jiao Tong University, Shanghai, People's Republic of China.\n",
       "LA  - eng\n",
       "SI  - ClinicalTrials.gov/NCT04871932\n",
       "PT  - Journal Article\n",
       "PL  - United States\n",
       "TA  - Emerg Microbes Infect\n",
       "JT  - Emerging microbes &amp; infections\n",
       "JID - 101594885\n",
       "RN  - 0 (BIBP COVID-19 vaccine)\n",
       "RN  - 0 (COVID-19 Vaccines)\n",
       "RN  - 0 (Receptors, Antigen, B-Cell)\n",
       "RN  - 0 (Antibodies, Viral)\n",
       "SB  - IM\n",
       "MH  - Humans\n",
       "MH  - *COVID-19 Vaccines\n",
       "MH  - *COVID-19/prevention &amp; control\n",
       "MH  - Leukocytes, Mononuclear\n",
       "MH  - SARS-CoV-2\n",
       "MH  - Receptors, Antigen, B-Cell\n",
       "MH  - Immunization, Secondary\n",
       "MH  - Sequence Analysis, RNA\n",
       "MH  - Antibodies, Viral\n",
       "PMC - PMC10171127\n",
       "OTO - NOTNLM\n",
       "OT  - BBIBP-CorV\n",
       "OT  - Inactivated SARS-CoV-2 vaccine\n",
       "OT  - peripheral blood mononuclear cells\n",
       "OT  - single-cell RNA sequencing\n",
       "OT  - single-cell TCR/BCR sequencing\n",
       "COIS- No potential conflict of interest was reported by the author(s).\n",
       "EDAT- 2023/03/30 06:00\n",
       "MHDA- 2023/05/10 06:42\n",
       "CRDT- 2023/03/29 04:43\n",
       "PHST- 2023/05/10 06:42 [medline]\n",
       "PHST- 2023/03/30 06:00 [pubmed]\n",
       "PHST- 2023/03/29 04:43 [entrez]\n",
       "AID - 2187245 [pii]\n",
       "AID - 10.1080/22221751.2023.2187245 [doi]\n",
       "PST - ppublish\n",
       "SO  - Emerg Microbes Infect. 2023 Dec;12(1):e2187245. doi: \n",
       "      10.1080/22221751.2023.2187245."
      ]
     },
     "execution_count": 6,
     "metadata": {},
     "output_type": "execute_result"
    }
   ],
   "source": [
    "detailed_info"
   ]
  },
  {
   "cell_type": "code",
   "execution_count": 18,
   "metadata": {},
   "outputs": [
    {
     "data": {
      "text/plain": [
       "'10.1080/22221751.2023.2187245'"
      ]
     },
     "execution_count": 18,
     "metadata": {},
     "output_type": "execute_result"
    }
   ],
   "source": [
    "doi_pattern = re.compile(r'LID - (.*) \\[doi\\]')\n",
    "re.findall(doi_pattern, str(detailed_info))[0]"
   ]
  },
  {
   "cell_type": "code",
   "execution_count": 1,
   "metadata": {},
   "outputs": [],
   "source": []
  },
  {
   "cell_type": "code",
   "execution_count": 13,
   "metadata": {},
   "outputs": [
    {
     "data": {
      "image/png": "[encoded data removed]",
      "text/plain": [
       "<Figure size 640x480 with 1 Axes>"
      ]
     },
     "metadata": {},
     "output_type": "display_data"
    }
   ],
   "source": [
    "import matplotlib.pyplot as plt\n",
    "plot_data = [['SCLC', 'NSCLC'], [0.15, 0.85]]\n",
    "colors = ['turquoise', 'lightpink']\n",
    "plt.pie(plot_data[1], labels=plot_data[0], colors=colors, autopct='%1.1f%%')\n",
    "plt.legend()\n",
    "plt.show()"
   ]
  },
  {
   "cell_type": "code",
   "execution_count": null,
   "metadata": {},
   "outputs": [],
   "source": []
  }
 ],
 "metadata": {
  "kernelspec": {
   "display_name": "scRNA",
   "language": "python",
   "name": "python3"
  },
  "language_info": {
   "codemirror_mode": {
    "name": "ipython",
    "version": 3
   },
   "file_extension": ".py",
   "mimetype": "text/x-python",
   "name": "python",
   "nbconvert_exporter": "python",
   "pygments_lexer": "ipython3",
   "version": "3.9.16"
  }
 },
 "nbformat": 4,
 "nbformat_minor": 2
}
