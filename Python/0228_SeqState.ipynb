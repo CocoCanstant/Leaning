{
 "cells": [
  {
   "cell_type": "code",
   "execution_count": 10,
   "metadata": {},
   "outputs": [],
   "source": [
    "import pandas as pd\n",
    "\n",
    "seq_data = pd.read_csv('/home/ouconstand/data/Virus_Host/rmdup_data.csv')\n",
    "seq_length = pd.read_table('/home/ouconstand/data/Virus_Host/sequence_length.tsv', sep='\\t')\n",
    "seq_length.columns = ['Representation', 'Length']"
   ]
  },
  {
   "cell_type": "code",
   "execution_count": 11,
   "metadata": {},
   "outputs": [
    {
     "data": {
      "text/html": [
       "<div>\n",
       "<style scoped>\n",
       "    .dataframe tbody tr th:only-of-type {\n",
       "        vertical-align: middle;\n",
       "    }\n",
       "\n",
       "    .dataframe tbody tr th {\n",
       "        vertical-align: top;\n",
       "    }\n",
       "\n",
       "    .dataframe thead th {\n",
       "        text-align: right;\n",
       "    }\n",
       "</style>\n",
       "<table border=\"1\" class=\"dataframe\">\n",
       "  <thead>\n",
       "    <tr style=\"text-align: right;\">\n",
       "      <th></th>\n",
       "      <th>VirusTaxID</th>\n",
       "      <th>HostTaxID</th>\n",
       "      <th>Representation</th>\n",
       "    </tr>\n",
       "  </thead>\n",
       "  <tbody>\n",
       "    <tr>\n",
       "      <th>0</th>\n",
       "      <td>694014</td>\n",
       "      <td>8835</td>\n",
       "      <td>MF034372.1</td>\n",
       "    </tr>\n",
       "    <tr>\n",
       "      <th>1</th>\n",
       "      <td>694014</td>\n",
       "      <td>8835</td>\n",
       "      <td>MF034361.1</td>\n",
       "    </tr>\n",
       "    <tr>\n",
       "      <th>2</th>\n",
       "      <td>694014</td>\n",
       "      <td>8835</td>\n",
       "      <td>MF034370.1</td>\n",
       "    </tr>\n",
       "    <tr>\n",
       "      <th>3</th>\n",
       "      <td>694014</td>\n",
       "      <td>8835</td>\n",
       "      <td>JX173489.1</td>\n",
       "    </tr>\n",
       "    <tr>\n",
       "      <th>4</th>\n",
       "      <td>694014</td>\n",
       "      <td>8835</td>\n",
       "      <td>DQ401286.1</td>\n",
       "    </tr>\n",
       "  </tbody>\n",
       "</table>\n",
       "</div>"
      ],
      "text/plain": [
       "   VirusTaxID  HostTaxID Representation\n",
       "0      694014       8835     MF034372.1\n",
       "1      694014       8835     MF034361.1\n",
       "2      694014       8835     MF034370.1\n",
       "3      694014       8835     JX173489.1\n",
       "4      694014       8835     DQ401286.1"
      ]
     },
     "execution_count": 11,
     "metadata": {},
     "output_type": "execute_result"
    }
   ],
   "source": [
    "seq_data.head()"
   ]
  },
  {
   "cell_type": "code",
   "execution_count": 21,
   "metadata": {},
   "outputs": [
    {
     "data": {
      "text/plain": [
       "942"
      ]
     },
     "execution_count": 21,
     "metadata": {},
     "output_type": "execute_result"
    }
   ],
   "source": [
    "len(set(seq_data['VirusTaxID']))"
   ]
  },
  {
   "cell_type": "code",
   "execution_count": 12,
   "metadata": {},
   "outputs": [
    {
     "data": {
      "text/html": [
       "<div>\n",
       "<style scoped>\n",
       "    .dataframe tbody tr th:only-of-type {\n",
       "        vertical-align: middle;\n",
       "    }\n",
       "\n",
       "    .dataframe tbody tr th {\n",
       "        vertical-align: top;\n",
       "    }\n",
       "\n",
       "    .dataframe thead th {\n",
       "        text-align: right;\n",
       "    }\n",
       "</style>\n",
       "<table border=\"1\" class=\"dataframe\">\n",
       "  <thead>\n",
       "    <tr style=\"text-align: right;\">\n",
       "      <th></th>\n",
       "      <th>Representation</th>\n",
       "      <th>Length</th>\n",
       "    </tr>\n",
       "  </thead>\n",
       "  <tbody>\n",
       "    <tr>\n",
       "      <th>0</th>\n",
       "      <td>MW320914.1</td>\n",
       "      <td>29742</td>\n",
       "    </tr>\n",
       "    <tr>\n",
       "      <th>1</th>\n",
       "      <td>MW320920.1</td>\n",
       "      <td>29506</td>\n",
       "    </tr>\n",
       "    <tr>\n",
       "      <th>2</th>\n",
       "      <td>MW320940.1</td>\n",
       "      <td>29507</td>\n",
       "    </tr>\n",
       "    <tr>\n",
       "      <th>3</th>\n",
       "      <td>MW320956.1</td>\n",
       "      <td>29515</td>\n",
       "    </tr>\n",
       "    <tr>\n",
       "      <th>4</th>\n",
       "      <td>MW320961.1</td>\n",
       "      <td>29782</td>\n",
       "    </tr>\n",
       "  </tbody>\n",
       "</table>\n",
       "</div>"
      ],
      "text/plain": [
       "  Representation  Length\n",
       "0     MW320914.1   29742\n",
       "1     MW320920.1   29506\n",
       "2     MW320940.1   29507\n",
       "3     MW320956.1   29515\n",
       "4     MW320961.1   29782"
      ]
     },
     "execution_count": 12,
     "metadata": {},
     "output_type": "execute_result"
    }
   ],
   "source": [
    "seq_length.head()"
   ]
  },
  {
   "cell_type": "code",
   "execution_count": 13,
   "metadata": {},
   "outputs": [],
   "source": [
    "final = pd.merge(seq_data, seq_length, how='inner', on='Representation')"
   ]
  },
  {
   "cell_type": "code",
   "execution_count": 14,
   "metadata": {},
   "outputs": [
    {
     "data": {
      "text/html": [
       "<div>\n",
       "<style scoped>\n",
       "    .dataframe tbody tr th:only-of-type {\n",
       "        vertical-align: middle;\n",
       "    }\n",
       "\n",
       "    .dataframe tbody tr th {\n",
       "        vertical-align: top;\n",
       "    }\n",
       "\n",
       "    .dataframe thead th {\n",
       "        text-align: right;\n",
       "    }\n",
       "</style>\n",
       "<table border=\"1\" class=\"dataframe\">\n",
       "  <thead>\n",
       "    <tr style=\"text-align: right;\">\n",
       "      <th></th>\n",
       "      <th>VirusTaxID</th>\n",
       "      <th>HostTaxID</th>\n",
       "      <th>Representation</th>\n",
       "      <th>Length</th>\n",
       "    </tr>\n",
       "  </thead>\n",
       "  <tbody>\n",
       "    <tr>\n",
       "      <th>0</th>\n",
       "      <td>694014</td>\n",
       "      <td>8835</td>\n",
       "      <td>MF034372.1</td>\n",
       "      <td>1596</td>\n",
       "    </tr>\n",
       "    <tr>\n",
       "      <th>1</th>\n",
       "      <td>694014</td>\n",
       "      <td>110668</td>\n",
       "      <td>MF034372.1</td>\n",
       "      <td>1596</td>\n",
       "    </tr>\n",
       "    <tr>\n",
       "      <th>2</th>\n",
       "      <td>694014</td>\n",
       "      <td>48849</td>\n",
       "      <td>MF034372.1</td>\n",
       "      <td>1596</td>\n",
       "    </tr>\n",
       "    <tr>\n",
       "      <th>3</th>\n",
       "      <td>694014</td>\n",
       "      <td>9031</td>\n",
       "      <td>MF034372.1</td>\n",
       "      <td>1596</td>\n",
       "    </tr>\n",
       "    <tr>\n",
       "      <th>4</th>\n",
       "      <td>694014</td>\n",
       "      <td>8835</td>\n",
       "      <td>MF034361.1</td>\n",
       "      <td>561</td>\n",
       "    </tr>\n",
       "  </tbody>\n",
       "</table>\n",
       "</div>"
      ],
      "text/plain": [
       "   VirusTaxID  HostTaxID Representation  Length\n",
       "0      694014       8835     MF034372.1    1596\n",
       "1      694014     110668     MF034372.1    1596\n",
       "2      694014      48849     MF034372.1    1596\n",
       "3      694014       9031     MF034372.1    1596\n",
       "4      694014       8835     MF034361.1     561"
      ]
     },
     "execution_count": 14,
     "metadata": {},
     "output_type": "execute_result"
    }
   ],
   "source": [
    "final.head()"
   ]
  },
  {
   "cell_type": "code",
   "execution_count": 66,
   "metadata": {},
   "outputs": [
    {
     "name": "stdout",
     "output_type": "stream",
     "text": [
      "(59759, 3)\n",
      "(59205, 3)\n"
     ]
    },
    {
     "name": "stderr",
     "output_type": "stream",
     "text": [
      "<ipython-input-66-57804715d2eb>:3: SettingWithCopyWarning: \n",
      "A value is trying to be set on a copy of a slice from a DataFrame\n",
      "\n",
      "See the caveats in the documentation: https://pandas.pydata.org/pandas-docs/stable/user_guide/indexing.html#returning-a-view-versus-a-copy\n",
      "  train.drop_duplicates(subset=['VirusTaxID', 'Representation', 'Length'], inplace=True)\n"
     ]
    }
   ],
   "source": [
    "train = final[['VirusTaxID', 'Representation', 'Length']]\n",
    "print(train.shape)\n",
    "train.drop_duplicates(subset=['VirusTaxID', 'Representation', 'Length'], inplace=True)\n",
    "print(train.shape)"
   ]
  },
  {
   "cell_type": "code",
   "execution_count": 73,
   "metadata": {},
   "outputs": [],
   "source": [
    "less_20k = train[train['Length'] < 20000]\n",
    "more_20k = train[train['Length'] > 20000]\n",
    "\n",
    "more_20k_id = set(more_20k['VirusTaxID'])\n",
    "less_20k_id = set(less_20k['VirusTaxID'])\n",
    "\n",
    "info = []\n",
    "\n",
    "for i in less_20k_id:\n",
    "    if i not in more_20k_id:\n",
    "        info.append(i)\n"
   ]
  },
  {
   "cell_type": "code",
   "execution_count": 77,
   "metadata": {},
   "outputs": [],
   "source": [
    "with open('/mnt/c/Users/ouyangkang/Desktop/virustaxid.txt', 'w') as f:\n",
    "    f.writelines(map(lambda x:str(x)+'\\n' ,info))"
   ]
  },
  {
   "cell_type": "code",
   "execution_count": 29,
   "metadata": {},
   "outputs": [
    {
     "data": {
      "text/html": [
       "<div>\n",
       "<style scoped>\n",
       "    .dataframe tbody tr th:only-of-type {\n",
       "        vertical-align: middle;\n",
       "    }\n",
       "\n",
       "    .dataframe tbody tr th {\n",
       "        vertical-align: top;\n",
       "    }\n",
       "\n",
       "    .dataframe thead th {\n",
       "        text-align: right;\n",
       "    }\n",
       "</style>\n",
       "<table border=\"1\" class=\"dataframe\">\n",
       "  <thead>\n",
       "    <tr style=\"text-align: right;\">\n",
       "      <th></th>\n",
       "      <th>VirusTaxID</th>\n",
       "      <th>Representation</th>\n",
       "      <th>Length</th>\n",
       "    </tr>\n",
       "  </thead>\n",
       "  <tbody>\n",
       "    <tr>\n",
       "      <th>0</th>\n",
       "      <td>694014</td>\n",
       "      <td>MF034372.1</td>\n",
       "      <td>1596</td>\n",
       "    </tr>\n",
       "    <tr>\n",
       "      <th>4</th>\n",
       "      <td>694014</td>\n",
       "      <td>MF034361.1</td>\n",
       "      <td>561</td>\n",
       "    </tr>\n",
       "    <tr>\n",
       "      <th>5</th>\n",
       "      <td>694014</td>\n",
       "      <td>MF034370.1</td>\n",
       "      <td>561</td>\n",
       "    </tr>\n",
       "    <tr>\n",
       "      <th>6</th>\n",
       "      <td>694014</td>\n",
       "      <td>JX173489.1</td>\n",
       "      <td>1595</td>\n",
       "    </tr>\n",
       "    <tr>\n",
       "      <th>9</th>\n",
       "      <td>694014</td>\n",
       "      <td>DQ401286.1</td>\n",
       "      <td>137</td>\n",
       "    </tr>\n",
       "    <tr>\n",
       "      <th>...</th>\n",
       "      <td>...</td>\n",
       "      <td>...</td>\n",
       "      <td>...</td>\n",
       "    </tr>\n",
       "    <tr>\n",
       "      <th>59754</th>\n",
       "      <td>2042560</td>\n",
       "      <td>KX285747.1</td>\n",
       "      <td>387</td>\n",
       "    </tr>\n",
       "    <tr>\n",
       "      <th>59755</th>\n",
       "      <td>2042560</td>\n",
       "      <td>KX284997.1</td>\n",
       "      <td>249</td>\n",
       "    </tr>\n",
       "    <tr>\n",
       "      <th>59756</th>\n",
       "      <td>2042560</td>\n",
       "      <td>KX286039.1</td>\n",
       "      <td>286</td>\n",
       "    </tr>\n",
       "    <tr>\n",
       "      <th>59757</th>\n",
       "      <td>694006</td>\n",
       "      <td>MT064734.1</td>\n",
       "      <td>261</td>\n",
       "    </tr>\n",
       "    <tr>\n",
       "      <th>59758</th>\n",
       "      <td>694006</td>\n",
       "      <td>MT083146.1</td>\n",
       "      <td>252</td>\n",
       "    </tr>\n",
       "  </tbody>\n",
       "</table>\n",
       "<p>59205 rows × 3 columns</p>\n",
       "</div>"
      ],
      "text/plain": [
       "       VirusTaxID Representation  Length\n",
       "0          694014     MF034372.1    1596\n",
       "4          694014     MF034361.1     561\n",
       "5          694014     MF034370.1     561\n",
       "6          694014     JX173489.1    1595\n",
       "9          694014     DQ401286.1     137\n",
       "...           ...            ...     ...\n",
       "59754     2042560     KX285747.1     387\n",
       "59755     2042560     KX284997.1     249\n",
       "59756     2042560     KX286039.1     286\n",
       "59757      694006     MT064734.1     261\n",
       "59758      694006     MT083146.1     252\n",
       "\n",
       "[59205 rows x 3 columns]"
      ]
     },
     "execution_count": 29,
     "metadata": {},
     "output_type": "execute_result"
    }
   ],
   "source": [
    "train"
   ]
  },
  {
   "cell_type": "code",
   "execution_count": 43,
   "metadata": {},
   "outputs": [
    {
     "data": {
      "text/plain": [
       "<pandas.core.groupby.generic.SeriesGroupBy object at 0x7fbc50c1a580>"
      ]
     },
     "execution_count": 43,
     "metadata": {},
     "output_type": "execute_result"
    }
   ],
   "source": [
    "repre = train.groupby('Representation')['VirusTaxID']\n",
    "repre"
   ]
  },
  {
   "cell_type": "code",
   "execution_count": 47,
   "metadata": {},
   "outputs": [
    {
     "data": {
      "text/plain": [
       "{'AB007451.1': [59492], 'AB514164.1': [59472], 'AB514461.1': [4430, 4431], 'AB535528.1': [57583], 'AB543561.1': [57489], 'AB548621.1': [1193], 'AB548624.1': [56263], 'AB551247.1': [59089], 'AB555559.1': [1378], 'AB555560.1': [1379], 'AB644273.1': [59021], 'AB644274.1': [59022], 'AB683970.1': [59263], 'AB683971.1': [58108], 'AB781788.1': [1654], 'AB781790.1': [1056], 'AB781791.1': [1057], 'AB781796.1': [1656], 'AB781798.1': [1060], 'AB781800.1': [470], 'AB781805.1': [1061], 'AB781806.1': [1657], 'AB781808.1': [1063], 'AB781812.1': [1064], 'AB781815.1': [1065], 'AB812842.1': [55645], 'AB812844.1': [55646], 'AB812854.1': [55648], 'AB812859.1': [55649], 'AB812860.1': [55650], 'AB812863.1': [55651], 'AB812864.1': [55652], 'AB812868.1': [55653], 'AB812870.1': [55654], 'AB812871.1': [55655], 'AB812872.1': [55656], 'AB857233.1': [59507], 'AB857234.1': [56358], 'AB857235.1': [56359], 'AB889995.1': [55925], 'AB907624.1': [1672], 'AB907631.1': [1070], 'AB907634.1': [1673], 'AB918717.1': [57501], 'AB918719.1': [57502, 57503], 'AB935749.1': [1677], 'AB935750.1': [1678], 'AB935751.1': [1679], 'AB935753.1': [1680], 'AB935755.1': [1681], 'AB935756.1': [1682], 'AB935758.1': [1674], 'AB935759.1': [1691], 'AB935761.1': [1675], 'AB935762.1': [1692], 'AB935765.1': [1683], 'AB935766.1': [1684], 'AB935767.1': [1685], 'AB935771.1': [1686], 'AB935772.1': [1687], 'AB935775.1': [1693], 'AB935776.1': [1688], 'AB935777.1': [1694], 'AB935778.1': [1689], 'AB935780.1': [1690], 'AB935782.1': [1676], 'AB935784.1': [1695], 'AB936003.1': [1696], 'AF220295.1': [685, 693], 'AF502583.1': [57427], 'AH015739.2': [976], 'AJ550983.1': [57698], 'AJ854114.1': [577], 'AJ854130.1': [57329], 'AJ854132.1': [1198], 'AJ871017.1': [578], 'AJ871018.1': [579], 'AJ871019.1': [580], 'AJ871020.1': [581], 'AJ871021.1': [582], 'AJ871023.1': [1199], 'AJ871024.1': [57330], 'AJ884686.1': [59470], 'AM261815.1': [4314, 4315], 'AM261816.1': [4429], 'AM261821.1': [4158, 4159], 'AM261822.1': [4432], 'AM262515.1': [2087], 'AM262519.1': [2091], 'AY335549.1': [56133], 'AY337931.1': [56134], 'AY436637.1': [472], 'AY461600.1': [59469], 'AY528745.1': [967], 'AY528747.1': [969], 'AY528748.1': [970], 'AY528749.1': [968], 'AY528751.1': [971], 'AY613951.1': [55839], 'AY613952.1': [55840], ...}"
      ]
     },
     "execution_count": 47,
     "metadata": {},
     "output_type": "execute_result"
    }
   ],
   "source": [
    "repre.groups"
   ]
  },
  {
   "cell_type": "code",
   "execution_count": 58,
   "metadata": {},
   "outputs": [
    {
     "name": "stdout",
     "output_type": "stream",
     "text": [
      "254\n"
     ]
    }
   ],
   "source": [
    "dic_repre = repre.groups\n",
    "n = 0\n",
    "for k, v in dic_repre.items():\n",
    "    if len(v) > 1:\n",
    "        n += 1\n",
    "\n",
    "print(n)"
   ]
  },
  {
   "cell_type": "code",
   "execution_count": 61,
   "metadata": {},
   "outputs": [],
   "source": [
    "x = pd.DataFrame(train.groupby('Representation')['VirusTaxID'].count())\n",
    "x = x.reset_index()\n",
    "x.columns = ['representation', 'count']"
   ]
  },
  {
   "cell_type": "code",
   "execution_count": 64,
   "metadata": {},
   "outputs": [
    {
     "data": {
      "text/html": [
       "<div>\n",
       "<style scoped>\n",
       "    .dataframe tbody tr th:only-of-type {\n",
       "        vertical-align: middle;\n",
       "    }\n",
       "\n",
       "    .dataframe tbody tr th {\n",
       "        vertical-align: top;\n",
       "    }\n",
       "\n",
       "    .dataframe thead th {\n",
       "        text-align: right;\n",
       "    }\n",
       "</style>\n",
       "<table border=\"1\" class=\"dataframe\">\n",
       "  <thead>\n",
       "    <tr style=\"text-align: right;\">\n",
       "      <th></th>\n",
       "      <th>representation</th>\n",
       "      <th>count</th>\n",
       "    </tr>\n",
       "  </thead>\n",
       "  <tbody>\n",
       "    <tr>\n",
       "      <th>2</th>\n",
       "      <td>AB514461.1</td>\n",
       "      <td>2</td>\n",
       "    </tr>\n",
       "    <tr>\n",
       "      <th>44</th>\n",
       "      <td>AB918719.1</td>\n",
       "      <td>2</td>\n",
       "    </tr>\n",
       "    <tr>\n",
       "      <th>68</th>\n",
       "      <td>AF220295.1</td>\n",
       "      <td>2</td>\n",
       "    </tr>\n",
       "    <tr>\n",
       "      <th>83</th>\n",
       "      <td>AM261815.1</td>\n",
       "      <td>2</td>\n",
       "    </tr>\n",
       "    <tr>\n",
       "      <th>85</th>\n",
       "      <td>AM261821.1</td>\n",
       "      <td>2</td>\n",
       "    </tr>\n",
       "    <tr>\n",
       "      <th>...</th>\n",
       "      <td>...</td>\n",
       "      <td>...</td>\n",
       "    </tr>\n",
       "    <tr>\n",
       "      <th>12211</th>\n",
       "      <td>MW600658.1</td>\n",
       "      <td>8</td>\n",
       "    </tr>\n",
       "    <tr>\n",
       "      <th>12212</th>\n",
       "      <td>MW600666.1</td>\n",
       "      <td>4</td>\n",
       "    </tr>\n",
       "    <tr>\n",
       "      <th>24143</th>\n",
       "      <td>MW802581.1</td>\n",
       "      <td>4</td>\n",
       "    </tr>\n",
       "    <tr>\n",
       "      <th>27680</th>\n",
       "      <td>MW898904.1</td>\n",
       "      <td>2</td>\n",
       "    </tr>\n",
       "    <tr>\n",
       "      <th>43840</th>\n",
       "      <td>NC_032730.1</td>\n",
       "      <td>3</td>\n",
       "    </tr>\n",
       "  </tbody>\n",
       "</table>\n",
       "<p>254 rows × 2 columns</p>\n",
       "</div>"
      ],
      "text/plain": [
       "      representation  count\n",
       "2         AB514461.1      2\n",
       "44        AB918719.1      2\n",
       "68        AF220295.1      2\n",
       "83        AM261815.1      2\n",
       "85        AM261821.1      2\n",
       "...              ...    ...\n",
       "12211     MW600658.1      8\n",
       "12212     MW600666.1      4\n",
       "24143     MW802581.1      4\n",
       "27680     MW898904.1      2\n",
       "43840    NC_032730.1      3\n",
       "\n",
       "[254 rows x 2 columns]"
      ]
     },
     "execution_count": 64,
     "metadata": {},
     "output_type": "execute_result"
    }
   ],
   "source": [
    "x[x['count'] >= 2]"
   ]
  },
  {
   "cell_type": "code",
   "execution_count": null,
   "metadata": {},
   "outputs": [],
   "source": [
    "train.groupby('VirusTaxID')"
   ]
  }
 ],
 "metadata": {
  "kernelspec": {
   "display_name": "base",
   "language": "python",
   "name": "python3"
  },
  "language_info": {
   "codemirror_mode": {
    "name": "ipython",
    "version": 3
   },
   "file_extension": ".py",
   "mimetype": "text/x-python",
   "name": "python",
   "nbconvert_exporter": "python",
   "pygments_lexer": "ipython3",
   "version": "3.8.16"
  },
  "orig_nbformat": 4,
  "vscode": {
   "interpreter": {
    "hash": "eace1a3d2d18dcb98353cfeb529f20792ec64dcc10ba0bdd358326e3f660811b"
   }
  }
 },
 "nbformat": 4,
 "nbformat_minor": 2
}
