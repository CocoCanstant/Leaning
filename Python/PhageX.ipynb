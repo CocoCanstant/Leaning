{
 "cells": [
  {
   "cell_type": "code",
   "execution_count": null,
   "metadata": {},
   "outputs": [],
   "source": [
    "# import neccessary packages\n",
    "import sys\n",
    "import os\n",
    "from Bio import SeqIO # \n",
    "from Bio.SeqRecord import SeqRecord\n",
    "\n",
    "def create_reads(file_name):\n",
    "    new_record = []\n",
    "    for record in SeqIO.parse(\"validation/\"+file_name, \"fasta\"): # seperate whole sequence data \n",
    "        seq = record.seq # sequence\n",
    "        if len(seq) > 2000:\n",
    "            for i in range(0, len(seq), 500):\n",
    "                if i + 2000 > len(seq):\n",
    "                    new_seq = seq[-2000:]\n",
    "                    rec = SeqRecord(new_seq, id=record.id, description=record.description, name=record.name)\n",
    "                    new_record.append(rec)\n",
    "                    break\n",
    "                \n",
    "                new_seq = seq[i:i+2000]\n",
    "                rec = SeqRecord(new_seq, id=record.id, description=record.description, name=record.name)\n",
    "                new_record.append(rec)\n",
    "        else:\n",
    "            print(\"error length < 2000bp\")\n",
    "            print(record.description)\n",
    "            \n",
    "            \n",
    "    SeqIO.write(new_record, \"split_long_reads_val/\"+file_name, \"fasta\")\n",
    "    \n",
    "if __name__ == \"__main__\":\n",
    "    path = \"validation/\"\n",
    "    name_list = os.listdir(path)\n",
    "    for name in name_list:\n",
    "        create_reads(name)\n",
    "        #print(name + \" finished\")   "
   ]
  },
  {
   "cell_type": "code",
   "execution_count": 5,
   "metadata": {},
   "outputs": [
    {
     "name": "stdout",
     "output_type": "stream",
     "text": [
      "1.80\n"
     ]
    }
   ],
   "source": [
    "import Bio\n",
    "print(Bio.__version__)"
   ]
  },
  {
   "cell_type": "code",
   "execution_count": null,
   "metadata": {},
   "outputs": [],
   "source": []
  }
 ],
 "metadata": {
  "kernelspec": {
   "display_name": "base",
   "language": "python",
   "name": "python3"
  },
  "language_info": {
   "codemirror_mode": {
    "name": "ipython",
    "version": 3
   },
   "file_extension": ".py",
   "mimetype": "text/x-python",
   "name": "python",
   "nbconvert_exporter": "python",
   "pygments_lexer": "ipython3",
   "version": "3.8.8"
  },
  "orig_nbformat": 4,
  "vscode": {
   "interpreter": {
    "hash": "eace1a3d2d18dcb98353cfeb529f20792ec64dcc10ba0bdd358326e3f660811b"
   }
  }
 },
 "nbformat": 4,
 "nbformat_minor": 2
}
