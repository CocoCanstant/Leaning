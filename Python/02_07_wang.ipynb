{
 "cells": [
  {
   "cell_type": "code",
   "execution_count": 3,
   "metadata": {},
   "outputs": [],
   "source": [
    "import pandas as pd\n",
    "\n",
    "passed_data = []\n",
    "data_procession = []\n",
    "with open('/home/ouconstand/data/Virus_Host/Virion.csv','r', encoding='ISO-8859-1') as f:\n",
    "    for line in f.read().splitlines():\n",
    "        data = line.split('\\t')\n",
    "        if len(data) < 34:\n",
    "            passed_data.append(data)\n",
    "        else:\n",
    "            if data[8] == '' or data[13] == '' or data[3] == '': # delete non_family or non_virustaxid information data\n",
    "                pass\n",
    "            else:\n",
    "                data_procession.append(data)\n",
    "\n",
    "data = pd.DataFrame(data_procession[1:-1],columns=data_procession[0])"
   ]
  },
  {
   "cell_type": "code",
   "execution_count": 4,
   "metadata": {},
   "outputs": [
    {
     "data": {
      "text/plain": [
       "(478970, 34)"
      ]
     },
     "execution_count": 4,
     "metadata": {},
     "output_type": "execute_result"
    }
   ],
   "source": [
    "data.shape"
   ]
  },
  {
   "cell_type": "code",
   "execution_count": 142,
   "metadata": {},
   "outputs": [
    {
     "data": {
      "text/plain": [
       "12"
      ]
     },
     "execution_count": 142,
     "metadata": {},
     "output_type": "execute_result"
    }
   ],
   "source": [
    "len(passed_data)"
   ]
  },
  {
   "cell_type": "code",
   "execution_count": null,
   "metadata": {},
   "outputs": [],
   "source": [
    "print(passed_data[0])\n",
    "print(passed_data[3])\n",
    "print(passed_data[6])\n",
    "print(passed_data[9])"
   ]
  },
  {
   "cell_type": "code",
   "execution_count": 77,
   "metadata": {},
   "outputs": [
    {
     "name": "stdout",
     "output_type": "stream",
     "text": [
      "(40168, 2)\n",
      "(1338, 2)\n"
     ]
    },
    {
     "name": "stderr",
     "output_type": "stream",
     "text": [
      "<ipython-input-77-5a26d1d3bdf9>:5: SettingWithCopyWarning: \n",
      "A value is trying to be set on a copy of a slice from a DataFrame\n",
      "\n",
      "See the caveats in the documentation: https://pandas.pydata.org/pandas-docs/stable/user_guide/indexing.html#returning-a-view-versus-a-copy\n",
      "  virusID_hostfamily.drop_duplicates(subset=['VirusTaxID','HostFamily'],inplace=True)\n"
     ]
    }
   ],
   "source": [
    "import pandas as pd\n",
    "train_data = data[data['VirusFamily'] == 'coronaviridae']\n",
    "virusID_hostfamily = train_data[['VirusTaxID','HostFamily']]\n",
    "print(virusID_hostfamily.shape)\n",
    "virusID_hostfamily.drop_duplicates(subset=['VirusTaxID','HostFamily'],inplace=True)\n",
    "virusID_hostfamily.reset_index(drop=True)\n",
    "print(virusID_hostfamily.shape)"
   ]
  },
  {
   "cell_type": "code",
   "execution_count": null,
   "metadata": {},
   "outputs": [],
   "source": [
    "import pandas as pd\n",
    "\n",
    "final_data = pd.DataFrame(columns=['Virus_Family', 'Type', 'Value'])\n",
    "\n",
    "virus_family = set(data['VirusFamily'].to_list())\n",
    "\n",
    "n = 0\n",
    "for one_family in virus_family:\n",
    "    \n",
    "    train_data = data[data['VirusFamily'] == one_family]\n",
    "    virusID_hostfamily = train_data[['VirusTaxID','HostFamily']]\n",
    "    virusID_hostfamily.drop_duplicates(subset=['VirusTaxID','HostFamily'],inplace=True) # drop duplication\n",
    "    virusID_hostfamily.reset_index(drop=True) # reset index\n",
    "\n",
    "    dic = {}\n",
    "    total = 0\n",
    "    homo_trans = 0\n",
    "    homo_non_trans = 0\n",
    "    non_homo_trans = 0\n",
    "    non_homo_non_trans = 0\n",
    "\n",
    "    for i,j in zip(virusID_hostfamily['VirusTaxID'], virusID_hostfamily['HostFamily']):\n",
    "        dic[i] = dic.get(i, []) + [j]\n",
    "    for value in dic.values():\n",
    "        if 'hominidae' in value:\n",
    "            if len(value) > 1:\n",
    "                homo_trans += 1\n",
    "            else:\n",
    "                homo_non_trans += 1\n",
    "        else:\n",
    "            if len(value) > 1:\n",
    "                non_homo_trans += 1\n",
    "            else:\n",
    "                non_homo_non_trans += 1\n",
    "        total += 1\n",
    "        \n",
    "    if total != 0:\n",
    "        final_data.loc[(4*n)+0] = [one_family, 'homo_trans', round(homo_trans/total, 5)]\n",
    "        final_data.loc[(4*n)+1] = [one_family, 'homo_non_trans', round(homo_non_trans/total, 5)]\n",
    "        final_data.loc[(4*n)+2] = [one_family, 'non_homo_trans', round(non_homo_trans/total, 5)]\n",
    "        final_data.loc[(4*n)+3] = [one_family, 'non_homo_non_trans', round(non_homo_non_trans/total, 5)]\n",
    "    n += 1"
   ]
  },
  {
   "cell_type": "code",
   "execution_count": 144,
   "metadata": {},
   "outputs": [],
   "source": [
    "final_data.to_csv('/mnt/c/Users/ouyangkang/Desktop/final_data.csv',index=None)"
   ]
  },
  {
   "cell_type": "code",
   "execution_count": null,
   "metadata": {},
   "outputs": [],
   "source": [
    "\n",
    "\n",
    "final_homo_data = pd.DataFrame(columns=['Virus_Family', 'Type', 'Value'])\n",
    "final_non_homo_data = pd.DataFrame(columns=['Virus_Family', 'Type', 'Value'])\n",
    "\n",
    "virus_family = set(data['VirusFamily'].to_list())\n",
    "\n",
    "n = 0\n",
    "for one_family in virus_family:\n",
    "    \n",
    "    train_data = data[data['VirusFamily'] == one_family]\n",
    "    virusID_hostfamily = train_data[['VirusTaxID','HostFamily']]\n",
    "    virusID_hostfamily.drop_duplicates(subset=['VirusTaxID','HostFamily'],inplace=True) # drop duplication\n",
    "    virusID_hostfamily.reset_index(drop=True) # reset index\n",
    "\n",
    "    dic = {}\n",
    "\n",
    "    homo_total = 0\n",
    "    non_homo_total = 0\n",
    "\n",
    "    homo_trans = 0\n",
    "    homo_non_trans = 0\n",
    "    non_homo_trans = 0\n",
    "    non_homo_non_trans = 0\n",
    "\n",
    "    for i,j in zip(virusID_hostfamily['VirusTaxID'], virusID_hostfamily['HostFamily']):\n",
    "        dic[i] = dic.get(i, []) + [j]\n",
    "\n",
    "    for value in dic.values():\n",
    "        if 'hominidae' in value:\n",
    "            if len(value) > 1:\n",
    "                homo_trans += 1\n",
    "            else:\n",
    "                homo_non_trans += 1\n",
    "            homo_total += 1\n",
    "\n",
    "        else:\n",
    "            if len(value) > 1:\n",
    "                non_homo_trans += 1\n",
    "            else:\n",
    "                non_homo_non_trans += 1\n",
    "            non_homo_total += 1\n",
    "\n",
    "        \n",
    "    if homo_total != 0:\n",
    "        final_homo_data.loc[(2*n)+0] = [one_family, 'homo_trans', round(homo_trans/homo_total, 5)]\n",
    "        final_homo_data.loc[(2*n)+1] = [one_family, 'homo_non_trans', round(homo_non_trans/homo_total, 5)]\n",
    "    if non_homo_total != 0:\n",
    "        final_non_homo_data.loc[(2*n)+0] = [one_family, 'non_homo_trans', round(non_homo_trans/non_homo_total, 5)]\n",
    "        final_non_homo_data.loc[(2*n)+1] = [one_family, 'non_homo_non_trans', round(non_homo_non_trans/non_homo_total, 5)]\n",
    "    n += 1\n"
   ]
  },
  {
   "cell_type": "code",
   "execution_count": 6,
   "metadata": {},
   "outputs": [
    {
     "data": {
      "text/plain": [
       "(84, 3)"
      ]
     },
     "execution_count": 6,
     "metadata": {},
     "output_type": "execute_result"
    }
   ],
   "source": [
    "final_homo_data.shape"
   ]
  },
  {
   "cell_type": "code",
   "execution_count": 7,
   "metadata": {},
   "outputs": [
    {
     "data": {
      "text/plain": [
       "(126, 3)"
      ]
     },
     "execution_count": 7,
     "metadata": {},
     "output_type": "execute_result"
    }
   ],
   "source": [
    "final_non_homo_data.shape"
   ]
  },
  {
   "cell_type": "code",
   "execution_count": 6,
   "metadata": {},
   "outputs": [],
   "source": [
    "final_homo_data.to_csv('/mnt/c/Users/ouyangkang/Desktop/final_homo_data.csv',index=None)\n",
    "final_non_homo_data.to_csv('/mnt/c/Users/ouyangkang/Desktop/final_non_homo_data.csv', index=None)"
   ]
  },
  {
   "cell_type": "code",
   "execution_count": 8,
   "metadata": {},
   "outputs": [
    {
     "data": {
      "text/plain": [
       "8854"
      ]
     },
     "execution_count": 8,
     "metadata": {},
     "output_type": "execute_result"
    }
   ],
   "source": [
    "len(set(data['VirusTaxID'].to_list()))"
   ]
  },
  {
   "cell_type": "code",
   "execution_count": 12,
   "metadata": {},
   "outputs": [
    {
     "name": "stdout",
     "output_type": "stream",
     "text": [
      "39\n"
     ]
    }
   ],
   "source": [
    "common_set = list(set(final_homo_data[\"Virus_Family\"]) & set(final_non_homo_data[\"Virus_Family\"]))\n",
    "print(len(common_set))"
   ]
  },
  {
   "cell_type": "code",
   "execution_count": 14,
   "metadata": {},
   "outputs": [],
   "source": [
    "train_1 = final_homo_data[final_homo_data['Virus_Family'].isin(common_set)]"
   ]
  },
  {
   "cell_type": "code",
   "execution_count": 15,
   "metadata": {},
   "outputs": [
    {
     "data": {
      "text/html": [
       "<div>\n",
       "<style scoped>\n",
       "    .dataframe tbody tr th:only-of-type {\n",
       "        vertical-align: middle;\n",
       "    }\n",
       "\n",
       "    .dataframe tbody tr th {\n",
       "        vertical-align: top;\n",
       "    }\n",
       "\n",
       "    .dataframe thead th {\n",
       "        text-align: right;\n",
       "    }\n",
       "</style>\n",
       "<table border=\"1\" class=\"dataframe\">\n",
       "  <thead>\n",
       "    <tr style=\"text-align: right;\">\n",
       "      <th></th>\n",
       "      <th>Virus_Family</th>\n",
       "      <th>Type</th>\n",
       "      <th>Value</th>\n",
       "    </tr>\n",
       "  </thead>\n",
       "  <tbody>\n",
       "    <tr>\n",
       "      <th>0</th>\n",
       "      <td>asfarviridae</td>\n",
       "      <td>homo_trans</td>\n",
       "      <td>0.00000</td>\n",
       "    </tr>\n",
       "    <tr>\n",
       "      <th>1</th>\n",
       "      <td>asfarviridae</td>\n",
       "      <td>homo_non_trans</td>\n",
       "      <td>1.00000</td>\n",
       "    </tr>\n",
       "    <tr>\n",
       "      <th>2</th>\n",
       "      <td>poxviridae</td>\n",
       "      <td>homo_trans</td>\n",
       "      <td>0.72727</td>\n",
       "    </tr>\n",
       "    <tr>\n",
       "      <th>3</th>\n",
       "      <td>poxviridae</td>\n",
       "      <td>homo_non_trans</td>\n",
       "      <td>0.27273</td>\n",
       "    </tr>\n",
       "    <tr>\n",
       "      <th>14</th>\n",
       "      <td>togaviridae</td>\n",
       "      <td>homo_trans</td>\n",
       "      <td>0.96000</td>\n",
       "    </tr>\n",
       "    <tr>\n",
       "      <th>...</th>\n",
       "      <td>...</td>\n",
       "      <td>...</td>\n",
       "      <td>...</td>\n",
       "    </tr>\n",
       "    <tr>\n",
       "      <th>121</th>\n",
       "      <td>hepadnaviridae</td>\n",
       "      <td>homo_non_trans</td>\n",
       "      <td>0.00000</td>\n",
       "    </tr>\n",
       "    <tr>\n",
       "      <th>126</th>\n",
       "      <td>phenuiviridae</td>\n",
       "      <td>homo_trans</td>\n",
       "      <td>0.50000</td>\n",
       "    </tr>\n",
       "    <tr>\n",
       "      <th>127</th>\n",
       "      <td>phenuiviridae</td>\n",
       "      <td>homo_non_trans</td>\n",
       "      <td>0.50000</td>\n",
       "    </tr>\n",
       "    <tr>\n",
       "      <th>128</th>\n",
       "      <td>flaviviridae</td>\n",
       "      <td>homo_trans</td>\n",
       "      <td>0.84746</td>\n",
       "    </tr>\n",
       "    <tr>\n",
       "      <th>129</th>\n",
       "      <td>flaviviridae</td>\n",
       "      <td>homo_non_trans</td>\n",
       "      <td>0.15254</td>\n",
       "    </tr>\n",
       "  </tbody>\n",
       "</table>\n",
       "<p>78 rows × 3 columns</p>\n",
       "</div>"
      ],
      "text/plain": [
       "       Virus_Family            Type    Value\n",
       "0      asfarviridae      homo_trans  0.00000\n",
       "1      asfarviridae  homo_non_trans  1.00000\n",
       "2        poxviridae      homo_trans  0.72727\n",
       "3        poxviridae  homo_non_trans  0.27273\n",
       "14      togaviridae      homo_trans  0.96000\n",
       "..              ...             ...      ...\n",
       "121  hepadnaviridae  homo_non_trans  0.00000\n",
       "126   phenuiviridae      homo_trans  0.50000\n",
       "127   phenuiviridae  homo_non_trans  0.50000\n",
       "128    flaviviridae      homo_trans  0.84746\n",
       "129    flaviviridae  homo_non_trans  0.15254\n",
       "\n",
       "[78 rows x 3 columns]"
      ]
     },
     "execution_count": 15,
     "metadata": {},
     "output_type": "execute_result"
    }
   ],
   "source": [
    "train_1"
   ]
  },
  {
   "cell_type": "code",
   "execution_count": 16,
   "metadata": {},
   "outputs": [],
   "source": [
    "train_2 = final_non_homo_data[final_non_homo_data['Virus_Family'].isin(common_set)]"
   ]
  },
  {
   "cell_type": "code",
   "execution_count": 21,
   "metadata": {},
   "outputs": [],
   "source": [
    "aaa = pd.concat([train_1,train_2])\n",
    "aaa.to_csv('/mnt/c/Users/ouyangkang/Desktop/second_final_data.csv',index=None)"
   ]
  },
  {
   "cell_type": "code",
   "execution_count": 54,
   "metadata": {},
   "outputs": [],
   "source": [
    "\n",
    "count_final = pd.DataFrame(columns=['Virus_family','Homo_count','Non_homo_count'])\n",
    "\n",
    "n = 0\n",
    "\n",
    "for i in common_set:\n",
    "    count_family = data[data['VirusFamily'] == i]\n",
    "    count_homo = count_family[count_family['HostFamily'] == 'hominidae']\n",
    "    count_non_homo = count_family[count_family['HostFamily'] != 'hominidae']\n",
    "    list = [i, len(set(count_homo['VirusTaxID'])), len(set(count_non_homo['VirusTaxID']))]\n",
    "    count_final.loc[n] = list\n",
    "    n += 1"
   ]
  },
  {
   "cell_type": "code",
   "execution_count": 56,
   "metadata": {},
   "outputs": [],
   "source": [
    "count_final.to_csv('/mnt/c/Users/ouyangkang/Desktop/count.csv',index=None)"
   ]
  },
  {
   "cell_type": "code",
   "execution_count": 5,
   "metadata": {},
   "outputs": [],
   "source": [
    "with open('/home/ouconstand/wang_0207.txt','r') as f:\n",
    "    wang = f.readlines()\n",
    "\n",
    "common_set = [i.strip('\\n') for i in wang]\n",
    "count_final = pd.DataFrame(columns=['Virus_family','Homo_count','Non_homo_count'])\n",
    "\n",
    "n = 0\n",
    "\n",
    "for i in common_set:\n",
    "    count_family = data[data['VirusFamily'] == i]\n",
    "    count_homo = count_family[count_family['HostFamily'] == 'hominidae']\n",
    "    count_non_homo = count_family[count_family['HostFamily'] != 'hominidae']\n",
    "    list = [i, len(set(count_homo['VirusTaxID'])), len(set(count_non_homo['VirusTaxID']))]\n",
    "    count_final.loc[n] = list\n",
    "    n += 1"
   ]
  },
  {
   "cell_type": "code",
   "execution_count": 6,
   "metadata": {},
   "outputs": [],
   "source": [
    "count_final.to_csv('/mnt/c/Users/ouyangkang/Desktop/screen_0207.csv',index=None)"
   ]
  },
  {
   "cell_type": "code",
   "execution_count": 8,
   "metadata": {},
   "outputs": [
    {
     "data": {
      "text/plain": [
       "8853"
      ]
     },
     "execution_count": 8,
     "metadata": {},
     "output_type": "execute_result"
    }
   ],
   "source": [
    "len(set(data['VirusTaxID']))"
   ]
  },
  {
   "cell_type": "code",
   "execution_count": null,
   "metadata": {},
   "outputs": [],
   "source": [
    "\n",
    "final_homo_data = pd.DataFrame(columns=['Virus_Family', 'Type', 'Value'])\n",
    "final_non_homo_data = pd.DataFrame(columns=['Virus_Family', 'Type', 'Value'])\n",
    "\n",
    "virus_family = set(count_final['Virus_family'])\n",
    "\n",
    "n = 0\n",
    "for one_family in virus_family:\n",
    "    \n",
    "    train_data = data[data['VirusFamily'] == one_family]\n",
    "    virusID_hostfamily = train_data[['VirusTaxID','HostFamily']]\n",
    "    virusID_hostfamily.drop_duplicates(subset=['VirusTaxID','HostFamily'],inplace=True) # drop duplication\n",
    "    virusID_hostfamily.reset_index(drop=True) # reset index\n",
    "\n",
    "    dic = {}\n",
    "\n",
    "    homo_total = 0\n",
    "    non_homo_total = 0\n",
    "\n",
    "    homo_trans = 0\n",
    "    homo_non_trans = 0\n",
    "    non_homo_trans = 0\n",
    "    non_homo_non_trans = 0\n",
    "\n",
    "    for i,j in zip(virusID_hostfamily['VirusTaxID'], virusID_hostfamily['HostFamily']):\n",
    "        dic[i] = dic.get(i, []) + [j]\n",
    "\n",
    "    for value in dic.values():\n",
    "        if 'hominidae' in value:\n",
    "            if len(value) > 1:\n",
    "                homo_trans += 1\n",
    "            else:\n",
    "                homo_non_trans += 1\n",
    "            homo_total += 1\n",
    "\n",
    "        else:\n",
    "            if len(value) > 1:\n",
    "                non_homo_trans += 1\n",
    "            else:\n",
    "                non_homo_non_trans += 1\n",
    "            non_homo_total += 1\n",
    "\n",
    "        \n",
    "    if homo_total != 0:\n",
    "        final_homo_data.loc[(2*n)+0] = [one_family.capitalize(), 'homo_trans', round(homo_trans/homo_total, 5)]\n",
    "        final_homo_data.loc[(2*n)+1] = [one_family.capitalize(), 'homo_non_trans', round(homo_non_trans/homo_total, 5)]\n",
    "    if non_homo_total != 0:\n",
    "        final_non_homo_data.loc[(2*n)+0] = [one_family.capitalize(), 'non_homo_trans', round(non_homo_trans/non_homo_total, 5)]\n",
    "        final_non_homo_data.loc[(2*n)+1] = [one_family.capitalize(), 'non_homo_non_trans', round(non_homo_non_trans/non_homo_total, 5)]\n",
    "    n += 1"
   ]
  },
  {
   "cell_type": "code",
   "execution_count": null,
   "metadata": {},
   "outputs": [],
   "source": [
    "final_homo_data"
   ]
  },
  {
   "cell_type": "code",
   "execution_count": null,
   "metadata": {},
   "outputs": [],
   "source": [
    "final_non_homo_data"
   ]
  },
  {
   "cell_type": "code",
   "execution_count": 80,
   "metadata": {},
   "outputs": [],
   "source": [
    "screen = pd.concat([final_homo_data,final_non_homo_data])"
   ]
  },
  {
   "cell_type": "code",
   "execution_count": 81,
   "metadata": {},
   "outputs": [
    {
     "data": {
      "text/html": [
       "<div>\n",
       "<style scoped>\n",
       "    .dataframe tbody tr th:only-of-type {\n",
       "        vertical-align: middle;\n",
       "    }\n",
       "\n",
       "    .dataframe tbody tr th {\n",
       "        vertical-align: top;\n",
       "    }\n",
       "\n",
       "    .dataframe thead th {\n",
       "        text-align: right;\n",
       "    }\n",
       "</style>\n",
       "<table border=\"1\" class=\"dataframe\">\n",
       "  <thead>\n",
       "    <tr style=\"text-align: right;\">\n",
       "      <th></th>\n",
       "      <th>Virus_Family</th>\n",
       "      <th>Type</th>\n",
       "      <th>Value</th>\n",
       "    </tr>\n",
       "  </thead>\n",
       "  <tbody>\n",
       "    <tr>\n",
       "      <th>0</th>\n",
       "      <td>Poxviridae</td>\n",
       "      <td>homo_trans</td>\n",
       "      <td>0.72727</td>\n",
       "    </tr>\n",
       "    <tr>\n",
       "      <th>1</th>\n",
       "      <td>Poxviridae</td>\n",
       "      <td>homo_non_trans</td>\n",
       "      <td>0.27273</td>\n",
       "    </tr>\n",
       "    <tr>\n",
       "      <th>2</th>\n",
       "      <td>Togaviridae</td>\n",
       "      <td>homo_trans</td>\n",
       "      <td>0.96000</td>\n",
       "    </tr>\n",
       "    <tr>\n",
       "      <th>3</th>\n",
       "      <td>Togaviridae</td>\n",
       "      <td>homo_non_trans</td>\n",
       "      <td>0.04000</td>\n",
       "    </tr>\n",
       "    <tr>\n",
       "      <th>4</th>\n",
       "      <td>Picobirnaviridae</td>\n",
       "      <td>homo_trans</td>\n",
       "      <td>0.44444</td>\n",
       "    </tr>\n",
       "    <tr>\n",
       "      <th>...</th>\n",
       "      <td>...</td>\n",
       "      <td>...</td>\n",
       "      <td>...</td>\n",
       "    </tr>\n",
       "    <tr>\n",
       "      <th>51</th>\n",
       "      <td>Reoviridae</td>\n",
       "      <td>non_homo_non_trans</td>\n",
       "      <td>0.84577</td>\n",
       "    </tr>\n",
       "    <tr>\n",
       "      <th>52</th>\n",
       "      <td>Phenuiviridae</td>\n",
       "      <td>non_homo_trans</td>\n",
       "      <td>0.20833</td>\n",
       "    </tr>\n",
       "    <tr>\n",
       "      <th>53</th>\n",
       "      <td>Phenuiviridae</td>\n",
       "      <td>non_homo_non_trans</td>\n",
       "      <td>0.79167</td>\n",
       "    </tr>\n",
       "    <tr>\n",
       "      <th>54</th>\n",
       "      <td>Flaviviridae</td>\n",
       "      <td>non_homo_trans</td>\n",
       "      <td>0.14194</td>\n",
       "    </tr>\n",
       "    <tr>\n",
       "      <th>55</th>\n",
       "      <td>Flaviviridae</td>\n",
       "      <td>non_homo_non_trans</td>\n",
       "      <td>0.85806</td>\n",
       "    </tr>\n",
       "  </tbody>\n",
       "</table>\n",
       "<p>112 rows × 3 columns</p>\n",
       "</div>"
      ],
      "text/plain": [
       "        Virus_Family                Type    Value\n",
       "0         Poxviridae          homo_trans  0.72727\n",
       "1         Poxviridae      homo_non_trans  0.27273\n",
       "2        Togaviridae          homo_trans  0.96000\n",
       "3        Togaviridae      homo_non_trans  0.04000\n",
       "4   Picobirnaviridae          homo_trans  0.44444\n",
       "..               ...                 ...      ...\n",
       "51        Reoviridae  non_homo_non_trans  0.84577\n",
       "52     Phenuiviridae      non_homo_trans  0.20833\n",
       "53     Phenuiviridae  non_homo_non_trans  0.79167\n",
       "54      Flaviviridae      non_homo_trans  0.14194\n",
       "55      Flaviviridae  non_homo_non_trans  0.85806\n",
       "\n",
       "[112 rows x 3 columns]"
      ]
     },
     "execution_count": 81,
     "metadata": {},
     "output_type": "execute_result"
    }
   ],
   "source": [
    "screen"
   ]
  },
  {
   "cell_type": "code",
   "execution_count": 82,
   "metadata": {},
   "outputs": [],
   "source": [
    "screen.to_csv('/mnt/c/Users/ouyangkang/Desktop/screen_0207.csv',index=None)"
   ]
  },
  {
   "cell_type": "code",
   "execution_count": null,
   "metadata": {},
   "outputs": [],
   "source": []
  }
 ],
 "metadata": {
  "kernelspec": {
   "display_name": "base",
   "language": "python",
   "name": "python3"
  },
  "language_info": {
   "codemirror_mode": {
    "name": "ipython",
    "version": 3
   },
   "file_extension": ".py",
   "mimetype": "text/x-python",
   "name": "python",
   "nbconvert_exporter": "python",
   "pygments_lexer": "ipython3",
   "version": "3.8.8"
  },
  "orig_nbformat": 4,
  "vscode": {
   "interpreter": {
    "hash": "eace1a3d2d18dcb98353cfeb529f20792ec64dcc10ba0bdd358326e3f660811b"
   }
  }
 },
 "nbformat": 4,
 "nbformat_minor": 2
}
