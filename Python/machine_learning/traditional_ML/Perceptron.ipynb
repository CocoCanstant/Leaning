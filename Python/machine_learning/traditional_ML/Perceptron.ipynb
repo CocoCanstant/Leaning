{
 "cells": [
  {
   "cell_type": "markdown",
   "metadata": {},
   "source": [
    "Start Time: January 23, 2024\n",
    "End Time: "
   ]
  },
  {
   "cell_type": "code",
   "execution_count": 1,
   "metadata": {},
   "outputs": [],
   "source": [
    "import numpy as np\n",
    "from sklearn.datasets import make_classification\n",
    "from sklearn import linear_model\n",
    "import matplotlib.pyplot as plt\n",
    "import random"
   ]
  },
  {
   "cell_type": "markdown",
   "metadata": {},
   "source": [
    "# 1. Two-dimention data"
   ]
  },
  {
   "cell_type": "markdown",
   "metadata": {},
   "source": [
    "## 1.1 Create data and visualization"
   ]
  },
  {
   "cell_type": "code",
   "execution_count": 110,
   "metadata": {},
   "outputs": [
    {
     "name": "stdout",
     "output_type": "stream",
     "text": [
      "the intercept is -0.5986275849892874 and the coefficient is 0.53376686590539\n"
     ]
    },
    {
     "data": {
      "image/png": "[encoded data removed]",
      "text/plain": [
       "<Figure size 640x480 with 1 Axes>"
      ]
     },
     "metadata": {},
     "output_type": "display_data"
    }
   ],
   "source": [
    "# two-dimention data\n",
    "td_data = make_classification(n_samples=20, n_features=2, n_informative=2, n_redundant=0, n_clusters_per_class=1, random_state=24)\n",
    "td_data = list(td_data)\n",
    "td_data[1] = np.array([-1 if i == 1 else 1 for i in td_data[1]])\n",
    "td_data = tuple(td_data)\n",
    "\n",
    "# visualized data\n",
    "fig, ax = plt.subplots()\n",
    "scatter = ax.scatter(td_data[0][:, 0], td_data[0][:, 1], c=td_data[1], alpha=0.6, cmap=\"cool\")\n",
    "legend_1 = ax.legend(*scatter.legend_elements(), title=\"Classes\", loc=\"upper left\")\n",
    "ax.add_artist(legend_1)\n",
    "ax.set_xlabel(\"Feature_1\")\n",
    "ax.set_ylabel(\"Feature_2\")\n",
    "\n",
    "# add minimal residual sum of squares line as gold standard\n",
    "reg = linear_model.LinearRegression()\n",
    "\n",
    "# reshape for model fitting\n",
    "reg.fit(td_data[0][:, 0].reshape(-1, 1), td_data[0][:, 1].reshape(-1, 1))\n",
    "print(f\"the intercept is {reg.intercept_[0]} and the coefficient is {reg.coef_[0][0]}\")\n",
    "formula = f\"f(x)={round(reg.coef_[0][0], 2)}*x1-x2{round(reg.intercept_[0], 2)}\"\n",
    "\n",
    "# create a x axis for plotting\n",
    "create_x_axis = np.linspace(min(td_data[0][:, 0]), max(td_data[0][:, 0]), 100).reshape(-1, 1)\n",
    "predicted_value = reg.predict(create_x_axis)\n",
    "\n",
    "ax.plot(create_x_axis, predicted_value, c=\"gold\", alpha=0.8, label=formula)\n",
    "handles, labels = ax.get_legend_handles_labels()\n",
    "legend_2 = ax.legend(handles, labels, loc=\"lower right\")\n",
    "\n",
    "plt.show()"
   ]
  },
  {
   "cell_type": "markdown",
   "metadata": {},
   "source": [
    "## 1.2 manually fit data"
   ]
  },
  {
   "cell_type": "markdown",
   "metadata": {},
   "source": [
    "The loss function \n",
    "$$\n",
    "\\min\\mathbf{L}\\mathcal{(\\omega, b)} = -\\sum_{x_{i}} \\mathcal{y_{i}(\\omega\\cdot x_{i} + b)}\n",
    "$$"
   ]
  },
  {
   "cell_type": "code",
   "execution_count": 235,
   "metadata": {},
   "outputs": [
    {
     "name": "stdout",
     "output_type": "stream",
     "text": [
      "The 1 iteration\tweight=-0.2320219134386893\tintercept=-0.5\n",
      "\n",
      "The 2 iteration\tweight=0.9138116010289036\tintercept=0.0\n",
      "\n",
      "The 3 iteration\tweight=0.8718351932554319\tintercept=0.5\n",
      "\n",
      "The 4 iteration\tweight=0.9095949784863967\tintercept=0.0\n",
      "\n",
      "The 5 iteration\tweight=0.867618570712925\tintercept=0.5\n",
      "\n"
     ]
    }
   ],
   "source": [
    "# initiate weight, intercept and learning rate\n",
    "weight = 0\n",
    "intercept = 0\n",
    "learn_rate = 0.5\n",
    "\n",
    "# take the partial derivative of w and b\n",
    "def partial_derivative_w(data_point):\n",
    "    # feature_1 * feature_2\n",
    "    result = data_point[0] * data_point[1]\n",
    "    return result\n",
    "\n",
    "def partial_derivative_b(data_point):\n",
    "    # label\n",
    "    result = data_point\n",
    "    return result\n",
    "\n",
    "# decision function. w and b will be change if exist data point make \n",
    "def decision_funtion(weight, intercept):\n",
    "    # store raw index of all positive and negative sample for finding wrongly classified data point\n",
    "    raw_positive_index = [np.where(td_data[1] == 1)][0][0]\n",
    "    raw_negative_index = [np.where(td_data[1] == -1)][0][0]\n",
    "\n",
    "    positive_result = td_data[0][np.where(td_data[1] == 1)][:, 0] * td_data[0][np.where(td_data[1] == 1)][:, 1] * weight + intercept\n",
    "    negative_result = -1 * (td_data[0][np.where(td_data[1] == -1)][:, 0] * td_data[0][np.where(td_data[1] == -1)][:, 1] * weight + intercept)\n",
    "\n",
    "    if len(positive_result[positive_result < 0]) == 0 and len(negative_result[negative_result < 0]) == 0:\n",
    "        print(f\"iteration end. the weight is {weight} and the intercept is {intercept}\")\n",
    "        return [False, None, None]\n",
    "    else:\n",
    "        if len(positive_result[positive_result < 0]) == 0:\n",
    "            wrong_dp = td_data[0][raw_negative_index[np.where(negative_result < 0)[0][0]]]\n",
    "            return [True, wrong_dp, -1]\n",
    "        elif len(negative_result[negative_result < 0]) == 0 :\n",
    "            wrong_dp = td_data[0][raw_positive_index[np.where(positive_result < 0)[0][0]]]\n",
    "            return [True, wrong_dp, 1]\n",
    "        else:\n",
    "            wrong_dp = td_data[0][raw_positive_index[np.where(positive_result < 0)[0][0]]]\n",
    "            return [True, wrong_dp, 1]\n",
    "\n",
    "def plot_function(weight, intercept):\n",
    "    fig, ax = plt.subplots()\n",
    "    scatter = ax.scatter(td_data[0][:, 0], td_data[0][:, 1], c=td_data[1], alpha=0.6)\n",
    "    ax.legend(*scatter.legend_elements(), title=\"Classes\")\n",
    "    ax.set_xlabel(\"Feature_1\")\n",
    "    ax.set_ylabel(\"Feature_2\")\n",
    "    hyperplane = [weight * i + intercept for i in create_x_axis]\n",
    "    ax.plot(create_x_axis, hyperplane, c='green', alpha=0.5)\n",
    "    plt.show()\n",
    "\n",
    "\n",
    "# iteration times\n",
    "iteration_times = 5\n",
    "\n",
    "# random value in two dimention data\n",
    "random_index = random.randint(0, 19)\n",
    "feature_point = td_data[0][random_index]\n",
    "label_point = td_data[1][random_index]\n",
    "# it is not correctly classified for any data point resulting in loss function equte 0.\n",
    "for iteration in range(iteration_times):\n",
    "    \n",
    "    new_weight = weight + (learn_rate * partial_derivative_w(feature_point))\n",
    "    new_intercept = intercept + (learn_rate * partial_derivative_b(label_point))\n",
    "    \n",
    "    # decision\n",
    "    decision_condition, wrong_dp, wrong_lp = decision_funtion(new_weight, new_intercept)\n",
    "    \n",
    "    if decision_condition:\n",
    "        weight = new_weight\n",
    "        intercept = new_intercept\n",
    "        # wrong data point\n",
    "        feature_point = wrong_dp\n",
    "        label_point = wrong_lp\n",
    "        print(f\"The {iteration + 1} iteration\\tweight={weight}\\tintercept={intercept}\\n\")\n",
    "        # plot_function(weight, intercept)\n",
    "    else:\n",
    "        print(f\"The {iteration + 1} iteration\\tweight={weight}\\tintercept={intercept}\\n and finish\")\n",
    "        # plot_function(weight, intercept)\n",
    "        break\n",
    "    # print(f\"The {iteration + 1} iteration\\tweight={weight}\\tintercept={intercept}\\n\")\n",
    "\n",
    "# while decision_funtion(weight, intercept):\n",
    "    "
   ]
  },
  {
   "cell_type": "code",
   "execution_count": 223,
   "metadata": {},
   "outputs": [
    {
     "data": {
      "text/plain": [
       "1"
      ]
     },
     "execution_count": 223,
     "metadata": {},
     "output_type": "execute_result"
    }
   ],
   "source": [
    "a = td_data[0][np.where(td_data[1] == 1)][:, 0] * td_data[0][np.where(td_data[1] == 1)][:, 1] * weight + intercept\n",
    "len(a[a < 0])"
   ]
  },
  {
   "cell_type": "code",
   "execution_count": 226,
   "metadata": {},
   "outputs": [
    {
     "data": {
      "text/plain": [
       "array([  252.4120057 , -1266.72436033, -6138.72735938, -1629.58329465,\n",
       "       -1843.50056933, -1112.29359207,  2079.46666337,  4136.82224622,\n",
       "        2923.04311175, 10380.29910972])"
      ]
     },
     "execution_count": 226,
     "metadata": {},
     "output_type": "execute_result"
    }
   ],
   "source": [
    "b = td_data[0][np.where(td_data[1] == -1)][:, 0] * td_data[0][np.where(td_data[1] == -1)][:, 1] * weight + intercept\n",
    "b"
   ]
  },
  {
   "cell_type": "code",
   "execution_count": 229,
   "metadata": {},
   "outputs": [
    {
     "data": {
      "text/plain": [
       "1"
      ]
     },
     "execution_count": 229,
     "metadata": {},
     "output_type": "execute_result"
    }
   ],
   "source": [
    "np.where(b < 0)[0][0]"
   ]
  },
  {
   "cell_type": "code",
   "execution_count": null,
   "metadata": {},
   "outputs": [],
   "source": []
  }
 ],
 "metadata": {
  "kernelspec": {
   "display_name": "ML",
   "language": "python",
   "name": "python3"
  },
  "language_info": {
   "codemirror_mode": {
    "name": "ipython",
    "version": 3
   },
   "file_extension": ".py",
   "mimetype": "text/x-python",
   "name": "python",
   "nbconvert_exporter": "python",
   "pygments_lexer": "ipython3",
   "version": "3.9.16"
  }
 },
 "nbformat": 4,
 "nbformat_minor": 2
}
