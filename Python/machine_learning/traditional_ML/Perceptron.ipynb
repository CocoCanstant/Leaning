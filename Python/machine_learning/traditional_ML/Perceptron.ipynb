{
 "cells": [
  {
   "cell_type": "markdown",
   "metadata": {},
   "source": [
    "Start Time: January 23, 2024\n",
    "End Time: "
   ]
  },
  {
   "cell_type": "code",
   "execution_count": 1,
   "metadata": {},
   "outputs": [],
   "source": [
    "import numpy as np\n",
    "from sklearn.datasets import make_classification\n",
    "from sklearn import linear_model\n",
    "import matplotlib.pyplot as plt\n",
    "import random"
   ]
  },
  {
   "cell_type": "markdown",
   "metadata": {},
   "source": [
    "# 1. Two-dimention data"
   ]
  },
  {
   "cell_type": "markdown",
   "metadata": {},
   "source": [
    "## 1.1 Create data and visualization"
   ]
  },
  {
   "cell_type": "code",
   "execution_count": 71,
   "metadata": {},
   "outputs": [
    {
     "name": "stdout",
     "output_type": "stream",
     "text": [
      "the intercept is -0.5986275849892874 and the coefficient is 0.53376686590539\n"
     ]
    },
    {
     "data": {
      "image/png": "[encoded data removed]",
      "text/plain": [
       "<Figure size 640x480 with 1 Axes>"
      ]
     },
     "metadata": {},
     "output_type": "display_data"
    }
   ],
   "source": [
    "# two-dimention data\n",
    "td_data = make_classification(n_samples=20, n_features=2, n_informative=2, n_redundant=0, n_clusters_per_class=1, random_state=24)\n",
    "\n",
    "td_data = list(td_data)\n",
    "td_data[1] = np.array([-1 if i == 0 else 1 for i in td_data[1]])\n",
    "td_data = tuple(td_data)\n",
    "\n",
    "# visualized data\n",
    "fig, ax = plt.subplots()\n",
    "scatter = ax.scatter(td_data[0][:, 0], td_data[0][:, 1], c=td_data[1], alpha=0.6, cmap=\"cool\")\n",
    "legend_1 = ax.legend(*scatter.legend_elements(), title=\"Classes\", loc=\"upper left\")\n",
    "ax.add_artist(legend_1)\n",
    "ax.set_xlabel(\"Feature_1\")\n",
    "ax.set_ylabel(\"Feature_2\")\n",
    "\n",
    "# add minimal residual sum of squares line as gold standard\n",
    "reg = linear_model.LinearRegression()\n",
    "\n",
    "# reshape for model fitting\n",
    "reg.fit(td_data[0][:, 0].reshape(-1, 1), td_data[0][:, 1].reshape(-1, 1))\n",
    "print(f\"the intercept is {reg.intercept_[0]} and the coefficient is {reg.coef_[0][0]}\")\n",
    "formula = f\"f(x)={round(reg.coef_[0][0], 2)}*x1-x2{round(reg.intercept_[0], 2)}\"\n",
    "\n",
    "# create a x axis for plotting\n",
    "create_x_axis = np.linspace(min(td_data[0][:, 0]), max(td_data[0][:, 0]), 100).reshape(-1, 1)\n",
    "predicted_value = reg.predict(create_x_axis)\n",
    "\n",
    "ax.plot(create_x_axis, predicted_value, c=\"gold\", alpha=0.8, label=formula)\n",
    "handles, labels = ax.get_legend_handles_labels()\n",
    "legend_2 = ax.legend(handles, labels, loc=\"lower right\")\n",
    "\n",
    "plt.show()"
   ]
  },
  {
   "cell_type": "markdown",
   "metadata": {},
   "source": [
    "## 1.2 manually fit data"
   ]
  },
  {
   "cell_type": "markdown",
   "metadata": {},
   "source": [
    "The loss function \n",
    "$$\n",
    "\\min\\mathbf{L}\\mathcal{(\\omega, b)} = -\\sum_{x_{i}} \\mathcal{y_{i}(\\omega\\cdot x_{i} + b)}\n",
    "$$"
   ]
  },
  {
   "cell_type": "code",
   "execution_count": 61,
   "metadata": {},
   "outputs": [],
   "source": [
    "# take the partial derivative of w and b\n",
    "def partial_derivative_w(data_point):\n",
    "    # feature_1 * feature_2\n",
    "    result_w = data_point[0] * data_point[1]\n",
    "    return result_w\n",
    "\n",
    "def partial_derivative_b(data_point):\n",
    "    # label\n",
    "    result_b = data_point\n",
    "    return result_b\n",
    "\n",
    "# decision function. w and b will be change if exist data point make \n",
    "def decision_funtion(weight, intercept):\n",
    "    # if y*(w*x+b) < 0, the data point is wrongly classified.\n",
    "    result = td_data[1] * ((td_data[0][:, 0] + td_data[0][:, 1]) * weight + intercept)\n",
    "\n",
    "    if len(result[np.where(result < 0)]) != 0:\n",
    "        print(result)\n",
    "        wrong_dp_index = np.where(result == result[np.where(result < 0)][0])[0][0]\n",
    "        wrong_dp = td_data[0][wrong_dp_index]\n",
    "        wrong_lb = td_data[1][wrong_dp_index]\n",
    "        return [True, wrong_dp, wrong_lb]\n",
    "    else:\n",
    "        print(\"interation end\")\n",
    "        return [False, None, None]\n",
    "\n",
    "def plot_function(weight, intercept):\n",
    "    fig, ax = plt.subplots()\n",
    "    scatter = ax.scatter(td_data[0][:, 0], td_data[0][:, 1], c=td_data[1], alpha=0.6)\n",
    "    ax.legend(*scatter.legend_elements(), title=\"Classes\")\n",
    "    ax.set_xlabel(\"Feature_1\")\n",
    "    ax.set_ylabel(\"Feature_2\")\n",
    "    hyperplane = [weight * i + intercept for i in create_x_axis]\n",
    "    ax.plot(create_x_axis, hyperplane, c='green', alpha=0.5)\n",
    "    plt.show()\n"
   ]
  },
  {
   "cell_type": "code",
   "execution_count": 73,
   "metadata": {},
   "outputs": [
    {
     "data": {
      "text/plain": [
       "array([-1.44312433, -1.02704826, -0.04666494, -1.11130388, -0.76828559,\n",
       "       -0.0325842 , -1.2334319 , -1.12231626, -0.27689283,  0.9880442 ,\n",
       "       -0.34615145, -0.67144638, -0.42851953,  0.30702624, -1.79691109,\n",
       "       -0.00696677, -0.22825654, -1.50006526, -0.57746366,  1.4552851 ])"
      ]
     },
     "execution_count": 73,
     "metadata": {},
     "output_type": "execute_result"
    }
   ],
   "source": [
    "td_data[1] * ((td_data[0][:, 0] + td_data[0][:, 1]) * 0.43 - 0.6)"
   ]
  },
  {
   "cell_type": "code",
   "execution_count": 62,
   "metadata": {},
   "outputs": [
    {
     "name": "stdout",
     "output_type": "stream",
     "text": [
      "[-0.03373595 -0.16513543 -0.47474675 -0.13852697  0.73211333  0.49977413\n",
      " -0.09995816 -0.13504919  0.57692836 -0.8015145   0.59880067  0.70153089\n",
      "  0.62481304  0.39252299  0.07799217  0.49168398  0.56156871 -0.01575364\n",
      "  0.67185054 -0.94907216]\n",
      "The 1 iteration\tweight=0.13579674619552806\tintercept=0.3\n",
      "\n",
      "[ 0.22184145  0.11236422 -0.14559259  0.13453341  0.360021    0.16644449\n",
      "  0.16666753  0.13743097  0.23072656 -0.41784351  0.24894977  0.33454083\n",
      "  0.27062232  0.07708676  0.31492923  0.15970407  0.21792946  0.23682365\n",
      "  0.30981225 -0.54078315]\n",
      "The 2 iteration\tweight=0.11314087505694918\tintercept=0.0\n",
      "\n",
      "[ 1.55523989  0.93578761 -0.52380287  1.06122702  1.73709772  0.64178865\n",
      "  1.2430507   1.07762221  1.00551429 -2.0642734   1.10862622  1.59292393\n",
      "  1.23125547  0.13617808  2.0819561   0.60364952  0.93310479  1.6400133\n",
      "  1.45300286 -2.75989965]\n",
      "The 3 iteration\tweight=0.6401821580046257\tintercept=-0.3\n",
      "\n",
      "[ 2.88863833  1.75921101 -0.90201316  1.98792063  3.11417445  1.11713282\n",
      "  2.31943386  2.01781345  1.78030201 -3.71070328  1.96830267  2.85130703\n",
      "  2.19188861  0.1952694   3.84898298  1.04759497  1.64828012  3.04320295\n",
      "  2.59619346 -4.97901616]\n",
      "The 4 iteration\tweight=1.1672234409523023\tintercept=-0.6\n",
      "\n",
      "[ 4.22203677  2.58263441 -1.28022344  2.91461423  4.49125118  1.59247698\n",
      "  3.39581703  2.95800468  2.55508973 -5.35713317  2.82797912  4.10969013\n",
      "  3.15252175  0.25436072  5.61600985  1.49154043  2.36345544  4.4463926\n",
      "  3.73938406 -7.19813266]\n",
      "The 5 iteration\tweight=1.694264723899979\tintercept=-0.8999999999999999\n",
      "\n",
      "[ 5.55543521  3.40605781 -1.65843372  3.84130784  5.8683279   2.06782114\n",
      "  4.47220019  3.89819592  3.32987746 -7.00356305  3.68765557  5.36807323\n",
      "  4.11315489  0.31345204  7.38303672  1.93548588  3.07863077  5.84958225\n",
      "  4.88257466 -9.41724916]\n",
      "The 6 iteration\tweight=2.2213060068476556\tintercept=-1.2\n",
      "\n",
      "[  6.88883365   4.22948121  -2.03664401   4.76800145   7.24540463\n",
      "   2.54316531   5.54858336   4.83838716   4.10466518  -8.64999294\n",
      "   4.54733202   6.62645633   5.07378803   0.37254336   9.1500636\n",
      "   2.37943133   3.79380609   7.2527719    6.02576527 -11.63636567]\n",
      "The 7 iteration\tweight=2.748347289795332\tintercept=-1.5\n",
      "\n",
      "[  8.22223209   5.0529046   -2.41485429   5.69469505   8.62248135\n",
      "   3.01850947   6.62496652   5.7785784    4.87945291 -10.29642282\n",
      "   5.40700847   7.88483943   6.03442117   0.43163468  10.91709047\n",
      "   2.82337678   4.50898142   8.65596155   7.16895587 -13.85548217]\n",
      "The 8 iteration\tweight=3.2753885727430085\tintercept=-1.8\n",
      "\n",
      "[  9.55563053   5.876328    -2.79306458   6.62138866   9.99955808\n",
      "   3.49385363   7.70134969   6.71876963   5.65424063 -11.94285271\n",
      "   6.26668492   9.14322253   6.99505432   0.490726    12.68411735\n",
      "   3.26732223   5.22415675  10.0591512    8.31214647 -16.07459867]\n",
      "The 9 iteration\tweight=3.802429855690685\tintercept=-2.1\n",
      "\n",
      "[ 10.88902897   6.6997514   -3.17127486   7.54808227  11.37663481\n",
      "   3.96919779   8.77773285   7.65896087   6.42902835 -13.58928259\n",
      "   7.12636137  10.40160563   7.95568746   0.54981732  14.45114422\n",
      "   3.71126768   5.93933207  11.46234085   9.45533707 -18.29371518]\n",
      "The 10 iteration\tweight=4.329471138638362\tintercept=-2.4\n",
      "\n"
     ]
    }
   ],
   "source": [
    "# initiate weight, intercept and learning rate\n",
    "weight = 0\n",
    "intercept = 0\n",
    "learn_rate = 0.3\n",
    "\n",
    "\n",
    "# iteration times\n",
    "iteration_times = 10\n",
    "\n",
    "# random value in two dimention data\n",
    "random_index = random.randint(0, 19)\n",
    "feature_point = td_data[0][random_index]\n",
    "label_point = td_data[1][random_index]\n",
    "# it is not correctly classified for any data point resulting in loss function equte 0.\n",
    "\n",
    "for iteration in range(iteration_times):\n",
    "    # w1 = w0 + (learn_rate * y * x)\n",
    "    new_weight = weight + (learn_rate * label_point * partial_derivative_w(feature_point))\n",
    "    # b1 = b0 + learn_rate * y\n",
    "    new_intercept = intercept + (learn_rate * partial_derivative_b(label_point))\n",
    "    \n",
    "    # decision\n",
    "    decision_condition, wrong_dp, wrong_lp = decision_funtion(new_weight, new_intercept)\n",
    "    \n",
    "    if decision_condition:\n",
    "        weight = new_weight\n",
    "        intercept = new_intercept\n",
    "        # wrong data point\n",
    "        feature_point = wrong_dp\n",
    "        label_point = wrong_lp\n",
    "        print(f\"The {iteration + 1} iteration\\tweight={weight}\\tintercept={intercept}\\n\")\n",
    "        # plot_function(weight, intercept)\n",
    "    else:\n",
    "        break\n",
    "\n",
    "    # print(f\"The {iteration + 1} iteration\\tweight={weight}\\tintercept={intercept}\\n\")\n",
    "\n",
    "# while decision_funtion(weight, intercept):\n",
    "    "
   ]
  },
  {
   "cell_type": "code",
   "execution_count": 4,
   "metadata": {},
   "outputs": [],
   "source": [
    "weight = 0.53376686590539\n",
    "intercept = -0.5986275849892874\n",
    "\n",
    "td_data[0]"
   ]
  },
  {
   "cell_type": "code",
   "execution_count": 42,
   "metadata": {},
   "outputs": [
    {
     "data": {
      "text/plain": [
       "9"
      ]
     },
     "execution_count": 42,
     "metadata": {},
     "output_type": "execute_result"
    }
   ],
   "source": [
    "result = td_data[1] * ((td_data[0][:, 0] + td_data[0][:, 1]) * 0.14899688225093072) + 0.4\n",
    "np.where(result == result[np.where(result < 0)][0])[0][0]"
   ]
  },
  {
   "cell_type": "code",
   "execution_count": 45,
   "metadata": {},
   "outputs": [
    {
     "data": {
      "text/plain": [
       "-1"
      ]
     },
     "execution_count": 45,
     "metadata": {},
     "output_type": "execute_result"
    }
   ],
   "source": [
    "td_data[1][1]"
   ]
  },
  {
   "cell_type": "code",
   "execution_count": 30,
   "metadata": {},
   "outputs": [
    {
     "data": {
      "text/plain": [
       "<matplotlib.collections.PathCollection at 0x7f1a908197c0>"
      ]
     },
     "execution_count": 30,
     "metadata": {},
     "output_type": "execute_result"
    },
    {
     "data": {
      "image/png": "[encoded data removed]",
      "text/plain": [
       "<Figure size 640x480 with 1 Axes>"
      ]
     },
     "metadata": {},
     "output_type": "display_data"
    }
   ],
   "source": [
    "plt.scatter(td_data[0][10, 0], td_data[0][10, 1])"
   ]
  },
  {
   "cell_type": "code",
   "execution_count": 17,
   "metadata": {},
   "outputs": [
    {
     "data": {
      "text/plain": [
       "array([-1.92145085, -1.27540828, -0.82994534, -1.49870802, -1.76993026,\n",
       "       -1.43475338,  0.17011935, -2.25652144, -1.55073284,  0.73689887])"
      ]
     },
     "execution_count": 17,
     "metadata": {},
     "output_type": "execute_result"
    }
   ],
   "source": [
    "td_data[0][np.where(td_data[1] == -1)][:, 1]"
   ]
  },
  {
   "cell_type": "code",
   "execution_count": 22,
   "metadata": {},
   "outputs": [
    {
     "data": {
      "text/plain": [
       "array([-1.64521324, -1.1287304 ,  0.08823735, -1.23331844, -1.38491819,\n",
       "       -1.24698831,  1.37264073, -2.08437521, -1.71589506,  1.95263541])"
      ]
     },
     "execution_count": 22,
     "metadata": {},
     "output_type": "execute_result"
    }
   ],
   "source": [
    "(td_data[0][np.where(td_data[1] == -1)][:, 0] + td_data[0][np.where(td_data[1] == -1)][:, 1]) * 0.53376686590539 - 0.5986275849892874"
   ]
  },
  {
   "cell_type": "code",
   "execution_count": 25,
   "metadata": {},
   "outputs": [
    {
     "data": {
      "text/plain": [
       "array([-0.59214627, -0.44797409, -0.10826698, -0.47716903, -0.51948693,\n",
       "       -0.48098487,  0.25026427, -0.71473493, -0.61187655,  0.41216528])"
      ]
     },
     "execution_count": 25,
     "metadata": {},
     "output_type": "execute_result"
    }
   ],
   "source": [
    "0.14899688225093072 * (td_data[0][np.where(td_data[1] == -1)][:, 0] + td_data[0][np.where(td_data[1] == -1)][:, 1]) - 0.3"
   ]
  },
  {
   "cell_type": "code",
   "execution_count": null,
   "metadata": {},
   "outputs": [],
   "source": [
    "def decision_funtion(weight, intercept): # 判断的时候可以得用线性函数关于F1 和 F2的\n",
    "    # store raw index of all positive and negative sample for finding wrongly classified data point\n",
    "    raw_positive_index = [np.where(td_data[1] == 1)][0][0]\n",
    "    raw_negative_index = [np.where(td_data[1] == -1)][0][0]\n",
    "\n",
    "    positive_result = (td_data[0][np.where(td_data[1] == 1)][:, 0] + td_data[0][np.where(td_data[1] == 1)][:, 1]) * weight + intercept\n",
    "    negative_result = -1 * ((td_data[0][np.where(td_data[1] == -1)][:, 0] + td_data[0][np.where(td_data[1] == -1)][:, 1]) * weight + intercept)\n",
    "\n",
    "    if len(positive_result[positive_result < 0]) == 0 and len(negative_result[negative_result < 0]) == 0:\n",
    "        print(f\"iteration end. the weight is {weight} and the intercept is {intercept}\")\n",
    "        return [False, None, None]\n",
    "    else:\n",
    "        if len(positive_result[positive_result < 0]) == 0:\n",
    "            wrong_dp = td_data[0][raw_negative_index[np.where(negative_result < 0)[0][0]]]\n",
    "            return [True, wrong_dp, -1]\n",
    "        elif len(negative_result[negative_result < 0]) == 0 :\n",
    "            wrong_dp = td_data[0][raw_positive_index[np.where(positive_result < 0)[0][0]]]\n",
    "            return [True, wrong_dp, 1]\n",
    "        else:\n",
    "            wrong_dp = td_data[0][raw_positive_index[np.where(positive_result < 0)[0][0]]]\n",
    "            return [True, wrong_dp, 1]"
   ]
  }
 ],
 "metadata": {
  "kernelspec": {
   "display_name": "ML",
   "language": "python",
   "name": "python3"
  },
  "language_info": {
   "codemirror_mode": {
    "name": "ipython",
    "version": 3
   },
   "file_extension": ".py",
   "mimetype": "text/x-python",
   "name": "python",
   "nbconvert_exporter": "python",
   "pygments_lexer": "ipython3",
   "version": "3.9.16"
  }
 },
 "nbformat": 4,
 "nbformat_minor": 2
}
