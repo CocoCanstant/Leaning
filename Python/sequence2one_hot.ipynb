{
 "cells": [
  {
   "cell_type": "code",
   "execution_count": 1,
   "metadata": {},
   "outputs": [],
   "source": [
    "from Bio import SeqIO\n",
    "from Bio.SeqRecord import SeqRecord"
   ]
  },
  {
   "cell_type": "code",
   "execution_count": 34,
   "metadata": {},
   "outputs": [],
   "source": [
    "new_record = []\n",
    "for seq_record in SeqIO.parse('/home/ouconstand/data/Virus_Host/seq_data/sequence_0.fasta','fasta'):\n",
    "    seq = seq_record.seq\n",
    "    if len(seq) > 2000:\n",
    "        for i in range(0, len(seq), 500):\n",
    "            if i + 2000 > len(seq):\n",
    "                new_seq = seq[-2000:]\n",
    "                rec = SeqRecord(new_seq, id=seq_record.id, description=seq_record.description, name=seq_record.name)\n",
    "                new_record.append(rec)\n",
    "                break\n",
    "\n",
    "            new_seq = seq[i:i+2000]\n",
    "            rec = SeqRecord(new_seq,id=seq_record.id,description=seq_record.description,name=seq_record.name)\n",
    "            new_record.append(rec)\n",
    "\n",
    "        else:\n",
    "            print('sequence length is less than 2000')\n",
    "            print(seq_record.description)"
   ]
  },
  {
   "cell_type": "code",
   "execution_count": 35,
   "metadata": {},
   "outputs": [
    {
     "data": {
      "text/plain": [
       "[SeqRecord(seq=Seq('ACTTTCGATCTCTTGTAGATCTGTTCTCTAAACGAACTTTAAAATCTGTGTGGC...GCT'), id='MZ519413.1', name='MZ519413.1', description='MZ519413.1 Severe acute respiratory syndrome coronavirus 2 isolate SARS-CoV-2/human/USA/GA-CDC-GA-EHC-081C/2020 ORF1ab polyprotein (ORF1ab), ORF1a polyprotein (ORF1ab), surface glycoprotein (S), ORF3a protein (ORF3a), envelope protein (E), membrane glycoprotein (M), ORF6 protein (ORF6), ORF7a protein (ORF7a), ORF7b (ORF7b), ORF8 protein (ORF8), nucleocapsid phosphoprotein (N), and ORF10 protein (ORF10) genes, complete cds', dbxrefs=[]),\n",
       " SeqRecord(seq=Seq('CTCGAAGGCATTCAGTACGGTCGTAGTGGTGAGACACTTGGTGTCCTTGTCCCT...CTT'), id='MZ519413.1', name='MZ519413.1', description='MZ519413.1 Severe acute respiratory syndrome coronavirus 2 isolate SARS-CoV-2/human/USA/GA-CDC-GA-EHC-081C/2020 ORF1ab polyprotein (ORF1ab), ORF1a polyprotein (ORF1ab), surface glycoprotein (S), ORF3a protein (ORF3a), envelope protein (E), membrane glycoprotein (M), ORF6 protein (ORF6), ORF7a protein (ORF7a), ORF7b (ORF7b), ORF8 protein (ORF8), nucleocapsid phosphoprotein (N), and ORF10 protein (ORF10) genes, complete cds', dbxrefs=[]),\n",
       " SeqRecord(seq=Seq('ATTGGCAAAGAAATTTGACACCTTCAATGGGGAATGTCCAAATTTTGTATTTCC...TTT'), id='MZ519413.1', name='MZ519413.1', description='MZ519413.1 Severe acute respiratory syndrome coronavirus 2 isolate SARS-CoV-2/human/USA/GA-CDC-GA-EHC-081C/2020 ORF1ab polyprotein (ORF1ab), ORF1a polyprotein (ORF1ab), surface glycoprotein (S), ORF3a protein (ORF3a), envelope protein (E), membrane glycoprotein (M), ORF6 protein (ORF6), ORF7a protein (ORF7a), ORF7b (ORF7b), ORF8 protein (ORF8), nucleocapsid phosphoprotein (N), and ORF10 protein (ORF10) genes, complete cds', dbxrefs=[]),\n",
       " SeqRecord(seq=Seq('CACGTGCTAGCGCTAACATAGGTTGTAACCATACAGGTGTTGTTGGAGAAGGTT...ATA'), id='MZ519413.1', name='MZ519413.1', description='MZ519413.1 Severe acute respiratory syndrome coronavirus 2 isolate SARS-CoV-2/human/USA/GA-CDC-GA-EHC-081C/2020 ORF1ab polyprotein (ORF1ab), ORF1a polyprotein (ORF1ab), surface glycoprotein (S), ORF3a protein (ORF3a), envelope protein (E), membrane glycoprotein (M), ORF6 protein (ORF6), ORF7a protein (ORF7a), ORF7b (ORF7b), ORF8 protein (ORF8), nucleocapsid phosphoprotein (N), and ORF10 protein (ORF10) genes, complete cds', dbxrefs=[]),\n",
       " SeqRecord(seq=Seq('ACTAACAATCTAGTTGTAATGGCCTACATTACAGGTGGTGTTGTTCAGTTGACT...TGA'), id='MZ519413.1', name='MZ519413.1', description='MZ519413.1 Severe acute respiratory syndrome coronavirus 2 isolate SARS-CoV-2/human/USA/GA-CDC-GA-EHC-081C/2020 ORF1ab polyprotein (ORF1ab), ORF1a polyprotein (ORF1ab), surface glycoprotein (S), ORF3a protein (ORF3a), envelope protein (E), membrane glycoprotein (M), ORF6 protein (ORF6), ORF7a protein (ORF7a), ORF7b (ORF7b), ORF8 protein (ORF8), nucleocapsid phosphoprotein (N), and ORF10 protein (ORF10) genes, complete cds', dbxrefs=[]),\n",
       " SeqRecord(seq=Seq('GAAAACTGGTGATTTACAACCATTAGAACAACCTACTAGTGAAGCTGTTGAAGC...TTT'), id='MZ519413.1', name='MZ519413.1', description='MZ519413.1 Severe acute respiratory syndrome coronavirus 2 isolate SARS-CoV-2/human/USA/GA-CDC-GA-EHC-081C/2020 ORF1ab polyprotein (ORF1ab), ORF1a polyprotein (ORF1ab), surface glycoprotein (S), ORF3a protein (ORF3a), envelope protein (E), membrane glycoprotein (M), ORF6 protein (ORF6), ORF7a protein (ORF7a), ORF7b (ORF7b), ORF8 protein (ORF8), nucleocapsid phosphoprotein (N), and ORF10 protein (ORF10) genes, complete cds', dbxrefs=[]),\n",
       " SeqRecord(seq=Seq('ACCCTCCAGATGAGGATGAAGAAGAAGGTGATTGTGAAGAAGAAGAGTTTGAGC...GGA'), id='MZ519413.1', name='MZ519413.1', description='MZ519413.1 Severe acute respiratory syndrome coronavirus 2 isolate SARS-CoV-2/human/USA/GA-CDC-GA-EHC-081C/2020 ORF1ab polyprotein (ORF1ab), ORF1a polyprotein (ORF1ab), surface glycoprotein (S), ORF3a protein (ORF3a), envelope protein (E), membrane glycoprotein (M), ORF6 protein (ORF6), ORF7a protein (ORF7a), ORF7b (ORF7b), ORF8 protein (ORF8), nucleocapsid phosphoprotein (N), and ORF10 protein (ORF10) genes, complete cds', dbxrefs=[]),\n",
       " SeqRecord(seq=Seq('GCTACTAATGGACCACTTAAAGTGGGTGGTAGTTGTGTTTTAAGCGGACACAAT...ACA'), id='MZ519413.1', name='MZ519413.1', description='MZ519413.1 Severe acute respiratory syndrome coronavirus 2 isolate SARS-CoV-2/human/USA/GA-CDC-GA-EHC-081C/2020 ORF1ab polyprotein (ORF1ab), ORF1a polyprotein (ORF1ab), surface glycoprotein (S), ORF3a protein (ORF3a), envelope protein (E), membrane glycoprotein (M), ORF6 protein (ORF6), ORF7a protein (ORF7a), ORF7b (ORF7b), ORF8 protein (ORF8), nucleocapsid phosphoprotein (N), and ORF10 protein (ORF10) genes, complete cds', dbxrefs=[]),\n",
       " SeqRecord(seq=Seq('CATTAATGGCAATCTTCATCCAGATTCTGCCACTCTTGTTAGTGACATTGACAT...GCT'), id='MZ519413.1', name='MZ519413.1', description='MZ519413.1 Severe acute respiratory syndrome coronavirus 2 isolate SARS-CoV-2/human/USA/GA-CDC-GA-EHC-081C/2020 ORF1ab polyprotein (ORF1ab), ORF1a polyprotein (ORF1ab), surface glycoprotein (S), ORF3a protein (ORF3a), envelope protein (E), membrane glycoprotein (M), ORF6 protein (ORF6), ORF7a protein (ORF7a), ORF7b (ORF7b), ORF8 protein (ORF8), nucleocapsid phosphoprotein (N), and ORF10 protein (ORF10) genes, complete cds', dbxrefs=[]),\n",
       " SeqRecord(seq=Seq('ACACCAGTAAAACAACTGTAGCGTCACTTATCAACACACTTAACGATCTAAATG...GGC'), id='MZ519413.1', name='MZ519413.1', description='MZ519413.1 Severe acute respiratory syndrome coronavirus 2 isolate SARS-CoV-2/human/USA/GA-CDC-GA-EHC-081C/2020 ORF1ab polyprotein (ORF1ab), ORF1a polyprotein (ORF1ab), surface glycoprotein (S), ORF3a protein (ORF3a), envelope protein (E), membrane glycoprotein (M), ORF6 protein (ORF6), ORF7a protein (ORF7a), ORF7b (ORF7b), ORF8 protein (ORF8), nucleocapsid phosphoprotein (N), and ORF10 protein (ORF10) genes, complete cds', dbxrefs=[]),\n",
       " SeqRecord(seq=Seq('CAACAGTTTGGTCCAACTTATTTGGATGGAGCTGATGTTACTAAAATAAAACCT...AGG'), id='MZ519413.1', name='MZ519413.1', description='MZ519413.1 Severe acute respiratory syndrome coronavirus 2 isolate SARS-CoV-2/human/USA/GA-CDC-GA-EHC-081C/2020 ORF1ab polyprotein (ORF1ab), ORF1a polyprotein (ORF1ab), surface glycoprotein (S), ORF3a protein (ORF3a), envelope protein (E), membrane glycoprotein (M), ORF6 protein (ORF6), ORF7a protein (ORF7a), ORF7b (ORF7b), ORF8 protein (ORF8), nucleocapsid phosphoprotein (N), and ORF10 protein (ORF10) genes, complete cds', dbxrefs=[]),\n",
       " SeqRecord(seq=Seq('GCAGACAACCCTTAAGGGTGTAGAAGCTGTTATGTACATGGGCACACTTTCTTA...CAA'), id='MZ519413.1', name='MZ519413.1', description='MZ519413.1 Severe acute respiratory syndrome coronavirus 2 isolate SARS-CoV-2/human/USA/GA-CDC-GA-EHC-081C/2020 ORF1ab polyprotein (ORF1ab), ORF1a polyprotein (ORF1ab), surface glycoprotein (S), ORF3a protein (ORF3a), envelope protein (E), membrane glycoprotein (M), ORF6 protein (ORF6), ORF7a protein (ORF7a), ORF7b (ORF7b), ORF8 protein (ORF8), nucleocapsid phosphoprotein (N), and ORF10 protein (ORF10) genes, complete cds', dbxrefs=[]),\n",
       " SeqRecord(seq=Seq('TCGATAATTTTAAGTTTGTATGTGATAATATCAAATTTGCTGATGATTTAAACC...TTT'), id='MZ519413.1', name='MZ519413.1', description='MZ519413.1 Severe acute respiratory syndrome coronavirus 2 isolate SARS-CoV-2/human/USA/GA-CDC-GA-EHC-081C/2020 ORF1ab polyprotein (ORF1ab), ORF1a polyprotein (ORF1ab), surface glycoprotein (S), ORF3a protein (ORF3a), envelope protein (E), membrane glycoprotein (M), ORF6 protein (ORF6), ORF7a protein (ORF7a), ORF7b (ORF7b), ORF8 protein (ORF8), nucleocapsid phosphoprotein (N), and ORF10 protein (ORF10) genes, complete cds', dbxrefs=[]),\n",
       " SeqRecord(seq=Seq('CACACAGATCTAATGGCTGCTTATGTAGACAATTCTAGTCTTACTATTAAGAAA...GAT'), id='MZ519413.1', name='MZ519413.1', description='MZ519413.1 Severe acute respiratory syndrome coronavirus 2 isolate SARS-CoV-2/human/USA/GA-CDC-GA-EHC-081C/2020 ORF1ab polyprotein (ORF1ab), ORF1a polyprotein (ORF1ab), surface glycoprotein (S), ORF3a protein (ORF3a), envelope protein (E), membrane glycoprotein (M), ORF6 protein (ORF6), ORF7a protein (ORF7a), ORF7b (ORF7b), ORF8 protein (ORF8), nucleocapsid phosphoprotein (N), and ORF10 protein (ORF10) genes, complete cds', dbxrefs=[]),\n",
       " SeqRecord(seq=Seq('CATGCCTTCTTACTGTACTGGTTACAGAGAAGGCTATTTGAACTCTACTAATGT...ATG'), id='MZ519413.1', name='MZ519413.1', description='MZ519413.1 Severe acute respiratory syndrome coronavirus 2 isolate SARS-CoV-2/human/USA/GA-CDC-GA-EHC-081C/2020 ORF1ab polyprotein (ORF1ab), ORF1a polyprotein (ORF1ab), surface glycoprotein (S), ORF3a protein (ORF3a), envelope protein (E), membrane glycoprotein (M), ORF6 protein (ORF6), ORF7a protein (ORF7a), ORF7b (ORF7b), ORF8 protein (ORF8), nucleocapsid phosphoprotein (N), and ORF10 protein (ORF10) genes, complete cds', dbxrefs=[]),\n",
       " SeqRecord(seq=Seq('CTATTGTTAATGGTGTTAGAAGGTCCTTTTATGTCTATGCTAATGGAGGTAAAG...GTA'), id='MZ519413.1', name='MZ519413.1', description='MZ519413.1 Severe acute respiratory syndrome coronavirus 2 isolate SARS-CoV-2/human/USA/GA-CDC-GA-EHC-081C/2020 ORF1ab polyprotein (ORF1ab), ORF1a polyprotein (ORF1ab), surface glycoprotein (S), ORF3a protein (ORF3a), envelope protein (E), membrane glycoprotein (M), ORF6 protein (ORF6), ORF7a protein (ORF7a), ORF7b (ORF7b), ORF8 protein (ORF8), nucleocapsid phosphoprotein (N), and ORF10 protein (ORF10) genes, complete cds', dbxrefs=[]),\n",
       " SeqRecord(seq=Seq('GATGCTTACGTTAATACGTTTTCATCAACTTTTAACGTACCAATGGAAAAACTC...CAC'), id='MZ519413.1', name='MZ519413.1', description='MZ519413.1 Severe acute respiratory syndrome coronavirus 2 isolate SARS-CoV-2/human/USA/GA-CDC-GA-EHC-081C/2020 ORF1ab polyprotein (ORF1ab), ORF1a polyprotein (ORF1ab), surface glycoprotein (S), ORF3a protein (ORF3a), envelope protein (E), membrane glycoprotein (M), ORF6 protein (ORF6), ORF7a protein (ORF7a), ORF7b (ORF7b), ORF8 protein (ORF8), nucleocapsid phosphoprotein (N), and ORF10 protein (ORF10) genes, complete cds', dbxrefs=[]),\n",
       " SeqRecord(seq=Seq('AGCACTTAAGGGTGGTAAAATTGTTAATAATTGGTTGAAGCAGTTAATTAAAGT...ACA'), id='MZ519413.1', name='MZ519413.1', description='MZ519413.1 Severe acute respiratory syndrome coronavirus 2 isolate SARS-CoV-2/human/USA/GA-CDC-GA-EHC-081C/2020 ORF1ab polyprotein (ORF1ab), ORF1a polyprotein (ORF1ab), surface glycoprotein (S), ORF3a protein (ORF3a), envelope protein (E), membrane glycoprotein (M), ORF6 protein (ORF6), ORF7a protein (ORF7a), ORF7b (ORF7b), ORF8 protein (ORF8), nucleocapsid phosphoprotein (N), and ORF10 protein (ORF10) genes, complete cds', dbxrefs=[]),\n",
       " SeqRecord(seq=Seq('CTTCTGGTAAGCCAGTACCATATTGTTATGATACCAATGTACTAGAAGGTTCTG...CTT'), id='MZ519413.1', name='MZ519413.1', description='MZ519413.1 Severe acute respiratory syndrome coronavirus 2 isolate SARS-CoV-2/human/USA/GA-CDC-GA-EHC-081C/2020 ORF1ab polyprotein (ORF1ab), ORF1a polyprotein (ORF1ab), surface glycoprotein (S), ORF3a protein (ORF3a), envelope protein (E), membrane glycoprotein (M), ORF6 protein (ORF6), ORF7a protein (ORF7a), ORF7b (ORF7b), ORF8 protein (ORF8), nucleocapsid phosphoprotein (N), and ORF10 protein (ORF10) genes, complete cds', dbxrefs=[]),\n",
       " SeqRecord(seq=Seq('CTCTGTTTAACACCAGTTTACTCATTCTTACCTGGTGTTTATTCTGTTATTTAC...TAT'), id='MZ519413.1', name='MZ519413.1', description='MZ519413.1 Severe acute respiratory syndrome coronavirus 2 isolate SARS-CoV-2/human/USA/GA-CDC-GA-EHC-081C/2020 ORF1ab polyprotein (ORF1ab), ORF1a polyprotein (ORF1ab), surface glycoprotein (S), ORF3a protein (ORF3a), envelope protein (E), membrane glycoprotein (M), ORF6 protein (ORF6), ORF7a protein (ORF7a), ORF7b (ORF7b), ORF8 protein (ORF8), nucleocapsid phosphoprotein (N), and ORF10 protein (ORF10) genes, complete cds', dbxrefs=[]),\n",
       " SeqRecord(seq=Seq('CTCAGCTGTTTTGCAGAGTGGTTTTAGAAAAATGGCATTCCCATCTGGTAAAGT...CTG'), id='MZ519413.1', name='MZ519413.1', description='MZ519413.1 Severe acute respiratory syndrome coronavirus 2 isolate SARS-CoV-2/human/USA/GA-CDC-GA-EHC-081C/2020 ORF1ab polyprotein (ORF1ab), ORF1a polyprotein (ORF1ab), surface glycoprotein (S), ORF3a protein (ORF3a), envelope protein (E), membrane glycoprotein (M), ORF6 protein (ORF6), ORF7a protein (ORF7a), ORF7b (ORF7b), ORF8 protein (ORF8), nucleocapsid phosphoprotein (N), and ORF10 protein (ORF10) genes, complete cds', dbxrefs=[]),\n",
       " SeqRecord(seq=Seq('TGCACCATATGGAATTACCAACTGGAGTTCATGCTGGCACAGACTTAGAAGGTA...TAT'), id='MZ519413.1', name='MZ519413.1', description='MZ519413.1 Severe acute respiratory syndrome coronavirus 2 isolate SARS-CoV-2/human/USA/GA-CDC-GA-EHC-081C/2020 ORF1ab polyprotein (ORF1ab), ORF1a polyprotein (ORF1ab), surface glycoprotein (S), ORF3a protein (ORF3a), envelope protein (E), membrane glycoprotein (M), ORF6 protein (ORF6), ORF7a protein (ORF7a), ORF7b (ORF7b), ORF8 protein (ORF8), nucleocapsid phosphoprotein (N), and ORF10 protein (ORF10) genes, complete cds', dbxrefs=[]),\n",
       " SeqRecord(seq=Seq('TTAGTTTTAGTCCAGAGTACTCAATGGTCTTTGTTCTTTTTTTTGTATGAAAAT...AAC'), id='MZ519413.1', name='MZ519413.1', description='MZ519413.1 Severe acute respiratory syndrome coronavirus 2 isolate SARS-CoV-2/human/USA/GA-CDC-GA-EHC-081C/2020 ORF1ab polyprotein (ORF1ab), ORF1a polyprotein (ORF1ab), surface glycoprotein (S), ORF3a protein (ORF3a), envelope protein (E), membrane glycoprotein (M), ORF6 protein (ORF6), ORF7a protein (ORF7a), ORF7b (ORF7b), ORF8 protein (ORF8), nucleocapsid phosphoprotein (N), and ORF10 protein (ORF10) genes, complete cds', dbxrefs=[]),\n",
       " SeqRecord(seq=Seq('TGTTTTTATGTGTGTTGAGTATTGCCCTATTTTCTTCATAACTGGTAATACACT...CAG'), id='MZ519413.1', name='MZ519413.1', description='MZ519413.1 Severe acute respiratory syndrome coronavirus 2 isolate SARS-CoV-2/human/USA/GA-CDC-GA-EHC-081C/2020 ORF1ab polyprotein (ORF1ab), ORF1a polyprotein (ORF1ab), surface glycoprotein (S), ORF3a protein (ORF3a), envelope protein (E), membrane glycoprotein (M), ORF6 protein (ORF6), ORF7a protein (ORF7a), ORF7b (ORF7b), ORF8 protein (ORF8), nucleocapsid phosphoprotein (N), and ORF10 protein (ORF10) genes, complete cds', dbxrefs=[]),\n",
       " SeqRecord(seq=Seq('TAGACATAAACAAGCTTTGTGAAGAAATGCTGGACAACAGGGCAACCTTACAAG...CTG'), id='MZ519413.1', name='MZ519413.1', description='MZ519413.1 Severe acute respiratory syndrome coronavirus 2 isolate SARS-CoV-2/human/USA/GA-CDC-GA-EHC-081C/2020 ORF1ab polyprotein (ORF1ab), ORF1a polyprotein (ORF1ab), surface glycoprotein (S), ORF3a protein (ORF3a), envelope protein (E), membrane glycoprotein (M), ORF6 protein (ORF6), ORF7a protein (ORF7a), ORF7b (ORF7b), ORF8 protein (ORF8), nucleocapsid phosphoprotein (N), and ORF10 protein (ORF10) genes, complete cds', dbxrefs=[]),\n",
       " SeqRecord(seq=Seq('GCATCAGCATTGTGGGAAATCCAACAGGTTGTAGATGCAGATAGTAAAATTGTT...CTT'), id='MZ519413.1', name='MZ519413.1', description='MZ519413.1 Severe acute respiratory syndrome coronavirus 2 isolate SARS-CoV-2/human/USA/GA-CDC-GA-EHC-081C/2020 ORF1ab polyprotein (ORF1ab), ORF1a polyprotein (ORF1ab), surface glycoprotein (S), ORF3a protein (ORF3a), envelope protein (E), membrane glycoprotein (M), ORF6 protein (ORF6), ORF7a protein (ORF7a), ORF7b (ORF7b), ORF8 protein (ORF8), nucleocapsid phosphoprotein (N), and ORF10 protein (ORF10) genes, complete cds', dbxrefs=[]),\n",
       " SeqRecord(seq=Seq('AGAAGTGCCTGCCAATTCAACTGTATTATCTTTCTGTGCTTTTGCTGTAGATGC...ACG'), id='MZ519413.1', name='MZ519413.1', description='MZ519413.1 Severe acute respiratory syndrome coronavirus 2 isolate SARS-CoV-2/human/USA/GA-CDC-GA-EHC-081C/2020 ORF1ab polyprotein (ORF1ab), ORF1a polyprotein (ORF1ab), surface glycoprotein (S), ORF3a protein (ORF3a), envelope protein (E), membrane glycoprotein (M), ORF6 protein (ORF6), ORF7a protein (ORF7a), ORF7b (ORF7b), ORF8 protein (ORF8), nucleocapsid phosphoprotein (N), and ORF10 protein (ORF10) genes, complete cds', dbxrefs=[]),\n",
       " SeqRecord(seq=Seq('GGCTTTTGACATCTACAATGATAAAGTAGCTGGTTTTGCTAAATTCCTAAAAAC...CTG'), id='MZ519413.1', name='MZ519413.1', description='MZ519413.1 Severe acute respiratory syndrome coronavirus 2 isolate SARS-CoV-2/human/USA/GA-CDC-GA-EHC-081C/2020 ORF1ab polyprotein (ORF1ab), ORF1a polyprotein (ORF1ab), surface glycoprotein (S), ORF3a protein (ORF3a), envelope protein (E), membrane glycoprotein (M), ORF6 protein (ORF6), ORF7a protein (ORF7a), ORF7b (ORF7b), ORF8 protein (ORF8), nucleocapsid phosphoprotein (N), and ORF10 protein (ORF10) genes, complete cds', dbxrefs=[]),\n",
       " SeqRecord(seq=Seq('GTATTGTTGGTGTACTGACATTAGATAATCAAGATCTCAATGGTAACTGGTATG...GCT'), id='MZ519413.1', name='MZ519413.1', description='MZ519413.1 Severe acute respiratory syndrome coronavirus 2 isolate SARS-CoV-2/human/USA/GA-CDC-GA-EHC-081C/2020 ORF1ab polyprotein (ORF1ab), ORF1a polyprotein (ORF1ab), surface glycoprotein (S), ORF3a protein (ORF3a), envelope protein (E), membrane glycoprotein (M), ORF6 protein (ORF6), ORF7a protein (ORF7a), ORF7b (ORF7b), ORF8 protein (ORF8), nucleocapsid phosphoprotein (N), and ORF10 protein (ORF10) genes, complete cds', dbxrefs=[]),\n",
       " SeqRecord(seq=Seq('AGTTTTAAGGAATTACTTGTGTATGCTGCTGACCCTGCTATGCACGCTGCTTCT...CGA'), id='MZ519413.1', name='MZ519413.1', description='MZ519413.1 Severe acute respiratory syndrome coronavirus 2 isolate SARS-CoV-2/human/USA/GA-CDC-GA-EHC-081C/2020 ORF1ab polyprotein (ORF1ab), ORF1a polyprotein (ORF1ab), surface glycoprotein (S), ORF3a protein (ORF3a), envelope protein (E), membrane glycoprotein (M), ORF6 protein (ORF6), ORF7a protein (ORF7a), ORF7b (ORF7b), ORF8 protein (ORF8), nucleocapsid phosphoprotein (N), and ORF10 protein (ORF10) genes, complete cds', dbxrefs=[]),\n",
       " SeqRecord(seq=Seq('TAATGTCATCCCTACTATAACTCAAATGAATCTTAAGTATGCCATTAGTGCAAA...CAA'), id='MZ519413.1', name='MZ519413.1', description='MZ519413.1 Severe acute respiratory syndrome coronavirus 2 isolate SARS-CoV-2/human/USA/GA-CDC-GA-EHC-081C/2020 ORF1ab polyprotein (ORF1ab), ORF1a polyprotein (ORF1ab), surface glycoprotein (S), ORF3a protein (ORF3a), envelope protein (E), membrane glycoprotein (M), ORF6 protein (ORF6), ORF7a protein (ORF7a), ORF7b (ORF7b), ORF8 protein (ORF8), nucleocapsid phosphoprotein (N), and ORF10 protein (ORF10) genes, complete cds', dbxrefs=[]),\n",
       " SeqRecord(seq=Seq('TCACGGCCAATGTTAATGCACTTTTATCTACTGATGGTAACAAAATTGCCGATA...CCA'), id='MZ519413.1', name='MZ519413.1', description='MZ519413.1 Severe acute respiratory syndrome coronavirus 2 isolate SARS-CoV-2/human/USA/GA-CDC-GA-EHC-081C/2020 ORF1ab polyprotein (ORF1ab), ORF1a polyprotein (ORF1ab), surface glycoprotein (S), ORF3a protein (ORF3a), envelope protein (E), membrane glycoprotein (M), ORF6 protein (ORF6), ORF7a protein (ORF7a), ORF7b (ORF7b), ORF8 protein (ORF8), nucleocapsid phosphoprotein (N), and ORF10 protein (ORF10) genes, complete cds', dbxrefs=[]),\n",
       " SeqRecord(seq=Seq('TACCCACTTACTAAACATCCTAATCAGGAGTATGCTGATGTCTTTCATTTGTAC...ACA'), id='MZ519413.1', name='MZ519413.1', description='MZ519413.1 Severe acute respiratory syndrome coronavirus 2 isolate SARS-CoV-2/human/USA/GA-CDC-GA-EHC-081C/2020 ORF1ab polyprotein (ORF1ab), ORF1a polyprotein (ORF1ab), surface glycoprotein (S), ORF3a protein (ORF3a), envelope protein (E), membrane glycoprotein (M), ORF6 protein (ORF6), ORF7a protein (ORF7a), ORF7b (ORF7b), ORF8 protein (ORF8), nucleocapsid phosphoprotein (N), and ORF10 protein (ORF10) genes, complete cds', dbxrefs=[]),\n",
       " SeqRecord(seq=Seq('TAATGTTACTGACTTTAATGCAATTGCAACATGTGACTGGACAAATGCTGGTGA...TTG'), id='MZ519413.1', name='MZ519413.1', description='MZ519413.1 Severe acute respiratory syndrome coronavirus 2 isolate SARS-CoV-2/human/USA/GA-CDC-GA-EHC-081C/2020 ORF1ab polyprotein (ORF1ab), ORF1a polyprotein (ORF1ab), surface glycoprotein (S), ORF3a protein (ORF3a), envelope protein (E), membrane glycoprotein (M), ORF6 protein (ORF6), ORF7a protein (ORF7a), ORF7b (ORF7b), ORF8 protein (ORF8), nucleocapsid phosphoprotein (N), and ORF10 protein (ORF10) genes, complete cds', dbxrefs=[]),\n",
       " SeqRecord(seq=Seq('ATTATCAAAAGGTTGGTATGCAAAAGTATTCTACACTCCAGGGACCACCTGGTA...GGT'), id='MZ519413.1', name='MZ519413.1', description='MZ519413.1 Severe acute respiratory syndrome coronavirus 2 isolate SARS-CoV-2/human/USA/GA-CDC-GA-EHC-081C/2020 ORF1ab polyprotein (ORF1ab), ORF1a polyprotein (ORF1ab), surface glycoprotein (S), ORF3a protein (ORF3a), envelope protein (E), membrane glycoprotein (M), ORF6 protein (ORF6), ORF7a protein (ORF7a), ORF7b (ORF7b), ORF8 protein (ORF8), nucleocapsid phosphoprotein (N), and ORF10 protein (ORF10) genes, complete cds', dbxrefs=[]),\n",
       " SeqRecord(seq=Seq('GACATGTTCCTCGGAACTTGTCGGCGTTGTCCTGCTGAAATTGTTGACACTGTG...CAT'), id='MZ519413.1', name='MZ519413.1', description='MZ519413.1 Severe acute respiratory syndrome coronavirus 2 isolate SARS-CoV-2/human/USA/GA-CDC-GA-EHC-081C/2020 ORF1ab polyprotein (ORF1ab), ORF1a polyprotein (ORF1ab), surface glycoprotein (S), ORF3a protein (ORF3a), envelope protein (E), membrane glycoprotein (M), ORF6 protein (ORF6), ORF7a protein (ORF7a), ORF7b (ORF7b), ORF8 protein (ORF8), nucleocapsid phosphoprotein (N), and ORF10 protein (ORF10) genes, complete cds', dbxrefs=[]),\n",
       " SeqRecord(seq=Seq('AGCTGAAAATGTAACAGGACTCTTTAAAGATTGTAGTAAGGTAATCACTGGGTT...ATG'), id='MZ519413.1', name='MZ519413.1', description='MZ519413.1 Severe acute respiratory syndrome coronavirus 2 isolate SARS-CoV-2/human/USA/GA-CDC-GA-EHC-081C/2020 ORF1ab polyprotein (ORF1ab), ORF1a polyprotein (ORF1ab), surface glycoprotein (S), ORF3a protein (ORF3a), envelope protein (E), membrane glycoprotein (M), ORF6 protein (ORF6), ORF7a protein (ORF7a), ORF7b (ORF7b), ORF8 protein (ORF8), nucleocapsid phosphoprotein (N), and ORF10 protein (ORF10) genes, complete cds', dbxrefs=[]),\n",
       " SeqRecord(seq=Seq('TACAAATGTTAAGTGACACACTTAAAAATCTCTCTGACAGAGTCGTATTTGTCT...ATA'), id='MZ519413.1', name='MZ519413.1', description='MZ519413.1 Severe acute respiratory syndrome coronavirus 2 isolate SARS-CoV-2/human/USA/GA-CDC-GA-EHC-081C/2020 ORF1ab polyprotein (ORF1ab), ORF1a polyprotein (ORF1ab), surface glycoprotein (S), ORF3a protein (ORF3a), envelope protein (E), membrane glycoprotein (M), ORF6 protein (ORF6), ORF7a protein (ORF7a), ORF7b (ORF7b), ORF8 protein (ORF8), nucleocapsid phosphoprotein (N), and ORF10 protein (ORF10) genes, complete cds', dbxrefs=[]),\n",
       " SeqRecord(seq=Seq('AACCCTAAAGCTATTAAGTGTGTACCTCAAGCTGATGTAGAATGGAAGTTCTAT...CAT'), id='MZ519413.1', name='MZ519413.1', description='MZ519413.1 Severe acute respiratory syndrome coronavirus 2 isolate SARS-CoV-2/human/USA/GA-CDC-GA-EHC-081C/2020 ORF1ab polyprotein (ORF1ab), ORF1a polyprotein (ORF1ab), surface glycoprotein (S), ORF3a protein (ORF3a), envelope protein (E), membrane glycoprotein (M), ORF6 protein (ORF6), ORF7a protein (ORF7a), ORF7b (ORF7b), ORF8 protein (ORF8), nucleocapsid phosphoprotein (N), and ORF10 protein (ORF10) genes, complete cds', dbxrefs=[]),\n",
       " SeqRecord(seq=Seq('GATGATCTCAGCTGGCTTTAGCTTGTGGGTTTACAAACAATTTGATACTTATAA...ATG'), id='MZ519413.1', name='MZ519413.1', description='MZ519413.1 Severe acute respiratory syndrome coronavirus 2 isolate SARS-CoV-2/human/USA/GA-CDC-GA-EHC-081C/2020 ORF1ab polyprotein (ORF1ab), ORF1a polyprotein (ORF1ab), surface glycoprotein (S), ORF3a protein (ORF3a), envelope protein (E), membrane glycoprotein (M), ORF6 protein (ORF6), ORF7a protein (ORF7a), ORF7b (ORF7b), ORF8 protein (ORF8), nucleocapsid phosphoprotein (N), and ORF10 protein (ORF10) genes, complete cds', dbxrefs=[]),\n",
       " SeqRecord(seq=Seq('GTGTTCTTATTACAGAAGGTAGTGTTAAAGGTTTACAACCATCTGTAGGTCCCA...AGT'), id='MZ519413.1', name='MZ519413.1', description='MZ519413.1 Severe acute respiratory syndrome coronavirus 2 isolate SARS-CoV-2/human/USA/GA-CDC-GA-EHC-081C/2020 ORF1ab polyprotein (ORF1ab), ORF1a polyprotein (ORF1ab), surface glycoprotein (S), ORF3a protein (ORF3a), envelope protein (E), membrane glycoprotein (M), ORF6 protein (ORF6), ORF7a protein (ORF7a), ORF7b (ORF7b), ORF8 protein (ORF8), nucleocapsid phosphoprotein (N), and ORF10 protein (ORF10) genes, complete cds', dbxrefs=[]),\n",
       " SeqRecord(seq=Seq('AAATCCCAAGATTTATCTGTAGTTTCTAAGGTTGTCAAAGTGACTATTGACTAT...CTA'), id='MZ519413.1', name='MZ519413.1', description='MZ519413.1 Severe acute respiratory syndrome coronavirus 2 isolate SARS-CoV-2/human/USA/GA-CDC-GA-EHC-081C/2020 ORF1ab polyprotein (ORF1ab), ORF1a polyprotein (ORF1ab), surface glycoprotein (S), ORF3a protein (ORF3a), envelope protein (E), membrane glycoprotein (M), ORF6 protein (ORF6), ORF7a protein (ORF7a), ORF7b (ORF7b), ORF8 protein (ORF8), nucleocapsid phosphoprotein (N), and ORF10 protein (ORF10) genes, complete cds', dbxrefs=[]),\n",
       " SeqRecord(seq=Seq('TATTAGTGATATGTACGACCCTAAGACTAAAAATGTTACAAAAGAAAATGACTC...TTA'), id='MZ519413.1', name='MZ519413.1', description='MZ519413.1 Severe acute respiratory syndrome coronavirus 2 isolate SARS-CoV-2/human/USA/GA-CDC-GA-EHC-081C/2020 ORF1ab polyprotein (ORF1ab), ORF1a polyprotein (ORF1ab), surface glycoprotein (S), ORF3a protein (ORF3a), envelope protein (E), membrane glycoprotein (M), ORF6 protein (ORF6), ORF7a protein (ORF7a), ORF7b (ORF7b), ORF8 protein (ORF8), nucleocapsid phosphoprotein (N), and ORF10 protein (ORF10) genes, complete cds', dbxrefs=[]),\n",
       " SeqRecord(seq=Seq('TTCTTGTTAACAACTAAACGAACAATGTTTGTTTTTCTTGTTTTATTGCCACTA...CTC'), id='MZ519413.1', name='MZ519413.1', description='MZ519413.1 Severe acute respiratory syndrome coronavirus 2 isolate SARS-CoV-2/human/USA/GA-CDC-GA-EHC-081C/2020 ORF1ab polyprotein (ORF1ab), ORF1a polyprotein (ORF1ab), surface glycoprotein (S), ORF3a protein (ORF3a), envelope protein (E), membrane glycoprotein (M), ORF6 protein (ORF6), ORF7a protein (ORF7a), ORF7b (ORF7b), ORF8 protein (ORF8), nucleocapsid phosphoprotein (N), and ORF10 protein (ORF10) genes, complete cds', dbxrefs=[]),\n",
       " SeqRecord(seq=Seq('TTATTCTAGTGCGAATAATTGCACTTTTGAATATGTCTCTCAGCCTTTTCTTAT...AAG'), id='MZ519413.1', name='MZ519413.1', description='MZ519413.1 Severe acute respiratory syndrome coronavirus 2 isolate SARS-CoV-2/human/USA/GA-CDC-GA-EHC-081C/2020 ORF1ab polyprotein (ORF1ab), ORF1a polyprotein (ORF1ab), surface glycoprotein (S), ORF3a protein (ORF3a), envelope protein (E), membrane glycoprotein (M), ORF6 protein (ORF6), ORF7a protein (ORF7a), ORF7b (ORF7b), ORF8 protein (ORF8), nucleocapsid phosphoprotein (N), and ORF10 protein (ORF10) genes, complete cds', dbxrefs=[]),\n",
       " SeqRecord(seq=Seq('TTGTTAGATTTCCTAATATTACAAACTTGTGCCCTTTTGGTGAAGTTTTTAACG...CAA'), id='MZ519413.1', name='MZ519413.1', description='MZ519413.1 Severe acute respiratory syndrome coronavirus 2 isolate SARS-CoV-2/human/USA/GA-CDC-GA-EHC-081C/2020 ORF1ab polyprotein (ORF1ab), ORF1a polyprotein (ORF1ab), surface glycoprotein (S), ORF3a protein (ORF3a), envelope protein (E), membrane glycoprotein (M), ORF6 protein (ORF6), ORF7a protein (ORF7a), ORF7b (ORF7b), ORF8 protein (ORF8), nucleocapsid phosphoprotein (N), and ORF10 protein (ORF10) genes, complete cds', dbxrefs=[]),\n",
       " SeqRecord(seq=Seq('CAATCATATGGTTTCCAACCCACTAATGGTGTTGGTTACCAACCATACAGAGTA...TCA'), id='MZ519413.1', name='MZ519413.1', description='MZ519413.1 Severe acute respiratory syndrome coronavirus 2 isolate SARS-CoV-2/human/USA/GA-CDC-GA-EHC-081C/2020 ORF1ab polyprotein (ORF1ab), ORF1a polyprotein (ORF1ab), surface glycoprotein (S), ORF3a protein (ORF3a), envelope protein (E), membrane glycoprotein (M), ORF6 protein (ORF6), ORF7a protein (ORF7a), ORF7b (ORF7b), ORF8 protein (ORF8), nucleocapsid phosphoprotein (N), and ORF10 protein (ORF10) genes, complete cds', dbxrefs=[]),\n",
       " SeqRecord(seq=Seq('ATATGAGTGTGACATACCCATTGGTGCAGGTATATGCGCTAGTTATCAGACTCA...TGG'), id='MZ519413.1', name='MZ519413.1', description='MZ519413.1 Severe acute respiratory syndrome coronavirus 2 isolate SARS-CoV-2/human/USA/GA-CDC-GA-EHC-081C/2020 ORF1ab polyprotein (ORF1ab), ORF1a polyprotein (ORF1ab), surface glycoprotein (S), ORF3a protein (ORF3a), envelope protein (E), membrane glycoprotein (M), ORF6 protein (ORF6), ORF7a protein (ORF7a), ORF7b (ORF7b), ORF8 protein (ORF8), nucleocapsid phosphoprotein (N), and ORF10 protein (ORF10) genes, complete cds', dbxrefs=[]),\n",
       " SeqRecord(seq=Seq('TGACACTTGCAGATGCTGGCTTCATCAAACAATATGGTGATTGCCTTGGTGATA...ACT'), id='MZ519413.1', name='MZ519413.1', description='MZ519413.1 Severe acute respiratory syndrome coronavirus 2 isolate SARS-CoV-2/human/USA/GA-CDC-GA-EHC-081C/2020 ORF1ab polyprotein (ORF1ab), ORF1a polyprotein (ORF1ab), surface glycoprotein (S), ORF3a protein (ORF3a), envelope protein (E), membrane glycoprotein (M), ORF6 protein (ORF6), ORF7a protein (ORF7a), ORF7b (ORF7b), ORF8 protein (ORF8), nucleocapsid phosphoprotein (N), and ORF10 protein (ORF10) genes, complete cds', dbxrefs=[]),\n",
       " SeqRecord(seq=Seq('ATTGATAGGTTGATCACAGGCAGACTTCAAAGTTTGCAGACATATGTGACTCAA...ACG'), id='MZ519413.1', name='MZ519413.1', description='MZ519413.1 Severe acute respiratory syndrome coronavirus 2 isolate SARS-CoV-2/human/USA/GA-CDC-GA-EHC-081C/2020 ORF1ab polyprotein (ORF1ab), ORF1a polyprotein (ORF1ab), surface glycoprotein (S), ORF3a protein (ORF3a), envelope protein (E), membrane glycoprotein (M), ORF6 protein (ORF6), ORF7a protein (ORF7a), ORF7b (ORF7b), ORF8 protein (ORF8), nucleocapsid phosphoprotein (N), and ORF10 protein (ORF10) genes, complete cds', dbxrefs=[]),\n",
       " SeqRecord(seq=Seq('TACATCACCAGATGTTGATTTAGGTGACATCTCTGGCATTAATGCTTCAGTTGT...ACA'), id='MZ519413.1', name='MZ519413.1', description='MZ519413.1 Severe acute respiratory syndrome coronavirus 2 isolate SARS-CoV-2/human/USA/GA-CDC-GA-EHC-081C/2020 ORF1ab polyprotein (ORF1ab), ORF1a polyprotein (ORF1ab), surface glycoprotein (S), ORF3a protein (ORF3a), envelope protein (E), membrane glycoprotein (M), ORF6 protein (ORF6), ORF7a protein (ORF7a), ORF7b (ORF7b), ORF8 protein (ORF8), nucleocapsid phosphoprotein (N), and ORF10 protein (ORF10) genes, complete cds', dbxrefs=[]),\n",
       " SeqRecord(seq=Seq('CGTTGCACTTCTTGCTGTTTTTCATAGCGCTTCCAAAATCATAACCCTCAAAAA...CTC'), id='MZ519413.1', name='MZ519413.1', description='MZ519413.1 Severe acute respiratory syndrome coronavirus 2 isolate SARS-CoV-2/human/USA/GA-CDC-GA-EHC-081C/2020 ORF1ab polyprotein (ORF1ab), ORF1a polyprotein (ORF1ab), surface glycoprotein (S), ORF3a protein (ORF3a), envelope protein (E), membrane glycoprotein (M), ORF6 protein (ORF6), ORF7a protein (ORF7a), ORF7b (ORF7b), ORF8 protein (ORF8), nucleocapsid phosphoprotein (N), and ORF10 protein (ORF10) genes, complete cds', dbxrefs=[]),\n",
       " SeqRecord(seq=Seq('CAACTCAATTGAGTACAGACACTGGTGTTGAACATGTTACCTTCTTCATCTACA...GAG'), id='MZ519413.1', name='MZ519413.1', description='MZ519413.1 Severe acute respiratory syndrome coronavirus 2 isolate SARS-CoV-2/human/USA/GA-CDC-GA-EHC-081C/2020 ORF1ab polyprotein (ORF1ab), ORF1a polyprotein (ORF1ab), surface glycoprotein (S), ORF3a protein (ORF3a), envelope protein (E), membrane glycoprotein (M), ORF6 protein (ORF6), ORF7a protein (ORF7a), ORF7b (ORF7b), ORF8 protein (ORF8), nucleocapsid phosphoprotein (N), and ORF10 protein (ORF10) genes, complete cds', dbxrefs=[]),\n",
       " SeqRecord(seq=Seq('GTACTATTACCGTTGAAGAGCTTAAAAAGCTCCTTGAACAATGGAACCTAGTAA...GAA'), id='MZ519413.1', name='MZ519413.1', description='MZ519413.1 Severe acute respiratory syndrome coronavirus 2 isolate SARS-CoV-2/human/USA/GA-CDC-GA-EHC-081C/2020 ORF1ab polyprotein (ORF1ab), ORF1a polyprotein (ORF1ab), surface glycoprotein (S), ORF3a protein (ORF3a), envelope protein (E), membrane glycoprotein (M), ORF6 protein (ORF6), ORF7a protein (ORF7a), ORF7b (ORF7b), ORF8 protein (ORF8), nucleocapsid phosphoprotein (N), and ORF10 protein (ORF10) genes, complete cds', dbxrefs=[]),\n",
       " SeqRecord(seq=Seq('TCACGAACGCTTTCTTATTACAAATTGGGAGCTTCGCAGCGTGTAGCAGGTGAC...TCT'), id='MZ519413.1', name='MZ519413.1', description='MZ519413.1 Severe acute respiratory syndrome coronavirus 2 isolate SARS-CoV-2/human/USA/GA-CDC-GA-EHC-081C/2020 ORF1ab polyprotein (ORF1ab), ORF1a polyprotein (ORF1ab), surface glycoprotein (S), ORF3a protein (ORF3a), envelope protein (E), membrane glycoprotein (M), ORF6 protein (ORF6), ORF7a protein (ORF7a), ORF7b (ORF7b), ORF8 protein (ORF8), nucleocapsid phosphoprotein (N), and ORF10 protein (ORF10) genes, complete cds', dbxrefs=[]),\n",
       " SeqRecord(seq=Seq('TAGCTGATAACAAATTTGCACTGACTTGCTTTAGCACTCAATTTGCTTTTGCTT...TCA'), id='MZ519413.1', name='MZ519413.1', description='MZ519413.1 Severe acute respiratory syndrome coronavirus 2 isolate SARS-CoV-2/human/USA/GA-CDC-GA-EHC-081C/2020 ORF1ab polyprotein (ORF1ab), ORF1a polyprotein (ORF1ab), surface glycoprotein (S), ORF3a protein (ORF3a), envelope protein (E), membrane glycoprotein (M), ORF6 protein (ORF6), ORF7a protein (ORF7a), ORF7b (ORF7b), ORF8 protein (ORF8), nucleocapsid phosphoprotein (N), and ORF10 protein (ORF10) genes, complete cds', dbxrefs=[]),\n",
       " SeqRecord(seq=Seq('TTCTATTTGTGCTTTTTAGCCTTTCTGCTATTCCTTGTTTTAATTATGCTTATT...GGG'), id='MZ519413.1', name='MZ519413.1', description='MZ519413.1 Severe acute respiratory syndrome coronavirus 2 isolate SARS-CoV-2/human/USA/GA-CDC-GA-EHC-081C/2020 ORF1ab polyprotein (ORF1ab), ORF1a polyprotein (ORF1ab), surface glycoprotein (S), ORF3a protein (ORF3a), envelope protein (E), membrane glycoprotein (M), ORF6 protein (ORF6), ORF7a protein (ORF7a), ORF7b (ORF7b), ORF8 protein (ORF8), nucleocapsid phosphoprotein (N), and ORF10 protein (ORF10) genes, complete cds', dbxrefs=[]),\n",
       " SeqRecord(seq=Seq('ATAAAAGGATTCATCCTTCCCAGGACATCCTACCAACCCCGATCTCTTGTAGAT...CAT'), id='MT726043.1', name='MT726043.1', description='MT726043.1 Sarbecovirus sp. isolate PREDICT/PDF-2386/OTBA40RSV, complete genome', dbxrefs=[]),\n",
       " SeqRecord(seq=Seq('TCATGGCCATGTTATGGTTGAATTGGTTGCTGAGTTGAATGGTATTCAGTACGG...CTA'), id='MT726043.1', name='MT726043.1', description='MT726043.1 Sarbecovirus sp. isolate PREDICT/PDF-2386/OTBA40RSV, complete genome', dbxrefs=[]),\n",
       " SeqRecord(seq=Seq('AAAGTTATGAACATCAGACTCCATTTGACATAACCAGTGCTAAGAAGTTTGATT...GGT'), id='MT726043.1', name='MT726043.1', description='MT726043.1 Sarbecovirus sp. isolate PREDICT/PDF-2386/OTBA40RSV, complete genome', dbxrefs=[]),\n",
       " SeqRecord(seq=Seq('GTAGGTTGCTATAACAAAAGAGCCTATTGGGTTCCTCGTGCAGCCGCTAACATA...TTG'), id='MT726043.1', name='MT726043.1', description='MT726043.1 Sarbecovirus sp. isolate PREDICT/PDF-2386/OTBA40RSV, complete genome', dbxrefs=[]),\n",
       " SeqRecord(seq=Seq('TCTAGATGCTATGGTTAACACCAATAACATGGTTATAGATAGCGTTATCGTGAT...ATA'), id='MT726043.1', name='MT726043.1', description='MT726043.1 Sarbecovirus sp. isolate PREDICT/PDF-2386/OTBA40RSV, complete genome', dbxrefs=[]),\n",
       " SeqRecord(seq=Seq('ATGACACATTACTAACTTCGGAAGAAGTTGTTGTGAAAACTGGCACCTTAGAAG...GAG'), id='MT726043.1', name='MT726043.1', description='MT726043.1 Sarbecovirus sp. isolate PREDICT/PDF-2386/OTBA40RSV, complete genome', dbxrefs=[]),\n",
       " SeqRecord(seq=Seq('GAGGTAGTTATGAGTTCACACATGTACTGTTCGTTTTACCCTCCTGACGATGAG...ATT'), id='MT726043.1', name='MT726043.1', description='MT726043.1 Sarbecovirus sp. isolate PREDICT/PDF-2386/OTBA40RSV, complete genome', dbxrefs=[]),\n",
       " SeqRecord(seq=Seq('CCTACATGTTGTTGGTCCTAATAAAAATGCAAATGAGGATGTGAAGCTCTTAGA...CTG'), id='MT726043.1', name='MT726043.1', description='MT726043.1 Sarbecovirus sp. isolate PREDICT/PDF-2386/OTBA40RSV, complete genome', dbxrefs=[]),\n",
       " SeqRecord(seq=Seq('ATATCACATGCTTGATTATACCTAACAAGTCAGCTGGTGGCACAGTTCATATGC...TTC'), id='MT726043.1', name='MT726043.1', description='MT726043.1 Sarbecovirus sp. isolate PREDICT/PDF-2386/OTBA40RSV, complete genome', dbxrefs=[]),\n",
       " SeqRecord(seq=Seq('GCTGCCAGGTACATGCGTTCAGTAAAGGTACCTGTTACAGTCTCTGTGTCTTCA...TGT'), id='MT726043.1', name='MT726043.1', description='MT726043.1 Sarbecovirus sp. isolate PREDICT/PDF-2386/OTBA40RSV, complete genome', dbxrefs=[]),\n",
       " SeqRecord(seq=Seq('ACGTAGTGAAGCCTTTGATTATTACCATGTTCTAGATGAAAGTTTTCTAGGAAG...GTG'), id='MT726043.1', name='MT726043.1', description='MT726043.1 Sarbecovirus sp. isolate PREDICT/PDF-2386/OTBA40RSV, complete genome', dbxrefs=[]),\n",
       " SeqRecord(seq=Seq('TACAATATTTAGTACAACAAGAGTCTTCTTTTGTTATGATGTCGGCACCACCAG...ACT'), id='MT726043.1', name='MT726043.1', description='MT726043.1 Sarbecovirus sp. isolate PREDICT/PDF-2386/OTBA40RSV, complete genome', dbxrefs=[]),\n",
       " SeqRecord(seq=Seq('CCTGACTTGAATGGGGATGTGGTGGCTATTGATTATAGACATTACAACCCTATC...AGA'), id='MT726043.1', name='MT726043.1', description='MT726043.1 Sarbecovirus sp. isolate PREDICT/PDF-2386/OTBA40RSV, complete genome', dbxrefs=[]),\n",
       " SeqRecord(seq=Seq('TTCTGCTATAAGCAGTGTACCGTGGTCAAAAATATGTGCTTATGTGAAACCTTT...CTC'), id='MT726043.1', name='MT726043.1', description='MT726043.1 Sarbecovirus sp. isolate PREDICT/PDF-2386/OTBA40RSV, complete genome', dbxrefs=[]),\n",
       " SeqRecord(seq=Seq('GTTTGGATTCATTAGACTTTTATCCCGCCTTAGAAACAGTTCAGGTTACCATTT...TCA'), id='MT726043.1', name='MT726043.1', description='MT726043.1 Sarbecovirus sp. isolate PREDICT/PDF-2386/OTBA40RSV, complete genome', dbxrefs=[]),\n",
       " SeqRecord(seq=Seq('GGGAGTACCTTTATTAGTGATGAAGTTGCCCGTGATCTTTCTTTACAATTTAAG...TCA'), id='MT726043.1', name='MT726043.1', description='MT726043.1 Sarbecovirus sp. isolate PREDICT/PDF-2386/OTBA40RSV, complete genome', dbxrefs=[]),\n",
       " SeqRecord(seq=Seq('CAATGTCTTATCTACATTCATTGCCGCAGCCAGAAATGGTGTAGTGGATTCTGA...TCT'), id='MT726043.1', name='MT726043.1', description='MT726043.1 Sarbecovirus sp. isolate PREDICT/PDF-2386/OTBA40RSV, complete genome', dbxrefs=[]),\n",
       " SeqRecord(seq=Seq('ACGTGTTGGTTAGTCATAATGATTTTTCATCTGAAGTCATAGGTTACAAAGCCA...GAC'), id='MT726043.1', name='MT726043.1', description='MT726043.1 Sarbecovirus sp. isolate PREDICT/PDF-2386/OTBA40RSV, complete genome', dbxrefs=[]),\n",
       " SeqRecord(seq=Seq('ATCATACAATTCCCTAACACCTACCTTGAGGGCTCTGTTAGAGTTGTCACAACT...GCT'), id='MT726043.1', name='MT726043.1', description='MT726043.1 Sarbecovirus sp. isolate PREDICT/PDF-2386/OTBA40RSV, complete genome', dbxrefs=[]),\n",
       " SeqRecord(seq=Seq('ATGGTTAGCGATGTTTTCACCTATTGTGCCTTTTTGGATAACAGTGACGTATGT...ATT'), id='MT726043.1', name='MT726043.1', description='MT726043.1 Sarbecovirus sp. isolate PREDICT/PDF-2386/OTBA40RSV, complete genome', dbxrefs=[]),\n",
       " SeqRecord(seq=Seq('GGTTGGATGACATTGTCTATTGTCCTAGACATGTTATTTGTACACCAGAAGATA...GCC'), id='MT726043.1', name='MT726043.1', description='MT726043.1 Sarbecovirus sp. isolate PREDICT/PDF-2386/OTBA40RSV, complete genome', dbxrefs=[]),\n",
       " SeqRecord(seq=Seq('ACAACTATTACACTTAATGTTTTAGCTTGGTTGTATGCTGCTGTTATTAACGGA...TAT'), id='MT726043.1', name='MT726043.1', description='MT726043.1 Sarbecovirus sp. isolate PREDICT/PDF-2386/OTBA40RSV, complete genome', dbxrefs=[]),\n",
       " SeqRecord(seq=Seq('TTTGGTTAAACATAAACATGCATTTTTGTGCTTGTTCTTATTACCTTCTTTGAT...ATT'), id='MT726043.1', name='MT726043.1', description='MT726043.1 Sarbecovirus sp. isolate PREDICT/PDF-2386/OTBA40RSV, complete genome', dbxrefs=[]),\n",
       " SeqRecord(seq=Seq('TCGGCTTCTTTTGTTTACTCAACCGCTATTTTAGACTTACTCTTGGTGTGTATG...CCT'), id='MT726043.1', name='MT726043.1', description='MT726043.1 Sarbecovirus sp. isolate PREDICT/PDF-2386/OTBA40RSV, complete genome', dbxrefs=[]),\n",
       " SeqRecord(seq=Seq('CAAGAGGCATATGAACAGGCTGTTGCAAATGGCGATTCTGAAGTCGTTCTTAAA...GAT'), id='MT726043.1', name='MT726043.1', description='MT726043.1 Sarbecovirus sp. isolate PREDICT/PDF-2386/OTBA40RSV, complete genome', dbxrefs=[]),\n",
       " SeqRecord(seq=Seq('TGTTACTGCACTACGGGCCAACTCAGCAGTCAAACTACAGAATAATGAGTTGAG...GAC'), id='MT726043.1', name='MT726043.1', description='MT726043.1 Sarbecovirus sp. isolate PREDICT/PDF-2386/OTBA40RSV, complete genome', dbxrefs=[]),\n",
       " SeqRecord(seq=Seq('GTGTTAAGATGTTGTGTACTCACACAGGTACTGGACAGGCAATAACTGTGACAC...ATA'), id='MT726043.1', name='MT726043.1', description='MT726043.1 Sarbecovirus sp. isolate PREDICT/PDF-2386/OTBA40RSV, complete genome', dbxrefs=[]),\n",
       " SeqRecord(seq=Seq('ATTTTGTTGTTAAGAGACACACTATCTCTAACTATCAACATGAGGAGACCATCT...AGA'), id='MT726043.1', name='MT726043.1', description='MT726043.1 Sarbecovirus sp. isolate PREDICT/PDF-2386/OTBA40RSV, complete genome', dbxrefs=[]),\n",
       " SeqRecord(seq=Seq('TCATATTATTCATTACTGATGCCTATTCTTACATTGACAAGGGCGTTAGACGCT...CAT'), id='MT726043.1', name='MT726043.1', description='MT726043.1 Sarbecovirus sp. isolate PREDICT/PDF-2386/OTBA40RSV, complete genome', dbxrefs=[]),\n",
       " SeqRecord(seq=Seq('TAATAGTGTAGCTTTTCAAACTGTCAAACCTGGTAATTTTAACAAAGATTTCTA...AAA'), id='MT726043.1', name='MT726043.1', description='MT726043.1 Sarbecovirus sp. isolate PREDICT/PDF-2386/OTBA40RSV, complete genome', dbxrefs=[]),\n",
       " SeqRecord(seq=Seq('GACAGTTTCACCAAAAGCTATTAAAGTCTATAGCAGCCACCAGAGGTGCCACAG...CGT'), id='MT726043.1', name='MT726043.1', description='MT726043.1 Sarbecovirus sp. isolate PREDICT/PDF-2386/OTBA40RSV, complete genome', dbxrefs=[]),\n",
       " SeqRecord(seq=Seq('GATGTTGATCATGAATTCGTGGGAGAGTTTTACGCTTATTTGCGTAAACATTTT...ACA'), id='MT726043.1', name='MT726043.1', description='MT726043.1 Sarbecovirus sp. isolate PREDICT/PDF-2386/OTBA40RSV, complete genome', dbxrefs=[]),\n",
       " SeqRecord(seq=Seq('GTATTCAGTTATGCTTACAAATGATAACACTTCCAGGTACTGGGAACCAGAGTT...CAG'), id='MT726043.1', name='MT726043.1', description='MT726043.1 Sarbecovirus sp. isolate PREDICT/PDF-2386/OTBA40RSV, complete genome', dbxrefs=[]),\n",
       " SeqRecord(seq=Seq('CACTCAAAGCTAATGAAGAGACATTTAAATTGTCTTATGGTATCGCCACTGTAC...GGA'), id='MT726043.1', name='MT726043.1', description='MT726043.1 Sarbecovirus sp. isolate PREDICT/PDF-2386/OTBA40RSV, complete genome', dbxrefs=[]),\n",
       " SeqRecord(seq=Seq('ATTGTGTACACAGCTTGCTCCCATGCAGCCGTTGATGCACTATGTGAGAAGGCA...TTC'), id='MT726043.1', name='MT726043.1', description='MT726043.1 Sarbecovirus sp. isolate PREDICT/PDF-2386/OTBA40RSV, complete genome', dbxrefs=[]),\n",
       " SeqRecord(seq=Seq('GTGTTTTAAAATGTTCTATAAGGGTGTGATTACACATGATGTTTCATCTGCAAT...ATG'), id='MT726043.1', name='MT726043.1', description='MT726043.1 Sarbecovirus sp. isolate PREDICT/PDF-2386/OTBA40RSV, complete genome', dbxrefs=[]),\n",
       " SeqRecord(seq=Seq('AAGGTTTATGTGTTGACATACCAGGAATACCCAAGGACATGACTTATCGTAGGC...CAG'), id='MT726043.1', name='MT726043.1', description='MT726043.1 Sarbecovirus sp. isolate PREDICT/PDF-2386/OTBA40RSV, complete genome', dbxrefs=[]),\n",
       " SeqRecord(seq=Seq('CCAGAGAGGACTTGTTGTCTTTGTGACAAGCGAGCCACATGCTTTTCTACTTCA...TTA'), id='MT726043.1', name='MT726043.1', description='MT726043.1 Sarbecovirus sp. isolate PREDICT/PDF-2386/OTBA40RSV, complete genome', dbxrefs=[]),\n",
       " SeqRecord(seq=Seq('TTATGGCACATGTCATGATAAATTCACTGATGGTGTTTGTTTGTTTTGGAATTG...CAC'), id='MT726043.1', name='MT726043.1', description='MT726043.1 Sarbecovirus sp. isolate PREDICT/PDF-2386/OTBA40RSV, complete genome', dbxrefs=[]),\n",
       " SeqRecord(seq=Seq('TTGTTAACAAGGGACATTTCGATGGTGACGCTGGTGAAAAACCCGTATCCATCA...CCT'), id='MT726043.1', name='MT726043.1', description='MT726043.1 Sarbecovirus sp. isolate PREDICT/PDF-2386/OTBA40RSV, complete genome', dbxrefs=[]),\n",
       " SeqRecord(seq=Seq('TTTAACTATTTTAAGAAAGTGGATGGTGTAGTTCAGCAATTACCAGAGACTTAC...TGG'), id='MT726043.1', name='MT726043.1', description='MT726043.1 Sarbecovirus sp. isolate PREDICT/PDF-2386/OTBA40RSV, complete genome', dbxrefs=[]),\n",
       " SeqRecord(seq=Seq('CCCAAAATTGCAAGCAAATCAAGCTTGGCAGCCAGGTGTTGCCATGCCTAGTTT...CAT'), id='MT726043.1', name='MT726043.1', description='MT726043.1 Sarbecovirus sp. isolate PREDICT/PDF-2386/OTBA40RSV, complete genome', dbxrefs=[]),\n",
       " SeqRecord(seq=Seq('TTGGTGGCTCTGTAGCTATAAAGATAACTGAGCATTCTTGGAATGCAGATCTTT...AAT'), id='MT726043.1', name='MT726043.1', description='MT726043.1 Sarbecovirus sp. isolate PREDICT/PDF-2386/OTBA40RSV, complete genome', dbxrefs=[]),\n",
       " SeqRecord(seq=Seq('GCTCTTACTCAACACTTATCATCTAGGAGAGGTTTTTACTACTTTGATGACACT...AGC'), id='MT726043.1', name='MT726043.1', description='MT726043.1 Sarbecovirus sp. isolate PREDICT/PDF-2386/OTBA40RSV, complete genome', dbxrefs=[]),\n",
       " SeqRecord(seq=Seq('CTTTCTTTATGTCTACCATAATTATGAAAGAGCAAATGTTTACGACAACTTCCC...GTG'), id='MT726043.1', name='MT726043.1', description='MT726043.1 Sarbecovirus sp. isolate PREDICT/PDF-2386/OTBA40RSV, complete genome', dbxrefs=[]),\n",
       " SeqRecord(seq=Seq('CATCCTCTTTTTCGACATTCAAGTGTTACGGCGTTTCTCCTACTAAACTCAATG...GGT'), id='MT726043.1', name='MT726043.1', description='MT726043.1 Sarbecovirus sp. isolate PREDICT/PDF-2386/OTBA40RSV, complete genome', dbxrefs=[]),\n",
       " SeqRecord(seq=Seq('TTTAATTTTAATGGACTGACAGGCACTGGTGTGCTTACTAGTTCTACTAAGAAG...GCC'), id='MT726043.1', name='MT726043.1', description='MT726043.1 Sarbecovirus sp. isolate PREDICT/PDF-2386/OTBA40RSV, complete genome', dbxrefs=[]),\n",
       " SeqRecord(seq=Seq('CATACCAACTAATTTTAGTATTAGTGTAACCACTGAAGTACTACCTGTCTCCAT...AGC'), id='MT726043.1', name='MT726043.1', description='MT726043.1 Sarbecovirus sp. isolate PREDICT/PDF-2386/OTBA40RSV, complete genome', dbxrefs=[]),\n",
       " SeqRecord(seq=Seq('GCACCGCTACGGCTGGTTACACTTTTGGAGCAGGTGCTGCACTTCAAATCCCAT...CTC'), id='MT726043.1', name='MT726043.1', description='MT726043.1 Sarbecovirus sp. isolate PREDICT/PDF-2386/OTBA40RSV, complete genome', dbxrefs=[]),\n",
       " SeqRecord(seq=Seq('TATCACCTAATGTCTTTCCCACAAGCCGCACCACATGGTGTTGTTTTCTTGCAT...TGT'), id='MT726043.1', name='MT726043.1', description='MT726043.1 Sarbecovirus sp. isolate PREDICT/PDF-2386/OTBA40RSV, complete genome', dbxrefs=[]),\n",
       " SeqRecord(seq=Seq('ATGGTACGTTTGGCTTGGCTTTGTAGCCGGCATCGTTGCCATTCTTATGTCTGT...GAA'), id='MT726043.1', name='MT726043.1', description='MT726043.1 Sarbecovirus sp. isolate PREDICT/PDF-2386/OTBA40RSV, complete genome', dbxrefs=[]),\n",
       " SeqRecord(seq=Seq('CCCTTTTCTCTATCTCCTAGCCTTAATCTACTTTTTACAGTGTATTGTTTTTGG...GTG'), id='MT726043.1', name='MT726043.1', description='MT726043.1 Sarbecovirus sp. isolate PREDICT/PDF-2386/OTBA40RSV, complete genome', dbxrefs=[]),\n",
       " SeqRecord(seq=Seq('TATAAGCACATTGATTGAGTACGAACTTATGTACTCATTCGTTTCAGAAGAAAC...GAC'), id='MT726043.1', name='MT726043.1', description='MT726043.1 Sarbecovirus sp. isolate PREDICT/PDF-2386/OTBA40RSV, complete genome', dbxrefs=[]),\n",
       " SeqRecord(seq=Seq('GCTTGCTGCTGTTTACAGAATTAACTGGGTTACAGGTGGCATAGCTATTGCCAT...AAC'), id='MT726043.1', name='MT726043.1', description='MT726043.1 Sarbecovirus sp. isolate PREDICT/PDF-2386/OTBA40RSV, complete genome', dbxrefs=[]),\n",
       " SeqRecord(seq=Seq('TTTCAAGTCACTATAGCAGAGCTTTTAATTATCATTATGAAAATTCTTGGAATT...TCT'), id='MT726043.1', name='MT726043.1', description='MT726043.1 Sarbecovirus sp. isolate PREDICT/PDF-2386/OTBA40RSV, complete genome', dbxrefs=[]),\n",
       " SeqRecord(seq=Seq('CAAGAGTGTGCTAGAGGTACTACAGTTTTGCTTACTGAACCTTGTTCACCTAGC...GAC'), id='MT726043.1', name='MT726043.1', description='MT726043.1 Sarbecovirus sp. isolate PREDICT/PDF-2386/OTBA40RSV, complete genome', dbxrefs=[]),\n",
       " SeqRecord(seq=Seq('GATTTAAGTGAATAGCTTGGCTATCTCACTTCCCCTCGTTCTCTTGCAGAACTT...ACC'), id='KT368856.1', name='KT368856.1', description='KT368856.1 Middle East respiratory syndrome coronavirus isolate camel/Jeddah/S94/2014, complete genome', dbxrefs=[]),\n",
       " SeqRecord(seq=Seq('CGGCTGGCTGGACACACTAGACACCTCCCAGGTCCTCGTGTGTACCTGGTTGAG...CCC'), id='KT368856.1', name='KT368856.1', description='KT368856.1 Middle East respiratory syndrome coronavirus isolate camel/Jeddah/S94/2014, complete genome', dbxrefs=[]),\n",
       " SeqRecord(seq=Seq('CATCACATTAAAGAACAATCTATATAGATTGGTTTGGCATGTTGAGCGTAAAGA...AGT'), id='KT368856.1', name='KT368856.1', description='KT368856.1 Middle East respiratory syndrome coronavirus isolate camel/Jeddah/S94/2014, complete genome', dbxrefs=[]),\n",
       " SeqRecord(seq=Seq('ACCTTTCTGAACGCTGTAATGTTATTGCTGATTCTAAGTCCTTCACACTTATCT...ATC'), id='KT368856.1', name='KT368856.1', description='KT368856.1 Middle East respiratory syndrome coronavirus isolate camel/Jeddah/S94/2014, complete genome', dbxrefs=[]),\n",
       " SeqRecord(seq=Seq('ATACCGTACAAGGTTTGCAACTCTGTTAAGGATACTCTGACTTATTATGCTCAC...TGT'), id='KT368856.1', name='KT368856.1', description='KT368856.1 Middle East respiratory syndrome coronavirus isolate camel/Jeddah/S94/2014, complete genome', dbxrefs=[]),\n",
       " SeqRecord(seq=Seq('ATCGGGAACCTATTACTGTGTCACCACTAAGGCTAAGTCCGTTCAACAAGATCT...AAG'), id='KT368856.1', name='KT368856.1', description='KT368856.1 Middle East respiratory syndrome coronavirus isolate camel/Jeddah/S94/2014, complete genome', dbxrefs=[]),\n",
       " SeqRecord(seq=Seq('TTGCTGACGTAGTAAAGGAACAAGTCTCAGACTTGCTTGTTAAATTACTGCGTG...TGG'), id='KT368856.1', name='KT368856.1', description='KT368856.1 Middle East respiratory syndrome coronavirus isolate camel/Jeddah/S94/2014, complete genome', dbxrefs=[]),\n",
       " SeqRecord(seq=Seq('CAGCCCGAGGTAAAAGAAGTTGCACCTGTCTATGAGGCTGATACCGAACAGACA...GGC'), id='KT368856.1', name='KT368856.1', description='KT368856.1 Middle East respiratory syndrome coronavirus isolate camel/Jeddah/S94/2014, complete genome', dbxrefs=[]),\n",
       " SeqRecord(seq=Seq('AAAACCAGCTGTGTCTTTTGATTATCTTATTAGAGAGGCTAAGACTAGAGTTTT...CTT'), id='KT368856.1', name='KT368856.1', description='KT368856.1 Middle East respiratory syndrome coronavirus isolate camel/Jeddah/S94/2014, complete genome', dbxrefs=[]),\n",
       " SeqRecord(seq=Seq('ATTTTATAAAGCACGTCCGCACTAATGGTGGTTACAATTCTTGGCATTTAGTCG...TAT'), id='KT368856.1', name='KT368856.1', description='KT368856.1 Middle East respiratory syndrome coronavirus isolate camel/Jeddah/S94/2014, complete genome', dbxrefs=[]),\n",
       " SeqRecord(seq=Seq('AAGATGGTTGTGTGTGATAAGGTACGTTCTCTCAAATTGAGTGATAATAATTGT...TTC'), id='KT368856.1', name='KT368856.1', description='KT368856.1 Middle East respiratory syndrome coronavirus isolate camel/Jeddah/S94/2014, complete genome', dbxrefs=[]),\n",
       " SeqRecord(seq=Seq('GCCTGATTTTGTAGCGTTTAATGTCTTTCAGGGCATTGAAACGGCTGTTGGCCA...CAA'), id='KT368856.1', name='KT368856.1', description='KT368856.1 Middle East respiratory syndrome coronavirus isolate camel/Jeddah/S94/2014, complete genome', dbxrefs=[]),\n",
       " SeqRecord(seq=Seq('ATGACCCTATTTATAAGAATGGTGCCATGTATAAAGGCAAACCAATTCTTTGGG...CTG'), id='KT368856.1', name='KT368856.1', description='KT368856.1 Middle East respiratory syndrome coronavirus isolate camel/Jeddah/S94/2014, complete genome', dbxrefs=[]),\n",
       " SeqRecord(seq=Seq('TTCAAAGAATTTGCTACCCGCACTTTCACTGCTACCACTGCTGTAGGTAGTTGT...TGC'), id='KT368856.1', name='KT368856.1', description='KT368856.1 Middle East respiratory syndrome coronavirus isolate camel/Jeddah/S94/2014, complete genome', dbxrefs=[]),\n",
       " SeqRecord(seq=Seq('ATTTGATGTACCTACATTCTGCGCAAACCGTTCTGCAATGTGTAATTGGTGCTT...ATG'), id='KT368856.1', name='KT368856.1', description='KT368856.1 Middle East respiratory syndrome coronavirus isolate camel/Jeddah/S94/2014, complete genome', dbxrefs=[]),\n",
       " SeqRecord(seq=Seq('ATGGCGGTATTTCATTCTGTCGTAGGCATAATTGGAATTGTGTGGATTGTGACA...TTG'), id='KT368856.1', name='KT368856.1', description='KT368856.1 Middle East respiratory syndrome coronavirus isolate camel/Jeddah/S94/2014, complete genome', dbxrefs=[]),\n",
       " SeqRecord(seq=Seq('TATAATGTCACACGCGATAAGTTGGAAAAACTTATCTCTACTGCTCGTGATGGC...CAT'), id='KT368856.1', name='KT368856.1', description='KT368856.1 Middle East respiratory syndrome coronavirus isolate camel/Jeddah/S94/2014, complete genome', dbxrefs=[]),\n",
       " SeqRecord(seq=Seq('TCCTACATGGTTTAATGTGTTGCGTGACTTTACGTTAAAGGGTTACGTTCTTGC...TCA'), id='KT368856.1', name='KT368856.1', description='KT368856.1 Middle East respiratory syndrome coronavirus isolate camel/Jeddah/S94/2014, complete genome', dbxrefs=[]),\n",
       " SeqRecord(seq=Seq('CAGAGGGCCGTATGACACCATACTGCCATGATCCTACTGTTTTGCCTGGGGCTT...ACC'), id='KT368856.1', name='KT368856.1', description='KT368856.1 Middle East respiratory syndrome coronavirus isolate camel/Jeddah/S94/2014, complete genome', dbxrefs=[]),\n",
       " SeqRecord(seq=Seq('TGCATCTGCTTTGTTGCTTCTATACCATTGTGTATAGTACCTTACACTGCATTG...TGC'), id='KT368856.1', name='KT368856.1', description='KT368856.1 Middle East respiratory syndrome coronavirus isolate camel/Jeddah/S94/2014, complete genome', dbxrefs=[]),\n",
       " SeqRecord(seq=Seq('AACCTCTGGCGTGTTGCAAAGCGGTTTGGTGAAAATGTCACATCCCAGTGGAGA...TTT'), id='KT368856.1', name='KT368856.1', description='KT368856.1 Middle East respiratory syndrome coronavirus isolate camel/Jeddah/S94/2014, complete genome', dbxrefs=[]),\n",
       " SeqRecord(seq=Seq('ATTTTTGTTACATGCATCAAATGGAACTTGCTAATGGTACACATACCGGTTCAG...CCC'), id='KT368856.1', name='KT368856.1', description='KT368856.1 Middle East respiratory syndrome coronavirus isolate camel/Jeddah/S94/2014, complete genome', dbxrefs=[]),\n",
       " SeqRecord(seq=Seq('TATGTGATAATCTTACAAGCCACTAAATTTACTTTGTGGAACTACTTGTTTGAG...TAA'), id='KT368856.1', name='KT368856.1', description='KT368856.1 Middle East respiratory syndrome coronavirus isolate camel/Jeddah/S94/2014, complete genome', dbxrefs=[]),\n",
       " SeqRecord(seq=Seq('AAAAGTTTGCACTTATGCCATCTTTGCTTACTCACCACAGCTTACACTTGTGTT...CGT'), id='KT368856.1', name='KT368856.1', description='KT368856.1 Middle East respiratory syndrome coronavirus isolate camel/Jeddah/S94/2014, complete genome', dbxrefs=[]),\n",
       " SeqRecord(seq=Seq('CTGGTAATGTAGATCTTGATGCGTTAGCTAGTGATATTTTTGACACTCCTAGCG...TGG'), id='KT368856.1', name='KT368856.1', description='KT368856.1 Middle East respiratory syndrome coronavirus isolate camel/Jeddah/S94/2014, complete genome', dbxrefs=[]),\n",
       " SeqRecord(seq=Seq('TCGCTTAACTACGCTGGGGCTTTGTGGGACATTACAGTTATAAACAATGTGGAC...AGA'), id='KT368856.1', name='KT368856.1', description='KT368856.1 Middle East respiratory syndrome coronavirus isolate camel/Jeddah/S94/2014, complete genome', dbxrefs=[]),\n",
       " SeqRecord(seq=Seq('CACCGAGTTTGCCTCTAATTCTTCGGTGTTGTCACTTGTTAACTTCACCGTTGA...CAT'), id='KT368856.1', name='KT368856.1', description='KT368856.1 Middle East respiratory syndrome coronavirus isolate camel/Jeddah/S94/2014, complete genome', dbxrefs=[]),\n",
       " SeqRecord(seq=Seq('CTTTAGGGCATTTGACATCTGCAACTATAAGGCTAAGGTTGCTGGTATTGGAAA...TTT'), id='KT368856.1', name='KT368856.1', description='KT368856.1 Middle East respiratory syndrome coronavirus isolate camel/Jeddah/S94/2014, complete genome', dbxrefs=[]),\n",
       " SeqRecord(seq=Seq('TCAAGGCTGGTTTAGTCGGTGTGCTCACACTAGACAACCAGGACCTTAATGGCA...GCT'), id='KT368856.1', name='KT368856.1', description='KT368856.1 Middle East respiratory syndrome coronavirus isolate camel/Jeddah/S94/2014, complete genome', dbxrefs=[]),\n",
       " SeqRecord(seq=Seq('CATAGGCTCTCTCTTAAGGAGTTGATGATGTATGCCGCTGATCCAGCCATGCAC...CAC'), id='KT368856.1', name='KT368856.1', description='KT368856.1 Middle East respiratory syndrome coronavirus isolate camel/Jeddah/S94/2014, complete genome', dbxrefs=[]),\n",
       " SeqRecord(seq=Seq('GACAAAGCGTAACGTCATTCCTACCATGACTCAAATGAATCTAAAATATGCTAT...GTC'), id='KT368856.1', name='KT368856.1', description='KT368856.1 Middle East respiratory syndrome coronavirus isolate camel/Jeddah/S94/2014, complete genome', dbxrefs=[]),\n",
       " SeqRecord(seq=Seq('TGCAGGCGACAACTGCTAATGTCAGTGCACTTATGGGTGCTAATGGCAACAAGA...AAC'), id='KT368856.1', name='KT368856.1', description='KT368856.1 Middle East respiratory syndrome coronavirus isolate camel/Jeddah/S94/2014, complete genome', dbxrefs=[]),\n",
       " SeqRecord(seq=Seq('ATAGATGCTTACCCTCTCACAAAGCATGAAGATATAGAATACCAGAATGTATTC...CCA'), id='KT368856.1', name='KT368856.1', description='KT368856.1 Middle East respiratory syndrome coronavirus isolate camel/Jeddah/S94/2014, complete genome', dbxrefs=[]),\n",
       " SeqRecord(seq=Seq('AGGTAGTCCTTCTATAGTTGAATTTAATAGGTTGGCTACCTGTGACTGGACTGA...TAG'), id='KT368856.1', name='KT368856.1', description='KT368856.1 Middle East respiratory syndrome coronavirus isolate camel/Jeddah/S94/2014, complete genome', dbxrefs=[]),\n",
       " SeqRecord(seq=Seq('ATGTTGCCAACTTCCAAAAATCAGGTTATAGTAAATATGTCACTGTTCAGGGAC...GGC'), id='KT368856.1', name='KT368856.1', description='KT368856.1 Middle East respiratory syndrome coronavirus isolate camel/Jeddah/S94/2014, complete genome', dbxrefs=[]),\n",
       " SeqRecord(seq=Seq('TTAGGTCCTGACATATTTTTAAGTATGTGCTACAGGTGTCCTAAGGAAATAGTA...TGC'), id='KT368856.1', name='KT368856.1', description='KT368856.1 Middle East respiratory syndrome coronavirus isolate camel/Jeddah/S94/2014, complete genome', dbxrefs=[]),\n",
       " SeqRecord(seq=Seq('GTCTCAGATTGTAACTGGCCTTTTTAAAGATTGCTCTAGAGAAACTTCTGGCCT...TCA'), id='KT368856.1', name='KT368856.1', description='KT368856.1 Middle East respiratory syndrome coronavirus isolate camel/Jeddah/S94/2014, complete genome', dbxrefs=[]),\n",
       " SeqRecord(seq=Seq('TGCAAATGTTGTCAGACACTTTAGACAAATTGTCTGATTACTGTACGTTTGTTT...GGC'), id='KT368856.1', name='KT368856.1', description='KT368856.1 Middle East respiratory syndrome coronavirus isolate camel/Jeddah/S94/2014, complete genome', dbxrefs=[]),\n",
       " SeqRecord(seq=Seq('AATCCTAAAGGAATTCCTATTGTTGATGACCCTGTTGTTGATTGGCATTATTTT...TGA'), id='KT368856.1', name='KT368856.1', description='KT368856.1 Middle East respiratory syndrome coronavirus isolate camel/Jeddah/S94/2014, complete genome', dbxrefs=[]),\n",
       " SeqRecord(seq=Seq('ATCAGGTTTCCGCCTTTGGTGTTATAAGACCTTTGATATTTATAATCTCTGGTC...ACA'), id='KT368856.1', name='KT368856.1', description='KT368856.1 Middle East respiratory syndrome coronavirus isolate camel/Jeddah/S94/2014, complete genome', dbxrefs=[]),\n",
       " SeqRecord(seq=Seq('AGAAATACCCTTGTATGGTAGGTCCTGATTATGCTTACTTCAATGGTGCTATCA...AGC'), id='KT368856.1', name='KT368856.1', description='KT368856.1 Middle East respiratory syndrome coronavirus isolate camel/Jeddah/S94/2014, complete genome', dbxrefs=[]),\n",
       " SeqRecord(seq=Seq('GTAGTATCCAAGGTTGTCAAGGTTCCTATTGACTTAACAATGATTGAGTTTATG...ACT'), id='KT368856.1', name='KT368856.1', description='KT368856.1 Middle East respiratory syndrome coronavirus isolate camel/Jeddah/S94/2014, complete genome', dbxrefs=[]),\n",
       " SeqRecord(seq=Seq('TCCTACTACTAAGAATGTAACAGGTAGTAATGAGTCAAAGGCTTTATTCTTTAC...CCT'), id='KT368856.1', name='KT368856.1', description='KT368856.1 Middle East respiratory syndrome coronavirus isolate camel/Jeddah/S94/2014, complete genome', dbxrefs=[]),\n",
       " SeqRecord(seq=Seq('GAAAGTTACGTTGATGTAGGGCCAGATTCTGTTAAGTCTGCTTGTATTGAGGTT...CAT'), id='KT368856.1', name='KT368856.1', description='KT368856.1 Middle East respiratory syndrome coronavirus isolate camel/Jeddah/S94/2014, complete genome', dbxrefs=[]),\n",
       " SeqRecord(seq=Seq('TTTTTATTGTATTCTAGAGCCTCGCTCTGGAAATCATTGTCCTGCTGGCAATTC...ATT'), id='KT368856.1', name='KT368856.1', description='KT368856.1 Middle East respiratory syndrome coronavirus isolate camel/Jeddah/S94/2014, complete genome', dbxrefs=[]),\n",
       " SeqRecord(seq=Seq('GCTCATATGAATCCTTCGATGTTGAATCTGGAGTTTATTCAGTTTCGTCTTTCG...ACT'), id='KT368856.1', name='KT368856.1', description='KT368856.1 Middle East respiratory syndrome coronavirus isolate camel/Jeddah/S94/2014, complete genome', dbxrefs=[]),\n",
       " SeqRecord(seq=Seq('CAGTTAGTGAACGCTAATCAATACTCACCCTGTGTATCCATTGTCCCATCCACT...TGA'), id='KT368856.1', name='KT368856.1', description='KT368856.1 Middle East respiratory syndrome coronavirus isolate camel/Jeddah/S94/2014, complete genome', dbxrefs=[]),\n",
       " SeqRecord(seq=Seq('TTCTTCTACCATGTCTCAATACTCCCGTTCTACGCGATCAATGCTTAAACGGCG...ATA'), id='KT368856.1', name='KT368856.1', description='KT368856.1 Middle East respiratory syndrome coronavirus isolate camel/Jeddah/S94/2014, complete genome', dbxrefs=[]),\n",
       " SeqRecord(seq=Seq('TGTTTGCGAGCGTGAAAAGCTCTCAATCATCTCCTATCATACCAGGTTTTGGAG...ATC'), id='KT368856.1', name='KT368856.1', description='KT368856.1 Middle East respiratory syndrome coronavirus isolate camel/Jeddah/S94/2014, complete genome', dbxrefs=[]),\n",
       " SeqRecord(seq=Seq('AATGAAGCTTTTCGGAAGGTTCAGGATGCTGTGAACAACAATGCACAGGCTCTA...GTT'), id='KT368856.1', name='KT368856.1', description='KT368856.1 Middle East respiratory syndrome coronavirus isolate camel/Jeddah/S94/2014, complete genome', dbxrefs=[]),\n",
       " SeqRecord(seq=Seq('TGAGTGGTCATATACTGGCTCGTCCTTCTATGCACCTGAGCCCATCACCTCTCT...ATT'), id='KT368856.1', name='KT368856.1', description='KT368856.1 Middle East respiratory syndrome coronavirus isolate camel/Jeddah/S94/2014, complete genome', dbxrefs=[]),\n",
       " SeqRecord(seq=Seq('AGGTTCATGTTCACTAATTAACGAACTATCAATGAGAGTTCAAAGACCACCCAC...GCT'), id='KT368856.1', name='KT368856.1', description='KT368856.1 Middle East respiratory syndrome coronavirus isolate camel/Jeddah/S94/2014, complete genome', dbxrefs=[]),\n",
       " SeqRecord(seq=Seq('CTTTGCTGGTTATACTGAATCTGCTGTTAATTCTACAAAAGCTTTGGCCAAACA...AAA'), id='KT368856.1', name='KT368856.1', description='KT368856.1 Middle East respiratory syndrome coronavirus isolate camel/Jeddah/S94/2014, complete genome', dbxrefs=[]),\n",
       " SeqRecord(seq=Seq('CTTAATGCATCAGAGATCTACTGTGCTAACATACATAGATTTAAGCCTGTGTAT...TTG'), id='KT368856.1', name='KT368856.1', description='KT368856.1 Middle East respiratory syndrome coronavirus isolate camel/Jeddah/S94/2014, complete genome', dbxrefs=[]),\n",
       " SeqRecord(seq=Seq('ACTGCTACGTCAAGATACTTGTCGTCGCAGCATTATCAGAACTATGGTTCTCTA...GCT'), id='KT368856.1', name='KT368856.1', description='KT368856.1 Middle East respiratory syndrome coronavirus isolate camel/Jeddah/S94/2014, complete genome', dbxrefs=[]),\n",
       " SeqRecord(seq=Seq('CGCTTATCGTTTAAGCAGCTCTGCGCTACTATGGGTCCCGTGTAGAGGCTAATC...ATT'), id='KT368856.1', name='KT368856.1', description='KT368856.1 Middle East respiratory syndrome coronavirus isolate camel/Jeddah/S94/2014, complete genome', dbxrefs=[]),\n",
       " SeqRecord(seq=Seq('TGTTTGTTTTATGGCTCCTATGGCCATCTTCCATGGCGCTATCAATATTTAGCG...CCT'), id='KT368856.1', name='KT368856.1', description='KT368856.1 Middle East respiratory syndrome coronavirus isolate camel/Jeddah/S94/2014, complete genome', dbxrefs=[]),\n",
       " SeqRecord(seq=Seq('TGATGTGGATTTCCTACTTTGTGCAGAGTATCCGGCTGTTTATGAGAACTGGAT...AAA'), id='KT368856.1', name='KT368856.1', description='KT368856.1 Middle East respiratory syndrome coronavirus isolate camel/Jeddah/S94/2014, complete genome', dbxrefs=[]),\n",
       " SeqRecord(seq=Seq('ACTTAAGTGTCTTATCTATCTATAGATAGAAAAGTCGCTTTTTAGACTTTGTGT...TTA'), id='KT368895.1', name='KT368895.1', description='KT368895.1 Camel alphacoronavirus isolate camel/Jeddah/O23(a)/2014, complete genome', dbxrefs=[]),\n",
       " SeqRecord(seq=Seq('CGTTGTCCTGCAATATAATGAAATTTTCTGACCGTCCCTTTATGCTTCGTGGTT...GAC'), id='KT368895.1', name='KT368895.1', description='KT368895.1 Camel alphacoronavirus isolate camel/Jeddah/O23(a)/2014, complete genome', dbxrefs=[]),\n",
       " SeqRecord(seq=Seq('CCTGTGTTCATTAGTGCATTTGTTCAATGTACTTGTGGCAACAAGTCTTGGTCT...CTC'), id='KT368895.1', name='KT368895.1', description='KT368895.1 Camel alphacoronavirus isolate camel/Jeddah/O23(a)/2014, complete genome', dbxrefs=[]),\n",
       " SeqRecord(seq=Seq('GGCTGAAGACATTTTTGGCCCGTGTTGGTCTGCTCTTGTTTCTGTGCTTAAACA...AGC'), id='KT368895.1', name='KT368895.1', description='KT368895.1 Camel alphacoronavirus isolate camel/Jeddah/O23(a)/2014, complete genome', dbxrefs=[]),\n",
       " SeqRecord(seq=Seq('GTGATGGCTACTTCCGTCTTATGGCCAGTCCAAATAGTGTGTTGACTACTGCAG...CCA'), id='KT368895.1', name='KT368895.1', description='KT368895.1 Camel alphacoronavirus isolate camel/Jeddah/O23(a)/2014, complete genome', dbxrefs=[]),\n",
       " SeqRecord(seq=Seq('TGGCTTAAATCTTTGAAATTAACTCTTACACCAGAGGGTCTGTTTGGTACTTGT...TGG'), id='KT368895.1', name='KT368895.1', description='KT368895.1 Camel alphacoronavirus isolate camel/Jeddah/O23(a)/2014, complete genome', dbxrefs=[]),\n",
       " SeqRecord(seq=Seq('TGACGCAGTAGAAGTTAAAGATATTCCACCTGTCTATAGAGTTAAACTTTGCTT...ATA'), id='KT368895.1', name='KT368895.1', description='KT368895.1 Camel alphacoronavirus isolate camel/Jeddah/O23(a)/2014, complete genome', dbxrefs=[]),\n",
       " SeqRecord(seq=Seq('TACAATTAACAGGCATACTCGATGATGACTATGCTATGCAGTTCTTTAAAATTG...TTT'), id='KT368895.1', name='KT368895.1', description='KT368895.1 Camel alphacoronavirus isolate camel/Jeddah/O23(a)/2014, complete genome', dbxrefs=[]),\n",
       " SeqRecord(seq=Seq('AATGATGCACTTAACACTATTTGTATTAGAGATGCAAATTATAGCGCAAAAGTT...GGT'), id='KT368895.1', name='KT368895.1', description='KT368895.1 Camel alphacoronavirus isolate camel/Jeddah/O23(a)/2014, complete genome', dbxrefs=[]),\n",
       " SeqRecord(seq=Seq('TGTCAAACTTGAAACTTCATTAGAAGTTTTGCTTGCTGTTTGTAATACAAAGGA...ATG'), id='KT368895.1', name='KT368895.1', description='KT368895.1 Camel alphacoronavirus isolate camel/Jeddah/O23(a)/2014, complete genome', dbxrefs=[]),\n",
       " SeqRecord(seq=Seq('GACTTATGTGTGATATAGTTTGTACTATACCAGCTGAGCATGTCTTGCCATTAT...AAT'), id='KT368895.1', name='KT368895.1', description='KT368895.1 Camel alphacoronavirus isolate camel/Jeddah/O23(a)/2014, complete genome', dbxrefs=[]),\n",
       " SeqRecord(seq=Seq('GTTTTAGGCGATGTTGAAACTTTTGTCGCATTTATTTACTATGTAGCAGGGTTA...GTA'), id='KT368895.1', name='KT368895.1', description='KT368895.1 Camel alphacoronavirus isolate camel/Jeddah/O23(a)/2014, complete genome', dbxrefs=[]),\n",
       " SeqRecord(seq=Seq('TGGTGGTTATGTTGCACCTGTTAAAACAGTGAAACCTAAACCAGTCATTAATCA...TAC'), id='KT368895.1', name='KT368895.1', description='KT368895.1 Camel alphacoronavirus isolate camel/Jeddah/O23(a)/2014, complete genome', dbxrefs=[]),\n",
       " SeqRecord(seq=Seq('TTGTGTGGAAGCATATAACAGACCCTTTGTTTAGTAATATGCAACCTTTCATTG...TTG'), id='KT368895.1', name='KT368895.1', description='KT368895.1 Camel alphacoronavirus isolate camel/Jeddah/O23(a)/2014, complete genome', dbxrefs=[]),\n",
       " SeqRecord(seq=Seq('GTGCAACCAACAGGCCCAGCTTATGTCATGGTTGACAAAGTGGAGTTTGAAAAT...ACT'), id='KT368895.1', name='KT368895.1', description='KT368895.1 Camel alphacoronavirus isolate camel/Jeddah/O23(a)/2014, complete genome', dbxrefs=[]),\n",
       " SeqRecord(seq=Seq('TGCTAAACCTGATGAAAAATTATCAGCTTATGACTTGGCTTGTTGTATGCGTGC...GAC'), id='KT368895.1', name='KT368895.1', description='KT368895.1 Camel alphacoronavirus isolate camel/Jeddah/O23(a)/2014, complete genome', dbxrefs=[]),\n",
       " SeqRecord(seq=Seq('CTTTAAACAAGCAAAGCTGTCCTATTGTAGTTGGAGTTTCTGAAATTGTTAACA...CAA'), id='KT368895.1', name='KT368895.1', description='KT368895.1 Camel alphacoronavirus isolate camel/Jeddah/O23(a)/2014, complete genome', dbxrefs=[]),\n",
       " SeqRecord(seq=Seq('TGGAACCTTGTATTTAACATACTTTCCATGTTTTCATCTTCATTTTCTGTTGCT...TAC'), id='KT368895.1', name='KT368895.1', description='KT368895.1 Camel alphacoronavirus isolate camel/Jeddah/O23(a)/2014, complete genome', dbxrefs=[]),\n",
       " SeqRecord(seq=Seq('TGCTAATAGCATCTCTCCAGAAAAGTTGAAAAGTTATGCTGCTAGCTATAATAG...CTA'), id='KT368895.1', name='KT368895.1', description='KT368895.1 Camel alphacoronavirus isolate camel/Jeddah/O23(a)/2014, complete genome', dbxrefs=[]),\n",
       " SeqRecord(seq=Seq('ATTCTTTTAAGACACTAAAATCTGGCGAAGGTTTTAACATCTTAGCTTGTTATG...AGT'), id='KT368895.1', name='KT368895.1', description='KT368895.1 Camel alphacoronavirus isolate camel/Jeddah/O23(a)/2014, complete genome', dbxrefs=[]),\n",
       " SeqRecord(seq=Seq('GTTTTGAATAATGGCTTTGGTGGTAAAAACATTTTGGGTTATTCTAGTCTTAAT...AGA'), id='KT368895.1', name='KT368895.1', description='KT368895.1 Camel alphacoronavirus isolate camel/Jeddah/O23(a)/2014, complete genome', dbxrefs=[]),\n",
       " SeqRecord(seq=Seq('GCATTGGTGCACTTACTTGTTCTCACTCCTTGCTGTTTTATACACTGCACTGTA...GGA'), id='KT368895.1', name='KT368895.1', description='KT368895.1 Camel alphacoronavirus isolate camel/Jeddah/O23(a)/2014, complete genome', dbxrefs=[]),\n",
       " SeqRecord(seq=Seq('ATATGAACATAGCTTCTAACTCAAAGGAGTGGGCATATTGTGTTGAAACGCACA...AGG'), id='KT368895.1', name='KT368895.1', description='KT368895.1 Camel alphacoronavirus isolate camel/Jeddah/O23(a)/2014, complete genome', dbxrefs=[]),\n",
       " SeqRecord(seq=Seq('GTTGATACTATTCTTAATATGGCACGTAATGGTGTTGTTCCTCTTTCTGTTATC...ATT'), id='KT368895.1', name='KT368895.1', description='KT368895.1 Camel alphacoronavirus isolate camel/Jeddah/O23(a)/2014, complete genome', dbxrefs=[]),\n",
       " SeqRecord(seq=Seq('CACACCTACTGGACCTCAAATTAAGTATCTTTACTTTGTTAAGAATCTTAACAC...TGC'), id='KT368895.1', name='KT368895.1', description='KT368895.1 Camel alphacoronavirus isolate camel/Jeddah/O23(a)/2014, complete genome', dbxrefs=[]),\n",
       " SeqRecord(seq=Seq('CTGCTATTCAAAGTTTTGATAACAGTTATTTAAACGAGTCAGGGGCTCTAGTGC...ACT'), id='KT368895.1', name='KT368895.1', description='KT368895.1 Camel alphacoronavirus isolate camel/Jeddah/O23(a)/2014, complete genome', dbxrefs=[]),\n",
       " SeqRecord(seq=Seq('ACATACACCGTGTGTATGCTGCTTTGGGTACAGTAGTCGCAAATGCAATGCTTA...AGC'), id='KT368895.1', name='KT368895.1', description='KT368895.1 Camel alphacoronavirus isolate camel/Jeddah/O23(a)/2014, complete genome', dbxrefs=[]),\n",
       " SeqRecord(seq=Seq('GATGGTGTACCTGTTGTTGCTACTGCTGGTTACCATTTTAAACAACTAGGACTT...TTA'), id='KT368895.1', name='KT368895.1', description='KT368895.1 Camel alphacoronavirus isolate camel/Jeddah/O23(a)/2014, complete genome', dbxrefs=[]),\n",
       " SeqRecord(seq=Seq('TGGTTGGCCACTTAATAAGTTTGGTAAAGCTGGTTTATATTATGAGTCTATTAG...TTA'), id='KT368895.1', name='KT368895.1', description='KT368895.1 Camel alphacoronavirus isolate camel/Jeddah/O23(a)/2014, complete genome', dbxrefs=[]),\n",
       " SeqRecord(seq=Seq('CAAATGGTGGGTTTTATTTTAAACCTGGTGGTACAACTTCTGGTGATGCAACTA...CCT'), id='KT368895.1', name='KT368895.1', description='KT368895.1 Camel alphacoronavirus isolate camel/Jeddah/O23(a)/2014, complete genome', dbxrefs=[]),\n",
       " SeqRecord(seq=Seq('CGTATTATTTCTGCTGGTGTTTTTGTGGATGACATTACCAAGACTGATGCTGTC...AAA'), id='KT368895.1', name='KT368895.1', description='KT368895.1 Camel alphacoronavirus isolate camel/Jeddah/O23(a)/2014, complete genome', dbxrefs=[]),\n",
       " SeqRecord(seq=Seq('TTACTGTGTAGATCACAAACCACATTTGTCATTCCCACTGTGTTCAGCTGGTAA...GTG'), id='KT368895.1', name='KT368895.1', description='KT368895.1 Camel alphacoronavirus isolate camel/Jeddah/O23(a)/2014, complete genome', dbxrefs=[]),\n",
       " SeqRecord(seq=Seq('GAGCACCAACTATGGCTAATCAGGAAAAATATTCCACCATTTACAAGTTGCACC...AGG'), id='KT368895.1', name='KT368895.1', description='KT368895.1 Camel alphacoronavirus isolate camel/Jeddah/O23(a)/2014, complete genome', dbxrefs=[]),\n",
       " SeqRecord(seq=Seq('CAACAGCTGCCAGCTCCTAGAGTTCTTATCTCTAAAGGTGTTATGGAACCAATC...ATG'), id='KT368895.1', name='KT368895.1', description='KT368895.1 Camel alphacoronavirus isolate camel/Jeddah/O23(a)/2014, complete genome', dbxrefs=[]),\n",
       " SeqRecord(seq=Seq('GAAAGGCATCTTTTGTATTATGTCTGACAGAACTCTGTTTGATGCACTTAAATT...GTT'), id='KT368895.1', name='KT368895.1', description='KT368895.1 Camel alphacoronavirus isolate camel/Jeddah/O23(a)/2014, complete genome', dbxrefs=[]),\n",
       " SeqRecord(seq=Seq('CACCACCTGGTGAACAATTTACCCACCTTGTACCTCTGTTACGCAAGGGACAAC...CCT'), id='KT368895.1', name='KT368895.1', description='KT368895.1 Camel alphacoronavirus isolate camel/Jeddah/O23(a)/2014, complete genome', dbxrefs=[]),\n",
       " SeqRecord(seq=Seq('GGTGGTCGCACTGTGCAAAGTCATATCATGCGTGCTGCTATTAAATTGTACAAC...CGA'), id='KT368895.1', name='KT368895.1', description='KT368895.1 Camel alphacoronavirus isolate camel/Jeddah/O23(a)/2014, complete genome', dbxrefs=[]),\n",
       " SeqRecord(seq=Seq('TTCTAAGCATGCTAATCTTTATAGAGCATATGTGGAGTCATATAACACTTTCAC...TTA'), id='KT368895.1', name='KT368895.1', description='KT368895.1 Camel alphacoronavirus isolate camel/Jeddah/O23(a)/2014, complete genome', dbxrefs=[]),\n",
       " SeqRecord(seq=Seq('CGTACGAACGTTTTACTCTGTCAAATAATGCTGTGTTATTCTCTGCTACTGCTG...TGT'), id='KT368895.1', name='KT368895.1', description='KT368895.1 Camel alphacoronavirus isolate camel/Jeddah/O23(a)/2014, complete genome', dbxrefs=[]),\n",
       " SeqRecord(seq=Seq('AGTTATAAGACTGTTTGCACTTACATGGATTTGTTGTTAGATGATTTTGTTGCT...ATT'), id='KT368895.1', name='KT368895.1', description='KT368895.1 Camel alphacoronavirus isolate camel/Jeddah/O23(a)/2014, complete genome', dbxrefs=[]),\n",
       " SeqRecord(seq=Seq('TTTCAGTGTTACTGGTGATTGTGCAACCGTTTATTTGGAAGACAAGTTCGACTT...ACT'), id='KT368895.1', name='KT368895.1', description='KT368895.1 Camel alphacoronavirus isolate camel/Jeddah/O23(a)/2014, complete genome', dbxrefs=[]),\n",
       " SeqRecord(seq=Seq('GTCTTGTTAGGAATGGTAAGTTGCTTGTAAGGGGTAATGGCAAGTGTTTGAGTT...GCT'), id='KT368895.1', name='KT368895.1', description='KT368895.1 Camel alphacoronavirus isolate camel/Jeddah/O23(a)/2014, complete genome', dbxrefs=[]),\n",
       " SeqRecord(seq=Seq('TGTTGTGTTTTATTGTACCAACAACACTTTAGTTTCAGGTGATGCTTACATACC...TTA'), id='KT368895.1', name='KT368895.1', description='KT368895.1 Camel alphacoronavirus isolate camel/Jeddah/O23(a)/2014, complete genome', dbxrefs=[]),\n",
       " SeqRecord(seq=Seq('TTAAACCTCAGAGTGGCGCCGGCACGTGTTATAACTGTCGTCCTTCTGTTGTTA...CTG'), id='KT368895.1', name='KT368895.1', description='KT368895.1 Camel alphacoronavirus isolate camel/Jeddah/O23(a)/2014, complete genome', dbxrefs=[]),\n",
       " SeqRecord(seq=Seq('TCAGGTAACCTTTTGGGTTTCAAAGATGTTACTAATGGTATCATCTACTCTATC...CTG'), id='KT368895.1', name='KT368895.1', description='KT368895.1 Camel alphacoronavirus isolate camel/Jeddah/O23(a)/2014, complete genome', dbxrefs=[]),\n",
       " SeqRecord(seq=Seq('GGAGTCTGCAGATGTTGGTGAGATGCTCACTTTTGACGAGAAAGCGTTTACACT...ATG'), id='KT368895.1', name='KT368895.1', description='KT368895.1 Camel alphacoronavirus isolate camel/Jeddah/O23(a)/2014, complete genome', dbxrefs=[]),\n",
       " SeqRecord(seq=Seq('TAGGAGTCAATGATGCTATTACTCAAACTTCACAAGCTATACAAACAGTTGCCA...TGA'), id='KT368895.1', name='KT368895.1', description='KT368895.1 Camel alphacoronavirus isolate camel/Jeddah/O23(a)/2014, complete genome', dbxrefs=[]),\n",
       " SeqRecord(seq=Seq('CGACAACCTAATCTTGCTCTTTACAAAGAAGGCAATTATTATAGAATCACATCA...CAC'), id='KT368895.1', name='KT368895.1', description='KT368895.1 Camel alphacoronavirus isolate camel/Jeddah/O23(a)/2014, complete genome', dbxrefs=[]),\n",
       " SeqRecord(seq=Seq('TGGCTTCTTTAGTTGTCTTGCATCTTCTACTAGAGGTTGTTGTGAGTCAACTAA...TTG'), id='KT368895.1', name='KT368895.1', description='KT368895.1 Camel alphacoronavirus isolate camel/Jeddah/O23(a)/2014, complete genome', dbxrefs=[]),\n",
       " SeqRecord(seq=Seq('TTGGTTTCTTGAAAATAAGGCTTTGAAACCATTTGTGTGCTTCTACGGAGGGGA...GGT'), id='KT368895.1', name='KT368895.1', description='KT368895.1 Camel alphacoronavirus isolate camel/Jeddah/O23(a)/2014, complete genome', dbxrefs=[]),\n",
       " SeqRecord(seq=Seq('CTGAAGCTAATATTACTCAGGAGGAGTTGGTAACTCACCTGAAAAATTGGAATT...TGG'), id='KT368895.1', name='KT368895.1', description='KT368895.1 Camel alphacoronavirus isolate camel/Jeddah/O23(a)/2014, complete genome', dbxrefs=[]),\n",
       " SeqRecord(seq=Seq('AACAAGCTCCAACAGGCATTACGGTGACCTTGTTGAGCGGCGTGCTTTACGTGG...AAA'), id='KT368895.1', name='KT368895.1', description='KT368895.1 Camel alphacoronavirus isolate camel/Jeddah/O23(a)/2014, complete genome', dbxrefs=[])]"
      ]
     },
     "execution_count": 35,
     "metadata": {},
     "output_type": "execute_result"
    }
   ],
   "source": [
    "new_record"
   ]
  },
  {
   "cell_type": "code",
   "execution_count": 32,
   "metadata": {},
   "outputs": [
    {
     "name": "stdout",
     "output_type": "stream",
     "text": [
      "0\n",
      "500\n",
      "1000\n",
      "1500\n"
     ]
    }
   ],
   "source": [
    "for i in range(0,2000,500):\n",
    "    print(i)"
   ]
  },
  {
   "cell_type": "code",
   "execution_count": 19,
   "metadata": {},
   "outputs": [],
   "source": [
    "import numpy as np\n",
    "import pandas as pd"
   ]
  },
  {
   "cell_type": "code",
   "execution_count": 27,
   "metadata": {},
   "outputs": [],
   "source": [
    "nucl_list = ['A', 'T', 'C', 'G', 'N']\n",
    "nucl_to_int = dict((int, nucl) for nucl, int in enumerate(nucl_list))"
   ]
  },
  {
   "cell_type": "code",
   "execution_count": 28,
   "metadata": {},
   "outputs": [],
   "source": [
    "integer_encoded = [nucl_to_int[base] for base in seq_record.seq]"
   ]
  },
  {
   "cell_type": "code",
   "execution_count": 30,
   "metadata": {},
   "outputs": [],
   "source": [
    "import numpy as np\n",
    "\n",
    "nucl_list = ['A', 'T', 'C', 'G', 'N']\n",
    "nucl_to_int = dict((int, nucl) for nucl, int in enumerate(nucl_list))\n",
    "\n",
    "integer_encoded = [nucl_to_int[base] for base in seq_record.seq]\n",
    "\n",
    "one_hot = list()\n",
    "for value in integer_encoded:\n",
    "    letter = [0 for _ in range(len(nucl_list))]\n",
    "    letter[value] = 1\n",
    "    one_hot.append(letter)"
   ]
  },
  {
   "cell_type": "code",
   "execution_count": 31,
   "metadata": {},
   "outputs": [
    {
     "data": {
      "text/plain": [
       "array([[1, 0, 0, 0, 0],\n",
       "       [0, 1, 0, 0, 0],\n",
       "       [0, 0, 0, 1, 0],\n",
       "       ...,\n",
       "       [0, 1, 0, 0, 0],\n",
       "       [0, 1, 0, 0, 0],\n",
       "       [1, 0, 0, 0, 0]])"
      ]
     },
     "execution_count": 31,
     "metadata": {},
     "output_type": "execute_result"
    }
   ],
   "source": [
    "np.array(one_hot)"
   ]
  },
  {
   "cell_type": "code",
   "execution_count": 23,
   "metadata": {},
   "outputs": [
    {
     "data": {
      "text/plain": [
       "398"
      ]
     },
     "execution_count": 23,
     "metadata": {},
     "output_type": "execute_result"
    }
   ],
   "source": [
    "len(seq_record)"
   ]
  },
  {
   "cell_type": "code",
   "execution_count": null,
   "metadata": {},
   "outputs": [],
   "source": []
  }
 ],
 "metadata": {
  "kernelspec": {
   "display_name": "base",
   "language": "python",
   "name": "python3"
  },
  "language_info": {
   "codemirror_mode": {
    "name": "ipython",
    "version": 3
   },
   "file_extension": ".py",
   "mimetype": "text/x-python",
   "name": "python",
   "nbconvert_exporter": "python",
   "pygments_lexer": "ipython3",
   "version": "3.8.8"
  },
  "orig_nbformat": 4,
  "vscode": {
   "interpreter": {
    "hash": "eace1a3d2d18dcb98353cfeb529f20792ec64dcc10ba0bdd358326e3f660811b"
   }
  }
 },
 "nbformat": 4,
 "nbformat_minor": 2
}
