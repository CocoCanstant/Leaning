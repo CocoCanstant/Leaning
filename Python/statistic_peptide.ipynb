{
 "cells": [
  {
   "cell_type": "code",
   "execution_count": 30,
   "metadata": {},
   "outputs": [],
   "source": [
    "import pandas as pd\n",
    "\n",
    "data = pd.read_table('/home/ouconstand/all_stat.txt', sep='\\t')"
   ]
  },
  {
   "cell_type": "code",
   "execution_count": 31,
   "metadata": {},
   "outputs": [
    {
     "data": {
      "text/html": [
       "<div>\n",
       "<style scoped>\n",
       "    .dataframe tbody tr th:only-of-type {\n",
       "        vertical-align: middle;\n",
       "    }\n",
       "\n",
       "    .dataframe tbody tr th {\n",
       "        vertical-align: top;\n",
       "    }\n",
       "\n",
       "    .dataframe thead th {\n",
       "        text-align: right;\n",
       "    }\n",
       "</style>\n",
       "<table border=\"1\" class=\"dataframe\">\n",
       "  <thead>\n",
       "    <tr style=\"text-align: right;\">\n",
       "      <th></th>\n",
       "      <th>Sample</th>\n",
       "      <th>Gene</th>\n",
       "      <th>Mutation_type</th>\n",
       "      <th>AA_mutation</th>\n",
       "      <th>Chrom</th>\n",
       "      <th>Start</th>\n",
       "      <th>End</th>\n",
       "      <th>Fuction</th>\n",
       "      <th>sample_number</th>\n",
       "      <th>link</th>\n",
       "    </tr>\n",
       "  </thead>\n",
       "  <tbody>\n",
       "    <tr>\n",
       "      <th>0</th>\n",
       "      <td>P11_NC-VS-P11_KM_a</td>\n",
       "      <td>APC</td>\n",
       "      <td>frameshift_deletion</td>\n",
       "      <td>p.K1964fs,p.K1982fs,p.K1982fs</td>\n",
       "      <td>chr5</td>\n",
       "      <td>112177235</td>\n",
       "      <td>112177238</td>\n",
       "      <td>NaN</td>\n",
       "      <td>NaN</td>\n",
       "      <td>NaN</td>\n",
       "    </tr>\n",
       "    <tr>\n",
       "      <th>1</th>\n",
       "      <td>P11_NC-VS-P11_KM_b</td>\n",
       "      <td>APC</td>\n",
       "      <td>frameshift_deletion</td>\n",
       "      <td>p.K1964fs,p.K1982fs,p.K1982fs</td>\n",
       "      <td>chr5</td>\n",
       "      <td>112177235</td>\n",
       "      <td>112177238</td>\n",
       "      <td>NaN</td>\n",
       "      <td>NaN</td>\n",
       "      <td>NaN</td>\n",
       "    </tr>\n",
       "    <tr>\n",
       "      <th>2</th>\n",
       "      <td>P11_NC-VS-P11_PT_a</td>\n",
       "      <td>APC</td>\n",
       "      <td>stopgain</td>\n",
       "      <td>p.S793X,p.S811X,p.S811X</td>\n",
       "      <td>chr5</td>\n",
       "      <td>112173723</td>\n",
       "      <td>112173723</td>\n",
       "      <td>NaN</td>\n",
       "      <td>NaN</td>\n",
       "      <td>NaN</td>\n",
       "    </tr>\n",
       "    <tr>\n",
       "      <th>3</th>\n",
       "      <td>P11_NC-VS-P11_PT_b</td>\n",
       "      <td>APC</td>\n",
       "      <td>stopgain</td>\n",
       "      <td>p.S793X,p.S811X,p.S811X</td>\n",
       "      <td>chr5</td>\n",
       "      <td>112173723</td>\n",
       "      <td>112173723</td>\n",
       "      <td>NaN</td>\n",
       "      <td>NaN</td>\n",
       "      <td>NaN</td>\n",
       "    </tr>\n",
       "    <tr>\n",
       "      <th>4</th>\n",
       "      <td>P14_NC-VS-P14_PT</td>\n",
       "      <td>APC</td>\n",
       "      <td>synonymous</td>\n",
       "      <td>p.S922S,p.S940S,p.S940S</td>\n",
       "      <td>chr5</td>\n",
       "      <td>112174111</td>\n",
       "      <td>112174111</td>\n",
       "      <td>NaN</td>\n",
       "      <td>NaN</td>\n",
       "      <td>NaN</td>\n",
       "    </tr>\n",
       "  </tbody>\n",
       "</table>\n",
       "</div>"
      ],
      "text/plain": [
       "               Sample Gene        Mutation_type  \\\n",
       "0  P11_NC-VS-P11_KM_a  APC  frameshift_deletion   \n",
       "1  P11_NC-VS-P11_KM_b  APC  frameshift_deletion   \n",
       "2  P11_NC-VS-P11_PT_a  APC             stopgain   \n",
       "3  P11_NC-VS-P11_PT_b  APC             stopgain   \n",
       "4    P14_NC-VS-P14_PT  APC           synonymous   \n",
       "\n",
       "                     AA_mutation Chrom      Start        End  Fuction  \\\n",
       "0  p.K1964fs,p.K1982fs,p.K1982fs  chr5  112177235  112177238      NaN   \n",
       "1  p.K1964fs,p.K1982fs,p.K1982fs  chr5  112177235  112177238      NaN   \n",
       "2        p.S793X,p.S811X,p.S811X  chr5  112173723  112173723      NaN   \n",
       "3        p.S793X,p.S811X,p.S811X  chr5  112173723  112173723      NaN   \n",
       "4        p.S922S,p.S940S,p.S940S  chr5  112174111  112174111      NaN   \n",
       "\n",
       "   sample_number  link  \n",
       "0            NaN   NaN  \n",
       "1            NaN   NaN  \n",
       "2            NaN   NaN  \n",
       "3            NaN   NaN  \n",
       "4            NaN   NaN  "
      ]
     },
     "execution_count": 31,
     "metadata": {},
     "output_type": "execute_result"
    }
   ],
   "source": [
    "data.head()"
   ]
  },
  {
   "cell_type": "code",
   "execution_count": 32,
   "metadata": {},
   "outputs": [
    {
     "name": "stderr",
     "output_type": "stream",
     "text": [
      "<ipython-input-32-32f036da8b2d>:2: SettingWithCopyWarning: \n",
      "A value is trying to be set on a copy of a slice from a DataFrame\n",
      "\n",
      "See the caveats in the documentation: https://pandas.pydata.org/pandas-docs/stable/user_guide/indexing.html#returning-a-view-versus-a-copy\n",
      "  gene_peptide.drop_duplicates(subset=['Gene', 'AA_mutation'],inplace=True)\n"
     ]
    },
    {
     "data": {
      "text/plain": [
       "(59, 2)"
      ]
     },
     "execution_count": 32,
     "metadata": {},
     "output_type": "execute_result"
    }
   ],
   "source": [
    "gene_peptide = data[['Gene', 'AA_mutation']]\n",
    "gene_peptide.drop_duplicates(subset=['Gene', 'AA_mutation'],inplace=True)\n",
    "gene_peptide.shape"
   ]
  },
  {
   "cell_type": "code",
   "execution_count": 37,
   "metadata": {},
   "outputs": [
    {
     "data": {
      "text/plain": [
       "(59, 2)"
      ]
     },
     "execution_count": 37,
     "metadata": {},
     "output_type": "execute_result"
    }
   ],
   "source": [
    "peptide_count = pd.DataFrame(data['AA_mutation'].value_counts())\n",
    "peptide_count = peptide_count.reset_index()\n",
    "peptide_count.columns = ['AA_mutation', 'Peptide_name']\n",
    "peptide_count.shape"
   ]
  },
  {
   "cell_type": "code",
   "execution_count": 39,
   "metadata": {},
   "outputs": [],
   "source": [
    "proceed_data = pd.merge(peptide_count,gene_peptide,on='AA_mutation',how='inner')\n",
    "proceed_data.to_csv('/mnt/c/Users/ouyangkang/Desktop/proceed_data.csv')"
   ]
  },
  {
   "cell_type": "code",
   "execution_count": null,
   "metadata": {},
   "outputs": [],
   "source": []
  }
 ],
 "metadata": {
  "kernelspec": {
   "display_name": "base",
   "language": "python",
   "name": "python3"
  },
  "language_info": {
   "codemirror_mode": {
    "name": "ipython",
    "version": 3
   },
   "file_extension": ".py",
   "mimetype": "text/x-python",
   "name": "python",
   "nbconvert_exporter": "python",
   "pygments_lexer": "ipython3",
   "version": "3.8.8"
  },
  "orig_nbformat": 4,
  "vscode": {
   "interpreter": {
    "hash": "eace1a3d2d18dcb98353cfeb529f20792ec64dcc10ba0bdd358326e3f660811b"
   }
  }
 },
 "nbformat": 4,
 "nbformat_minor": 2
}
