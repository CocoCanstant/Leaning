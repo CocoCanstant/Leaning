{
 "cells": [
  {
   "cell_type": "code",
   "execution_count": 15,
   "metadata": {},
   "outputs": [],
   "source": [
    "import pandas as pd\n",
    "from pathlib import Path"
   ]
  },
  {
   "cell_type": "code",
   "execution_count": 7,
   "metadata": {},
   "outputs": [
    {
     "name": "stderr",
     "output_type": "stream",
     "text": [
      "/tmp/ipykernel_403/239701328.py:2: ParserWarning: Falling back to the 'python' engine because the 'c' engine does not support regex separators (separators > 1 char and different from '\\s+' are interpreted as regex); you can avoid this warning by specifying engine='python'.\n",
      "  value_data = pd.read_csv(f'{work_path}/cal_result.txt', sep=\"  \", header=None)\n"
     ]
    }
   ],
   "source": [
    "work_path = \"/mnt/c/Users/ouyangkang/Desktop\"\n",
    "value_data = pd.read_csv(f'{work_path}/cal_result.txt', sep=\"  \", header=None)"
   ]
  },
  {
   "cell_type": "code",
   "execution_count": 12,
   "metadata": {},
   "outputs": [
    {
     "data": {
      "text/html": [
       "<div>\n",
       "<style scoped>\n",
       "    .dataframe tbody tr th:only-of-type {\n",
       "        vertical-align: middle;\n",
       "    }\n",
       "\n",
       "    .dataframe tbody tr th {\n",
       "        vertical-align: top;\n",
       "    }\n",
       "\n",
       "    .dataframe thead th {\n",
       "        text-align: right;\n",
       "    }\n",
       "</style>\n",
       "<table border=\"1\" class=\"dataframe\">\n",
       "  <thead>\n",
       "    <tr style=\"text-align: right;\">\n",
       "      <th></th>\n",
       "      <th>md5</th>\n",
       "      <th>path</th>\n",
       "    </tr>\n",
       "  </thead>\n",
       "  <tbody>\n",
       "    <tr>\n",
       "      <th>0</th>\n",
       "      <td>9199cf1c4722391e420a81baceb6c3ab</td>\n",
       "      <td>/zfssz6/BIGDATA_WAREHOUSE/bigdata_ods/for_cngb...</td>\n",
       "    </tr>\n",
       "    <tr>\n",
       "      <th>1</th>\n",
       "      <td>b073b661457363aca01681df13c9fbe7</td>\n",
       "      <td>/zfssz6/BIGDATA_WAREHOUSE/bigdata_ods/for_cngb...</td>\n",
       "    </tr>\n",
       "    <tr>\n",
       "      <th>2</th>\n",
       "      <td>4c23ca59b559ff5a3376151b3a768744</td>\n",
       "      <td>/zfssz6/BIGDATA_WAREHOUSE/bigdata_ods/for_cngb...</td>\n",
       "    </tr>\n",
       "    <tr>\n",
       "      <th>3</th>\n",
       "      <td>38d67e993c5baae7dfd21efbf152b8d6</td>\n",
       "      <td>/zfssz6/BIGDATA_WAREHOUSE/bigdata_ods/for_cngb...</td>\n",
       "    </tr>\n",
       "    <tr>\n",
       "      <th>4</th>\n",
       "      <td>8f1d9013a2f9839b90463a7216f84ef6</td>\n",
       "      <td>/zfssz6/BIGDATA_WAREHOUSE/bigdata_ods/for_cngb...</td>\n",
       "    </tr>\n",
       "  </tbody>\n",
       "</table>\n",
       "</div>"
      ],
      "text/plain": [
       "                                md5  \\\n",
       "0  9199cf1c4722391e420a81baceb6c3ab   \n",
       "1  b073b661457363aca01681df13c9fbe7   \n",
       "2  4c23ca59b559ff5a3376151b3a768744   \n",
       "3  38d67e993c5baae7dfd21efbf152b8d6   \n",
       "4  8f1d9013a2f9839b90463a7216f84ef6   \n",
       "\n",
       "                                                path  \n",
       "0  /zfssz6/BIGDATA_WAREHOUSE/bigdata_ods/for_cngb...  \n",
       "1  /zfssz6/BIGDATA_WAREHOUSE/bigdata_ods/for_cngb...  \n",
       "2  /zfssz6/BIGDATA_WAREHOUSE/bigdata_ods/for_cngb...  \n",
       "3  /zfssz6/BIGDATA_WAREHOUSE/bigdata_ods/for_cngb...  \n",
       "4  /zfssz6/BIGDATA_WAREHOUSE/bigdata_ods/for_cngb...  "
      ]
     },
     "execution_count": 12,
     "metadata": {},
     "output_type": "execute_result"
    }
   ],
   "source": [
    "value_data.columns = [\"md5\", \"path\"]\n",
    "value_data.head()"
   ]
  },
  {
   "cell_type": "code",
   "execution_count": 22,
   "metadata": {},
   "outputs": [
    {
     "data": {
      "text/html": [
       "<div>\n",
       "<style scoped>\n",
       "    .dataframe tbody tr th:only-of-type {\n",
       "        vertical-align: middle;\n",
       "    }\n",
       "\n",
       "    .dataframe tbody tr th {\n",
       "        vertical-align: top;\n",
       "    }\n",
       "\n",
       "    .dataframe thead th {\n",
       "        text-align: right;\n",
       "    }\n",
       "</style>\n",
       "<table border=\"1\" class=\"dataframe\">\n",
       "  <thead>\n",
       "    <tr style=\"text-align: right;\">\n",
       "      <th></th>\n",
       "      <th>File_1</th>\n",
       "    </tr>\n",
       "  </thead>\n",
       "  <tbody>\n",
       "    <tr>\n",
       "      <th>0</th>\n",
       "      <td>DP8400027722TR_L01_40_1.fq.gz</td>\n",
       "    </tr>\n",
       "    <tr>\n",
       "      <th>1</th>\n",
       "      <td>DP8400027723TR_L01_40_1.fq.gz</td>\n",
       "    </tr>\n",
       "    <tr>\n",
       "      <th>2</th>\n",
       "      <td>DP8400027724TR_L01_40_1.fq.gz</td>\n",
       "    </tr>\n",
       "    <tr>\n",
       "      <th>3</th>\n",
       "      <td>DP8400027725TR_L01_40_1.fq.gz</td>\n",
       "    </tr>\n",
       "    <tr>\n",
       "      <th>4</th>\n",
       "      <td>DP8400027726TR_L01_40_1.fq.gz</td>\n",
       "    </tr>\n",
       "  </tbody>\n",
       "</table>\n",
       "</div>"
      ],
      "text/plain": [
       "                          File_1\n",
       "0  DP8400027722TR_L01_40_1.fq.gz\n",
       "1  DP8400027723TR_L01_40_1.fq.gz\n",
       "2  DP8400027724TR_L01_40_1.fq.gz\n",
       "3  DP8400027725TR_L01_40_1.fq.gz\n",
       "4  DP8400027726TR_L01_40_1.fq.gz"
      ]
     },
     "execution_count": 22,
     "metadata": {},
     "output_type": "execute_result"
    }
   ],
   "source": [
    "first_data = pd.read_csv(f\"{work_path}/first.csv\")\n",
    "first_data.head()"
   ]
  },
  {
   "cell_type": "code",
   "execution_count": 23,
   "metadata": {},
   "outputs": [],
   "source": [
    "value_data[\"File_1\"] = [Path(i).name for i in value_data.path]"
   ]
  },
  {
   "cell_type": "code",
   "execution_count": 24,
   "metadata": {},
   "outputs": [
    {
     "data": {
      "text/html": [
       "<div>\n",
       "<style scoped>\n",
       "    .dataframe tbody tr th:only-of-type {\n",
       "        vertical-align: middle;\n",
       "    }\n",
       "\n",
       "    .dataframe tbody tr th {\n",
       "        vertical-align: top;\n",
       "    }\n",
       "\n",
       "    .dataframe thead th {\n",
       "        text-align: right;\n",
       "    }\n",
       "</style>\n",
       "<table border=\"1\" class=\"dataframe\">\n",
       "  <thead>\n",
       "    <tr style=\"text-align: right;\">\n",
       "      <th></th>\n",
       "      <th>md5</th>\n",
       "      <th>path</th>\n",
       "      <th>File_1</th>\n",
       "    </tr>\n",
       "  </thead>\n",
       "  <tbody>\n",
       "    <tr>\n",
       "      <th>0</th>\n",
       "      <td>9199cf1c4722391e420a81baceb6c3ab</td>\n",
       "      <td>/zfssz6/BIGDATA_WAREHOUSE/bigdata_ods/for_cngb...</td>\n",
       "      <td>DP8400027021TL_L01_17_1.fq.gz</td>\n",
       "    </tr>\n",
       "    <tr>\n",
       "      <th>1</th>\n",
       "      <td>b073b661457363aca01681df13c9fbe7</td>\n",
       "      <td>/zfssz6/BIGDATA_WAREHOUSE/bigdata_ods/for_cngb...</td>\n",
       "      <td>DP8400027021TL_L01_17_2.fq.gz</td>\n",
       "    </tr>\n",
       "    <tr>\n",
       "      <th>2</th>\n",
       "      <td>4c23ca59b559ff5a3376151b3a768744</td>\n",
       "      <td>/zfssz6/BIGDATA_WAREHOUSE/bigdata_ods/for_cngb...</td>\n",
       "      <td>DP8400027027TL_L01_17_1.fq.gz</td>\n",
       "    </tr>\n",
       "    <tr>\n",
       "      <th>3</th>\n",
       "      <td>38d67e993c5baae7dfd21efbf152b8d6</td>\n",
       "      <td>/zfssz6/BIGDATA_WAREHOUSE/bigdata_ods/for_cngb...</td>\n",
       "      <td>DP8400027027TL_L01_17_2.fq.gz</td>\n",
       "    </tr>\n",
       "    <tr>\n",
       "      <th>4</th>\n",
       "      <td>8f1d9013a2f9839b90463a7216f84ef6</td>\n",
       "      <td>/zfssz6/BIGDATA_WAREHOUSE/bigdata_ods/for_cngb...</td>\n",
       "      <td>DP8400027028TL_L01_17_1.fq.gz</td>\n",
       "    </tr>\n",
       "    <tr>\n",
       "      <th>...</th>\n",
       "      <td>...</td>\n",
       "      <td>...</td>\n",
       "      <td>...</td>\n",
       "    </tr>\n",
       "    <tr>\n",
       "      <th>249</th>\n",
       "      <td>71633f2b1b1a6526ddd8588c7a7223d5</td>\n",
       "      <td>/zfssz6/BIGDATA_WAREHOUSE/bigdata_ods/for_cngb...</td>\n",
       "      <td>FP270000873_L01_85_2.fq.gz</td>\n",
       "    </tr>\n",
       "    <tr>\n",
       "      <th>250</th>\n",
       "      <td>6948a37de197439101fa599a9f4be03d</td>\n",
       "      <td>/zfssz6/BIGDATA_WAREHOUSE/bigdata_ods/for_cngb...</td>\n",
       "      <td>FP270000873_L01_86_1.fq.gz</td>\n",
       "    </tr>\n",
       "    <tr>\n",
       "      <th>251</th>\n",
       "      <td>96635e7b0ca3ba3f7e88543a2dc53dc3</td>\n",
       "      <td>/zfssz6/BIGDATA_WAREHOUSE/bigdata_ods/for_cngb...</td>\n",
       "      <td>FP270000873_L01_86_2.fq.gz</td>\n",
       "    </tr>\n",
       "    <tr>\n",
       "      <th>252</th>\n",
       "      <td>8aff85bbbb7d0f1913b56e5eb84b0132</td>\n",
       "      <td>/zfssz6/BIGDATA_WAREHOUSE/bigdata_ods/for_cngb...</td>\n",
       "      <td>FP270000873_L01_87_1.fq.gz</td>\n",
       "    </tr>\n",
       "    <tr>\n",
       "      <th>253</th>\n",
       "      <td>806d3177368662b6c2a2f144644231f4</td>\n",
       "      <td>/zfssz6/BIGDATA_WAREHOUSE/bigdata_ods/for_cngb...</td>\n",
       "      <td>FP270000873_L01_87_2.fq.gz</td>\n",
       "    </tr>\n",
       "  </tbody>\n",
       "</table>\n",
       "<p>254 rows × 3 columns</p>\n",
       "</div>"
      ],
      "text/plain": [
       "                                  md5  \\\n",
       "0    9199cf1c4722391e420a81baceb6c3ab   \n",
       "1    b073b661457363aca01681df13c9fbe7   \n",
       "2    4c23ca59b559ff5a3376151b3a768744   \n",
       "3    38d67e993c5baae7dfd21efbf152b8d6   \n",
       "4    8f1d9013a2f9839b90463a7216f84ef6   \n",
       "..                                ...   \n",
       "249  71633f2b1b1a6526ddd8588c7a7223d5   \n",
       "250  6948a37de197439101fa599a9f4be03d   \n",
       "251  96635e7b0ca3ba3f7e88543a2dc53dc3   \n",
       "252  8aff85bbbb7d0f1913b56e5eb84b0132   \n",
       "253  806d3177368662b6c2a2f144644231f4   \n",
       "\n",
       "                                                  path  \\\n",
       "0    /zfssz6/BIGDATA_WAREHOUSE/bigdata_ods/for_cngb...   \n",
       "1    /zfssz6/BIGDATA_WAREHOUSE/bigdata_ods/for_cngb...   \n",
       "2    /zfssz6/BIGDATA_WAREHOUSE/bigdata_ods/for_cngb...   \n",
       "3    /zfssz6/BIGDATA_WAREHOUSE/bigdata_ods/for_cngb...   \n",
       "4    /zfssz6/BIGDATA_WAREHOUSE/bigdata_ods/for_cngb...   \n",
       "..                                                 ...   \n",
       "249  /zfssz6/BIGDATA_WAREHOUSE/bigdata_ods/for_cngb...   \n",
       "250  /zfssz6/BIGDATA_WAREHOUSE/bigdata_ods/for_cngb...   \n",
       "251  /zfssz6/BIGDATA_WAREHOUSE/bigdata_ods/for_cngb...   \n",
       "252  /zfssz6/BIGDATA_WAREHOUSE/bigdata_ods/for_cngb...   \n",
       "253  /zfssz6/BIGDATA_WAREHOUSE/bigdata_ods/for_cngb...   \n",
       "\n",
       "                            File_1  \n",
       "0    DP8400027021TL_L01_17_1.fq.gz  \n",
       "1    DP8400027021TL_L01_17_2.fq.gz  \n",
       "2    DP8400027027TL_L01_17_1.fq.gz  \n",
       "3    DP8400027027TL_L01_17_2.fq.gz  \n",
       "4    DP8400027028TL_L01_17_1.fq.gz  \n",
       "..                             ...  \n",
       "249     FP270000873_L01_85_2.fq.gz  \n",
       "250     FP270000873_L01_86_1.fq.gz  \n",
       "251     FP270000873_L01_86_2.fq.gz  \n",
       "252     FP270000873_L01_87_1.fq.gz  \n",
       "253     FP270000873_L01_87_2.fq.gz  \n",
       "\n",
       "[254 rows x 3 columns]"
      ]
     },
     "execution_count": 24,
     "metadata": {},
     "output_type": "execute_result"
    }
   ],
   "source": [
    "value_data"
   ]
  },
  {
   "cell_type": "code",
   "execution_count": 25,
   "metadata": {},
   "outputs": [],
   "source": [
    "pd.merge(first_data, value_data, on=\"File_1\", how=\"inner\")[[\"File_1\", \"md5\"]].to_csv(f\"{work_path}/md5_first.csv\", index=None)"
   ]
  },
  {
   "cell_type": "code",
   "execution_count": 26,
   "metadata": {},
   "outputs": [
    {
     "data": {
      "text/html": [
       "<div>\n",
       "<style scoped>\n",
       "    .dataframe tbody tr th:only-of-type {\n",
       "        vertical-align: middle;\n",
       "    }\n",
       "\n",
       "    .dataframe tbody tr th {\n",
       "        vertical-align: top;\n",
       "    }\n",
       "\n",
       "    .dataframe thead th {\n",
       "        text-align: right;\n",
       "    }\n",
       "</style>\n",
       "<table border=\"1\" class=\"dataframe\">\n",
       "  <thead>\n",
       "    <tr style=\"text-align: right;\">\n",
       "      <th></th>\n",
       "      <th>File_1</th>\n",
       "    </tr>\n",
       "  </thead>\n",
       "  <tbody>\n",
       "    <tr>\n",
       "      <th>0</th>\n",
       "      <td>DP8400027722TR_L01_40_2.fq.gz</td>\n",
       "    </tr>\n",
       "    <tr>\n",
       "      <th>1</th>\n",
       "      <td>DP8400027723TR_L01_40_2.fq.gz</td>\n",
       "    </tr>\n",
       "    <tr>\n",
       "      <th>2</th>\n",
       "      <td>DP8400027724TR_L01_40_2.fq.gz</td>\n",
       "    </tr>\n",
       "    <tr>\n",
       "      <th>3</th>\n",
       "      <td>DP8400027725TR_L01_40_2.fq.gz</td>\n",
       "    </tr>\n",
       "    <tr>\n",
       "      <th>4</th>\n",
       "      <td>DP8400027726TR_L01_40_2.fq.gz</td>\n",
       "    </tr>\n",
       "  </tbody>\n",
       "</table>\n",
       "</div>"
      ],
      "text/plain": [
       "                          File_1\n",
       "0  DP8400027722TR_L01_40_2.fq.gz\n",
       "1  DP8400027723TR_L01_40_2.fq.gz\n",
       "2  DP8400027724TR_L01_40_2.fq.gz\n",
       "3  DP8400027725TR_L01_40_2.fq.gz\n",
       "4  DP8400027726TR_L01_40_2.fq.gz"
      ]
     },
     "execution_count": 26,
     "metadata": {},
     "output_type": "execute_result"
    }
   ],
   "source": [
    "second_data = pd.read_csv(f\"{work_path}/second.csv\")\n",
    "second_data.head()"
   ]
  },
  {
   "cell_type": "code",
   "execution_count": 27,
   "metadata": {},
   "outputs": [],
   "source": [
    "pd.merge(second_data, value_data, on=\"File_1\", how=\"inner\")[[\"File_1\", \"md5\"]].to_csv(f\"{work_path}/md5_second.csv\", index=None)"
   ]
  },
  {
   "cell_type": "code",
   "execution_count": null,
   "metadata": {},
   "outputs": [],
   "source": []
  }
 ],
 "metadata": {
  "kernelspec": {
   "display_name": "sc",
   "language": "python",
   "name": "python3"
  },
  "language_info": {
   "codemirror_mode": {
    "name": "ipython",
    "version": 3
   },
   "file_extension": ".py",
   "mimetype": "text/x-python",
   "name": "python",
   "nbconvert_exporter": "python",
   "pygments_lexer": "ipython3",
   "version": "3.11.6"
  }
 },
 "nbformat": 4,
 "nbformat_minor": 2
}
