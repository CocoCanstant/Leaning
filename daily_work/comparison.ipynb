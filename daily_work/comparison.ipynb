{
 "cells": [
  {
   "cell_type": "code",
   "execution_count": 1,
   "metadata": {},
   "outputs": [
    {
     "name": "stdout",
     "output_type": "stream",
     "text": [
      "     A    B    C\n",
      "0  1.0  0.5  1.0\n",
      "1  2.0  1.0  2.0\n",
      "2  3.0  1.5  3.0\n",
      "3  4.0  2.0  4.0\n"
     ]
    }
   ],
   "source": [
    "import numpy as np\n",
    "import pandas as pd\n",
    "\n",
    "# 示例数据框\n",
    "data = {\n",
    "    'A': [10, 20, 30, 40],\n",
    "    'B': [1, 2, 3, 4],\n",
    "    'C': [100, 200, 300, 400]\n",
    "}\n",
    "df = pd.DataFrame(data)\n",
    "\n",
    "# 每列的除数\n",
    "divisors = np.array([10, 2, 100])\n",
    "\n",
    "# 将数据框转换为NumPy数组\n",
    "df_values = df.values\n",
    "\n",
    "# 使用NumPy进行除法运算\n",
    "df_divided = df_values / divisors\n",
    "\n",
    "# 将结果转换回数据框\n",
    "df_divided = pd.DataFrame(df_divided, columns=df.columns)\n",
    "\n",
    "print(df_divided)\n"
   ]
  },
  {
   "cell_type": "code",
   "execution_count": 2,
   "metadata": {},
   "outputs": [
    {
     "name": "stdout",
     "output_type": "stream",
     "text": [
      "Pandas time: 0.4049 seconds\n",
      "NumPy time: 0.5530 seconds\n"
     ]
    }
   ],
   "source": [
    "import time\n",
    "\n",
    "# 生成大规模示例数据\n",
    "rows = 1000000\n",
    "cols = 100\n",
    "data = np.random.rand(rows, cols) * 100\n",
    "df_large = pd.DataFrame(data, columns=[f'col{i}' for i in range(cols)])\n",
    "divisors_large = np.random.rand(cols) * 10\n",
    "\n",
    "# 使用Pandas进行除法运算\n",
    "start_time = time.time()\n",
    "df_large_divided_pd = df_large.div(divisors_large, axis=1)\n",
    "pd_time = time.time() - start_time\n",
    "\n",
    "# 使用NumPy进行除法运算\n",
    "start_time = time.time()\n",
    "df_large_values = df_large.values\n",
    "df_large_divided_np = df_large_values / divisors_large\n",
    "df_large_divided_np = pd.DataFrame(df_large_divided_np, columns=df_large.columns)\n",
    "np_time = time.time() - start_time\n",
    "\n",
    "print(f\"Pandas time: {pd_time:.4f} seconds\")\n",
    "print(f\"NumPy time: {np_time:.4f} seconds\")\n"
   ]
  },
  {
   "cell_type": "code",
   "execution_count": null,
   "metadata": {},
   "outputs": [],
   "source": []
  }
 ],
 "metadata": {
  "kernelspec": {
   "display_name": "ML",
   "language": "python",
   "name": "python3"
  },
  "language_info": {
   "codemirror_mode": {
    "name": "ipython",
    "version": 3
   },
   "file_extension": ".py",
   "mimetype": "text/x-python",
   "name": "python",
   "nbconvert_exporter": "python",
   "pygments_lexer": "ipython3",
   "version": "3.9.19"
  }
 },
 "nbformat": 4,
 "nbformat_minor": 2
}
