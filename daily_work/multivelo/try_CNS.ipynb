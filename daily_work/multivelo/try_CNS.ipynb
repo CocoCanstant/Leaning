{
 "cells": [
  {
   "cell_type": "code",
   "execution_count": 1,
   "metadata": {},
   "outputs": [],
   "source": [
    "import scanpy as sc\n",
    "\n",
    "atac = sc.read_h5ad('/mnt/c/Users/ouyangkang/Desktop/atac_tryMultivelo.h5ad')\n",
    "rna = sc.read_h5ad('/mnt/c/Users/ouyangkang/Desktop/rna_tryMultivelo.h5ad')"
   ]
  },
  {
   "cell_type": "code",
   "execution_count": 2,
   "metadata": {},
   "outputs": [
    {
     "data": {
      "text/plain": [
       "AnnData object with n_obs × n_vars = 360 × 16725\n",
       "    obs: 'orig.ident', 'nCount_RNA', 'nFeature_RNA', 'assay', 'timeslot', 'subtype_old', 'tissue_old_RNA', 'tissue_update_RNA', 'germ_layer', 'tissue_ATAC', 'subtype_new', 'mature_neurons_cluster'\n",
       "    var: 'name'\n",
       "    obsm: 'X_pca', 'X_umap'"
      ]
     },
     "execution_count": 2,
     "metadata": {},
     "output_type": "execute_result"
    }
   ],
   "source": [
    "atac"
   ]
  },
  {
   "cell_type": "code",
   "execution_count": 3,
   "metadata": {},
   "outputs": [
    {
     "data": {
      "text/plain": [
       "AnnData object with n_obs × n_vars = 640 × 16725\n",
       "    obs: 'orig.ident', 'nCount_RNA', 'nFeature_RNA', 'assay', 'timeslot', 'subtype_old', 'tissue_old_RNA', 'tissue_update_RNA', 'germ_layer', 'tissue_ATAC', 'subtype_new', 'mature_neurons_cluster'\n",
       "    var: 'name'\n",
       "    obsm: 'X_pca', 'X_umap'"
      ]
     },
     "execution_count": 3,
     "metadata": {},
     "output_type": "execute_result"
    }
   ],
   "source": [
    "rna"
   ]
  },
  {
   "cell_type": "code",
   "execution_count": 10,
   "metadata": {},
   "outputs": [],
   "source": [
    "import pandas as pd\n",
    "\n",
    "replace_atac_rna = pd.read_csv('/mnt/d/dailywork/paried_atac_rna.csv')"
   ]
  },
  {
   "cell_type": "code",
   "execution_count": 11,
   "metadata": {},
   "outputs": [
    {
     "data": {
      "text/html": [
       "<div>\n",
       "<style scoped>\n",
       "    .dataframe tbody tr th:only-of-type {\n",
       "        vertical-align: middle;\n",
       "    }\n",
       "\n",
       "    .dataframe tbody tr th {\n",
       "        vertical-align: top;\n",
       "    }\n",
       "\n",
       "    .dataframe thead th {\n",
       "        text-align: right;\n",
       "    }\n",
       "</style>\n",
       "<table border=\"1\" class=\"dataframe\">\n",
       "  <thead>\n",
       "    <tr style=\"text-align: right;\">\n",
       "      <th></th>\n",
       "      <th>Unnamed: 0</th>\n",
       "      <th>ATAC</th>\n",
       "      <th>RNA</th>\n",
       "      <th>dist</th>\n",
       "    </tr>\n",
       "  </thead>\n",
       "  <tbody>\n",
       "    <tr>\n",
       "      <th>0</th>\n",
       "      <td>1</td>\n",
       "      <td>ATAC2206210006_ATAC2206210006_BC05663_N03</td>\n",
       "      <td>CELL399_N1_5_2</td>\n",
       "      <td>39.230780</td>\n",
       "    </tr>\n",
       "    <tr>\n",
       "      <th>1</th>\n",
       "      <td>2</td>\n",
       "      <td>ATAC2206210008_ATAC2206210008_BC00869_N04</td>\n",
       "      <td>CELL2616_N1_13_2</td>\n",
       "      <td>42.825230</td>\n",
       "    </tr>\n",
       "    <tr>\n",
       "      <th>2</th>\n",
       "      <td>3</td>\n",
       "      <td>ATAC2206210031_ATAC2206210031_BC11938_N03</td>\n",
       "      <td>CELL3926_N1_19_2</td>\n",
       "      <td>45.410822</td>\n",
       "    </tr>\n",
       "    <tr>\n",
       "      <th>3</th>\n",
       "      <td>4</td>\n",
       "      <td>ATAC2206210007_ATAC2206210007_BC04607_N01</td>\n",
       "      <td>CELL9670_N1_7_1</td>\n",
       "      <td>54.415448</td>\n",
       "    </tr>\n",
       "    <tr>\n",
       "      <th>4</th>\n",
       "      <td>5</td>\n",
       "      <td>ATAC2206210025_ATAC2206210025_BC11234_N01</td>\n",
       "      <td>CELL11368_N1_1_1</td>\n",
       "      <td>51.467176</td>\n",
       "    </tr>\n",
       "    <tr>\n",
       "      <th>...</th>\n",
       "      <td>...</td>\n",
       "      <td>...</td>\n",
       "      <td>...</td>\n",
       "      <td>...</td>\n",
       "    </tr>\n",
       "    <tr>\n",
       "      <th>560</th>\n",
       "      <td>561</td>\n",
       "      <td>ATAC2206100045_ATAC2206100045_BC03174_N02</td>\n",
       "      <td>CELL1043_N1_8_1</td>\n",
       "      <td>38.566203</td>\n",
       "    </tr>\n",
       "    <tr>\n",
       "      <th>561</th>\n",
       "      <td>562</td>\n",
       "      <td>ATAC2208290013_ATAC2208290013_BC03169_N02</td>\n",
       "      <td>CELL10158_N1_1_1</td>\n",
       "      <td>52.018350</td>\n",
       "    </tr>\n",
       "    <tr>\n",
       "      <th>562</th>\n",
       "      <td>563</td>\n",
       "      <td>ATAC2206210027_ATAC2206210027_BC17899_N03</td>\n",
       "      <td>CELL144_N1_12_1</td>\n",
       "      <td>41.018603</td>\n",
       "    </tr>\n",
       "    <tr>\n",
       "      <th>563</th>\n",
       "      <td>564</td>\n",
       "      <td>ATAC2206100038_ATAC2206100038_BC01868_N01</td>\n",
       "      <td>CELL2470_N1_2</td>\n",
       "      <td>35.478653</td>\n",
       "    </tr>\n",
       "    <tr>\n",
       "      <th>564</th>\n",
       "      <td>565</td>\n",
       "      <td>ATAC2208290013_ATAC2208290013_BC08482_N01</td>\n",
       "      <td>CELL6969_N1_7_1</td>\n",
       "      <td>52.702349</td>\n",
       "    </tr>\n",
       "  </tbody>\n",
       "</table>\n",
       "<p>565 rows × 4 columns</p>\n",
       "</div>"
      ],
      "text/plain": [
       "     Unnamed: 0                                       ATAC               RNA  \\\n",
       "0             1  ATAC2206210006_ATAC2206210006_BC05663_N03    CELL399_N1_5_2   \n",
       "1             2  ATAC2206210008_ATAC2206210008_BC00869_N04  CELL2616_N1_13_2   \n",
       "2             3  ATAC2206210031_ATAC2206210031_BC11938_N03  CELL3926_N1_19_2   \n",
       "3             4  ATAC2206210007_ATAC2206210007_BC04607_N01   CELL9670_N1_7_1   \n",
       "4             5  ATAC2206210025_ATAC2206210025_BC11234_N01  CELL11368_N1_1_1   \n",
       "..          ...                                        ...               ...   \n",
       "560         561  ATAC2206100045_ATAC2206100045_BC03174_N02   CELL1043_N1_8_1   \n",
       "561         562  ATAC2208290013_ATAC2208290013_BC03169_N02  CELL10158_N1_1_1   \n",
       "562         563  ATAC2206210027_ATAC2206210027_BC17899_N03   CELL144_N1_12_1   \n",
       "563         564  ATAC2206100038_ATAC2206100038_BC01868_N01     CELL2470_N1_2   \n",
       "564         565  ATAC2208290013_ATAC2208290013_BC08482_N01   CELL6969_N1_7_1   \n",
       "\n",
       "          dist  \n",
       "0    39.230780  \n",
       "1    42.825230  \n",
       "2    45.410822  \n",
       "3    54.415448  \n",
       "4    51.467176  \n",
       "..         ...  \n",
       "560  38.566203  \n",
       "561  52.018350  \n",
       "562  41.018603  \n",
       "563  35.478653  \n",
       "564  52.702349  \n",
       "\n",
       "[565 rows x 4 columns]"
      ]
     },
     "execution_count": 11,
     "metadata": {},
     "output_type": "execute_result"
    }
   ],
   "source": [
    "replace_atac_rna"
   ]
  },
  {
   "cell_type": "code",
   "execution_count": 22,
   "metadata": {},
   "outputs": [],
   "source": [
    "min_distance = {}\n",
    "\n",
    "for index, contents in replace_atac_rna.iterrows():\n",
    "    if contents[1] in min_distance.keys() and contents[3] > min_distance[contents[1]][1]:\n",
    "        min_distance[contents[1]] = [contents[2], index]\n",
    "    else:\n",
    "        min_distance[contents[1]] = [contents[2], index]"
   ]
  },
  {
   "cell_type": "code",
   "execution_count": 25,
   "metadata": {},
   "outputs": [
    {
     "data": {
      "text/plain": [
       "True"
      ]
     },
     "execution_count": 25,
     "metadata": {},
     "output_type": "execute_result"
    }
   ],
   "source": [
    "len(min_distance) == len(set(replace_atac_rna.ATAC))"
   ]
  },
  {
   "cell_type": "code",
   "execution_count": 30,
   "metadata": {},
   "outputs": [
    {
     "data": {
      "text/plain": [
       "'CELL6969_N1_7_1'"
      ]
     },
     "execution_count": 30,
     "metadata": {},
     "output_type": "execute_result"
    }
   ],
   "source": [
    "min_distance['ATAC2208290013_ATAC2208290013_BC08482_N01'][0]"
   ]
  },
  {
   "cell_type": "code",
   "execution_count": null,
   "metadata": {},
   "outputs": [],
   "source": []
  }
 ],
 "metadata": {
  "kernelspec": {
   "display_name": "scRNA",
   "language": "python",
   "name": "python3"
  },
  "language_info": {
   "codemirror_mode": {
    "name": "ipython",
    "version": 3
   },
   "file_extension": ".py",
   "mimetype": "text/x-python",
   "name": "python",
   "nbconvert_exporter": "python",
   "pygments_lexer": "ipython3",
   "version": "3.8.17"
  },
  "orig_nbformat": 4
 },
 "nbformat": 4,
 "nbformat_minor": 2
}
