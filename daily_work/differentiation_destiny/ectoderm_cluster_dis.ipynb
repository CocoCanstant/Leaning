{
 "cells": [
  {
   "cell_type": "code",
   "execution_count": 1,
   "metadata": {},
   "outputs": [],
   "source": [
    "import scanpy as sc\n",
    "from sklearn import metrics\n",
    "import pandas as pd"
   ]
  },
  {
   "cell_type": "code",
   "execution_count": 2,
   "metadata": {},
   "outputs": [
    {
     "ename": "TypeError",
     "evalue": "read_h5ad() missing 1 required positional argument: 'filename'",
     "output_type": "error",
     "traceback": [
      "\u001b[0;31m---------------------------------------------------------------------------\u001b[0m",
      "\u001b[0;31mTypeError\u001b[0m                                 Traceback (most recent call last)",
      "Cell \u001b[0;32mIn[2], line 1\u001b[0m\n\u001b[0;32m----> 1\u001b[0m ectoderm_data \u001b[38;5;241m=\u001b[39m \u001b[43msc\u001b[49m\u001b[38;5;241;43m.\u001b[39;49m\u001b[43mread_h5ad\u001b[49m\u001b[43m(\u001b[49m\u001b[43m)\u001b[49m\n",
      "\u001b[0;31mTypeError\u001b[0m: read_h5ad() missing 1 required positional argument: 'filename'"
     ]
    }
   ],
   "source": [
    "ectoderm_data = sc.read_h5ad()"
   ]
  },
  {
   "cell_type": "code",
   "execution_count": null,
   "metadata": {},
   "outputs": [],
   "source": [
    "ectoderm_trajectory = pd.DataFrame([['ectoderm AISN', 'ectoderm anlage'],\n",
    "                                    ['ectoderm anlage', 'ectoderm primordium'],\n",
    "                                    ['ectoderm primordium', 'epidermis primordium'],\n",
    "                                    ['epidermis primordium', 'epidermis early'],\n",
    "                                    ['epidermis early', 'epidermis mid early'],\n",
    "                                    ['epidermis mid early', 'epidermis mid late'],\n",
    "                                    ['epidermis mid late', 'epidermis late'],\n",
    "                                    ['epidermis mid early', 'tendon cells early'],\n",
    "                                    ['tendon cells early', 'tendon cells late'],\n",
    "                                    ['ectoderm primordium', 'foregut primordium'],\n",
    "                                    ['foregut primordium', 'salivary gland primordium'],\n",
    "                                    ['salivary gland primordium', 'salivary gland'],\n",
    "                                    ['foregut primordium', 'foregut early'],\n",
    "                                    ['foregut early', 'foregut late'],\n",
    "                                    ['ectoderm primordium', 'hindgut primordium'],\n",
    "                                    ['hindgut primordium', 'hindgut early'],\n",
    "                                    ['hindgut early', 'hindgut mid'],\n",
    "                                    ['hindgut mid', 'hindgut late'],\n",
    "                                    ['ectoderm primordium', 'tracheal anlage'],\n",
    "                                    ['tracheal anlage', 'tracheal primordium'],\n",
    "                                    ['tracheal primordium', 'tracheal system early'],\n",
    "                                    ['tracheal system early', 'tracheal system mid'],\n",
    "                                    ['tracheal system mid', 'tracheal system late'],\n",
    "                                    ['ectoderm primordium', 'malpighian tubule anlage'],\n",
    "                                    ['malpighian tubule anlage', 'malpighian tubule primordium'],\n",
    "                                    ['malpighian tubule primordium', 'malpighian tubule'],\n",
    "                                    ['ectoderm primordium', 'sensory primordium'],\n",
    "                                    ['sensory primordium', 'sensory complexes'],\n",
    "                                    ['ectoderm primordium', 'procephalic ectoderm primordium'],\n",
    "                                    ['procephalic ectoderm primordium', 'procephalic ectoderm'],\n",
    "                                    ['procephalic ectoderm', 'CNS primordium'],\n",
    "                                    ['CNS primordium', 'neuroblasts'],\n",
    "                                    ['neuroblasts', 'ganglion mother cells'],\n",
    "                                    ['ganglion mother cells', 'glia'],\n",
    "                                    ['ganglion mother cells', 'neural progenitors'],\n",
    "                                    ['neural progenitors', 'undifferentiated neurons'],\n",
    "                                    ['neural progenitors', 'mature neurons']],\n",
    "                                   columns=['Source', 'Target'])"
   ]
  },
  {
   "cell_type": "code",
   "execution_count": null,
   "metadata": {},
   "outputs": [],
   "source": [
    "data_try = ectoderm_data.obs.copy().reset_index()\n",
    "\n",
    "ectoderm_score = pd.DataFrame(columns=['Source', 'Target', 'Weight'])\n",
    "\n",
    "for i in range(len(ectoderm_trajectory)):\n",
    "    labels = data_try[np.in1d(data_try['subtype_new'], [ectoderm_trajectory.loc[i][0], ectoderm_trajectory.loc[i][1]])]['subtype_new']\n",
    "    paired_data = ectoderm_data.obsm['X_umap'][[data_try[np.in1d(data_try['subtype_new'], [ectoderm_trajectory.loc[i][0], ectoderm_trajectory.loc[i][1]])].index.tolist()]]\n",
    "    score = metrics.silhouette_score(paired_data, labels)\n",
    "    ectoderm_score.loc[i] = [ectoderm_trajectory.loc[i][0], ectoderm_trajectory.loc[i][1], score]"
   ]
  }
 ],
 "metadata": {
  "kernelspec": {
   "display_name": "scRNA",
   "language": "python",
   "name": "python3"
  },
  "language_info": {
   "codemirror_mode": {
    "name": "ipython",
    "version": 3
   },
   "file_extension": ".py",
   "mimetype": "text/x-python",
   "name": "python",
   "nbconvert_exporter": "python",
   "pygments_lexer": "ipython3",
   "version": "3.8.17"
  },
  "orig_nbformat": 4
 },
 "nbformat": 4,
 "nbformat_minor": 2
}
