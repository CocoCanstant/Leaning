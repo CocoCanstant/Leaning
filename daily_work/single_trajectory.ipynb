{
 "cells": [
  {
   "cell_type": "code",
   "execution_count": 3,
   "metadata": {},
   "outputs": [
    {
     "name": "stderr",
     "output_type": "stream",
     "text": [
      "/home/ouyangkang/software/anaconda3/envs/scRNA/lib/python3.8/site-packages/numba/core/types/__init__.py:108: FutureWarning: In the future `np.long` will be defined as the corresponding NumPy scalar.\n",
      "  long_ = _make_signed(np.long)\n"
     ]
    },
    {
     "ename": "AttributeError",
     "evalue": "module 'numpy' has no attribute 'long'",
     "output_type": "error",
     "traceback": [
      "\u001b[0;31m---------------------------------------------------------------------------\u001b[0m",
      "\u001b[0;31mAttributeError\u001b[0m                            Traceback (most recent call last)",
      "Cell \u001b[0;32mIn[3], line 1\u001b[0m\n\u001b[0;32m----> 1\u001b[0m \u001b[39mimport\u001b[39;00m \u001b[39mscanpy\u001b[39;00m \u001b[39mas\u001b[39;00m \u001b[39msc\u001b[39;00m\n\u001b[1;32m      3\u001b[0m sc_data \u001b[39m=\u001b[39m sc\u001b[39m.\u001b[39mread_h5ad(\u001b[39m'\u001b[39m\u001b[39m/mnt/c/Users/ouyangkang/Desktop/convert_sc_data.h5ad\u001b[39m\u001b[39m'\u001b[39m)\n",
      "File \u001b[0;32m~/software/anaconda3/envs/scRNA/lib/python3.8/site-packages/scanpy/__init__.py:6\u001b[0m\n\u001b[1;32m      3\u001b[0m \u001b[39mfrom\u001b[39;00m \u001b[39m.\u001b[39;00m\u001b[39m_metadata\u001b[39;00m \u001b[39mimport\u001b[39;00m __version__, within_flit\n\u001b[1;32m      5\u001b[0m \u001b[39mif\u001b[39;00m \u001b[39mnot\u001b[39;00m within_flit():  \u001b[39m# see function docstring on why this is there\u001b[39;00m\n\u001b[0;32m----> 6\u001b[0m     \u001b[39mfrom\u001b[39;00m \u001b[39m.\u001b[39;00m\u001b[39m_utils\u001b[39;00m \u001b[39mimport\u001b[39;00m check_versions\n\u001b[1;32m      8\u001b[0m     check_versions()\n\u001b[1;32m      9\u001b[0m     \u001b[39mdel\u001b[39;00m check_versions, within_flit\n",
      "File \u001b[0;32m~/software/anaconda3/envs/scRNA/lib/python3.8/site-packages/scanpy/_utils/__init__.py:29\u001b[0m\n\u001b[1;32m     26\u001b[0m \u001b[39mfrom\u001b[39;00m \u001b[39m.\u001b[39;00m\u001b[39m.\u001b[39;00m\u001b[39m_compat\u001b[39;00m \u001b[39mimport\u001b[39;00m Literal\n\u001b[1;32m     27\u001b[0m \u001b[39mfrom\u001b[39;00m \u001b[39m.\u001b[39;00m\u001b[39m.\u001b[39;00m \u001b[39mimport\u001b[39;00m logging \u001b[39mas\u001b[39;00m logg\n\u001b[0;32m---> 29\u001b[0m \u001b[39mfrom\u001b[39;00m \u001b[39m.\u001b[39;00m\u001b[39mcompute\u001b[39;00m\u001b[39m.\u001b[39;00m\u001b[39mis_constant\u001b[39;00m \u001b[39mimport\u001b[39;00m is_constant\n\u001b[1;32m     32\u001b[0m \u001b[39mclass\u001b[39;00m \u001b[39mEmpty\u001b[39;00m(Enum):\n\u001b[1;32m     33\u001b[0m     token \u001b[39m=\u001b[39m \u001b[39m0\u001b[39m\n",
      "File \u001b[0;32m~/software/anaconda3/envs/scRNA/lib/python3.8/site-packages/scanpy/_utils/compute/is_constant.py:5\u001b[0m\n\u001b[1;32m      2\u001b[0m \u001b[39mfrom\u001b[39;00m \u001b[39mnumbers\u001b[39;00m \u001b[39mimport\u001b[39;00m Integral\n\u001b[1;32m      4\u001b[0m \u001b[39mimport\u001b[39;00m \u001b[39mnumpy\u001b[39;00m \u001b[39mas\u001b[39;00m \u001b[39mnp\u001b[39;00m\n\u001b[0;32m----> 5\u001b[0m \u001b[39mfrom\u001b[39;00m \u001b[39mnumba\u001b[39;00m \u001b[39mimport\u001b[39;00m njit\n\u001b[1;32m      6\u001b[0m \u001b[39mfrom\u001b[39;00m \u001b[39mscipy\u001b[39;00m \u001b[39mimport\u001b[39;00m sparse\n\u001b[1;32m      9\u001b[0m \u001b[39m@singledispatch\u001b[39m\n\u001b[1;32m     10\u001b[0m \u001b[39mdef\u001b[39;00m \u001b[39mis_constant\u001b[39m(a, axis\u001b[39m=\u001b[39m\u001b[39mNone\u001b[39;00m) \u001b[39m-\u001b[39m\u001b[39m>\u001b[39m np\u001b[39m.\u001b[39mndarray:\n",
      "File \u001b[0;32m~/software/anaconda3/envs/scRNA/lib/python3.8/site-packages/numba/__init__.py:16\u001b[0m\n\u001b[1;32m     14\u001b[0m \u001b[39mfrom\u001b[39;00m \u001b[39mnumba\u001b[39;00m\u001b[39m.\u001b[39;00m\u001b[39mcore\u001b[39;00m \u001b[39mimport\u001b[39;00m config\n\u001b[1;32m     15\u001b[0m \u001b[39mfrom\u001b[39;00m \u001b[39mnumba\u001b[39;00m\u001b[39m.\u001b[39;00m\u001b[39mtesting\u001b[39;00m \u001b[39mimport\u001b[39;00m _runtests \u001b[39mas\u001b[39;00m runtests\n\u001b[0;32m---> 16\u001b[0m \u001b[39mfrom\u001b[39;00m \u001b[39mnumba\u001b[39;00m\u001b[39m.\u001b[39;00m\u001b[39mcore\u001b[39;00m \u001b[39mimport\u001b[39;00m types, errors\n\u001b[1;32m     18\u001b[0m \u001b[39m# Re-export typeof\u001b[39;00m\n\u001b[1;32m     19\u001b[0m \u001b[39mfrom\u001b[39;00m \u001b[39mnumba\u001b[39;00m\u001b[39m.\u001b[39;00m\u001b[39mmisc\u001b[39;00m\u001b[39m.\u001b[39;00m\u001b[39mspecial\u001b[39;00m \u001b[39mimport\u001b[39;00m (\n\u001b[1;32m     20\u001b[0m     typeof, prange, pndindex, gdb, gdb_breakpoint, gdb_init,\n\u001b[1;32m     21\u001b[0m     literally, literal_unroll\n\u001b[1;32m     22\u001b[0m )\n",
      "File \u001b[0;32m~/software/anaconda3/envs/scRNA/lib/python3.8/site-packages/numba/core/types/__init__.py:108\u001b[0m\n\u001b[1;32m    106\u001b[0m intc \u001b[39m=\u001b[39m _make_signed(np\u001b[39m.\u001b[39mintc) \u001b[39m# C-compat int\u001b[39;00m\n\u001b[1;32m    107\u001b[0m uintc \u001b[39m=\u001b[39m _make_unsigned(np\u001b[39m.\u001b[39muintc) \u001b[39m# C-compat uint\u001b[39;00m\n\u001b[0;32m--> 108\u001b[0m long_ \u001b[39m=\u001b[39m _make_signed(np\u001b[39m.\u001b[39;49mlong)\n\u001b[1;32m    109\u001b[0m ulong \u001b[39m=\u001b[39m _make_unsigned(np\u001b[39m.\u001b[39mlong)\n\u001b[1;32m    110\u001b[0m longlong \u001b[39m=\u001b[39m _make_signed(np\u001b[39m.\u001b[39mlonglong)\n",
      "File \u001b[0;32m~/software/anaconda3/envs/scRNA/lib/python3.8/site-packages/numpy/__init__.py:320\u001b[0m, in \u001b[0;36m__getattr__\u001b[0;34m(attr)\u001b[0m\n\u001b[1;32m    317\u001b[0m     \u001b[39mfrom\u001b[39;00m \u001b[39m.\u001b[39;00m\u001b[39mtesting\u001b[39;00m \u001b[39mimport\u001b[39;00m Tester\n\u001b[1;32m    318\u001b[0m     \u001b[39mreturn\u001b[39;00m Tester\n\u001b[0;32m--> 320\u001b[0m \u001b[39mraise\u001b[39;00m \u001b[39mAttributeError\u001b[39;00m(\u001b[39m\"\u001b[39m\u001b[39mmodule \u001b[39m\u001b[39m{!r}\u001b[39;00m\u001b[39m has no attribute \u001b[39m\u001b[39m\"\u001b[39m\n\u001b[1;32m    321\u001b[0m                      \u001b[39m\"\u001b[39m\u001b[39m{!r}\u001b[39;00m\u001b[39m\"\u001b[39m\u001b[39m.\u001b[39mformat(\u001b[39m__name__\u001b[39m, attr))\n",
      "\u001b[0;31mAttributeError\u001b[0m: module 'numpy' has no attribute 'long'"
     ]
    }
   ],
   "source": [
    "import scanpy as sc\n",
    "\n",
    "sc_data = sc.read_h5ad('/mnt/c/Users/ouyangkang/Desktop/convert_sc_data.h5ad')"
   ]
  },
  {
   "cell_type": "code",
   "execution_count": null,
   "metadata": {},
   "outputs": [],
   "source": []
  }
 ],
 "metadata": {
  "kernelspec": {
   "display_name": "scRNA",
   "language": "python",
   "name": "python3"
  },
  "language_info": {
   "codemirror_mode": {
    "name": "ipython",
    "version": 3
   },
   "file_extension": ".py",
   "mimetype": "text/x-python",
   "name": "python",
   "nbconvert_exporter": "python",
   "pygments_lexer": "ipython3",
   "version": "3.8.17"
  },
  "orig_nbformat": 4
 },
 "nbformat": 4,
 "nbformat_minor": 2
}
