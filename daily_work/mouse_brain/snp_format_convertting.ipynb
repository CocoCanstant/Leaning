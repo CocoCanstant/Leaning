{
 "cells": [
  {
   "cell_type": "code",
   "execution_count": 1,
   "metadata": {},
   "outputs": [],
   "source": [
    "import pandas as pd"
   ]
  },
  {
   "cell_type": "code",
   "execution_count": 6,
   "metadata": {},
   "outputs": [
    {
     "name": "stderr",
     "output_type": "stream",
     "text": [
      "/tmp/ipykernel_399/1993671653.py:1: DtypeWarning: Columns (0,2) have mixed types. Specify dtype option on import or set low_memory=False.\n",
      "  snp = pd.read_csv(\"/mnt/d/dailywork/Mouse_brain/GWAS/naive_uniq_snp.bed\", sep=\" \", header=None)\n"
     ]
    }
   ],
   "source": [
    "snp = pd.read_csv(\"/mnt/d/dailywork/Mouse_brain/GWAS/naive_uniq_snp.bed\", sep=\" \", header=None)"
   ]
  },
  {
   "cell_type": "code",
   "execution_count": 13,
   "metadata": {},
   "outputs": [
    {
     "data": {
      "text/html": [
       "<div>\n",
       "<style scoped>\n",
       "    .dataframe tbody tr th:only-of-type {\n",
       "        vertical-align: middle;\n",
       "    }\n",
       "\n",
       "    .dataframe tbody tr th {\n",
       "        vertical-align: top;\n",
       "    }\n",
       "\n",
       "    .dataframe thead th {\n",
       "        text-align: right;\n",
       "    }\n",
       "</style>\n",
       "<table border=\"1\" class=\"dataframe\">\n",
       "  <thead>\n",
       "    <tr style=\"text-align: right;\">\n",
       "      <th></th>\n",
       "      <th>CHR</th>\n",
       "      <th>SNP</th>\n",
       "      <th>BP</th>\n",
       "    </tr>\n",
       "  </thead>\n",
       "  <tbody>\n",
       "    <tr>\n",
       "      <th>0</th>\n",
       "      <td>1</td>\n",
       "      <td>rs1000050</td>\n",
       "      <td>162736463</td>\n",
       "    </tr>\n",
       "    <tr>\n",
       "      <th>1</th>\n",
       "      <td>1</td>\n",
       "      <td>rs1000073</td>\n",
       "      <td>157255396</td>\n",
       "    </tr>\n",
       "    <tr>\n",
       "      <th>2</th>\n",
       "      <td>1</td>\n",
       "      <td>rs1000283</td>\n",
       "      <td>209894661</td>\n",
       "    </tr>\n",
       "    <tr>\n",
       "      <th>3</th>\n",
       "      <td>1</td>\n",
       "      <td>rs1000313</td>\n",
       "      <td>15405489</td>\n",
       "    </tr>\n",
       "    <tr>\n",
       "      <th>4</th>\n",
       "      <td>1</td>\n",
       "      <td>rs1000314</td>\n",
       "      <td>15405907</td>\n",
       "    </tr>\n",
       "    <tr>\n",
       "      <th>...</th>\n",
       "      <td>...</td>\n",
       "      <td>...</td>\n",
       "      <td>...</td>\n",
       "    </tr>\n",
       "    <tr>\n",
       "      <th>1190316</th>\n",
       "      <td>9</td>\n",
       "      <td>rs999648</td>\n",
       "      <td>13064793</td>\n",
       "    </tr>\n",
       "    <tr>\n",
       "      <th>1190317</th>\n",
       "      <td>9</td>\n",
       "      <td>rs999655</td>\n",
       "      <td>126048349</td>\n",
       "    </tr>\n",
       "    <tr>\n",
       "      <th>1190318</th>\n",
       "      <td>9</td>\n",
       "      <td>rs999791</td>\n",
       "      <td>76412761</td>\n",
       "    </tr>\n",
       "    <tr>\n",
       "      <th>1190319</th>\n",
       "      <td>9</td>\n",
       "      <td>rs999924</td>\n",
       "      <td>1332257</td>\n",
       "    </tr>\n",
       "    <tr>\n",
       "      <th>1190320</th>\n",
       "      <td>9</td>\n",
       "      <td>rs999988</td>\n",
       "      <td>37635299</td>\n",
       "    </tr>\n",
       "  </tbody>\n",
       "</table>\n",
       "<p>1190321 rows × 3 columns</p>\n",
       "</div>"
      ],
      "text/plain": [
       "        CHR        SNP         BP\n",
       "0         1  rs1000050  162736463\n",
       "1         1  rs1000073  157255396\n",
       "2         1  rs1000283  209894661\n",
       "3         1  rs1000313   15405489\n",
       "4         1  rs1000314   15405907\n",
       "...      ..        ...        ...\n",
       "1190316   9   rs999648   13064793\n",
       "1190317   9   rs999655  126048349\n",
       "1190318   9   rs999791   76412761\n",
       "1190319   9   rs999924    1332257\n",
       "1190320   9   rs999988   37635299\n",
       "\n",
       "[1190321 rows x 3 columns]"
      ]
     },
     "execution_count": 13,
     "metadata": {},
     "output_type": "execute_result"
    }
   ],
   "source": [
    "snp.columns = [\"CHR\", \"SNP\", \"BP\"]\n",
    "snp.drop(snp.tail(1).index, inplace=True)\n",
    "snp"
   ]
  },
  {
   "cell_type": "code",
   "execution_count": 14,
   "metadata": {},
   "outputs": [],
   "source": [
    "snp.CHR = snp.CHR.astype(str)"
   ]
  },
  {
   "cell_type": "code",
   "execution_count": 15,
   "metadata": {},
   "outputs": [],
   "source": [
    "snp.CHR = \"chr\" + snp.CHR"
   ]
  },
  {
   "cell_type": "code",
   "execution_count": 16,
   "metadata": {},
   "outputs": [
    {
     "data": {
      "text/html": [
       "<div>\n",
       "<style scoped>\n",
       "    .dataframe tbody tr th:only-of-type {\n",
       "        vertical-align: middle;\n",
       "    }\n",
       "\n",
       "    .dataframe tbody tr th {\n",
       "        vertical-align: top;\n",
       "    }\n",
       "\n",
       "    .dataframe thead th {\n",
       "        text-align: right;\n",
       "    }\n",
       "</style>\n",
       "<table border=\"1\" class=\"dataframe\">\n",
       "  <thead>\n",
       "    <tr style=\"text-align: right;\">\n",
       "      <th></th>\n",
       "      <th>CHR</th>\n",
       "      <th>SNP</th>\n",
       "      <th>BP</th>\n",
       "    </tr>\n",
       "  </thead>\n",
       "  <tbody>\n",
       "    <tr>\n",
       "      <th>0</th>\n",
       "      <td>chr1</td>\n",
       "      <td>rs1000050</td>\n",
       "      <td>162736463</td>\n",
       "    </tr>\n",
       "    <tr>\n",
       "      <th>1</th>\n",
       "      <td>chr1</td>\n",
       "      <td>rs1000073</td>\n",
       "      <td>157255396</td>\n",
       "    </tr>\n",
       "    <tr>\n",
       "      <th>2</th>\n",
       "      <td>chr1</td>\n",
       "      <td>rs1000283</td>\n",
       "      <td>209894661</td>\n",
       "    </tr>\n",
       "    <tr>\n",
       "      <th>3</th>\n",
       "      <td>chr1</td>\n",
       "      <td>rs1000313</td>\n",
       "      <td>15405489</td>\n",
       "    </tr>\n",
       "    <tr>\n",
       "      <th>4</th>\n",
       "      <td>chr1</td>\n",
       "      <td>rs1000314</td>\n",
       "      <td>15405907</td>\n",
       "    </tr>\n",
       "    <tr>\n",
       "      <th>...</th>\n",
       "      <td>...</td>\n",
       "      <td>...</td>\n",
       "      <td>...</td>\n",
       "    </tr>\n",
       "    <tr>\n",
       "      <th>1190316</th>\n",
       "      <td>chr9</td>\n",
       "      <td>rs999648</td>\n",
       "      <td>13064793</td>\n",
       "    </tr>\n",
       "    <tr>\n",
       "      <th>1190317</th>\n",
       "      <td>chr9</td>\n",
       "      <td>rs999655</td>\n",
       "      <td>126048349</td>\n",
       "    </tr>\n",
       "    <tr>\n",
       "      <th>1190318</th>\n",
       "      <td>chr9</td>\n",
       "      <td>rs999791</td>\n",
       "      <td>76412761</td>\n",
       "    </tr>\n",
       "    <tr>\n",
       "      <th>1190319</th>\n",
       "      <td>chr9</td>\n",
       "      <td>rs999924</td>\n",
       "      <td>1332257</td>\n",
       "    </tr>\n",
       "    <tr>\n",
       "      <th>1190320</th>\n",
       "      <td>chr9</td>\n",
       "      <td>rs999988</td>\n",
       "      <td>37635299</td>\n",
       "    </tr>\n",
       "  </tbody>\n",
       "</table>\n",
       "<p>1190321 rows × 3 columns</p>\n",
       "</div>"
      ],
      "text/plain": [
       "          CHR        SNP         BP\n",
       "0        chr1  rs1000050  162736463\n",
       "1        chr1  rs1000073  157255396\n",
       "2        chr1  rs1000283  209894661\n",
       "3        chr1  rs1000313   15405489\n",
       "4        chr1  rs1000314   15405907\n",
       "...       ...        ...        ...\n",
       "1190316  chr9   rs999648   13064793\n",
       "1190317  chr9   rs999655  126048349\n",
       "1190318  chr9   rs999791   76412761\n",
       "1190319  chr9   rs999924    1332257\n",
       "1190320  chr9   rs999988   37635299\n",
       "\n",
       "[1190321 rows x 3 columns]"
      ]
     },
     "execution_count": 16,
     "metadata": {},
     "output_type": "execute_result"
    }
   ],
   "source": [
    "snp"
   ]
  },
  {
   "cell_type": "code",
   "execution_count": 21,
   "metadata": {},
   "outputs": [],
   "source": [
    "snp.BP = snp.BP.astype(\"int64\")"
   ]
  },
  {
   "cell_type": "code",
   "execution_count": 22,
   "metadata": {},
   "outputs": [],
   "source": [
    "snp[\"End\"] = snp.BP + 1"
   ]
  },
  {
   "cell_type": "code",
   "execution_count": 23,
   "metadata": {},
   "outputs": [],
   "source": [
    "snp = snp[[\"CHR\", \"BP\", \"End\", \"SNP\"]]"
   ]
  },
  {
   "cell_type": "code",
   "execution_count": 24,
   "metadata": {},
   "outputs": [],
   "source": [
    "snp.to_csv(\"/mnt/d/dailywork/Mouse_brain/GWAS/naive_preprocessed_snp_position.bed\", index=None, header=None, sep=\"\\t\")"
   ]
  },
  {
   "cell_type": "code",
   "execution_count": null,
   "metadata": {},
   "outputs": [],
   "source": []
  }
 ],
 "metadata": {
  "kernelspec": {
   "display_name": "ML",
   "language": "python",
   "name": "python3"
  },
  "language_info": {
   "codemirror_mode": {
    "name": "ipython",
    "version": 3
   },
   "file_extension": ".py",
   "mimetype": "text/x-python",
   "name": "python",
   "nbconvert_exporter": "python",
   "pygments_lexer": "ipython3",
   "version": "3.9.19"
  }
 },
 "nbformat": 4,
 "nbformat_minor": 2
}
