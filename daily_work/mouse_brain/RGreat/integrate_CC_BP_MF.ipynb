{
 "cells": [
  {
   "cell_type": "code",
   "execution_count": 1,
   "metadata": {},
   "outputs": [],
   "source": [
    "# load essential packages\n",
    "import pandas as pd\n",
    "from pathlib import Path"
   ]
  },
  {
   "cell_type": "code",
   "execution_count": 28,
   "metadata": {},
   "outputs": [],
   "source": [
    "# set work path\n",
    "work_path = Path(\"/mnt/d/dailywork/Mouse_brain/RGreat\")\n",
    "\n",
    "# integrate CC, BP and MF csv file\n",
    "file_name_list = [i.name for i in work_path.iterdir()]\n",
    "# create a while loop to finish integrating\n",
    "while len(file_name_list) > 0:\n",
    "    # select first file as start point\n",
    "    file_name_part = file_name_list[0].split(\"-\")\n",
    "    # create a empty dataframe\n",
    "    integrated_data = pd.DataFrame()\n",
    "    for part in [\"BP\", \"CC\", \"MF\"]:\n",
    "        # file path\n",
    "        file_name_part[1] = part\n",
    "        file_name = \"-\".join(file_name_part)\n",
    "        file_path = work_path.joinpath(file_name)\n",
    "        # check whether the file exists\n",
    "        if file_path.exists():\n",
    "            # integrate data\n",
    "            part_data = pd.read_csv(file_path)\n",
    "            integrated_data = pd.concat([part_data, integrated_data], ignore_index=True)\n",
    "            # delete index responding file\n",
    "            deleted_index = file_name_list.index(file_path.name)\n",
    "            file_name_list.pop(deleted_index)\n",
    "    # store data\n",
    "    file_name_part[1] = \"integrated\"\n",
    "    stored_name = \"-\".join(file_name_part)\n",
    "    stored_path = work_path.joinpath(stored_name)\n",
    "    integrated_data.to_csv(stored_path, index=None)"
   ]
  },
  {
   "cell_type": "code",
   "execution_count": null,
   "metadata": {},
   "outputs": [],
   "source": []
  }
 ],
 "metadata": {
  "kernelspec": {
   "display_name": "ML",
   "language": "python",
   "name": "python3"
  },
  "language_info": {
   "codemirror_mode": {
    "name": "ipython",
    "version": 3
   },
   "file_extension": ".py",
   "mimetype": "text/x-python",
   "name": "python",
   "nbconvert_exporter": "python",
   "pygments_lexer": "ipython3",
   "version": "3.9.19"
  }
 },
 "nbformat": 4,
 "nbformat_minor": 2
}
