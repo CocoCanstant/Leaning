{
 "cells": [
  {
   "cell_type": "code",
   "execution_count": null,
   "metadata": {},
   "outputs": [
    {
     "ename": "NameError",
     "evalue": "name 'text' is not defined",
     "output_type": "error",
     "traceback": [
      "\u001b[0;31m---------------------------------------------------------------------------\u001b[0m",
      "\u001b[0;31mNameError\u001b[0m                                 Traceback (most recent call last)",
      "Cell \u001b[0;32mIn[4], line 43\u001b[0m\n\u001b[1;32m     40\u001b[0m paragraphs \u001b[38;5;241m=\u001b[39m [\u001b[38;5;124m\"\u001b[39m\u001b[38;5;124m这是第一段。\u001b[39m\u001b[38;5;124m\"\u001b[39m, \u001b[38;5;124m\"\u001b[39m\u001b[38;5;124m这是第二段。\u001b[39m\u001b[38;5;124m\"\u001b[39m, \u001b[38;5;124m\"\u001b[39m\u001b[38;5;124m这是第三段。\u001b[39m\u001b[38;5;124m\"\u001b[39m]\n\u001b[1;32m     41\u001b[0m image_path \u001b[38;5;241m=\u001b[39m \u001b[38;5;124m\"\u001b[39m\u001b[38;5;124m/mnt/c/Users/ouyangkang/Desktop/blood.png\u001b[39m\u001b[38;5;124m\"\u001b[39m  \u001b[38;5;66;03m# 替换为你的图片路径\u001b[39;00m\n\u001b[0;32m---> 43\u001b[0m html_content \u001b[38;5;241m=\u001b[39m \u001b[43mcreate_html\u001b[49m\u001b[43m(\u001b[49m\u001b[43mtitle\u001b[49m\u001b[43m,\u001b[49m\u001b[43m \u001b[49m\u001b[43mheader\u001b[49m\u001b[43m,\u001b[49m\u001b[43m \u001b[49m\u001b[43mparagraphs\u001b[49m\u001b[43m,\u001b[49m\u001b[43m \u001b[49m\u001b[43mimage_path\u001b[49m\u001b[43m)\u001b[49m\n\u001b[1;32m     44\u001b[0m write_html_file(html_content, \u001b[38;5;124m'\u001b[39m\u001b[38;5;124m/mnt/c/Users/ouyangkang/Desktop/result.html\u001b[39m\u001b[38;5;124m'\u001b[39m)\n",
      "Cell \u001b[0;32mIn[4], line 17\u001b[0m, in \u001b[0;36mcreate_html\u001b[0;34m(title, header, paragraphs, image_path)\u001b[0m\n\u001b[1;32m      4\u001b[0m     \u001b[38;5;28;01mwith\u001b[39;00m \u001b[38;5;28mopen\u001b[39m(image_path, \u001b[38;5;124m\"\u001b[39m\u001b[38;5;124mrb\u001b[39m\u001b[38;5;124m\"\u001b[39m) \u001b[38;5;28;01mas\u001b[39;00m image_file:\n\u001b[1;32m      5\u001b[0m         encoded_string \u001b[38;5;241m=\u001b[39m base64\u001b[38;5;241m.\u001b[39mb64encode(image_file\u001b[38;5;241m.\u001b[39mread())\u001b[38;5;241m.\u001b[39mdecode()\n\u001b[1;32m      7\u001b[0m     html_content \u001b[38;5;241m=\u001b[39m \u001b[38;5;124mf\u001b[39m\u001b[38;5;124m\"\"\"\u001b[39m\n\u001b[1;32m      8\u001b[0m \u001b[38;5;124m<!DOCTYPE html>\u001b[39m\n\u001b[1;32m      9\u001b[0m \u001b[38;5;124m<html lang=\u001b[39m\u001b[38;5;124m\"\u001b[39m\u001b[38;5;124men\u001b[39m\u001b[38;5;124m\"\u001b[39m\u001b[38;5;124m>\u001b[39m\n\u001b[1;32m     10\u001b[0m \u001b[38;5;124m<head>\u001b[39m\n\u001b[1;32m     11\u001b[0m \u001b[38;5;124m    <meta charset=\u001b[39m\u001b[38;5;124m\"\u001b[39m\u001b[38;5;124mUTF-8\u001b[39m\u001b[38;5;124m\"\u001b[39m\u001b[38;5;124m>\u001b[39m\n\u001b[1;32m     12\u001b[0m \u001b[38;5;124m    <meta name=\u001b[39m\u001b[38;5;124m\"\u001b[39m\u001b[38;5;124mviewport\u001b[39m\u001b[38;5;124m\"\u001b[39m\u001b[38;5;124m content=\u001b[39m\u001b[38;5;124m\"\u001b[39m\u001b[38;5;124mwidth=device-width, initial-scale=1.0\u001b[39m\u001b[38;5;124m\"\u001b[39m\u001b[38;5;124m>\u001b[39m\n\u001b[1;32m     13\u001b[0m \u001b[38;5;124m    <title>\u001b[39m\u001b[38;5;132;01m{\u001b[39;00mtitle\u001b[38;5;132;01m}\u001b[39;00m\u001b[38;5;124m</title>\u001b[39m\n\u001b[1;32m     14\u001b[0m \u001b[38;5;124m    <style>\u001b[39m\n\u001b[1;32m     15\u001b[0m \u001b[38;5;124m        /* 添加CSS样式来居中标题 */\u001b[39m\n\u001b[1;32m     16\u001b[0m \u001b[38;5;124m        .centered-title \u001b[39m\u001b[38;5;132;01m{\u001b[39;00m\n\u001b[0;32m---> 17\u001b[0m \u001b[38;5;250m            \u001b[39m\u001b[43mtext\u001b[49m\u001b[38;5;241m-\u001b[39malign\u001b[38;5;132;01m:\u001b[39;00m\u001b[38;5;124m center;\u001b[39m\n\u001b[1;32m     18\u001b[0m \u001b[38;5;124m            margin-top: 50px; /* 根据需要调整上边距 */\u001b[39m\n\u001b[1;32m     19\u001b[0m \u001b[38;5;124m        \u001b[39m\u001b[38;5;132;01m}\u001b[39;00m\n\u001b[1;32m     20\u001b[0m \u001b[38;5;124m    </style>\u001b[39m\n\u001b[1;32m     21\u001b[0m \u001b[38;5;124m</head>\u001b[39m\n\u001b[1;32m     22\u001b[0m \u001b[38;5;124m<body>\u001b[39m\n\u001b[1;32m     23\u001b[0m \u001b[38;5;124m    <h1>\u001b[39m\u001b[38;5;132;01m{\u001b[39;00mheader\u001b[38;5;132;01m}\u001b[39;00m\u001b[38;5;124m</h1>\u001b[39m\n\u001b[1;32m     24\u001b[0m \u001b[38;5;124m    \u001b[39m\u001b[38;5;132;01m{\u001b[39;00m\u001b[38;5;124m\"\u001b[39m\u001b[38;5;124m\"\u001b[39m\u001b[38;5;241m.\u001b[39mjoin(\u001b[38;5;124mf\u001b[39m\u001b[38;5;124m\"\u001b[39m\u001b[38;5;124m    <p>\u001b[39m\u001b[38;5;132;01m{\u001b[39;00mp\u001b[38;5;132;01m}\u001b[39;00m\u001b[38;5;124m</p>\u001b[39m\u001b[38;5;124m\"\u001b[39m\u001b[38;5;250m \u001b[39m\u001b[38;5;28;01mfor\u001b[39;00m\u001b[38;5;250m \u001b[39mp\u001b[38;5;250m \u001b[39m\u001b[38;5;129;01min\u001b[39;00m\u001b[38;5;250m \u001b[39mparagraphs)\u001b[38;5;132;01m}\u001b[39;00m\n\u001b[1;32m     25\u001b[0m \u001b[38;5;124m    <!-- Add image -->\u001b[39m\n\u001b[1;32m     26\u001b[0m \u001b[38;5;124m    <img src=\u001b[39m\u001b[38;5;124m\"\u001b[39m\u001b[38;5;124mdata:image/jpeg;base64,\u001b[39m\u001b[38;5;132;01m{\u001b[39;00mencoded_string\u001b[38;5;132;01m}\u001b[39;00m\u001b[38;5;124m\"\u001b[39m\u001b[38;5;124m alt=\u001b[39m\u001b[38;5;124m\"\u001b[39m\u001b[38;5;124mDescription of image\u001b[39m\u001b[38;5;124m\"\u001b[39m\u001b[38;5;124m>\u001b[39m\n\u001b[1;32m     27\u001b[0m \u001b[38;5;124m</body>\u001b[39m\n\u001b[1;32m     28\u001b[0m \u001b[38;5;124m</html>\u001b[39m\n\u001b[1;32m     29\u001b[0m \u001b[38;5;124m\"\"\"\u001b[39m\n\u001b[1;32m     30\u001b[0m     \u001b[38;5;28;01mreturn\u001b[39;00m html_content\n",
      "\u001b[0;31mNameError\u001b[0m: name 'text' is not defined"
     ]
    }
   ],
   "source": [
    "import base64\n",
    "\n",
    "def create_html(title, header, paragraphs, image_path):\n",
    "    with open(image_path, \"rb\") as image_file:\n",
    "        encoded_string = base64.b64encode(image_file.read()).decode()\n",
    "\n",
    "    html_content = f\"\"\"\n",
    "<!DOCTYPE html>\n",
    "<html lang=\"en\">\n",
    "<head>\n",
    "    <meta charset=\"UTF-8\">\n",
    "    <meta name=\"viewport\" content=\"width=device-width, initial-scale=1.0\">\n",
    "    <title>{title}</title>\n",
    "</head>\n",
    "<body>\n",
    "    <h1>{header}</h1>\n",
    "    {\"\".join(f\"    <p>{p}</p>\" for p in paragraphs)}\n",
    "    <!-- Add image -->\n",
    "    <img src=\"data:image/jpeg;base64,{encoded_string}\" alt=\"Description of image\">\n",
    "</body>\n",
    "</html>\n",
    "\"\"\"\n",
    "    return html_content\n",
    "\n",
    "def write_html_file(html_content, file_name):\n",
    "    with open(file_name, 'w', encoding='utf-8') as file:\n",
    "        file.write(html_content)\n",
    "\n",
    "        \n",
    "# 使用函数\n",
    "title = \"我的HTML页面\"\n",
    "header = \"欢迎来到我的网站\"\n",
    "paragraphs = [\"这是第一段。\", \"这是第二段。\", \"这是第三段。\"]\n",
    "image_path = \"/mnt/c/Users/ouyangkang/Desktop/blood.png\"  # 替换为你的图片路径\n",
    "\n",
    "html_content = create_html(title, header, paragraphs, image_path)\n",
    "write_html_file(html_content, '/mnt/c/Users/ouyangkang/Desktop/result.html')"
   ]
  },
  {
   "cell_type": "code",
   "execution_count": 6,
   "metadata": {},
   "outputs": [],
   "source": [
    "students = [\n",
    "    {\"name\": \"张三\", \"age\": 18, \"score\": 90},\n",
    "    {\"name\": \"李四\", \"age\": 20, \"score\": 85},\n",
    "    {\"name\": \"王五\", \"age\": 19, \"score\": 95}\n",
    "]\n",
    "\n",
    "html_content = \"\"\"\n",
    "<!DOCTYPE html>\n",
    "<html>\n",
    "<head>\n",
    "    <title>学生信息</title>\n",
    "</head>\n",
    "<body>\n",
    "    <table>\n",
    "        <tr>\n",
    "            <th>姓名</th>\n",
    "            <th>年龄</th>\n",
    "            <th>成绩</th>\n",
    "        </tr>\n",
    "\"\"\"\n",
    "\n",
    "# 生成HTML表格内容\n",
    "for student in students:\n",
    "    html_content += f\"\"\"\n",
    "        <tr>\n",
    "            <td>{student[\"name\"]}</td>\n",
    "            <td>{student[\"age\"]}</td>\n",
    "            <td>{student[\"score\"]}</td>\n",
    "        </tr>\n",
    "    \"\"\"\n",
    "\n",
    "html_content += \"\"\"\n",
    "    </table>\n",
    "</body>\n",
    "</html>\n",
    "\"\"\"\n",
    "\n",
    "# 将HTML内容保存到文件\n",
    "with open(\"/mnt/c/Users/ouyangkang/Desktop/students.html\", \"w\") as f:\n",
    "    f.write(html_content)\n"
   ]
  },
  {
   "cell_type": "code",
   "execution_count": 1,
   "metadata": {},
   "outputs": [],
   "source": [
    "import streamlit as st"
   ]
  },
  {
   "cell_type": "code",
   "execution_count": 3,
   "metadata": {},
   "outputs": [
    {
     "name": "stderr",
     "output_type": "stream",
     "text": [
      "2024-11-27 19:58:23.340 Thread 'MainThread': missing ScriptRunContext! This warning can be ignored when running in bare mode.\n",
      "2024-11-27 19:58:23.342 Thread 'MainThread': missing ScriptRunContext! This warning can be ignored when running in bare mode.\n",
      "2024-11-27 19:58:23.343 Thread 'MainThread': missing ScriptRunContext! This warning can be ignored when running in bare mode.\n",
      "2024-11-27 19:58:23.344 Thread 'MainThread': missing ScriptRunContext! This warning can be ignored when running in bare mode.\n"
     ]
    },
    {
     "data": {
      "text/plain": [
       "DeltaGenerator()"
      ]
     },
     "execution_count": 3,
     "metadata": {},
     "output_type": "execute_result"
    }
   ],
   "source": [
    "st.markdown('''\n",
    "# 静夜思\n",
    "床前**明月**光，疑是地上霜。\n",
    "举头望**明月**，低头思故乡。\n",
    "''')\n",
    " \n",
    "st.text('''\n",
    "静夜思\n",
    "床前明月光，疑是地上霜。\n",
    "举头望明月，低头思故乡。\n",
    "''')"
   ]
  },
  {
   "cell_type": "code",
   "execution_count": null,
   "metadata": {},
   "outputs": [],
   "source": []
  }
 ],
 "metadata": {
  "kernelspec": {
   "display_name": "web",
   "language": "python",
   "name": "python3"
  },
  "language_info": {
   "codemirror_mode": {
    "name": "ipython",
    "version": 3
   },
   "file_extension": ".py",
   "mimetype": "text/x-python",
   "name": "python",
   "nbconvert_exporter": "python",
   "pygments_lexer": "ipython3",
   "version": "3.10.15"
  }
 },
 "nbformat": 4,
 "nbformat_minor": 2
}
