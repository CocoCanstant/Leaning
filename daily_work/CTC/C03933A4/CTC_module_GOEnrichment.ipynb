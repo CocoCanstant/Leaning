{
 "cells": [
  {
   "cell_type": "code",
   "execution_count": 1,
   "metadata": {},
   "outputs": [],
   "source": [
    "import gseapy as gp\n",
    "import matplotlib.pyplot as plt\n",
    "import pandas as pd\n",
    "from gseapy import barplot"
   ]
  },
  {
   "cell_type": "code",
   "execution_count": 2,
   "metadata": {},
   "outputs": [],
   "source": [
    "potential_module = [9, 24, 1, 14]"
   ]
  },
  {
   "cell_type": "code",
   "execution_count": 3,
   "metadata": {},
   "outputs": [
    {
     "data": {
      "text/html": [
       "<div>\n",
       "<style scoped>\n",
       "    .dataframe tbody tr th:only-of-type {\n",
       "        vertical-align: middle;\n",
       "    }\n",
       "\n",
       "    .dataframe tbody tr th {\n",
       "        vertical-align: top;\n",
       "    }\n",
       "\n",
       "    .dataframe thead th {\n",
       "        text-align: right;\n",
       "    }\n",
       "</style>\n",
       "<table border=\"1\" class=\"dataframe\">\n",
       "  <thead>\n",
       "    <tr style=\"text-align: right;\">\n",
       "      <th></th>\n",
       "      <th>Gene</th>\n",
       "      <th>C</th>\n",
       "      <th>Z</th>\n",
       "      <th>Pval</th>\n",
       "      <th>FDR</th>\n",
       "      <th>Module</th>\n",
       "    </tr>\n",
       "  </thead>\n",
       "  <tbody>\n",
       "    <tr>\n",
       "      <th>0</th>\n",
       "      <td>MTRNR2L5</td>\n",
       "      <td>0.417528</td>\n",
       "      <td>622.278901</td>\n",
       "      <td>0.0</td>\n",
       "      <td>0.0</td>\n",
       "      <td>1.0</td>\n",
       "    </tr>\n",
       "    <tr>\n",
       "      <th>1</th>\n",
       "      <td>AC090204.1</td>\n",
       "      <td>0.389365</td>\n",
       "      <td>610.271667</td>\n",
       "      <td>0.0</td>\n",
       "      <td>0.0</td>\n",
       "      <td>1.0</td>\n",
       "    </tr>\n",
       "    <tr>\n",
       "      <th>2</th>\n",
       "      <td>IGF2</td>\n",
       "      <td>0.137552</td>\n",
       "      <td>578.258508</td>\n",
       "      <td>0.0</td>\n",
       "      <td>0.0</td>\n",
       "      <td>22.0</td>\n",
       "    </tr>\n",
       "    <tr>\n",
       "      <th>3</th>\n",
       "      <td>MTRNR2L1</td>\n",
       "      <td>0.376989</td>\n",
       "      <td>482.767275</td>\n",
       "      <td>0.0</td>\n",
       "      <td>0.0</td>\n",
       "      <td>1.0</td>\n",
       "    </tr>\n",
       "    <tr>\n",
       "      <th>4</th>\n",
       "      <td>MYRIP</td>\n",
       "      <td>0.233273</td>\n",
       "      <td>443.042855</td>\n",
       "      <td>0.0</td>\n",
       "      <td>0.0</td>\n",
       "      <td>1.0</td>\n",
       "    </tr>\n",
       "  </tbody>\n",
       "</table>\n",
       "</div>"
      ],
      "text/plain": [
       "         Gene         C           Z  Pval  FDR  Module\n",
       "0    MTRNR2L5  0.417528  622.278901   0.0  0.0     1.0\n",
       "1  AC090204.1  0.389365  610.271667   0.0  0.0     1.0\n",
       "2        IGF2  0.137552  578.258508   0.0  0.0    22.0\n",
       "3    MTRNR2L1  0.376989  482.767275   0.0  0.0     1.0\n",
       "4       MYRIP  0.233273  443.042855   0.0  0.0     1.0"
      ]
     },
     "execution_count": 3,
     "metadata": {},
     "output_type": "execute_result"
    }
   ],
   "source": [
    "module_df = pd.read_csv(\"C03933A4.csv\")\n",
    "module_df.head()"
   ]
  },
  {
   "cell_type": "code",
   "execution_count": 4,
   "metadata": {},
   "outputs": [
    {
     "name": "stdout",
     "output_type": "stream",
     "text": [
      "Sorry, module 9 without significant enriched terms\n",
      "Sorry, module 24 without significant enriched terms\n"
     ]
    },
    {
     "name": "stderr",
     "output_type": "stream",
     "text": [
      "/home/ouyangkang/software/miniconda3/envs/sc/lib/python3.11/site-packages/gseapy/plot.py:694: FutureWarning: The 'method' keyword in Series.replace is deprecated and will be removed in a future version.\n",
      "  df[self.colname].replace(\n",
      "/home/ouyangkang/software/miniconda3/envs/sc/lib/python3.11/site-packages/gseapy/plot.py:694: FutureWarning: A value is trying to be set on a copy of a DataFrame or Series through chained assignment using an inplace method.\n",
      "The behavior will change in pandas 3.0. This inplace method will never work because the intermediate object on which we are setting values always behaves as a copy.\n",
      "\n",
      "For example, when doing 'df[col].method(value, inplace=True)', try using 'df.method({col: value}, inplace=True)' or df[col] = df[col].method(value) instead, to perform the operation inplace on the original object.\n",
      "\n",
      "\n",
      "  df[self.colname].replace(\n"
     ]
    },
    {
     "name": "stdout",
     "output_type": "stream",
     "text": [
      "Sorry, module 14 without significant enriched terms\n"
     ]
    }
   ],
   "source": [
    "for module in potential_module:\n",
    "    tmp_data = module_df[(module_df.Module == module) & (module_df.Pval < 0.05)]\n",
    "    tmp_gene_list = tmp_data.Gene.tolist()\n",
    "    enr = gp.enrichr(gene_list=tmp_gene_list,\n",
    "                 gene_sets=[\"GO_Biological_Process_2023\"],\n",
    "                 organism=\"human\",\n",
    "                 outdir=None)\n",
    "    try:\n",
    "        ax = barplot(enr.results,\n",
    "              column=\"Adjusted P-value\",\n",
    "              group='Gene_set', # set group, so you could do a multi-sample/library comparsion\n",
    "              # size=10,\n",
    "              top_term=10,\n",
    "              figsize=(12, 6),\n",
    "              ofname=f\"module_{module}.png\"\n",
    "              #color=['darkred', 'darkblue', \"pink\"] # set colors for group\n",
    "              #color = {'KEGG_2021_Human': 'salmon', 'MSigDB_Hallmark_2020':'darkblue'}\n",
    "             )\n",
    "        enr.results.to_csv(f\"module_{module}_enriched_terms.csv\", index=None)\n",
    "    except:\n",
    "        print(f\"Sorry, module {module} without significant enriched terms\")"
   ]
  },
  {
   "cell_type": "code",
   "execution_count": null,
   "metadata": {},
   "outputs": [],
   "source": []
  }
 ],
 "metadata": {
  "kernelspec": {
   "display_name": "sc",
   "language": "python",
   "name": "python3"
  },
  "language_info": {
   "codemirror_mode": {
    "name": "ipython",
    "version": 3
   },
   "file_extension": ".py",
   "mimetype": "text/x-python",
   "name": "python",
   "nbconvert_exporter": "python",
   "pygments_lexer": "ipython3",
   "version": "3.11.6"
  }
 },
 "nbformat": 4,
 "nbformat_minor": 2
}
