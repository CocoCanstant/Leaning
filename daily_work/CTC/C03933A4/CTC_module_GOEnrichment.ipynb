{
 "cells": [
  {
   "cell_type": "code",
   "execution_count": 3,
   "metadata": {},
   "outputs": [],
   "source": [
    "import gseapy as gp\n",
    "import matplotlib.pyplot as plt\n",
    "import pandas as pd\n",
    "from gseapy import barplot"
   ]
  },
  {
   "cell_type": "code",
   "execution_count": 10,
   "metadata": {},
   "outputs": [],
   "source": [
    "potential_module = [83]"
   ]
  },
  {
   "cell_type": "code",
   "execution_count": 11,
   "metadata": {},
   "outputs": [
    {
     "data": {
      "text/html": [
       "<div>\n",
       "<style scoped>\n",
       "    .dataframe tbody tr th:only-of-type {\n",
       "        vertical-align: middle;\n",
       "    }\n",
       "\n",
       "    .dataframe tbody tr th {\n",
       "        vertical-align: top;\n",
       "    }\n",
       "\n",
       "    .dataframe thead th {\n",
       "        text-align: right;\n",
       "    }\n",
       "</style>\n",
       "<table border=\"1\" class=\"dataframe\">\n",
       "  <thead>\n",
       "    <tr style=\"text-align: right;\">\n",
       "      <th></th>\n",
       "      <th>Gene</th>\n",
       "      <th>C</th>\n",
       "      <th>Z</th>\n",
       "      <th>Pval</th>\n",
       "      <th>FDR</th>\n",
       "      <th>Module</th>\n",
       "    </tr>\n",
       "  </thead>\n",
       "  <tbody>\n",
       "    <tr>\n",
       "      <th>0</th>\n",
       "      <td>TCIM</td>\n",
       "      <td>0.094908</td>\n",
       "      <td>536.236851</td>\n",
       "      <td>0.0</td>\n",
       "      <td>0.0</td>\n",
       "      <td>59.0</td>\n",
       "    </tr>\n",
       "    <tr>\n",
       "      <th>1</th>\n",
       "      <td>HDAC1P1</td>\n",
       "      <td>0.086680</td>\n",
       "      <td>529.374755</td>\n",
       "      <td>0.0</td>\n",
       "      <td>0.0</td>\n",
       "      <td>97.0</td>\n",
       "    </tr>\n",
       "    <tr>\n",
       "      <th>2</th>\n",
       "      <td>IGF2</td>\n",
       "      <td>0.100796</td>\n",
       "      <td>451.290490</td>\n",
       "      <td>0.0</td>\n",
       "      <td>0.0</td>\n",
       "      <td>21.0</td>\n",
       "    </tr>\n",
       "    <tr>\n",
       "      <th>3</th>\n",
       "      <td>TMEM79</td>\n",
       "      <td>0.096182</td>\n",
       "      <td>357.940010</td>\n",
       "      <td>0.0</td>\n",
       "      <td>0.0</td>\n",
       "      <td>21.0</td>\n",
       "    </tr>\n",
       "    <tr>\n",
       "      <th>4</th>\n",
       "      <td>MAPK6P6</td>\n",
       "      <td>0.094853</td>\n",
       "      <td>355.338374</td>\n",
       "      <td>0.0</td>\n",
       "      <td>0.0</td>\n",
       "      <td>24.0</td>\n",
       "    </tr>\n",
       "  </tbody>\n",
       "</table>\n",
       "</div>"
      ],
      "text/plain": [
       "      Gene         C           Z  Pval  FDR  Module\n",
       "0     TCIM  0.094908  536.236851   0.0  0.0    59.0\n",
       "1  HDAC1P1  0.086680  529.374755   0.0  0.0    97.0\n",
       "2     IGF2  0.100796  451.290490   0.0  0.0    21.0\n",
       "3   TMEM79  0.096182  357.940010   0.0  0.0    21.0\n",
       "4  MAPK6P6  0.094853  355.338374   0.0  0.0    24.0"
      ]
     },
     "execution_count": 11,
     "metadata": {},
     "output_type": "execute_result"
    }
   ],
   "source": [
    "module_df = pd.read_csv(\"C03933A4.csv\")\n",
    "module_df.head()"
   ]
  },
  {
   "cell_type": "code",
   "execution_count": 14,
   "metadata": {},
   "outputs": [
    {
     "name": "stderr",
     "output_type": "stream",
     "text": [
      "/home/ouyangkang/software/miniconda3/envs/sc/lib/python3.11/site-packages/gseapy/plot.py:694: FutureWarning: The 'method' keyword in Series.replace is deprecated and will be removed in a future version.\n",
      "  df[self.colname].replace(\n",
      "/home/ouyangkang/software/miniconda3/envs/sc/lib/python3.11/site-packages/gseapy/plot.py:694: FutureWarning: A value is trying to be set on a copy of a DataFrame or Series through chained assignment using an inplace method.\n",
      "The behavior will change in pandas 3.0. This inplace method will never work because the intermediate object on which we are setting values always behaves as a copy.\n",
      "\n",
      "For example, when doing 'df[col].method(value, inplace=True)', try using 'df.method({col: value}, inplace=True)' or df[col] = df[col].method(value) instead, to perform the operation inplace on the original object.\n",
      "\n",
      "\n",
      "  df[self.colname].replace(\n"
     ]
    }
   ],
   "source": [
    "for module in potential_module:\n",
    "    tmp_data = module_df[(module_df.Module == module) & (module_df.Pval < 0.05)]\n",
    "    tmp_gene_list = tmp_data.Gene.tolist()\n",
    "    enr = gp.enrichr(gene_list=tmp_gene_list,\n",
    "                 gene_sets=[\"GO_Biological_Process_2023\"],\n",
    "                 organism=\"human\",\n",
    "                 outdir=None)\n",
    "    try:\n",
    "        ax = barplot(enr.results,\n",
    "              column=\"Adjusted P-value\",\n",
    "              group='Gene_set', # set group, so you could do a multi-sample/library comparsion\n",
    "              # size=10,\n",
    "              top_term=10,\n",
    "              figsize=(12, 6),\n",
    "              cutoff=0.05,\n",
    "              ofname=f\"module_{module}.png\"\n",
    "              #color=['darkred', 'darkblue', \"pink\"] # set colors for group\n",
    "              #color = {'KEGG_2021_Human': 'salmon', 'MSigDB_Hallmark_2020':'darkblue'}\n",
    "             )\n",
    "        enr.results.to_csv(f\"module_{module}_enriched_terms.csv\", index=None)\n",
    "    except:\n",
    "        print(f\"Sorry, module {module} without significant enriched terms\")"
   ]
  },
  {
   "cell_type": "code",
   "execution_count": 9,
   "metadata": {},
   "outputs": [
    {
     "data": {
      "text/plain": [
       "['PDZRN4',\n",
       " 'GAPDHP51',\n",
       " 'ZNF704',\n",
       " 'LMO2',\n",
       " 'LRRC42',\n",
       " 'AC011411.1',\n",
       " 'ZNF846',\n",
       " 'AC104041.1',\n",
       " 'PLGRKT',\n",
       " 'OCM',\n",
       " 'FARP1',\n",
       " 'ATP8B4',\n",
       " 'EAF1-AS1',\n",
       " 'CCDC173',\n",
       " 'AC068051.1']"
      ]
     },
     "execution_count": 9,
     "metadata": {},
     "output_type": "execute_result"
    }
   ],
   "source": [
    "tmp_data.Gene.tolist()"
   ]
  },
  {
   "cell_type": "code",
   "execution_count": null,
   "metadata": {},
   "outputs": [],
   "source": []
  }
 ],
 "metadata": {
  "kernelspec": {
   "display_name": "sc",
   "language": "python",
   "name": "python3"
  },
  "language_info": {
   "codemirror_mode": {
    "name": "ipython",
    "version": 3
   },
   "file_extension": ".py",
   "mimetype": "text/x-python",
   "name": "python",
   "nbconvert_exporter": "python",
   "pygments_lexer": "ipython3",
   "version": "3.11.6"
  }
 },
 "nbformat": 4,
 "nbformat_minor": 2
}
