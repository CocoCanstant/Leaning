{
 "cells": [
  {
   "cell_type": "code",
   "execution_count": 1,
   "metadata": {},
   "outputs": [],
   "source": [
    "import gseapy as gp\n",
    "import matplotlib.pyplot as plt\n",
    "import pandas as pd\n",
    "from gseapy import barplot"
   ]
  },
  {
   "cell_type": "code",
   "execution_count": 2,
   "metadata": {},
   "outputs": [],
   "source": [
    "potential_module = [12, 13, 16, 22, 26, 3, 47, 55, 61, 63]"
   ]
  },
  {
   "cell_type": "code",
   "execution_count": 3,
   "metadata": {},
   "outputs": [
    {
     "data": {
      "text/html": [
       "<div>\n",
       "<style scoped>\n",
       "    .dataframe tbody tr th:only-of-type {\n",
       "        vertical-align: middle;\n",
       "    }\n",
       "\n",
       "    .dataframe tbody tr th {\n",
       "        vertical-align: top;\n",
       "    }\n",
       "\n",
       "    .dataframe thead th {\n",
       "        text-align: right;\n",
       "    }\n",
       "</style>\n",
       "<table border=\"1\" class=\"dataframe\">\n",
       "  <thead>\n",
       "    <tr style=\"text-align: right;\">\n",
       "      <th></th>\n",
       "      <th>Gene</th>\n",
       "      <th>C</th>\n",
       "      <th>Z</th>\n",
       "      <th>Pval</th>\n",
       "      <th>FDR</th>\n",
       "      <th>Module</th>\n",
       "    </tr>\n",
       "  </thead>\n",
       "  <tbody>\n",
       "    <tr>\n",
       "      <th>0</th>\n",
       "      <td>JCHAIN</td>\n",
       "      <td>0.554628</td>\n",
       "      <td>472.328863</td>\n",
       "      <td>0.0</td>\n",
       "      <td>0.0</td>\n",
       "      <td>4.0</td>\n",
       "    </tr>\n",
       "    <tr>\n",
       "      <th>1</th>\n",
       "      <td>IGKC</td>\n",
       "      <td>0.497620</td>\n",
       "      <td>328.543584</td>\n",
       "      <td>0.0</td>\n",
       "      <td>0.0</td>\n",
       "      <td>4.0</td>\n",
       "    </tr>\n",
       "    <tr>\n",
       "      <th>2</th>\n",
       "      <td>ABCA13</td>\n",
       "      <td>0.461612</td>\n",
       "      <td>203.180184</td>\n",
       "      <td>0.0</td>\n",
       "      <td>0.0</td>\n",
       "      <td>1.0</td>\n",
       "    </tr>\n",
       "    <tr>\n",
       "      <th>3</th>\n",
       "      <td>RPS27</td>\n",
       "      <td>0.573064</td>\n",
       "      <td>184.021660</td>\n",
       "      <td>0.0</td>\n",
       "      <td>0.0</td>\n",
       "      <td>3.0</td>\n",
       "    </tr>\n",
       "    <tr>\n",
       "      <th>4</th>\n",
       "      <td>RPS15A</td>\n",
       "      <td>0.589383</td>\n",
       "      <td>164.327803</td>\n",
       "      <td>0.0</td>\n",
       "      <td>0.0</td>\n",
       "      <td>3.0</td>\n",
       "    </tr>\n",
       "  </tbody>\n",
       "</table>\n",
       "</div>"
      ],
      "text/plain": [
       "     Gene         C           Z  Pval  FDR  Module\n",
       "0  JCHAIN  0.554628  472.328863   0.0  0.0     4.0\n",
       "1    IGKC  0.497620  328.543584   0.0  0.0     4.0\n",
       "2  ABCA13  0.461612  203.180184   0.0  0.0     1.0\n",
       "3   RPS27  0.573064  184.021660   0.0  0.0     3.0\n",
       "4  RPS15A  0.589383  164.327803   0.0  0.0     3.0"
      ]
     },
     "execution_count": 3,
     "metadata": {},
     "output_type": "execute_result"
    }
   ],
   "source": [
    "module_df = pd.read_csv(\"C03427D3.csv\")\n",
    "module_df.head()"
   ]
  },
  {
   "cell_type": "code",
   "execution_count": 4,
   "metadata": {},
   "outputs": [
    {
     "name": "stdout",
     "output_type": "stream",
     "text": [
      "Sorry, module 12 without significant enriched terms\n",
      "Sorry, module 13 without significant enriched terms\n",
      "Sorry, module 16 without significant enriched terms\n"
     ]
    },
    {
     "name": "stderr",
     "output_type": "stream",
     "text": [
      "/home/ouyangkang/software/miniconda3/envs/sc/lib/python3.11/site-packages/gseapy/plot.py:694: FutureWarning: The 'method' keyword in Series.replace is deprecated and will be removed in a future version.\n",
      "  df[self.colname].replace(\n",
      "/home/ouyangkang/software/miniconda3/envs/sc/lib/python3.11/site-packages/gseapy/plot.py:694: FutureWarning: A value is trying to be set on a copy of a DataFrame or Series through chained assignment using an inplace method.\n",
      "The behavior will change in pandas 3.0. This inplace method will never work because the intermediate object on which we are setting values always behaves as a copy.\n",
      "\n",
      "For example, when doing 'df[col].method(value, inplace=True)', try using 'df.method({col: value}, inplace=True)' or df[col] = df[col].method(value) instead, to perform the operation inplace on the original object.\n",
      "\n",
      "\n",
      "  df[self.colname].replace(\n"
     ]
    },
    {
     "name": "stdout",
     "output_type": "stream",
     "text": [
      "Sorry, module 26 without significant enriched terms\n"
     ]
    },
    {
     "name": "stderr",
     "output_type": "stream",
     "text": [
      "/home/ouyangkang/software/miniconda3/envs/sc/lib/python3.11/site-packages/gseapy/plot.py:694: FutureWarning: The 'method' keyword in Series.replace is deprecated and will be removed in a future version.\n",
      "  df[self.colname].replace(\n",
      "/home/ouyangkang/software/miniconda3/envs/sc/lib/python3.11/site-packages/gseapy/plot.py:694: FutureWarning: A value is trying to be set on a copy of a DataFrame or Series through chained assignment using an inplace method.\n",
      "The behavior will change in pandas 3.0. This inplace method will never work because the intermediate object on which we are setting values always behaves as a copy.\n",
      "\n",
      "For example, when doing 'df[col].method(value, inplace=True)', try using 'df.method({col: value}, inplace=True)' or df[col] = df[col].method(value) instead, to perform the operation inplace on the original object.\n",
      "\n",
      "\n",
      "  df[self.colname].replace(\n"
     ]
    },
    {
     "name": "stdout",
     "output_type": "stream",
     "text": [
      "Sorry, module 47 without significant enriched terms\n"
     ]
    },
    {
     "name": "stderr",
     "output_type": "stream",
     "text": [
      "/home/ouyangkang/software/miniconda3/envs/sc/lib/python3.11/site-packages/gseapy/plot.py:694: FutureWarning: The 'method' keyword in Series.replace is deprecated and will be removed in a future version.\n",
      "  df[self.colname].replace(\n",
      "/home/ouyangkang/software/miniconda3/envs/sc/lib/python3.11/site-packages/gseapy/plot.py:694: FutureWarning: A value is trying to be set on a copy of a DataFrame or Series through chained assignment using an inplace method.\n",
      "The behavior will change in pandas 3.0. This inplace method will never work because the intermediate object on which we are setting values always behaves as a copy.\n",
      "\n",
      "For example, when doing 'df[col].method(value, inplace=True)', try using 'df.method({col: value}, inplace=True)' or df[col] = df[col].method(value) instead, to perform the operation inplace on the original object.\n",
      "\n",
      "\n",
      "  df[self.colname].replace(\n"
     ]
    },
    {
     "name": "stdout",
     "output_type": "stream",
     "text": [
      "Sorry, module 61 without significant enriched terms\n",
      "Sorry, module 63 without significant enriched terms\n"
     ]
    }
   ],
   "source": [
    "for module in potential_module:\n",
    "    tmp_data = module_df[(module_df.Module == module) & (module_df.Pval < 0.05)]\n",
    "    tmp_gene_list = tmp_data.Gene.tolist()\n",
    "    enr = gp.enrichr(gene_list=tmp_gene_list,\n",
    "                 gene_sets=[\"GO_Biological_Process_2023\"],\n",
    "                 organism=\"human\",\n",
    "                 outdir=None)\n",
    "    try:\n",
    "        ax = barplot(enr.results,\n",
    "              column=\"Adjusted P-value\",\n",
    "              group='Gene_set', # set group, so you could do a multi-sample/library comparsion\n",
    "              # size=10,\n",
    "              top_term=10,\n",
    "              figsize=(12, 6),\n",
    "              ofname=f\"module_{module}.png\"\n",
    "              #color=['darkred', 'darkblue', \"pink\"] # set colors for group\n",
    "              #color = {'KEGG_2021_Human': 'salmon', 'MSigDB_Hallmark_2020':'darkblue'}\n",
    "             )\n",
    "        enr.results.to_csv(f\"module_{module}_enriched_terms.csv\", index=None)\n",
    "    except:\n",
    "        print(f\"Sorry, module {module} without significant enriched terms\")"
   ]
  },
  {
   "cell_type": "code",
   "execution_count": null,
   "metadata": {},
   "outputs": [],
   "source": []
  }
 ],
 "metadata": {
  "kernelspec": {
   "display_name": "sc",
   "language": "python",
   "name": "python3"
  },
  "language_info": {
   "codemirror_mode": {
    "name": "ipython",
    "version": 3
   },
   "file_extension": ".py",
   "mimetype": "text/x-python",
   "name": "python",
   "nbconvert_exporter": "python",
   "pygments_lexer": "ipython3",
   "version": "3.11.6"
  }
 },
 "nbformat": 4,
 "nbformat_minor": 2
}
