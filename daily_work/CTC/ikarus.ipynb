{
 "cells": [
  {
   "cell_type": "code",
   "execution_count": 1,
   "metadata": {},
   "outputs": [],
   "source": [
    "import scanpy as sc\n",
    "import anndata\n",
    "import pandas as pd\n",
    "from pathlib import Path\n",
    "from ikarus import classifier, utils, data"
   ]
  },
  {
   "cell_type": "code",
   "execution_count": 2,
   "metadata": {},
   "outputs": [],
   "source": [
    "adata = sc.read_h5ad('/mnt/c/Users/ouyangkang/Downloads/integrate_tmp_3data_withAnno.h5ad')"
   ]
  },
  {
   "cell_type": "code",
   "execution_count": 3,
   "metadata": {},
   "outputs": [
    {
     "data": {
      "text/plain": [
       "AnnData object with n_obs × n_vars = 5406 × 22857\n",
       "    obs: 'orig.ident', 'x', 'y', 'n_genes_by_counts', 'total_counts', 'total_counts_mt', 'pct_counts_mt', 'total_counts_rb', 'pct_counts_rb', 'total_counts_hb', 'pct_counts_hb', 'total_counts_hsp', 'pct_counts_hsp', 'chip', 'n_genes', 'leiden', 'anno'\n",
       "    var: 'n_cells', 'highly_variable', 'means', 'dispersions', 'dispersions_norm'\n",
       "    uns: 'anno_colors', 'chip_colors', 'hvg', 'leiden', 'leiden_colors', 'neighbors', 'pca', 'rank_genes_groups', 'umap'\n",
       "    obsm: 'X_pca', 'X_umap', 'spatial'\n",
       "    varm: 'PCs'\n",
       "    layers: 'raw'\n",
       "    obsp: 'connectivities', 'distances'"
      ]
     },
     "execution_count": 3,
     "metadata": {},
     "output_type": "execute_result"
    }
   ],
   "source": [
    "adata"
   ]
  },
  {
   "cell_type": "code",
   "execution_count": 4,
   "metadata": {},
   "outputs": [],
   "source": [
    "signatures_path = Path(\"/mnt/c/Users/ouyangkang/Downloads/signatures.gmt\")"
   ]
  },
  {
   "cell_type": "code",
   "execution_count": 5,
   "metadata": {},
   "outputs": [
    {
     "data": {
      "text/html": [
       "<div>\n",
       "<style scoped>\n",
       "    .dataframe tbody tr th:only-of-type {\n",
       "        vertical-align: middle;\n",
       "    }\n",
       "\n",
       "    .dataframe tbody tr th {\n",
       "        vertical-align: top;\n",
       "    }\n",
       "\n",
       "    .dataframe thead th {\n",
       "        text-align: right;\n",
       "    }\n",
       "</style>\n",
       "<table border=\"1\" class=\"dataframe\">\n",
       "  <thead>\n",
       "    <tr style=\"text-align: right;\">\n",
       "      <th></th>\n",
       "      <th>0</th>\n",
       "      <th>1</th>\n",
       "      <th>2</th>\n",
       "      <th>3</th>\n",
       "      <th>4</th>\n",
       "      <th>5</th>\n",
       "      <th>6</th>\n",
       "      <th>7</th>\n",
       "      <th>8</th>\n",
       "      <th>9</th>\n",
       "      <th>...</th>\n",
       "      <th>1305</th>\n",
       "      <th>1306</th>\n",
       "      <th>1307</th>\n",
       "      <th>1308</th>\n",
       "      <th>1309</th>\n",
       "      <th>1310</th>\n",
       "      <th>1311</th>\n",
       "      <th>1312</th>\n",
       "      <th>1313</th>\n",
       "      <th>1314</th>\n",
       "    </tr>\n",
       "  </thead>\n",
       "  <tbody>\n",
       "    <tr>\n",
       "      <th>0</th>\n",
       "      <td>Normal</td>\n",
       "      <td>ikarus</td>\n",
       "      <td>RP11-128M1.1</td>\n",
       "      <td>TRAV8-2</td>\n",
       "      <td>PTPRD-AS1</td>\n",
       "      <td>MEOX2</td>\n",
       "      <td>CXCL12</td>\n",
       "      <td>KLRC4-KLRK1</td>\n",
       "      <td>BCAS1</td>\n",
       "      <td>SCNN1A</td>\n",
       "      <td>...</td>\n",
       "      <td>C22ORF15</td>\n",
       "      <td>CYP4F11</td>\n",
       "      <td>AK8</td>\n",
       "      <td>LRRC18</td>\n",
       "      <td>LMO2</td>\n",
       "      <td>COL12A1</td>\n",
       "      <td>ITGA11</td>\n",
       "      <td>EGFL6</td>\n",
       "      <td>RGS11</td>\n",
       "      <td>PCDHB15</td>\n",
       "    </tr>\n",
       "    <tr>\n",
       "      <th>1</th>\n",
       "      <td>Tumor</td>\n",
       "      <td>ikarus</td>\n",
       "      <td>RP11-277P12.10</td>\n",
       "      <td>RP13-895J2.6</td>\n",
       "      <td>BNC1</td>\n",
       "      <td>MAGEA6</td>\n",
       "      <td>ISX</td>\n",
       "      <td>MAGEA3</td>\n",
       "      <td>RP13-614K11.2</td>\n",
       "      <td>CDH7</td>\n",
       "      <td>...</td>\n",
       "      <td>NaN</td>\n",
       "      <td>NaN</td>\n",
       "      <td>NaN</td>\n",
       "      <td>NaN</td>\n",
       "      <td>NaN</td>\n",
       "      <td>NaN</td>\n",
       "      <td>NaN</td>\n",
       "      <td>NaN</td>\n",
       "      <td>NaN</td>\n",
       "      <td>NaN</td>\n",
       "    </tr>\n",
       "  </tbody>\n",
       "</table>\n",
       "<p>2 rows × 1315 columns</p>\n",
       "</div>"
      ],
      "text/plain": [
       "     0       1               2             3          4       5       6     \\\n",
       "0  Normal  ikarus    RP11-128M1.1       TRAV8-2  PTPRD-AS1   MEOX2  CXCL12   \n",
       "1   Tumor  ikarus  RP11-277P12.10  RP13-895J2.6       BNC1  MAGEA6     ISX   \n",
       "\n",
       "          7              8       9     ...      1305     1306 1307    1308  \\\n",
       "0  KLRC4-KLRK1          BCAS1  SCNN1A  ...  C22ORF15  CYP4F11  AK8  LRRC18   \n",
       "1       MAGEA3  RP13-614K11.2    CDH7  ...       NaN      NaN  NaN     NaN   \n",
       "\n",
       "   1309     1310    1311   1312   1313     1314  \n",
       "0  LMO2  COL12A1  ITGA11  EGFL6  RGS11  PCDHB15  \n",
       "1   NaN      NaN     NaN    NaN    NaN      NaN  \n",
       "\n",
       "[2 rows x 1315 columns]"
      ]
     },
     "execution_count": 5,
     "metadata": {},
     "output_type": "execute_result"
    }
   ],
   "source": [
    "pd.read_csv(signatures_path, sep=\"\\t\", header=None)"
   ]
  },
  {
   "cell_type": "code",
   "execution_count": 14,
   "metadata": {},
   "outputs": [
    {
     "name": "stderr",
     "output_type": "stream",
     "text": [
      "/home/ouyangkang/software/miniconda3/envs/sc/lib/python3.11/site-packages/sklearn/base.py:376: InconsistentVersionWarning: Trying to unpickle estimator LogisticRegression from version 0.24.2 when using version 1.5.0. This might lead to breaking code or invalid results. Use at your own risk. For more info please refer to:\n",
      "https://scikit-learn.org/stable/model_persistence.html#security-maintainability-limitations\n",
      "  warnings.warn(\n"
     ]
    }
   ],
   "source": [
    "model_path = Path(\"/mnt/c/Users/ouyangkang/Downloads/core_model.joblib\")\n",
    "model = classifier.Ikarus(signatures_gmt=signatures_path, out_dir=\"./\")\n",
    "model.load_core_model(model_path)"
   ]
  },
  {
   "cell_type": "code",
   "execution_count": 117,
   "metadata": {},
   "outputs": [
    {
     "name": "stdout",
     "output_type": "stream",
     "text": [
      "WARNING: adata.X seems to be already log-transformed.\n"
     ]
    }
   ],
   "source": [
    "adata.X = adata.layers['raw']\n",
    "adata = data.preprocess_adata(adata)"
   ]
  },
  {
   "cell_type": "code",
   "execution_count": 90,
   "metadata": {},
   "outputs": [
    {
     "data": {
      "text/plain": [
       "<Compressed Sparse Row sparse matrix of dtype 'float64'\n",
       "\twith 3582309 stored elements and shape (5406, 22857)>"
      ]
     },
     "execution_count": 90,
     "metadata": {},
     "output_type": "execute_result"
    }
   ],
   "source": [
    "adata.X"
   ]
  },
  {
   "cell_type": "code",
   "execution_count": 37,
   "metadata": {},
   "outputs": [
    {
     "name": "stderr",
     "output_type": "stream",
     "text": [
      "Less than 80% of the genes in Normal are present in the expression matrix.\n",
      "Less than 80% of the genes in Tumor are present in the expression matrix.\n",
      "/home/ouyangkang/software/miniconda3/envs/sc/lib/python3.11/site-packages/sklearn/base.py:486: UserWarning: X has feature names, but LogisticRegression was fitted without feature names\n",
      "  warnings.warn(\n"
     ]
    },
    {
     "ename": "ValueError",
     "evalue": "Input X contains NaN.\nLogisticRegression does not accept missing values encoded as NaN natively. For supervised learning, you might want to consider sklearn.ensemble.HistGradientBoostingClassifier and Regressor which accept missing values encoded as NaNs natively. Alternatively, it is possible to preprocess the data, for instance by using an imputer transformer in a pipeline or drop samples with missing values. See https://scikit-learn.org/stable/modules/impute.html You can find a list of all estimators that handle NaN values at the following page: https://scikit-learn.org/stable/modules/impute.html#estimators-that-handle-nan-values",
     "output_type": "error",
     "traceback": [
      "\u001b[0;31m---------------------------------------------------------------------------\u001b[0m",
      "\u001b[0;31mValueError\u001b[0m                                Traceback (most recent call last)",
      "Cell \u001b[0;32mIn[37], line 1\u001b[0m\n\u001b[0;32m----> 1\u001b[0m _ \u001b[38;5;241m=\u001b[39m \u001b[43mmodel\u001b[49m\u001b[38;5;241;43m.\u001b[39;49m\u001b[43mpredict\u001b[49m\u001b[43m(\u001b[49m\u001b[43madata\u001b[49m\u001b[43m,\u001b[49m\u001b[43m \u001b[49m\u001b[38;5;124;43m\"\u001b[39;49m\u001b[38;5;124;43mprediction\u001b[39;49m\u001b[38;5;124;43m\"\u001b[39;49m\u001b[43m,\u001b[49m\u001b[43m \u001b[49m\u001b[43msave\u001b[49m\u001b[38;5;241;43m=\u001b[39;49m\u001b[38;5;28;43;01mTrue\u001b[39;49;00m\u001b[43m)\u001b[49m\n",
      "File \u001b[0;32m~/software/miniconda3/envs/sc/lib/python3.11/site-packages/ikarus/classifier.py:375\u001b[0m, in \u001b[0;36mIkarus.predict\u001b[0;34m(self, adata, name, scores_path, connectivities_path, save)\u001b[0m\n\u001b[1;32m    372\u001b[0m     scores_path \u001b[38;5;241m=\u001b[39m path \u001b[38;5;241m/\u001b[39m \u001b[38;5;124m\"\u001b[39m\u001b[38;5;124mscores.csv\u001b[39m\u001b[38;5;124m\"\u001b[39m\n\u001b[1;32m    374\u001b[0m scores \u001b[38;5;241m=\u001b[39m pd\u001b[38;5;241m.\u001b[39mread_csv(scores_path, index_col\u001b[38;5;241m=\u001b[39m\u001b[38;5;28;01mFalse\u001b[39;00m)\n\u001b[0;32m--> 375\u001b[0m y_pred \u001b[38;5;241m=\u001b[39m \u001b[38;5;28;43mself\u001b[39;49m\u001b[38;5;241;43m.\u001b[39;49m\u001b[43mcore_model\u001b[49m\u001b[38;5;241;43m.\u001b[39;49m\u001b[43mpredict\u001b[49m\u001b[43m(\u001b[49m\u001b[43mscores\u001b[49m\u001b[43m)\u001b[49m\n\u001b[1;32m    376\u001b[0m y_pred_proba \u001b[38;5;241m=\u001b[39m \u001b[38;5;28mself\u001b[39m\u001b[38;5;241m.\u001b[39mcore_model\u001b[38;5;241m.\u001b[39mpredict_proba(scores)\n\u001b[1;32m    378\u001b[0m \u001b[38;5;28mself\u001b[39m\u001b[38;5;241m.\u001b[39mresults \u001b[38;5;241m=\u001b[39m scores\u001b[38;5;241m.\u001b[39mcopy()\n",
      "File \u001b[0;32m~/software/miniconda3/envs/sc/lib/python3.11/site-packages/sklearn/linear_model/_base.py:382\u001b[0m, in \u001b[0;36mLinearClassifierMixin.predict\u001b[0;34m(self, X)\u001b[0m\n\u001b[1;32m    368\u001b[0m \u001b[38;5;250m\u001b[39m\u001b[38;5;124;03m\"\"\"\u001b[39;00m\n\u001b[1;32m    369\u001b[0m \u001b[38;5;124;03mPredict class labels for samples in X.\u001b[39;00m\n\u001b[1;32m    370\u001b[0m \n\u001b[0;32m   (...)\u001b[0m\n\u001b[1;32m    379\u001b[0m \u001b[38;5;124;03m    Vector containing the class labels for each sample.\u001b[39;00m\n\u001b[1;32m    380\u001b[0m \u001b[38;5;124;03m\"\"\"\u001b[39;00m\n\u001b[1;32m    381\u001b[0m xp, _ \u001b[38;5;241m=\u001b[39m get_namespace(X)\n\u001b[0;32m--> 382\u001b[0m scores \u001b[38;5;241m=\u001b[39m \u001b[38;5;28;43mself\u001b[39;49m\u001b[38;5;241;43m.\u001b[39;49m\u001b[43mdecision_function\u001b[49m\u001b[43m(\u001b[49m\u001b[43mX\u001b[49m\u001b[43m)\u001b[49m\n\u001b[1;32m    383\u001b[0m \u001b[38;5;28;01mif\u001b[39;00m \u001b[38;5;28mlen\u001b[39m(scores\u001b[38;5;241m.\u001b[39mshape) \u001b[38;5;241m==\u001b[39m \u001b[38;5;241m1\u001b[39m:\n\u001b[1;32m    384\u001b[0m     indices \u001b[38;5;241m=\u001b[39m xp\u001b[38;5;241m.\u001b[39mastype(scores \u001b[38;5;241m>\u001b[39m \u001b[38;5;241m0\u001b[39m, indexing_dtype(xp))\n",
      "File \u001b[0;32m~/software/miniconda3/envs/sc/lib/python3.11/site-packages/sklearn/linear_model/_base.py:363\u001b[0m, in \u001b[0;36mLinearClassifierMixin.decision_function\u001b[0;34m(self, X)\u001b[0m\n\u001b[1;32m    360\u001b[0m check_is_fitted(\u001b[38;5;28mself\u001b[39m)\n\u001b[1;32m    361\u001b[0m xp, _ \u001b[38;5;241m=\u001b[39m get_namespace(X)\n\u001b[0;32m--> 363\u001b[0m X \u001b[38;5;241m=\u001b[39m \u001b[38;5;28;43mself\u001b[39;49m\u001b[38;5;241;43m.\u001b[39;49m\u001b[43m_validate_data\u001b[49m\u001b[43m(\u001b[49m\u001b[43mX\u001b[49m\u001b[43m,\u001b[49m\u001b[43m \u001b[49m\u001b[43maccept_sparse\u001b[49m\u001b[38;5;241;43m=\u001b[39;49m\u001b[38;5;124;43m\"\u001b[39;49m\u001b[38;5;124;43mcsr\u001b[39;49m\u001b[38;5;124;43m\"\u001b[39;49m\u001b[43m,\u001b[49m\u001b[43m \u001b[49m\u001b[43mreset\u001b[49m\u001b[38;5;241;43m=\u001b[39;49m\u001b[38;5;28;43;01mFalse\u001b[39;49;00m\u001b[43m)\u001b[49m\n\u001b[1;32m    364\u001b[0m scores \u001b[38;5;241m=\u001b[39m safe_sparse_dot(X, \u001b[38;5;28mself\u001b[39m\u001b[38;5;241m.\u001b[39mcoef_\u001b[38;5;241m.\u001b[39mT, dense_output\u001b[38;5;241m=\u001b[39m\u001b[38;5;28;01mTrue\u001b[39;00m) \u001b[38;5;241m+\u001b[39m \u001b[38;5;28mself\u001b[39m\u001b[38;5;241m.\u001b[39mintercept_\n\u001b[1;32m    365\u001b[0m \u001b[38;5;28;01mreturn\u001b[39;00m xp\u001b[38;5;241m.\u001b[39mreshape(scores, (\u001b[38;5;241m-\u001b[39m\u001b[38;5;241m1\u001b[39m,)) \u001b[38;5;28;01mif\u001b[39;00m scores\u001b[38;5;241m.\u001b[39mshape[\u001b[38;5;241m1\u001b[39m] \u001b[38;5;241m==\u001b[39m \u001b[38;5;241m1\u001b[39m \u001b[38;5;28;01melse\u001b[39;00m scores\n",
      "File \u001b[0;32m~/software/miniconda3/envs/sc/lib/python3.11/site-packages/sklearn/base.py:633\u001b[0m, in \u001b[0;36mBaseEstimator._validate_data\u001b[0;34m(self, X, y, reset, validate_separately, cast_to_ndarray, **check_params)\u001b[0m\n\u001b[1;32m    631\u001b[0m         out \u001b[38;5;241m=\u001b[39m X, y\n\u001b[1;32m    632\u001b[0m \u001b[38;5;28;01melif\u001b[39;00m \u001b[38;5;129;01mnot\u001b[39;00m no_val_X \u001b[38;5;129;01mand\u001b[39;00m no_val_y:\n\u001b[0;32m--> 633\u001b[0m     out \u001b[38;5;241m=\u001b[39m \u001b[43mcheck_array\u001b[49m\u001b[43m(\u001b[49m\u001b[43mX\u001b[49m\u001b[43m,\u001b[49m\u001b[43m \u001b[49m\u001b[43minput_name\u001b[49m\u001b[38;5;241;43m=\u001b[39;49m\u001b[38;5;124;43m\"\u001b[39;49m\u001b[38;5;124;43mX\u001b[39;49m\u001b[38;5;124;43m\"\u001b[39;49m\u001b[43m,\u001b[49m\u001b[43m \u001b[49m\u001b[38;5;241;43m*\u001b[39;49m\u001b[38;5;241;43m*\u001b[39;49m\u001b[43mcheck_params\u001b[49m\u001b[43m)\u001b[49m\n\u001b[1;32m    634\u001b[0m \u001b[38;5;28;01melif\u001b[39;00m no_val_X \u001b[38;5;129;01mand\u001b[39;00m \u001b[38;5;129;01mnot\u001b[39;00m no_val_y:\n\u001b[1;32m    635\u001b[0m     out \u001b[38;5;241m=\u001b[39m _check_y(y, \u001b[38;5;241m*\u001b[39m\u001b[38;5;241m*\u001b[39mcheck_params)\n",
      "File \u001b[0;32m~/software/miniconda3/envs/sc/lib/python3.11/site-packages/sklearn/utils/validation.py:1059\u001b[0m, in \u001b[0;36mcheck_array\u001b[0;34m(array, accept_sparse, accept_large_sparse, dtype, order, copy, force_all_finite, ensure_2d, allow_nd, ensure_min_samples, ensure_min_features, estimator, input_name)\u001b[0m\n\u001b[1;32m   1053\u001b[0m     \u001b[38;5;28;01mraise\u001b[39;00m \u001b[38;5;167;01mValueError\u001b[39;00m(\n\u001b[1;32m   1054\u001b[0m         \u001b[38;5;124m\"\u001b[39m\u001b[38;5;124mFound array with dim \u001b[39m\u001b[38;5;132;01m%d\u001b[39;00m\u001b[38;5;124m. \u001b[39m\u001b[38;5;132;01m%s\u001b[39;00m\u001b[38;5;124m expected <= 2.\u001b[39m\u001b[38;5;124m\"\u001b[39m\n\u001b[1;32m   1055\u001b[0m         \u001b[38;5;241m%\u001b[39m (array\u001b[38;5;241m.\u001b[39mndim, estimator_name)\n\u001b[1;32m   1056\u001b[0m     )\n\u001b[1;32m   1058\u001b[0m \u001b[38;5;28;01mif\u001b[39;00m force_all_finite:\n\u001b[0;32m-> 1059\u001b[0m     \u001b[43m_assert_all_finite\u001b[49m\u001b[43m(\u001b[49m\n\u001b[1;32m   1060\u001b[0m \u001b[43m        \u001b[49m\u001b[43marray\u001b[49m\u001b[43m,\u001b[49m\n\u001b[1;32m   1061\u001b[0m \u001b[43m        \u001b[49m\u001b[43minput_name\u001b[49m\u001b[38;5;241;43m=\u001b[39;49m\u001b[43minput_name\u001b[49m\u001b[43m,\u001b[49m\n\u001b[1;32m   1062\u001b[0m \u001b[43m        \u001b[49m\u001b[43mestimator_name\u001b[49m\u001b[38;5;241;43m=\u001b[39;49m\u001b[43mestimator_name\u001b[49m\u001b[43m,\u001b[49m\n\u001b[1;32m   1063\u001b[0m \u001b[43m        \u001b[49m\u001b[43mallow_nan\u001b[49m\u001b[38;5;241;43m=\u001b[39;49m\u001b[43mforce_all_finite\u001b[49m\u001b[43m \u001b[49m\u001b[38;5;241;43m==\u001b[39;49m\u001b[43m \u001b[49m\u001b[38;5;124;43m\"\u001b[39;49m\u001b[38;5;124;43mallow-nan\u001b[39;49m\u001b[38;5;124;43m\"\u001b[39;49m\u001b[43m,\u001b[49m\n\u001b[1;32m   1064\u001b[0m \u001b[43m    \u001b[49m\u001b[43m)\u001b[49m\n\u001b[1;32m   1066\u001b[0m \u001b[38;5;28;01mif\u001b[39;00m copy:\n\u001b[1;32m   1067\u001b[0m     \u001b[38;5;28;01mif\u001b[39;00m _is_numpy_namespace(xp):\n\u001b[1;32m   1068\u001b[0m         \u001b[38;5;66;03m# only make a copy if `array` and `array_orig` may share memory`\u001b[39;00m\n",
      "File \u001b[0;32m~/software/miniconda3/envs/sc/lib/python3.11/site-packages/sklearn/utils/validation.py:126\u001b[0m, in \u001b[0;36m_assert_all_finite\u001b[0;34m(X, allow_nan, msg_dtype, estimator_name, input_name)\u001b[0m\n\u001b[1;32m    123\u001b[0m \u001b[38;5;28;01mif\u001b[39;00m first_pass_isfinite:\n\u001b[1;32m    124\u001b[0m     \u001b[38;5;28;01mreturn\u001b[39;00m\n\u001b[0;32m--> 126\u001b[0m \u001b[43m_assert_all_finite_element_wise\u001b[49m\u001b[43m(\u001b[49m\n\u001b[1;32m    127\u001b[0m \u001b[43m    \u001b[49m\u001b[43mX\u001b[49m\u001b[43m,\u001b[49m\n\u001b[1;32m    128\u001b[0m \u001b[43m    \u001b[49m\u001b[43mxp\u001b[49m\u001b[38;5;241;43m=\u001b[39;49m\u001b[43mxp\u001b[49m\u001b[43m,\u001b[49m\n\u001b[1;32m    129\u001b[0m \u001b[43m    \u001b[49m\u001b[43mallow_nan\u001b[49m\u001b[38;5;241;43m=\u001b[39;49m\u001b[43mallow_nan\u001b[49m\u001b[43m,\u001b[49m\n\u001b[1;32m    130\u001b[0m \u001b[43m    \u001b[49m\u001b[43mmsg_dtype\u001b[49m\u001b[38;5;241;43m=\u001b[39;49m\u001b[43mmsg_dtype\u001b[49m\u001b[43m,\u001b[49m\n\u001b[1;32m    131\u001b[0m \u001b[43m    \u001b[49m\u001b[43mestimator_name\u001b[49m\u001b[38;5;241;43m=\u001b[39;49m\u001b[43mestimator_name\u001b[49m\u001b[43m,\u001b[49m\n\u001b[1;32m    132\u001b[0m \u001b[43m    \u001b[49m\u001b[43minput_name\u001b[49m\u001b[38;5;241;43m=\u001b[39;49m\u001b[43minput_name\u001b[49m\u001b[43m,\u001b[49m\n\u001b[1;32m    133\u001b[0m \u001b[43m\u001b[49m\u001b[43m)\u001b[49m\n",
      "File \u001b[0;32m~/software/miniconda3/envs/sc/lib/python3.11/site-packages/sklearn/utils/validation.py:175\u001b[0m, in \u001b[0;36m_assert_all_finite_element_wise\u001b[0;34m(X, xp, allow_nan, msg_dtype, estimator_name, input_name)\u001b[0m\n\u001b[1;32m    158\u001b[0m \u001b[38;5;28;01mif\u001b[39;00m estimator_name \u001b[38;5;129;01mand\u001b[39;00m input_name \u001b[38;5;241m==\u001b[39m \u001b[38;5;124m\"\u001b[39m\u001b[38;5;124mX\u001b[39m\u001b[38;5;124m\"\u001b[39m \u001b[38;5;129;01mand\u001b[39;00m has_nan_error:\n\u001b[1;32m    159\u001b[0m     \u001b[38;5;66;03m# Improve the error message on how to handle missing values in\u001b[39;00m\n\u001b[1;32m    160\u001b[0m     \u001b[38;5;66;03m# scikit-learn.\u001b[39;00m\n\u001b[1;32m    161\u001b[0m     msg_err \u001b[38;5;241m+\u001b[39m\u001b[38;5;241m=\u001b[39m (\n\u001b[1;32m    162\u001b[0m         \u001b[38;5;124mf\u001b[39m\u001b[38;5;124m\"\u001b[39m\u001b[38;5;130;01m\\n\u001b[39;00m\u001b[38;5;132;01m{\u001b[39;00mestimator_name\u001b[38;5;132;01m}\u001b[39;00m\u001b[38;5;124m does not accept missing values\u001b[39m\u001b[38;5;124m\"\u001b[39m\n\u001b[1;32m    163\u001b[0m         \u001b[38;5;124m\"\u001b[39m\u001b[38;5;124m encoded as NaN natively. For supervised learning, you might want\u001b[39m\u001b[38;5;124m\"\u001b[39m\n\u001b[0;32m   (...)\u001b[0m\n\u001b[1;32m    173\u001b[0m         \u001b[38;5;124m\"\u001b[39m\u001b[38;5;124m#estimators-that-handle-nan-values\u001b[39m\u001b[38;5;124m\"\u001b[39m\n\u001b[1;32m    174\u001b[0m     )\n\u001b[0;32m--> 175\u001b[0m \u001b[38;5;28;01mraise\u001b[39;00m \u001b[38;5;167;01mValueError\u001b[39;00m(msg_err)\n",
      "\u001b[0;31mValueError\u001b[0m: Input X contains NaN.\nLogisticRegression does not accept missing values encoded as NaN natively. For supervised learning, you might want to consider sklearn.ensemble.HistGradientBoostingClassifier and Regressor which accept missing values encoded as NaNs natively. Alternatively, it is possible to preprocess the data, for instance by using an imputer transformer in a pipeline or drop samples with missing values. See https://scikit-learn.org/stable/modules/impute.html You can find a list of all estimators that handle NaN values at the following page: https://scikit-learn.org/stable/modules/impute.html#estimators-that-handle-nan-values"
     ]
    }
   ],
   "source": [
    "_ = model.predict(adata, \"prediction\", save=True)"
   ]
  },
  {
   "cell_type": "code",
   "execution_count": 40,
   "metadata": {},
   "outputs": [],
   "source": [
    "from pyscenic.aucell import aucell, derive_auc_threshold\n",
    "from ctxcore.genesig import GeneSignature"
   ]
  },
  {
   "cell_type": "code",
   "execution_count": 45,
   "metadata": {},
   "outputs": [],
   "source": [
    "gs = GeneSignature.from_gmt(\n",
    "            str(signatures_path), field_separator=\"\\t\", gene_separator=\"\\t\"\n",
    "        )"
   ]
  },
  {
   "cell_type": "code",
   "execution_count": 118,
   "metadata": {},
   "outputs": [],
   "source": [
    "df = adata.to_df()"
   ]
  },
  {
   "cell_type": "code",
   "execution_count": 92,
   "metadata": {},
   "outputs": [
    {
     "name": "stdout",
     "output_type": "stream",
     "text": [
      "0.01    0.008925\n",
      "0.05    0.009669\n",
      "0.10    0.010588\n",
      "0.50    0.021875\n",
      "1.00    0.150195\n",
      "dtype: float64\n"
     ]
    }
   ],
   "source": [
    "percentiles = derive_auc_threshold(df)\n",
    "print(percentiles)"
   ]
  },
  {
   "cell_type": "code",
   "execution_count": 120,
   "metadata": {},
   "outputs": [
    {
     "name": "stderr",
     "output_type": "stream",
     "text": [
      "Less than 80% of the genes in Tumor are present in the expression matrix.\n",
      "Less than 80% of the genes in Normal are present in the expression matrix.\n"
     ]
    }
   ],
   "source": [
    "scores = aucell(\n",
    "            exp_mtx=df,\n",
    "            signatures=gs,\n",
    "            auc_threshold=percentiles[0.01],\n",
    "            seed=2,\n",
    "            normalize=False,\n",
    "        )"
   ]
  },
  {
   "cell_type": "code",
   "execution_count": 122,
   "metadata": {},
   "outputs": [
    {
     "data": {
      "text/html": [
       "<div>\n",
       "<style scoped>\n",
       "    .dataframe tbody tr th:only-of-type {\n",
       "        vertical-align: middle;\n",
       "    }\n",
       "\n",
       "    .dataframe tbody tr th {\n",
       "        vertical-align: top;\n",
       "    }\n",
       "\n",
       "    .dataframe thead th {\n",
       "        text-align: right;\n",
       "    }\n",
       "</style>\n",
       "<table border=\"1\" class=\"dataframe\">\n",
       "  <thead>\n",
       "    <tr style=\"text-align: right;\">\n",
       "      <th>Regulon</th>\n",
       "      <th>Normal</th>\n",
       "      <th>Tumor</th>\n",
       "    </tr>\n",
       "    <tr>\n",
       "      <th>Cell</th>\n",
       "      <th></th>\n",
       "      <th></th>\n",
       "    </tr>\n",
       "  </thead>\n",
       "  <tbody>\n",
       "    <tr>\n",
       "      <th>751.0-C03427D4</th>\n",
       "      <td>0.0</td>\n",
       "      <td>0.0</td>\n",
       "    </tr>\n",
       "    <tr>\n",
       "      <th>438.0-C03427D4</th>\n",
       "      <td>0.0</td>\n",
       "      <td>0.0</td>\n",
       "    </tr>\n",
       "    <tr>\n",
       "      <th>816.0-C03427D4</th>\n",
       "      <td>0.0</td>\n",
       "      <td>0.0</td>\n",
       "    </tr>\n",
       "    <tr>\n",
       "      <th>491.0-C03427D4</th>\n",
       "      <td>0.0</td>\n",
       "      <td>0.0</td>\n",
       "    </tr>\n",
       "    <tr>\n",
       "      <th>790.0-C03427D4</th>\n",
       "      <td>0.0</td>\n",
       "      <td>0.0</td>\n",
       "    </tr>\n",
       "    <tr>\n",
       "      <th>...</th>\n",
       "      <td>...</td>\n",
       "      <td>...</td>\n",
       "    </tr>\n",
       "    <tr>\n",
       "      <th>890.0-A04230E2</th>\n",
       "      <td>0.0</td>\n",
       "      <td>0.0</td>\n",
       "    </tr>\n",
       "    <tr>\n",
       "      <th>754.0-A04230E2</th>\n",
       "      <td>0.0</td>\n",
       "      <td>0.0</td>\n",
       "    </tr>\n",
       "    <tr>\n",
       "      <th>654.0-A04230E2</th>\n",
       "      <td>0.0</td>\n",
       "      <td>0.0</td>\n",
       "    </tr>\n",
       "    <tr>\n",
       "      <th>624.0-A04230E2</th>\n",
       "      <td>0.0</td>\n",
       "      <td>0.0</td>\n",
       "    </tr>\n",
       "    <tr>\n",
       "      <th>821.0-A04230E2</th>\n",
       "      <td>0.0</td>\n",
       "      <td>0.0</td>\n",
       "    </tr>\n",
       "  </tbody>\n",
       "</table>\n",
       "<p>5406 rows × 2 columns</p>\n",
       "</div>"
      ],
      "text/plain": [
       "Regulon         Normal  Tumor\n",
       "Cell                         \n",
       "751.0-C03427D4     0.0    0.0\n",
       "438.0-C03427D4     0.0    0.0\n",
       "816.0-C03427D4     0.0    0.0\n",
       "491.0-C03427D4     0.0    0.0\n",
       "790.0-C03427D4     0.0    0.0\n",
       "...                ...    ...\n",
       "890.0-A04230E2     0.0    0.0\n",
       "754.0-A04230E2     0.0    0.0\n",
       "654.0-A04230E2     0.0    0.0\n",
       "624.0-A04230E2     0.0    0.0\n",
       "821.0-A04230E2     0.0    0.0\n",
       "\n",
       "[5406 rows x 2 columns]"
      ]
     },
     "execution_count": 122,
     "metadata": {},
     "output_type": "execute_result"
    }
   ],
   "source": [
    "scores"
   ]
  },
  {
   "cell_type": "code",
   "execution_count": 108,
   "metadata": {},
   "outputs": [
    {
     "data": {
      "text/plain": [
       "dict_keys(['RP11-128M1.1', 'TRAV8-2', 'PTPRD-AS1', 'MEOX2', 'CXCL12', 'KLRC4-KLRK1', 'BCAS1', 'SCNN1A', 'HCST', 'OR51E1', 'PCLO', 'CD7', 'COL1A2', 'CFAP100', 'CCDC60', 'WNT4', 'CFAP45', 'RP11-522B15.3', 'RP11-462G2.1', 'ANKRD66', 'CYTIP', 'HSPB2', 'USH1C', 'NCR3', 'SMIM24', 'MYL6B', 'CD79A', 'TRBV5-1', 'IGKV2D-28', 'CDH6', 'XDH', 'AK7', 'COL5A1', 'PTPRC', 'EBF2', 'IL17F', 'CD48', 'GATA6-AS1', 'RP11-109M17.2', 'DPT', 'COL15A1', 'C5ORF49', 'CD8B', 'PLS1', 'ODAM', 'CCDC114', 'TM6SF2', 'RASL12', 'ECT2L', 'TAGLN', 'ANKUB1', 'RSPH4A', 'SIRPG', 'LINC01133', 'CD52', 'TRAV8-6', 'GIP', 'RP11-428G5.5', 'PTPN22', 'AC092580.4', 'GJC1', 'LINC01207', 'MSLN', 'ABLIM3', 'FAM180A', 'LINC01266', 'RP11-247C2.2', 'TM4SF4', 'FBXO15', 'TRPC4', 'FMO1', 'GNGT1', 'AC104820.2', 'FHL5', 'SFRP4', 'CREM', 'SOX2', 'RSPH1', 'SLC44A4', 'NTF3', 'EMILIN1', 'OGN', 'XCL2', 'PCGF2', 'ADAMTSL1', 'CORIN', 'STMND1', 'KLRC3', 'RSPH9', 'XIRP1', 'CD36', 'RBBP8NL', 'TOX3', 'DUOXA2', 'PRDM6', 'KCNA3', 'SERPINB4', 'CLDN16', 'RP11-329N22.1', 'GPRC5A', 'ZNF831', 'RP11-109E24.1', 'MDH1B', 'C6ORF118', 'CDHR2', 'EFNA1', 'NOS1AP', 'ALDH1L1', 'C9ORF116', 'RBP2', 'SLFN12L', 'SVEP1', 'PTPRT', 'FGF1', 'RGN', 'LRRC74B', 'ADGRA2', 'TDGF1', 'RP11-620J15.3', 'TMC5', 'SERPINB3', 'MXRA8', 'RP11-467J12.4', 'CDH1', 'FLNC', 'DIO2', 'CD200R1', 'ADH1C', 'CNGA1', 'C1ORF64', 'ARMC4', 'ADAMTS12', 'ARHGEF16', 'COL5A2', 'C1QTNF3', 'NOTUM', 'COL6A5', 'SLC10A5', 'TRGV3', 'AC104024.1', 'KLRD1', 'SCGB2A1', 'C1ORF189', 'AF127936.3', 'TMEM158', 'RP11-330A16.1', 'CGN', 'AKR7A3', 'PDE5A', 'CTD-2334D19.1', 'RP11-240M16.1', 'TRAV36DV7', 'KLK11', 'FCRL6', 'C7ORF57', 'WFDC6', 'RP11-403B2.6', 'GPR20', 'CFAP47', 'MFAP2', 'HMCN1', 'CD6', 'HGD', 'CERKL', 'FAP', 'CCL15', 'AC112715.2', 'WIF1', 'CAV1', 'SLA', 'CPXM2', 'IRGM', 'TMEM232', 'HOXA2', 'ANKRD45', 'GABRD', 'RGS7BP', 'GPX8', 'CTSE', 'SDR16C5', 'IL22RA1', 'LINC00675', 'SMIM6', 'KCNK1', 'ADAM33', 'CCDC181', 'LCN2', 'GATA3', 'RP11-95H3.1', 'TSNAXIP1', 'RP11-342D11.3', 'ABCA8', 'C1R', 'CTD-2147F2.1', 'CNTFR', 'EVA1A', 'B4GALNT2', 'FXYD3', 'RP11-193M21.1', 'MASP1', 'SPATA17', 'PCDHB10', 'FCER2', 'TMEM156', 'APOBEC1', 'ZMYND10', 'OLFM4', 'TRAV22', 'RP1-60O19.1', 'ITGBL1', 'DNAI1', 'CXORF36', 'PRRG3', 'BHLHE22', 'HOXD9', 'PLEKHH2', 'SAMD3', 'GZMM', 'NR2F1', 'RERG', 'LINC01186', 'RASAL3', 'ITGB3', 'TDRP', 'WISP2', 'ADIRF', 'CACNG6', 'BICC1', 'HSD17B2', 'ALPPL2', 'NMNAT2', 'KRT73', 'RP11-146I2.1', 'IGFBP7', 'LAMA3', 'SLA2', 'LRP3', 'LGR5', 'CARMN', 'SLIT3', 'GPR65', 'CLDN3', 'LGALS4', 'CCDC74A', 'MORN5', 'PTPRD', 'ALOX15', 'FRMD6', 'CKMT1B', 'FAM159A', 'RHOH', 'DNAH6', 'ZNF683', 'BMPER', 'C3ORF70', 'TRAV13-2', 'CTD-2544H17.1', 'FOXF2', 'HSPB7', 'RSPH10B2', 'SELL', 'TPPP3', 'COL11A1', 'NKG7', 'AGTR1', 'LRRC34', 'CCDC113', 'PTPRH', 'GSTM5', 'FAM83B', 'LINC00494', 'SAXO2', 'IL7R', 'AMY1B', 'TIGIT', 'TENM3', 'PRSS1', 'KCNMB1', 'TRAV12-2', 'CDH19', 'NES', 'MYL9', 'ACAP1', 'PCDH8', 'SCN7A', 'RP11-598F7.6', 'C10ORF107', 'TRBC1', 'PLA2G5', 'LRCH2', 'GPT', 'ART4', 'RP11-731D1.4', 'TRBV6-2', 'TRAV29DV5', 'CLIC2', 'SPIRE1', 'SGCA', 'STOX1', 'TRGC1', 'SPATA4', 'FAM13C', 'SMCO3', 'IKZF3', 'IKZF1', 'TRAV23DV6', 'PLA2G2F', 'C6', 'RP11-104L21.3', 'RP5-1172A22.1', 'GPR171', 'CCNA1', 'C9ORF135', 'KRT1', 'IQCD', 'WI2-1959D15.1', 'DRC1', 'C2ORF50', 'ELF3', 'GZMK', 'CTSW', 'P2RY8', 'GLOD5', 'DLX5', 'EVI2B', 'ENOX1', 'ITK', 'TNFSF8', 'DNAH9', 'SYTL5', 'LAMC3', 'TMIGD2', 'MRGPRF', 'PPP1R17', 'IL9R', 'OMG', 'SFTA2', 'THBS2', 'CFAP65', 'EPB41L2', 'PLPPR4', 'CKB', 'ICOS', 'BOC', 'ZNF80', 'C4ORF22', 'XCL1', 'FUT2', 'AKR1B10', 'CCDC33', 'GRM8', 'ARNT2', 'RP11-796E10.1', 'TEKT4', 'MAL2', 'ADAMTS8', 'C11ORF97', 'FNDC9', 'TRAF3IP3', 'ASS1', 'RSPO2', 'PCDH19', 'DRD5', 'FAM81B', 'CD160', 'TMPRSS2', 'RASEF', 'SPRR2D', 'IL21', 'C1ORF158', 'SULF1', 'ENPEP', 'KLHDC7A', 'BMX', 'NRGN', 'C2ORF40', 'SPSB4', 'COL1A1', 'CTHRC1', 'TMEM184A', 'PLA2G10', 'VSIG2', 'COL6A2', 'C7', 'IFI27L2', 'TRGV10', 'NPC2', 'HHEX', 'NGEF', 'GPR176', 'TMEM125', 'LINC00839', 'CTD-2171N6.1', 'WDR38', 'RP13-870H17.3', 'CFAP43', 'PCSK1N', 'PAMR1', 'AOX1', 'KIR2DL4', 'NDRG2', 'LRRC15', 'RP11-106M7.1', 'PIH1D3', 'TRAV2', 'C22ORF23', 'MAB21L3', 'AL928768.3', 'CFAP126', 'STRN3', 'GAS1', 'RP11-291B21.2', 'C11ORF70', 'CCL2', 'VWA5B2', 'RP4-621F18.2', 'ISLR', 'ZIC1', 'TRAV4', 'CASC9', 'OLFML2A', 'EVI2A', 'SCN2B', 'IL12RB1', 'TBC1D10C', 'FCRL1', 'TRBV3-1', 'MYL2', 'PDIA2', 'CXCR4', 'PSMA8', 'TRAT1', 'PRR16', 'PDGFRA', 'RP11-239A17.1', 'HYDIN', 'CD69', 'KIF6', 'HEATR9', 'F10', 'RHOJ', 'FOXQ1', 'NAV3', 'SPINK4', 'GDF10', 'GLT8D2', 'TAGLN3', 'DNAJB13', 'FXYD4', 'RP11-18H21.1', 'MS4A3', 'CFAP77', 'PALM', 'CTD-2506J14.1', 'TRAV9-2', 'FAM43B', 'CCL11', 'TRBV14', 'CFAP73', 'TRAV1-2', 'CLEC2D', 'FSTL4', 'APCDD1', 'RP11-87C12.5', 'TFF2', 'APOH', 'TRDV1', 'AC007349.5', 'FCRL5', 'CEACAM7', 'RP11-297L17.2', 'LAX1', 'FAM216B', 'ANGPTL5', 'CD3D', 'RP11-325F22.2', 'HEPH', 'NCR1', 'MS4A8', 'RSPH14', 'LMO3', 'KB-173C10.1', 'CTD-2005H7.1', 'PRRX1', 'VCAN', 'CTA-363E6.2', 'CD164L2', 'GSTA1', 'MMP11', 'PDZK1IP1', 'EYA4', 'KLHL13', 'C1S', 'CDH11', 'LINC00702', 'BPIFA2', 'CILP', 'TSPAN12', 'RP11-321G12.1', 'MUC5AC', 'S100B', 'KLK12', 'TBX4', 'FAM3D', 'SYNDIG1', 'HNF1B', 'STAT4', 'HSPB3', 'GPX2', 'SPRR3', 'SFTPD', 'CD27', 'EFCAB10', 'C16ORF71', 'ANXA10', 'STK32A', 'SCEL', 'DEUP1', 'TRBV6-5', 'PLA2G4F', 'CYP4F22', 'LMOD1', 'LUM', 'BTLA', 'TCN1', 'PYHIN1', 'CGNL1', 'TRAV20', 'PLCXD3', 'RP11-569D9.5', 'EGFLAM', 'CTD-2626G11.2', 'LINC01571', 'FGD1', 'NOX4', 'GALNT15', 'RAB31', 'IFNG', 'LRFN5', 'TRAV14DV4', 'TRAV26-1', 'CNIH2', 'KRT16', 'TNFRSF13C', 'LOXL1', 'ADAMTSL2', 'PRSS8', 'TWIST2', 'ARL14', 'SFTA1P', 'C1QTNF7', 'EPHA10', 'LAT', 'FOXL1', 'LINC00844', 'TSPAN1', 'C9ORF47', 'RP11-297J22.1', 'SPN', 'TCTEX1D4', 'RASSF10', 'GUCY1A2', 'TLL1', 'ABCC8', 'LINC00668', 'HMGCLL1', 'LINC00563', 'GRAMD2', 'AC006129.2', 'TRAV13-1', 'CD40LG', 'TDRD6', 'RNASE1', 'SELE', 'AC002331.1', 'PXDNL', 'TPM2', 'FAM166B', 'SOX17', 'CCR4', 'MIR4458HG', 'HAS2', 'WFDC1', 'SCARA5', 'CST3', 'COL19A1', 'PCDHB14', 'PDGFRB', 'RP11-129I19.2', 'LYPD8', 'PDCD1', 'DUOX2', 'SLC16A2', 'CTLA4', 'C4BPA', 'RP11-368I7.4', 'PRR15L', 'SV2B', 'SNTN', 'RP4-666F24.3', 'CXCR6', 'PCDHB11', 'CCM2L', 'PLA2G2A', 'NID2', 'IGDCC4', 'CFAP206', 'CST7', 'RP11-222K16.2', 'CDHR5', 'FRZB', 'CFAP161', 'KLK7', 'CLDN18', 'LINC01612', 'EOMES', 'TRAV6', 'CCDC74B', 'CAPN8', 'PGM5P4-AS1', 'PCDH18', 'COL4A2', 'NKD2', 'CRTAM', 'KLRC1', 'RARRES2', 'AP1S2', 'CCDC175', 'MMP2', 'FLRT3', 'SEMA3A', 'APOBEC4', 'CFAP46', 'LIPH', 'RAB25', 'CHRNA6', 'C17ORF82', 'CNN1', 'RP11-176H8.1', 'PIP', 'DYDC1', 'FAM183A', 'ADGRF1', 'SP140', 'RP11-395E19.6', 'DZIP1', 'POSTN', 'CHRDL1', 'GUCA2A', 'TRGV4', 'SLC2A4', 'TNXB', 'IL2', 'DLEC1', 'MAP3K19', 'GZMA', 'KBTBD12', 'EFCC1', 'LRRC66', 'CCR7', 'DIO3OS', 'RTP5', 'PRG4', 'CTC-436P18.3', 'MGP', 'NGF', 'DYDC2', 'SPINK1', 'KIR3DL1', 'BEST4', 'GPRC5B', 'CD28', 'MFAP5', 'YAP1', 'THEMIS', 'TRBC2', 'LINC00402', 'VWA3B', 'RFX8', 'ZFPM2', 'GLTPD2', 'SIT1', 'MXRA5', 'FIBIN', 'CBLC', 'PPP1R42', 'TSPAN8', 'GFRA3', 'PRF1', 'LTB', 'ERICH3', 'OMD', 'EPHA3', 'TJP3', 'SLC51B', 'CLDN7', 'FCRL3', 'KLRC2', 'CYP3A4', 'SAMSN1', 'TMEM244', 'GJA5', 'PLPPR1', 'TTLL6', 'GFRA1', 'LINC01317', 'SYDE1', 'TEK', 'CD37', 'RP1-142L7.8', 'EFEMP2', 'CLIP3', 'TEKT1', 'TRIM31', 'SPOCK1', 'AC093375.1', 'FYB', 'TRAPPC3L', 'FNDC1', 'HTRA3', 'EPS8L3', 'CACNA1C', 'LRCOL1', 'SRGN', 'SCARF1', 'CYP4B1', 'GPR174', 'TRAV27', 'CD244', 'CHST9', 'LTBP1', 'LAMA4', 'C11ORF16', 'CFAP57', 'SPARC', 'STAB2', 'C1ORF87', 'RIBC2', 'KIR3DL2', 'COL6A6', 'NOG', 'CRISP2', 'FABP6', 'IL22', 'TEKT2', 'STAP1', 'PPIL6', 'LINC00922', 'WDR93', 'NME5', 'LDLRAD1', 'AC097713.4', 'PPFIA2', 'RP11-74E22.6', 'LINC01117', 'DCDC2B', 'NCAM2', 'HOXB8', 'ROR2', 'KLK13', 'CKMT1A', 'ISLR2', 'CBLN4', 'ELOVL2', 'MMP13', 'HTR1F', 'RGS1', 'PTH1R', 'LAPTM5', 'MOV10L1', 'PIFO', 'HDC', 'KIR2DL3', 'SPRR2A', 'LINC00861', 'GPR18', 'LINC01197', 'AKNAD1', 'COL4A1', 'CFAP74', 'PALM2', 'SLCO1C1', 'RP11-314C16.1', 'CD19', 'RP1-79C4.4', 'LINC01436', 'GCNT3', 'OLFML1', 'CD247', 'CPXM1', 'CTB-133G6.1', 'IL4', 'RP11-344P13.6', 'TUBA4B', 'LINC00891', 'CD34', 'KCNJ15', 'WNT2', 'MISP', 'LCK', 'COL3A1', 'RP11-367G6.3', 'CLSTN2', 'RP11-101E5.1', 'PKNOX2', 'RP11-108M9.4', 'KCNJ8', 'KIRREL', 'KIR3DL3', 'SLPI', 'DEFB4A', 'FER1L6', 'SPRR1B', 'ZNF20', 'LMO7', 'FAM92B', 'RPS6KA2', 'LRRC43', 'AC195454.1', 'HRCT1', 'APELA', 'C1QTNF4', 'ARHGEF38', 'PABPC5', 'TTC29', 'ANGPT1', 'EFCAB6', 'ASPG', 'CD248', 'MRVI1', 'ADGRL4', 'VWA3A', 'TNFRSF17', 'AEBP1', 'CCL5', 'U47924.27', 'TRAV30', 'NR0B2', 'NBAT1', 'UNC5C', 'RP11-347J14.7', 'SSTR3', 'EBF3', 'IGLV4-60', 'TNFRSF13B', 'FKBP1A', 'CASC1', 'PLPP4', 'FOXC2', 'PRPH2', 'KRT72', 'ATP10B', 'TM4SF5', 'HHATL', 'VPREB3', 'IGHD', 'UCHL1', 'RP11-493L12.7', 'CD93', 'APOBEC3H', 'PCOLCE', 'CEACAM6', 'GRIN3B', 'COL14A1', 'BLK', 'CATSPERD', 'CD3E', 'KANK4', 'LY9', 'FAM170B', 'TMPRSS4', 'ATP1A2', 'DOK2', 'IGSF9', 'GCSAM', 'AGR3', 'ACKR1', 'FAM162B', 'AC109642.1', 'FOXA2', 'AKAP14', 'PEG10', 'MEG8', 'REM1', 'SPINK5', 'ADGRF5', 'KLK10', 'IGFL3', 'GML', 'SCGN', 'EDIL3', 'COL6A1', 'TRAV1-1', 'TSPAN19', 'IGLV9-49', 'S100A14', 'GTSCR1', 'TEKT3', 'MFAP4', 'RUNX1T1', 'B3GALT5', 'SPARCL1', 'PCP4', 'JAKMIP1', 'KCNJ16', 'CTB-41I6.1', 'TRBV28', 'HNF4A', 'PPP1R14A', 'RIBC1', 'PSCA', 'B3GNT6', 'PRKG1', 'MEG3', 'SOWAHA', 'SPAG6', 'RP3-446N13.5', 'PODN', 'FCMR', 'RERGL', 'UNC5A', 'EPN3', 'RP11-144A16.8', 'PIH1D2', 'GRAP2', 'ATP8A2', 'EPPIN', 'FAM101A', 'C1QTNF2', 'PRRX2', 'TM4SF20', 'GIPC3', 'AGMO', 'RHOBTB2', 'C9ORF24', 'SULT1A2', 'MALL', 'STOML3', 'RGS22', 'TTC25', 'SLAMF1', 'MS4A2', 'CAPN9', 'PID1', 'NREP', 'GPC3', 'CNTN4', 'SLC38A4', 'RGPD4', 'ECM2', 'LRRC73', 'AOC1', 'ATP6V1C2', 'SUGCT', 'SLC9C2', 'FBLN2', 'CD5', 'THY1', 'CAMK4', 'CYP2B6', 'ROPN1B', 'TRAV16', 'RP11-275I4.2', 'CDK2AP1', 'SPOCK2', 'SMIM22', 'OPRM1', 'FAM26E', 'ONECUT3', 'CD53', 'ASPA', 'TRGV8', 'ADAMTS3', 'CD96', 'LINC00158', 'TESPA1', 'GFI1', 'IL12RB2', 'NLRC3', 'SDCBP2', 'SLC6A14', 'COX7A1', 'TRAV19', 'S100P', 'LHFP', 'SRD5A2', 'RP11-693J15.5', 'TRBV27', 'KIF26B', 'TRAV5', 'MAMDC2', 'RP11-973H7.4', 'TMEM54', 'CCDC80', 'ARX', 'SLC15A1', 'LIM2', 'C20ORF85', 'KLRC4', 'JPH2', 'CCR6', 'LINC01615', 'SEMA3B', 'SPATA18', 'INMT', 'TBX2', 'LINC00544', 'MYL3', 'RUNDC3B', 'VEGFD', 'NKX6-1', 'PI3', 'C5', 'CCL21', 'LINC00384', 'GPR4', 'UCN3', 'COL6A3', 'COL10A1', 'RP11-973H7.1', 'SEMA3F', 'PPP1R1B', 'PIGR', 'RP11-879F14.2', 'EDNRA', 'STX19', 'ROPN1L', 'MDK', 'CLDN4', 'SMOC2', 'SEMA3D', 'MKX', 'CLDN8', 'CYP2C18', 'MUC13', 'FOXJ1', 'CDHR4', 'DNAH5', 'NOTCH3', 'KLRB1', 'TRAV12-1', 'GPRIN2', 'RIMBP2', 'HMGCS2', 'RASGRP1', 'LRRC17', 'C1ORF194', 'FSTL1', 'ELN', 'CORO1A', 'LRRC46', 'ASPN', 'RP11-175K6.1', 'CD24', 'VTCN1', 'PDE1C', 'C1ORF141', 'LGI4', 'ADH1B', 'NKX3-2', 'TCF21', 'KCNT2', 'CST2', 'AC006273.5', 'C2ORF70', 'FIBCD1', 'RP11-493L12.5', 'SYTL3', 'DES', 'KLRK1', 'DLC1', 'CROCC2', 'DMBT1', 'ANO2', 'PFN2', 'CD2', 'TCEAL7', 'SFRP2', 'RSPH10B', 'ANO1', 'GRIP2', 'PGLYRP2', 'LTBP2', 'LINC01559', 'HSF5', 'FMO3', 'ERBB3', 'SGCD', 'PIEZO2', 'ARHGAP39', 'KIR2DL1', 'RP11-89K21.1', 'GAL3ST1', 'TRAV8-4', 'COMP', 'FCRL2', 'ITGA8', 'PROK2', 'FAM83E', 'TMEM190', 'MTUS1', 'TRBV2', 'SOX18', 'BGN', 'MUC5B', 'CCDC129', 'FAM198B', 'TKTL1', 'RAMP2', 'GAS2L2', 'ADAMTS5', 'EFCAB1', 'ERN2', 'TMEM47', 'TBX21', 'SUSD5', 'KLRG1', 'CSMD1', 'CSDC2', 'RP11-445L6.3', 'SLIT2', 'P2RY10', 'PCDHB7', 'TRGV9', 'KITLG', 'PLAC9', 'KCNRG', 'PROX2', 'FASLG', 'KLK8', 'MUC3A', 'TRDC', 'CXCR5', 'CST4', 'RP11-10A14.5', 'S1PR4', 'TAGAP', 'C2ORF73', 'GUCA2B', 'GALNT16', 'IFI27', 'FBN1', 'RAD51AP2', 'SYNPO2', 'CCDC148', 'DYNLRB2', 'MST1R', 'MUC4', 'PGR', 'CTD-2008P7.9', 'MEF2C', 'ZBED9', 'DAW1', 'ST8SIA2', 'CAPSL', 'SPEF1', 'RP11-753D20.3', 'CALD1', 'MUC1', 'CFAP52', 'DIO3', 'FGF14', 'FOXS1', 'CD3G', 'CHST4', 'CD226', 'WFDC10B', 'ARHGAP9', 'ERICH5', 'CILP2', 'WFDC2', 'TEPP', 'IL18RAP', 'PTK6', 'TRGC2', 'HOXB5', 'UBASH3A', 'AGR2', 'AC092484.1', 'APLNR', 'MSRB3', 'ENTPD8', 'MRLN', 'MOXD1', 'FOXF1', 'ANGPTL1', 'HS3ST3A1', 'SULT1A1', 'CDH17', 'RP11-290F5.1', 'HSPA12B', 'CXCL17', 'TYRP1', 'MROH9', 'CEACAM5', 'ADGB', 'RCN3', 'ZBBX', 'VWF', 'MYH14', 'FILIP1', 'KIAA1755', 'RAB17', 'GHR', 'DCN', 'FBLN1', 'CHST6', 'ANKRD2', 'SFTPA2', 'LRRIQ1', 'IQUB', 'TRAV17', 'PTN', 'DNER', 'TMC4', 'RP5-887A10.1', 'C11ORF88', 'ANGPTL2', 'ADAMTS16', 'CLIC6', 'IL2RB', 'SLAMF6', 'RP3-431P23.5', 'ITLN2', 'RP11-54A9.1', 'RP11-125O18.1', 'PLN', 'SALL1', 'WDR78', 'REG4', 'ZAP70', 'COX4I2', 'FGL2', 'CFAP58', 'WISP1', 'NXN', 'SPINK8', 'DRC7', 'ADAMTS4', 'SELENBP1', 'MSMB', 'ELFN1', 'GJA1', 'SRPX', 'SYT13', 'RBPMS', 'CCDC78', 'DNAAF3', 'MS4A1', 'CD8A', 'HSD17B6', 'LRRC71', 'C4BPB', 'RGL4', 'FCRLA', 'IL26', 'POU2F3', 'PCK1', 'SGIP1', 'BCHE', 'PALM3', 'RIIAD1', 'IL1R1', 'PRELP', 'ARMC3', 'MYRF', 'BMP3', 'GSTA3', 'PRAP1', 'ROBO2', 'AMN', 'ENKUR', 'DNAH12', 'TMEM212', 'RP11-486M23.1', 'TFF1', 'TRGV2', 'MYOC', 'CFAP53', 'GJA4', 'SEZ6L2', 'SHISA2', 'PACRG', 'GRHL2', 'PDZRN3', 'GZMH', 'CAPS', 'TRAC', 'AP000344.3', 'ANTXR1', 'TMEM119', 'HSPB6', 'SH2D1A', 'WDR72', 'GGT6', 'PI15', 'CFAP157', 'TACC2', 'LGALS1', 'MYLK', 'DOCK1', 'IGLV5-48', 'ELF5', 'C22ORF15', 'CYP4F11', 'AK8', 'LRRC18', 'LMO2', 'COL12A1', 'ITGA11', 'EGFL6', 'RGS11', 'PCDHB15'])"
      ]
     },
     "execution_count": 108,
     "metadata": {},
     "output_type": "execute_result"
    }
   ],
   "source": [
    "gs[0].gene2weight.keys()"
   ]
  },
  {
   "cell_type": "code",
   "execution_count": 53,
   "metadata": {},
   "outputs": [
    {
     "data": {
      "text/plain": [
       "True"
      ]
     },
     "execution_count": 53,
     "metadata": {},
     "output_type": "execute_result"
    }
   ],
   "source": [
    "\"PCLO\" in adata.var_names"
   ]
  },
  {
   "cell_type": "code",
   "execution_count": 109,
   "metadata": {},
   "outputs": [
    {
     "data": {
      "text/plain": [
       "['TRAV8-2',\n",
       " 'MEOX2',\n",
       " 'CXCL12',\n",
       " 'KLRC4-KLRK1',\n",
       " 'BCAS1',\n",
       " 'SCNN1A',\n",
       " 'HCST',\n",
       " 'PCLO',\n",
       " 'CD7',\n",
       " 'COL1A2',\n",
       " 'CFAP100',\n",
       " 'CCDC60',\n",
       " 'WNT4',\n",
       " 'CFAP45']"
      ]
     },
     "execution_count": 109,
     "metadata": {},
     "output_type": "execute_result"
    }
   ],
   "source": [
    "[i for i in ['RP11-128M1.1', 'TRAV8-2', 'PTPRD-AS1', 'MEOX2', 'CXCL12', 'KLRC4-KLRK1', 'BCAS1', 'SCNN1A', 'HCST', 'OR51E1', 'PCLO', 'CD7', 'COL1A2', 'CFAP100', 'CCDC60', 'WNT4', 'CFAP45'] if i in adata.var_names]"
   ]
  },
  {
   "cell_type": "code",
   "execution_count": null,
   "metadata": {},
   "outputs": [],
   "source": [
    "['TRAV8-2',\n",
    " 'MEOX2',\n",
    " 'CXCL12',\n",
    " 'KLRC4-KLRK1',\n",
    " 'BCAS1',\n",
    " 'SCNN1A',\n",
    " 'HCST',\n",
    " 'PCLO',\n",
    " 'CD7',\n",
    " 'COL1A2',\n",
    " 'CFAP100',\n",
    " 'CCDC60',\n",
    " 'WNT4',\n",
    " 'CFAP45']"
   ]
  }
 ],
 "metadata": {
  "kernelspec": {
   "display_name": "sc",
   "language": "python",
   "name": "python3"
  },
  "language_info": {
   "codemirror_mode": {
    "name": "ipython",
    "version": 3
   },
   "file_extension": ".py",
   "mimetype": "text/x-python",
   "name": "python",
   "nbconvert_exporter": "python",
   "pygments_lexer": "ipython3",
   "version": "3.11.6"
  }
 },
 "nbformat": 4,
 "nbformat_minor": 2
}
