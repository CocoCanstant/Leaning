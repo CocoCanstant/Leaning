{
 "cells": [
  {
   "cell_type": "code",
   "execution_count": 1,
   "metadata": {},
   "outputs": [],
   "source": [
    "import csv\n",
    "from pathlib import Path"
   ]
  },
  {
   "cell_type": "code",
   "execution_count": 3,
   "metadata": {},
   "outputs": [
    {
     "name": "stdout",
     "output_type": "stream",
     "text": [
      "/zfssz8/CNGB_DATA/BGISEQ01/DIPSEQ/DIPSEQT1/P24Z31300N0041_Temp/D2411320126/241216_63_DP8480012554TR_L01_D2411320126001\n",
      "/zfssz8/CNGB_DATA/BGISEQ01/DIPSEQ/DIPSEQT1/P24Z31300N0041_Temp/D2411320127/241216_64_DP8480012555TR_L01_D2411320127001\n",
      "/zfssz8/CNGB_DATA/BGISEQ01/DIPSEQ/DIPSEQT1/P24Z31300N0041_Temp/D2411320128/241216_64_DP8480012555TR_L01_D2411320128001\n"
     ]
    }
   ],
   "source": [
    "# read data\n",
    "\n",
    "all_dict = []\n",
    "with open('/home/ouyangkang/tmp.tsv', newline='') as f:\n",
    "    reader = csv.DictReader(f, delimiter='\\t')\n",
    "    for row in reader:\n",
    "        tmp_path = Path(row['Pathway'])\n",
    "        fq_list = [i for i in tmp_path.glob('*.fq.gz')]\n",
    "        if len(fq_list) > 2:\n",
    "            fq_1 = [i for i in fq_list if i.parts[-1].split('_')[-1] == '1.fq.gz']\n",
    "            fq_2 = [i for i in fq_list if i.parts[-1].split('_')[-1] == '2.fq.gz']\n",
    "            fq_1.sort()\n",
    "            fq_2.sort()\n",
    "            write_dict_1 = {'Sample': row['Sample_name'], 'FQ1': fq_1[0], 'FQ2': fq_2[0]}\n",
    "            write_dict_2 = {'Sample': row['Sample_name'], 'FQ1': fq_1[1], 'FQ2': fq_2[1]}\n",
    "            all_dict += [write_dict_1]\n",
    "            all_dict += [write_dict_2]\n",
    "\n",
    "        else:\n",
    "            fq_1 = [i for i in fq_list if i.parts[-1].split('_')[-1] == '1.fq.gz']\n",
    "            fq_2 = [i for i in fq_list if i.parts[-1].split('_')[-1] == '2.fq.gz'] \n",
    "            write_dict = {'Sample': row['Sample_name'], 'FQ1': fq_1, 'FQ2': fq_2}\n",
    "            all_dict += {write_dict}\n",
    "\n",
    "\n",
    "# write a csv file\n",
    "with open('/home/ouyangkang/result.csv', 'w', newline='') as s:\n",
    "\n",
    "    fieldnames = ['Sample', 'FQ1', 'FQ2']\n",
    "    writer = csv.DictWriter(s, fieldnames=fieldnames)\n",
    "\n",
    "    writer.writeheader()\n",
    "    writer.writerows(all_dict)"
   ]
  },
  {
   "cell_type": "code",
   "execution_count": null,
   "metadata": {},
   "outputs": [],
   "source": [
    "for row in reader:\n",
    "    print(row['Pathway'])\n",
    "    fq_list = [i for i in Path(row['Pathway']).glob('*.fq.gz')]\n",
    "    print(fq_list)"
   ]
  }
 ],
 "metadata": {
  "kernelspec": {
   "display_name": "sc",
   "language": "python",
   "name": "python3"
  },
  "language_info": {
   "codemirror_mode": {
    "name": "ipython",
    "version": 3
   },
   "file_extension": ".py",
   "mimetype": "text/x-python",
   "name": "python",
   "nbconvert_exporter": "python",
   "pygments_lexer": "ipython3",
   "version": "3.11.6"
  }
 },
 "nbformat": 4,
 "nbformat_minor": 2
}
