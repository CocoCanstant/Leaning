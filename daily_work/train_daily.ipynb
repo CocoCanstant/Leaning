{
 "cells": [
  {
   "cell_type": "code",
   "execution_count": 36,
   "metadata": {},
   "outputs": [],
   "source": [
    "'''\n",
    "train to rename image\n",
    "'''\n",
    "\n",
    "\n",
    "import os\n",
    "import shutil\n",
    "\n",
    "image_path = '/mnt/c/Users/ouyangkang/Desktop/Image_rename_train/'\n",
    "image_list = os.listdir(image_path)\n",
    "\n",
    "segment = 2 # how many pieces of photo\n",
    "x = 8\n",
    "y = 12\n",
    "initial_number = 1\n",
    "\n",
    "for _ in range(segment):\n",
    "    os.makedirs(f'/mnt/c/Users/ouyangkang/Desktop/Image_{_}' )\n",
    "\n",
    "\n",
    "dir_selection = 0 # select directory\n",
    "count = 0 # swith directory selection\n",
    "dir_0_count = 1\n",
    "dir_1_count = 0\n",
    "\n",
    "for image in image_list:\n",
    "    \n",
    "    shutil.copy(image_path + image, '/mnt/c/Users/ouyangkang/Desktop/Image_' + str(dir_selection) + '/' + str(dir_0_count if dir_selection == 0 else dir_1_count) + '.tif')\n",
    "    \n",
    "    judgement = initial_number % (x/segment)\n",
    "    if judgement == 0:\n",
    "        dir_selection = 1\n",
    "        count += 1\n",
    "    \n",
    "    if count == 2:\n",
    "        dir_selection = 0\n",
    "        count =0\n",
    "\n",
    "    if dir_selection == 0:\n",
    "        dir_0_count += 1\n",
    "    else:\n",
    "        dir_1_count += 1\n",
    "        \n",
    "    initial_number += 1"
   ]
  },
  {
   "cell_type": "code",
   "execution_count": 18,
   "metadata": {},
   "outputs": [
    {
     "name": "stdout",
     "output_type": "stream",
     "text": [
      "[0, 3]\n"
     ]
    }
   ],
   "source": [
    "nums = [2,9,7,11,12,15]\n",
    "target = 13\n",
    "\n",
    "\n",
    "\n",
    "for i in range(len(nums)):\n",
    "    k = len(nums) - 1\n",
    "    while nums[i] + nums[k] != target:\n",
    "        k -= 1\n",
    "        if k == i:\n",
    "            break\n",
    "    if nums[i] + nums[k] == target:\n",
    "        print([i, k])\n",
    "        break"
   ]
  },
  {
   "cell_type": "code",
   "execution_count": 15,
   "metadata": {},
   "outputs": [],
   "source": [
    "train = [2,1,4,3,5]\n",
    "train.sort()"
   ]
  },
  {
   "cell_type": "code",
   "execution_count": 17,
   "metadata": {},
   "outputs": [
    {
     "data": {
      "text/plain": [
       "5"
      ]
     },
     "execution_count": 17,
     "metadata": {},
     "output_type": "execute_result"
    }
   ],
   "source": [
    "len(train)"
   ]
  },
  {
   "cell_type": "code",
   "execution_count": 20,
   "metadata": {},
   "outputs": [
    {
     "ename": "AttributeError",
     "evalue": "'list' object has no attribute 'val'",
     "output_type": "error",
     "traceback": [
      "\u001b[0;31m---------------------------------------------------------------------------\u001b[0m",
      "\u001b[0;31mAttributeError\u001b[0m                            Traceback (most recent call last)",
      "\u001b[0;32m/tmp/ipykernel_838/3519901413.py\u001b[0m in \u001b[0;36m<module>\u001b[0;34m\u001b[0m\n\u001b[0;32m----> 1\u001b[0;31m \u001b[0mtrain\u001b[0m\u001b[0;34m.\u001b[0m\u001b[0mval\u001b[0m\u001b[0;34m\u001b[0m\u001b[0;34m\u001b[0m\u001b[0m\n\u001b[0m",
      "\u001b[0;31mAttributeError\u001b[0m: 'list' object has no attribute 'val'"
     ]
    }
   ],
   "source": [
    "train.val"
   ]
  },
  {
   "cell_type": "code",
   "execution_count": null,
   "metadata": {},
   "outputs": [],
   "source": []
  }
 ],
 "metadata": {
  "kernelspec": {
   "display_name": "base",
   "language": "python",
   "name": "python3"
  },
  "language_info": {
   "codemirror_mode": {
    "name": "ipython",
    "version": 3
   },
   "file_extension": ".py",
   "mimetype": "text/x-python",
   "name": "python",
   "nbconvert_exporter": "python",
   "pygments_lexer": "ipython3",
   "version": "3.9.13"
  },
  "orig_nbformat": 4
 },
 "nbformat": 4,
 "nbformat_minor": 2
}
