{
 "cells": [
  {
   "cell_type": "code",
   "execution_count": 36,
   "metadata": {},
   "outputs": [],
   "source": [
    "'''\n",
    "train to rename image\n",
    "'''\n",
    "\n",
    "\n",
    "import os\n",
    "import shutil\n",
    "\n",
    "image_path = '/mnt/c/Users/ouyangkang/Desktop/Image_rename_train/'\n",
    "image_list = os.listdir(image_path)\n",
    "\n",
    "segment = 2 # how many pieces of photo\n",
    "x = 8\n",
    "y = 12\n",
    "initial_number = 1\n",
    "\n",
    "for _ in range(segment):\n",
    "    os.makedirs(f'/mnt/c/Users/ouyangkang/Desktop/Image_{_}' )\n",
    "\n",
    "\n",
    "dir_selection = 0 # select directory\n",
    "count = 0 # swith directory selection\n",
    "dir_0_count = 1\n",
    "dir_1_count = 0\n",
    "\n",
    "for image in image_list:\n",
    "    \n",
    "    shutil.copy(image_path + image, '/mnt/c/Users/ouyangkang/Desktop/Image_' + str(dir_selection) + '/' + str(dir_0_count if dir_selection == 0 else dir_1_count) + '.tif')\n",
    "    \n",
    "    judgement = initial_number % (x/segment)\n",
    "    if judgement == 0:\n",
    "        dir_selection = 1\n",
    "        count += 1\n",
    "    \n",
    "    if count == 2:\n",
    "        dir_selection = 0\n",
    "        count =0\n",
    "\n",
    "    if dir_selection == 0:\n",
    "        dir_0_count += 1\n",
    "    else:\n",
    "        dir_1_count += 1\n",
    "        \n",
    "    initial_number += 1"
   ]
  },
  {
   "cell_type": "code",
   "execution_count": 1,
   "metadata": {},
   "outputs": [
    {
     "name": "stdout",
     "output_type": "stream",
     "text": [
      "1\n",
      "2\n",
      "3\n",
      "0\n",
      "1\n",
      "2\n",
      "3\n",
      "0\n",
      "1\n",
      "2\n",
      "3\n",
      "0\n",
      "1\n",
      "2\n",
      "3\n",
      "0\n"
     ]
    }
   ],
   "source": [
    "for i in range(1,17):\n",
    "    print(i%4)"
   ]
  },
  {
   "cell_type": "code",
   "execution_count": null,
   "metadata": {},
   "outputs": [],
   "source": []
  }
 ],
 "metadata": {
  "kernelspec": {
   "display_name": "base",
   "language": "python",
   "name": "python3"
  },
  "language_info": {
   "codemirror_mode": {
    "name": "ipython",
    "version": 3
   },
   "file_extension": ".py",
   "mimetype": "text/x-python",
   "name": "python",
   "nbconvert_exporter": "python",
   "pygments_lexer": "ipython3",
   "version": "3.9.13"
  },
  "orig_nbformat": 4
 },
 "nbformat": 4,
 "nbformat_minor": 2
}
