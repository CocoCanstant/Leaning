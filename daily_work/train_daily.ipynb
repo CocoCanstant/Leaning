{
 "cells": [
  {
   "cell_type": "code",
   "execution_count": 5,
   "metadata": {},
   "outputs": [
    {
     "name": "stdout",
     "output_type": "stream",
     "text": [
      "1\n"
     ]
    }
   ],
   "source": [
    "s = 'bbbbb'\n",
    "dict_str = {}\n",
    "for i, n in enumerate(s):\n",
    "    dict_str[n] = i\n",
    "print(len(dict_str))"
   ]
  },
  {
   "cell_type": "code",
   "execution_count": 4,
   "metadata": {},
   "outputs": [
    {
     "data": {
      "text/plain": [
       "{'a': 0, 'b': 7, 'c': 6, 'd': 8}"
      ]
     },
     "execution_count": 4,
     "metadata": {},
     "output_type": "execute_result"
    }
   ],
   "source": [
    "dict_str"
   ]
  },
  {
   "cell_type": "code",
   "execution_count": 12,
   "metadata": {},
   "outputs": [
    {
     "name": "stdout",
     "output_type": "stream",
     "text": [
      "{'a': 1}\n",
      "1\n",
      "{'a': 2}\n",
      "{'a': 2}\n",
      "{'a': 1, 'b': 1}\n",
      "2\n",
      "{'a': 1, 'b': 1, 'c': 1}\n",
      "3\n",
      "{'a': 1, 'b': 1, 'c': 2}\n",
      "{'c': 2}\n",
      "{'c': 1, 'd': 1}\n",
      "3\n",
      "{'c': 1, 'd': 1, 'e': 1}\n",
      "3\n",
      "{'c': 1, 'd': 1, 'e': 2}\n",
      "{'e': 1, 'f': 1}\n",
      "3\n",
      "{'e': 1, 'f': 1}\n",
      "3\n"
     ]
    }
   ],
   "source": [
    "s = 'aaabcccdeef'\n",
    "max_len = 0\n",
    "hash_map = {}\n",
    "\n",
    "start = 0\n",
    "for end in range(len(s)):\n",
    "    hash_map[s[end]] = hash_map.get(s[end], 0) + 1\n",
    "    print(hash_map)\n",
    "    if len(hash_map) == end - start + 1:\n",
    "        max_len = max(max_len, end - start + 1)\n",
    "        print(max_len)\n",
    "    \n",
    "    while end - start + 1 > len(hash_map):\n",
    "        head = s[start]\n",
    "        hash_map[head] -= 1\n",
    "        if hash_map[head] == 0:\n",
    "            del hash_map[head]\n",
    "        start += 1\n",
    "\n",
    "print(hash_map)\n",
    "print(max_len)\n",
    "        "
   ]
  },
  {
   "cell_type": "code",
   "execution_count": 15,
   "metadata": {},
   "outputs": [
    {
     "name": "stdout",
     "output_type": "stream",
     "text": [
      "[1, 2, 3, 4, 5]\n"
     ]
    }
   ],
   "source": [
    "train = [1,2,3,4,5,4,3,2,1]\n",
    "print(list(set(train)))"
   ]
  },
  {
   "cell_type": "code",
   "execution_count": 19,
   "metadata": {},
   "outputs": [
    {
     "name": "stdout",
     "output_type": "stream",
     "text": [
      "1 1\n",
      "0 2\n",
      "3 3\n"
     ]
    }
   ],
   "source": [
    "train_1 = [1, 2, 3]\n",
    "train_2 = [1, 0, 3, 4]\n",
    "for i, j in zip(train_2, train_1):\n",
    "    print(i,j)"
   ]
  },
  {
   "cell_type": "code",
   "execution_count": 3,
   "metadata": {},
   "outputs": [
    {
     "name": "stdout",
     "output_type": "stream",
     "text": [
      "0\n",
      "1\n",
      "2\n",
      "3\n",
      "4\n",
      "0\n",
      "1\n",
      "2\n",
      "3\n",
      "4\n",
      "0\n",
      "1\n",
      "2\n",
      "3\n",
      "4\n",
      "0\n",
      "1\n",
      "2\n",
      "3\n",
      "4\n",
      "0\n",
      "1\n",
      "2\n",
      "3\n",
      "4\n",
      "0\n",
      "1\n",
      "2\n",
      "3\n",
      "4\n",
      "0\n",
      "1\n",
      "2\n",
      "3\n",
      "4\n",
      "0\n",
      "1\n",
      "2\n",
      "3\n",
      "4\n",
      "0\n",
      "1\n",
      "2\n",
      "3\n",
      "4\n",
      "0\n",
      "1\n",
      "2\n",
      "3\n",
      "4\n",
      "0\n",
      "1\n",
      "2\n",
      "3\n",
      "4\n",
      "0\n",
      "1\n",
      "2\n",
      "3\n",
      "4\n",
      "0\n",
      "1\n",
      "2\n",
      "3\n",
      "4\n",
      "0\n",
      "1\n",
      "2\n",
      "3\n",
      "4\n",
      "0\n",
      "1\n",
      "2\n",
      "3\n",
      "4\n",
      "0\n",
      "1\n",
      "2\n",
      "3\n",
      "4\n",
      "0\n",
      "1\n",
      "2\n",
      "3\n",
      "4\n",
      "0\n",
      "1\n",
      "2\n",
      "3\n",
      "4\n",
      "0\n",
      "1\n",
      "2\n",
      "3\n",
      "4\n",
      "0\n",
      "1\n",
      "2\n",
      "3\n",
      "4\n"
     ]
    }
   ],
   "source": [
    "for i in range(100):\n",
    "    print(i % 5)"
   ]
  },
  {
   "cell_type": "code",
   "execution_count": null,
   "metadata": {},
   "outputs": [],
   "source": []
  }
 ],
 "metadata": {
  "kernelspec": {
   "display_name": "base",
   "language": "python",
   "name": "python3"
  },
  "language_info": {
   "codemirror_mode": {
    "name": "ipython",
    "version": 3
   },
   "file_extension": ".py",
   "mimetype": "text/x-python",
   "name": "python",
   "nbconvert_exporter": "python",
   "pygments_lexer": "ipython3",
   "version": "3.9.13"
  },
  "orig_nbformat": 4
 },
 "nbformat": 4,
 "nbformat_minor": 2
}
