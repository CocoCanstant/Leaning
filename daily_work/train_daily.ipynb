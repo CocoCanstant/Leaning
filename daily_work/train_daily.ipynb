{
 "cells": [
  {
   "cell_type": "code",
   "execution_count": 5,
   "metadata": {},
   "outputs": [
    {
     "name": "stdout",
     "output_type": "stream",
     "text": [
      "1\n"
     ]
    }
   ],
   "source": [
    "s = 'bbbbb'\n",
    "dict_str = {}\n",
    "for i, n in enumerate(s):\n",
    "    dict_str[n] = i\n",
    "print(len(dict_str))"
   ]
  },
  {
   "cell_type": "code",
   "execution_count": 4,
   "metadata": {},
   "outputs": [
    {
     "data": {
      "text/plain": [
       "{'a': 0, 'b': 7, 'c': 6, 'd': 8}"
      ]
     },
     "execution_count": 4,
     "metadata": {},
     "output_type": "execute_result"
    }
   ],
   "source": [
    "dict_str"
   ]
  },
  {
   "cell_type": "code",
   "execution_count": 12,
   "metadata": {},
   "outputs": [
    {
     "name": "stdout",
     "output_type": "stream",
     "text": [
      "{'a': 1}\n",
      "1\n",
      "{'a': 2}\n",
      "{'a': 2}\n",
      "{'a': 1, 'b': 1}\n",
      "2\n",
      "{'a': 1, 'b': 1, 'c': 1}\n",
      "3\n",
      "{'a': 1, 'b': 1, 'c': 2}\n",
      "{'c': 2}\n",
      "{'c': 1, 'd': 1}\n",
      "3\n",
      "{'c': 1, 'd': 1, 'e': 1}\n",
      "3\n",
      "{'c': 1, 'd': 1, 'e': 2}\n",
      "{'e': 1, 'f': 1}\n",
      "3\n",
      "{'e': 1, 'f': 1}\n",
      "3\n"
     ]
    }
   ],
   "source": [
    "s = 'aaabcccdeef'\n",
    "max_len = 0\n",
    "hash_map = {}\n",
    "\n",
    "start = 0\n",
    "for end in range(len(s)):\n",
    "    hash_map[s[end]] = hash_map.get(s[end], 0) + 1\n",
    "    print(hash_map)\n",
    "    if len(hash_map) == end - start + 1:\n",
    "        max_len = max(max_len, end - start + 1)\n",
    "        print(max_len)\n",
    "    \n",
    "    while end - start + 1 > len(hash_map):\n",
    "        head = s[start]\n",
    "        hash_map[head] -= 1\n",
    "        if hash_map[head] == 0:\n",
    "            del hash_map[head]\n",
    "        start += 1\n",
    "\n",
    "print(hash_map)\n",
    "print(max_len)\n",
    "        "
   ]
  },
  {
   "cell_type": "code",
   "execution_count": 15,
   "metadata": {},
   "outputs": [
    {
     "name": "stdout",
     "output_type": "stream",
     "text": [
      "[1, 2, 3, 4, 5]\n"
     ]
    }
   ],
   "source": [
    "train = [1,2,3,4,5,4,3,2,1]\n",
    "print(list(set(train)))"
   ]
  },
  {
   "cell_type": "code",
   "execution_count": 19,
   "metadata": {},
   "outputs": [
    {
     "name": "stdout",
     "output_type": "stream",
     "text": [
      "1 1\n",
      "0 2\n",
      "3 3\n"
     ]
    }
   ],
   "source": [
    "train_1 = [1, 2, 3]\n",
    "train_2 = [1, 0, 3, 4]\n",
    "for i, j in zip(train_2, train_1):\n",
    "    print(i,j)"
   ]
  },
  {
   "cell_type": "code",
   "execution_count": 22,
   "metadata": {},
   "outputs": [],
   "source": [
    "# import sys\n",
    "import pandas as pd\n",
    "\n",
    "# file_path = sys.argv[1]\n",
    "initial_data = pd.read_csv('/mnt/c/Users/ouyangkang/Desktop/train_singlecell.csv')\n",
    "extract_info = pd.DataFrame(columns=['Project_ID', 'Library_ID', 'Data_path'])\n",
    "for index, row in initial_data.iterrows():\n",
    "    extract_info.loc[index] = [row.项目编号, row.文库号, row.二级路径]\n"
   ]
  },
  {
   "cell_type": "code",
   "execution_count": 23,
   "metadata": {},
   "outputs": [
    {
     "data": {
      "text/html": [
       "<div>\n",
       "<style scoped>\n",
       "    .dataframe tbody tr th:only-of-type {\n",
       "        vertical-align: middle;\n",
       "    }\n",
       "\n",
       "    .dataframe tbody tr th {\n",
       "        vertical-align: top;\n",
       "    }\n",
       "\n",
       "    .dataframe thead th {\n",
       "        text-align: right;\n",
       "    }\n",
       "</style>\n",
       "<table border=\"1\" class=\"dataframe\">\n",
       "  <thead>\n",
       "    <tr style=\"text-align: right;\">\n",
       "      <th></th>\n",
       "      <th>Project_ID</th>\n",
       "      <th>Library_ID</th>\n",
       "      <th>Data_path</th>\n",
       "    </tr>\n",
       "  </thead>\n",
       "  <tbody>\n",
       "    <tr>\n",
       "      <th>0</th>\n",
       "      <td>P21Z10200N0090</td>\n",
       "      <td>PL2305190346</td>\n",
       "      <td>/ldfssz2/zebra_bgiseq500/BGISEQ02/DIPSEQ/DIPSE...</td>\n",
       "    </tr>\n",
       "    <tr>\n",
       "      <th>1</th>\n",
       "      <td>P21Z10200N0090</td>\n",
       "      <td>DISC-seq-lib15-ctrl-cDNA</td>\n",
       "      <td>/ldfssz2/zebra_bgiseq500/BGISEQ02/DIPSEQ/DIPSE...</td>\n",
       "    </tr>\n",
       "    <tr>\n",
       "      <th>2</th>\n",
       "      <td>P21Z10200N0090</td>\n",
       "      <td>DISC-seq-lib15-ctrl-oligo</td>\n",
       "      <td>/ldfssz2/zebra_bgiseq500/BGISEQ02/DIPSEQ/DIPSE...</td>\n",
       "    </tr>\n",
       "    <tr>\n",
       "      <th>3</th>\n",
       "      <td>P21Z10200N0090</td>\n",
       "      <td>DISC-seq-lib15-high2-cDNA</td>\n",
       "      <td>/ldfssz2/zebra_bgiseq500/BGISEQ02/DIPSEQ/DIPSE...</td>\n",
       "    </tr>\n",
       "    <tr>\n",
       "      <th>4</th>\n",
       "      <td>P21Z10200N0090</td>\n",
       "      <td>DISC-seq-lib15-high2-oligo</td>\n",
       "      <td>/ldfssz2/zebra_bgiseq500/BGISEQ02/DIPSEQ/DIPSE...</td>\n",
       "    </tr>\n",
       "    <tr>\n",
       "      <th>5</th>\n",
       "      <td>P21Z10200N0090</td>\n",
       "      <td>DISC-seq-lib15-high-cDNA</td>\n",
       "      <td>/ldfssz2/zebra_bgiseq500/BGISEQ02/DIPSEQ/DIPSE...</td>\n",
       "    </tr>\n",
       "    <tr>\n",
       "      <th>6</th>\n",
       "      <td>P21Z10200N0090</td>\n",
       "      <td>DISC-seq-lib15-high-oligo</td>\n",
       "      <td>/ldfssz2/zebra_bgiseq500/BGISEQ02/DIPSEQ/DIPSE...</td>\n",
       "    </tr>\n",
       "    <tr>\n",
       "      <th>7</th>\n",
       "      <td>P21Z10200N0090</td>\n",
       "      <td>PL2305240189</td>\n",
       "      <td>/ldfssz2/zebra_bgiseq500/BGISEQ02/DIPSEQ/DIPSE...</td>\n",
       "    </tr>\n",
       "    <tr>\n",
       "      <th>8</th>\n",
       "      <td>P21Z10200N0090</td>\n",
       "      <td>DISC-seq-lib15-low-cDNA</td>\n",
       "      <td>/ldfssz2/zebra_bgiseq500/BGISEQ02/DIPSEQ/DIPSE...</td>\n",
       "    </tr>\n",
       "    <tr>\n",
       "      <th>9</th>\n",
       "      <td>P21Z10200N0090</td>\n",
       "      <td>DISC-seq-lib15-low-oligo</td>\n",
       "      <td>/ldfssz2/zebra_bgiseq500/BGISEQ02/DIPSEQ/DIPSE...</td>\n",
       "    </tr>\n",
       "  </tbody>\n",
       "</table>\n",
       "</div>"
      ],
      "text/plain": [
       "       Project_ID                  Library_ID  \\\n",
       "0  P21Z10200N0090                PL2305190346   \n",
       "1  P21Z10200N0090    DISC-seq-lib15-ctrl-cDNA   \n",
       "2  P21Z10200N0090   DISC-seq-lib15-ctrl-oligo   \n",
       "3  P21Z10200N0090   DISC-seq-lib15-high2-cDNA   \n",
       "4  P21Z10200N0090  DISC-seq-lib15-high2-oligo   \n",
       "5  P21Z10200N0090    DISC-seq-lib15-high-cDNA   \n",
       "6  P21Z10200N0090   DISC-seq-lib15-high-oligo   \n",
       "7  P21Z10200N0090                PL2305240189   \n",
       "8  P21Z10200N0090     DISC-seq-lib15-low-cDNA   \n",
       "9  P21Z10200N0090    DISC-seq-lib15-low-oligo   \n",
       "\n",
       "                                           Data_path  \n",
       "0  /ldfssz2/zebra_bgiseq500/BGISEQ02/DIPSEQ/DIPSE...  \n",
       "1  /ldfssz2/zebra_bgiseq500/BGISEQ02/DIPSEQ/DIPSE...  \n",
       "2  /ldfssz2/zebra_bgiseq500/BGISEQ02/DIPSEQ/DIPSE...  \n",
       "3  /ldfssz2/zebra_bgiseq500/BGISEQ02/DIPSEQ/DIPSE...  \n",
       "4  /ldfssz2/zebra_bgiseq500/BGISEQ02/DIPSEQ/DIPSE...  \n",
       "5  /ldfssz2/zebra_bgiseq500/BGISEQ02/DIPSEQ/DIPSE...  \n",
       "6  /ldfssz2/zebra_bgiseq500/BGISEQ02/DIPSEQ/DIPSE...  \n",
       "7  /ldfssz2/zebra_bgiseq500/BGISEQ02/DIPSEQ/DIPSE...  \n",
       "8  /ldfssz2/zebra_bgiseq500/BGISEQ02/DIPSEQ/DIPSE...  \n",
       "9  /ldfssz2/zebra_bgiseq500/BGISEQ02/DIPSEQ/DIPSE...  "
      ]
     },
     "execution_count": 23,
     "metadata": {},
     "output_type": "execute_result"
    }
   ],
   "source": [
    "extract_info"
   ]
  },
  {
   "cell_type": "code",
   "execution_count": 26,
   "metadata": {},
   "outputs": [],
   "source": [
    "extract_info.to_csv('/mnt/c/Users/ouyangkang/Desktop/extract_info.txt', sep='\\t', index=None)"
   ]
  },
  {
   "cell_type": "code",
   "execution_count": 28,
   "metadata": {},
   "outputs": [
    {
     "name": "stdout",
     "output_type": "stream",
     "text": [
      "If you need change the project Id \n"
     ]
    }
   ],
   "source": [
    "\n",
    "\n",
    "import re\n",
    "import pandas\n",
    "import os\n",
    "import sys\n",
    "\n",
    "output_file = pd.DataFrame(columns=['#ProjectID', 'SubprojectID', 'SampleID', 'LibraryID', 'FQ1', 'FQ2', 'Mark', 'InsertSize', 'SubSampleID'])\n",
    "'''\n",
    "print('Please input your modifitcation if you need change the project Id, else please input No')\n",
    "if sys.argv[1] == No:\n",
    "\n",
    "'''\n",
    "\n",
    "input_file = pd.read_csv('/mnt/c/Users/ouyangkang/Desktop/extract_info.txt', sep='\\t')\n",
    "for index, row in input_file.iterrows():\n",
    "    file_list = os.listdir(row.Data_path)\n",
    "    fq_pattern = re.compile(r'fq\\.gz$')\n",
    "    data_name = [re.findall(fq_pattern, i) for i in file_list]\n",
    "    if len(data_name) / 2 > 1:\n",
    "        break"
   ]
  },
  {
   "cell_type": "code",
   "execution_count": 29,
   "metadata": {},
   "outputs": [
    {
     "data": {
      "text/plain": [
       "['bash',\n",
       " 'README.md',\n",
       " '.git',\n",
       " 'bioinformatics',\n",
       " 'R',\n",
       " 'daily_work',\n",
       " 'machine_learning',\n",
       " 'Python',\n",
       " 'drug_disease',\n",
       " 'Perl',\n",
       " 'graduation']"
      ]
     },
     "execution_count": 29,
     "metadata": {},
     "output_type": "execute_result"
    }
   ],
   "source": [
    "import os\n",
    "os.listdir('/home/ouyangkang/Learning/')"
   ]
  },
  {
   "cell_type": "code",
   "execution_count": 30,
   "metadata": {},
   "outputs": [
    {
     "data": {
      "text/plain": [
       "2.0"
      ]
     },
     "execution_count": 30,
     "metadata": {},
     "output_type": "execute_result"
    }
   ],
   "source": [
    "4/2"
   ]
  },
  {
   "cell_type": "code",
   "execution_count": null,
   "metadata": {},
   "outputs": [],
   "source": []
  }
 ],
 "metadata": {
  "kernelspec": {
   "display_name": "base",
   "language": "python",
   "name": "python3"
  },
  "language_info": {
   "codemirror_mode": {
    "name": "ipython",
    "version": 3
   },
   "file_extension": ".py",
   "mimetype": "text/x-python",
   "name": "python",
   "nbconvert_exporter": "python",
   "pygments_lexer": "ipython3",
   "version": "3.9.13"
  },
  "orig_nbformat": 4
 },
 "nbformat": 4,
 "nbformat_minor": 2
}
