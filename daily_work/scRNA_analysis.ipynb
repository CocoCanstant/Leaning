{
 "cells": [
  {
   "cell_type": "code",
   "execution_count": 3,
   "metadata": {},
   "outputs": [
    {
     "ename": "OSError",
     "evalue": "Could not find/load shared object file: libllvmlite.so\n Error was: /home/ouyangkang/software/anaconda3/envs/scRNA_analysis/lib/python3.10/site-packages/zmq/backend/cython/../../../../.././libstdc++.so.6: version `GLIBCXX_3.4.30' not found (required by /home/ouyangkang/software/anaconda3/envs/scRNA_analysis/lib/python3.10/site-packages/llvmlite/binding/../../../../libLLVM-14.so)",
     "output_type": "error",
     "traceback": [
      "\u001b[0;31m---------------------------------------------------------------------------\u001b[0m",
      "\u001b[0;31mOSError\u001b[0m                                   Traceback (most recent call last)",
      "File \u001b[0;32m~/software/anaconda3/envs/scRNA_analysis/lib/python3.10/site-packages/llvmlite/binding/ffi.py:180\u001b[0m\n\u001b[1;32m    179\u001b[0m _lib_handle \u001b[39m=\u001b[39m _importlib_resources_path(pkgname, _lib_name)\n\u001b[0;32m--> 180\u001b[0m lib \u001b[39m=\u001b[39m ctypes\u001b[39m.\u001b[39;49mCDLL(\u001b[39mstr\u001b[39;49m(_lib_handle\u001b[39m.\u001b[39;49m\u001b[39m__enter__\u001b[39;49m()))\n\u001b[1;32m    181\u001b[0m \u001b[39m# on windows file handles to the dll file remain open after\u001b[39;00m\n\u001b[1;32m    182\u001b[0m \u001b[39m# loading, therefore we can not exit the context manager\u001b[39;00m\n\u001b[1;32m    183\u001b[0m \u001b[39m# which might delete the file\u001b[39;00m\n",
      "File \u001b[0;32m~/software/anaconda3/envs/scRNA_analysis/lib/python3.10/ctypes/__init__.py:374\u001b[0m, in \u001b[0;36mCDLL.__init__\u001b[0;34m(self, name, mode, handle, use_errno, use_last_error, winmode)\u001b[0m\n\u001b[1;32m    373\u001b[0m \u001b[39mif\u001b[39;00m handle \u001b[39mis\u001b[39;00m \u001b[39mNone\u001b[39;00m:\n\u001b[0;32m--> 374\u001b[0m     \u001b[39mself\u001b[39m\u001b[39m.\u001b[39m_handle \u001b[39m=\u001b[39m _dlopen(\u001b[39mself\u001b[39;49m\u001b[39m.\u001b[39;49m_name, mode)\n\u001b[1;32m    375\u001b[0m \u001b[39melse\u001b[39;00m:\n",
      "\u001b[0;31mOSError\u001b[0m: /home/ouyangkang/software/anaconda3/envs/scRNA_analysis/lib/python3.10/site-packages/zmq/backend/cython/../../../../.././libstdc++.so.6: version `GLIBCXX_3.4.30' not found (required by /home/ouyangkang/software/anaconda3/envs/scRNA_analysis/lib/python3.10/site-packages/llvmlite/binding/../../../../libLLVM-14.so)",
      "\nDuring handling of the above exception, another exception occurred:\n",
      "\u001b[0;31mOSError\u001b[0m                                   Traceback (most recent call last)",
      "Cell \u001b[0;32mIn[3], line 1\u001b[0m\n\u001b[0;32m----> 1\u001b[0m \u001b[39mimport\u001b[39;00m \u001b[39mscanpy\u001b[39;00m \u001b[39mas\u001b[39;00m \u001b[39msc\u001b[39;00m\n\u001b[1;32m      3\u001b[0m sc_data \u001b[39m=\u001b[39m sc\u001b[39m.\u001b[39mread_h5ad(\u001b[39m'\u001b[39m\u001b[39m/mnt/c/Users/ouyangkang/Desktop/convert_sc_data.h5ad\u001b[39m\u001b[39m'\u001b[39m)\n",
      "File \u001b[0;32m~/software/anaconda3/envs/scRNA_analysis/lib/python3.10/site-packages/scanpy/__init__.py:6\u001b[0m\n\u001b[1;32m      3\u001b[0m \u001b[39mfrom\u001b[39;00m \u001b[39m.\u001b[39;00m\u001b[39m_metadata\u001b[39;00m \u001b[39mimport\u001b[39;00m __version__, within_flit\n\u001b[1;32m      5\u001b[0m \u001b[39mif\u001b[39;00m \u001b[39mnot\u001b[39;00m within_flit():  \u001b[39m# see function docstring on why this is there\u001b[39;00m\n\u001b[0;32m----> 6\u001b[0m     \u001b[39mfrom\u001b[39;00m \u001b[39m.\u001b[39;00m\u001b[39m_utils\u001b[39;00m \u001b[39mimport\u001b[39;00m check_versions\n\u001b[1;32m      8\u001b[0m     check_versions()\n\u001b[1;32m      9\u001b[0m     \u001b[39mdel\u001b[39;00m check_versions, within_flit\n",
      "File \u001b[0;32m~/software/anaconda3/envs/scRNA_analysis/lib/python3.10/site-packages/scanpy/_utils/__init__.py:29\u001b[0m\n\u001b[1;32m     26\u001b[0m \u001b[39mfrom\u001b[39;00m \u001b[39m.\u001b[39;00m\u001b[39m.\u001b[39;00m\u001b[39m_compat\u001b[39;00m \u001b[39mimport\u001b[39;00m Literal\n\u001b[1;32m     27\u001b[0m \u001b[39mfrom\u001b[39;00m \u001b[39m.\u001b[39;00m\u001b[39m.\u001b[39;00m \u001b[39mimport\u001b[39;00m logging \u001b[39mas\u001b[39;00m logg\n\u001b[0;32m---> 29\u001b[0m \u001b[39mfrom\u001b[39;00m \u001b[39m.\u001b[39;00m\u001b[39mcompute\u001b[39;00m\u001b[39m.\u001b[39;00m\u001b[39mis_constant\u001b[39;00m \u001b[39mimport\u001b[39;00m is_constant\n\u001b[1;32m     32\u001b[0m \u001b[39mclass\u001b[39;00m \u001b[39mEmpty\u001b[39;00m(Enum):\n\u001b[1;32m     33\u001b[0m     token \u001b[39m=\u001b[39m \u001b[39m0\u001b[39m\n",
      "File \u001b[0;32m~/software/anaconda3/envs/scRNA_analysis/lib/python3.10/site-packages/scanpy/_utils/compute/is_constant.py:5\u001b[0m\n\u001b[1;32m      2\u001b[0m \u001b[39mfrom\u001b[39;00m \u001b[39mnumbers\u001b[39;00m \u001b[39mimport\u001b[39;00m Integral\n\u001b[1;32m      4\u001b[0m \u001b[39mimport\u001b[39;00m \u001b[39mnumpy\u001b[39;00m \u001b[39mas\u001b[39;00m \u001b[39mnp\u001b[39;00m\n\u001b[0;32m----> 5\u001b[0m \u001b[39mfrom\u001b[39;00m \u001b[39mnumba\u001b[39;00m \u001b[39mimport\u001b[39;00m njit\n\u001b[1;32m      6\u001b[0m \u001b[39mfrom\u001b[39;00m \u001b[39mscipy\u001b[39;00m \u001b[39mimport\u001b[39;00m sparse\n\u001b[1;32m      9\u001b[0m \u001b[39m@singledispatch\u001b[39m\n\u001b[1;32m     10\u001b[0m \u001b[39mdef\u001b[39;00m \u001b[39mis_constant\u001b[39m(a, axis\u001b[39m=\u001b[39m\u001b[39mNone\u001b[39;00m) \u001b[39m-\u001b[39m\u001b[39m>\u001b[39m np\u001b[39m.\u001b[39mndarray:\n",
      "File \u001b[0;32m~/software/anaconda3/envs/scRNA_analysis/lib/python3.10/site-packages/numba/__init__.py:69\u001b[0m\n\u001b[1;32m     65\u001b[0m \u001b[39mdel\u001b[39;00m get_versions\n\u001b[1;32m     66\u001b[0m \u001b[39mdel\u001b[39;00m generate_version_info\n\u001b[0;32m---> 69\u001b[0m \u001b[39mfrom\u001b[39;00m \u001b[39mnumba\u001b[39;00m\u001b[39m.\u001b[39;00m\u001b[39mcore\u001b[39;00m \u001b[39mimport\u001b[39;00m config\n\u001b[1;32m     70\u001b[0m \u001b[39mfrom\u001b[39;00m \u001b[39mnumba\u001b[39;00m\u001b[39m.\u001b[39;00m\u001b[39mcore\u001b[39;00m \u001b[39mimport\u001b[39;00m types, errors\n\u001b[1;32m     72\u001b[0m \u001b[39m# Re-export typeof\u001b[39;00m\n",
      "File \u001b[0;32m~/software/anaconda3/envs/scRNA_analysis/lib/python3.10/site-packages/numba/core/config.py:16\u001b[0m\n\u001b[1;32m     12\u001b[0m \u001b[39mexcept\u001b[39;00m \u001b[39mImportError\u001b[39;00m:\n\u001b[1;32m     13\u001b[0m     _HAVE_YAML \u001b[39m=\u001b[39m \u001b[39mFalse\u001b[39;00m\n\u001b[0;32m---> 16\u001b[0m \u001b[39mimport\u001b[39;00m \u001b[39mllvmlite\u001b[39;00m\u001b[39m.\u001b[39;00m\u001b[39mbinding\u001b[39;00m \u001b[39mas\u001b[39;00m \u001b[39mll\u001b[39;00m\n\u001b[1;32m     19\u001b[0m IS_WIN32 \u001b[39m=\u001b[39m sys\u001b[39m.\u001b[39mplatform\u001b[39m.\u001b[39mstartswith(\u001b[39m'\u001b[39m\u001b[39mwin32\u001b[39m\u001b[39m'\u001b[39m)\n\u001b[1;32m     20\u001b[0m IS_OSX \u001b[39m=\u001b[39m sys\u001b[39m.\u001b[39mplatform\u001b[39m.\u001b[39mstartswith(\u001b[39m'\u001b[39m\u001b[39mdarwin\u001b[39m\u001b[39m'\u001b[39m)\n",
      "File \u001b[0;32m~/software/anaconda3/envs/scRNA_analysis/lib/python3.10/site-packages/llvmlite/binding/__init__.py:4\u001b[0m\n\u001b[1;32m      1\u001b[0m \u001b[39m\"\"\"\u001b[39;00m\n\u001b[1;32m      2\u001b[0m \u001b[39mThings that rely on the LLVM library\u001b[39;00m\n\u001b[1;32m      3\u001b[0m \u001b[39m\"\"\"\u001b[39;00m\n\u001b[0;32m----> 4\u001b[0m \u001b[39mfrom\u001b[39;00m \u001b[39m.\u001b[39;00m\u001b[39mdylib\u001b[39;00m \u001b[39mimport\u001b[39;00m \u001b[39m*\u001b[39m\n\u001b[1;32m      5\u001b[0m \u001b[39mfrom\u001b[39;00m \u001b[39m.\u001b[39;00m\u001b[39mexecutionengine\u001b[39;00m \u001b[39mimport\u001b[39;00m \u001b[39m*\u001b[39m\n\u001b[1;32m      6\u001b[0m \u001b[39mfrom\u001b[39;00m \u001b[39m.\u001b[39;00m\u001b[39minitfini\u001b[39;00m \u001b[39mimport\u001b[39;00m \u001b[39m*\u001b[39m\n",
      "File \u001b[0;32m~/software/anaconda3/envs/scRNA_analysis/lib/python3.10/site-packages/llvmlite/binding/dylib.py:3\u001b[0m\n\u001b[1;32m      1\u001b[0m \u001b[39mfrom\u001b[39;00m \u001b[39mctypes\u001b[39;00m \u001b[39mimport\u001b[39;00m c_void_p, c_char_p, c_bool, POINTER\n\u001b[0;32m----> 3\u001b[0m \u001b[39mfrom\u001b[39;00m \u001b[39mllvmlite\u001b[39;00m\u001b[39m.\u001b[39;00m\u001b[39mbinding\u001b[39;00m \u001b[39mimport\u001b[39;00m ffi\n\u001b[1;32m      4\u001b[0m \u001b[39mfrom\u001b[39;00m \u001b[39mllvmlite\u001b[39;00m\u001b[39m.\u001b[39;00m\u001b[39mbinding\u001b[39;00m\u001b[39m.\u001b[39;00m\u001b[39mcommon\u001b[39;00m \u001b[39mimport\u001b[39;00m _encode_string\n\u001b[1;32m      7\u001b[0m \u001b[39mdef\u001b[39;00m \u001b[39maddress_of_symbol\u001b[39m(name):\n",
      "File \u001b[0;32m~/software/anaconda3/envs/scRNA_analysis/lib/python3.10/site-packages/llvmlite/binding/ffi.py:187\u001b[0m\n\u001b[1;32m    184\u001b[0m \u001b[39mexcept\u001b[39;00m \u001b[39mOSError\u001b[39;00m \u001b[39mas\u001b[39;00m e:\n\u001b[1;32m    185\u001b[0m     msg \u001b[39m=\u001b[39m \u001b[39mf\u001b[39m\u001b[39m\"\"\"\u001b[39m\u001b[39mCould not find/load shared object file: \u001b[39m\u001b[39m{\u001b[39;00m_lib_name\u001b[39m}\u001b[39;00m\n\u001b[1;32m    186\u001b[0m \u001b[39m Error was: \u001b[39m\u001b[39m{\u001b[39;00me\u001b[39m}\u001b[39;00m\u001b[39m\"\"\"\u001b[39m\n\u001b[0;32m--> 187\u001b[0m     \u001b[39mraise\u001b[39;00m \u001b[39mOSError\u001b[39;00m(msg)\n\u001b[1;32m    190\u001b[0m lib \u001b[39m=\u001b[39m _lib_wrapper(lib)\n\u001b[1;32m    193\u001b[0m \u001b[39mdef\u001b[39;00m \u001b[39mregister_lock_callback\u001b[39m(acq_fn, rel_fn):\n",
      "\u001b[0;31mOSError\u001b[0m: Could not find/load shared object file: libllvmlite.so\n Error was: /home/ouyangkang/software/anaconda3/envs/scRNA_analysis/lib/python3.10/site-packages/zmq/backend/cython/../../../../.././libstdc++.so.6: version `GLIBCXX_3.4.30' not found (required by /home/ouyangkang/software/anaconda3/envs/scRNA_analysis/lib/python3.10/site-packages/llvmlite/binding/../../../../libLLVM-14.so)"
     ]
    }
   ],
   "source": [
    "import scanpy as sc\n",
    "\n",
    "sc_data = sc.read_h5ad('/mnt/c/Users/ouyangkang/Desktop/convert_sc_data.h5ad')"
   ]
  },
  {
   "cell_type": "code",
   "execution_count": null,
   "metadata": {},
   "outputs": [],
   "source": []
  }
 ],
 "metadata": {
  "kernelspec": {
   "display_name": "scRNA_analysis",
   "language": "python",
   "name": "python3"
  },
  "language_info": {
   "codemirror_mode": {
    "name": "ipython",
    "version": 3
   },
   "file_extension": ".py",
   "mimetype": "text/x-python",
   "name": "python",
   "nbconvert_exporter": "python",
   "pygments_lexer": "ipython3",
   "version": "3.10.12"
  },
  "orig_nbformat": 4
 },
 "nbformat": 4,
 "nbformat_minor": 2
}
