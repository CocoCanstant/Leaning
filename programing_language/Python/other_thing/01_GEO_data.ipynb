{
 "cells": [
  {
   "cell_type": "code",
   "execution_count": 1,
   "metadata": {},
   "outputs": [],
   "source": [
    "# import needed packages\n",
    "import pandas as pd\n",
    "import requests\n",
    "from bs4 import BeautifulSoup\n",
    "import math\n",
    "import re\n",
    "import time"
   ]
  },
  {
   "cell_type": "code",
   "execution_count": 173,
   "metadata": {},
   "outputs": [],
   "source": [
    "# get id function\n",
    "def get_id(term):\n",
    "    id_list = []\n",
    "    API_KEY = \"59cbd6ff6b3ce5d506f0eeb69e4e09362409\"\n",
    "    url_search = f\"https://eutils.ncbi.nlm.nih.gov/entrez/eutils/esearch.fcgi?db=gds&api_key={API_KEY}&term={term}&retmax=200\"\n",
    "    info = BeautifulSoup(requests.get(url_search).text, 'lxml')\n",
    "    \n",
    "    term_count = int(info.find('count').text)\n",
    "    id_list += [single_term.text for single_term in info.find_all('id')]\n",
    "    \n",
    "    for page in range(1, math.ceil(term_count/200)):\n",
    "        page_url = f\"https://eutils.ncbi.nlm.nih.gov/entrez/eutils/esearch.fcgi?db=gds&api_key={API_KEY}&term={term}&retmax=200&retstart={page*200}\"\n",
    "        page_info = BeautifulSoup(requests.get(page_url).text, 'lxml')\n",
    "        id_list += [single_term.text for single_term in page_info.find_all('id')]\n",
    "    \n",
    "    return id_list, term_count\n"
   ]
  },
  {
   "cell_type": "code",
   "execution_count": 178,
   "metadata": {},
   "outputs": [
    {
     "name": "stderr",
     "output_type": "stream",
     "text": [
      "/home/ouyangkang/software/anaconda3/envs/ML/lib/python3.9/site-packages/bs4/builder/__init__.py:545: XMLParsedAsHTMLWarning: It looks like you're parsing an XML document using an HTML parser. If this really is an HTML document (maybe it's XHTML?), you can ignore or filter this warning. If it's XML, you should know that using an XML parser will be more reliable. To parse this document as XML, make sure you have the lxml package installed, and pass the keyword argument `features=\"xml\"` into the BeautifulSoup constructor.\n",
      "  warnings.warn(\n"
     ]
    }
   ],
   "source": [
    "term = \"(PBMC)+AND+(single-cell)\"\n",
    "id_list, term_count = get_id(term=term)"
   ]
  },
  {
   "cell_type": "code",
   "execution_count": 179,
   "metadata": {},
   "outputs": [
    {
     "data": {
      "text/plain": [
       "7151"
      ]
     },
     "execution_count": 179,
     "metadata": {},
     "output_type": "execute_result"
    }
   ],
   "source": [
    "len(id_list)"
   ]
  },
  {
   "cell_type": "code",
   "execution_count": 180,
   "metadata": {},
   "outputs": [
    {
     "name": "stdout",
     "output_type": "stream",
     "text": [
      "True\n",
      "7151\n"
     ]
    }
   ],
   "source": [
    "# check result\n",
    "print(len(set(id_list)) == term_count)\n",
    "print(term_count)"
   ]
  },
  {
   "cell_type": "code",
   "execution_count": 181,
   "metadata": {},
   "outputs": [],
   "source": [
    "# reserve result\n",
    "with open('/home/ouyangkang/Learning/Python/other_thing/term_search_id_result_11_5.txt', 'w') as f:\n",
    "    f.writelines(\"\\n\".join(id_list))"
   ]
  },
  {
   "cell_type": "code",
   "execution_count": 2,
   "metadata": {},
   "outputs": [],
   "source": [
    "with open('/home/ouyangkang/Learning/Python/other_thing/term_search_id_result_11_5.txt', 'r') as f:\n",
    "    id_list = [i.strip('\\n') for i in f.readlines()]"
   ]
  },
  {
   "cell_type": "code",
   "execution_count": 325,
   "metadata": {},
   "outputs": [],
   "source": [
    "# define a function to get detailed info\n",
    "def id_detailed(id_list): # the max capacity of id list is 20\n",
    "    API_KEY = \"59cbd6ff6b3ce5d506f0eeb69e4e09362409\"\n",
    "    return_list = []\n",
    "    \n",
    "    for page in range(math.ceil(len(id_list)/20)):\n",
    "        id_search = \",\".join(id_list[page*20:(page+1)*20])\n",
    "        headers = {\"User-Agent\": \"Mozilla/5.0 (Macintosh; Intel Mac OS X 10_15_7) AppleWebKit/537.36 (KHTML, like Gecko) Chrome/93.0.4577.63 Safari/537.36\",\n",
    "                       \"Accept-Encoding\": \"utf-8\"}\n",
    "        id_url = f\"https://eutils.ncbi.nlm.nih.gov/entrez/eutils/esummary.fcgi?db=gds&api_key={API_KEY}&id={id_search}&rettype=summary\"\n",
    "        id_info = BeautifulSoup(requests.get(id_url, headers=headers).text, 'html.parser')\n",
    "\n",
    "        # Title\n",
    "        title = [i.text for i in id_info.find_all('item', {'name': 'title'})]\n",
    "        # Summary\n",
    "        summary = [i.text for i in id_info.find_all('item', {'name': 'summary'})]\n",
    "        # GSE\n",
    "        accession_pattern = re.compile(r'</id>\\n<item name=\"Accession\" type=\"String\">([^<]+)</item>')\n",
    "        gse = [re.search(accession_pattern, str(id_info).split('<docsum>')[i]).group(1) for i in range(1, len(str(id_info).split('<docsum>')))]\n",
    "        # Taxon\n",
    "        taxon = [i.text for i in id_info.find_all('item', {'name': 'taxon'})]\n",
    "        # sequencing type\n",
    "        seq_type = [i.text for i in id_info.find_all('item', {'name': 'gdsType'})]\n",
    "        # Publish date\n",
    "        p_date = [i.text for i in id_info.find_all('item', {'name': 'PDAT'})]\n",
    "        # not each batch urls are 20\n",
    "        for num in range(len(id_list[page*20:(page+1)*20])):\n",
    "            return_list.append([title[num], summary[num], gse[num], taxon[num], seq_type[num], p_date[num]])\n",
    "        # print(f\"the {page*20}-{(page+1)*20} ids have finished\")\n",
    "        # print(page)\n",
    "\n",
    "\n",
    "    return return_list"
   ]
  },
  {
   "cell_type": "code",
   "execution_count": 321,
   "metadata": {},
   "outputs": [
    {
     "name": "stderr",
     "output_type": "stream",
     "text": [
      "/home/ouyangkang/software/anaconda3/envs/ML/lib/python3.9/site-packages/bs4/builder/__init__.py:545: XMLParsedAsHTMLWarning: It looks like you're parsing an XML document using an HTML parser. If this really is an HTML document (maybe it's XHTML?), you can ignore or filter this warning. If it's XML, you should know that using an XML parser will be more reliable. To parse this document as XML, make sure you have the lxml package installed, and pass the keyword argument `features=\"xml\"` into the BeautifulSoup constructor.\n",
      "  warnings.warn(\n"
     ]
    }
   ],
   "source": [
    "page = 10\n",
    "API_KEY = \"59cbd6ff6b3ce5d506f0eeb69e4e09362409\"\n",
    "id_search = \",\".join(id_list[page*20:(page+1)*20])\n",
    "headers = {\"User-Agent\": \"Mozilla/5.0 (Macintosh; Intel Mac OS X 10_15_7) AppleWebKit/537.36 (KHTML, like Gecko) Chrome/93.0.4577.63 Safari/537.36\",\n",
    "                \"Accept-Encoding\": \"utf-8\"}\n",
    "id_url = f\"https://eutils.ncbi.nlm.nih.gov/entrez/eutils/esummary.fcgi?db=gds&api_key={API_KEY}&id={id_search}&rettype=summary\"\n",
    "id_info = BeautifulSoup(requests.get(id_url, headers=headers).text, 'html.parser')"
   ]
  },
  {
   "cell_type": "code",
   "execution_count": 326,
   "metadata": {},
   "outputs": [],
   "source": [
    "result_info = id_detailed(id_list=id_list)"
   ]
  },
  {
   "cell_type": "code",
   "execution_count": 327,
   "metadata": {},
   "outputs": [
    {
     "name": "stdout",
     "output_type": "stream",
     "text": [
      "7151\n"
     ]
    }
   ],
   "source": [
    "# check length of each element\n",
    "for i in range(len(result_info)):\n",
    "    if len(result_info[i]) != 6:\n",
    "        print(result_info[i])\n",
    "\n",
    "print(len(result_info))"
   ]
  },
  {
   "cell_type": "code",
   "execution_count": 349,
   "metadata": {},
   "outputs": [],
   "source": [
    "# filter non-homo sapiens data and store result\n",
    "no_filtering_result = pd.DataFrame(result_info, columns=['Title', 'Summary', 'GSE', 'Taxon', 'Sequencing_type', 'Publish_date'])\n",
    "# avoid , impact csv format\n",
    "no_filtering_result['Title'] = no_filtering_result['Title'].str.replace(',', '__')\n",
    "no_filtering_result['Summary'] = no_filtering_result['Summary'].str.replace(',', '__')\n",
    "# filtering\n",
    "filtering_result = no_filtering_result[no_filtering_result['Taxon'].str.contains('Homo')]\n",
    "filtering_result.to_csv('/home/ouyangkang/Learning/Python/other_thing/GEO_filtering_result_11_5.csv', index=False, encoding='UTF-8')"
   ]
  },
  {
   "cell_type": "code",
   "execution_count": 2,
   "metadata": {},
   "outputs": [],
   "source": [
    "filtering_result = pd.read_csv('/home/ouyangkang/Learning/Python/other_thing/GEO_filtering_result_11_5.csv')"
   ]
  },
  {
   "cell_type": "code",
   "execution_count": 3,
   "metadata": {},
   "outputs": [
    {
     "data": {
      "text/html": [
       "<div>\n",
       "<style scoped>\n",
       "    .dataframe tbody tr th:only-of-type {\n",
       "        vertical-align: middle;\n",
       "    }\n",
       "\n",
       "    .dataframe tbody tr th {\n",
       "        vertical-align: top;\n",
       "    }\n",
       "\n",
       "    .dataframe thead th {\n",
       "        text-align: right;\n",
       "    }\n",
       "</style>\n",
       "<table border=\"1\" class=\"dataframe\">\n",
       "  <thead>\n",
       "    <tr style=\"text-align: right;\">\n",
       "      <th></th>\n",
       "      <th>Title</th>\n",
       "      <th>Summary</th>\n",
       "      <th>GSE</th>\n",
       "      <th>Taxon</th>\n",
       "      <th>Sequencing_type</th>\n",
       "      <th>Publish_date</th>\n",
       "    </tr>\n",
       "  </thead>\n",
       "  <tbody>\n",
       "    <tr>\n",
       "      <th>0</th>\n",
       "      <td>Factors contributing to Chimeric Antigen Recep...</td>\n",
       "      <td>Immune cell populations are composed of multip...</td>\n",
       "      <td>GSE187438</td>\n",
       "      <td>Homo sapiens</td>\n",
       "      <td>Expression profiling by high throughput sequen...</td>\n",
       "      <td>2023/11/02</td>\n",
       "    </tr>\n",
       "    <tr>\n",
       "      <th>1</th>\n",
       "      <td>Pathophysiology of androgen-associated endothe...</td>\n",
       "      <td>Abundant evidence suggests that women with pol...</td>\n",
       "      <td>GSE246456</td>\n",
       "      <td>Homo sapiens</td>\n",
       "      <td>Expression profiling by high throughput sequen...</td>\n",
       "      <td>2023/11/01</td>\n",
       "    </tr>\n",
       "    <tr>\n",
       "      <th>2</th>\n",
       "      <td>Immune landscape of PBMC based on single-cell ...</td>\n",
       "      <td>Although an increase in studies has revealed t...</td>\n",
       "      <td>GSE233315</td>\n",
       "      <td>Homo sapiens</td>\n",
       "      <td>Expression profiling by high throughput sequen...</td>\n",
       "      <td>2023/10/31</td>\n",
       "    </tr>\n",
       "    <tr>\n",
       "      <th>3</th>\n",
       "      <td>Gene expression profile at single cell level o...</td>\n",
       "      <td>We used single cell RNA sequencing (scRNAseq) ...</td>\n",
       "      <td>GSE229626</td>\n",
       "      <td>Homo sapiens</td>\n",
       "      <td>Expression profiling by high throughput sequen...</td>\n",
       "      <td>2023/10/31</td>\n",
       "    </tr>\n",
       "    <tr>\n",
       "      <th>4</th>\n",
       "      <td>Gene expression profiles of peripheral blood m...</td>\n",
       "      <td>An autoimmune B cell origin for childhood idio...</td>\n",
       "      <td>GSE233276</td>\n",
       "      <td>Homo sapiens</td>\n",
       "      <td>Expression profiling by high throughput sequen...</td>\n",
       "      <td>2023/10/29</td>\n",
       "    </tr>\n",
       "  </tbody>\n",
       "</table>\n",
       "</div>"
      ],
      "text/plain": [
       "                                               Title  \\\n",
       "0  Factors contributing to Chimeric Antigen Recep...   \n",
       "1  Pathophysiology of androgen-associated endothe...   \n",
       "2  Immune landscape of PBMC based on single-cell ...   \n",
       "3  Gene expression profile at single cell level o...   \n",
       "4  Gene expression profiles of peripheral blood m...   \n",
       "\n",
       "                                             Summary        GSE         Taxon  \\\n",
       "0  Immune cell populations are composed of multip...  GSE187438  Homo sapiens   \n",
       "1  Abundant evidence suggests that women with pol...  GSE246456  Homo sapiens   \n",
       "2  Although an increase in studies has revealed t...  GSE233315  Homo sapiens   \n",
       "3  We used single cell RNA sequencing (scRNAseq) ...  GSE229626  Homo sapiens   \n",
       "4  An autoimmune B cell origin for childhood idio...  GSE233276  Homo sapiens   \n",
       "\n",
       "                                     Sequencing_type Publish_date  \n",
       "0  Expression profiling by high throughput sequen...   2023/11/02  \n",
       "1  Expression profiling by high throughput sequen...   2023/11/01  \n",
       "2  Expression profiling by high throughput sequen...   2023/10/31  \n",
       "3  Expression profiling by high throughput sequen...   2023/10/31  \n",
       "4  Expression profiling by high throughput sequen...   2023/10/29  "
      ]
     },
     "execution_count": 3,
     "metadata": {},
     "output_type": "execute_result"
    }
   ],
   "source": [
    "filtering_result.head()"
   ]
  },
  {
   "cell_type": "code",
   "execution_count": 4,
   "metadata": {},
   "outputs": [
    {
     "name": "stdout",
     "output_type": "stream",
     "text": [
      "6968\n"
     ]
    },
    {
     "data": {
      "text/plain": [
       "{'GPL96'}"
      ]
     },
     "execution_count": 4,
     "metadata": {},
     "output_type": "execute_result"
    }
   ],
   "source": [
    "print(len(set(filtering_result['GSE'])))\n",
    "gse_list = list(set(filtering_result.GSE.tolist()))\n",
    "set(filtering_result[\"GSE\"].tolist()) - (set(filtering_result[filtering_result['GSE'].str.contains(\"GSM\")][\"GSE\"].tolist()) | set(filtering_result[filtering_result['GSE'].str.contains(\"GSE\")][\"GSE\"].tolist()))"
   ]
  },
  {
   "cell_type": "code",
   "execution_count": 20,
   "metadata": {},
   "outputs": [
    {
     "data": {
      "text/html": [
       "<div>\n",
       "<style scoped>\n",
       "    .dataframe tbody tr th:only-of-type {\n",
       "        vertical-align: middle;\n",
       "    }\n",
       "\n",
       "    .dataframe tbody tr th {\n",
       "        vertical-align: top;\n",
       "    }\n",
       "\n",
       "    .dataframe thead th {\n",
       "        text-align: right;\n",
       "    }\n",
       "</style>\n",
       "<table border=\"1\" class=\"dataframe\">\n",
       "  <thead>\n",
       "    <tr style=\"text-align: right;\">\n",
       "      <th></th>\n",
       "      <th>Title</th>\n",
       "      <th>Summary</th>\n",
       "      <th>GSE</th>\n",
       "      <th>Taxon</th>\n",
       "      <th>Sequencing_type</th>\n",
       "      <th>Publish_date</th>\n",
       "    </tr>\n",
       "  </thead>\n",
       "  <tbody>\n",
       "    <tr>\n",
       "      <th>0</th>\n",
       "      <td>Factors contributing to Chimeric Antigen Recep...</td>\n",
       "      <td>Immune cell populations are composed of multip...</td>\n",
       "      <td>GSE187438</td>\n",
       "      <td>Homo sapiens</td>\n",
       "      <td>Expression profiling by high throughput sequen...</td>\n",
       "      <td>2023/11/02</td>\n",
       "    </tr>\n",
       "    <tr>\n",
       "      <th>1</th>\n",
       "      <td>Pathophysiology of androgen-associated endothe...</td>\n",
       "      <td>Abundant evidence suggests that women with pol...</td>\n",
       "      <td>GSE246456</td>\n",
       "      <td>Homo sapiens</td>\n",
       "      <td>Expression profiling by high throughput sequen...</td>\n",
       "      <td>2023/11/01</td>\n",
       "    </tr>\n",
       "    <tr>\n",
       "      <th>2</th>\n",
       "      <td>Immune landscape of PBMC based on single-cell ...</td>\n",
       "      <td>Although an increase in studies has revealed t...</td>\n",
       "      <td>GSE233315</td>\n",
       "      <td>Homo sapiens</td>\n",
       "      <td>Expression profiling by high throughput sequen...</td>\n",
       "      <td>2023/10/31</td>\n",
       "    </tr>\n",
       "    <tr>\n",
       "      <th>3</th>\n",
       "      <td>Gene expression profile at single cell level o...</td>\n",
       "      <td>We used single cell RNA sequencing (scRNAseq) ...</td>\n",
       "      <td>GSE229626</td>\n",
       "      <td>Homo sapiens</td>\n",
       "      <td>Expression profiling by high throughput sequen...</td>\n",
       "      <td>2023/10/31</td>\n",
       "    </tr>\n",
       "    <tr>\n",
       "      <th>4</th>\n",
       "      <td>Gene expression profiles of peripheral blood m...</td>\n",
       "      <td>An autoimmune B cell origin for childhood idio...</td>\n",
       "      <td>GSE233276</td>\n",
       "      <td>Homo sapiens</td>\n",
       "      <td>Expression profiling by high throughput sequen...</td>\n",
       "      <td>2023/10/29</td>\n",
       "    </tr>\n",
       "    <tr>\n",
       "      <th>...</th>\n",
       "      <td>...</td>\n",
       "      <td>...</td>\n",
       "      <td>...</td>\n",
       "      <td>...</td>\n",
       "      <td>...</td>\n",
       "      <td>...</td>\n",
       "    </tr>\n",
       "    <tr>\n",
       "      <th>529</th>\n",
       "      <td>Comparison of haploid and diploid clones of KB...</td>\n",
       "      <td>The series were performed to study the changes...</td>\n",
       "      <td>GSE56465</td>\n",
       "      <td>Homo sapiens</td>\n",
       "      <td>Expression profiling by array</td>\n",
       "      <td>2014/04/10</td>\n",
       "    </tr>\n",
       "    <tr>\n",
       "      <th>530</th>\n",
       "      <td>Analysis of gene expression response of CLL ce...</td>\n",
       "      <td>In the marrow and lymphatic tissues__ chronic ...</td>\n",
       "      <td>GSE13811</td>\n",
       "      <td>Homo sapiens</td>\n",
       "      <td>Expression profiling by array</td>\n",
       "      <td>2008/12/11</td>\n",
       "    </tr>\n",
       "    <tr>\n",
       "      <th>531</th>\n",
       "      <td>Genetic alteration in recurrent melanoma</td>\n",
       "      <td>It is generally accepted that human cancers de...</td>\n",
       "      <td>GSE8777</td>\n",
       "      <td>Homo sapiens</td>\n",
       "      <td>Genome variation profiling by array</td>\n",
       "      <td>2008/07/22</td>\n",
       "    </tr>\n",
       "    <tr>\n",
       "      <th>532</th>\n",
       "      <td>SAGE and MPSS libraries from activated CD4+ T ...</td>\n",
       "      <td>SAGE and MPSS libraries were produced from the...</td>\n",
       "      <td>GSE8612</td>\n",
       "      <td>Homo sapiens</td>\n",
       "      <td>Expression profiling by SAGE; Expression profi...</td>\n",
       "      <td>2007/08/02</td>\n",
       "    </tr>\n",
       "    <tr>\n",
       "      <th>533</th>\n",
       "      <td>Convergence of TCR and IL-7 pathways leads to ...</td>\n",
       "      <td>The molecular events that are involved in the ...</td>\n",
       "      <td>GSE4741</td>\n",
       "      <td>Homo sapiens</td>\n",
       "      <td>Expression profiling by array</td>\n",
       "      <td>2007/01/09</td>\n",
       "    </tr>\n",
       "  </tbody>\n",
       "</table>\n",
       "<p>534 rows × 6 columns</p>\n",
       "</div>"
      ],
      "text/plain": [
       "                                                 Title  \\\n",
       "0    Factors contributing to Chimeric Antigen Recep...   \n",
       "1    Pathophysiology of androgen-associated endothe...   \n",
       "2    Immune landscape of PBMC based on single-cell ...   \n",
       "3    Gene expression profile at single cell level o...   \n",
       "4    Gene expression profiles of peripheral blood m...   \n",
       "..                                                 ...   \n",
       "529  Comparison of haploid and diploid clones of KB...   \n",
       "530  Analysis of gene expression response of CLL ce...   \n",
       "531           Genetic alteration in recurrent melanoma   \n",
       "532  SAGE and MPSS libraries from activated CD4+ T ...   \n",
       "533  Convergence of TCR and IL-7 pathways leads to ...   \n",
       "\n",
       "                                               Summary        GSE  \\\n",
       "0    Immune cell populations are composed of multip...  GSE187438   \n",
       "1    Abundant evidence suggests that women with pol...  GSE246456   \n",
       "2    Although an increase in studies has revealed t...  GSE233315   \n",
       "3    We used single cell RNA sequencing (scRNAseq) ...  GSE229626   \n",
       "4    An autoimmune B cell origin for childhood idio...  GSE233276   \n",
       "..                                                 ...        ...   \n",
       "529  The series were performed to study the changes...   GSE56465   \n",
       "530  In the marrow and lymphatic tissues__ chronic ...   GSE13811   \n",
       "531  It is generally accepted that human cancers de...    GSE8777   \n",
       "532  SAGE and MPSS libraries were produced from the...    GSE8612   \n",
       "533  The molecular events that are involved in the ...    GSE4741   \n",
       "\n",
       "            Taxon                                    Sequencing_type  \\\n",
       "0    Homo sapiens  Expression profiling by high throughput sequen...   \n",
       "1    Homo sapiens  Expression profiling by high throughput sequen...   \n",
       "2    Homo sapiens  Expression profiling by high throughput sequen...   \n",
       "3    Homo sapiens  Expression profiling by high throughput sequen...   \n",
       "4    Homo sapiens  Expression profiling by high throughput sequen...   \n",
       "..            ...                                                ...   \n",
       "529  Homo sapiens                      Expression profiling by array   \n",
       "530  Homo sapiens                      Expression profiling by array   \n",
       "531  Homo sapiens                Genome variation profiling by array   \n",
       "532  Homo sapiens  Expression profiling by SAGE; Expression profi...   \n",
       "533  Homo sapiens                      Expression profiling by array   \n",
       "\n",
       "    Publish_date  \n",
       "0     2023/11/02  \n",
       "1     2023/11/01  \n",
       "2     2023/10/31  \n",
       "3     2023/10/31  \n",
       "4     2023/10/29  \n",
       "..           ...  \n",
       "529   2014/04/10  \n",
       "530   2008/12/11  \n",
       "531   2008/07/22  \n",
       "532   2007/08/02  \n",
       "533   2007/01/09  \n",
       "\n",
       "[534 rows x 6 columns]"
      ]
     },
     "execution_count": 20,
     "metadata": {},
     "output_type": "execute_result"
    }
   ],
   "source": [
    "filtering_result[filtering_result.GSE.str.contains('GSE')]"
   ]
  },
  {
   "cell_type": "markdown",
   "metadata": {},
   "source": [
    "Because the results of web spiber include GSE, GSM and GPL causing it is a chanllege to construct an unique function to get same infomation, my strategy is using GPL and GSM to get GSE info"
   ]
  },
  {
   "cell_type": "code",
   "execution_count": 10,
   "metadata": {},
   "outputs": [],
   "source": [
    "gse_list = filtering_result[filtering_result[\"GSE\"].str.contains(\"GSE\")]['GSE'].tolist()"
   ]
  },
  {
   "cell_type": "code",
   "execution_count": 15,
   "metadata": {},
   "outputs": [],
   "source": [
    "def get_gse_info(gse_list):\n",
    "    result_list = []\n",
    "    for gse in gse_list:\n",
    "        try:\n",
    "            gse_url = f\"https://www.ncbi.nlm.nih.gov/geo/query/acc.cgi?acc={gse}\"\n",
    "            headers = {\"User-Agent\": \"Mozilla/5.0 (Macintosh; Intel Mac OS X 10_15_7) AppleWebKit/537.36 (KHTML, like Gecko) Chrome/93.0.4577.63 Safari/537.36\"}\n",
    "            gse_response = requests.get(gse_url, headers=headers,timeout=(30, 10))\n",
    "            gse_response.encoding = 'utf-8'\n",
    "            gse_info = BeautifulSoup(gse_response.text, 'html.parser')\n",
    "\n",
    "\n",
    "            getting_info = gse_info.find_all('td', {\"style\": \"text-align: justify\"})\n",
    "            # title\n",
    "            title_info = getting_info[0].text\n",
    "            # summary\n",
    "            summary_info = getting_info[1].text\n",
    "            # over design\n",
    "            design_info = getting_info[2].text\n",
    "            # organization name\n",
    "            org_name = getting_info[3].text\n",
    "            # country\n",
    "            country = getting_info[-1].text\n",
    "            # Experiment type\n",
    "            exp_pattern = re.compile(r'<td>(.*)<br/></td>')\n",
    "            exp_type = re.findall(exp_pattern, str(gse_info))[0]\n",
    "            # contributor\n",
    "            contributor = \";\".join([i.text for i in gse_info.find_all('a', href=lambda value: value and '/pubmed/?term' in value)])\n",
    "            # pmid\n",
    "            try:\n",
    "                pmid = gse_info.find('span', {'class': 'pubmed_id'}).text\n",
    "            except:\n",
    "                pmid = None\n",
    "            # submission time and last update time\n",
    "            time_pattern = re.compile(r'<td>([A-Z][a-z]+ \\d{1,2}, \\d{4})</td>')\n",
    "            # first time is submission date, second last update date\n",
    "            sub_time = re.findall(time_pattern, str(gse_info))[0]\n",
    "            last_update_time = re.findall(time_pattern, str(gse_info))[1] \n",
    "            # platform\n",
    "            platform = gse_info.find_all('td', {'valign':'top'})[1].text\n",
    "            # sample\n",
    "            gsm_list = []\n",
    "            for i in gse_info.find_all('td', {'valign':'top'}):\n",
    "                gsm = i.find('a', href=lambda value: value and '/geo/query/acc.cgi?acc' in value)\n",
    "                if \"GSM\" in str(gsm):\n",
    "                    gsm_list.append(gsm.get('href').strip('/geo/query/acc.cgi?acc='))\n",
    "            sample_info = \";\".join(gsm_list)\n",
    "            # status\n",
    "            statu_pattern = re.compile(r'<td>Public on (.*)</td>')\n",
    "            statu = re.findall(statu_pattern, str(gse_info))[0]\n",
    "\n",
    "            # \"GSE\", \"Title\", \"PMID\",\"Summary\", \"Design\", \"Experiment_type\", \"Platform\", \"Contributors\", \"Organization_name\", \"Country\", \"Sample\", \"Status\", \"Submission_date\", \"Last_update_date\"\n",
    "            result_list.append([gse, title_info, pmid, summary_info,design_info, exp_type, platform, contributor, org_name, country, sample_info, statu, sub_time, last_update_time])\n",
    "            time.sleep(2)\n",
    "        except:\n",
    "            print(gse)\n",
    "    return result_list"
   ]
  },
  {
   "cell_type": "code",
   "execution_count": 12,
   "metadata": {},
   "outputs": [
    {
     "name": "stdout",
     "output_type": "stream",
     "text": [
      "GSE161329\n",
      "GSE147928\n"
     ]
    }
   ],
   "source": [
    "gse_result = get_gse_info(gse_list)"
   ]
  },
  {
   "cell_type": "code",
   "execution_count": 16,
   "metadata": {},
   "outputs": [],
   "source": [
    "remaining_gse = ['GSE161329', 'GSE147928']\n",
    "remaining_result = get_gse_info(remaining_gse)"
   ]
  },
  {
   "cell_type": "code",
   "execution_count": 18,
   "metadata": {},
   "outputs": [],
   "source": [
    "for result in remaining_result:\n",
    "    gse_result.append(result)"
   ]
  },
  {
   "cell_type": "code",
   "execution_count": 20,
   "metadata": {},
   "outputs": [],
   "source": [
    "result_print = pd.DataFrame(gse_result, columns=[\"GSE\", \"Title\", \"PMID\",\"Summary\", \"Design\", \"Experiment_type\", \"Platform\", \"Contributors\", \"Organization_name\", \"Country\", \"Sample\", \"Status\", \"Submission_date\", \"Last_update_date\"])\n",
    "result_print.to_csv('/home/ouyangkang/Learning/Python/other_thing/gse_detailed_result.csv', index=None)"
   ]
  },
  {
   "cell_type": "code",
   "execution_count": 21,
   "metadata": {},
   "outputs": [
    {
     "data": {
      "text/html": [
       "<div>\n",
       "<style scoped>\n",
       "    .dataframe tbody tr th:only-of-type {\n",
       "        vertical-align: middle;\n",
       "    }\n",
       "\n",
       "    .dataframe tbody tr th {\n",
       "        vertical-align: top;\n",
       "    }\n",
       "\n",
       "    .dataframe thead th {\n",
       "        text-align: right;\n",
       "    }\n",
       "</style>\n",
       "<table border=\"1\" class=\"dataframe\">\n",
       "  <thead>\n",
       "    <tr style=\"text-align: right;\">\n",
       "      <th></th>\n",
       "      <th>GSE</th>\n",
       "      <th>Title</th>\n",
       "      <th>PMID</th>\n",
       "      <th>Summary</th>\n",
       "      <th>Design</th>\n",
       "      <th>Experiment_type</th>\n",
       "      <th>Platform</th>\n",
       "      <th>Contributors</th>\n",
       "      <th>Organization_name</th>\n",
       "      <th>Country</th>\n",
       "      <th>Sample</th>\n",
       "      <th>Status</th>\n",
       "      <th>Submission_date</th>\n",
       "      <th>Last_update_date</th>\n",
       "    </tr>\n",
       "  </thead>\n",
       "  <tbody>\n",
       "    <tr>\n",
       "      <th>0</th>\n",
       "      <td>GSE187438</td>\n",
       "      <td>Factors contributing to Chimeric Antigen Recep...</td>\n",
       "      <td>None</td>\n",
       "      <td>Immune cell populations are composed of multip...</td>\n",
       "      <td>PBMC or BMMC from the patients' blood or bone ...</td>\n",
       "      <td>Expression profiling by high throughput sequen...</td>\n",
       "      <td>Illumina HiSeq 4000 (Homo sapiens)</td>\n",
       "      <td>Li N;Rana T;Zhu Z</td>\n",
       "      <td>University of California, San Diego</td>\n",
       "      <td>USA</td>\n",
       "      <td>GSM5668378;GSM5668379;GSM5668380;GSM5668381;GS...</td>\n",
       "      <td>Nov 02, 2023</td>\n",
       "      <td>Nov 03, 2021</td>\n",
       "      <td>Nov 02, 2023</td>\n",
       "    </tr>\n",
       "    <tr>\n",
       "      <th>1</th>\n",
       "      <td>GSE246456</td>\n",
       "      <td>Pathophysiology of androgen-associated endothe...</td>\n",
       "      <td>None</td>\n",
       "      <td>Abundant evidence suggests that women with pol...</td>\n",
       "      <td>single-cell RNA-seq</td>\n",
       "      <td>Expression profiling by high throughput sequen...</td>\n",
       "      <td>Illumina NextSeq 500 (Homo sapiens)</td>\n",
       "      <td>Wu CE;Ho HN</td>\n",
       "      <td>National Taiwan University Hospital</td>\n",
       "      <td>Taiwan</td>\n",
       "      <td>GSM7869173;GSM7869174;GSM7869175;GSM7869176</td>\n",
       "      <td>Nov 01, 2023</td>\n",
       "      <td>Oct 27, 2023</td>\n",
       "      <td>Nov 01, 2023</td>\n",
       "    </tr>\n",
       "    <tr>\n",
       "      <th>2</th>\n",
       "      <td>GSE233315</td>\n",
       "      <td>Immune landscape of PBMC based on single-cell ...</td>\n",
       "      <td>None</td>\n",
       "      <td>Although an increase in studies has revealed t...</td>\n",
       "      <td>In this case‒control study, 14 male and 6 fema...</td>\n",
       "      <td>Expression profiling by high throughput sequen...</td>\n",
       "      <td>Illumina NovaSeq 6000 (Homo sapiens)</td>\n",
       "      <td>Zhang R;Liu X;Li R</td>\n",
       "      <td>The Second Hospital of Shanxi Medical University</td>\n",
       "      <td>China</td>\n",
       "      <td>GSM7422419;GSM7422420</td>\n",
       "      <td>Oct 31, 2023</td>\n",
       "      <td>May 24, 2023</td>\n",
       "      <td>Oct 31, 2023</td>\n",
       "    </tr>\n",
       "    <tr>\n",
       "      <th>3</th>\n",
       "      <td>GSE229626</td>\n",
       "      <td>Gene expression profile at single cell level o...</td>\n",
       "      <td>None</td>\n",
       "      <td>We used single cell RNA sequencing (scRNAseq) ...</td>\n",
       "      <td>Purified human T cells from six healthy donors...</td>\n",
       "      <td>Expression profiling by high throughput sequen...</td>\n",
       "      <td>NextSeq 2000 (Homo sapiens)</td>\n",
       "      <td>Vantourout P;Eum J;Conde Poole M;Hayday TS;Lai...</td>\n",
       "      <td>Marengo Therapeutics</td>\n",
       "      <td>USA</td>\n",
       "      <td>GSM7169472;GSM7169473;GSM7169474;GSM7169475;GS...</td>\n",
       "      <td>Oct 31, 2023</td>\n",
       "      <td>Apr 13, 2023</td>\n",
       "      <td>Oct 31, 2023</td>\n",
       "    </tr>\n",
       "    <tr>\n",
       "      <th>4</th>\n",
       "      <td>GSE233276</td>\n",
       "      <td>Gene expression profiles of peripheral blood m...</td>\n",
       "      <td>None</td>\n",
       "      <td>An autoimmune B cell origin for childhood idio...</td>\n",
       "      <td>PBMC were isolated from the blood of four chil...</td>\n",
       "      <td>Expression profiling by high throughput sequen...</td>\n",
       "      <td>Illumina NovaSeq 6000 (Homo sapiens)</td>\n",
       "      <td>Al-Aubodah T;Piccirillo CA;Takano T</td>\n",
       "      <td>McGill University</td>\n",
       "      <td>Canada</td>\n",
       "      <td>GSM7421512;GSM7421513;GSM7421514;GSM7421515;GS...</td>\n",
       "      <td>Oct 29, 2023</td>\n",
       "      <td>May 23, 2023</td>\n",
       "      <td>Oct 30, 2023</td>\n",
       "    </tr>\n",
       "  </tbody>\n",
       "</table>\n",
       "</div>"
      ],
      "text/plain": [
       "         GSE                                              Title  PMID  \\\n",
       "0  GSE187438  Factors contributing to Chimeric Antigen Recep...  None   \n",
       "1  GSE246456  Pathophysiology of androgen-associated endothe...  None   \n",
       "2  GSE233315  Immune landscape of PBMC based on single-cell ...  None   \n",
       "3  GSE229626  Gene expression profile at single cell level o...  None   \n",
       "4  GSE233276  Gene expression profiles of peripheral blood m...  None   \n",
       "\n",
       "                                             Summary  \\\n",
       "0  Immune cell populations are composed of multip...   \n",
       "1  Abundant evidence suggests that women with pol...   \n",
       "2  Although an increase in studies has revealed t...   \n",
       "3  We used single cell RNA sequencing (scRNAseq) ...   \n",
       "4  An autoimmune B cell origin for childhood idio...   \n",
       "\n",
       "                                              Design  \\\n",
       "0  PBMC or BMMC from the patients' blood or bone ...   \n",
       "1                                single-cell RNA-seq   \n",
       "2  In this case‒control study, 14 male and 6 fema...   \n",
       "3  Purified human T cells from six healthy donors...   \n",
       "4  PBMC were isolated from the blood of four chil...   \n",
       "\n",
       "                                     Experiment_type  \\\n",
       "0  Expression profiling by high throughput sequen...   \n",
       "1  Expression profiling by high throughput sequen...   \n",
       "2  Expression profiling by high throughput sequen...   \n",
       "3  Expression profiling by high throughput sequen...   \n",
       "4  Expression profiling by high throughput sequen...   \n",
       "\n",
       "                               Platform  \\\n",
       "0    Illumina HiSeq 4000 (Homo sapiens)   \n",
       "1   Illumina NextSeq 500 (Homo sapiens)   \n",
       "2  Illumina NovaSeq 6000 (Homo sapiens)   \n",
       "3           NextSeq 2000 (Homo sapiens)   \n",
       "4  Illumina NovaSeq 6000 (Homo sapiens)   \n",
       "\n",
       "                                        Contributors  \\\n",
       "0                                  Li N;Rana T;Zhu Z   \n",
       "1                                        Wu CE;Ho HN   \n",
       "2                                 Zhang R;Liu X;Li R   \n",
       "3  Vantourout P;Eum J;Conde Poole M;Hayday TS;Lai...   \n",
       "4                Al-Aubodah T;Piccirillo CA;Takano T   \n",
       "\n",
       "                                  Organization_name Country  \\\n",
       "0               University of California, San Diego     USA   \n",
       "1               National Taiwan University Hospital  Taiwan   \n",
       "2  The Second Hospital of Shanxi Medical University   China   \n",
       "3                              Marengo Therapeutics     USA   \n",
       "4                                 McGill University  Canada   \n",
       "\n",
       "                                              Sample        Status  \\\n",
       "0  GSM5668378;GSM5668379;GSM5668380;GSM5668381;GS...  Nov 02, 2023   \n",
       "1        GSM7869173;GSM7869174;GSM7869175;GSM7869176  Nov 01, 2023   \n",
       "2                              GSM7422419;GSM7422420  Oct 31, 2023   \n",
       "3  GSM7169472;GSM7169473;GSM7169474;GSM7169475;GS...  Oct 31, 2023   \n",
       "4  GSM7421512;GSM7421513;GSM7421514;GSM7421515;GS...  Oct 29, 2023   \n",
       "\n",
       "  Submission_date Last_update_date  \n",
       "0    Nov 03, 2021     Nov 02, 2023  \n",
       "1    Oct 27, 2023     Nov 01, 2023  \n",
       "2    May 24, 2023     Oct 31, 2023  \n",
       "3    Apr 13, 2023     Oct 31, 2023  \n",
       "4    May 23, 2023     Oct 30, 2023  "
      ]
     },
     "execution_count": 21,
     "metadata": {},
     "output_type": "execute_result"
    }
   ],
   "source": [
    "result_print.head()"
   ]
  },
  {
   "cell_type": "code",
   "execution_count": 24,
   "metadata": {},
   "outputs": [],
   "source": [
    "filtering_gsm = set(filtering_result[filtering_result[\"GSE\"].str.contains(\"GSM\")]['GSE'].tolist())"
   ]
  },
  {
   "cell_type": "code",
   "execution_count": 36,
   "metadata": {},
   "outputs": [
    {
     "name": "stdout",
     "output_type": "stream",
     "text": [
      "the count of repeated gsm_id of gse result is 2910\n",
      "the count of excluding gsm of gse result if 2855\n"
     ]
    }
   ],
   "source": [
    "result_included_gsm = []\n",
    "for gsm_list in result_print[\"Sample\"].str.split(';').tolist():\n",
    "    result_included_gsm += gsm_list\n",
    "\n",
    "print(f\"the count of repeated gsm_id of gse result is {len(result_included_gsm) - len(set(result_included_gsm))}\")\n",
    "\n",
    "remaining_gsm = list(set(filtering_result[filtering_result[\"GSE\"].str.contains(\"GSM\")]['GSE'].tolist()) - set(result_included_gsm))\n",
    "print(f\"the count of excluding gsm of gse result if {len(remaining_gsm)}\")"
   ]
  },
  {
   "cell_type": "code",
   "execution_count": 60,
   "metadata": {},
   "outputs": [],
   "source": [
    "def gsm_to_gse(gsm_list):\n",
    "    result_info = []\n",
    "\n",
    "    for gsm in gsm_list:\n",
    "        try:\n",
    "            gsm_url = f\"https://www.ncbi.nlm.nih.gov/geo/query/acc.cgi?acc={gsm}\"\n",
    "            headers = {\"User-Agent\": \"Mozilla/5.0 (Macintosh; Intel Mac OS X 10_15_7) AppleWebKit/537.36 (KHTML, like Gecko) Chrome/93.0.4577.63 Safari/537.36\"}\n",
    "            gsm_response = requests.get(gsm_url, headers=headers,timeout=(30, 10))\n",
    "            gsm_response.encoding = 'utf-8'\n",
    "            gsm_info = BeautifulSoup(gsm_response.text, 'html.parser')\n",
    "            result_info += [i.text for i in gsm_info.find_all('td', {\"valign\": \"top\"}) if \"GSE\" in str(i)]\n",
    "            time.sleep(1)\n",
    "        except:\n",
    "            print(gsm)\n",
    "\n",
    "    return result_info"
   ]
  },
  {
   "cell_type": "code",
   "execution_count": 61,
   "metadata": {},
   "outputs": [
    {
     "name": "stdout",
     "output_type": "stream",
     "text": [
      "GSM2842344\n"
     ]
    }
   ],
   "source": [
    "gse_from_gsm_list = gsm_to_gse(remaining_gsm)"
   ]
  },
  {
   "cell_type": "markdown",
   "metadata": {},
   "source": [
    "check finding GSM2842344 corresponding GSE106540, GSE106544"
   ]
  },
  {
   "cell_type": "code",
   "execution_count": 65,
   "metadata": {},
   "outputs": [
    {
     "data": {
      "text/plain": [
       "set()"
      ]
     },
     "execution_count": 65,
     "metadata": {},
     "output_type": "execute_result"
    }
   ],
   "source": [
    "gse_from_gsm_filtering = list(set(gse_from_gsm_list))\n",
    "set(gse_from_gsm_filtering) - set(gse_list)"
   ]
  },
  {
   "cell_type": "code",
   "execution_count": 77,
   "metadata": {},
   "outputs": [],
   "source": [
    "pmid_list = []\n",
    "for pmid in result_print[~result_print['PMID'].isna()][\"PMID\"].str.split(','):\n",
    "    pmid_list += pmid\n",
    "\n",
    "pmid_list = list(set(pmid_list))"
   ]
  },
  {
   "cell_type": "code",
   "execution_count": null,
   "metadata": {},
   "outputs": [],
   "source": [
    "# detailed infomation of lituraures\n",
    "def get_literature_info(literature_list):\n",
    "    result_info = []\n",
    "    API_KEY = '59cbd6ff6b3ce5d506f0eeb69e4e09362409'\n",
    "    try:\n",
    "        for pmid in literature_list:\n",
    "            pmid_url = f'https://eutils.ncbi.nlm.nih.gov/entrez/eutils/efetch.fcgi?db=pubmed&id={pmid}&api_key={API_KEY}&rettype=medline&retmode=text'\n",
    "            pmid_respond = requests.get(pmid_url, timeout=(15, 10))\n",
    "            pmid_respond.encoding = 'utf-8'\n",
    "            literature = str(BeautifulSoup(pmid_respond.text, 'html.parser'))\n",
    "\n",
    "            # DOI\n",
    "            if '[doi]' in literature:\n",
    "                doi = literature.split('[doi]')[0].split(' - ')[-1].strip()\n",
    "            else:\n",
    "                doi = \"\"\n",
    "            # title\n",
    "            title = literature.split('AB  - ')[1].split(' - ')[0].replace(\"\\n      \", \"\").split('\\n')[0]\n",
    "            # abstract\n",
    "            abs = literature.split('AB  - ')[1].split(' - ')[0].replace(\"\\n      \", \"\").split('\\n')[0]\n",
    "            # 1st author\n",
    "            author = literature.split('FAU - ')[1].split('\\n')[0]\n",
    "            # 1st affiliation\n",
    "            tmp_affiliation = literature.split('FAU - ')[1]\n",
    "            if \"AD  - \" in tmp_affiliation:\n",
    "                affiliation = tmp_affiliation.split('AD  - ')[1].replace(\"\\n      \", \"\").strip('\\n')\n",
    "            else:\n",
    "                affiliation = \"\"\n",
    "            # Journel\n",
    "            journel = literature.split('TA  - ')[1].split('\\n')[0]\n",
    "            # publication time\n",
    "            publication_time = literature.split('SO  - ')[1].split(';')[0].split('. ')[1]\n",
    "            if ':' in publication_time:\n",
    "                publication_time = publication_time.split(':')[0]\n",
    "    except:\n",
    "        print()"
   ]
  },
  {
   "cell_type": "code",
   "execution_count": 84,
   "metadata": {},
   "outputs": [],
   "source": [
    "pmid = pmid_list[0]\n",
    "API_KEY = '59cbd6ff6b3ce5d506f0eeb69e4e09362409'\n",
    "pmid_url = f'https://eutils.ncbi.nlm.nih.gov/entrez/eutils/efetch.fcgi?db=pubmed&id={pmid}&api_key={API_KEY}&rettype=medline&retmode=text'#medline\n",
    "pmid_respond = requests.get(pmid_url, timeout=(15, 10))"
   ]
  },
  {
   "cell_type": "code",
   "execution_count": 93,
   "metadata": {},
   "outputs": [],
   "source": [
    "literature = str(BeautifulSoup(pmid_respond.text, 'html.parser'))"
   ]
  },
  {
   "cell_type": "code",
   "execution_count": 100,
   "metadata": {},
   "outputs": [
    {
     "name": "stdout",
     "output_type": "stream",
     "text": [
      "A comprehensive platform for analyzing longitudinal multi-omics data.\n",
      "10.1038/s41467-023-37432-w\n",
      "Allen Institute for Immunology, Seattle, WA, 98109, USA. suhas.vasaikar@alleninstitute.org.\n",
      "2023 Mar 27\n"
     ]
    }
   ],
   "source": [
    "# abstract\n",
    "literature.split('AB  - ')[1].split(' - ')[0].replace(\"\\n      \", \"\").split('\\n')[0]\n",
    "# title\n",
    "title = re.split(r'\\n[A-Z]{2,3}\\s', literature.split('TI  - ')[1])[0].replace(\"\\n      \", \"\")\n",
    "if '\\n' in title:\n",
    "    title = title.replace(\"\\n      \", \"\")\n",
    "print(title)\n",
    "# DOI\n",
    "if '[doi]' in literature:\n",
    "    doi = literature.split('[doi]')[0].split(' - ')[-1].strip()\n",
    "else:\n",
    "    doi = \"\"\n",
    "print(doi)\n",
    "# 1st author\n",
    "literature.split('FAU - ')[1].split('\\n')[0]\n",
    "# \n",
    "tmp_affiliation = literature.split('FAU - ')[1]\n",
    "if \"AD  - \" in tmp_affiliation:\n",
    "    affiliation = tmp_affiliation.split('AD  - ')[1].replace(\"\\n      \", \"\").strip('\\n')\n",
    "else:\n",
    "    affiliation = \"\"\n",
    "print(affiliation)\n",
    "\n",
    "literature.split('TA  - ')[1].split('\\n')[0]\n",
    "\n",
    "publication_time = literature.split('SO  - ')[1].split(';')[0].split('. ')[1]\n",
    "if ':' in publication_time:\n",
    "    publication_time = publication_time.split(':')[0]\n",
    "print(publication_time)"
   ]
  },
  {
   "cell_type": "code",
   "execution_count": null,
   "metadata": {},
   "outputs": [],
   "source": []
  }
 ],
 "metadata": {
  "kernelspec": {
   "display_name": "scRNA",
   "language": "python",
   "name": "python3"
  },
  "language_info": {
   "codemirror_mode": {
    "name": "ipython",
    "version": 3
   },
   "file_extension": ".py",
   "mimetype": "text/x-python",
   "name": "python",
   "nbconvert_exporter": "python",
   "pygments_lexer": "ipython3",
   "version": "3.9.16"
  }
 },
 "nbformat": 4,
 "nbformat_minor": 2
}
