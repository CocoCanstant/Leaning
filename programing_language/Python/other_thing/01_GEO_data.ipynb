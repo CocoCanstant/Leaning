{
 "cells": [
  {
   "cell_type": "code",
   "execution_count": 172,
   "metadata": {},
   "outputs": [],
   "source": [
    "# import needed packages\n",
    "import pandas as pd\n",
    "import requests\n",
    "from bs4 import BeautifulSoup\n",
    "import math\n",
    "import re\n",
    "import time"
   ]
  },
  {
   "cell_type": "code",
   "execution_count": 173,
   "metadata": {},
   "outputs": [],
   "source": [
    "# get id function\n",
    "def get_id(term):\n",
    "    id_list = []\n",
    "    API_KEY = \"59cbd6ff6b3ce5d506f0eeb69e4e09362409\"\n",
    "    url_search = f\"https://eutils.ncbi.nlm.nih.gov/entrez/eutils/esearch.fcgi?db=gds&api_key={API_KEY}&term={term}&retmax=200\"\n",
    "    info = BeautifulSoup(requests.get(url_search).text, 'lxml')\n",
    "    \n",
    "    term_count = int(info.find('count').text)\n",
    "    id_list += [single_term.text for single_term in info.find_all('id')]\n",
    "    \n",
    "    for page in range(1, math.ceil(term_count/200)):\n",
    "        page_url = f\"https://eutils.ncbi.nlm.nih.gov/entrez/eutils/esearch.fcgi?db=gds&api_key={API_KEY}&term={term}&retmax=200&retstart={page*200}\"\n",
    "        page_info = BeautifulSoup(requests.get(page_url).text, 'lxml')\n",
    "        id_list += [single_term.text for single_term in page_info.find_all('id')]\n",
    "    \n",
    "    return id_list, term_count\n"
   ]
  },
  {
   "cell_type": "code",
   "execution_count": 178,
   "metadata": {},
   "outputs": [
    {
     "name": "stderr",
     "output_type": "stream",
     "text": [
      "/home/ouyangkang/software/anaconda3/envs/ML/lib/python3.9/site-packages/bs4/builder/__init__.py:545: XMLParsedAsHTMLWarning: It looks like you're parsing an XML document using an HTML parser. If this really is an HTML document (maybe it's XHTML?), you can ignore or filter this warning. If it's XML, you should know that using an XML parser will be more reliable. To parse this document as XML, make sure you have the lxml package installed, and pass the keyword argument `features=\"xml\"` into the BeautifulSoup constructor.\n",
      "  warnings.warn(\n"
     ]
    }
   ],
   "source": [
    "term = \"(PBMC)+AND+(single-cell)\"\n",
    "id_list, term_count = get_id(term=term)"
   ]
  },
  {
   "cell_type": "code",
   "execution_count": 179,
   "metadata": {},
   "outputs": [
    {
     "data": {
      "text/plain": [
       "7151"
      ]
     },
     "execution_count": 179,
     "metadata": {},
     "output_type": "execute_result"
    }
   ],
   "source": [
    "len(id_list)"
   ]
  },
  {
   "cell_type": "code",
   "execution_count": 180,
   "metadata": {},
   "outputs": [
    {
     "name": "stdout",
     "output_type": "stream",
     "text": [
      "True\n",
      "7151\n"
     ]
    }
   ],
   "source": [
    "# check result\n",
    "print(len(set(id_list)) == term_count)\n",
    "print(term_count)"
   ]
  },
  {
   "cell_type": "code",
   "execution_count": 181,
   "metadata": {},
   "outputs": [],
   "source": [
    "# reserve result\n",
    "with open('/home/ouyangkang/Learning/Python/other_thing/term_search_id_result_11_5.txt', 'w') as f:\n",
    "    f.writelines(\"\\n\".join(id_list))"
   ]
  },
  {
   "cell_type": "code",
   "execution_count": 2,
   "metadata": {},
   "outputs": [],
   "source": [
    "with open('/home/ouyangkang/Learning/Python/other_thing/term_search_id_result_11_5.txt', 'r') as f:\n",
    "    id_list = [i.strip('\\n') for i in f.readlines()]"
   ]
  },
  {
   "cell_type": "code",
   "execution_count": 325,
   "metadata": {},
   "outputs": [],
   "source": [
    "# define a function to get detailed info\n",
    "def id_detailed(id_list): # the max capacity of id list is 20\n",
    "    API_KEY = \"59cbd6ff6b3ce5d506f0eeb69e4e09362409\"\n",
    "    return_list = []\n",
    "    \n",
    "    for page in range(math.ceil(len(id_list)/20)):\n",
    "        id_search = \",\".join(id_list[page*20:(page+1)*20])\n",
    "        headers = {\"User-Agent\": \"Mozilla/5.0 (Macintosh; Intel Mac OS X 10_15_7) AppleWebKit/537.36 (KHTML, like Gecko) Chrome/93.0.4577.63 Safari/537.36\",\n",
    "                       \"Accept-Encoding\": \"utf-8\"}\n",
    "        id_url = f\"https://eutils.ncbi.nlm.nih.gov/entrez/eutils/esummary.fcgi?db=gds&api_key={API_KEY}&id={id_search}&rettype=summary\"\n",
    "        id_info = BeautifulSoup(requests.get(id_url, headers=headers).text, 'html.parser')\n",
    "\n",
    "        # Title\n",
    "        title = [i.text for i in id_info.find_all('item', {'name': 'title'})]\n",
    "        # Summary\n",
    "        summary = [i.text for i in id_info.find_all('item', {'name': 'summary'})]\n",
    "        # GSE\n",
    "        accession_pattern = re.compile(r'</id>\\n<item name=\"Accession\" type=\"String\">([^<]+)</item>')\n",
    "        gse = [re.search(accession_pattern, str(id_info).split('<docsum>')[i]).group(1) for i in range(1, len(str(id_info).split('<docsum>')))]\n",
    "        # Taxon\n",
    "        taxon = [i.text for i in id_info.find_all('item', {'name': 'taxon'})]\n",
    "        # sequencing type\n",
    "        seq_type = [i.text for i in id_info.find_all('item', {'name': 'gdsType'})]\n",
    "        # Publish date\n",
    "        p_date = [i.text for i in id_info.find_all('item', {'name': 'PDAT'})]\n",
    "        # not each batch urls are 20\n",
    "        for num in range(len(id_list[page*20:(page+1)*20])):\n",
    "            return_list.append([title[num], summary[num], gse[num], taxon[num], seq_type[num], p_date[num]])\n",
    "        # print(f\"the {page*20}-{(page+1)*20} ids have finished\")\n",
    "        # print(page)\n",
    "\n",
    "\n",
    "    return return_list"
   ]
  },
  {
   "cell_type": "code",
   "execution_count": 321,
   "metadata": {},
   "outputs": [
    {
     "name": "stderr",
     "output_type": "stream",
     "text": [
      "/home/ouyangkang/software/anaconda3/envs/ML/lib/python3.9/site-packages/bs4/builder/__init__.py:545: XMLParsedAsHTMLWarning: It looks like you're parsing an XML document using an HTML parser. If this really is an HTML document (maybe it's XHTML?), you can ignore or filter this warning. If it's XML, you should know that using an XML parser will be more reliable. To parse this document as XML, make sure you have the lxml package installed, and pass the keyword argument `features=\"xml\"` into the BeautifulSoup constructor.\n",
      "  warnings.warn(\n"
     ]
    }
   ],
   "source": [
    "page = 10\n",
    "API_KEY = \"59cbd6ff6b3ce5d506f0eeb69e4e09362409\"\n",
    "id_search = \",\".join(id_list[page*20:(page+1)*20])\n",
    "headers = {\"User-Agent\": \"Mozilla/5.0 (Macintosh; Intel Mac OS X 10_15_7) AppleWebKit/537.36 (KHTML, like Gecko) Chrome/93.0.4577.63 Safari/537.36\",\n",
    "                \"Accept-Encoding\": \"utf-8\"}\n",
    "id_url = f\"https://eutils.ncbi.nlm.nih.gov/entrez/eutils/esummary.fcgi?db=gds&api_key={API_KEY}&id={id_search}&rettype=summary\"\n",
    "id_info = BeautifulSoup(requests.get(id_url, headers=headers).text, 'html.parser')"
   ]
  },
  {
   "cell_type": "code",
   "execution_count": 326,
   "metadata": {},
   "outputs": [],
   "source": [
    "result_info = id_detailed(id_list=id_list)"
   ]
  },
  {
   "cell_type": "code",
   "execution_count": 327,
   "metadata": {},
   "outputs": [
    {
     "name": "stdout",
     "output_type": "stream",
     "text": [
      "7151\n"
     ]
    }
   ],
   "source": [
    "# check length of each element\n",
    "for i in range(len(result_info)):\n",
    "    if len(result_info[i]) != 6:\n",
    "        print(result_info[i])\n",
    "\n",
    "print(len(result_info))"
   ]
  },
  {
   "cell_type": "code",
   "execution_count": 349,
   "metadata": {},
   "outputs": [],
   "source": [
    "# filter non-homo sapiens data and store result\n",
    "no_filtering_result = pd.DataFrame(result_info, columns=['Title', 'Summary', 'GSE', 'Taxon', 'Sequencing_type', 'Publish_date'])\n",
    "# avoid , impact csv format\n",
    "no_filtering_result['Title'] = no_filtering_result['Title'].str.replace(',', '__')\n",
    "no_filtering_result['Summary'] = no_filtering_result['Summary'].str.replace(',', '__')\n",
    "# filtering\n",
    "filtering_result = no_filtering_result[no_filtering_result['Taxon'].str.contains('Homo')]\n",
    "filtering_result.to_csv('/home/ouyangkang/Learning/Python/other_thing/GEO_filtering_result_11_5.csv', index=False, encoding='UTF-8')"
   ]
  },
  {
   "cell_type": "code",
   "execution_count": 26,
   "metadata": {},
   "outputs": [],
   "source": [
    "filtering_result = pd.read_csv('/home/ouyangkang/Learning/Python/other_thing/GEO_filtering_result_11_5.csv')"
   ]
  },
  {
   "cell_type": "code",
   "execution_count": 352,
   "metadata": {},
   "outputs": [
    {
     "data": {
      "text/html": [
       "<div>\n",
       "<style scoped>\n",
       "    .dataframe tbody tr th:only-of-type {\n",
       "        vertical-align: middle;\n",
       "    }\n",
       "\n",
       "    .dataframe tbody tr th {\n",
       "        vertical-align: top;\n",
       "    }\n",
       "\n",
       "    .dataframe thead th {\n",
       "        text-align: right;\n",
       "    }\n",
       "</style>\n",
       "<table border=\"1\" class=\"dataframe\">\n",
       "  <thead>\n",
       "    <tr style=\"text-align: right;\">\n",
       "      <th></th>\n",
       "      <th>Title</th>\n",
       "      <th>Summary</th>\n",
       "      <th>GSE</th>\n",
       "      <th>Taxon</th>\n",
       "      <th>Sequencing_type</th>\n",
       "      <th>Publish_date</th>\n",
       "    </tr>\n",
       "  </thead>\n",
       "  <tbody>\n",
       "    <tr>\n",
       "      <th>0</th>\n",
       "      <td>Factors contributing to Chimeric Antigen Recep...</td>\n",
       "      <td>Immune cell populations are composed of multip...</td>\n",
       "      <td>GSE187438</td>\n",
       "      <td>Homo sapiens</td>\n",
       "      <td>Expression profiling by high throughput sequen...</td>\n",
       "      <td>2023/11/02</td>\n",
       "    </tr>\n",
       "    <tr>\n",
       "      <th>1</th>\n",
       "      <td>Pathophysiology of androgen-associated endothe...</td>\n",
       "      <td>Abundant evidence suggests that women with pol...</td>\n",
       "      <td>GSE246456</td>\n",
       "      <td>Homo sapiens</td>\n",
       "      <td>Expression profiling by high throughput sequen...</td>\n",
       "      <td>2023/11/01</td>\n",
       "    </tr>\n",
       "    <tr>\n",
       "      <th>2</th>\n",
       "      <td>Immune landscape of PBMC based on single-cell ...</td>\n",
       "      <td>Although an increase in studies has revealed t...</td>\n",
       "      <td>GSE233315</td>\n",
       "      <td>Homo sapiens</td>\n",
       "      <td>Expression profiling by high throughput sequen...</td>\n",
       "      <td>2023/10/31</td>\n",
       "    </tr>\n",
       "    <tr>\n",
       "      <th>3</th>\n",
       "      <td>Gene expression profile at single cell level o...</td>\n",
       "      <td>We used single cell RNA sequencing (scRNAseq) ...</td>\n",
       "      <td>GSE229626</td>\n",
       "      <td>Homo sapiens</td>\n",
       "      <td>Expression profiling by high throughput sequen...</td>\n",
       "      <td>2023/10/31</td>\n",
       "    </tr>\n",
       "    <tr>\n",
       "      <th>4</th>\n",
       "      <td>Gene expression profiles of peripheral blood m...</td>\n",
       "      <td>An autoimmune B cell origin for childhood idio...</td>\n",
       "      <td>GSE233276</td>\n",
       "      <td>Homo sapiens</td>\n",
       "      <td>Expression profiling by high throughput sequen...</td>\n",
       "      <td>2023/10/29</td>\n",
       "    </tr>\n",
       "  </tbody>\n",
       "</table>\n",
       "</div>"
      ],
      "text/plain": [
       "                                               Title  \\\n",
       "0  Factors contributing to Chimeric Antigen Recep...   \n",
       "1  Pathophysiology of androgen-associated endothe...   \n",
       "2  Immune landscape of PBMC based on single-cell ...   \n",
       "3  Gene expression profile at single cell level o...   \n",
       "4  Gene expression profiles of peripheral blood m...   \n",
       "\n",
       "                                             Summary        GSE         Taxon  \\\n",
       "0  Immune cell populations are composed of multip...  GSE187438  Homo sapiens   \n",
       "1  Abundant evidence suggests that women with pol...  GSE246456  Homo sapiens   \n",
       "2  Although an increase in studies has revealed t...  GSE233315  Homo sapiens   \n",
       "3  We used single cell RNA sequencing (scRNAseq) ...  GSE229626  Homo sapiens   \n",
       "4  An autoimmune B cell origin for childhood idio...  GSE233276  Homo sapiens   \n",
       "\n",
       "                                     Sequencing_type Publish_date  \n",
       "0  Expression profiling by high throughput sequen...   2023/11/02  \n",
       "1  Expression profiling by high throughput sequen...   2023/11/01  \n",
       "2  Expression profiling by high throughput sequen...   2023/10/31  \n",
       "3  Expression profiling by high throughput sequen...   2023/10/31  \n",
       "4  Expression profiling by high throughput sequen...   2023/10/29  "
      ]
     },
     "execution_count": 352,
     "metadata": {},
     "output_type": "execute_result"
    }
   ],
   "source": [
    "filtering_result.head()"
   ]
  },
  {
   "cell_type": "code",
   "execution_count": 361,
   "metadata": {},
   "outputs": [
    {
     "name": "stdout",
     "output_type": "stream",
     "text": [
      "6968\n"
     ]
    },
    {
     "data": {
      "text/plain": [
       "{'GPL96'}"
      ]
     },
     "execution_count": 361,
     "metadata": {},
     "output_type": "execute_result"
    }
   ],
   "source": [
    "print(len(set(filtering_result['GSE'])))\n",
    "ges_list = list(set(filtering_result.GSE.tolist()))\n",
    "set(filtering_result[\"GSE\"].tolist()) - (set(filtering_result[filtering_result['GSE'].str.contains(\"GSM\")][\"GSE\"].tolist()) | set(filtering_result[filtering_result['GSE'].str.contains(\"GSE\")][\"GSE\"].tolist()))"
   ]
  },
  {
   "cell_type": "code",
   "execution_count": null,
   "metadata": {},
   "outputs": [],
   "source": []
  },
  {
   "cell_type": "code",
   "execution_count": 164,
   "metadata": {},
   "outputs": [],
   "source": [
    "def get_ges_info(ges_list):\n",
    "    result_list = []\n",
    "    for ges in ges_list:\n",
    "        try:\n",
    "            ges_url = f\"https://www.ncbi.nlm.nih.gov/geo/query/acc.cgi?acc={ges}\"\n",
    "            headers = {\"User-Agent\": \"Mozilla/5.0 (Macintosh; Intel Mac OS X 10_15_7) AppleWebKit/537.36 (KHTML, like Gecko) Chrome/93.0.4577.63 Safari/537.36\",\n",
    "                       \"Accept-Encoding\": \"utf-8\"}\n",
    "            ges_info = BeautifulSoup(requests.get(ges_url, headers=headers,timeout=(30, 10)).text, 'html.parser')\n",
    "\n",
    "            info_pattern = re.compile(r'<td style=\"text-align: justify\">(.*)</td>')\n",
    "            getting_info = re.findall(info_pattern, str(ges_info))\n",
    "            # title\n",
    "            title_info = getting_info[0]\n",
    "            # summary\n",
    "            summary_info = getting_info[1].strip('<br/>')\n",
    "            # over design\n",
    "            design_info = getting_info[2].strip('<br/>')\n",
    "            # organization name\n",
    "            org_name = getting_info[3].strip('<br/>')\n",
    "            # city\n",
    "            city = getting_info[-3]\n",
    "            # country\n",
    "            country = getting_info[-1]\n",
    "            # Experiment type\n",
    "            exp_pattern = re.compile(r'<td>(.*)<br/></td>')\n",
    "            exp_type = re.findall(exp_pattern, str(ges_info))[0]\n",
    "            # contributor\n",
    "            contributor = \";\".join([i.text for i in ges_info.find_all('a', href=lambda value: value and '/pubmed/?term' in value)])\n",
    "            # pmid\n",
    "            try:\n",
    "                pmid = ges_info.find('span', {'class': 'pubmed_id'}).text\n",
    "            except:\n",
    "                pmid = None\n",
    "            # submission time and last update time\n",
    "            time_pattern = re.compile(r'<td>([A-Z][a-z]+ \\d{1,2}, \\d{4})</td>')\n",
    "            # first time is submission date, second last update date\n",
    "            sub_time = re.findall(time_pattern, str(ges_info))[0]\n",
    "            last_update_time = re.findall(time_pattern, str(ges_info))[1] \n",
    "            # platform\n",
    "            platform = ges_info.find_all('td', {'valign':'top'})[1].text\n",
    "            # sample\n",
    "            gsm_list = []\n",
    "            for i in ges_info.find_all('td', {'valign':'top'}):\n",
    "                gsm = i.find('a', href=lambda value: value and '/geo/query/acc.cgi?acc' in value)\n",
    "                if \"GSM\" in str(gsm):\n",
    "                    gsm_list.append(gsm.get('href').strip('/geo/query/acc.cgi?acc='))\n",
    "            sample_info = \";\".join(gsm_list)\n",
    "            # status\n",
    "            statu_pattern = re.compile(r'<td>Public on (.*)</td>')\n",
    "            statu = re.findall(statu_pattern, str(ges_info))[0]\n",
    "\n",
    "            # \"GSE\", \"Title\", \"PMID\",\"Summary\", \"Design\", \"Experiment_type\", \"Platform\", \"Contributors\", \"Organization_name\", \"Country\", \"City\", \"Sample\", \"Status\", \"Submission_date\", \"Last_update_date\"\n",
    "            result_list.append([ges, title_info, pmid, summary_info,design_info, exp_type, platform, contributor, org_name, country, city, sample_info, statu, sub_time, last_update_time])\n",
    "            time.sleep(5)\n",
    "        except:\n",
    "            print(ges)\n",
    "    return result_list"
   ]
  },
  {
   "cell_type": "code",
   "execution_count": 165,
   "metadata": {},
   "outputs": [
    {
     "name": "stdout",
     "output_type": "stream",
     "text": [
      "GSE165238\n",
      "GSE132048\n",
      "GSE144744\n",
      "GSE165816\n"
     ]
    }
   ],
   "source": [
    "gse_result = get_ges_info(ges_list)"
   ]
  },
  {
   "cell_type": "code",
   "execution_count": 167,
   "metadata": {},
   "outputs": [],
   "source": [
    "check_ges = 'GSE165238'\n",
    "ges_url = f\"https://www.ncbi.nlm.nih.gov/geo/query/acc.cgi?acc={check_ges}\"\n",
    "headers = {\"User-Agent\": \"Mozilla/5.0 (Macintosh; Intel Mac OS X 10_15_7) AppleWebKit/537.36 (KHTML, like Gecko) Chrome/93.0.4577.63 Safari/537.36\",\n",
    "           \"Accept-Encoding\": \"utf-8\"}\n",
    "ges_info = BeautifulSoup(requests.get(ges_url, headers=headers, timeout=(30, 10)).text, 'html.parser')"
   ]
  },
  {
   "cell_type": "code",
   "execution_count": 168,
   "metadata": {},
   "outputs": [
    {
     "data": {
      "text/plain": [
       "'GSM5028734;GSM5028735;GSM5028736;GSM5028737;GSM5028738;GSM5028739;GSM5028740;GSM5028741;GSM5028742;GSM5028743;GSM5028744;GSM5028745;GSM5028746;GSM5028747;GSM5028748;GSM5028749'"
      ]
     },
     "execution_count": 168,
     "metadata": {},
     "output_type": "execute_result"
    }
   ],
   "source": [
    "gsm_list = []\n",
    "for i in ges_info.find_all('td', {'valign':'top'}):\n",
    "    gsm = i.find('a', href=lambda value: value and '/geo/query/acc.cgi?acc' in value)\n",
    "    if \"GSM\" in str(gsm):\n",
    "        gsm_list.append(gsm.get('href').strip('/geo/query/acc.cgi?acc='))\n",
    "sample_info = \";\".join(gsm_list)\n",
    "sample_info"
   ]
  },
  {
   "cell_type": "code",
   "execution_count": 170,
   "metadata": {},
   "outputs": [
    {
     "data": {
      "text/plain": [
       "'May 25, 2021'"
      ]
     },
     "execution_count": 170,
     "metadata": {},
     "output_type": "execute_result"
    }
   ],
   "source": [
    "statu_pattern = re.compile(r'<td>Public on (.*)</td>')\n",
    "statu = re.findall(statu_pattern, str(ges_info))[0]\n",
    "statu"
   ]
  },
  {
   "cell_type": "code",
   "execution_count": 166,
   "metadata": {},
   "outputs": [],
   "source": [
    "result_print = pd.DataFrame(gse_result, columns=[\"GSE\", \"Title\", \"PMID\",\"Summary\", \"Design\", \"Experiment_type\", \"Platform\", \"Contributors\", \"Organization_name\", \"Country\", \"City\", \"Sample\", \"Status\", \"Submission_date\", \"Last_update_date\"])\n",
    "result_print.to_csv('/home/ouyangkang/Learning/Python/other_thing/decoding_result.csv', index=None, encoding='utf-8')"
   ]
  },
  {
   "cell_type": "code",
   "execution_count": 163,
   "metadata": {},
   "outputs": [
    {
     "data": {
      "text/html": [
       "<div>\n",
       "<style scoped>\n",
       "    .dataframe tbody tr th:only-of-type {\n",
       "        vertical-align: middle;\n",
       "    }\n",
       "\n",
       "    .dataframe tbody tr th {\n",
       "        vertical-align: top;\n",
       "    }\n",
       "\n",
       "    .dataframe thead th {\n",
       "        text-align: right;\n",
       "    }\n",
       "</style>\n",
       "<table border=\"1\" class=\"dataframe\">\n",
       "  <thead>\n",
       "    <tr style=\"text-align: right;\">\n",
       "      <th></th>\n",
       "      <th>GSE</th>\n",
       "      <th>Title</th>\n",
       "      <th>PMID</th>\n",
       "      <th>Summary</th>\n",
       "      <th>Design</th>\n",
       "      <th>Experiment_type</th>\n",
       "      <th>Platform</th>\n",
       "      <th>Contributors</th>\n",
       "      <th>Organization_name</th>\n",
       "      <th>Country</th>\n",
       "      <th>City</th>\n",
       "      <th>Sample</th>\n",
       "      <th>Status</th>\n",
       "      <th>Submission_date</th>\n",
       "      <th>Last_update_date</th>\n",
       "    </tr>\n",
       "  </thead>\n",
       "  <tbody>\n",
       "    <tr>\n",
       "      <th>0</th>\n",
       "      <td>GSE165238</td>\n",
       "      <td>Tumor-associated hematopoietic stem and progen...</td>\n",
       "      <td>34162860</td>\n",
       "      <td>Brain tumors are typically immunosuppressive a...</td>\n",
       "      <td>Examination of single-cell transcriptomics fro...</td>\n",
       "      <td>Expression profiling by high throughput sequen...</td>\n",
       "      <td>Illumina NovaSeq 6000 (Homo sapiens)</td>\n",
       "      <td>Kebir S;Cima I;Dobersalske C</td>\n",
       "      <td>DKFZ-Division Translational Neurooncology at t...</td>\n",
       "      <td>Germany</td>\n",
       "      <td>Essen</td>\n",
       "      <td>GSM5028734;GSM5028735;GSM5028736;GSM5028737;GS...</td>\n",
       "      <td>May 25, 2021</td>\n",
       "      <td>Jan 21, 2021</td>\n",
       "      <td>Jul 14, 2021</td>\n",
       "    </tr>\n",
       "    <tr>\n",
       "      <th>1</th>\n",
       "      <td>GSE132048</td>\n",
       "      <td>Linking Indirect Effects of Cytomegalovirus to...</td>\n",
       "      <td>32494628</td>\n",
       "      <td>Purpose: To use next-generation sequencing (NG...</td>\n",
       "      <td>Methods:  mRNA profiles of human monocytes iso...</td>\n",
       "      <td>Expression profiling by high throughput sequen...</td>\n",
       "      <td>NextSeq 550 (Homo sapiens)</td>\n",
       "      <td>Sen P;Wilkie AR;Ji F;Taylor IJ;Velasquez-Palaf...</td>\n",
       "      <td>Massachusetts General Hospital</td>\n",
       "      <td>USA</td>\n",
       "      <td>Massachusetts</td>\n",
       "      <td>GSM3839716;GSM3839717;GSM3839718;GSM3839719;GS...</td>\n",
       "      <td>Apr 30, 2020</td>\n",
       "      <td>May 31, 2019</td>\n",
       "      <td>Aug 17, 2020</td>\n",
       "    </tr>\n",
       "    <tr>\n",
       "      <th>2</th>\n",
       "      <td>GSE227952</td>\n",
       "      <td>Ferric citrate and apo-transferrin enable eryt...</td>\n",
       "      <td>37626061</td>\n",
       "      <td>We describe a simple and reproducible culture ...</td>\n",
       "      <td>Single-cell RNA sequencing was performed using...</td>\n",
       "      <td>Expression profiling by high throughput sequen...</td>\n",
       "      <td>HiSeq X Ten (Homo sapiens)</td>\n",
       "      <td>Jeon S;Koh H;Han A;Kim J;Lee S;Lee J;Im S;Yoon...</td>\n",
       "      <td>82-43-240-6312</td>\n",
       "      <td>South Korea</td>\n",
       "      <td>Chungbuk</td>\n",
       "      <td>GSM7111359</td>\n",
       "      <td>Aug 31, 2023</td>\n",
       "      <td>Mar 22, 2023</td>\n",
       "      <td>Sep 01, 2023</td>\n",
       "    </tr>\n",
       "    <tr>\n",
       "      <th>3</th>\n",
       "      <td>GSE216883</td>\n",
       "      <td>Single cell transcriptome and surface protein ...</td>\n",
       "      <td>36787119</td>\n",
       "      <td>We unveiled the characteristics of pTh17s, whi...</td>\n",
       "      <td>We performed transcriptome and cytometric anal...</td>\n",
       "      <td>Expression profiling by high throughput sequen...</td>\n",
       "      <td>HiSeq X Ten (Homo sapiens)</td>\n",
       "      <td>Yi K;Jo S;Song W;Lee JS;Lee EY;Kim T</td>\n",
       "      <td>01096983470</td>\n",
       "      <td>South Korea</td>\n",
       "      <td>Daejeon</td>\n",
       "      <td>GSM6697222;GSM6697223;GSM6697224;GSM6697225;GS...</td>\n",
       "      <td>Feb 23, 2023</td>\n",
       "      <td>Oct 31, 2022</td>\n",
       "      <td>Feb 24, 2023</td>\n",
       "    </tr>\n",
       "    <tr>\n",
       "      <th>4</th>\n",
       "      <td>GSE218664</td>\n",
       "      <td>Early response evaluation by single cell signa...</td>\n",
       "      <td>36611026</td>\n",
       "      <td>Aberrant pro-survival signaling is a hallmark ...</td>\n",
       "      <td>In this study we investigate the singlaing res...</td>\n",
       "      <td>Expression profiling by high throughput sequen...</td>\n",
       "      <td>Illumina HiSeq 4000 (Homo sapiens)</td>\n",
       "      <td>Tore Gjertsen B;Sjo Tislevoll B;Srivastava A;H...</td>\n",
       "      <td>92689503</td>\n",
       "      <td>Norway</td>\n",
       "      <td>Bergen</td>\n",
       "      <td>GSM6754319;GSM6754320;GSM6754321;GSM6754322;GS...</td>\n",
       "      <td>Dec 02, 2022</td>\n",
       "      <td>Nov 23, 2022</td>\n",
       "      <td>Jan 25, 2023</td>\n",
       "    </tr>\n",
       "  </tbody>\n",
       "</table>\n",
       "</div>"
      ],
      "text/plain": [
       "         GSE                                              Title      PMID  \\\n",
       "0  GSE165238  Tumor-associated hematopoietic stem and progen...  34162860   \n",
       "1  GSE132048  Linking Indirect Effects of Cytomegalovirus to...  32494628   \n",
       "2  GSE227952  Ferric citrate and apo-transferrin enable eryt...  37626061   \n",
       "3  GSE216883  Single cell transcriptome and surface protein ...  36787119   \n",
       "4  GSE218664  Early response evaluation by single cell signa...  36611026   \n",
       "\n",
       "                                             Summary  \\\n",
       "0  Brain tumors are typically immunosuppressive a...   \n",
       "1  Purpose: To use next-generation sequencing (NG...   \n",
       "2  We describe a simple and reproducible culture ...   \n",
       "3  We unveiled the characteristics of pTh17s, whi...   \n",
       "4  Aberrant pro-survival signaling is a hallmark ...   \n",
       "\n",
       "                                              Design  \\\n",
       "0  Examination of single-cell transcriptomics fro...   \n",
       "1  Methods:  mRNA profiles of human monocytes iso...   \n",
       "2  Single-cell RNA sequencing was performed using...   \n",
       "3  We performed transcriptome and cytometric anal...   \n",
       "4  In this study we investigate the singlaing res...   \n",
       "\n",
       "                                     Experiment_type  \\\n",
       "0  Expression profiling by high throughput sequen...   \n",
       "1  Expression profiling by high throughput sequen...   \n",
       "2  Expression profiling by high throughput sequen...   \n",
       "3  Expression profiling by high throughput sequen...   \n",
       "4  Expression profiling by high throughput sequen...   \n",
       "\n",
       "                               Platform  \\\n",
       "0  Illumina NovaSeq 6000 (Homo sapiens)   \n",
       "1            NextSeq 550 (Homo sapiens)   \n",
       "2            HiSeq X Ten (Homo sapiens)   \n",
       "3            HiSeq X Ten (Homo sapiens)   \n",
       "4    Illumina HiSeq 4000 (Homo sapiens)   \n",
       "\n",
       "                                        Contributors  \\\n",
       "0                       Kebir S;Cima I;Dobersalske C   \n",
       "1  Sen P;Wilkie AR;Ji F;Taylor IJ;Velasquez-Palaf...   \n",
       "2  Jeon S;Koh H;Han A;Kim J;Lee S;Lee J;Im S;Yoon...   \n",
       "3               Yi K;Jo S;Song W;Lee JS;Lee EY;Kim T   \n",
       "4  Tore Gjertsen B;Sjo Tislevoll B;Srivastava A;H...   \n",
       "\n",
       "                                   Organization_name      Country  \\\n",
       "0  DKFZ-Division Translational Neurooncology at t...      Germany   \n",
       "1                     Massachusetts General Hospital          USA   \n",
       "2                                     82-43-240-6312  South Korea   \n",
       "3                                        01096983470  South Korea   \n",
       "4                                           92689503       Norway   \n",
       "\n",
       "            City                                             Sample  \\\n",
       "0          Essen  GSM5028734;GSM5028735;GSM5028736;GSM5028737;GS...   \n",
       "1  Massachusetts  GSM3839716;GSM3839717;GSM3839718;GSM3839719;GS...   \n",
       "2       Chungbuk                                         GSM7111359   \n",
       "3        Daejeon  GSM6697222;GSM6697223;GSM6697224;GSM6697225;GS...   \n",
       "4         Bergen  GSM6754319;GSM6754320;GSM6754321;GSM6754322;GS...   \n",
       "\n",
       "         Status Submission_date Last_update_date  \n",
       "0  May 25, 2021    Jan 21, 2021     Jul 14, 2021  \n",
       "1  Apr 30, 2020    May 31, 2019     Aug 17, 2020  \n",
       "2  Aug 31, 2023    Mar 22, 2023     Sep 01, 2023  \n",
       "3  Feb 23, 2023    Oct 31, 2022     Feb 24, 2023  \n",
       "4  Dec 02, 2022    Nov 23, 2022     Jan 25, 2023  "
      ]
     },
     "execution_count": 163,
     "metadata": {},
     "output_type": "execute_result"
    }
   ],
   "source": [
    "result_print.head()"
   ]
  },
  {
   "cell_type": "code",
   "execution_count": 33,
   "metadata": {},
   "outputs": [],
   "source": [
    "ges_list = list(set(filtering_result.GSE.tolist()))\n",
    "ges_url = f\"https://www.ncbi.nlm.nih.gov/geo/query/acc.cgi?acc={ges_list[0]}\"\n",
    "ges_info = BeautifulSoup(requests.get(ges_url, timeout=(5, 5)).text, 'html.parser')"
   ]
  },
  {
   "cell_type": "code",
   "execution_count": 34,
   "metadata": {},
   "outputs": [
    {
     "data": {
      "text/plain": [
       "<!DOCTYPE HTML PUBLIC \"-//W3C//DTD HTML 4.01 Transitional//EN\">\n",
       "\n",
       "<html>\n",
       "<head>\n",
       "<style type=\"text/css\">\n",
       "      a { text-decoration: none; }\n",
       "\t.bordergc {background-color: #6699CC;}\n",
       "\t.bordergd {background-color: #B6C7E5;}\n",
       "\t.borderge {background-color: #EEF3FB;}\n",
       "\t.bordergf {background-color: #FFFFFF;}\n",
       "\t.bordergg {background-color: #CCCCCC;}\n",
       "      .small8b { font-size:8pt;\n",
       "                font-family: ariel,helvetica,sans-serif;\n",
       "                color:#6633cc;\n",
       "              }\n",
       "      .small8db { font-size:8pt;\n",
       "                font-family: ariel,helvetica,sans-serif;\n",
       "                color:#4411aa;\n",
       "              }\n",
       "\n",
       "    </style>\n",
       "<meta content=\"text/html; charset=utf-8\" http-equiv=\"Content-Type\"/>\n",
       "<meta content=\"NCBI GEO Gene Expression Omnibus microarray oligonucleotide array SAGE\" name=\"keywords\"/>\n",
       "<meta content=\"NCBI's Gene Expression Omnibus (GEO) is a public archive and resource for gene expression data.\" name=\"description\"/>\n",
       "<meta content=\"geo\" name=\"ncbi_app\"/>\n",
       "<meta content=\"full\" name=\"ncbi_pdid\"/>\n",
       "<meta content=\"0C42D9045465FC510000000000000001\" name=\"ncbi_phid\"/>\n",
       "<meta content=\"0C42D9045465FC51_0000SID\" name=\"ncbi_sessionid\"/>\n",
       "<title>\n",
       "    GEO Accession viewer\n",
       "    </title>\n",
       "<link href=\"/corehtml/ncbi.css\" rel=\"stylesheet\"/>\n",
       "<!-- GEO_SCRIPT -->\n",
       "<script language=\"JavaScript1.2\" src=\"/coreweb/javascript/imagemouseover.js\"></script>\n",
       "<script language=\"JavaScript1.2\" src=\"/coreweb/javascript/show_message.js\"></script>\n",
       "<script src=\"/corehtml/jsutils/utils.1.js\" type=\"text/javascript\"></script>\n",
       "<script src=\"/corehtml/jsutils/remote_data_provider.1.js\" type=\"text/javascript\"></script>\n",
       "<script language=\"JavaScript1.2\" src=\"/geo/js/help_def_messages.js\"></script>\n",
       "<script type=\"text/javascript\">\n",
       "    window.onload = function () {\n",
       "        //old smaller style banner\n",
       "        display_global_alert = false;\n",
       "        \n",
       "        jQuery.getScript(\"/core/alerts/alerts.js\", function () {\n",
       "            galert(['#galerts_table','body > *:nth-child(1)'])\n",
       "        });\n",
       "    }\n",
       "</script>\n",
       "<link href=\"../info/geo_style.css\" rel=\"STYLESHEET\" type=\"text/css\"/>\n",
       "<link href=\"acc.css\" rel=\"stylesheet\" type=\"text/css\">\n",
       "<script language=\"Javascript\">\n",
       "\n",
       "  function OnFormFieldChange()\n",
       "  {\n",
       "    var view = document.getElementById(\"view\");\n",
       "\n",
       "    if(document.getElementById(\"ViewOptions\").form.value == 'html')\n",
       "    {\n",
       "        view.remove(3);\n",
       "        view.remove(2);\n",
       "    }\n",
       "    else\n",
       "    {\n",
       "        var NewOption = document.createElement(\"OPTION\");\n",
       "\n",
       "        NewOption.text = \"Full\";\n",
       "        NewOption.value = \"full\";\n",
       "\n",
       "        try\n",
       "        {\n",
       "            view.add(NewOption, null);\n",
       "        }\n",
       "        catch(ex)\n",
       "        {\n",
       "            view.add(NewOption);\n",
       "        }\n",
       "\n",
       "        NewOption = document.createElement(\"OPTION\");\n",
       "\n",
       "        NewOption.text = \"Data\";\n",
       "        NewOption.value = \"data\";\n",
       "\n",
       "        try\n",
       "        {\n",
       "            view.add(NewOption, null);\n",
       "        }\n",
       "        catch(ex)\n",
       "        {\n",
       "            view.add(NewOption);\n",
       "        }\n",
       "    }\n",
       "  }\n",
       "\n",
       "  function SubmitViewOptionsForm()\n",
       "  {\n",
       "\tvar form = document.forms.ViewOptions;\n",
       "    if(form.form.value == 'html')\n",
       "    {\n",
       "\t\tform.form.setAttribute('disabled','disabled');\n",
       "\t\tif (form.view.value == 'quick') {\n",
       "\t\t\tform.view.setAttribute('disabled','disabled');\n",
       "\t\t}\n",
       "\t\tif (form.targ.value == 'self') {\n",
       "\t\t\tform.targ.setAttribute('disabled','disabled');\n",
       "\t\t}\n",
       "        var token = document.getElementById(\"token_input\");\n",
       "        if (token) {\n",
       "            form.token.value = token.value;\n",
       "        } else {\n",
       "            form.token.setAttribute('disabled','disabled');\n",
       "        }\n",
       "        form.submit();\n",
       "    }\n",
       "    else\n",
       "    {\n",
       "        window.open(\"acc.cgi?acc=\" + form.acc.value + \"&targ=\" + form.targ.value +\n",
       "                  \"&form=\" + form.form.value + \"&view=\" + form.view.value, \"_self\");\n",
       "    }\n",
       "\n",
       "    return false;\n",
       "  }\n",
       "  \n",
       "  function ViewOptionsFormKeyDown(event)\n",
       "  {\n",
       "\tif (event == undefined)\n",
       "\t{    \n",
       "\t\tevent = window.event;\n",
       "\t}\n",
       "\tif (event.keyCode == 13)\n",
       "\t{\n",
       "\t\tSubmitViewOptionsForm();\n",
       "\t\treturn false;\n",
       "\t}\n",
       "  };\n",
       "\n",
       "  function OpenFTP(url)\n",
       "  {\n",
       "    window.open(url.replace('ftp://', 'https://'), '_blank');\n",
       "  }\n",
       "\n",
       "  function OpenLink(url, where)\n",
       "  {\n",
       "    window.open(url, where);\n",
       "  }\n",
       "\n",
       "  utils.addEvent(window, \"load\", OnFormFieldChange)\n",
       "  </script>\n",
       "</link></head>\n",
       "<body background=\"/coreweb/template1/pix/bg_main3.gif\" marginheight=\"20\" topmargin=\"20\">\n",
       "<script src=\"/core/jig/1.15.3/js/jig.min.js\" type=\"text/javascript\"></script>\n",
       "<script src=\"/corehtml/pmc/granthub/v1/granthubsearch.min.js\" type=\"text/javascript\"></script>\n",
       "<script src=\"/geo/js/dd_menu.js\" type=\"text/javascript\"></script>\n",
       "<table align=\"center\" border=\"0\" cellpadding=\"0\" cellspacing=\"0\" width=\"740\">\n",
       "<tr>\n",
       "<td>\n",
       "<table align=\"center\" border=\"0\" cellpadding=\"0\" cellspacing=\"0\" width=\"100%\">\n",
       "<tr>\n",
       "<td><a href=\"/\"><img alt=\"NCBI Logo\" border=\"0\" height=\"66\" src=\"/geo/img/ncbi_logo.gif\" width=\"145\"/></a></td>\n",
       "<td align=\"center\" background=\"/coreweb/template1/pix/top_bg_white.gif\" nowrap=\"\" valign=\"middle\" width=\"100%\"><img alt=\"\" border=\"0\" height=\"1\" src=\"/coreweb/template1/pix/pixel.gif\" width=\"550\"/><br/>\n",
       "<a href=\"/geo/\"><img alt=\"GEO Logo\" border=\"0\" src=\"/geo/img/geo_main.gif\"/></a>\n",
       "</td>\n",
       "<td align=\"right\" background=\"/coreweb/template1/pix/top_bg_white.gif\"><img alt=\"\" border=\"0\" height=\"66\" src=\"/coreweb/template1/pix/top_right.gif\" width=\"5\"/></td>\n",
       "</tr>\n",
       "</table>\n",
       "<table align=\"center\" border=\"0\" cellpadding=\"0\" cellspacing=\"0\" width=\"100%\">\n",
       "<tr>\n",
       "<td><img alt=\"\" border=\"0\" height=\"2\" src=\"/coreweb/template1/pix/top2_left.gif\" width=\"601\"/></td>\n",
       "<td background=\"/coreweb/template1/pix/top2_mid_bg.gif\" width=\"100%\"><img alt=\"\" border=\"0\" height=\"1\" src=\"/coreweb/template1/pix/pixel.gif\" width=\"1\"/></td>\n",
       "<td align=\"right\"><img alt=\"\" border=\"0\" height=\"2\" src=\"/coreweb/template1/pix/top2_right.gif\" width=\"14\"/></td>\n",
       "</tr>\n",
       "</table>\n",
       "<table align=\"center\" border=\"0\" cellpadding=\"0\" cellspacing=\"0\" id=\"galerts_table\" width=\"100%\"></table>\n",
       "<table align=\"center\" border=\"0\" cellpadding=\"0\" cellspacing=\"0\" width=\"100%\">\n",
       "<tr>\n",
       "<td><img alt=\"\" border=\"0\" height=\"16\" name=\"unl_menu_pix\" src=\"/coreweb/template1/pix/top3_ulm_no_a.gif\" usemap=\"#unlmenu\" width=\"145\"/></td>\n",
       "<td background=\"/coreweb/template1/pix/top3_mainmenu_mid_bg.gif\"><img alt=\"\" border=\"0\" height=\"16\" src=\"/coreweb/template1/pix/top3_mainmenu_left.gif\" width=\"3\"/></td>\n",
       "<td background=\"/coreweb/template1/pix/top3_mainmenu_mid_bg.gif\" nowrap=\"\" valign=\"middle\" width=\"100%\">\n",
       "<!-- GEO Navigation -->\n",
       "<ul id=\"geo_nav_bar\">\n",
       "<li><a href=\"#\">GEO Publications</a>\n",
       "<ul class=\"sublist\">\n",
       "<li><a href=\"/geo/info/GEOHandoutFinal.pdf\">Handout</a></li>\n",
       "<li><a href=\"http://nar.oxfordjournals.org/content/41/D1/D991.full\">NAR 2013 (latest)</a></li>\n",
       "<li><a href=\"http://nar.oupjournals.org/cgi/content/full/30/1/207?ijkey=oxMPOWseARs7o&amp;keytype=ref&amp;siteid=nar\">NAR 2002 (original)</a></li>\n",
       "<li><a href=\"/pmc/?term=4944384,3531084,3341798,3013736,2686538,2270403,1669752,1619900,1619899,539976,99122\">All publications</a></li>\n",
       "</ul>\n",
       "</li>\n",
       "<li><a href=\"/geo/info/faq.html\">FAQ</a></li>\n",
       "<li><a href=\"/geo/info/MIAME.html\" title=\"Minimum Information About a Microarray Experiment\">MIAME</a></li>\n",
       "<li><a href=\"mailto:geo@ncbi.nlm.nih.gov\">Email GEO</a></li>\n",
       "</ul>\n",
       "<!-- END GEO Navigation -->\n",
       "</td>\n",
       "<td align=\"right\" background=\"/coreweb/template1/pix/top3_mainmenu_mid_bg.gif\"><img alt=\"\" border=\"0\" height=\"16\" src=\"/coreweb/template1/pix/top3_mainmenu_right.gif\" width=\"5\"/></td>\n",
       "</tr>\n",
       "</table>\n",
       "<table align=\"center\" border=\"0\" cellpadding=\"0\" cellspacing=\"0\" width=\"100%\">\n",
       "<tr>\n",
       "<td><img alt=\"\" border=\"0\" height=\"4\" src=\"/coreweb/template1/pix/top4_ulm_left.gif\" width=\"145\"/></td>\n",
       "<td background=\"/coreweb/template1/pix/top4_mid_bg.gif\" width=\"100%\"><img alt=\"\" border=\"0\" height=\"1\" src=\"/coreweb/template1/pix/pixel.gif\" width=\"1\"/></td>\n",
       "<td align=\"right\" background=\"/coreweb/template1/pix/top4_mid_bg.gif\"><img alt=\"\" border=\"0\" height=\"4\" src=\"/coreweb/template1/pix/top4_ulm_right.gif\" width=\"5\"/></td>\n",
       "</tr>\n",
       "</table>\n",
       "<table align=\"center\" border=\"0\" cellpadding=\"0\" cellspacing=\"0\" width=\"100%\">\n",
       "<tr>\n",
       "<td background=\"/coreweb/template1/pix/main_left_bg.gif\" width=\"1\"><img alt=\"\" border=\"0\" height=\"3\" src=\"/coreweb/template1/pix/main_left_bg.gif\" width=\"4\"/></td>\n",
       "<td bgcolor=\"#F0F8FF\" width=\"10000\">\n",
       "<table cellpadding=\"0\" cellspacing=\"0\" width=\"100%\"><tr><td><font class=\"Top_Navigation_text\" color=\"#2F6E87\" face=\"Verdana\" size=\"+1\">   <a href=\"/\">NCBI</a> &gt; <a href=\"/geo\"><font color=\"\">GEO</font></a> &gt; <a href=\"acc.cgi\"><b>Accession Display</b></a><a href=\"javascript:RPopUpWindow_Set(geologinbar_location,260,120,'','','#E1EAE6','','#538AA9','MessageBox2');\" onmouseout=\"RPopUpWindow_Stop()\"><img alt=\"Help\" height=\"11\" src=\"/coreweb/images/long_help4.gif\" style=\"border: none\" width=\"19\"/></a></font></td>\n",
       "<td align=\"right\">Not logged in | <a href=\"/geo/submitter?ix=1D5doafwZFqYlMVm2HvFNqm4uny78j-IbQfWjHEXpKSvro1ACPKQdG3SVoevo1GUrZ15yvs0MBhFAZTgR8qQy\">Login</a><a href=\"javascript:RPopUpWindow_Set(geologinbar_login,260,200,'','','#E1EAE6','','#538AA9','MessageBox2');\" onmouseout=\"RPopUpWindow_Stop()\"><img alt=\"Help\" height=\"11\" src=\"/coreweb/images/long_help4.gif\" style=\"border: none\" width=\"19\"/></a></td>\n",
       "</tr></table>\n",
       "</td>\n",
       "<td background=\"/coreweb/template1/pix/main_right_bg.gif\" width=\"1\"><img alt=\"\" border=\"0\" height=\"3\" src=\"/coreweb/template1/pix/main_right_bg.gif\" width=\"4\"/></td>\n",
       "</tr>\n",
       "<tr>\n",
       "<td background=\"/coreweb/template1/pix/main_left_bg.gif\"><img alt=\"\" border=\"0\" height=\"1\" src=\"/coreweb/template1/pix/main_left_bg.gif\" width=\"4\"/></td>\n",
       "<td bgcolor=\"#E0EEEE\" width=\"10000\"><img alt=\"\" border=\"0\" height=\"1\" src=\"/coreweb/template1/pix/pixel.gif\" width=\"1\"/></td>\n",
       "<td align=\"right\" background=\"/coreweb/template1/pix/main_right_bg.gif\"><img alt=\"\" border=\"0\" height=\"1\" src=\"/coreweb/template1/pix/main_right_bg.gif\" width=\"4\"/></td>\n",
       "</tr>\n",
       "<tr>\n",
       "<td background=\"/coreweb/template1/pix/main_left_bg.gif\"><img alt=\"\" border=\"0\" height=\"3\" src=\"/coreweb/template1/pix/main_left_bg.gif\" width=\"4\"/></td>\n",
       "<td bgcolor=\"White\" width=\"100%\">\n",
       "<table align=\"center\" border=\"0\" width=\"98%\">\n",
       "<tr>\n",
       "<td>\n",
       "<table align=\"right\" border=\"0\" cellpadding=\"0\" cellspacing=\"0\" width=\"100%\">\n",
       "<tr>\n",
       "<td>\n",
       "<script src=\"acc.js\" type=\"text/javascript\"></script>\n",
       "<span id=\"msg_err\" style=\"color:red\"></span>\n",
       "<span id=\"msg_info\" style=\"color:blue\"></span>\n",
       "<table cellpadding=\"0\" cellspacing=\"0\" style=\"border: 1px solid #C0F8FF\"><tr><td><img alt=\" \" height=\"35\" src=\"/coreweb/template1/pix/pixel.gif\" width=\"1\"/></td>\n",
       "<td bgcolor=\"#F0F8FF\" width=\"100%\"><font color=\"#0066CC\" face=\"Arial\" size=\"1\"><div id=\"HelpMessage\" style=\"font: 11px/11px arial, sans-serif\"><strong>GEO help:</strong> Mouse over screen elements for information.</div></font></td>\n",
       "</tr></table>\n",
       "<form action=\"acc.cgi\" enctype=\"application/x-www-form-urlencoded\" id=\"ViewOptions\" method=\"POST\" name=\"ViewOptions\" target=\"_self\"><table border=\"0\" cellpadding=\"0\" cellspacing=\"0\" width=\"100%\"><tr><td></td>\n",
       "<td bgcolor=\"#CCCCCC\" nowrap=\"\" valign=\"middle\" width=\"100%\"><table align=\"left\" border=\"0\" cellpadding=\"0\" cellspacing=\"0\"><tr><td nowrap=\"\"><table border=\"0\" cellpadding=\"0\" cellspacing=\"0\"><tr><td valign=\"middle\"><input id=\"token\" name=\"token\" type=\"hidden\" value=\"\"/><label for=\"scope\">Scope: </label><select id=\"scope\" name=\"targ\" onmouseout=\"onLinkOut('HelpMessage' , geo_empty_help)\" onmouseover=\"onLinkOver('HelpMessage' , geoaxema_scope)\" style=\"font-size: 10px\"><option selected=\"\" value=\"self\">Self</option>\n",
       "<option value=\"gpl\">Platform</option>\n",
       "<option value=\"gsm\">Samples</option>\n",
       "<option value=\"gse\">Series</option>\n",
       "<option value=\"all\">Family</option>\n",
       "</select>\n",
       "  <label for=\"form\">Format: </label><select id=\"form\" name=\"form\" onchange=\"OnFormFieldChange()\" onmouseout=\"onLinkOut('HelpMessage' , geo_empty_help)\" onmouseover=\"onLinkOver('HelpMessage' , geoaxema_format)\" style=\"font-size: 10px\"><option value=\"html\">HTML</option>\n",
       "<option value=\"text\">SOFT</option>\n",
       "<option value=\"xml\">MINiML</option>\n",
       "</select>\n",
       "  <label for=\"view\">Amount: </label><select id=\"view\" name=\"view\" onmouseout=\"onLinkOut('HelpMessage' , geo_empty_help)\" onmouseover=\"onLinkOver('HelpMessage' , geoaxema_amount)\" style=\"font-size: 10px\"><option value=\"brief\">Brief</option>\n",
       "<option selected=\"\" value=\"quick\">Quick</option>\n",
       "</select>\n",
       " <label for=\"geo_acc\">GEO accession: </label><input id=\"geo_acc\" name=\"acc\" onkeydown=\"ViewOptionsFormKeyDown(event)\" onmouseout=\"onLinkOut('HelpMessage' , geo_empty_help)\" onmouseover=\"onLinkOver('HelpMessage' , geoaxema_acc)\" style=\"font-size: 10px\" type=\"text\" value=\"GSE165238\"/>  </td>\n",
       "<td valign=\"middle\"><img alt=\"Go\" border=\"0\" onclick=\"SubmitViewOptionsForm()\" onmouseout=\"onLinkOut('HelpMessage' , geo_empty_help)\" onmouseover=\"onLinkOver('HelpMessage' , geoaxema_go)\" src=\"/geo/img/buttons/go_button.gif\"/></td>\n",
       "</tr></table></td></tr></table></td>\n",
       "</tr></table></form>\n",
       "<table><tr><td><table cellpadding=\"2\" cellspacing=\"0\" width=\"600\"><tr bgcolor=\"#cccccc\" valign=\"top\"><td colspan=\"2\"><table width=\"600\"><tr><td><strong class=\"acc\" id=\"GSE165238\"><a href=\"/geo/query/acc.cgi?acc=GSE165238\" onmouseout=\"onLinkOut('HelpMessage' , geo_empty_help)\" onmouseover=\"onLinkOver('HelpMessage' , geoaxema_recenter)\">Series GSE165238</a></strong></td>\n",
       "<td></td>\n",
       "<td align=\"right\" onmouseout=\"onLinkOut('HelpMessage' , geo_empty_help)\" onmouseover=\"onLinkOver('HelpMessage' , geoaxema_gds)\"><a href=\"/gds/?term=GSE165238[Accession]\">Query DataSets for GSE165238</a></td>\n",
       "</tr></table></td></tr>\n",
       "<tr valign=\"top\"><td>Status</td>\n",
       "<td>Public on May 25, 2021</td>\n",
       "</tr>\n",
       "<tr valign=\"top\"><td nowrap=\"\">Title</td>\n",
       "<td style=\"text-align: justify\">Tumor-associated hematopoietic stem and progenitor cells positively linked to glioblastoma progression</td>\n",
       "</tr>\n",
       "<tr valign=\"top\"><td nowrap=\"\">Organism</td>\n",
       "<td><a href=\"/Taxonomy/Browser/wwwtax.cgi?mode=Info&amp;id=9606\" onmouseout=\"onLinkOut('HelpMessage' , geo_empty_help)\" onmouseover=\"onLinkOver('HelpMessage' , geoaxema_organismus)\">Homo sapiens</a></td>\n",
       "</tr>\n",
       "<tr valign=\"top\"><td nowrap=\"\">Experiment type</td>\n",
       "<td>Expression profiling by high throughput sequencing<br/></td>\n",
       "</tr>\n",
       "<tr valign=\"top\"><td nowrap=\"\">Summary</td>\n",
       "<td style=\"text-align: justify\">Brain tumors are typically immunosuppressive and refractory to immunotherapies for reasons that remain poorly understood. The unbiased profiling of immune cell types in the tumor microenvironment may reveal immunologic networks affecting therapy and course of disease. Here we identify and validate the presence of hematopoietic stem and progenitor cells (HSPCs) within tumor tissues that are positively linked to glioblastoma malignancy. In contrast to the medullary hematopoietic compartment, tumor-associated HSPCs are comprised of a majority of CD38- immature cells, such as hematopoietic stem cells and multipotent progenitors, express genes related to glioblastoma progression and display patterns of accelerated cell cycle. When cultured ex vivo, tumor-associated HSPCs form prevalently myeloid colonies, suggesting potential in situ myelopoiesis. In experimental models, HSPCs promote tumor cell proliferation, expression of the immune checkpoint PD-L1 and secretion of tumor promoting cytokines such as IL-6, IL-8 and CCL2, indicating concomitant support of both malignancy and immunosuppression. Additionally, the frequency of tumor-associated HSPCs is prognostic for patient survival and correlate with immunosuppressive phenotypes. These findings identify a new element in the complex landscape of glioblastoma that may serve as an independent prognostic factor or target for brain tumor immunotherapies.<br/></td>\n",
       "</tr>\n",
       "<tr valign=\"top\"><td nowrap=\"\"> </td>\n",
       "<td></td>\n",
       "</tr>\n",
       "<tr valign=\"top\"><td nowrap=\"\">Overall design</td>\n",
       "<td style=\"text-align: justify\">Examination of single-cell transcriptomics from tumor-associated HSPCs and canonical HSPC<br/></td>\n",
       "</tr>\n",
       "<tr valign=\"top\"><td nowrap=\"\"> </td>\n",
       "<td></td>\n",
       "</tr>\n",
       "<tr valign=\"top\"><td>Contributor(s)</td>\n",
       "<td><a href=\"/pubmed/?term=Kebir S[Author]\">Kebir S</a>, <a href=\"/pubmed/?term=Cima I[Author]\">Cima I</a>, <a href=\"/pubmed/?term=Dobersalske C[Author]\">Dobersalske C</a></td>\n",
       "</tr>\n",
       "<tr valign=\"top\"><td nowrap=\"\">Citation(s)</td>\n",
       "<td><span class=\"pubmed_id\" id=\"34162860\"><a href=\"/pubmed/34162860\">34162860</a></span></td>\n",
       "</tr>\n",
       "<tr bgcolor=\"#eeeeee\" valign=\"top\"><td>Submission date</td>\n",
       "<td>Jan 21, 2021</td>\n",
       "</tr>\n",
       "<tr bgcolor=\"#eeeeee\" valign=\"top\"><td>Last update date</td>\n",
       "<td>Jul 14, 2021</td>\n",
       "</tr>\n",
       "<tr bgcolor=\"#eeeeee\" valign=\"top\"><td>Contact name</td>\n",
       "<td>Sied Kebir</td>\n",
       "</tr>\n",
       "<tr bgcolor=\"#eeeeee\" valign=\"top\"><td nowrap=\"\">Organization name</td>\n",
       "<td style=\"text-align: justify\">DKFZ-Division Translational Neurooncology at the West German Cancer Center (WTZ)<br/></td>\n",
       "</tr>\n",
       "<tr bgcolor=\"#eeeeee\" valign=\"top\"><td nowrap=\"\">Street address</td>\n",
       "<td style=\"text-align: justify\">Hufelandstr. 55<br/></td>\n",
       "</tr>\n",
       "<tr bgcolor=\"#eeeeee\" valign=\"top\"><td nowrap=\"\">City</td>\n",
       "<td style=\"text-align: justify\">Essen</td>\n",
       "</tr>\n",
       "<tr bgcolor=\"#eeeeee\" valign=\"top\"><td nowrap=\"\">ZIP/Postal code</td>\n",
       "<td style=\"text-align: justify\">45147</td>\n",
       "</tr>\n",
       "<tr bgcolor=\"#eeeeee\" valign=\"top\"><td nowrap=\"\">Country</td>\n",
       "<td style=\"text-align: justify\">Germany</td>\n",
       "</tr>\n",
       "<tr valign=\"top\"><td nowrap=\"\"> </td>\n",
       "<td></td>\n",
       "</tr>\n",
       "<tr valign=\"top\"><td>Platforms (1)</td>\n",
       "<td onmouseout=\"onLinkOut('HelpMessage' , geo_empty_help)\" onmouseover=\"onLinkOver('HelpMessage' , geoaxema_recenter)\"><table cellpadding=\"3\" style=\"position:relative;top:-5px;left:-5px\"><tr><td valign=\"top\"><a href=\"/geo/query/acc.cgi?acc=GPL24676\" onmouseout=\"onLinkOut('HelpMessage' , geo_empty_help)\" onmouseover=\"onLinkOver('HelpMessage' , geoaxema_recenter)\">GPL24676</a></td>\n",
       "<td valign=\"top\">Illumina NovaSeq 6000 (Homo sapiens)</td>\n",
       "</tr></table></td>\n",
       "</tr>\n",
       "<tr valign=\"top\"><td>Samples (16)<div id=\"L228456911divshown\" name=\"L228456911divshown\" style=\"display: none\"><a href=\"javascript:HandleVisibilityChangeL228456911()\"><img alt=\"Less...\" border=\"0\" src=\"/geo/img/minus_close.gif\"/> Less...</a>           </div>\n",
       "<div id=\"L228456911divhidden\" name=\"L228456911divhidden\" style=\"display: block\"><a href=\"javascript:HandleVisibilityChangeL228456911()\"><img alt=\"More...\" border=\"0\" src=\"/geo/img/plus_small.gif\"/> More...</a></div>\n",
       "</td>\n",
       "<td onmouseout=\"onLinkOut('HelpMessage' , geo_empty_help)\" onmouseover=\"onLinkOver('HelpMessage' , geoaxema_recenter)\"><table cellpadding=\"3\" style=\"position:relative;top:-5px;left:-5px\"><tr><td valign=\"top\"><a href=\"/geo/query/acc.cgi?acc=GSM5028734\" onmouseout=\"onLinkOut('HelpMessage' , geo_empty_help)\" onmouseover=\"onLinkOver('HelpMessage' , geoaxema_recenter)\">GSM5028734</a></td>\n",
       "<td valign=\"top\">Blood_1</td>\n",
       "</tr>\n",
       "<tr><td valign=\"top\"><a href=\"/geo/query/acc.cgi?acc=GSM5028735\" onmouseout=\"onLinkOut('HelpMessage' , geo_empty_help)\" onmouseover=\"onLinkOver('HelpMessage' , geoaxema_recenter)\">GSM5028735</a></td>\n",
       "<td valign=\"top\">Blood_2</td>\n",
       "</tr>\n",
       "<tr><td valign=\"top\"><a href=\"/geo/query/acc.cgi?acc=GSM5028736\" onmouseout=\"onLinkOut('HelpMessage' , geo_empty_help)\" onmouseover=\"onLinkOver('HelpMessage' , geoaxema_recenter)\">GSM5028736</a></td>\n",
       "<td valign=\"top\">Blood_3</td>\n",
       "</tr>\n",
       "</table>\n",
       "<script language=\"Javascript\" type=\"text/javascript\">\n",
       "<!--\n",
       "function HandleVisibilityChangeL228456911(){if(document.getElementById(\"L228456911div\").style.display == \"block\"){document.getElementById(\"L228456911div\").style.display = \"none\";document.getElementById(\"L228456911divhidden\").style.display = \"block\";document.getElementById(\"L228456911divshown\").style.display = \"none\";}else{document.getElementById(\"L228456911div\").style.display = \"block\";document.getElementById(\"L228456911divhidden\").style.display = \"none\";document.getElementById(\"L228456911divshown\").style.display = \"block\";}}\n",
       "-->\n",
       "</script>\n",
       "<div id=\"L228456911div\" name=\"L228456911div\" style=\"display: none\"><table cellpadding=\"3\" style=\"position:relative;top:-5px;left:-5px\"><tr><td valign=\"top\"><a href=\"/geo/query/acc.cgi?acc=GSM5028737\" onmouseout=\"onLinkOut('HelpMessage' , geo_empty_help)\" onmouseover=\"onLinkOver('HelpMessage' , geoaxema_recenter)\">GSM5028737</a></td>\n",
       "<td valign=\"top\">Blood_4</td>\n",
       "</tr>\n",
       "<tr><td valign=\"top\"><a href=\"/geo/query/acc.cgi?acc=GSM5028738\" onmouseout=\"onLinkOut('HelpMessage' , geo_empty_help)\" onmouseover=\"onLinkOver('HelpMessage' , geoaxema_recenter)\">GSM5028738</a></td>\n",
       "<td valign=\"top\">Bone marrow_1</td>\n",
       "</tr>\n",
       "<tr><td valign=\"top\"><a href=\"/geo/query/acc.cgi?acc=GSM5028739\" onmouseout=\"onLinkOut('HelpMessage' , geo_empty_help)\" onmouseover=\"onLinkOver('HelpMessage' , geoaxema_recenter)\">GSM5028739</a></td>\n",
       "<td valign=\"top\">Bone marrow_2</td>\n",
       "</tr>\n",
       "<tr><td valign=\"top\"><a href=\"/geo/query/acc.cgi?acc=GSM5028740\" onmouseout=\"onLinkOut('HelpMessage' , geo_empty_help)\" onmouseover=\"onLinkOver('HelpMessage' , geoaxema_recenter)\">GSM5028740</a></td>\n",
       "<td valign=\"top\">Bone marrow_3</td>\n",
       "</tr>\n",
       "<tr><td valign=\"top\"><a href=\"/geo/query/acc.cgi?acc=GSM5028741\" onmouseout=\"onLinkOut('HelpMessage' , geo_empty_help)\" onmouseover=\"onLinkOver('HelpMessage' , geoaxema_recenter)\">GSM5028741</a></td>\n",
       "<td valign=\"top\">Bone marrow_4</td>\n",
       "</tr>\n",
       "<tr><td valign=\"top\"><a href=\"/geo/query/acc.cgi?acc=GSM5028742\" onmouseout=\"onLinkOut('HelpMessage' , geo_empty_help)\" onmouseover=\"onLinkOver('HelpMessage' , geoaxema_recenter)\">GSM5028742</a></td>\n",
       "<td valign=\"top\">Glioblastoma_sample_1</td>\n",
       "</tr>\n",
       "<tr><td valign=\"top\"><a href=\"/geo/query/acc.cgi?acc=GSM5028743\" onmouseout=\"onLinkOut('HelpMessage' , geo_empty_help)\" onmouseover=\"onLinkOver('HelpMessage' , geoaxema_recenter)\">GSM5028743</a></td>\n",
       "<td valign=\"top\">Glioblastoma_sample_2</td>\n",
       "</tr>\n",
       "<tr><td valign=\"top\"><a href=\"/geo/query/acc.cgi?acc=GSM5028744\" onmouseout=\"onLinkOut('HelpMessage' , geo_empty_help)\" onmouseover=\"onLinkOver('HelpMessage' , geoaxema_recenter)\">GSM5028744</a></td>\n",
       "<td valign=\"top\">Glioblastoma_sample_3</td>\n",
       "</tr>\n",
       "<tr><td valign=\"top\"><a href=\"/geo/query/acc.cgi?acc=GSM5028745\" onmouseout=\"onLinkOut('HelpMessage' , geo_empty_help)\" onmouseover=\"onLinkOver('HelpMessage' , geoaxema_recenter)\">GSM5028745</a></td>\n",
       "<td valign=\"top\">Glioblastoma_sample_4</td>\n",
       "</tr>\n",
       "<tr><td valign=\"top\"><a href=\"/geo/query/acc.cgi?acc=GSM5028746\" onmouseout=\"onLinkOut('HelpMessage' , geo_empty_help)\" onmouseover=\"onLinkOver('HelpMessage' , geoaxema_recenter)\">GSM5028746</a></td>\n",
       "<td valign=\"top\">Tumor_free_sample_1</td>\n",
       "</tr>\n",
       "<tr><td valign=\"top\"><a href=\"/geo/query/acc.cgi?acc=GSM5028747\" onmouseout=\"onLinkOut('HelpMessage' , geo_empty_help)\" onmouseover=\"onLinkOver('HelpMessage' , geoaxema_recenter)\">GSM5028747</a></td>\n",
       "<td valign=\"top\">Tumor_free_sample_2</td>\n",
       "</tr>\n",
       "<tr><td valign=\"top\"><a href=\"/geo/query/acc.cgi?acc=GSM5028748\" onmouseout=\"onLinkOut('HelpMessage' , geo_empty_help)\" onmouseover=\"onLinkOver('HelpMessage' , geoaxema_recenter)\">GSM5028748</a></td>\n",
       "<td valign=\"top\">Tumor_free_sample_3</td>\n",
       "</tr>\n",
       "<tr><td valign=\"top\"><a href=\"/geo/query/acc.cgi?acc=GSM5028749\" onmouseout=\"onLinkOut('HelpMessage' , geo_empty_help)\" onmouseover=\"onLinkOver('HelpMessage' , geoaxema_recenter)\">GSM5028749</a></td>\n",
       "<td valign=\"top\">Tumor_free_sample_4</td>\n",
       "</tr>\n",
       "</table></div>\n",
       "</td>\n",
       "</tr>\n",
       "<tr valign=\"top\"><td colspan=\"2\"><strong>Relations</strong></td></tr>\n",
       "<tr valign=\"top\"><td>BioProject</td>\n",
       "<td><a href=\"https://www.ncbi.nlm.nih.gov/bioproject/PRJNA693800\">PRJNA693800</a></td>\n",
       "</tr>\n",
       "<tr valign=\"top\"><td>SRA</td>\n",
       "<td><a href=\"https://www.ncbi.nlm.nih.gov/sra?term=SRP302691\">SRP302691</a></td>\n",
       "</tr>\n",
       "</table>\n",
       "<br/><span id=\"geo2r\"></span><table cellspacing=\"3\" width=\"600\"><tr bgcolor=\"#eeeeee\"><td><strong>Download family</strong></td>\n",
       "<td><strong>Format</strong></td>\n",
       "</tr>\n",
       "<tr><td><a href=\"ftp://ftp.ncbi.nlm.nih.gov/geo/series/GSE165nnn/GSE165238/soft/\" target=\"_blank\">SOFT formatted family file(s)</a></td>\n",
       "<td>SOFT<a href=\"javascript:RPopUpWindow_Set(geoaxema_famsoft,260,120,'','','#E1EAE6','','#538AA9','MessageBox2');\" onmouseout=\"RPopUpWindow_Stop()\"><img alt=\"Help\" height=\"11\" src=\"/coreweb/images/long_help4.gif\" style=\"border: none\" width=\"19\"/></a></td>\n",
       "</tr>\n",
       "<tr><td><a href=\"ftp://ftp.ncbi.nlm.nih.gov/geo/series/GSE165nnn/GSE165238/miniml/\" target=\"_blank\">MINiML formatted family file(s)</a></td>\n",
       "<td>MINiML<a href=\"javascript:RPopUpWindow_Set(geoaxema_famminiml,260,120,'','','#E1EAE6','','#538AA9','MessageBox2');\" onmouseout=\"RPopUpWindow_Stop()\"><img alt=\"Help\" height=\"11\" src=\"/coreweb/images/long_help4.gif\" style=\"border: none\" width=\"19\"/></a></td>\n",
       "</tr>\n",
       "<tr><td><a href=\"ftp://ftp.ncbi.nlm.nih.gov/geo/series/GSE165nnn/GSE165238/matrix/\" target=\"_blank\">Series Matrix File(s)</a></td>\n",
       "<td>TXT<a href=\"javascript:RPopUpWindow_Set(geoaxema_fammatrix,260,210,'','','#E1EAE6','','#538AA9','MessageBox2');\" onmouseout=\"RPopUpWindow_Stop()\"><img alt=\"Help\" height=\"11\" src=\"/coreweb/images/long_help4.gif\" style=\"border: none\" width=\"19\"/></a></td>\n",
       "</tr>\n",
       "</table>\n",
       "<br/><table cellpadding=\"2\" cellspacing=\"2\" width=\"600\"><tr bgcolor=\"#eeeeee\" valign=\"top\"><td align=\"middle\" bgcolor=\"#CCCCCC\"><strong>Supplementary file</strong></td>\n",
       "<td align=\"middle\" bgcolor=\"#CCCCCC\"><strong>Size</strong></td>\n",
       "<td align=\"middle\" bgcolor=\"#CCCCCC\"><strong>Download</strong></td>\n",
       "<td align=\"middle\" bgcolor=\"#CCCCCC\"><strong>File type/resource</strong></td>\n",
       "</tr>\n",
       "<tr valign=\"top\"><td bgcolor=\"#DEEBDC\">GSE165238_Igor1-2-4_filtered_feature_bc_matrix.csv.gz</td>\n",
       "<td bgcolor=\"#DEEBDC\" title=\"6768177\">6.5 Mb</td>\n",
       "<td bgcolor=\"#DEEBDC\"><a href=\"ftp://ftp.ncbi.nlm.nih.gov/geo/series/GSE165nnn/GSE165238/suppl/GSE165238%5FIgor1%2D2%2D4%5Ffiltered%5Ffeature%5Fbc%5Fmatrix%2Ecsv%2Egz\">(ftp)</a><a href=\"/geo/download/?acc=GSE165238&amp;format=file&amp;file=GSE165238%5FIgor1%2D2%2D4%5Ffiltered%5Ffeature%5Fbc%5Fmatrix%2Ecsv%2Egz\">(http)</a></td>\n",
       "<td bgcolor=\"#DEEBDC\">CSV</td>\n",
       "</tr>\n",
       "<tr valign=\"top\"><td bgcolor=\"#EEEEEE\">GSE165238_Metadata.xlsx</td>\n",
       "<td bgcolor=\"#EEEEEE\" title=\"17926\">17.5 Kb</td>\n",
       "<td bgcolor=\"#EEEEEE\"><a href=\"ftp://ftp.ncbi.nlm.nih.gov/geo/series/GSE165nnn/GSE165238/suppl/GSE165238%5FMetadata%2Exlsx\">(ftp)</a><a href=\"/geo/download/?acc=GSE165238&amp;format=file&amp;file=GSE165238%5FMetadata%2Exlsx\">(http)</a></td>\n",
       "<td bgcolor=\"#EEEEEE\">XLSX</td>\n",
       "</tr>\n",
       "<tr><td><a href=\"/Traces/study/?acc=PRJNA693800\">SRA Run Selector</a><a href=\"javascript:RPopUpWindow_Set(geoaxema_srarun,260,120,'','','#E1EAE6','','#538AA9','MessageBox2');\" onmouseout=\"RPopUpWindow_Stop()\"><img alt=\"Help\" height=\"11\" src=\"/coreweb/images/long_help4.gif\" style=\"border: none\" width=\"19\"/></a></td></tr>\n",
       "<tr><td class=\"message\">Raw data are available in SRA</td></tr>\n",
       "<tr><td class=\"message\">Processed data are available on Series record</td></tr>\n",
       "</table>\n",
       "<span id=\"customDlArea\"></span><br/></td></tr></table>\n",
       "</td>\n",
       "</tr>\n",
       "</table>\n",
       "</td>\n",
       "</tr>\n",
       "</table>\n",
       "</td>\n",
       "<td background=\"/coreweb/template1/pix/main_right_bg.gif\"><img alt=\"\" border=\"0\" height=\"3\" src=\"/coreweb/template1/pix/main_right_bg.gif\" width=\"4\"/></td>\n",
       "</tr>\n",
       "<tr>\n",
       "<td background=\"/coreweb/template1/pix/but_left.gif\"><img alt=\"\" border=\"0\" height=\"4\" src=\"/coreweb/template1/pix/but_left.gif\" width=\"4\"/></td>\n",
       "<td background=\"/coreweb/template1/pix/but_mid_bg.gif\" bgcolor=\"#FFFFFF\" width=\"10000\"><img alt=\"\" border=\"0\" height=\"1\" src=\"/coreweb/template1/pix/pixel.gif\" width=\"1\"/></td>\n",
       "<td align=\"right\" background=\"/coreweb/template1/pix/but_right.gif\"><img alt=\"\" border=\"0\" height=\"4\" src=\"/coreweb/template1/pix/but_right.gif\" width=\"4\"/></td>\n",
       "</tr>\n",
       "</table>\n",
       "<table align=\"center\" border=\"0\" cellpadding=\"0\" cellspacing=\"0\" width=\"100%\">\n",
       "<tr>\n",
       "<td width=\"99%\"><img alt=\"\" border=\"0\" height=\"1\" src=\"/coreweb/template1/pix/pixel.gif\" width=\"1\"/></td><td align=\"right\" nowrap=\"\" valign=\"top\">\n",
       "<span class=\"HELPBAR\">|<a href=\"https://www.nlm.nih.gov\"> NLM </a>|<a class=\"HELPBAR\" href=\"https://www.nih.gov\"> NIH </a>|<a class=\"HELPBAR\" href=\"mailto:geo@ncbi.nlm.nih.gov\"> GEO Help </a>|<a class=\"HELPBAR\" href=\"/geo/info/disclaimer.html\"> Disclaimer </a>|<a class=\"HELPBAR\" href=\"https://www.nlm.nih.gov/accessibility.html\"> Accessibility </a>|</span><br/>\n",
       "</td>\n",
       "</tr>\n",
       "</table>\n",
       "<map name=\"unlmenu\">\n",
       "<area alt=\"NCBI Home\" coords=\"2,0,39,15\" href=\"/\" onmouseout=\"changpics(unl_menu_pix, unl_menu_noa)\" onmouseover=\"changpics(unl_menu_pix, unl_menu_home_a)\"/>\n",
       "<area alt=\"NCBI Search\" coords=\"40,0,91,15\" href=\"/ncbisearch/\" onmouseout=\"changpics(unl_menu_pix, unl_menu_noa)\" onmouseover=\"changpics(unl_menu_pix, unl_menu_search_a)\"/>\n",
       "<area alt=\"NCBI SiteMap\" coords=\"92,0,143,15\" href=\"/Sitemap/\" onmouseout=\"changpics(unl_menu_pix, unl_menu_noa)\" onmouseover=\"changpics(unl_menu_pix, unl_menu_sitemap_a)\"/>\n",
       "</map>\n",
       "<script src=\"/portal/portal3rc.fcgi/rlib/js/InstrumentNCBIBaseJS/InstrumentPageStarterJS.js\" type=\"text/javascript\"> </script>\n",
       "</td></tr></table></body>\n",
       "</html>"
      ]
     },
     "execution_count": 34,
     "metadata": {},
     "output_type": "execute_result"
    }
   ],
   "source": [
    "ges_info"
   ]
  },
  {
   "cell_type": "code",
   "execution_count": 120,
   "metadata": {},
   "outputs": [
    {
     "data": {
      "text/plain": [
       "'May 25, 2021'"
      ]
     },
     "execution_count": 120,
     "metadata": {},
     "output_type": "execute_result"
    }
   ],
   "source": [
    "# status\n",
    "partern = re.compile(r'<td>Public on (.*)</td>')\n",
    "re.findall(partern, str(ges_info))[0]"
   ]
  },
  {
   "cell_type": "code",
   "execution_count": 56,
   "metadata": {},
   "outputs": [
    {
     "name": "stdout",
     "output_type": "stream",
     "text": [
      "Tumor-associated hematopoietic stem and progenitor cells positively linked to glioblastoma progression\n",
      "Brain tumors are typically immunosuppressive and refractory to immunotherapies for reasons that remain poorly understood. The unbiased profiling of immune cell types in the tumor microenvironment may reveal immunologic networks affecting therapy and course of disease. Here we identify and validate the presence of hematopoietic stem and progenitor cells (HSPCs) within tumor tissues that are positively linked to glioblastoma malignancy. In contrast to the medullary hematopoietic compartment, tumor-associated HSPCs are comprised of a majority of CD38- immature cells, such as hematopoietic stem cells and multipotent progenitors, express genes related to glioblastoma progression and display patterns of accelerated cell cycle. When cultured ex vivo, tumor-associated HSPCs form prevalently myeloid colonies, suggesting potential in situ myelopoiesis. In experimental models, HSPCs promote tumor cell proliferation, expression of the immune checkpoint PD-L1 and secretion of tumor promoting cytokines such as IL-6, IL-8 and CCL2, indicating concomitant support of both malignancy and immunosuppression. Additionally, the frequency of tumor-associated HSPCs is prognostic for patient survival and correlate with immunosuppressive phenotypes. These findings identify a new element in the complex landscape of glioblastoma that may serve as an independent prognostic factor or target for brain tumor immunotherapies.\n",
      "Examination of single-cell transcriptomics from tumor-associated HSPCs and canonical HSPC\n",
      "DKFZ-Division Translational Neurooncology at the West German Cancer Center (WTZ)\n",
      "Essen\n",
      "Germany\n"
     ]
    }
   ],
   "source": [
    "# Title\n",
    "pattern = re.compile(r'<td style=\"text-align: justify\">(.*)</td>')\n",
    "detailed_info = re.findall(pattern, str(ges_info))\n",
    "# title\n",
    "title_info = detailed_info[0]\n",
    "# summary\n",
    "summary_info = detailed_info[1].strip('<br/>')\n",
    "# over design\n",
    "design_info = detailed_info[2].strip('<br/>')\n",
    "# organization name\n",
    "org_name = detailed_info[3].strip('<br/>')\n",
    "# city\n",
    "city = detailed_info[-3]\n",
    "# country\n",
    "country = detailed_info[-1]\n",
    "\n",
    "print(title_info)\n",
    "print(summary_info)\n",
    "print(design_info)\n",
    "print(org_name)\n",
    "print(city)\n",
    "print(country)"
   ]
  },
  {
   "cell_type": "code",
   "execution_count": 119,
   "metadata": {},
   "outputs": [
    {
     "data": {
      "text/plain": [
       "'Expression profiling by high throughput sequencing'"
      ]
     },
     "execution_count": 119,
     "metadata": {},
     "output_type": "execute_result"
    }
   ],
   "source": [
    "# Experiment type\n",
    "pattern = re.compile(r'<td>(.*)<br/></td>')\n",
    "re.findall(pattern, str(ges_info))[0]"
   ]
  },
  {
   "cell_type": "code",
   "execution_count": 74,
   "metadata": {},
   "outputs": [
    {
     "name": "stdout",
     "output_type": "stream",
     "text": [
      "Kebir S;Cima I;Dobersalske C\n"
     ]
    }
   ],
   "source": [
    "# contributor\n",
    "contributor = \";\".join([i.text for i in ges_info.find_all('a', href=lambda value: value and '/pubmed/?term' in value)])\n",
    "print(contributor)"
   ]
  },
  {
   "cell_type": "code",
   "execution_count": 99,
   "metadata": {},
   "outputs": [
    {
     "data": {
      "text/plain": [
       "'34162860'"
      ]
     },
     "execution_count": 99,
     "metadata": {},
     "output_type": "execute_result"
    }
   ],
   "source": [
    "# pmid\n",
    "ges_info.find('span', {'class': 'pubmed_id'}).get('id')"
   ]
  },
  {
   "cell_type": "code",
   "execution_count": 104,
   "metadata": {},
   "outputs": [
    {
     "data": {
      "text/plain": [
       "['Jan 21, 2021', 'Jul 14, 2021']"
      ]
     },
     "execution_count": 104,
     "metadata": {},
     "output_type": "execute_result"
    }
   ],
   "source": [
    "pattern = re.compile(r'<td>([A-Z][a-z]+ \\d{1,2}, \\d{4})</td>')\n",
    "# first time is submission data, second last update date\n",
    "re.findall(pattern, str(ges_info))"
   ]
  },
  {
   "cell_type": "code",
   "execution_count": 107,
   "metadata": {},
   "outputs": [
    {
     "data": {
      "text/plain": [
       "'Illumina NovaSeq 6000 (Homo sapiens)'"
      ]
     },
     "execution_count": 107,
     "metadata": {},
     "output_type": "execute_result"
    }
   ],
   "source": [
    "# platform\n",
    "ges_info.find_all('td', {'valign':'top'})[1].text"
   ]
  },
  {
   "cell_type": "code",
   "execution_count": 125,
   "metadata": {},
   "outputs": [
    {
     "name": "stdout",
     "output_type": "stream",
     "text": [
      "GSM5028734;GSM5028735;GSM5028736;GSM5028737;GSM5028738;GSM5028739;GSM5028740;GSM5028741;GSM5028742;GSM5028743;GSM5028744;GSM5028745;GSM5028746;GSM5028747;GSM5028748;GSM5028749\n"
     ]
    }
   ],
   "source": [
    "gsm_list = []\n",
    "for i in ges_info.find_all('td', {'valign':'top'}):\n",
    "    gsm = i.find('a', href=lambda value: value and '/geo/query/acc.cgi?acc' in value)\n",
    "    if \"GSM\" in str(gsm):\n",
    "       gsm_list.append(gsm.get('href').strip('/geo/query/acc.cgi?acc='))\n",
    "print(\";\".join(gsm_list))"
   ]
  },
  {
   "cell_type": "code",
   "execution_count": null,
   "metadata": {},
   "outputs": [],
   "source": []
  }
 ],
 "metadata": {
  "kernelspec": {
   "display_name": "scRNA",
   "language": "python",
   "name": "python3"
  },
  "language_info": {
   "codemirror_mode": {
    "name": "ipython",
    "version": 3
   },
   "file_extension": ".py",
   "mimetype": "text/x-python",
   "name": "python",
   "nbconvert_exporter": "python",
   "pygments_lexer": "ipython3",
   "version": "3.9.16"
  }
 },
 "nbformat": 4,
 "nbformat_minor": 2
}
