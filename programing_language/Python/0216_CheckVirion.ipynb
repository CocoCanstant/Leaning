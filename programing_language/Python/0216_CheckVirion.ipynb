{
 "cells": [
  {
   "cell_type": "code",
   "execution_count": 1,
   "metadata": {},
   "outputs": [],
   "source": [
    "import pandas as pd\n",
    "\n",
    "passed_data = []\n",
    "data_procession = []\n",
    "with open('/home/ouconstand/data/Virus_Host/Virion.csv','r', encoding='ISO-8859-1') as f:\n",
    "    for line in f.read().splitlines():\n",
    "        data = line.split('\\t')\n",
    "        if len(data) < 34:\n",
    "            passed_data.append(data)\n",
    "        else:\n",
    "            if data[7] == '' or data[2] == '' or data[3] == '' or data[33] == '': # delete non_genus or non_virustaxid information data\n",
    "                pass\n",
    "            else:\n",
    "                data_procession.append(data)\n",
    "\n",
    "data = pd.DataFrame(data_procession[1:-1],columns=data_procession[0])"
   ]
  },
  {
   "cell_type": "code",
   "execution_count": 2,
   "metadata": {},
   "outputs": [
    {
     "data": {
      "text/plain": [
       "(420174, 34)"
      ]
     },
     "execution_count": 2,
     "metadata": {},
     "output_type": "execute_result"
    }
   ],
   "source": [
    "data.shape"
   ]
  },
  {
   "cell_type": "code",
   "execution_count": 3,
   "metadata": {},
   "outputs": [],
   "source": [
    "coro = data[data['VirusFamily'] == 'coronaviridae']"
   ]
  },
  {
   "cell_type": "code",
   "execution_count": 4,
   "metadata": {},
   "outputs": [
    {
     "data": {
      "text/plain": [
       "(35611, 34)"
      ]
     },
     "execution_count": 4,
     "metadata": {},
     "output_type": "execute_result"
    }
   ],
   "source": [
    "coro.shape"
   ]
  },
  {
   "cell_type": "code",
   "execution_count": 23,
   "metadata": {},
   "outputs": [],
   "source": [
    "coro.to_csv('/home/ouconstand/data/Virus_Host/coronaviridae/coro_data.csv',index=None)"
   ]
  },
  {
   "cell_type": "code",
   "execution_count": 5,
   "metadata": {},
   "outputs": [],
   "source": [
    "acce = coro['NCBIAccession']"
   ]
  },
  {
   "cell_type": "code",
   "execution_count": 16,
   "metadata": {},
   "outputs": [
    {
     "name": "stdout",
     "output_type": "stream",
     "text": [
      "KF843853.1\n",
      "HQ184060.1\n",
      "LC334391.1\n",
      "KM514667.1\n",
      "MT222079.1\n",
      "AY702975.1\n",
      "MF034362.1, MF034376.1\n",
      "MF034359.1, MF034373.1\n",
      "MF034370.1, MF034384.1\n",
      "MF034368.1, MF034382.1\n",
      "MF034360.1, MF034374.1\n",
      "MF034361.1, MF034375.1\n",
      "FJ490194.1, FJ490195.1\n",
      "KJ690949.1, KJ690950.1, KJ690951.1, KJ690952.1, KJ690957.1, KJ690958.1, KJ690965.1, KJ690966.1\n",
      "KJ690959.1, KJ690968.1\n",
      "KC623578.1\n",
      "KJ690948.1, KJ690956.1, KJ690964.1\n",
      "KX588632.1\n",
      "KX588636.1\n",
      "MK032181.1\n",
      "MH924835.1\n",
      "MK032177.1, MK032178.1, MK032179.1, MK032180.1\n",
      "MK937830.1, MK937831.1\n",
      "MK574042.1, MK574043.1\n",
      "MK937832.1\n",
      "MK937833.1\n",
      "MK217374.1, MK217375.1, MK937828.1\n",
      "MK217372.1, MK217373.1, MK937829.1\n",
      "MN233837.1\n",
      "MT157383.1, MT157384.1, MT157385.1, MT157386.1, MT157387.1, MT157388.1, MT157389.1, MT157390.1, MT157391.1, MT157392.1, MT157393.1, MT157394.1, MT157395.1\n",
      "MW222181.1\n",
      "MT978193.1, MW248465.1, MW419300.1, MW429059.1, MW429060.1, MW429061.1, MW429062.1, MW436704.1, MW436705.1, MW446887.1, MW446888.1, MW792511.1, MW792512.1, MW792513.1, MW792514.1\n",
      "AY702085.1\n",
      "MK617400.1\n",
      "MN312569.1, MN312570.1, MN312571.1, MN312572.1, MN312573.1, MN312574.1, MN312575.1\n",
      "MN312330.1, MN312463.1, MN312472.1\n",
      "MN312304.1, MN312309.1, MN312342.1, MN312467.1, MN312469.1\n",
      "MN312514.1\n",
      "MN312647.1, MN312851.1\n",
      "MN312676.1\n",
      "MN312632.1, MN312633.1, MN312635.1, MN312636.1, MN312671.1, MN312672.1, MN312673.1\n",
      "MH170118.1, MH170119.1, MH170120.1, MH170121.1\n",
      "MN183174.1, MN183210.1\n",
      "KX574227.1\n",
      "NC_034440.1\n",
      "MH974766.1, MH974779.1\n",
      "MH170123.1, MH170128.1\n",
      "MT470437.1, MT470438.1, MT470439.1, MT470442.1, MT656675.1, MT656676.1, MT656677.1, MT656678.1\n",
      "MT470440.1, MT470441.1\n",
      "MN183152.1, MN183273.1\n"
     ]
    }
   ],
   "source": [
    "n = 0\n",
    "for i in acce:\n",
    "    print(i)\n",
    "    n += 1\n",
    "    if n == 50:\n",
    "        break"
   ]
  },
  {
   "cell_type": "code",
   "execution_count": 22,
   "metadata": {},
   "outputs": [],
   "source": [
    "with open('/home/ouconstand/coro_virion_acce.txt','a') as f:\n",
    "    f.writelines(i.strip('').replace(',','\\n')+'\\n' for i in acce)"
   ]
  },
  {
   "cell_type": "code",
   "execution_count": null,
   "metadata": {},
   "outputs": [],
   "source": []
  }
 ],
 "metadata": {
  "kernelspec": {
   "display_name": "base",
   "language": "python",
   "name": "python3"
  },
  "language_info": {
   "codemirror_mode": {
    "name": "ipython",
    "version": 3
   },
   "file_extension": ".py",
   "mimetype": "text/x-python",
   "name": "python",
   "nbconvert_exporter": "python",
   "pygments_lexer": "ipython3",
   "version": "3.8.8"
  },
  "orig_nbformat": 4,
  "vscode": {
   "interpreter": {
    "hash": "eace1a3d2d18dcb98353cfeb529f20792ec64dcc10ba0bdd358326e3f660811b"
   }
  }
 },
 "nbformat": 4,
 "nbformat_minor": 2
}
