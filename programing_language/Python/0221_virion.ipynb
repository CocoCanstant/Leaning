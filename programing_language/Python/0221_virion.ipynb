{
 "cells": [
  {
   "cell_type": "code",
   "execution_count": 1,
   "metadata": {},
   "outputs": [],
   "source": [
    "import pandas as pd\n",
    "\n",
    "data_procession = []\n",
    "with open('/home/ouconstand/data/Virus_Host/Virion.csv','r', encoding='ISO-8859-1') as f:\n",
    "    for line in f.read().splitlines():\n",
    "        data = line.split('\\t')\n",
    "        if len(data) < 34:\n",
    "            continue\n",
    "        else:\n",
    "            if data[2] == '' or data[3] == '' or data[7] == '' or data[33] == '': # delete non host genus, host id, virus id and NCBIAccession data\n",
    "                continue\n",
    "            else:\n",
    "                data_procession.append(data)\n",
    "\n",
    "data = pd.DataFrame(data_procession[1:-1],columns=data_procession[0])"
   ]
  },
  {
   "cell_type": "code",
   "execution_count": 2,
   "metadata": {},
   "outputs": [
    {
     "name": "stdout",
     "output_type": "stream",
     "text": [
      "<class 'pandas.core.frame.DataFrame'>\n",
      "RangeIndex: 420174 entries, 0 to 420173\n",
      "Data columns (total 3 columns):\n",
      " #   Column         Non-Null Count   Dtype \n",
      "---  ------         --------------   ----- \n",
      " 0   VirusTaxID     420174 non-null  object\n",
      " 1   HostTaxID      420174 non-null  object\n",
      " 2   NCBIAccession  420174 non-null  object\n",
      "dtypes: object(3)\n",
      "memory usage: 9.6+ MB\n"
     ]
    }
   ],
   "source": [
    "statistic = data[['VirusTaxID', 'HostTaxID', 'NCBIAccession']]\n",
    "statistic.info()"
   ]
  },
  {
   "cell_type": "code",
   "execution_count": 3,
   "metadata": {},
   "outputs": [
    {
     "data": {
      "text/html": [
       "<div>\n",
       "<style scoped>\n",
       "    .dataframe tbody tr th:only-of-type {\n",
       "        vertical-align: middle;\n",
       "    }\n",
       "\n",
       "    .dataframe tbody tr th {\n",
       "        vertical-align: top;\n",
       "    }\n",
       "\n",
       "    .dataframe thead th {\n",
       "        text-align: right;\n",
       "    }\n",
       "</style>\n",
       "<table border=\"1\" class=\"dataframe\">\n",
       "  <thead>\n",
       "    <tr style=\"text-align: right;\">\n",
       "      <th></th>\n",
       "      <th>VirusTaxID</th>\n",
       "      <th>HostTaxID</th>\n",
       "      <th>NCBIAccession</th>\n",
       "    </tr>\n",
       "  </thead>\n",
       "  <tbody>\n",
       "    <tr>\n",
       "      <th>0</th>\n",
       "      <td>2710946</td>\n",
       "      <td>27659</td>\n",
       "      <td>MK325782.1</td>\n",
       "    </tr>\n",
       "    <tr>\n",
       "      <th>1</th>\n",
       "      <td>2710946</td>\n",
       "      <td>27659</td>\n",
       "      <td>MK325782</td>\n",
       "    </tr>\n",
       "    <tr>\n",
       "      <th>2</th>\n",
       "      <td>2710952</td>\n",
       "      <td>10111</td>\n",
       "      <td>MK325792.1</td>\n",
       "    </tr>\n",
       "    <tr>\n",
       "      <th>3</th>\n",
       "      <td>2710952</td>\n",
       "      <td>10111</td>\n",
       "      <td>MK325792</td>\n",
       "    </tr>\n",
       "    <tr>\n",
       "      <th>4</th>\n",
       "      <td>2710955</td>\n",
       "      <td>10111</td>\n",
       "      <td>MK325833.1</td>\n",
       "    </tr>\n",
       "    <tr>\n",
       "      <th>...</th>\n",
       "      <td>...</td>\n",
       "      <td>...</td>\n",
       "      <td>...</td>\n",
       "    </tr>\n",
       "    <tr>\n",
       "      <th>420169</th>\n",
       "      <td>1980482</td>\n",
       "      <td>157541</td>\n",
       "      <td>KF481954.1, KF494345.1, KF735065.1</td>\n",
       "    </tr>\n",
       "    <tr>\n",
       "      <th>420170</th>\n",
       "      <td>1980482</td>\n",
       "      <td>157541</td>\n",
       "      <td>NC_043407.1, NC_043408.1, NC_043409.1</td>\n",
       "    </tr>\n",
       "    <tr>\n",
       "      <th>420171</th>\n",
       "      <td>49891</td>\n",
       "      <td>157541</td>\n",
       "      <td>JF412368.1</td>\n",
       "    </tr>\n",
       "    <tr>\n",
       "      <th>420172</th>\n",
       "      <td>1980482</td>\n",
       "      <td>218840</td>\n",
       "      <td>JN717148.1, JN717149.1</td>\n",
       "    </tr>\n",
       "    <tr>\n",
       "      <th>420173</th>\n",
       "      <td>1980482</td>\n",
       "      <td>218840</td>\n",
       "      <td>KM196124.1</td>\n",
       "    </tr>\n",
       "  </tbody>\n",
       "</table>\n",
       "<p>420174 rows × 3 columns</p>\n",
       "</div>"
      ],
      "text/plain": [
       "       VirusTaxID HostTaxID                          NCBIAccession\n",
       "0         2710946     27659                             MK325782.1\n",
       "1         2710946     27659                               MK325782\n",
       "2         2710952     10111                             MK325792.1\n",
       "3         2710952     10111                               MK325792\n",
       "4         2710955     10111                             MK325833.1\n",
       "...           ...       ...                                    ...\n",
       "420169    1980482    157541     KF481954.1, KF494345.1, KF735065.1\n",
       "420170    1980482    157541  NC_043407.1, NC_043408.1, NC_043409.1\n",
       "420171      49891    157541                             JF412368.1\n",
       "420172    1980482    218840                 JN717148.1, JN717149.1\n",
       "420173    1980482    218840                             KM196124.1\n",
       "\n",
       "[420174 rows x 3 columns]"
      ]
     },
     "execution_count": 3,
     "metadata": {},
     "output_type": "execute_result"
    }
   ],
   "source": [
    "statistic"
   ]
  },
  {
   "cell_type": "code",
   "execution_count": 16,
   "metadata": {},
   "outputs": [
    {
     "ename": "KeyboardInterrupt",
     "evalue": "",
     "output_type": "error",
     "traceback": [
      "\u001b[0;31m---------------------------------------------------------------------------\u001b[0m",
      "\u001b[0;31mKeyboardInterrupt\u001b[0m                         Traceback (most recent call last)",
      "\u001b[0;32m<ipython-input-16-3dd76023cac7>\u001b[0m in \u001b[0;36m<module>\u001b[0;34m\u001b[0m\n\u001b[1;32m      5\u001b[0m     \u001b[0;32mif\u001b[0m \u001b[0mlen\u001b[0m\u001b[0;34m(\u001b[0m\u001b[0mrow\u001b[0m\u001b[0;34m.\u001b[0m\u001b[0mNCBIAccession\u001b[0m\u001b[0;34m.\u001b[0m\u001b[0msplit\u001b[0m\u001b[0;34m(\u001b[0m\u001b[0;34m','\u001b[0m\u001b[0;34m)\u001b[0m\u001b[0;34m)\u001b[0m \u001b[0;34m>\u001b[0m \u001b[0;36m1\u001b[0m\u001b[0;34m:\u001b[0m\u001b[0;34m\u001b[0m\u001b[0;34m\u001b[0m\u001b[0m\n\u001b[1;32m      6\u001b[0m         \u001b[0mmulti\u001b[0m \u001b[0;34m=\u001b[0m \u001b[0;34m[\u001b[0m\u001b[0;34m[\u001b[0m\u001b[0mrow\u001b[0m\u001b[0;34m.\u001b[0m\u001b[0mVirusTaxID\u001b[0m\u001b[0;34m,\u001b[0m \u001b[0mrow\u001b[0m\u001b[0;34m.\u001b[0m\u001b[0mHostTaxID\u001b[0m\u001b[0;34m,\u001b[0m \u001b[0maccession\u001b[0m\u001b[0;34m.\u001b[0m\u001b[0mstrip\u001b[0m\u001b[0;34m(\u001b[0m\u001b[0;34m)\u001b[0m\u001b[0;34m]\u001b[0m \u001b[0;32mfor\u001b[0m \u001b[0maccession\u001b[0m \u001b[0;32min\u001b[0m \u001b[0mrow\u001b[0m\u001b[0;34m.\u001b[0m\u001b[0mNCBIAccession\u001b[0m\u001b[0;34m.\u001b[0m\u001b[0msplit\u001b[0m\u001b[0;34m(\u001b[0m\u001b[0;34m','\u001b[0m\u001b[0;34m)\u001b[0m\u001b[0;34m]\u001b[0m\u001b[0;34m\u001b[0m\u001b[0;34m\u001b[0m\u001b[0m\n\u001b[0;32m----> 7\u001b[0;31m         \u001b[0mnew_sta\u001b[0m \u001b[0;34m=\u001b[0m \u001b[0mpd\u001b[0m\u001b[0;34m.\u001b[0m\u001b[0mconcat\u001b[0m\u001b[0;34m(\u001b[0m\u001b[0;34m[\u001b[0m\u001b[0mnew_sta\u001b[0m\u001b[0;34m,\u001b[0m \u001b[0mpd\u001b[0m\u001b[0;34m.\u001b[0m\u001b[0mDataFrame\u001b[0m\u001b[0;34m(\u001b[0m\u001b[0mmulti\u001b[0m\u001b[0;34m,\u001b[0m \u001b[0mcolumns\u001b[0m\u001b[0;34m=\u001b[0m\u001b[0;34m[\u001b[0m\u001b[0;34m'VirusTaxID'\u001b[0m\u001b[0;34m,\u001b[0m \u001b[0;34m'HostTaxID'\u001b[0m\u001b[0;34m,\u001b[0m \u001b[0;34m'NCBIAccession'\u001b[0m\u001b[0;34m]\u001b[0m\u001b[0;34m)\u001b[0m\u001b[0;34m]\u001b[0m\u001b[0;34m,\u001b[0m \u001b[0mignore_index\u001b[0m\u001b[0;34m=\u001b[0m\u001b[0;32mTrue\u001b[0m\u001b[0;34m)\u001b[0m\u001b[0;34m\u001b[0m\u001b[0;34m\u001b[0m\u001b[0m\n\u001b[0m\u001b[1;32m      8\u001b[0m     \u001b[0;32melse\u001b[0m\u001b[0;34m:\u001b[0m\u001b[0;34m\u001b[0m\u001b[0;34m\u001b[0m\u001b[0m\n\u001b[1;32m      9\u001b[0m         \u001b[0msingle\u001b[0m\u001b[0;34m.\u001b[0m\u001b[0mappend\u001b[0m\u001b[0;34m(\u001b[0m\u001b[0;34m[\u001b[0m\u001b[0mrow\u001b[0m\u001b[0;34m.\u001b[0m\u001b[0mVirusTaxID\u001b[0m\u001b[0;34m,\u001b[0m \u001b[0mrow\u001b[0m\u001b[0;34m.\u001b[0m\u001b[0mHostTaxID\u001b[0m\u001b[0;34m,\u001b[0m \u001b[0mrow\u001b[0m\u001b[0;34m.\u001b[0m\u001b[0mNCBIAccession\u001b[0m\u001b[0;34m.\u001b[0m\u001b[0mstrip\u001b[0m\u001b[0;34m(\u001b[0m\u001b[0;34m)\u001b[0m\u001b[0;34m]\u001b[0m\u001b[0;34m)\u001b[0m\u001b[0;34m\u001b[0m\u001b[0;34m\u001b[0m\u001b[0m\n",
      "\u001b[0;31mKeyboardInterrupt\u001b[0m: "
     ]
    }
   ],
   "source": [
    "# this script needs much memory, so run it in SEG system\n",
    "\n",
    "new_sta = pd.DataFrame(columns=['VirusTaxID', 'HostTaxID', 'NCBIAccession'])\n",
    "\n",
    "single = []\n",
    "for row in statistic.itertuples():\n",
    "    if len(row.NCBIAccession.split(',')) > 1:    \n",
    "        multi = [[row.VirusTaxID, row.HostTaxID, accession.strip()] for accession in row.NCBIAccession.split(',')]\n",
    "        new_sta = pd.concat([new_sta, pd.DataFrame(multi, columns=['VirusTaxID', 'HostTaxID', 'NCBIAccession'])], ignore_index=True)\n",
    "    else:\n",
    "        single.append([row.VirusTaxID, row.HostTaxID, row.NCBIAccession.strip()])\n",
    "\n",
    "new_sta = pd.concat([new_sta, pd.DataFrame(single, columns=['VirusTaxID', 'HostTaxID', 'NCBIAccession'])], ignore_index=True)\n",
    "\n",
    "    "
   ]
  },
  {
   "cell_type": "code",
   "execution_count": null,
   "metadata": {},
   "outputs": [],
   "source": [
    "new_sta.to_csv('', index=None)"
   ]
  },
  {
   "cell_type": "code",
   "execution_count": null,
   "metadata": {},
   "outputs": [],
   "source": []
  }
 ],
 "metadata": {
  "kernelspec": {
   "display_name": "base",
   "language": "python",
   "name": "python3"
  },
  "language_info": {
   "codemirror_mode": {
    "name": "ipython",
    "version": 3
   },
   "file_extension": ".py",
   "mimetype": "text/x-python",
   "name": "python",
   "nbconvert_exporter": "python",
   "pygments_lexer": "ipython3",
   "version": "3.8.8"
  },
  "orig_nbformat": 4,
  "vscode": {
   "interpreter": {
    "hash": "eace1a3d2d18dcb98353cfeb529f20792ec64dcc10ba0bdd358326e3f660811b"
   }
  }
 },
 "nbformat": 4,
 "nbformat_minor": 2
}
