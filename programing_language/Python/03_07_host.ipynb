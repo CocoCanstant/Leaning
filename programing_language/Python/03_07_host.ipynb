{
 "cells": [
  {
   "cell_type": "code",
   "execution_count": 1,
   "metadata": {},
   "outputs": [],
   "source": [
    "import pandas as pd\n",
    "\n",
    "data = pd.read_csv('/home/ouconstand/data/Virus_Host/more_than25k_host_info.csv')"
   ]
  },
  {
   "cell_type": "code",
   "execution_count": 2,
   "metadata": {},
   "outputs": [
    {
     "data": {
      "text/plain": [
       "(48298, 8)"
      ]
     },
     "execution_count": 2,
     "metadata": {},
     "output_type": "execute_result"
    }
   ],
   "source": [
    "data.shape"
   ]
  },
  {
   "cell_type": "code",
   "execution_count": 3,
   "metadata": {},
   "outputs": [
    {
     "data": {
      "text/html": [
       "<div>\n",
       "<style scoped>\n",
       "    .dataframe tbody tr th:only-of-type {\n",
       "        vertical-align: middle;\n",
       "    }\n",
       "\n",
       "    .dataframe tbody tr th {\n",
       "        vertical-align: top;\n",
       "    }\n",
       "\n",
       "    .dataframe thead th {\n",
       "        text-align: right;\n",
       "    }\n",
       "</style>\n",
       "<table border=\"1\" class=\"dataframe\">\n",
       "  <thead>\n",
       "    <tr style=\"text-align: right;\">\n",
       "      <th></th>\n",
       "      <th>VirusTaxID</th>\n",
       "      <th>HostTaxID</th>\n",
       "      <th>Representation</th>\n",
       "      <th>Length</th>\n",
       "      <th>HostGenus</th>\n",
       "      <th>HostFamily</th>\n",
       "      <th>HostOrder</th>\n",
       "      <th>HostClass</th>\n",
       "    </tr>\n",
       "  </thead>\n",
       "  <tbody>\n",
       "    <tr>\n",
       "      <th>0</th>\n",
       "      <td>694014</td>\n",
       "      <td>8835</td>\n",
       "      <td>AJ311317.1</td>\n",
       "      <td>27635</td>\n",
       "      <td>anas</td>\n",
       "      <td>anatidae</td>\n",
       "      <td>anseriformes</td>\n",
       "      <td>aves</td>\n",
       "    </tr>\n",
       "    <tr>\n",
       "      <th>1</th>\n",
       "      <td>694014</td>\n",
       "      <td>8835</td>\n",
       "      <td>MT984601.1</td>\n",
       "      <td>27779</td>\n",
       "      <td>anas</td>\n",
       "      <td>anatidae</td>\n",
       "      <td>anseriformes</td>\n",
       "      <td>aves</td>\n",
       "    </tr>\n",
       "    <tr>\n",
       "      <th>2</th>\n",
       "      <td>694014</td>\n",
       "      <td>8835</td>\n",
       "      <td>MK581207.1</td>\n",
       "      <td>27791</td>\n",
       "      <td>anas</td>\n",
       "      <td>anatidae</td>\n",
       "      <td>anseriformes</td>\n",
       "      <td>aves</td>\n",
       "    </tr>\n",
       "    <tr>\n",
       "      <th>3</th>\n",
       "      <td>694014</td>\n",
       "      <td>8835</td>\n",
       "      <td>MK581202.1</td>\n",
       "      <td>27875</td>\n",
       "      <td>anas</td>\n",
       "      <td>anatidae</td>\n",
       "      <td>anseriformes</td>\n",
       "      <td>aves</td>\n",
       "    </tr>\n",
       "    <tr>\n",
       "      <th>4</th>\n",
       "      <td>694014</td>\n",
       "      <td>8835</td>\n",
       "      <td>MN517817.1</td>\n",
       "      <td>27944</td>\n",
       "      <td>anas</td>\n",
       "      <td>anatidae</td>\n",
       "      <td>anseriformes</td>\n",
       "      <td>aves</td>\n",
       "    </tr>\n",
       "    <tr>\n",
       "      <th>...</th>\n",
       "      <td>...</td>\n",
       "      <td>...</td>\n",
       "      <td>...</td>\n",
       "      <td>...</td>\n",
       "      <td>...</td>\n",
       "      <td>...</td>\n",
       "      <td>...</td>\n",
       "      <td>...</td>\n",
       "    </tr>\n",
       "    <tr>\n",
       "      <th>48293</th>\n",
       "      <td>2856926</td>\n",
       "      <td>526822</td>\n",
       "      <td>OM009282.1</td>\n",
       "      <td>30344</td>\n",
       "      <td>tylonycteris</td>\n",
       "      <td>vespertilionidae</td>\n",
       "      <td>chiroptera</td>\n",
       "      <td>mammalia</td>\n",
       "    </tr>\n",
       "    <tr>\n",
       "      <th>48294</th>\n",
       "      <td>2856927</td>\n",
       "      <td>526822</td>\n",
       "      <td>OM009282.1</td>\n",
       "      <td>30344</td>\n",
       "      <td>tylonycteris</td>\n",
       "      <td>vespertilionidae</td>\n",
       "      <td>chiroptera</td>\n",
       "      <td>mammalia</td>\n",
       "    </tr>\n",
       "    <tr>\n",
       "      <th>48295</th>\n",
       "      <td>2856928</td>\n",
       "      <td>526822</td>\n",
       "      <td>OM009282.1</td>\n",
       "      <td>30344</td>\n",
       "      <td>tylonycteris</td>\n",
       "      <td>vespertilionidae</td>\n",
       "      <td>chiroptera</td>\n",
       "      <td>mammalia</td>\n",
       "    </tr>\n",
       "    <tr>\n",
       "      <th>48296</th>\n",
       "      <td>2856929</td>\n",
       "      <td>526822</td>\n",
       "      <td>OM009282.1</td>\n",
       "      <td>30344</td>\n",
       "      <td>tylonycteris</td>\n",
       "      <td>vespertilionidae</td>\n",
       "      <td>chiroptera</td>\n",
       "      <td>mammalia</td>\n",
       "    </tr>\n",
       "    <tr>\n",
       "      <th>48297</th>\n",
       "      <td>2856930</td>\n",
       "      <td>526822</td>\n",
       "      <td>OM009282.1</td>\n",
       "      <td>30344</td>\n",
       "      <td>tylonycteris</td>\n",
       "      <td>vespertilionidae</td>\n",
       "      <td>chiroptera</td>\n",
       "      <td>mammalia</td>\n",
       "    </tr>\n",
       "  </tbody>\n",
       "</table>\n",
       "<p>48298 rows × 8 columns</p>\n",
       "</div>"
      ],
      "text/plain": [
       "       VirusTaxID  HostTaxID Representation  Length     HostGenus  \\\n",
       "0          694014       8835     AJ311317.1   27635          anas   \n",
       "1          694014       8835     MT984601.1   27779          anas   \n",
       "2          694014       8835     MK581207.1   27791          anas   \n",
       "3          694014       8835     MK581202.1   27875          anas   \n",
       "4          694014       8835     MN517817.1   27944          anas   \n",
       "...           ...        ...            ...     ...           ...   \n",
       "48293     2856926     526822     OM009282.1   30344  tylonycteris   \n",
       "48294     2856927     526822     OM009282.1   30344  tylonycteris   \n",
       "48295     2856928     526822     OM009282.1   30344  tylonycteris   \n",
       "48296     2856929     526822     OM009282.1   30344  tylonycteris   \n",
       "48297     2856930     526822     OM009282.1   30344  tylonycteris   \n",
       "\n",
       "             HostFamily     HostOrder HostClass  \n",
       "0              anatidae  anseriformes      aves  \n",
       "1              anatidae  anseriformes      aves  \n",
       "2              anatidae  anseriformes      aves  \n",
       "3              anatidae  anseriformes      aves  \n",
       "4              anatidae  anseriformes      aves  \n",
       "...                 ...           ...       ...  \n",
       "48293  vespertilionidae    chiroptera  mammalia  \n",
       "48294  vespertilionidae    chiroptera  mammalia  \n",
       "48295  vespertilionidae    chiroptera  mammalia  \n",
       "48296  vespertilionidae    chiroptera  mammalia  \n",
       "48297  vespertilionidae    chiroptera  mammalia  \n",
       "\n",
       "[48298 rows x 8 columns]"
      ]
     },
     "execution_count": 3,
     "metadata": {},
     "output_type": "execute_result"
    }
   ],
   "source": [
    "data"
   ]
  },
  {
   "cell_type": "code",
   "execution_count": 4,
   "metadata": {},
   "outputs": [
    {
     "data": {
      "text/plain": [
       "mammalia    47980\n",
       "aves          318\n",
       "Name: HostClass, dtype: int64"
      ]
     },
     "execution_count": 4,
     "metadata": {},
     "output_type": "execute_result"
    }
   ],
   "source": [
    "data['HostClass'].value_counts()"
   ]
  },
  {
   "cell_type": "code",
   "execution_count": 5,
   "metadata": {},
   "outputs": [
    {
     "data": {
      "text/plain": [
       "primates           46799\n",
       "chiroptera           772\n",
       "galliformes          185\n",
       "carnivora            144\n",
       "rodentia             141\n",
       "artiodactyla          78\n",
       "anseriformes          59\n",
       "charadriiformes       28\n",
       "passeriformes         19\n",
       "lagomorpha            18\n",
       "eulipotyphla          17\n",
       "perissodactyla         7\n",
       "pelecaniformes         5\n",
       "strigiformes           4\n",
       "gruiformes             4\n",
       "pholidota              4\n",
       "columbiformes          3\n",
       "falconiformes          3\n",
       "accipitriformes        3\n",
       "piciformes             2\n",
       "sphenisciformes        2\n",
       "psittaciformes         1\n",
       "Name: HostOrder, dtype: int64"
      ]
     },
     "execution_count": 5,
     "metadata": {},
     "output_type": "execute_result"
    }
   ],
   "source": [
    "data['HostOrder'].value_counts()"
   ]
  },
  {
   "cell_type": "code",
   "execution_count": 6,
   "metadata": {},
   "outputs": [
    {
     "data": {
      "text/plain": [
       "hominidae           46795\n",
       "vespertilionidae      289\n",
       "rhinolophidae         225\n",
       "phasianidae           184\n",
       "pteropodidae          148\n",
       "                    ...  \n",
       "rhinopomatidae          1\n",
       "tayassuidae             1\n",
       "heteromyidae            1\n",
       "giraffidae              1\n",
       "lorisidae               1\n",
       "Name: HostFamily, Length: 63, dtype: int64"
      ]
     },
     "execution_count": 6,
     "metadata": {},
     "output_type": "execute_result"
    }
   ],
   "source": [
    "data['HostFamily'].value_counts()"
   ]
  },
  {
   "cell_type": "code",
   "execution_count": 7,
   "metadata": {},
   "outputs": [
    {
     "data": {
      "text/plain": [
       "homo             46792\n",
       "rhinolophus        225\n",
       "gallus             159\n",
       "myotis              76\n",
       "felis               72\n",
       "                 ...  \n",
       "lissonycteris        1\n",
       "pecari               1\n",
       "rhinopoma            1\n",
       "epomophorus          1\n",
       "paguma               1\n",
       "Name: HostGenus, Length: 156, dtype: int64"
      ]
     },
     "execution_count": 7,
     "metadata": {},
     "output_type": "execute_result"
    }
   ],
   "source": [
    "data['HostGenus'].value_counts()"
   ]
  },
  {
   "cell_type": "code",
   "execution_count": 8,
   "metadata": {},
   "outputs": [],
   "source": [
    "non_homo_data = data[data['HostGenus'] != 'homo']"
   ]
  },
  {
   "cell_type": "code",
   "execution_count": 9,
   "metadata": {},
   "outputs": [
    {
     "data": {
      "text/plain": [
       "(1506, 8)"
      ]
     },
     "execution_count": 9,
     "metadata": {},
     "output_type": "execute_result"
    }
   ],
   "source": [
    "non_homo_data.shape"
   ]
  },
  {
   "cell_type": "code",
   "execution_count": 10,
   "metadata": {},
   "outputs": [
    {
     "data": {
      "text/html": [
       "<div>\n",
       "<style scoped>\n",
       "    .dataframe tbody tr th:only-of-type {\n",
       "        vertical-align: middle;\n",
       "    }\n",
       "\n",
       "    .dataframe tbody tr th {\n",
       "        vertical-align: top;\n",
       "    }\n",
       "\n",
       "    .dataframe thead th {\n",
       "        text-align: right;\n",
       "    }\n",
       "</style>\n",
       "<table border=\"1\" class=\"dataframe\">\n",
       "  <thead>\n",
       "    <tr style=\"text-align: right;\">\n",
       "      <th></th>\n",
       "      <th>VirusTaxID</th>\n",
       "      <th>HostTaxID</th>\n",
       "      <th>Representation</th>\n",
       "      <th>Length</th>\n",
       "      <th>HostGenus</th>\n",
       "      <th>HostFamily</th>\n",
       "      <th>HostOrder</th>\n",
       "      <th>HostClass</th>\n",
       "    </tr>\n",
       "  </thead>\n",
       "  <tbody>\n",
       "    <tr>\n",
       "      <th>0</th>\n",
       "      <td>694014</td>\n",
       "      <td>8835</td>\n",
       "      <td>AJ311317.1</td>\n",
       "      <td>27635</td>\n",
       "      <td>anas</td>\n",
       "      <td>anatidae</td>\n",
       "      <td>anseriformes</td>\n",
       "      <td>aves</td>\n",
       "    </tr>\n",
       "    <tr>\n",
       "      <th>1</th>\n",
       "      <td>694014</td>\n",
       "      <td>8835</td>\n",
       "      <td>MT984601.1</td>\n",
       "      <td>27779</td>\n",
       "      <td>anas</td>\n",
       "      <td>anatidae</td>\n",
       "      <td>anseriformes</td>\n",
       "      <td>aves</td>\n",
       "    </tr>\n",
       "    <tr>\n",
       "      <th>2</th>\n",
       "      <td>694014</td>\n",
       "      <td>8835</td>\n",
       "      <td>MK581207.1</td>\n",
       "      <td>27791</td>\n",
       "      <td>anas</td>\n",
       "      <td>anatidae</td>\n",
       "      <td>anseriformes</td>\n",
       "      <td>aves</td>\n",
       "    </tr>\n",
       "    <tr>\n",
       "      <th>3</th>\n",
       "      <td>694014</td>\n",
       "      <td>8835</td>\n",
       "      <td>MK581202.1</td>\n",
       "      <td>27875</td>\n",
       "      <td>anas</td>\n",
       "      <td>anatidae</td>\n",
       "      <td>anseriformes</td>\n",
       "      <td>aves</td>\n",
       "    </tr>\n",
       "    <tr>\n",
       "      <th>4</th>\n",
       "      <td>694014</td>\n",
       "      <td>8835</td>\n",
       "      <td>MN517817.1</td>\n",
       "      <td>27944</td>\n",
       "      <td>anas</td>\n",
       "      <td>anatidae</td>\n",
       "      <td>anseriformes</td>\n",
       "      <td>aves</td>\n",
       "    </tr>\n",
       "  </tbody>\n",
       "</table>\n",
       "</div>"
      ],
      "text/plain": [
       "   VirusTaxID  HostTaxID Representation  Length HostGenus HostFamily  \\\n",
       "0      694014       8835     AJ311317.1   27635      anas   anatidae   \n",
       "1      694014       8835     MT984601.1   27779      anas   anatidae   \n",
       "2      694014       8835     MK581207.1   27791      anas   anatidae   \n",
       "3      694014       8835     MK581202.1   27875      anas   anatidae   \n",
       "4      694014       8835     MN517817.1   27944      anas   anatidae   \n",
       "\n",
       "      HostOrder HostClass  \n",
       "0  anseriformes      aves  \n",
       "1  anseriformes      aves  \n",
       "2  anseriformes      aves  \n",
       "3  anseriformes      aves  \n",
       "4  anseriformes      aves  "
      ]
     },
     "execution_count": 10,
     "metadata": {},
     "output_type": "execute_result"
    }
   ],
   "source": [
    "non_homo_data.head()"
   ]
  },
  {
   "cell_type": "code",
   "execution_count": 11,
   "metadata": {},
   "outputs": [
    {
     "name": "stdout",
     "output_type": "stream",
     "text": [
      "mammalia    1188\n",
      "aves         318\n",
      "Name: HostClass, dtype: int64\n",
      "chiroptera         772\n",
      "galliformes        185\n",
      "carnivora          144\n",
      "rodentia           141\n",
      "artiodactyla        78\n",
      "anseriformes        59\n",
      "charadriiformes     28\n",
      "passeriformes       19\n",
      "lagomorpha          18\n",
      "eulipotyphla        17\n",
      "perissodactyla       7\n",
      "primates             7\n",
      "pelecaniformes       5\n",
      "strigiformes         4\n",
      "gruiformes           4\n",
      "pholidota            4\n",
      "columbiformes        3\n",
      "falconiformes        3\n",
      "accipitriformes      3\n",
      "piciformes           2\n",
      "sphenisciformes      2\n",
      "psittaciformes       1\n",
      "Name: HostOrder, dtype: int64\n",
      "vespertilionidae    289\n",
      "rhinolophidae       225\n",
      "phasianidae         184\n",
      "pteropodidae        148\n",
      "muridae             116\n",
      "                   ... \n",
      "rhinopomatidae        1\n",
      "tayassuidae           1\n",
      "cracidae              1\n",
      "heteromyidae          1\n",
      "giraffidae            1\n",
      "Name: HostFamily, Length: 63, dtype: int64\n",
      "rhinolophus      225\n",
      "gallus           159\n",
      "myotis            76\n",
      "felis             72\n",
      "miniopterus       65\n",
      "                ... \n",
      "lissonycteris      1\n",
      "pecari             1\n",
      "rhinopoma          1\n",
      "epomophorus        1\n",
      "paguma             1\n",
      "Name: HostGenus, Length: 155, dtype: int64\n"
     ]
    }
   ],
   "source": [
    "for taxon in ['HostClass', 'HostOrder', 'HostFamily', 'HostGenus']:\n",
    "    print(non_homo_data[taxon].value_counts())"
   ]
  },
  {
   "cell_type": "code",
   "execution_count": 1,
   "metadata": {},
   "outputs": [],
   "source": [
    "import pandas as pd\n",
    "host_info = pd.read_csv('/home/ouconstand/data/Virus_Host/non_homo_host_info.csv')\n",
    "host_dict = host_info[['Representation', 'HostClass']].drop_duplicates().set_index('Representation').to_dict(orient='dict')['HostClass']"
   ]
  },
  {
   "cell_type": "code",
   "execution_count": 3,
   "metadata": {},
   "outputs": [
    {
     "data": {
      "text/plain": [
       "'aves'"
      ]
     },
     "execution_count": 3,
     "metadata": {},
     "output_type": "execute_result"
    }
   ],
   "source": [
    "host_dict['AJ311317.1']"
   ]
  },
  {
   "cell_type": "code",
   "execution_count": 4,
   "metadata": {},
   "outputs": [],
   "source": [
    "import os\n",
    "train = [host_dict[file] for file in os.listdir('/home/ouconstand/data/Virus_Host/0309_seqdata/')]"
   ]
  },
  {
   "cell_type": "code",
   "execution_count": 8,
   "metadata": {},
   "outputs": [
    {
     "data": {
      "text/plain": [
       "499"
      ]
     },
     "execution_count": 8,
     "metadata": {},
     "output_type": "execute_result"
    }
   ],
   "source": [
    "len(train)"
   ]
  },
  {
   "cell_type": "code",
   "execution_count": 12,
   "metadata": {},
   "outputs": [],
   "source": [
    "labels_dict = dict((key, value) for value, key in enumerate(list(set(train))))"
   ]
  },
  {
   "cell_type": "code",
   "execution_count": 13,
   "metadata": {},
   "outputs": [
    {
     "data": {
      "text/plain": [
       "{'mammalia': 0, 'aves': 1}"
      ]
     },
     "execution_count": 13,
     "metadata": {},
     "output_type": "execute_result"
    }
   ],
   "source": [
    "labels_dict"
   ]
  },
  {
   "cell_type": "code",
   "execution_count": 14,
   "metadata": {},
   "outputs": [],
   "source": [
    "labels = [labels_dict[i] for i in train]"
   ]
  },
  {
   "cell_type": "code",
   "execution_count": null,
   "metadata": {},
   "outputs": [],
   "source": []
  }
 ],
 "metadata": {
  "kernelspec": {
   "display_name": "base",
   "language": "python",
   "name": "python3"
  },
  "language_info": {
   "codemirror_mode": {
    "name": "ipython",
    "version": 3
   },
   "file_extension": ".py",
   "mimetype": "text/x-python",
   "name": "python",
   "nbconvert_exporter": "python",
   "pygments_lexer": "ipython3",
   "version": "3.8.16"
  },
  "orig_nbformat": 4
 },
 "nbformat": 4,
 "nbformat_minor": 2
}
