{
 "cells": [
  {
   "cell_type": "code",
   "execution_count": 1,
   "metadata": {},
   "outputs": [],
   "source": [
    "import pandas as pd\n",
    "\n",
    "passed_data = []\n",
    "data_procession = []\n",
    "with open('/home/ouconstand/data/Virus_Host/Virion.csv','r', encoding='ISO-8859-1') as f:\n",
    "    for line in f.read().splitlines():\n",
    "        data = line.split('\\t')\n",
    "        if len(data) < 34:\n",
    "            passed_data.append(data)\n",
    "        else:\n",
    "            if data[8] == '' or data[13] == '' or data[3] == '' or data[2] =='': # delete non_family information data\n",
    "                pass\n",
    "            else:\n",
    "                data_procession.append(data)\n",
    "\n",
    "data = pd.DataFrame(data_procession[1:-1],columns=data_procession[0])"
   ]
  },
  {
   "cell_type": "code",
   "execution_count": 2,
   "metadata": {},
   "outputs": [],
   "source": [
    "with open('/home/ouconstand/ICTV_taxid.txt','r') as f:\n",
    "    ICTV = [i.strip('\\n') for i in f.readlines()]"
   ]
  },
  {
   "cell_type": "code",
   "execution_count": 3,
   "metadata": {},
   "outputs": [],
   "source": [
    "with open('/home/ouconstand/wang_0207.txt','r') as f:\n",
    "    need_family = [i.strip('\\n') for i in f.readlines()]"
   ]
  },
  {
   "cell_type": "code",
   "execution_count": 4,
   "metadata": {},
   "outputs": [
    {
     "name": "stdout",
     "output_type": "stream",
     "text": [
      "(478933, 34)\n",
      "(443583, 34)\n",
      "(346698, 34)\n"
     ]
    }
   ],
   "source": [
    "virion_ICTV = data[data['VirusTaxID'].isin(ICTV)]\n",
    "print(data.shape)\n",
    "print(virion_ICTV.shape)\n",
    "family_virion_ictv = virion_ICTV[virion_ICTV['VirusFamily'].isin(need_family)]\n",
    "print(family_virion_ictv.shape)"
   ]
  },
  {
   "cell_type": "code",
   "execution_count": 5,
   "metadata": {},
   "outputs": [
    {
     "data": {
      "text/plain": [
       "(207813, 34)"
      ]
     },
     "execution_count": 5,
     "metadata": {},
     "output_type": "execute_result"
    }
   ],
   "source": [
    "homo_virion_ICTV = family_virion_ictv[family_virion_ictv['HostFamily'] == 'hominidae']\n",
    "homo_virion_ICTV.shape"
   ]
  },
  {
   "cell_type": "code",
   "execution_count": 6,
   "metadata": {},
   "outputs": [
    {
     "data": {
      "text/plain": [
       "508"
      ]
     },
     "execution_count": 6,
     "metadata": {},
     "output_type": "execute_result"
    }
   ],
   "source": [
    "len(set(homo_virion_ICTV['VirusTaxID']))"
   ]
  },
  {
   "cell_type": "code",
   "execution_count": 7,
   "metadata": {},
   "outputs": [
    {
     "name": "stderr",
     "output_type": "stream",
     "text": [
      "<ipython-input-7-a92d951496d0>:2: SettingWithCopyWarning: \n",
      "A value is trying to be set on a copy of a slice from a DataFrame\n",
      "\n",
      "See the caveats in the documentation: https://pandas.pydata.org/pandas-docs/stable/user_guide/indexing.html#returning-a-view-versus-a-copy\n",
      "  final_ictv_virion.drop_duplicates(subset=['Virus','VirusFamily','VirusTaxID'],inplace=True)\n"
     ]
    },
    {
     "data": {
      "text/plain": [
       "(509, 3)"
      ]
     },
     "execution_count": 7,
     "metadata": {},
     "output_type": "execute_result"
    }
   ],
   "source": [
    "final_ictv_virion = homo_virion_ICTV[['Virus','VirusFamily','VirusTaxID']]\n",
    "final_ictv_virion.drop_duplicates(subset=['Virus','VirusFamily','VirusTaxID'],inplace=True)\n",
    "final_ictv_virion.shape"
   ]
  },
  {
   "cell_type": "code",
   "execution_count": 9,
   "metadata": {},
   "outputs": [],
   "source": [
    "final_ictv_virion.to_csv('/mnt/c/Users/ouyangkang/Desktop/V_ICTV_InfectH_VVF.csv',index=None)"
   ]
  },
  {
   "cell_type": "code",
   "execution_count": null,
   "metadata": {},
   "outputs": [],
   "source": []
  }
 ],
 "metadata": {
  "kernelspec": {
   "display_name": "base",
   "language": "python",
   "name": "python3"
  },
  "language_info": {
   "codemirror_mode": {
    "name": "ipython",
    "version": 3
   },
   "file_extension": ".py",
   "mimetype": "text/x-python",
   "name": "python",
   "nbconvert_exporter": "python",
   "pygments_lexer": "ipython3",
   "version": "3.8.8"
  },
  "orig_nbformat": 4,
  "vscode": {
   "interpreter": {
    "hash": "eace1a3d2d18dcb98353cfeb529f20792ec64dcc10ba0bdd358326e3f660811b"
   }
  }
 },
 "nbformat": 4,
 "nbformat_minor": 2
}
