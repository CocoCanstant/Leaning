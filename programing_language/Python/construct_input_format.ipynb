{
 "cells": [
  {
   "cell_type": "code",
   "execution_count": null,
   "metadata": {},
   "outputs": [],
   "source": [
    "#!/ldfssz1/ST_INFECTION/P20Z10200N0206_pathogendb/yangkaixin1/software/miniconda/envs/vs2/bin/python\n",
    "\n",
    "import os\n",
    "import re\n",
    "import pandas as pd\n",
    "\n",
    "raw_Data = pd.read_csv('/jdfssz1/ST_HEALTH/P20Z10200N0206/ouyangkang/fuck_task/WIV_Rawdata_list1_to_OYK.csv')\n",
    "\n",
    "dir_list = list(raw_Data['Path'])\n",
    "\n",
    "sample_ID = []\n",
    "raw_reads_1 = []\n",
    "raw_reads_2 = []\n",
    "\n",
    "for dir in dir_list:\n",
    "    files = os.listdir(dir)\n",
    "\n",
    "    pattern_ID = re.compile(r'Temp/(.*)/')\n",
    "    pattern_Time = re.compile(r'/(\\d{6})_SEQ')\n",
    "\n",
    "    raw_reads_1 += [dir + '/' +  file for file in files if '_1.fq.gz' in file]\n",
    "    raw_reads_2 += [dir + '/' + file for file in files if '_2.fq.gz' in file]\n",
    "\n",
    "    sample_ID.append(re.findall(pattern_ID, dir)[0] + '_1_20' + re.findall(pattern_Time, dir)[0][:2] + '-' + re.findall(pattern_Time, dir)[0][2:4] + '-' +re.findall(pattern_Time, dir)[0][4:6])\n",
    "\n",
    "data = pd.DataFrame([sample_ID, raw_reads_1, raw_reads_2]).T\n",
    "data.columns = ['Sample_ID', 'Reads_1', 'Reads_2']\n",
    "data.to_csv('/jdfssz1/ST_HEALTH/P20Z10200N0206/ouyangkang/fuck_task/processed_data.txt', sep='\\t', index=None, header=None)\n"
   ]
  },
  {
   "cell_type": "code",
   "execution_count": 30,
   "metadata": {},
   "outputs": [],
   "source": [
    "with open('/home/ouconstand/train_file.txt', 'r') as f:\n",
    "    data = f.readlines()"
   ]
  },
  {
   "cell_type": "code",
   "execution_count": 48,
   "metadata": {},
   "outputs": [
    {
     "name": "stdout",
     "output_type": "stream",
     "text": [
      "A66R_1_2022-12-12\n",
      "/zfssz8/CNGB_DATA/BGISEQ01/DIPSEQ/DIPSEQT1/P20Z10200N0206_Temp/A66R/221212_SEQ115_DP8450007585BR_L01_SP2211230004\n",
      "A75R_1_2022-12-15\n",
      "/zfssz8/CNGB_DATA/BGISEQ01/DIPSEQ/DIPSEQT1/P20Z10200N0206_Temp/A75R/221215_SEQ053_DP8450007982TL_L01_SP2211230013\n"
     ]
    }
   ],
   "source": [
    "for row in data:\n",
    "    print(row.split('       ')[0])\n",
    "    print('/' + '/'.join(row.split('  ')[-1].split('/')[1:-1]))"
   ]
  },
  {
   "cell_type": "code",
   "execution_count": 32,
   "metadata": {},
   "outputs": [],
   "source": [
    "import re\n",
    "\n",
    "train = ['DP8450007585BR_L01_1100-2100_2.fq.gz', 'DP8450007585BR_L01_1100-2100_2.fq.fqStat.txt', 'DP8450007585BR_L01_1100-2100_1.fq.gz', 'DP8450007585BR_L01_1100-2100_1.fq.fqStat.txt', '221212_SEQ115_DP8450007585BR_L01_SP2211230004-1100-2100.report', 'md5.txt', 'DP8450007585BR_L01_1100-2100.report.html']\n"
   ]
  },
  {
   "cell_type": "code",
   "execution_count": 33,
   "metadata": {},
   "outputs": [],
   "source": [
    "print(i for i in train if )"
   ]
  },
  {
   "cell_type": "code",
   "execution_count": 45,
   "metadata": {},
   "outputs": [
    {
     "name": "stdout",
     "output_type": "stream",
     "text": [
      "221212_SEQ115_DP8450007585BR_L01_SP2211230004-1100-2100.report\n"
     ]
    }
   ],
   "source": [
    "pattern = re.compile(r\".*report$\")\n",
    "for i in train:\n",
    "    if re.match(pattern, i) != None:\n",
    "        print(re.match(pattern, i).group())"
   ]
  },
  {
   "cell_type": "code",
   "execution_count": 49,
   "metadata": {},
   "outputs": [],
   "source": [
    "import pandas as pd\n",
    "\n",
    "data_procession = []\n",
    "with open('/home/ouconstand/data/Virus_Host/Virion.csv','r', encoding='ISO-8859-1') as f:\n",
    "    for line in f.read().splitlines():\n",
    "        data = line.split('\\t')\n",
    "        if len(data) < 34:\n",
    "            continue\n",
    "        else:\n",
    "            if data[2] == '' or data[3] == '' or data[7] == '' or data[33] == '': # delete non host genus, host id, virus id and NCBIAccession data\n",
    "                continue\n",
    "            else:\n",
    "                data_procession.append(data)\n",
    "\n",
    "data = pd.DataFrame(data_procession[1:-1],columns=data_procession[0])"
   ]
  },
  {
   "cell_type": "code",
   "execution_count": 55,
   "metadata": {},
   "outputs": [],
   "source": [
    "with open('/home/ouconstand/virion_all_accession.txt', 'w') as f:\n",
    "\n",
    "    f.writelines(map(lambda x:x.strip()+'\\n', ','.join(data[\"NCBIAccession\"]).split(',')))"
   ]
  },
  {
   "cell_type": "code",
   "execution_count": 52,
   "metadata": {},
   "outputs": [
    {
     "data": {
      "text/plain": [
       "<map at 0x7f5021672730>"
      ]
     },
     "execution_count": 52,
     "metadata": {},
     "output_type": "execute_result"
    }
   ],
   "source": []
  },
  {
   "cell_type": "code",
   "execution_count": null,
   "metadata": {},
   "outputs": [],
   "source": []
  }
 ],
 "metadata": {
  "kernelspec": {
   "display_name": "base",
   "language": "python",
   "name": "python3"
  },
  "language_info": {
   "codemirror_mode": {
    "name": "ipython",
    "version": 3
   },
   "file_extension": ".py",
   "mimetype": "text/x-python",
   "name": "python",
   "nbconvert_exporter": "python",
   "pygments_lexer": "ipython3",
   "version": "3.8.8"
  },
  "orig_nbformat": 4,
  "vscode": {
   "interpreter": {
    "hash": "eace1a3d2d18dcb98353cfeb529f20792ec64dcc10ba0bdd358326e3f660811b"
   }
  }
 },
 "nbformat": 4,
 "nbformat_minor": 2
}
