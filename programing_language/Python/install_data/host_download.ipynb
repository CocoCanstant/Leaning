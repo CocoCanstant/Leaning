{
 "cells": [
  {
   "cell_type": "code",
   "execution_count": 16,
   "metadata": {},
   "outputs": [],
   "source": [
    "# Complete code\n",
    "\n",
    "import pandas as pd\n",
    "from bs4 import BeautifulSoup\n",
    "import requests\n",
    "import re\n",
    "\n",
    "\n",
    "# the function is designed to get fasta format information\n",
    "def get_url_info(segment):\n",
    "\n",
    "    # Using requests function get the id from term\n",
    "    term_url = 'https://eutils.ncbi.nlm.nih.gov/entrez/eutils/esearch.fcgi?db=nucleotide&api_key=59cbd6ff6b3ce5d506f0eeb69e4e09362409&term=' + \",\".join(segment)\n",
    "    term_info = requests.get(term_url).text\n",
    "    soup = BeautifulSoup(term_info, 'html.parser')\n",
    "\n",
    "    # get id\n",
    "    accession_id = [k.text for k in soup.find_all('id')]\n",
    "\n",
    "    # get sequencing information from id\n",
    "    fasta_url = 'https://eutils.ncbi.nlm.nih.gov/entrez/eutils/efetch.fcgi?db=nucleotide&rettype=fasta&id={}&api_key=59cbd6ff6b3ce5d506f0eeb69e4e09362409'.format(','.join(accession_id))\n",
    "    fasta_info = requests.get(fasta_url).text\n",
    "    return fasta_info\n",
    "\n",
    "\n",
    "# this function is designed to write files\n",
    "def write_file(fasta_info,name_num):\n",
    "    with open(\"/home/ouconstand/data/Virus_Host/up_data/sequence_{}.fasta\".format(name_num), 'w') as f:\n",
    "        f.write(fasta_info)\n"
   ]
  },
  {
   "cell_type": "code",
   "execution_count": 17,
   "metadata": {},
   "outputs": [],
   "source": [
    "with open('/home/ouconstand/data/Virus_Host/install_remain.txt','r') as f:\n",
    "    data = [i.strip('\\n') for i in f.readlines()]"
   ]
  },
  {
   "cell_type": "code",
   "execution_count": 18,
   "metadata": {},
   "outputs": [],
   "source": [
    "for i in range(5):\n",
    "    write_file(get_url_info(data[i*20:(i+1)*20]),i)"
   ]
  },
  {
   "cell_type": "code",
   "execution_count": 15,
   "metadata": {},
   "outputs": [
    {
     "data": {
      "text/plain": [
       "['GQ92080',\n",
       " 'GQ920808.2',\n",
       " 'GQ920809.2',\n",
       " 'GQ920822.2',\n",
       " 'GQ920823.2',\n",
       " 'GQ920825.2',\n",
       " 'GU065414',\n",
       " 'GU190218',\n",
       " 'GU190219',\n",
       " 'GU190220',\n",
       " 'GU190222',\n",
       " 'GU190227',\n",
       " 'GU190228',\n",
       " 'GU190229',\n",
       " 'GU190238',\n",
       " 'GU190248',\n",
       " 'HQ184052',\n",
       " 'HQ184053',\n",
       " 'HQ184054',\n",
       " 'HQ184057']"
      ]
     },
     "execution_count": 15,
     "metadata": {},
     "output_type": "execute_result"
    }
   ],
   "source": [
    "data[0:20]"
   ]
  },
  {
   "cell_type": "code",
   "execution_count": null,
   "metadata": {},
   "outputs": [],
   "source": []
  }
 ],
 "metadata": {
  "kernelspec": {
   "display_name": "base",
   "language": "python",
   "name": "python3"
  },
  "language_info": {
   "codemirror_mode": {
    "name": "ipython",
    "version": 3
   },
   "file_extension": ".py",
   "mimetype": "text/x-python",
   "name": "python",
   "nbconvert_exporter": "python",
   "pygments_lexer": "ipython3",
   "version": "3.8.8"
  },
  "orig_nbformat": 4,
  "vscode": {
   "interpreter": {
    "hash": "eace1a3d2d18dcb98353cfeb529f20792ec64dcc10ba0bdd358326e3f660811b"
   }
  }
 },
 "nbformat": 4,
 "nbformat_minor": 2
}
