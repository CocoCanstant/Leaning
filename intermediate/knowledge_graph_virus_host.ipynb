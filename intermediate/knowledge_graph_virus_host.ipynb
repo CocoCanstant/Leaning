{
 "cells": [
  {
   "cell_type": "markdown",
   "metadata": {},
   "source": [
    "数据处理：host，virus的NCBI记录为FALSE的除去。"
   ]
  },
  {
   "cell_type": "code",
   "execution_count": null,
   "metadata": {},
   "outputs": [],
   "source": [
    "import pandas as pd\n",
    "\n",
    "with open('/home/bio_kang/virus_host_virion/Virion.csv','rb') as f:\n",
    "    lines = f.readlines()\n",
    "\n",
    "data_procession = []\n",
    "for line in lines:\n",
    "    if len(line) < 34:\n",
    "        continue\n",
    "    else:\n",
    "        data = line.decode('ISO-8859-1').strip('\\n').split('\\t')\n",
    "\n",
    "        if data[3] == '' or data[4] == \"FALSE\" or data[4] == '':\n",
    "            continue\n",
    "        else:\n",
    "            data_procession.append(data)\n",
    "\n",
    "\n",
    "\n",
    "data = pd.DataFrame(data_procession[1:-1],columns=data_procession[0])\n",
    "print(len(data))"
   ]
  },
  {
   "cell_type": "markdown",
   "metadata": {},
   "source": [
    "得到病毒宿主的分类信息以及taxid"
   ]
  },
  {
   "cell_type": "code",
   "execution_count": null,
   "metadata": {},
   "outputs": [],
   "source": [
    "data[['HostTaxID']]"
   ]
  },
  {
   "cell_type": "code",
   "execution_count": null,
   "metadata": {},
   "outputs": [],
   "source": [
    "import os\n",
    "import pandas as pd\n",
    "\n",
    "virus_ID = data[['VirusTaxID']]\n",
    "Host_ID = data[['HostTaxID']]\n",
    "\n",
    "virus_ID.to_csv('Virus_ID.csv',index=None,header=None)\n",
    "Host_ID.to_csv('Host_ID.csv',index=None,header=None)\n",
    "\n",
    "os.system('sort Virus_ID.csv | uniq | /home/bio_kang/software/anaconda3/envs/bio/bin/taxonkit reformat -I 1 -f \"{p};{c};{o};{f};{g};{s}\" -F -t > Virus_taxid.txt')\n",
    "os.system('sort Host_ID.csv | uniq | /home/bio_kang/software/anaconda3/envs/bio/bin/taxonkit reformat -I 1 -f \"{p};{c};{o};{f};{g};{s}\" -F -t > Host_taxid.txt')"
   ]
  },
  {
   "cell_type": "markdown",
   "metadata": {},
   "source": [
    "获得需要的完整数据"
   ]
  },
  {
   "cell_type": "code",
   "execution_count": null,
   "metadata": {},
   "outputs": [],
   "source": [
    "with open('Virus_taxid.txt','r') as f:\n",
    "    lines = f.readlines()\n",
    "\n",
    "virus_taxon_info = {}\n",
    "virus_taxon_taxid_info = {}\n",
    "\n",
    "for line in lines:\n",
    "    line = line.strip('\\n').split('\\t')\n",
    "    taxon = line[1].split(';')\n",
    "    taxid = line[2].split(';')\n",
    "\n",
    "    if len(taxon) !=6:\n",
    "        continue\n",
    "    else:\n",
    "        virus_taxon_info[line[0]] = taxon\n",
    "    if len(taxid) != 6:\n",
    "        continue\n",
    "    else:\n",
    "        virus_taxon_taxid_info[line[0]] = taxid\n",
    "    \n",
    "# write file\n",
    "write_taxon = pd.DataFrame(virus_taxon_info).T.reset_index()\n",
    "write_taxon.columns = ['Virus_ID','Phylum','Class','Order','Family','Genus','Species']\n",
    "write_taxon.to_csv('/home/bio_kang/Learning/graduation/Virus_taxon.csv',index=False)\n",
    "\n",
    "write_taxid = pd.DataFrame(virus_taxon_taxid_info).T.reset_index()\n",
    "write_taxid.columns = ['Virus_ID','Phylum_ID','Class_ID','Order_ID','Family_ID','Genus_ID','Species_ID']\n",
    "write_taxid.to_csv('/home/bio_kang/Learning/graduation/Virus_taxid.csv',index=False)"
   ]
  },
  {
   "cell_type": "code",
   "execution_count": null,
   "metadata": {},
   "outputs": [],
   "source": [
    "import pandas as pd\n",
    "\n",
    "with open('Host_taxid.txt','r') as f:\n",
    "    lines = f.readlines()\n",
    "\n",
    "host_taxon_info = {}\n",
    "host_taxon_taxid_info = {}\n",
    "\n",
    "for line in lines:\n",
    "    line = line.strip('\\n').split('\\t')\n",
    "    taxon = line[1].split(';')\n",
    "    taxid = line[2].split(';')\n",
    "\n",
    "    if len(taxon) !=6:\n",
    "        continue\n",
    "    else:\n",
    "        host_taxon_info[line[0]] = taxon\n",
    "    if len(taxid) != 6:\n",
    "        continue\n",
    "    else:\n",
    "        host_taxon_taxid_info[line[0]] = taxid\n",
    "    \n",
    "# write file\n",
    "write_taxon = pd.DataFrame(host_taxon_info).T.reset_index()\n",
    "write_taxon.columns = ['Host_ID','Phylum','Class','Order','Family','Genus','Species']\n",
    "write_taxon.to_csv('/home/bio_kang/Learning/graduation/Host_taxon.csv',index=False)\n",
    "\n",
    "write_taxid = pd.DataFrame(host_taxon_taxid_info).T.reset_index()\n",
    "write_taxid.columns = ['Host_ID','Phylum_ID','Class_ID','Order_ID','Family_ID','Genus_ID','Species_ID']\n",
    "write_taxid.to_csv('/home/bio_kang/Learning/graduation/Host_taxid.csv',index=False)"
   ]
  },
  {
   "cell_type": "code",
   "execution_count": null,
   "metadata": {},
   "outputs": [],
   "source": []
  }
 ],
 "metadata": {
  "kernelspec": {
   "display_name": "Python 3.9.12 ('base': conda)",
   "language": "python",
   "name": "python3"
  },
  "language_info": {
   "codemirror_mode": {
    "name": "ipython",
    "version": 3
   },
   "file_extension": ".py",
   "mimetype": "text/x-python",
   "name": "python",
   "nbconvert_exporter": "python",
   "pygments_lexer": "ipython3",
   "version": "3.9.12"
  },
  "orig_nbformat": 4,
  "vscode": {
   "interpreter": {
    "hash": "e4c0b1c8e35d9f80793da27c1f09cec2906743a08f4271636815a29bc833a021"
   }
  }
 },
 "nbformat": 4,
 "nbformat_minor": 2
}
